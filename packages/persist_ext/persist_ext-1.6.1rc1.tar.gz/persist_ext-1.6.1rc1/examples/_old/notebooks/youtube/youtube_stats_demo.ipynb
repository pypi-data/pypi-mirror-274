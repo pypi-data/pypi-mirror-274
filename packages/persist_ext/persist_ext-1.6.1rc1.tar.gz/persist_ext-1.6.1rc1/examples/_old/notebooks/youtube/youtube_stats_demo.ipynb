{
 "cells": [
  {
   "cell_type": "code",
   "execution_count": 1,
   "id": "f1ec172e-25db-4506-a5bf-8bf13d8e1850",
   "metadata": {
    "__GENERATED_DATAFRAMES__": "{\"nodeDataframes\":{},\"graphDataframes\":null}",
    "show_aggregate_original": "true",
    "trrack_graph": "ᯡ࠽䈌ʀ匦㢠⹰ӠᬡⰤ瀱䀦<Ǹ˰喦ठ夐ೠࣤ綘͔㑾竈Ậ᳑ ㉪2攩њ㚜抄ᗉ橖㎂⇫䞺ἡ愠㑀Ј怼䠤傡%房☠ᮬ᡻䑁ᚍ沠ِÕࡒ䀡ᶼ䠠洠⻞䃱檄䏧殘䌥噐⠠㲸धڠᏃ∁烉㠩ဠⶬ᫸Ⲣгɡ⯍∰ⳤ⒞庪怭㍌थ㯢ᄠ徝έ▰⸍っ㕤䄁൐ᄰ㖠ᏠĄ宓磣㳛欰儷ឣ偬捾ᒲჰ惈ׄ嘼੕ấ䆤捥冀䢐㥤᱊༁惀яඉ婨䤸Մ夬炱䐤ॹ⹉ጢ⧩搸ኣ⁐䱶ᶩ掑㲞ࡥ玘wၤᙙ峲㩔䓧ㅪṕ❱ॺक़∹  "
   },
   "outputs": [
    {
     "name": "stdout",
     "output_type": "stream",
     "text": [
      "Loaded PersIst extension version 1.3.0\n",
      "Extension enabled for altair\n"
     ]
    }
   ],
   "source": [
    "import pandas as pd\n",
    "import altair as alt\n",
    "import persist_ext as PR\n",
    "\n",
    "PR.enable('altair')"
   ]
  },
  {
   "cell_type": "code",
   "execution_count": 2,
   "id": "dfecfb27-b5c0-46a8-aa60-e7b1e891f6b5",
   "metadata": {
    "__GENERATED_DATAFRAMES__": "{\"nodeDataframes\":{},\"graphDataframes\":null}",
    "show_aggregate_original": "true",
    "trrack_graph": "ᯡ࠽䈌ʀ匦㢠⹰Ӡ̬ƃ€̸ހୠඳ০〵䁇ൂࢀ㍃㔐ࢅ⨲⡹怬撴E䨲࢔ⳙի䩵埄櫽䮯ἡ愠㑀ᰡಁ癨ɰ䂠̂ெ;䘸෤့垌䈀Õ௵$犒‣㐡㫚㴧লഷ➤ം壡‡犀␼भᴥ䉦䅡惂ゑ㨠嬸ᗇѤ০Ң啺䑀ᦨ烽⇅䀺晹怪皥䈡㻚㻆惇༪悦梩Ǣ᪀㕶o#䦕搃Ϣ痌Ⅵ亾筮⧒м⥃Ⅹ⊑儒䐤㰸₱ጳͥɄ烑瀸䑘ପ˨剥दB㳋۲⁨恩የ㉤䙀r憑␸㘿ف䠴ᯩ⒃ᢌ̣䜂礜Ĩ┑瀠⮠␲ᵼ楖ᝃ挴㨱᫅Ᏼ੶䈢ಠ  "
   },
   "outputs": [],
   "source": [
    "df = pd.read_csv(\"youtube_stats.csv\")"
   ]
  },
  {
   "cell_type": "code",
   "execution_count": 3,
   "id": "d98c4d9a-749c-41dd-b589-919b249be245",
   "metadata": {
    "__GENERATED_DATAFRAMES__": "{\"nodeDataframes\":{},\"graphDataframes\":null}",
    "show_aggregate_original": "true",
    "trrack_graph": "ᯡ࠽䈌ʀ匦㢠⹰ˠ⬠ᰦ〱䎣౰ୠࣧᘡᢩ⁛ظ䐨㋠ᦣ䙐恇Ԡ౰㰇剪2攩њ㙜䋅擊毲㖎槧忀炠ᨰV䙄ㄖ␢⡠䀢焫匠෦ౕ戰獶㙣瀠媫檠Ԉ牠Έƕ㪚箃቏᝿࠸擑䅠Ȅ恨ᰠᬷʷ䖩一偊㎔Öᡫ⌨䐱䘩ӌ媨⇳ࢁ崲֠᫴壯甉ڤƝ㫝䚶⍞ዡ૾ण䁔懋ᘠ传ς旻振䔍Ɫ䒼ẖ䘳㈨ᱲ↩伀惁⅓␴䲧䩖檣ˢ♃劇狀塰ᜥ䇠ⓚ૽㒳扐≱㐹懣࠿惓ᱲ☷Cࢄ┺䏃壊ጽ␀иႱ㎨Î罀⢑㧄瑼䖬⦑ᔻn炩ⵌᐠ "
   },
   "outputs": [
    {
     "data": {
      "text/plain": [
       "(554, 28)"
      ]
     },
     "execution_count": 3,
     "metadata": {},
     "output_type": "execute_result"
    }
   ],
   "source": [
    "df = pd.read_csv(\"youtube_stats.csv\")\n",
    "df = df.dropna()\n",
    "df.shape"
   ]
  }
 ],
 "metadata": {
  "__CATEGORIES_META__": "{\"categories\":{\"Continents\":{\"name\":\"Continents\",\"options\":{\"_None\":{\"name\":\"None\"},\"Asia\":{\"name\":\"Asia\"},\"Europe\":{\"name\":\"Europe\"},\"SA\":{\"name\":\"SA\"},\"NA\":{\"name\":\"NA\"},\"Australia\":{\"name\":\"Australia\"}}}},\"activeCategoryName\":\"Continents\"}",
  "kernelspec": {
   "display_name": "Python 3 (ipykernel)",
   "language": "python",
   "name": "python3"
  },
  "language_info": {
   "codemirror_mode": {
    "name": "ipython",
    "version": 3
   },
   "file_extension": ".py",
   "mimetype": "text/x-python",
   "name": "python",
   "nbconvert_exporter": "python",
   "pygments_lexer": "ipython3",
   "version": "3.8.17"
  }
 },
 "nbformat": 4,
 "nbformat_minor": 5
}
