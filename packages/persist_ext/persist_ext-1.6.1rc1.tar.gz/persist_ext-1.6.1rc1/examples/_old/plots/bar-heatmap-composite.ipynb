{
 "cells": [
  {
   "cell_type": "code",
   "execution_count": 1,
   "id": "d19b7845-d3f2-45c7-baa3-a885747ecc07",
   "metadata": {
    "trrack_graph": "ᯡ࠽䈌ʀ匦㢠⹰恦8Ā࣠䌻〶䌠㍴☰֠✠♉ݺ嚡䚦瀽䁓᜶岚䀭亽Ҳ⠠䭈⑀棑瀶ፁ⍾凓᭮ẜΦ䒠ǁ#㗭䌸晠ኤРᝣ夠湐怾Ⴁ忘狠ˢ㣪$疒‣㐡㩦挸௅儽҂愭懸惀ĒいႳጰ⵩䕴捱డ㙐㭼㢨ᜬथ⯐䡣㌱ᅦ汻U䳗е漨䐢粬絭ቾᶢ්ሧ҉䃵氡Ḡݥ䞿䘥䗺墠䧚Ჽ㤑䦉޷ᚺ䮭ↄ偒ѹ塼⩜㩁ጶ䛋䐲猩㥈ቕǧↈ䜪滑䦲ᡊ⣒กᆨе姼夦Χ您剙գ倸♋໦熘縰䉃ࢲK䡂਼ṙ̸厂⩜㵨█⓽ᲲĬ䀠 "
   },
   "outputs": [
    {
     "name": "stdout",
     "output_type": "stream",
     "text": [
      "Loaded PersIst extension version 1.1.0\n",
      "Extension enabled for altair\n"
     ]
    }
   ],
   "source": [
    "import altair as alt\n",
    "from vega_datasets import data\n",
    "import persist_ext as PR\n",
    "\n",
    "PR.enable('altair')"
   ]
  },
  {
   "cell_type": "code",
   "execution_count": 2,
   "id": "2444a4ba-060e-4742-a0e1-ac053f1e7a11",
   "metadata": {
    "trrack_execution_spec": {
     "$schema": "https://vega.github.io/schema/vega-lite/v5.8.0.json",
     "config": {
      "view": {
       "continuousHeight": 300,
       "continuousWidth": 300
      }
     },
     "params": [
      {
       "name": "param_1",
       "select": {
        "encodings": [
         "x"
        ],
        "type": "point"
       },
       "views": [
        "view_1"
       ]
      }
     ],
     "resolve": {
      "legend": {
       "color": "independent",
       "size": "independent"
      }
     },
     "vconcat": [
      {
       "data": {
        "url": "https://cdn.jsdelivr.net/npm/vega-datasets@v1.29.0/data/movies.json"
       },
       "layer": [
        {
         "encoding": {
          "color": {
           "aggregate": "count",
           "scale": {
            "scheme": "greenblue"
           },
           "title": "Total Records",
           "type": "quantitative"
          },
          "x": {
           "bin": {},
           "field": "IMDB_Rating",
           "type": "quantitative"
          },
          "y": {
           "bin": {},
           "field": "Rotten_Tomatoes_Rating",
           "type": "quantitative"
          }
         },
         "mark": {
          "type": "rect"
         }
        },
        {
         "encoding": {
          "color": {
           "value": "grey"
          },
          "size": {
           "aggregate": "count",
           "title": "Records in Selection",
           "type": "quantitative"
          },
          "x": {
           "bin": {},
           "field": "IMDB_Rating",
           "type": "quantitative"
          },
          "y": {
           "bin": {},
           "field": "Rotten_Tomatoes_Rating",
           "type": "quantitative"
          }
         },
         "mark": {
          "type": "point"
         },
         "transform": [
          {
           "filter": {
            "param": "param_1"
           }
          }
         ]
        }
       ]
      },
      {
       "data": {
        "url": "https://cdn.jsdelivr.net/npm/vega-datasets@v1.29.0/data/movies.json"
       },
       "encoding": {
        "color": {
         "condition": {
          "param": "param_1",
          "value": "steelblue"
         },
         "value": "grey"
        },
        "tooltip": {
         "aggregate": "count",
         "type": "quantitative"
        },
        "x": {
         "field": "Major_Genre",
         "type": "nominal"
        },
        "y": {
         "aggregate": "count",
         "type": "quantitative"
        }
       },
       "height": 200,
       "mark": {
        "type": "bar"
       },
       "name": "view_1",
       "width": 550
      }
     ]
    },
    "trrack_graph": "ᯡ࠽䈌ʀ匦㢠⹰悆⨨怫lϐ〶䦠㘠䚥㏠⬬䈠牟キ盀Ơ❕竐檹❄倡ᙰ䡡劅恌↼劭ᵆ曌ᷚ簔ठ͢&怰晦ὤ䁅ШN嶲üモ湁ӓ㞀ᣠˤ㽴3䧩-儧〡䱩琱汜͑䒲䵩敤ሻ姈㢤ᰨ䱕ᶳ槯ⅆ危だÚ㶝ృ䳱໧唒ػⲀ倠祐ቜ厧ƣ䇧ゃ娈ᠸ㴠ⶬ᫰求ѓɡ柌∰Ụ࢕␬䖀ے丸З↵ố涂ᢉ盐↌省⭐؋G䀡朚爑䊙筏䈢ፘ皛რ檩扷ᔩ悁᱌฾恑⡔እϑ妚༩揥⡈䜣Ā䕒ɋ䧹Ἷ䉢棠浗崈昉ᆈ噅⁄摄䬢䧄᥌䝇䠴䔲䳁⭀⁑ɢ擤焮⮳柅ᦌ坏䨵䕲峇ㄸ☦䐠ĨȠ⮼฀(灳6墌癚䧢炠᛺弎夕䵿ῤઍ孝ఌ㯺቉ᬯ䄱␪ફ⁐䰶ඥ愐簡࡬櫕济厇栬䌱䜩抅卹庎ᕌ⭖嗶㨈笨ᄌ㪼佫冀ࣼ眧峘疨〠ᑢᏫ溯⠪¢宦堠㭛歏㵝眚繀Ὶ戓䆰桴¡㸲ၫ牒㲏⿍圐␠㴵ᏙA絁博㫍㌅招⽼෶犛倗圡祋棯௤䧧ጐ爩ԁᐤ┐䐶ԁ₁ϥᰲ⑐倮աذ攐搮́吨ל⁊炰炘䗽噋焠޸ѐ㍂睜㎿倨摠߰悸❣廘⨧懓侔ṷ开凿屲㢾ᨥȠᳱ熤#敱璃慃Ű⮁ᦆᬁ烛̚ྛɀ怠ༀ䅟⑋拢㪵合啥䊐劺扴䜶糟ਃ㎷ࠠƅؠː䀡ᚨĂ✨ၨ=⼣娠䏳丫䏓繠⭇Დ̠≠溣͹غᑨ拀掕༹㑁ེ檚䯱ᤰ1Ⱗ␸摰潃䍅Ժᡔ场㑤昂ഠ䘈ᶉ⛫抚ࢳቴ䣋礵⑋啱⦥  "
   },
   "outputs": [
    {
     "data": {
      "application/vnd.vegalite.v5+json": {
       "$schema": "https://vega.github.io/schema/vega-lite/v5.8.0.json",
       "config": {
        "view": {
         "continuousHeight": 300,
         "continuousWidth": 300
        }
       },
       "params": [
        {
         "name": "param_1",
         "select": {
          "encodings": [
           "x"
          ],
          "type": "point"
         },
         "views": [
          "view_1"
         ]
        }
       ],
       "resolve": {
        "legend": {
         "color": "independent",
         "size": "independent"
        }
       },
       "vconcat": [
        {
         "data": {
          "url": "https://cdn.jsdelivr.net/npm/vega-datasets@v1.29.0/data/movies.json"
         },
         "layer": [
          {
           "encoding": {
            "color": {
             "aggregate": "count",
             "scale": {
              "scheme": "greenblue"
             },
             "title": "Total Records",
             "type": "quantitative"
            },
            "x": {
             "bin": {},
             "field": "IMDB_Rating",
             "type": "quantitative"
            },
            "y": {
             "bin": {},
             "field": "Rotten_Tomatoes_Rating",
             "type": "quantitative"
            }
           },
           "mark": {
            "type": "rect"
           }
          },
          {
           "encoding": {
            "color": {
             "value": "grey"
            },
            "size": {
             "aggregate": "count",
             "title": "Records in Selection",
             "type": "quantitative"
            },
            "x": {
             "bin": {},
             "field": "IMDB_Rating",
             "type": "quantitative"
            },
            "y": {
             "bin": {},
             "field": "Rotten_Tomatoes_Rating",
             "type": "quantitative"
            }
           },
           "mark": {
            "type": "point"
           },
           "transform": [
            {
             "filter": {
              "param": "param_1"
             }
            }
           ]
          }
         ]
        },
        {
         "data": {
          "url": "https://cdn.jsdelivr.net/npm/vega-datasets@v1.29.0/data/movies.json"
         },
         "encoding": {
          "color": {
           "condition": {
            "param": "param_1",
            "value": "steelblue"
           },
           "value": "grey"
          },
          "tooltip": {
           "aggregate": "count",
           "type": "quantitative"
          },
          "x": {
           "field": "Major_Genre",
           "type": "nominal"
          },
          "y": {
           "aggregate": "count",
           "type": "quantitative"
          }
         },
         "height": 200,
         "mark": {
          "type": "bar"
         },
         "name": "view_1",
         "width": 550
        }
       ]
      },
      "text/plain": [
       "<VegaLite 5 object>\n",
       "\n",
       "If you see this message, it means the renderer has not been properly enabled\n",
       "for the frontend that you are using. For more information, see\n",
       "https://altair-viz.github.io/user_guide/display_frontends.html#troubleshooting\n"
      ]
     },
     "execution_count": 2,
     "metadata": {},
     "output_type": "execute_result"
    }
   ],
   "source": [
    "source = data.movies.url\n",
    "\n",
    "pts = alt.selection_point(encodings=['x'])\n",
    "\n",
    "rect = alt.Chart(data.movies.url).mark_rect().encode(\n",
    "    alt.X('IMDB_Rating:Q').bin(),\n",
    "    alt.Y('Rotten_Tomatoes_Rating:Q').bin(),\n",
    "    alt.Color('count()').scale(scheme='greenblue').title('Total Records')\n",
    ")\n",
    "\n",
    "circ = rect.mark_point().encode(\n",
    "    alt.ColorValue('grey'),\n",
    "    alt.Size('count()').title('Records in Selection')\n",
    ").transform_filter(\n",
    "    pts\n",
    ")\n",
    "\n",
    "bar = alt.Chart(source, width=550, height=200).mark_bar().encode(\n",
    "    x='Major_Genre:N',\n",
    "    y='count()',\n",
    "    color=alt.condition(pts, alt.ColorValue(\"steelblue\"), alt.ColorValue(\"grey\")),\n",
    "    tooltip=\"count()\"\n",
    ").add_params(pts)\n",
    "\n",
    "alt.vconcat(\n",
    "    rect + circ,\n",
    "    bar\n",
    ").resolve_legend(\n",
    "    color=\"independent\",\n",
    "    size=\"independent\"\n",
    ")"
   ]
  },
  {
   "cell_type": "code",
   "execution_count": null,
   "id": "4911364d-9e83-4c50-8343-05dd2b009ef6",
   "metadata": {
    "trrack_graph": "ᯡ࠽䈌ʀ匦㢠⹰ڀ㌠Ⱐム䘠㡰ୠრ㬴Ÿ䞃ୂʐɐ۠ᣨ孉犥纆烁ᎄ䨠ዪन㩺˥擈椇嚎槻坏㽡慀†汩ᣤ᪰ӁĠ׿␬W౐㮨⃎濻〡㌸㔠ʑ㥀ǔÚͣᎹ䤫昩ჸ惀Ēい⸫Ơӫ䟬匄᡹ᑌ̠ⶬۤ䩂Ńɠ檌戰䳤ѡ䦺怭ドሤ竣愠弣ë⡭䎀䄌䒡憺ゕᬠ➠ǹ㼋熣ㄗ噀拎筧ख़夤Ņፂ慓爒傈剈᭝̣ӫ䩂㎰䢈Ἤਪ灄ల䋣沋⛪⑨惩㋤㉥䙀⁺掓Ⓒฮ╀⣴ⴥ▀㡼༯䀱⛾5栶֮眬䶬ᆑ䔡ᣢᏴ劖䅩ಠ  "
   },
   "outputs": [],
   "source": []
  }
 ],
 "metadata": {
  "__CATEGORIES_META__": "{\"categories\":{},\"activeCategoryName\":\"\"}",
  "kernelspec": {
   "display_name": "Python 3 (ipykernel)",
   "language": "python",
   "name": "python3"
  },
  "language_info": {
   "codemirror_mode": {
    "name": "ipython",
    "version": 3
   },
   "file_extension": ".py",
   "mimetype": "text/x-python",
   "name": "python",
   "nbconvert_exporter": "python",
   "pygments_lexer": "ipython3",
   "version": "3.8.16"
  }
 },
 "nbformat": 4,
 "nbformat_minor": 5
}
