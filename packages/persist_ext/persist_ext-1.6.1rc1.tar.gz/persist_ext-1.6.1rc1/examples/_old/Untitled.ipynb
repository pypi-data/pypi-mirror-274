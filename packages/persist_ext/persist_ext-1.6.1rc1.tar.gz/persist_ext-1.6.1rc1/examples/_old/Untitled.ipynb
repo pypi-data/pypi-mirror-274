{
 "cells": [
  {
   "cell_type": "code",
   "execution_count": null,
   "id": "6694c477-5e96-47d0-bb5d-798952599c69",
   "metadata": {},
   "outputs": [],
   "source": []
  }
 ],
 "metadata": {
  "__persist_nb_uuid__": "12cd4ec5-99ae-4dcd-8f7d-7fe6effc36bb",
  "kernelspec": {
   "display_name": "Python 3 (ipykernel)",
   "language": "python",
   "name": "python3"
  },
  "language_info": {
   "codemirror_mode": {
    "name": "ipython",
    "version": 3
   },
   "file_extension": ".py",
   "mimetype": "text/x-python",
   "name": "python",
   "nbconvert_exporter": "python",
   "pygments_lexer": "ipython3",
   "version": "3.8.16"
  }
 },
 "nbformat": 4,
 "nbformat_minor": 5
}
