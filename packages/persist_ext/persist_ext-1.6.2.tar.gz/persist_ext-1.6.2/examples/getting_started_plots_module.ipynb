{
 "cells": [
  {
   "cell_type": "code",
   "execution_count": 5,
   "id": "29438e80-4b74-4689-9c38-1e50d5fb6fd7",
   "metadata": {},
   "outputs": [],
   "source": [
    "from vega_datasets import data # Load vega_datasets\n",
    "import persist_ext as PR # Load Persist Extension"
   ]
  },
  {
   "cell_type": "code",
   "execution_count": 6,
   "id": "3d60ad97-bfcf-4e0b-9689-4cea5ed25702",
   "metadata": {},
   "outputs": [
    {
     "data": {
      "text/html": [
       "<div>\n",
       "<style scoped>\n",
       "    .dataframe tbody tr th:only-of-type {\n",
       "        vertical-align: middle;\n",
       "    }\n",
       "\n",
       "    .dataframe tbody tr th {\n",
       "        vertical-align: top;\n",
       "    }\n",
       "\n",
       "    .dataframe thead th {\n",
       "        text-align: right;\n",
       "    }\n",
       "</style>\n",
       "<table border=\"1\" class=\"dataframe\">\n",
       "  <thead>\n",
       "    <tr style=\"text-align: right;\">\n",
       "      <th></th>\n",
       "      <th>Name</th>\n",
       "      <th>Miles_per_Gallon</th>\n",
       "      <th>Cylinders</th>\n",
       "      <th>Displacement</th>\n",
       "      <th>Horsepower</th>\n",
       "      <th>Weight_in_lbs</th>\n",
       "      <th>Acceleration</th>\n",
       "      <th>Year</th>\n",
       "      <th>Origin</th>\n",
       "    </tr>\n",
       "  </thead>\n",
       "  <tbody>\n",
       "    <tr>\n",
       "      <th>0</th>\n",
       "      <td>chevrolet chevelle malibu</td>\n",
       "      <td>18.0</td>\n",
       "      <td>8</td>\n",
       "      <td>307.0</td>\n",
       "      <td>130.0</td>\n",
       "      <td>3504</td>\n",
       "      <td>12.0</td>\n",
       "      <td>1970-01-01</td>\n",
       "      <td>USA</td>\n",
       "    </tr>\n",
       "    <tr>\n",
       "      <th>1</th>\n",
       "      <td>buick skylark 320</td>\n",
       "      <td>15.0</td>\n",
       "      <td>8</td>\n",
       "      <td>350.0</td>\n",
       "      <td>165.0</td>\n",
       "      <td>3693</td>\n",
       "      <td>11.5</td>\n",
       "      <td>1970-01-01</td>\n",
       "      <td>USA</td>\n",
       "    </tr>\n",
       "    <tr>\n",
       "      <th>2</th>\n",
       "      <td>plymouth satellite</td>\n",
       "      <td>18.0</td>\n",
       "      <td>8</td>\n",
       "      <td>318.0</td>\n",
       "      <td>150.0</td>\n",
       "      <td>3436</td>\n",
       "      <td>11.0</td>\n",
       "      <td>1970-01-01</td>\n",
       "      <td>USA</td>\n",
       "    </tr>\n",
       "    <tr>\n",
       "      <th>3</th>\n",
       "      <td>amc rebel sst</td>\n",
       "      <td>16.0</td>\n",
       "      <td>8</td>\n",
       "      <td>304.0</td>\n",
       "      <td>150.0</td>\n",
       "      <td>3433</td>\n",
       "      <td>12.0</td>\n",
       "      <td>1970-01-01</td>\n",
       "      <td>USA</td>\n",
       "    </tr>\n",
       "    <tr>\n",
       "      <th>4</th>\n",
       "      <td>ford torino</td>\n",
       "      <td>17.0</td>\n",
       "      <td>8</td>\n",
       "      <td>302.0</td>\n",
       "      <td>140.0</td>\n",
       "      <td>3449</td>\n",
       "      <td>10.5</td>\n",
       "      <td>1970-01-01</td>\n",
       "      <td>USA</td>\n",
       "    </tr>\n",
       "  </tbody>\n",
       "</table>\n",
       "</div>"
      ],
      "text/plain": [
       "                        Name  Miles_per_Gallon  Cylinders  Displacement  \\\n",
       "0  chevrolet chevelle malibu              18.0          8         307.0   \n",
       "1          buick skylark 320              15.0          8         350.0   \n",
       "2         plymouth satellite              18.0          8         318.0   \n",
       "3              amc rebel sst              16.0          8         304.0   \n",
       "4                ford torino              17.0          8         302.0   \n",
       "\n",
       "   Horsepower  Weight_in_lbs  Acceleration       Year Origin  \n",
       "0       130.0           3504          12.0 1970-01-01    USA  \n",
       "1       165.0           3693          11.5 1970-01-01    USA  \n",
       "2       150.0           3436          11.0 1970-01-01    USA  \n",
       "3       150.0           3433          12.0 1970-01-01    USA  \n",
       "4       140.0           3449          10.5 1970-01-01    USA  "
      ]
     },
     "execution_count": 6,
     "metadata": {},
     "output_type": "execute_result"
    }
   ],
   "source": [
    "cars_df = data.cars() # Get the cars dataset as Pandas dataframe\n",
    "\n",
    "cars_df.head()"
   ]
  },
  {
   "cell_type": "code",
   "execution_count": 9,
   "id": "858eba84-fefd-458e-bb16-75543482dbb0",
   "metadata": {
    "__GENERATED_DATAFRAMES__": "ᯡࠣ䅬Ԁ朤壠ᜣ琢〹夢゠⹰〮⁁䁻қ䚾ኊ㇠നСࠩ瀮晼Ƭ穅5愠៤⠠ ",
    "__has_persist_output": true,
    "trrack_graph": "ᯡ࠽䈌ʀ匦㢠⹰ۣ¸ɐᖽ琰恍S,㴨ˣ፭ࠀΥㆥ‹䁛ԡ䜛࠱䞪β⠠䭈⑀棒瀱ᝎ䕦仃㍶乜紧匩#℠Ώ䦦ࣴ䁅ШǸ〡岁䏼ℭ㞁箠ָ冴)欄䀦梢ㅩᢌ湬㼱ኧ䋩┅ሰřʔ㚜੟ᬪá曠玐䐡㪦⎇㦲ᒰ淢࿥壡‡犀⒞ݟԲ俠抃ダ㉓ؠ嬸ⷞᑤྦҡ仹䑀嶨ナ摭䀺慟䈩澤⨡㺦ε煞᮶悡嫻䍌愇㘠传ϓ揯挭懿㱠扗Ǥ琀ᚄСᅩ碌ᬯ৐摢ථ䃠᥊ᮦ扱琸ᒤₐ氦ᒬ⁐ᦌኡ䪁㍣ฉ票䴸׌碽䳣੃৤ॊ᥅⇅ᦌ䤷䠴䔲䳂ၢ傯ර௥঎㕁揄奌䨵䕲峀炸暐␠͋䳟⭪ ࠠ夠帠Њ㹡ᗀܳʬ㖩倠傐⛻Ȣ㟁簠኿⅔Ċᠸ䀧ᬙ㙋⠵㔹ᡘ෶懑㡯㯹⎀氬俰狵䂯ศ㓼㺟၂ௌᄸᾡ䜰撎ᖩ⌰偊ή䃁ѓʾ洴れ̹Ⅱ墜ᚅ寜ݷᷭႀ㡜ࢦⁱ呺Ấ惑汎ហᄨ≦姌㚕嵾忈ᢅ␴ᒬ㹭卹䈰奌⵵峕媁㮝儌㦽獀匍㫽䝣มრ4⍹൛䨡 ఘ䀠ଆ@將精௡磞ࠪᶌᾢӡ㡪@㯥ၢ㯢㇘㏨ㇰ澥ဠ㴭ᕂ⁈ቑ傊ࡌ㔱㍙㢞ऑґස摵થٝಃ僅ᠫ㇍ᥞƠ⤪٭淗ـ梦h᱑ࠉ栲㝠※ठ碔ኡሹঈᑧ䓃ʍདྷ猥凈瀭冠盃剑仙㄀=ፐㄒ嬥ၞ㟭ᄜὧ⃄ᗭ೥ඥၩᵲ汁屔䛱䰥䜑层⛘ᗬ僞嵳神㬧椉䂵㧅ᵌ౅ᔁ榚⏧怦⇥燆Ⱗ恳ନㅬヒ穡᭯椌㽬ᦈ㣪冯ȡҭ⡨泀ᘫ࠳䇦ႂ᳢䂗౅s⚊䣶㫵娮䧳⳥䜓吾 硘ᩊ揕ך㘤⤦ᑦ⣦᧦б匘淗⫝̸υԽᎫ㎹㧌ᇙཋ斅ὀᔥჃᆥࣅť紬ህؠ咐⋝Ⰸᓝǅೄ初氢劼厣圉๞ㅵ⍖悹ဲ䚀₺נ弪樽Ōଭ䡭揹穛▌ᾯ瀢⁶扸楊⃨槾⇮┡㫈旣⇎洳㯕挶厢總究櫶寶䛹嫖盵ৰ䰻嬖䱠㤮㦢⩘⫡ੋ⠡奖䨥姖໣ⶋ㻷⵲挴愍絥嗔獲櫹㗑杙㝽΀哤栲ø᪦䯞ᙅӵ氐䨬砧㾔䮆䌷ᡮ晈欶¸ኤඤΐȺẈ䈵⦂⒳ƂؽƄ䈢峀⊸နᐶ䁘ื健廩⊰⸰Ⱞ唧厀䈻䀹ำπ望晰渤®㇯ᩤ梺⪒⒡┒կ䭊岵⬪൫㤇ᷭ刎䐧刔Ƥ䢾ಥ௦㇬ᯮ懾䷞狒柠焼箽硼ㄪ烼㧁瀡恘䊡㦯ȯ挤灲տ優ᥒ૲ާⅬᇆ灯ᩘ恤〨䗎ު竉䰕ࡤ兲͒媏´⿡ш㓞ᩚ䡔ᡐ✡ἴݠ牦ᠬٵ㣫䓰㫈ゑᦀ䰡惜ઊ㠨⅘ቢ䠾ᵈᗩ䙙ʂ✦恦๡吲⋌ᡬ絵啘㜤㺷ࠐ¬ₜ啀ɨ⩈楃壼呠ᦦ摡ᤳ┰烎ॱ尺ℊ᭣⹿৫䆢о䚕✱ℎᎱ匾㊴↔煺瘃ᢧ悐椨䢮ḭጒ⤺煒ả牔擜⟥⺢⣽㼬Ӳমਵ⇧䍢瑘ూュ屫Ҹ唲碵唖筎婮⛐Ŏ䘐⤢㒖䛣⺭擃ຩ伿䆴≲癡摖䰣ን╕₮छའ䜷癭ᾳ䙇咂㢻碿◳ᬥ∱ᝪᘤᱰݸ䤩ᅒҙ篞͆٠瀦ࠞᠤ䡈೬睷爞ေ尷ᬰདྷ乙ּ䔬傫䛀⮳⇷ݡ瑛烴஧ʔޜ崏䄙旡נ冫䇙䮥㰐ᖓὺ犀ጉ䄚楁弯ḅෑஷ኷℧ᝪ盎塿⺭浰价⣙䊀‫䊺⪑屗㜺ᠡᣗ⤀⸦㳆䣢娻⧽ړᙈᔼ㋡ᴒ沍␮奭奸ⷊ孻ក〾揖䇠眔䣨ᴽㄯ儐侧ƿᬤ彋攠ᰌ夗䔤侢ĖᨘႧ熞᠒䆟斠䀀İ䐣ᬰ憀䛵ㆨɜ␨䉣冡ᚧƝᎤ䡕捩◠㱵ળ㥔卣匹㽲椪ၔ䲿⊸㚵䥤㛵㵶䚷௩烰ෑ፲捊Ᏻ㢻⧌曁㍍㌃刕㲽䶥᪄㍒摜ὂ怨䥶ᖔ偁拀ನ渒↰Ⱓ䂀Ƴ瀤⮰ಓも桑䫍橕ⱬ倬⁢܀番╨Ц䆛Κ㎶暷᧭峺嬎⚐ᑜ烈ጇ⡵拰෫偂ؓ勶叿᧛硋㬇℠眺ી漏⃝濽ϸ㵧䉈⟘兂䠠廋澎伏㶐䤚┹箤ᘖ凘禊ᅊ䠣ↂ据癖⧳敇泃务控̧㱯ܻ嘖䨠ᠡ扑䍑᰹㲑⑅៸㭍ᙌ炨戫恼ৌ氵䂖⎡⠰⭌祂䊫む犣ѣ䷡β㲬䞵␿ᓶÊ⮓㓖㖉沺態嫿姅⟢矜堎ሒṫ潞ᐮ嗷棑㟥㈏囷㙞哞ఔ汗甜ဍ糿栙㿤խ㫵䁡俺䎼㬇ⶈ⠺䋐ᅥ灛樬㧄獹䙈䖯惾ੁ㔳ᶨୢ̭ᗢ䔣稩狰壦㢲氓狾憡㳃䆏䏌㱌ࣻ䮀┩禝䪑⳾燉〶凈ᚘ㕤汻䠬ὥ穓悱ዐ⦳᪃晃ᛊ櫧咔㫙㼣瘄ℹⓛ球Ⴛ䓮፣埦ኟ䖥纍咺௫ˑ溣㳶ፔ㯘ㆫ㱤汄䒕瓊沫縭େ䜶契ᙶ璏圇Ҕ埖瓊䯻嫗歔ᦚᤩ嚃㩦䬋ⴴ孪巒伖䪽䯓ゝ䉏堘ଋ湤篻ⷪ槉༯䮜㹽ᒳᅐᢡ篃㓀ᾐへʌ⢥Ā唠昳ǘ᫦ᝮ㬘㧯㍋䭽䧫Ⴛ偌佘ⴗ⸇䖱癫㟩浖ޜ᩟䂔㻡ಓ䁸梳桛བ᜸瀾Ộ繙絲׮㴁䛀ব׻๷✾爉Ⰳލ哮怡剈ᮀ⚬䟉㗁楮㉒䔄᜛ᝮ䩐粢㉦ḧ篳ᬖ潷㨡恎ơ産ሎ̳淘ಷ㠵ℓྶ⍧☊樋懳浿厯䔝⾼έ⋭泡侺倵妿染⡄獦嬆弴ý㊆㵳᢭㉻䜟⭋⃱♴挔懞ᰜ掦ތ㗆奻唦勏጑笹忲枟朓⫔䁙巕➛ᘈ䀉༨偕塩תĚ缗呇䦑欣⦘䓠ᬃÝಛ意౧ⶦ⣘癮庺璐忆厺⠄狛坖犉羺Ṱ嬎毫ୣ洙檪㶨ॠⲰ抌ʒ秝斎惑溷䴶ϱ禍玐ᨨ䄤ጯë䇙㴏ឞ㯅ၽ砬᜵㦫䵽粂㡀  "
   },
   "outputs": [
    {
     "data": {
      "application/vnd.jupyter.widget-view+json": {
       "model_id": "bf548773ec254e7da9f1f15856f6bd26",
       "version_major": 2,
       "version_minor": 1
      },
      "text/plain": [
       "PersistWidget(data_values=[{'__id_column': '1', 'Name': 'chevrolet chevelle malibu', 'Miles_per_Gallon': 18.0,…"
      ]
     },
     "execution_count": 9,
     "metadata": {},
     "output_type": "execute_result"
    }
   ],
   "source": [
    "PR.plot.scatterplot(data=cars_df, x=\"Miles_per_Gallon:Q\", y=\"Weight_in_lbs:Q\", color=\"Origin:N\")"
   ]
  },
  {
   "cell_type": "code",
   "execution_count": 8,
   "id": "fdcf84fe-438a-4651-ae30-a3a1545a3073",
   "metadata": {
    "__GENERATED_DATAFRAMES__": "ᯡࠣ䅬Ԁ朤壠ᜣ琢〹夤゠⹰〮⁁䁻қ䚾ኊ㇠നСࠩ瀮晼Ƭ穅5愠៤⠠ ",
    "__has_persist_output": true,
    "trrack_graph": "ᯡ࠽䈌ʀ匦㢠⹰怶ìʀᖠ發ɐୠγᓉൠ̠䘡䳄ђ䵱岹ၑ垕⥝⺺䘲⠠䭈⑀棑爵ᝉ⍡始㭮ẜʤ䐡傠ǒぃ′䈤7࢝ᠠ湐憎Ⴄ姗㈫䀥䱡吠৹撠۱ǳ㇐ె≎㙝ப你ԀǑࡲ㲸䳎⩍ጫӫ䗀Ⴐ䀡㬚ͧ⦲ᪿ◬આ壡‡犀⑺ॺ㽄䉪䅁⚃樔Öᢋፈ䐩䘩ھ妨⃛ࣁ⪰ĵ䀺湔搩涤⨡㼚Ѕ稳஺悮峻䅌䖰⃶o#娛搃́沜ၑץ灘䱓؁ᅨ䱈䂠愨䒚ጣÄ呎ẩ⅐りম揰②ᢍ䋀⤢ڏ叜彉ৃÔ∳䆿剥冚ᙏ੅䦔坋䄄妜僉䌵▒刹ᇙ䲸䘧ࡄ䥴ᕁ䦄㳼徴⢴敏࣢ぢ†ᥴ搚婰 䭢ᬡ悕䒎崢࠼ܢᨠ慗䃬ۡĤỤ炢湘έ㦙㺟ࡂௌ⁴ᜣ怰禔ࢨ⯰㈐窦憄楄圥˰屬ன揀䣩ᎁ砽乷ᩡ䄁碂ಡⅰ瑦Ң懐᲎ឯ戩䈠秈㚕嵾忂䢱璊Նᢡᎉ嚏ᩌⴵ䶁尉嬨ྀ㤽睓予੽坻夏几ሸ*ᝣ倦巴ʠ⃛䠠֓ŏ揚礓历䪗摾妜傘ᘵ@ྴ䘨ἱ䌀稨Ĝ㸴䀡璏尐ᡗ尅穕ῳᲟ䀫㡠␫İ㨪䌚ష䇿᪣⑩䓅ᓄᔡ䁲唢䀼ፅ悘ࢠ␤ጤᑰঠぬጡÈ␧绰䨤䤚ܫ㡰₨←≩㱮䗷幐ᷳӈᎀ㠦 ⤢潯稤忤é坾◼吤犼䙭Щ⅜Ӕ䡔■☲㉩䑏歸࠻✑繍惐ୄ⒠⡑烙ぜ❜傴Ǿㄴ妘琬⊸⠮猥ဲᝥ⤯◩Ց儘⧮凘#昂惗࢘礅Ḩჸ哇೗ấ晡ᘃ㳈ၢȻ朠簠࿋А煾籔涬㋲忠Ӛ禣ǰᒣ။㲭Ⲵᶊ傻ڪ淔ގ岊Ꭱֈ㬎ൃ㒋ഓʋ䂳⹪䷸څ䲓ध䷨⳥Ӽ㫸⅖岃嬖䪆䲮皋专یㅒ滄狺ᇉ䃭᝿㗍⷏㖲寁痄៊Ⲱ䇀ജlइ㱻⇣☭惀⤨ᤸ㹡抨Ī恒ጢ䦈ᐮ⃘᥂ゆ↌ⷝѫ⃂Ⓧᑙ᳅攵⽇䠪⫌ᕛⵍ泶ཫℚ⴬ᤧ࣭䁆ᓣ᡾ᔃょ⫭㴷㌈㤿㧩峤ᗣ㦂䏠㶯⨁垆Џ㨔Ḁ㙖ᐄ祿⟮籺᠎橁᱾狊垵㏀徼ࣀ洠玆⡾ఔɰং栧盥⺼瘔橳硒盃䩉◕ဪ佲Ģ汶䡬溦㉜畼Ꮍ梸૤媵櫀䮾睝璺๲左䥬弹⭜䵽亜溚ج熛㛄斖俋怳Ơ痭䐋吷䌳䝲ᬉ紭䕰şℤ涂䦐⹛愇娤ᶈ̯愘⒠侜὾㑼⃼᫼⣷჋⊫ⱴΆ冻⚦沔༽⦊щ䇷㨬䚙ᩑ䜅ᔫₑ幜⊨⅜❩岺椥欧㐑⍗瀸ဍ䛔஭磯粩䒹‹ᢝ㥄ᠯ围㵬䊦䒉琿瑍္ᩐᩚᦓ͏׈᪍ܞ䚴䆡ೢР䠡Ǆथ怴䛠⒮䀤ච氵ǐ͒㉆ǰᄡ䁽匀、抸ڰ〠䃜ઘ䩒Ꮖᄢ䂂♀吪扄র⎠䳤ⷀ䠴₰ణ⑪䋮Ҋ⳷┸ᠫ㘃ઢ盒㆐Ƿ♬憚叆窭׸洧夰Ὰא墲ү଩抶֣᛫ݍ۫㆖ᾁᖺ烋ᜃ歐俼堣嚇俌垬Ꭽ商䶾玻௣敫ᔜ䡋㙚ℍ㗫᷌᫨糋壠ᐶ煶皘჆╀ᅪᘝ䝩β⢰䆵䍨犰椊磑澵ն厂嬢叚㩛ᶓᔈᗮᕎ制䡽ĺ剫吡ᮢ䩀㘢垂䳮㲾⦂⇴偵㌀আ橲䞐㭬ᘎ䦻妣栵咷屄⮫堪ℬᔣ瑴♈⠮兿ᖩ䓭ᇰᢀ垰攜㜐ു儺狤㸪͹䨾夻ᵠ嬶䏖㵃待剠種尬ᓢⱍ䊨Υ㡵̐䰩ౡั横ᅬใቚ⍥੡㆓ې第焎੅縺╂ᙂԺ䯾䭰ⰬάТ㢃Ⓛ氶ଜ席摔奂䃢婖䭰籑ڙ擒ጵႀᬜ尽ീ⬹㾬ԟŐ⃠ॡ溇␽߬綨Ⱗൂ柎И擕㉸姯ᘱዙ䫣㦂➓抖墾㉩㰳㓸璶痯䫰ᛪ䣼А涰移㣮С⪐殽̕⣴⵶ъ䯙捿㥬梴哻熭繸ᖹ寓㙾擳⌫玜㚴滫峲椠䮺ȩ婄浪᫄幋籌圆枓ᚾ矍䫻䈶➒渷ᢲ碝ɐ㙅ㅊʠ㒨悴偙瑠䀸䵂匮ᄒފ泇㋭ὅర㜩橮ⷠ‭玕⛢澟䇾欧帰孁ᖺ୆䴛憅秭㉍彣ߞ␤㌚ୂԸ⏱䥦倪䗈䚯偍೅ᴷ儦ሢ刧簄䀗ᑵ̡䩤棟盱⾹Φᵱ桊†᩻嵍Ѵ纸垬ӌ䍵⮍祋ٔᣊ哥⫼൶冦域㛎罘သ䐼䄴沋㳷堥忐剕Ǫͣษ㒼₸痁ᓊ૲፷ፇ嵺宎⛓溏ⷶ佱㰹ျ瞣⛭䘐牠昄撈ᅂ䳊声ⴭ各䧉啺噘殉䱶仩㮇ᘨ痲㐅塻偸婱⽔㎙丌愱㧎眍睘淑梛ⷆ⭈盯㮶ଙ淮ཋ傁㸭₣䠝౗࢈ᴠ㈴㎀⩇䙌悱ቃ憄怶᧳㮖➕睨▔᡾ʀ⽝绁㓷傝჎穆唙慥竭቉彥儝䐤㌋䎉ḹ垏㲈俌᝭Ɋ徙匢⸣㲡ݦ‶ܟㅤᄊ䛃࠻ǌ❣氯冦ነ䀠 "
   },
   "outputs": [
    {
     "data": {
      "application/vnd.jupyter.widget-view+json": {
       "model_id": "d0a6f429174b4fad8060a0c233f67677",
       "version_major": 2,
       "version_minor": 1
      },
      "text/plain": [
       "PersistWidget(data_values=[{'__id_column': '1', 'Name': 'chevrolet chevelle malibu', 'Miles_per_Gallon': 18.0,…"
      ]
     },
     "execution_count": 8,
     "metadata": {},
     "output_type": "execute_result"
    }
   ],
   "source": [
    "PR.plot.barchart(data=cars_df, x=\"Cylinders:N\", y=\"count()\")"
   ]
  },
  {
   "cell_type": "code",
   "execution_count": null,
   "id": "1fae00c8-1c44-4499-a275-ff0ae19fc05e",
   "metadata": {},
   "outputs": [],
   "source": []
  }
 ],
 "metadata": {
  "__persist_keys_record": [
   "__GENERATED_DATAFRAMES__",
   "__persist_nb_uuid__",
   "trrack_graph"
  ],
  "__persist_nb_uuid__": "bf0f2501-911f-4e98-ac16-2e9456b025e9",
  "kernelspec": {
   "display_name": "Python 3 (ipykernel)",
   "language": "python",
   "name": "python3"
  },
  "language_info": {
   "codemirror_mode": {
    "name": "ipython",
    "version": 3
   },
   "file_extension": ".py",
   "mimetype": "text/x-python",
   "name": "python",
   "nbconvert_exporter": "python",
   "pygments_lexer": "ipython3",
   "version": "3.12.3"
  }
 },
 "nbformat": 4,
 "nbformat_minor": 5
}
