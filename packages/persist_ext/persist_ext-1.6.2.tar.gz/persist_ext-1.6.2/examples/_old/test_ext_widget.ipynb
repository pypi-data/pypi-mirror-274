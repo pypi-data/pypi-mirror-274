{
 "cells": [
  {
   "cell_type": "code",
   "execution_count": 1,
   "id": "9c930f8c-7612-4e28-bc80-439c3cfcd7b4",
   "metadata": {
    "editable": true,
    "slideshow": {
     "slide_type": ""
    },
    "tags": []
   },
   "outputs": [],
   "source": [
    "##### import pandas as pd\n",
    "import persist_ext as PR\n",
    "from persist_ext import plot\n",
    "import altair as alt\n",
    "from vega_datasets import data\n",
    "import pandas as pd\n",
    "\n",
    "PR.dev.DEV = True "
   ]
  },
  {
   "cell_type": "code",
   "execution_count": 2,
   "id": "865de998-8e43-4643-aa6a-93bc1289f30b",
   "metadata": {
    "editable": true,
    "slideshow": {
     "slide_type": ""
    },
    "tags": []
   },
   "outputs": [
    {
     "data": {
      "text/html": [
       "<div>\n",
       "<style scoped>\n",
       "    .dataframe tbody tr th:only-of-type {\n",
       "        vertical-align: middle;\n",
       "    }\n",
       "\n",
       "    .dataframe tbody tr th {\n",
       "        vertical-align: top;\n",
       "    }\n",
       "\n",
       "    .dataframe thead th {\n",
       "        text-align: right;\n",
       "    }\n",
       "</style>\n",
       "<table border=\"1\" class=\"dataframe\">\n",
       "  <thead>\n",
       "    <tr style=\"text-align: right;\">\n",
       "      <th></th>\n",
       "      <th>Name</th>\n",
       "      <th>Miles_per_Gallon</th>\n",
       "      <th>Cylinders</th>\n",
       "      <th>Displacement</th>\n",
       "      <th>Horsepower</th>\n",
       "      <th>Weight_in_lbs</th>\n",
       "      <th>Acceleration</th>\n",
       "      <th>Year</th>\n",
       "      <th>Origin</th>\n",
       "    </tr>\n",
       "  </thead>\n",
       "  <tbody>\n",
       "    <tr>\n",
       "      <th>0</th>\n",
       "      <td>chevrolet chevelle malibu</td>\n",
       "      <td>18.0</td>\n",
       "      <td>8</td>\n",
       "      <td>307.0</td>\n",
       "      <td>130.0</td>\n",
       "      <td>3504</td>\n",
       "      <td>12.0</td>\n",
       "      <td>1970-01-01</td>\n",
       "      <td>USA</td>\n",
       "    </tr>\n",
       "    <tr>\n",
       "      <th>1</th>\n",
       "      <td>buick skylark 320</td>\n",
       "      <td>15.0</td>\n",
       "      <td>8</td>\n",
       "      <td>350.0</td>\n",
       "      <td>165.0</td>\n",
       "      <td>3693</td>\n",
       "      <td>11.5</td>\n",
       "      <td>1970-01-01</td>\n",
       "      <td>USA</td>\n",
       "    </tr>\n",
       "    <tr>\n",
       "      <th>2</th>\n",
       "      <td>plymouth satellite</td>\n",
       "      <td>18.0</td>\n",
       "      <td>8</td>\n",
       "      <td>318.0</td>\n",
       "      <td>150.0</td>\n",
       "      <td>3436</td>\n",
       "      <td>11.0</td>\n",
       "      <td>1970-01-01</td>\n",
       "      <td>USA</td>\n",
       "    </tr>\n",
       "    <tr>\n",
       "      <th>3</th>\n",
       "      <td>amc rebel sst</td>\n",
       "      <td>16.0</td>\n",
       "      <td>8</td>\n",
       "      <td>304.0</td>\n",
       "      <td>150.0</td>\n",
       "      <td>3433</td>\n",
       "      <td>12.0</td>\n",
       "      <td>1970-01-01</td>\n",
       "      <td>USA</td>\n",
       "    </tr>\n",
       "    <tr>\n",
       "      <th>4</th>\n",
       "      <td>ford torino</td>\n",
       "      <td>17.0</td>\n",
       "      <td>8</td>\n",
       "      <td>302.0</td>\n",
       "      <td>140.0</td>\n",
       "      <td>3449</td>\n",
       "      <td>10.5</td>\n",
       "      <td>1970-01-01</td>\n",
       "      <td>USA</td>\n",
       "    </tr>\n",
       "  </tbody>\n",
       "</table>\n",
       "</div>"
      ],
      "text/plain": [
       "                        Name  Miles_per_Gallon  Cylinders  Displacement  \\\n",
       "0  chevrolet chevelle malibu              18.0          8         307.0   \n",
       "1          buick skylark 320              15.0          8         350.0   \n",
       "2         plymouth satellite              18.0          8         318.0   \n",
       "3              amc rebel sst              16.0          8         304.0   \n",
       "4                ford torino              17.0          8         302.0   \n",
       "\n",
       "   Horsepower  Weight_in_lbs  Acceleration       Year Origin  \n",
       "0       130.0           3504          12.0 1970-01-01    USA  \n",
       "1       165.0           3693          11.5 1970-01-01    USA  \n",
       "2       150.0           3436          11.0 1970-01-01    USA  \n",
       "3       150.0           3433          12.0 1970-01-01    USA  \n",
       "4       140.0           3449          10.5 1970-01-01    USA  "
      ]
     },
     "execution_count": 2,
     "metadata": {},
     "output_type": "execute_result"
    }
   ],
   "source": [
    "cars = data.cars()\n",
    "cars.head()"
   ]
  },
  {
   "cell_type": "code",
   "execution_count": 5,
   "id": "621bf69a-bb31-407f-ab20-e75792f3e61d",
   "metadata": {
    "__GENERATED_DATAFRAMES__": "ᯡࠣ䅬Ԁ朤壠ᜣ琢〹夡゠⹰〮⁁䁻қ䚾ኊ㇠നСࠩ瀮晼Ƭ穅5愠៤⠠ ",
    "__has_persist_output": true,
    "trrack_graph": "ᯡ࠽䈌ʀ匦㢠⹰ৠጡಈΠ⍿〶䀹䔬㈰֦æ9܉┠沤і枅ǹ㣽仧加㌲⠠䭈⑁棑瀱ፁ⵾凓᭮溜ʦ䒠ǁ#㞋䌸晠ኤРᝣၐüムṁǟ㤆䀥䉸攠ʓ㥀ǔ⃤vൎ厰䶩⇁ⅱ偸ౢᠬᕇከ⑇䛡炠Ɣ䛦ᜫሽࣦ䨾揑䅠Ȅ恨ాᴺᩛ寭䚮䒁డ㙐㮖㢨ᶬडᯐ䡣嬱戅ၼⶠ᫤㻬೸䚴Ɯ䛛؂㬭໡˖宧䳡✌¾'Ї忶䧒碠䯚ᶼ癅䲡Ä᤭ˣₘ⡅ڠ偰ɔ╤偸屁ມࣸ兌Ꮶ悈䰽Ϥ䲬枻渨㒺၁浪ᢂ㣀䂲⑲㒦⇡燒岲⁵戨ከᘬ礉碱ӭ▁噶⎷擙≯ᱴ㥬獐ሠĤ偈 ⌠怠㮦卤㒀Y䈬ड़᪠ᲣÖᱵ㿣瑔䶆澠ሪ䋫⑸䃠ќㄯ䑀壸ଦ䋀ぐ扦䌊ࡰᴦ䊢Ϝࢻكࢅᆥ痹尾ⲳǣ灤⤼䋂栬ጵ䄁㣜㼰☱䒕ՙ厈㩽཯囡僌┴㜺♀䳮㒊ᘾ嫣ィ㛛㻦癛⛡᧢狘๦ᰪ↠ÂᔍÙˀࡂ爠ż怽愍᷽ۧ嘎碠᧛ῠԢᅰȢ磩ℷ哣⁝槦俣အ瓄䰑 壧湷䃲㑮䨂刦਑㺾ฐ繠✕纾ဓɦЫŒԡ䁈劢悴ᩖႴവ灰ധ⌌ࣗ⬌֠悴ᩁあᢧ䙐⸩䤌ᵴ㡈䀗乣引ȏά硼㩢⹔ᨗƮ哶䆕ٮ㪾̢劧඄籔ᰅ紎ૡ䃉口䢙兤ᙊӗ⤅䭢囚ᛑ䅆૆ȸ᪒穞俳⊡塕܁伲䙑乐♜॑♳r䓾壁㤡䡑ؤ㏬䘬߯䙩΅⛉䋃ᣵᏣ⪺孳櫯䆂Ⲷ䕰娺仠䄚䅯᩶䛲ᢖ子䇦噩㪡уыР恈ޡ灌ᶧと䏗㉴ጰヸᴠ僱ᜢ䂚̠惱ٖ⦋͗㫹䡰㉂奃ଉፇ㉲但牥Ӈ噐ჵ㓫Ꮖ瓝ത倣ޡ⃱ᯐ䱳ῗ墣䦃滃岓汇䔅串ᴄ峷ᖂ⹋嶖Ⴛ嬅ç䜂ᢧ刽ⳇ开庄叡店匨㹋ѩ¨⌆⅟侬屣倓䂲ⲳ⍢♥攢㤄掂➫授㾪ⲟ劽㶄笨昌␦㻏䘧㹘溻壈␧∂㠪̌搧円ډ䁤ቖ恛ⴡ٢ޢ䫽ᜥ႔ᮧじળ⦞ఁ粟໡榚❗䤙䥢ᛊᓐ栵学嚚౦亵ᗦʈ᪗㖽㯍疤Έ⡣ㅅඤ᲌䷢᪍䶔᥯狲२畽⟋甽⁝㉃⸱ܳ⪉䶓ⅳ◪半櫚䍱㎀ደb⋄喵䡖♺歶櫘筤ǵ⡑嗚ᛒᐂర兆䈫地∶઀䒠ウ㰻冒ᐡ䢴דᥗ❌᠚㝊ᖦ≋日壡ᙆ擗恖Ꮩ宽㛫噰⻤Ƭߏ嫬柏ᜮ⌽甌俊㮝㧿瘎时£り㋣㖦༎⠄ïኰ䅀ࣨ੕繒㒜⺏ɸ毬䡠ⲥ倒ᦸ͓௡彡Ⴖ㌉曼悤灟䷟ၻ缦ফ㥔砱π㽢Ⴌ≀᰺Ⴎ䪡䠲ጀࢢౢɚ䧃䁡䒸ᠹ渕價㒩嬉ี春L攬Ⲋٹᨲ墔ۓ琫姹ሡࢉ挎ἄℝ桜核㷐ᒚ቎o㹢伾各䤫໭榠橏屸剖䜈礑恣຾崄呒}奸峰⢒ⴠ̪⯉⣗ⶔ唦独灮⪍泴Ấǻ᳡⡡ਰഡ࠾勀丈䠸චᐰᣔ⼰〽,ṫ⚋掾泥瘩氍绰㕳塚䎶㩧㊴ᶃ劌䐦㫍䦔⍮䅑Ἂ筈ŝ㳠ै㝸ⶠ纳䜭俷瘇:湐ᢎⰖ溟琦Ϥ㴓ᒐ䮡ౠ㌑䂃⋃प䂼ඡ㺉簨ᾬ㟵ϰⶹ⼯䞀䰮捣䡁䐼ⅸ▘栤↾⃰栺ၑ⸣ઈ䆁ฯ⁙̡⢨⃇喨恔≬⪳吣ヲ⎍剢ῄ≒涬䉦淙䣨揖夥஖␩⃳䌲〮ኒᅇኅ˄䋐撨囩ᨫ䨙ᶠ䅬搑ゴቲ⟐੫䙔䣅ⲳ䃴垳㴮䭲嗦㰯䙴⻠橘Ð䷤ᰨ൵෻᧥㋂⸤⟚ѡx↠尦䄌༲昲䆨ઠ剐椈䢁傂ج瞴᣾䚡制㲶尰Ⲏ጗ڭ墼䇱墧儦Ỡ䙈↗䤉ᩞ答䮀嶆ˠ⨅榯▜絕琦㼘✷森ఒ渥侞㗣᥻䄭䭚ಶ⹕䢠⠮⍍䢡ᶱ䛰Ꮼ⌢żऄᦡ᫝㕕᛼࡙岈ↈ⨣杆∅㎑⹯ᩖ喎ଧ伶⯪႔j᜵ᄈ䞡⋔⏀㩀人ේ⠩欇ϡ儩Ɒ௖䓗ৼ耄㲬าᩣ⚻味䷘Ⳡᶡ䙎矖畣囝䷆ⷶ䊗ઈ䁧㪿䄖䗏ু⸦ҝ掠㼠Ě囲Ⅎ沌〸ၠ佹↟ܻ⧖ࢫ㉒焳㚆ⵂ໪昄⋂ᒂͤ㔃⪭⫵Უ喚廕ۏ࠲㓵扎z繅䝳র汙嗺哠Ҁ橧墬䵹垱瓴冷ཪဠêॹ㣭ǈⴸ၄ࣱ縦倠Ԡˈ磪匵⥱䦵†䨰䪎໸啰哵䫕哀ᜠ⸩哸主ઌİਮ␌ߊ庾᧬୦㩒∴拵ӯ҅ᐄ╌囪倣䭒㷓㥭ᘒ俌㓳吭㺮䁟᪝査叆ɔ廍稬夆೘浘熻ᥩ嵓⃶㏳⾑翖㗌栧曃滹げⵗ墛濘ⰿ㑁缽~䡄ḩ۬朡ლ䰛畊Ⴚ桀ǈ̰㭻ᤁᴳ㾢甝䷦#椁禕㧠瀯怤≤⊻ᑃ䛝ᠻ㵧墣ཏ礚汯娻㛕᳹ⳬ㇙⛿㧂洛⫎ᇉ㴁番Ϧቁ≽ᝰ則漟ᝢ叿dᜢ✚䪉ᐿ䌓㑒ㄽ㛆╃盲攄㧹儖ᙀଦ乽ῳᓤ⁦㕠⚌柡㋭䍊რⶾ࠺߅ᤣޑܯళ⮬瓮ᠪᲰᩙ姬˧⹟亐೘䚴屐ቯᔜ䶪缻窭⟋ᠢᣲ唁㋌ኋ姲㔛㥤溵怶Ҥ™໔٤䝨䁎ᦥⱲ夈䙭悖囧᭴珊在㢞䞕㽴倱༺椿᪮᫕×畭ዲ᝾䖤ࢁ䎅砮㨮䛁䶭4䮟⢺千絳㰸䀯窆倗䎓杹⒀⭥呷愿㟙拖༟犞砋绰౻㋻࿝呬╴ᇷ㘧䮅㗾䨋ầ䅯尻侑皤㯘怖㸧珠ࢌ盾㞐䳏Ϟ倝婣匢㯌⨱儧⑮熁墥㞀ᨺ囗⯴ㆣ⸐᭟᛹ⵀ䶊淉媸᯷⟂㝟䓪⑉䯦妣㸫琲⥧Ŏ㜲劜ጪɚر㘯绩䩨巐她ખᭊ眉⏡厬⹅獴硔応熀␥㨿䡠ၚỊ疑揇䁿楎砓僇緈พ瞵習尠ᛎᐦ掠嗘柦հ玦淤慆\"䯐͑◥⸼؀╬㋅垕ᡘ᡽ᅂ啬±ਠ䦪敳ᰈ䪡䐡噤䎱ᣐጃ⁡䇱ਰ瓉坆爃䃭焄❤㢳峭⤍㌬㥳廬൉㝀娿ᵁ浢祺䆿ߑ懄瞞䡌䙕࿪ᦘ歅䯼䃣瞔姆忼ᧈ奀竌䑜禁夢櫾ɝ棥ྚ椇䵜㘌䆌筗䛜㭒ט⼥㝂孂ଽ䂕㤅冝௒Ꮼ倡䂗፰ᝬᰮ啴䋽ઔ䤧䑜懲勜吏⚁ㄎ宍‡䃈䨰⚀支嵧߄㤔羪㶓毷幵ᐊ⬬䒇刔㖀烚塕䧌㪫絔ɘᯌᘥn姕䯂㈫䣡嫬Ҍ掍グm刴厀٨䐄㷁┤㡝嬴⛃┰伿氞仝琉炀᪡䈐ጹ筸⨨䳸٪ᅋ㉿唴䢂ݛ禂嵉堭ᲊٰᚣȨ…ѐ᝴ⰸ䩯᭰΢尹Ѽ⌠␠眰礚ߊ䘃䰷喗䟐㡑弳悺㧘䦜ഁ呆㡩䳘䪊杒ة䮼㴊卺厤䊣媉࠶͢ݤ㫠恨愲ᝀ⯁恤֢㸄罢態倲䇭䕃ၰן䐝㌍å㦕ร⬄¹ٖ๣ⵉќ䣂Ǽ㵍இ㪈㗽娲好ڛ劄ز䵃؛䁜昼妀笠䫢戎šጌ嬄㈇侟Ҟ䰕⬼佸ቘ㑁☎伪夷䳲筁㔇غ⃝柄澝▷卂䄲璾梘㶂➈ই⊚㫝າᘺ字ᝅ〠⓯ᨢ䖠㞎恚˒䌀栦䑵エѡ浩畎μ᫂濋⣷ބ㣂炲弲ㅾᾝ牭弹˕徝ḥ䆊ℿ䰌烈㣤⧡䀼堆䖄᪣弝梂䂉恦⢲栢⓮勒彀ᒹ申⡦͸ᜧ⒬䦨٘㈣泡Ȗ⅄ξ⓪Ⴎ㪳掸䦈䏲⻐☧丹ˀ㎑ʋ䣩ᫎᾑ䄥ቶ㢾ⴒ漬⃞㪰㶼䫁溟䞸ᮡ噃⅚Ðᘡ↧⁔₹傜⇣᪋୤Ց楌桦⛺叠·⃇䜢⦢漶惯䙢㰴㼿斆爏૽䆎䡍ॢഡ⊵கզ剳熆眽қ䊄濦䭏燬䭌姀ļ橃଑媹Ƃ娊㋲⸻Ἷ֚⡓Ḵ࣯Θ⁓硄೶硫᪵፯䑭旐䔙γ敶ڨᆠ৭╉桢Ѡ┦䣅䛍䡂禰᣶剾⶜஋㓅姉䀑攴紾ᘠ䬕穹扣៾卜♺Ⅶ䖠Ọ㈨殆寔㚰㶃森䔤ῂ⊉孡䞊ᥱ⎂⑱䞬ⶁཅᣑ䚾㝫猺匌杌㣲䨃瓳ᖌⰭ㬽՚搼☬羂㢴⩁堽㠉䖐㯅ᝅ㜼粴⌰ฒᾲ偼䤞⥄㑄ᡆფᠪ᥅⍰↸兒〢紒嘰ḓᾰ⊏晄ᛋ羰櫀ᖚ᧊ケ䨢摂㉬㹂䓊燂㍰ᢻ机倫廈䌌湷≰₅ຄ湙朲㆒撴Ჵ敲ⲓ㒹峉摻徲ߨᔇ䯀ԡ㡻椸姝ੲ⍃ᓲᓅ寽હ⋬堬孍㑻䭜檬ㆫ䗀烛⛚㵜⬰䫒⃚㖪䆽㒿ӣ㪝䙿ڧ❯䋜ᙰ浠杯宪渇甈ᐑ⿣各ዋ掸ᯘᤊٶך䔱Ⴈ悂䅂ҩ噊≬¨ԡ栥䴔笆⎂㓠⳧ˏ䱜▵彵唏䷈簁待䂠ጄ㖱΃箝䇓栍䪤ᤣ䜜ᣊ䍻ၣ媈㒥䙻Άं䣏͠㭿崴⢍岺ʾ㰫晍渧⯈嫥ᩇㅗ⡘劙么㡀  "
   },
   "outputs": [
    {
     "data": {
      "application/vnd.jupyter.widget-view+json": {
       "model_id": "0c2081f559bc4f22a52a663ab65fb0ee",
       "version_major": 2,
       "version_minor": 0
      },
      "text/plain": [
       "PersistWidget(data_values=[{'__id_column': '1', 'Name': 'chevrolet chevelle malibu', 'Miles_per_Gallon': 18.0,…"
      ]
     },
     "execution_count": 5,
     "metadata": {},
     "output_type": "execute_result"
    }
   ],
   "source": [
    "sel = alt.selection_interval(name=\"sel\", encodings=[\"x\"])\n",
    "\n",
    "c = alt.Chart().mark_point().encode(\n",
    "    x=\"Miles_per_Gallon:Q\",\n",
    "    y=\"Weight_in_lbs:Q\",\n",
    "    color=\"Origin:N\",\n",
    "    opacity=alt.condition(sel, alt.value(0.7), alt.value(0.2))\n",
    ")\n",
    "\n",
    "b = alt.Chart().mark_bar().encode(\n",
    "    x=\"Origin:N\",\n",
    "    y=\"count()\",\n",
    "    color=\"Origin:N\",\n",
    "    opacity=alt.condition(sel, alt.value(1), alt.value(0.2))\n",
    ").add_params(sel)\n",
    "\n",
    "PR.PersistChart(alt.hconcat(c, b).properties(data=cars))"
   ]
  },
  {
   "cell_type": "code",
   "execution_count": 4,
   "id": "14a004a6-8e88-4dcd-b06b-09f3d1907223",
   "metadata": {
    "__GENERATED_DATAFRAMES__": "ᯡࠫ䅬ആ၎⠢〹䂒ȸ஁㷭Ⱑ傠ዪBŜǹ㙀㇜〢㠪炠⿛† ",
    "__has_persist_output": true,
    "trrack_graph": "ᯡ࠽䈌ʀ匦㢠⹰૦䁸ঠ㍬׀ࢀᦨ䂬ϰۢ䂖Ģ㦑ጳ䶕棠⌠᱊砦ᤴ੪2攩кੌ㲥⑉⫰㚊滳䟟Ⴑဠ㑀䗘愾䠤傡%悄ؠᮬᢛ䑁圌Ḩ×੒䀡ᵼ䠠洠⻁䣹溄䓤ᨨ䊩㙐⠠㲸़䝩䏫即䡩㳸ቦ↠ᛦ஄⌱ı䅀㗖焨ᚂቐ淣〦塵ࢢ㸁ࢠ⿁䂅客ᗐₕ≠热ᡚ涠ᏠČ夓磢қ欰煗γ䢢沢Ҷ䣀愹梬⡬㨡ឪ๩❥㲳ࣀᩤ樲ҥɐ⑲䔥恘歭婤䣠⦅䒈䖬⁀䛮烨ᠼἬ↰ήঢ懑మ஧怩䉱ᅀ˙Ɂ㇣斳擸劯࿀ऺㅋ⍆瓂ࣨ  "
   },
   "outputs": [],
   "source": [
    "# PR.plot.barchart(cars, x=\"Origin:N\", y=\"count():Q\", df_name=\"test\")"
   ]
  },
  {
   "cell_type": "code",
   "execution_count": 5,
   "id": "3e1630c0-2ed8-4eb1-8045-c57d1fcdeb56",
   "metadata": {
    "__GENERATED_DATAFRAMES__": "ᯡࠣ䅬Ԁ朤壠ᜣ琢〹夢゠⹰〮⁁䁻қ䚾ኊ㇠നСࠩ瀮晼Ƭ穅5愠៤⠠ ",
    "__has_persist_output": true,
    "trrack_graph": "ᯡ࠽䈌ʀ匦㢠⹰۠ㆡైᖠ♊瀶䁇ᩤƆ暠٢㛥ↈ倬涠䍻墐೬⊶䥈kᑄᄈ夐ࢷዃ⽩䖻✾㺣䍤ð䀡宐ɑ䑝ဩ™+䐡䰠㜸ㄗࡣⷸ㤦䀢湈㊠Ś岰ú᤮ݗᮬ䚨℃為ै儈ቺᙁᚸ䆠愅挰㡭尢ะN䃰洎㉥倹兣峖ᡈ\\䰩֬␈㉰〥␢䪂Ơᛦ஍挱Α䅀㏖焨㞂ᱚ刢㇐͸⟙䇛࣪䁏䃰狓୥塀㛖烫ᡙ涠ᏠČ礗磡冗漰㢭我᳼ֹĢ⓲ᱠ㟢悤⼻ق劈থᙀ䳘µᄸ㢴⴦Őぐㄶけ庿㒹冢嫯⧾䡒㡑ᱼ䑫ዉ㩡ᙁ㋌⹿ᑋૅ㥮㊤㱬汾ᎇぉᩣᜇ㊜䅨光䨵൴柈㰠⫛攥勀!ഡȸwӬTĄP嘈ㄣむ严㘈۩!灔Ц涢ۖ烘ᗇ揋ľ㭼◐Ě㑙䆂㐢⃈⻔氬矁欇㢄䰮ྡྷሂ攽ࣦㅸ瘷ࢩ桤ὕῊ璚ᐿⱠతᜉ஥ᅆ槌愨Ⲷ囊抺沖࡞梖Ḏ珜氲巘ᮽ檹Ā䤬%୥㽻亅`✣ᓶΎ❩爋ⓜ὏䐮仹縰ⰱઠ႗婪௝䙸查㸙删Ả亘ೀ䳰帱婕䚦˧ᰯ䨐硏丗纷嗂績ᰒ䈠ⰵᨷ室ڈΠᒴႢ怬̥ⓥὐ惼䄰ࠬਢ䂜ᙕြᢡ°␤㻰䚨纨⠖᪆䋰渪㋾⁚⇺ݠ磠杹䘈⡝䕨㓫䝁佸⒁椠⍩奃掐แ⛸⑄Ξ䁕◁ᅑȦ厫ㄜ㾠ढ嬲惠બ⤆礿᥈咥⌶甬妈縨ⅶ䧶僘灣Rးჸ⳶⌆Ԡ寙⋭⊶䴢娙紷抺悹ᩥ梢⫒Ⓔ⢒㥧䤄㲩⨪啹䔠  "
   },
   "outputs": [],
   "source": [
    "# # a = PR.PersistChart(chart, data=source)\n",
    "# a = PR.PersistTable(data=cars)\n",
    "# a"
   ]
  },
  {
   "cell_type": "code",
   "execution_count": 6,
   "id": "9559abf7-c15b-40e2-a041-4707d144ba82",
   "metadata": {},
   "outputs": [
    {
     "ename": "NameError",
     "evalue": "name 'persist_df_1' is not defined",
     "output_type": "error",
     "traceback": [
      "\u001b[0;31m---------------------------------------------------------------------------\u001b[0m",
      "\u001b[0;31mNameError\u001b[0m                                 Traceback (most recent call last)",
      "Cell \u001b[0;32mIn[6], line 1\u001b[0m\n\u001b[0;32m----> 1\u001b[0m \u001b[43mpersist_df_1\u001b[49m\u001b[38;5;241m.\u001b[39mhead()\n",
      "\u001b[0;31mNameError\u001b[0m: name 'persist_df_1' is not defined"
     ]
    }
   ],
   "source": [
    "persist_df_1.head()"
   ]
  },
  {
   "cell_type": "code",
   "execution_count": null,
   "id": "d9b6de9c-2bad-4759-a547-9ddad3ba70d8",
   "metadata": {},
   "outputs": [],
   "source": [
    "persist_df_1[\"PR_Annotation\"].apply(lambda x: x == \"No Annotation\").all()"
   ]
  },
  {
   "cell_type": "code",
   "execution_count": null,
   "id": "4ed9dcb0-9956-43fc-a183-9842bae1d41e",
   "metadata": {},
   "outputs": [],
   "source": [
    "persist_df_1.sort_values(\"Miles_per_Gallon\", ascending=False)"
   ]
  },
  {
   "cell_type": "code",
   "execution_count": null,
   "id": "598f7529-bd58-4cf5-9cda-307fbb4752d3",
   "metadata": {
    "__GENERATED_DATAFRAMES__": "ᯡࠣ䅬Ԁ朤壠ᜣ琢〹夦゠⹰〮⁁䁻қ䚾ኊ㇠നСࠩ瀮晼Ƭ穅5愠៤⠠ ",
    "__has_persist_output": true,
    "trrack_graph": "ᯡ࠽䈌ʀ匦㢠⹰ಀ㌠晳㬤〶䀫.ੑె簤ᬂ圜ᠪ惭℠ᠧブ墠乮ⓀŌ傰䏂懦䁤䲥㕚٭ⷹ㬗爲&䈠۶䀱䘡撠┨ࠠ⺚₀ǘ憣屢֖绪+⢣⠠Ꭻ䤠ව׷根ᳬ䢼紴ろۦԠ޳ł烈Ȣ⩞×ၠӨ⟰˸悍㑂ၺᡄ᫆橁Ӭ⁧疭嘠殒浀㯌Ḱؗ気ᩑ㑈ᬤ㮄␮ӳ׉堢㰠໫睿పᯝㄪᖗ婚槭䡀煩✴挲㧥ڄ惑঑䖼粃ㅁിڦ䋁⃦ᔶ䀰惹ਾ捺㚲≦٫ᛣቔㄢ˶᮪ⓣ゘ᄴ䝂ࢴാ䒃ᢌܧ䐂Ӣɠ֢֔揖断䨄㱲䑭⥩ഥ᷆দ† "
   },
   "outputs": [],
   "source": [
    "# PR.plot.barchart(source, x=\"utcyear(Year):O\", y=\"count():Q\")"
   ]
  },
  {
   "cell_type": "code",
   "execution_count": null,
   "id": "b75ac547-9b19-43eb-a3c4-bfc1646ccc00",
   "metadata": {},
   "outputs": [],
   "source": [
    "A.head()"
   ]
  },
  {
   "cell_type": "code",
   "execution_count": null,
   "id": "173ed668-8a61-4990-97f1-f84640e5df50",
   "metadata": {},
   "outputs": [],
   "source": [
    "persist_df_1.sort_values(\"Miles_per_Gallon\", ascending=True)"
   ]
  },
  {
   "cell_type": "code",
   "execution_count": null,
   "id": "60436dd0-7b38-49bc-be7f-59e3d5d3f0e5",
   "metadata": {},
   "outputs": [],
   "source": []
  },
  {
   "cell_type": "code",
   "execution_count": null,
   "id": "2def3ac5-dd5a-4bdd-8003-9fe860ec7c4e",
   "metadata": {},
   "outputs": [],
   "source": [
    "params = getattr(chart, \"params\", [])\n",
    "pv = filter(lambda x: hasattr(x, \"views\"), params)\n",
    "view_names = map(lambda x: x.views, pv)\n",
    "v = sum(view_names, [])\n",
    "v"
   ]
  },
  {
   "cell_type": "code",
   "execution_count": null,
   "id": "a794d61b-e5cb-4a6a-b647-f96dc24e843a",
   "metadata": {},
   "outputs": [],
   "source": []
  }
 ],
 "metadata": {
  "__persist_keys_record": [
   "__GENERATED_DATAFRAMES__",
   "trrack_graph",
   "__persist_nb_uuid__"
  ],
  "__persist_nb_uuid__": "a9887c4c-7ebc-4792-bfd4-4e9b37363a74",
  "kernelspec": {
   "display_name": "Python 3 (ipykernel)",
   "language": "python",
   "name": "python3"
  },
  "language_info": {
   "codemirror_mode": {
    "name": "ipython",
    "version": 3
   },
   "file_extension": ".py",
   "mimetype": "text/x-python",
   "name": "python",
   "nbconvert_exporter": "python",
   "pygments_lexer": "ipython3",
   "version": "3.8.16"
  }
 },
 "nbformat": 4,
 "nbformat_minor": 5
}
