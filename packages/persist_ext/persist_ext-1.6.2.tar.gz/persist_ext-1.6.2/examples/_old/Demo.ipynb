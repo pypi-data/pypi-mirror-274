{
 "cells": [
  {
   "cell_type": "code",
   "execution_count": null,
   "id": "a7d1ed8c-c1f8-4dfc-8a6d-66ada6ba59d4",
   "metadata": {
    "trrack_graph": {
     "current": "6c980bdc-8cae-4068-b831-2c19673a4a78",
     "nodes": {
      "6c980bdc-8cae-4068-b831-2c19673a4a78": {
       "artifacts": [],
       "children": [],
       "createdOn": 1686112601024,
       "event": "Root",
       "id": "6c980bdc-8cae-4068-b831-2c19673a4a78",
       "label": "Root",
       "level": 0,
       "meta": {
        "annotation": [],
        "bookmark": []
       },
       "state": {
        "type": "checkpoint",
        "val": {
         "id": "23b5d6f1-c581-48ad-8297-3d7ec26db7ff",
         "type": "create"
        }
       }
      }
     },
     "root": "6c980bdc-8cae-4068-b831-2c19673a4a78"
    }
   },
   "outputs": [],
   "source": [
    "import altair as alt\n",
    "from vega_datasets import data\n",
    "import numpy as np\n",
    "import pandas as pd\n",
    "\n",
    "import interactivede.ide as IDE # Our library\n",
    "\n",
    "IDE.enable('altair') # Call this to enable integration with altair"
   ]
  },
  {
   "cell_type": "code",
   "execution_count": null,
   "id": "051f1ee3-2636-4761-9695-06e25fd399d0",
   "metadata": {
    "trrack_execution_spec": {
     "$schema": "https://vega.github.io/schema/vega-lite/v5.8.0.json",
     "config": {
      "view": {
       "continuousHeight": 300,
       "continuousWidth": 300
      }
     },
     "params": [
      {
       "name": "point_sel",
       "select": {
        "encodings": [
         "x"
        ],
        "type": "point"
       },
       "views": [
        "bars"
       ]
      }
     ],
     "resolve": {
      "legend": {
       "color": "independent",
       "size": "independent"
      }
     },
     "vconcat": [
      {
       "data": {
        "url": "https://cdn.jsdelivr.net/npm/vega-datasets@v1.29.0/data/movies.json"
       },
       "layer": [
        {
         "encoding": {
          "color": {
           "aggregate": "count",
           "scale": {
            "scheme": "greenblue"
           },
           "title": "Total Records",
           "type": "quantitative"
          },
          "x": {
           "bin": {},
           "field": "IMDB_Rating",
           "type": "quantitative"
          },
          "y": {
           "bin": {},
           "field": "Rotten_Tomatoes_Rating",
           "type": "quantitative"
          }
         },
         "mark": {
          "type": "rect"
         }
        },
        {
         "encoding": {
          "color": {
           "value": "grey"
          },
          "size": {
           "aggregate": "count",
           "title": "Records in Selection",
           "type": "quantitative"
          },
          "x": {
           "bin": {},
           "field": "IMDB_Rating",
           "type": "quantitative"
          },
          "y": {
           "bin": {},
           "field": "Rotten_Tomatoes_Rating",
           "type": "quantitative"
          }
         },
         "mark": {
          "type": "point"
         },
         "transform": [
          {
           "filter": {
            "param": "point_sel"
           }
          }
         ]
        }
       ]
      },
      {
       "data": {
        "url": "https://cdn.jsdelivr.net/npm/vega-datasets@v1.29.0/data/movies.json"
       },
       "encoding": {
        "color": {
         "condition": {
          "param": "point_sel",
          "value": "steelblue"
         },
         "value": "grey"
        },
        "x": {
         "field": "Major_Genre",
         "type": "nominal"
        },
        "y": {
         "aggregate": "mean",
         "field": "Rotten_Tomatoes_Rating",
         "type": "quantitative"
        }
       },
       "height": 200,
       "mark": {
        "type": "bar"
       },
       "name": "bars",
       "width": 550
      }
     ]
    },
    "trrack_graph": {
     "current": "d5eb290b-328c-4ec7-83ec-ce2de092a48a",
     "nodes": {
      "0ac4650a-5118-44be-b786-e33bdde10182": {
       "artifacts": [],
       "children": [],
       "createdOn": 1686113919784,
       "event": "interaction",
       "id": "0ac4650a-5118-44be-b786-e33bdde10182",
       "label": "Aggregate",
       "level": 6,
       "meta": {
        "annotation": [],
        "bookmark": []
       },
       "parent": "d5eb290b-328c-4ec7-83ec-ce2de092a48a",
       "sideEffects": {
        "do": [],
        "undo": []
       },
       "state": {
        "checkpointRef": "cf10897c-2f94-4402-ab5c-72da1828b7cf",
        "type": "patch",
        "val": [
         {
          "op": "remove",
          "path": "/value"
         },
         {
          "op": "remove",
          "path": "/views"
         },
         {
          "op": "remove",
          "path": "/select"
         },
         {
          "op": "remove",
          "path": "/name"
         },
         {
          "op": "replace",
          "path": "/type",
          "value": "aggregate"
         },
         {
          "op": "replace",
          "path": "/id",
          "value": "12f5ee02-9920-4e3f-9666-aa7336c1af32"
         },
         {
          "op": "add",
          "path": "/agg_name",
          "value": "Agg_12f5ee02"
         }
        ]
       }
      },
      "2e224c1a-e993-44fb-a8fc-083e4b065041": {
       "artifacts": [],
       "children": [],
       "createdOn": 1686113927234,
       "event": "interaction",
       "id": "2e224c1a-e993-44fb-a8fc-083e4b065041",
       "label": "Aggregate",
       "level": 3,
       "meta": {
        "annotation": [],
        "bookmark": []
       },
       "parent": "afd145e1-4642-45a3-a36e-af5a189546f5",
       "sideEffects": {
        "do": [],
        "undo": []
       },
       "state": {
        "checkpointRef": "cf10897c-2f94-4402-ab5c-72da1828b7cf",
        "type": "patch",
        "val": [
         {
          "op": "remove",
          "path": "/value"
         },
         {
          "op": "remove",
          "path": "/views"
         },
         {
          "op": "remove",
          "path": "/select"
         },
         {
          "op": "remove",
          "path": "/name"
         },
         {
          "op": "replace",
          "path": "/type",
          "value": "aggregate"
         },
         {
          "op": "replace",
          "path": "/id",
          "value": "e705dbd8-8a67-4b8d-93e0-d4f41819e1e4"
         },
         {
          "op": "add",
          "path": "/agg_name",
          "value": "Agg_e705dbd8"
         }
        ]
       }
      },
      "3f654395-7ccb-4c46-baf7-89d9821d1b8e": {
       "artifacts": [],
       "children": [
        "afd145e1-4642-45a3-a36e-af5a189546f5"
       ],
       "createdOn": 1686113910735,
       "event": "interaction",
       "id": "3f654395-7ccb-4c46-baf7-89d9821d1b8e",
       "label": "Brush selection",
       "level": 1,
       "meta": {
        "annotation": [],
        "bookmark": []
       },
       "parent": "cf10897c-2f94-4402-ab5c-72da1828b7cf",
       "sideEffects": {
        "do": [],
        "undo": []
       },
       "state": {
        "checkpointRef": "cf10897c-2f94-4402-ab5c-72da1828b7cf",
        "type": "patch",
        "val": [
         {
          "op": "replace",
          "path": "/type",
          "value": "selection"
         },
         {
          "op": "replace",
          "path": "/id",
          "value": "95d0e72d-e0f7-4197-b5d2-0756711434ff"
         },
         {
          "op": "add",
          "path": "/name",
          "value": "point_sel"
         },
         {
          "op": "add",
          "path": "/select",
          "value": {
           "encodings": [
            "x"
           ],
           "type": "point"
          }
         },
         {
          "op": "add",
          "path": "/views",
          "value": [
           "bars"
          ]
         },
         {
          "op": "add",
          "path": "/value",
          "value": [
           {
            "Major_Genre": "Western"
           }
          ]
         }
        ]
       }
      },
      "5ae6e21d-d9c3-4f98-ac36-7a753c778051": {
       "artifacts": [],
       "children": [
        "c3f37317-0564-4722-80b7-128081cdb1b8"
       ],
       "createdOn": 1686113914084,
       "event": "interaction",
       "id": "5ae6e21d-d9c3-4f98-ac36-7a753c778051",
       "label": "Filter",
       "level": 3,
       "meta": {
        "annotation": [],
        "bookmark": []
       },
       "parent": "afd145e1-4642-45a3-a36e-af5a189546f5",
       "sideEffects": {
        "do": [],
        "undo": []
       },
       "state": {
        "checkpointRef": "cf10897c-2f94-4402-ab5c-72da1828b7cf",
        "type": "patch",
        "val": [
         {
          "op": "remove",
          "path": "/value"
         },
         {
          "op": "remove",
          "path": "/views"
         },
         {
          "op": "remove",
          "path": "/select"
         },
         {
          "op": "remove",
          "path": "/name"
         },
         {
          "op": "replace",
          "path": "/type",
          "value": "filter"
         },
         {
          "op": "replace",
          "path": "/id",
          "value": "b23bf5ea-c81f-4d0c-ab68-5ba36e8b53c6"
         },
         {
          "op": "add",
          "path": "/direction",
          "value": "out"
         }
        ]
       }
      },
      "afd145e1-4642-45a3-a36e-af5a189546f5": {
       "artifacts": [],
       "children": [
        "5ae6e21d-d9c3-4f98-ac36-7a753c778051",
        "2e224c1a-e993-44fb-a8fc-083e4b065041"
       ],
       "createdOn": 1686113911517,
       "event": "interaction",
       "id": "afd145e1-4642-45a3-a36e-af5a189546f5",
       "label": "Brush selection",
       "level": 2,
       "meta": {
        "annotation": [],
        "bookmark": []
       },
       "parent": "3f654395-7ccb-4c46-baf7-89d9821d1b8e",
       "sideEffects": {
        "do": [],
        "undo": []
       },
       "state": {
        "checkpointRef": "cf10897c-2f94-4402-ab5c-72da1828b7cf",
        "type": "patch",
        "val": [
         {
          "op": "add",
          "path": "/value/1",
          "value": {
           "Major_Genre": "Thriller/Suspense"
          }
         },
         {
          "op": "replace",
          "path": "/id",
          "value": "783a5da6-1184-473e-8e0d-24c304fdf7ba"
         }
        ]
       }
      },
      "c3f37317-0564-4722-80b7-128081cdb1b8": {
       "artifacts": [],
       "children": [
        "d5eb290b-328c-4ec7-83ec-ce2de092a48a"
       ],
       "createdOn": 1686113916535,
       "event": "interaction",
       "id": "c3f37317-0564-4722-80b7-128081cdb1b8",
       "label": "Brush selection",
       "level": 4,
       "meta": {
        "annotation": [],
        "bookmark": []
       },
       "parent": "5ae6e21d-d9c3-4f98-ac36-7a753c778051",
       "sideEffects": {
        "do": [],
        "undo": []
       },
       "state": {
        "checkpointRef": "cf10897c-2f94-4402-ab5c-72da1828b7cf",
        "type": "patch",
        "val": [
         {
          "op": "remove",
          "path": "/direction"
         },
         {
          "op": "replace",
          "path": "/type",
          "value": "selection"
         },
         {
          "op": "replace",
          "path": "/id",
          "value": "95fdb8c5-bd2a-41db-8682-c161b56383db"
         },
         {
          "op": "add",
          "path": "/name",
          "value": "point_sel"
         },
         {
          "op": "add",
          "path": "/select",
          "value": {
           "encodings": [
            "x"
           ],
           "type": "point"
          }
         },
         {
          "op": "add",
          "path": "/views",
          "value": [
           "bars"
          ]
         },
         {
          "op": "add",
          "path": "/value",
          "value": [
           {
            "Major_Genre": "Drama"
           }
          ]
         }
        ]
       }
      },
      "cf10897c-2f94-4402-ab5c-72da1828b7cf": {
       "artifacts": [],
       "children": [
        "3f654395-7ccb-4c46-baf7-89d9821d1b8e"
       ],
       "createdOn": 1686113909551,
       "event": "Root",
       "id": "cf10897c-2f94-4402-ab5c-72da1828b7cf",
       "label": "Root",
       "level": 0,
       "meta": {
        "annotation": [],
        "bookmark": []
       },
       "state": {
        "type": "checkpoint",
        "val": {
         "id": "fe7cf09b-29f7-495c-8869-ecadc16f8987",
         "type": "create"
        }
       }
      },
      "d5eb290b-328c-4ec7-83ec-ce2de092a48a": {
       "artifacts": [],
       "children": [
        "0ac4650a-5118-44be-b786-e33bdde10182"
       ],
       "createdOn": 1686113917317,
       "event": "interaction",
       "id": "d5eb290b-328c-4ec7-83ec-ce2de092a48a",
       "label": "Brush selection",
       "level": 5,
       "meta": {
        "annotation": [],
        "bookmark": []
       },
       "parent": "c3f37317-0564-4722-80b7-128081cdb1b8",
       "sideEffects": {
        "do": [],
        "undo": []
       },
       "state": {
        "checkpointRef": "cf10897c-2f94-4402-ab5c-72da1828b7cf",
        "type": "patch",
        "val": [
         {
          "op": "add",
          "path": "/value/1",
          "value": {
           "Major_Genre": "Horror"
          }
         },
         {
          "op": "replace",
          "path": "/id",
          "value": "c12fb819-759d-40bb-a47a-1403bab24e18"
         }
        ]
       }
      }
     },
     "root": "cf10897c-2f94-4402-ab5c-72da1828b7cf"
    }
   },
   "outputs": [
    {
     "data": {
      "application/vnd.vegalite.v5+json": {
       "$schema": "https://vega.github.io/schema/vega-lite/v5.8.0.json",
       "config": {
        "view": {
         "continuousHeight": 300,
         "continuousWidth": 300
        }
       },
       "params": [
        {
         "name": "point_sel",
         "select": {
          "encodings": [
           "x"
          ],
          "type": "point"
         },
         "views": [
          "bars"
         ]
        }
       ],
       "resolve": {
        "legend": {
         "color": "independent",
         "size": "independent"
        }
       },
       "vconcat": [
        {
         "data": {
          "url": "https://cdn.jsdelivr.net/npm/vega-datasets@v1.29.0/data/movies.json"
         },
         "layer": [
          {
           "encoding": {
            "color": {
             "aggregate": "count",
             "scale": {
              "scheme": "greenblue"
             },
             "title": "Total Records",
             "type": "quantitative"
            },
            "x": {
             "bin": {},
             "field": "IMDB_Rating",
             "type": "quantitative"
            },
            "y": {
             "bin": {},
             "field": "Rotten_Tomatoes_Rating",
             "type": "quantitative"
            }
           },
           "mark": {
            "type": "rect"
           }
          },
          {
           "encoding": {
            "color": {
             "value": "grey"
            },
            "size": {
             "aggregate": "count",
             "title": "Records in Selection",
             "type": "quantitative"
            },
            "x": {
             "bin": {},
             "field": "IMDB_Rating",
             "type": "quantitative"
            },
            "y": {
             "bin": {},
             "field": "Rotten_Tomatoes_Rating",
             "type": "quantitative"
            }
           },
           "mark": {
            "type": "point"
           },
           "transform": [
            {
             "filter": {
              "param": "point_sel"
             }
            }
           ]
          }
         ]
        },
        {
         "data": {
          "url": "https://cdn.jsdelivr.net/npm/vega-datasets@v1.29.0/data/movies.json"
         },
         "encoding": {
          "color": {
           "condition": {
            "param": "point_sel",
            "value": "steelblue"
           },
           "value": "grey"
          },
          "x": {
           "field": "Major_Genre",
           "type": "nominal"
          },
          "y": {
           "aggregate": "mean",
           "field": "Rotten_Tomatoes_Rating",
           "type": "quantitative"
          }
         },
         "height": 200,
         "mark": {
          "type": "bar"
         },
         "name": "bars",
         "width": 550
        }
       ]
      },
      "text/plain": [
       "<VegaLite 5 object>\n",
       "\n",
       "If you see this message, it means the renderer has not been properly enabled\n",
       "for the frontend that you are using. For more information, see\n",
       "https://altair-viz.github.io/user_guide/display_frontends.html#troubleshooting\n"
      ]
     },
     "execution_count": 12,
     "metadata": {},
     "output_type": "execute_result"
    }
   ],
   "source": [
    "source = data.movies.url\n",
    "selected_cols = [\"Title\", \"IMDB_Rating\", \"Rotten_Tomatoes_Rating\", \"Major_Genre\"]\n",
    "\n",
    "pts = alt.selection_point(name=\"point_sel\", encodings=['x'])\n",
    "\n",
    "rect = alt.Chart(data.movies.url).mark_rect().encode(\n",
    "    alt.X('IMDB_Rating:Q').bin(),\n",
    "    alt.Y('Rotten_Tomatoes_Rating:Q').bin(),\n",
    "    alt.Color('count()').scale(scheme='greenblue').title('Total Records')\n",
    ")\n",
    "\n",
    "circ = rect.mark_point().encode(\n",
    "    alt.ColorValue('grey'),\n",
    "    alt.Size('count()').title('Records in Selection')\n",
    ").transform_filter(\n",
    "    pts\n",
    ")\n",
    "\n",
    "bar = alt.Chart(source, width=550, height=200, name=\"bars\").mark_bar().encode(\n",
    "    x='Major_Genre:N',\n",
    "    # y='count()',\n",
    "    y='mean(Rotten_Tomatoes_Rating):Q',\n",
    "    color=alt.condition(pts, alt.ColorValue(\"steelblue\"), alt.ColorValue(\"grey\"))\n",
    ").add_params(pts)\n",
    "\n",
    "alt.vconcat(\n",
    "    rect + circ,\n",
    "    bar\n",
    ").resolve_legend( \n",
    "    color=\"independent\",\n",
    "    size=\"independent\"\n",
    ")"
   ]
  },
  {
   "cell_type": "code",
   "execution_count": null,
   "id": "1a782667-22e6-450d-82e7-21d2cbf4014d",
   "metadata": {
    "trrack_graph": {
     "current": "ba640159-5652-447a-872d-2676c8f7c7ce",
     "nodes": {
      "ba640159-5652-447a-872d-2676c8f7c7ce": {
       "artifacts": [],
       "children": [],
       "createdOn": 1686113452123,
       "event": "Root",
       "id": "ba640159-5652-447a-872d-2676c8f7c7ce",
       "label": "Root",
       "level": 0,
       "meta": {
        "annotation": [],
        "bookmark": []
       },
       "state": {
        "type": "checkpoint",
        "val": {
         "id": "1dff531f-88e3-452a-80ce-e4bf3305ac86",
         "type": "create"
        }
       }
      }
     },
     "root": "ba640159-5652-447a-872d-2676c8f7c7ce"
    }
   },
   "outputs": [
    {
     "data": {
      "text/html": [
       "<div>\n",
       "<style scoped>\n",
       "    .dataframe tbody tr th:only-of-type {\n",
       "        vertical-align: middle;\n",
       "    }\n",
       "\n",
       "    .dataframe tbody tr th {\n",
       "        vertical-align: top;\n",
       "    }\n",
       "\n",
       "    .dataframe thead th {\n",
       "        text-align: right;\n",
       "    }\n",
       "</style>\n",
       "<table border=\"1\" class=\"dataframe\">\n",
       "  <thead>\n",
       "    <tr style=\"text-align: right;\">\n",
       "      <th></th>\n",
       "      <th>Title</th>\n",
       "      <th>US_Gross</th>\n",
       "      <th>Worldwide_Gross</th>\n",
       "      <th>US_DVD_Sales</th>\n",
       "      <th>Production_Budget</th>\n",
       "      <th>Release_Date</th>\n",
       "      <th>MPAA_Rating</th>\n",
       "      <th>Running_Time_min</th>\n",
       "      <th>Distributor</th>\n",
       "      <th>Source</th>\n",
       "      <th>Major_Genre</th>\n",
       "      <th>Creative_Type</th>\n",
       "      <th>Director</th>\n",
       "      <th>Rotten_Tomatoes_Rating</th>\n",
       "      <th>IMDB_Rating</th>\n",
       "      <th>IMDB_Votes</th>\n",
       "      <th>__aggregate</th>\n",
       "    </tr>\n",
       "  </thead>\n",
       "  <tbody>\n",
       "    <tr>\n",
       "      <th>0</th>\n",
       "      <td>The Land Girls</td>\n",
       "      <td>146083.0</td>\n",
       "      <td>146083.0</td>\n",
       "      <td>NaN</td>\n",
       "      <td>8000000.0</td>\n",
       "      <td>Jun 12 1998</td>\n",
       "      <td>R</td>\n",
       "      <td>NaN</td>\n",
       "      <td>Gramercy</td>\n",
       "      <td>None</td>\n",
       "      <td>None</td>\n",
       "      <td>None</td>\n",
       "      <td>None</td>\n",
       "      <td>NaN</td>\n",
       "      <td>6.1</td>\n",
       "      <td>1071.0</td>\n",
       "      <td>None</td>\n",
       "    </tr>\n",
       "    <tr>\n",
       "      <th>1</th>\n",
       "      <td>First Love, Last Rites</td>\n",
       "      <td>10876.0</td>\n",
       "      <td>10876.0</td>\n",
       "      <td>NaN</td>\n",
       "      <td>300000.0</td>\n",
       "      <td>Aug 07 1998</td>\n",
       "      <td>R</td>\n",
       "      <td>NaN</td>\n",
       "      <td>Strand</td>\n",
       "      <td>None</td>\n",
       "      <td>Drama</td>\n",
       "      <td>None</td>\n",
       "      <td>None</td>\n",
       "      <td>NaN</td>\n",
       "      <td>6.9</td>\n",
       "      <td>207.0</td>\n",
       "      <td>Agg_12f5ee02</td>\n",
       "    </tr>\n",
       "    <tr>\n",
       "      <th>2</th>\n",
       "      <td>I Married a Strange Person</td>\n",
       "      <td>203134.0</td>\n",
       "      <td>203134.0</td>\n",
       "      <td>NaN</td>\n",
       "      <td>250000.0</td>\n",
       "      <td>Aug 28 1998</td>\n",
       "      <td>None</td>\n",
       "      <td>NaN</td>\n",
       "      <td>Lionsgate</td>\n",
       "      <td>None</td>\n",
       "      <td>Comedy</td>\n",
       "      <td>None</td>\n",
       "      <td>None</td>\n",
       "      <td>NaN</td>\n",
       "      <td>6.8</td>\n",
       "      <td>865.0</td>\n",
       "      <td>None</td>\n",
       "    </tr>\n",
       "    <tr>\n",
       "      <th>3</th>\n",
       "      <td>Let's Talk About Sex</td>\n",
       "      <td>373615.0</td>\n",
       "      <td>373615.0</td>\n",
       "      <td>NaN</td>\n",
       "      <td>300000.0</td>\n",
       "      <td>Sep 11 1998</td>\n",
       "      <td>None</td>\n",
       "      <td>NaN</td>\n",
       "      <td>Fine Line</td>\n",
       "      <td>None</td>\n",
       "      <td>Comedy</td>\n",
       "      <td>None</td>\n",
       "      <td>None</td>\n",
       "      <td>13.0</td>\n",
       "      <td>NaN</td>\n",
       "      <td>NaN</td>\n",
       "      <td>None</td>\n",
       "    </tr>\n",
       "    <tr>\n",
       "      <th>4</th>\n",
       "      <td>Slam</td>\n",
       "      <td>1009819.0</td>\n",
       "      <td>1087521.0</td>\n",
       "      <td>NaN</td>\n",
       "      <td>1000000.0</td>\n",
       "      <td>Oct 09 1998</td>\n",
       "      <td>R</td>\n",
       "      <td>NaN</td>\n",
       "      <td>Trimark</td>\n",
       "      <td>Original Screenplay</td>\n",
       "      <td>Drama</td>\n",
       "      <td>Contemporary Fiction</td>\n",
       "      <td>None</td>\n",
       "      <td>62.0</td>\n",
       "      <td>3.4</td>\n",
       "      <td>165.0</td>\n",
       "      <td>Agg_12f5ee02</td>\n",
       "    </tr>\n",
       "    <tr>\n",
       "      <th>...</th>\n",
       "      <td>...</td>\n",
       "      <td>...</td>\n",
       "      <td>...</td>\n",
       "      <td>...</td>\n",
       "      <td>...</td>\n",
       "      <td>...</td>\n",
       "      <td>...</td>\n",
       "      <td>...</td>\n",
       "      <td>...</td>\n",
       "      <td>...</td>\n",
       "      <td>...</td>\n",
       "      <td>...</td>\n",
       "      <td>...</td>\n",
       "      <td>...</td>\n",
       "      <td>...</td>\n",
       "      <td>...</td>\n",
       "      <td>...</td>\n",
       "    </tr>\n",
       "    <tr>\n",
       "      <th>3195</th>\n",
       "      <td>Zombieland</td>\n",
       "      <td>75590286.0</td>\n",
       "      <td>98690286.0</td>\n",
       "      <td>28281155.0</td>\n",
       "      <td>23600000.0</td>\n",
       "      <td>Oct 02 2009</td>\n",
       "      <td>R</td>\n",
       "      <td>87.0</td>\n",
       "      <td>Sony Pictures</td>\n",
       "      <td>Original Screenplay</td>\n",
       "      <td>Comedy</td>\n",
       "      <td>Fantasy</td>\n",
       "      <td>Ruben Fleischer</td>\n",
       "      <td>89.0</td>\n",
       "      <td>7.8</td>\n",
       "      <td>81629.0</td>\n",
       "      <td>None</td>\n",
       "    </tr>\n",
       "    <tr>\n",
       "      <th>3196</th>\n",
       "      <td>Zack and Miri Make a Porno</td>\n",
       "      <td>31452765.0</td>\n",
       "      <td>36851125.0</td>\n",
       "      <td>21240321.0</td>\n",
       "      <td>24000000.0</td>\n",
       "      <td>Oct 31 2008</td>\n",
       "      <td>R</td>\n",
       "      <td>101.0</td>\n",
       "      <td>Weinstein Co.</td>\n",
       "      <td>Original Screenplay</td>\n",
       "      <td>Comedy</td>\n",
       "      <td>Contemporary Fiction</td>\n",
       "      <td>Kevin Smith</td>\n",
       "      <td>65.0</td>\n",
       "      <td>7.0</td>\n",
       "      <td>55687.0</td>\n",
       "      <td>None</td>\n",
       "    </tr>\n",
       "    <tr>\n",
       "      <th>3198</th>\n",
       "      <td>Zoom</td>\n",
       "      <td>11989328.0</td>\n",
       "      <td>12506188.0</td>\n",
       "      <td>6679409.0</td>\n",
       "      <td>35000000.0</td>\n",
       "      <td>Aug 11 2006</td>\n",
       "      <td>PG</td>\n",
       "      <td>NaN</td>\n",
       "      <td>Sony Pictures</td>\n",
       "      <td>Based on Comic/Graphic Novel</td>\n",
       "      <td>Adventure</td>\n",
       "      <td>Super Hero</td>\n",
       "      <td>Peter Hewitt</td>\n",
       "      <td>3.0</td>\n",
       "      <td>3.4</td>\n",
       "      <td>7424.0</td>\n",
       "      <td>None</td>\n",
       "    </tr>\n",
       "    <tr>\n",
       "      <th>3199</th>\n",
       "      <td>The Legend of Zorro</td>\n",
       "      <td>45575336.0</td>\n",
       "      <td>141475336.0</td>\n",
       "      <td>NaN</td>\n",
       "      <td>80000000.0</td>\n",
       "      <td>Oct 28 2005</td>\n",
       "      <td>PG</td>\n",
       "      <td>129.0</td>\n",
       "      <td>Sony Pictures</td>\n",
       "      <td>Remake</td>\n",
       "      <td>Adventure</td>\n",
       "      <td>Historical Fiction</td>\n",
       "      <td>Martin Campbell</td>\n",
       "      <td>26.0</td>\n",
       "      <td>5.7</td>\n",
       "      <td>21161.0</td>\n",
       "      <td>None</td>\n",
       "    </tr>\n",
       "    <tr>\n",
       "      <th>3200</th>\n",
       "      <td>The Mask of Zorro</td>\n",
       "      <td>93828745.0</td>\n",
       "      <td>233700000.0</td>\n",
       "      <td>NaN</td>\n",
       "      <td>65000000.0</td>\n",
       "      <td>Jul 17 1998</td>\n",
       "      <td>PG-13</td>\n",
       "      <td>136.0</td>\n",
       "      <td>Sony Pictures</td>\n",
       "      <td>Remake</td>\n",
       "      <td>Adventure</td>\n",
       "      <td>Historical Fiction</td>\n",
       "      <td>Martin Campbell</td>\n",
       "      <td>82.0</td>\n",
       "      <td>6.7</td>\n",
       "      <td>4789.0</td>\n",
       "      <td>None</td>\n",
       "    </tr>\n",
       "  </tbody>\n",
       "</table>\n",
       "<p>2926 rows × 17 columns</p>\n",
       "</div>"
      ],
      "text/plain": [
       "                           Title    US_Gross  Worldwide_Gross  US_DVD_Sales  \\\n",
       "0                 The Land Girls    146083.0         146083.0           NaN   \n",
       "1         First Love, Last Rites     10876.0          10876.0           NaN   \n",
       "2     I Married a Strange Person    203134.0         203134.0           NaN   \n",
       "3           Let's Talk About Sex    373615.0         373615.0           NaN   \n",
       "4                           Slam   1009819.0        1087521.0           NaN   \n",
       "...                          ...         ...              ...           ...   \n",
       "3195                  Zombieland  75590286.0       98690286.0    28281155.0   \n",
       "3196  Zack and Miri Make a Porno  31452765.0       36851125.0    21240321.0   \n",
       "3198                        Zoom  11989328.0       12506188.0     6679409.0   \n",
       "3199         The Legend of Zorro  45575336.0      141475336.0           NaN   \n",
       "3200           The Mask of Zorro  93828745.0      233700000.0           NaN   \n",
       "\n",
       "      Production_Budget Release_Date MPAA_Rating  Running_Time_min  \\\n",
       "0             8000000.0  Jun 12 1998           R               NaN   \n",
       "1              300000.0  Aug 07 1998           R               NaN   \n",
       "2              250000.0  Aug 28 1998        None               NaN   \n",
       "3              300000.0  Sep 11 1998        None               NaN   \n",
       "4             1000000.0  Oct 09 1998           R               NaN   \n",
       "...                 ...          ...         ...               ...   \n",
       "3195         23600000.0  Oct 02 2009           R              87.0   \n",
       "3196         24000000.0  Oct 31 2008           R             101.0   \n",
       "3198         35000000.0  Aug 11 2006          PG               NaN   \n",
       "3199         80000000.0  Oct 28 2005          PG             129.0   \n",
       "3200         65000000.0  Jul 17 1998       PG-13             136.0   \n",
       "\n",
       "        Distributor                        Source Major_Genre  \\\n",
       "0          Gramercy                          None        None   \n",
       "1            Strand                          None       Drama   \n",
       "2         Lionsgate                          None      Comedy   \n",
       "3         Fine Line                          None      Comedy   \n",
       "4           Trimark           Original Screenplay       Drama   \n",
       "...             ...                           ...         ...   \n",
       "3195  Sony Pictures           Original Screenplay      Comedy   \n",
       "3196  Weinstein Co.           Original Screenplay      Comedy   \n",
       "3198  Sony Pictures  Based on Comic/Graphic Novel   Adventure   \n",
       "3199  Sony Pictures                        Remake   Adventure   \n",
       "3200  Sony Pictures                        Remake   Adventure   \n",
       "\n",
       "             Creative_Type         Director  Rotten_Tomatoes_Rating  \\\n",
       "0                     None             None                     NaN   \n",
       "1                     None             None                     NaN   \n",
       "2                     None             None                     NaN   \n",
       "3                     None             None                    13.0   \n",
       "4     Contemporary Fiction             None                    62.0   \n",
       "...                    ...              ...                     ...   \n",
       "3195               Fantasy  Ruben Fleischer                    89.0   \n",
       "3196  Contemporary Fiction      Kevin Smith                    65.0   \n",
       "3198            Super Hero     Peter Hewitt                     3.0   \n",
       "3199    Historical Fiction  Martin Campbell                    26.0   \n",
       "3200    Historical Fiction  Martin Campbell                    82.0   \n",
       "\n",
       "      IMDB_Rating  IMDB_Votes   __aggregate  \n",
       "0             6.1      1071.0          None  \n",
       "1             6.9       207.0  Agg_12f5ee02  \n",
       "2             6.8       865.0          None  \n",
       "3             NaN         NaN          None  \n",
       "4             3.4       165.0  Agg_12f5ee02  \n",
       "...           ...         ...           ...  \n",
       "3195          7.8     81629.0          None  \n",
       "3196          7.0     55687.0          None  \n",
       "3198          3.4      7424.0          None  \n",
       "3199          5.7     21161.0          None  \n",
       "3200          6.7      4789.0          None  \n",
       "\n",
       "[2926 rows x 17 columns]"
      ]
     },
     "execution_count": 6,
     "metadata": {},
     "output_type": "execute_result"
    }
   ],
   "source": [
    "df_cf108_dyn[0]"
   ]
  },
  {
   "cell_type": "code",
   "execution_count": null,
   "id": "82d90916-50fb-4f0e-8942-0908a5d0a5d2",
   "metadata": {
    "trrack_graph": {
     "current": "5152d0b2-8700-4d9e-bfb3-cb51a7f1d9a9",
     "nodes": {
      "5152d0b2-8700-4d9e-bfb3-cb51a7f1d9a9": {
       "artifacts": [],
       "children": [],
       "createdOn": 1686113576359,
       "event": "Root",
       "id": "5152d0b2-8700-4d9e-bfb3-cb51a7f1d9a9",
       "label": "Root",
       "level": 0,
       "meta": {
        "annotation": [],
        "bookmark": []
       },
       "state": {
        "type": "checkpoint",
        "val": {
         "id": "3254f66c-48a5-4bef-bb8d-0f5e1e5def81",
         "type": "create"
        }
       }
      }
     },
     "root": "5152d0b2-8700-4d9e-bfb3-cb51a7f1d9a9"
    }
   },
   "outputs": [],
   "source": [
    "df = df_cf108_dyn[0]\n",
    "grouped_df = df.groupby(\"__aggregate\")"
   ]
  },
  {
   "cell_type": "code",
   "execution_count": null,
   "id": "3aa482ef-8725-4b01-8da1-78daf93d8654",
   "metadata": {
    "trrack_graph": {
     "current": "bb6de7a0-f8e3-4a62-b41a-802364e613b4",
     "nodes": {
      "bb6de7a0-f8e3-4a62-b41a-802364e613b4": {
       "artifacts": [],
       "children": [],
       "createdOn": 1686113687023,
       "event": "Root",
       "id": "bb6de7a0-f8e3-4a62-b41a-802364e613b4",
       "label": "Root",
       "level": 0,
       "meta": {
        "annotation": [],
        "bookmark": []
       },
       "state": {
        "type": "checkpoint",
        "val": {
         "id": "fe87170a-8a92-4252-804b-b662ca5ae1ff",
         "type": "create"
        }
       }
      }
     },
     "root": "bb6de7a0-f8e3-4a62-b41a-802364e613b4"
    }
   },
   "outputs": [
    {
     "data": {
      "text/plain": [
       "dict_keys(['Agg_12f5ee02', 'None'])"
      ]
     },
     "execution_count": 8,
     "metadata": {},
     "output_type": "execute_result"
    }
   ],
   "source": [
    "grouped_df.groups.keys()"
   ]
  },
  {
   "cell_type": "code",
   "execution_count": null,
   "id": "80313d0c-37fd-4df2-8d58-b7d1fcb08ac3",
   "metadata": {
    "trrack_graph": {
     "current": "0ade7e48-e156-458a-97fb-beb8a0728e8a",
     "nodes": {
      "0ade7e48-e156-458a-97fb-beb8a0728e8a": {
       "artifacts": [],
       "children": [],
       "createdOn": 1686113695339,
       "event": "Root",
       "id": "0ade7e48-e156-458a-97fb-beb8a0728e8a",
       "label": "Root",
       "level": 0,
       "meta": {
        "annotation": [],
        "bookmark": []
       },
       "state": {
        "type": "checkpoint",
        "val": {
         "id": "9404fbb7-a97b-4a6c-95f3-d6c3682978af",
         "type": "create"
        }
       }
      }
     },
     "root": "0ade7e48-e156-458a-97fb-beb8a0728e8a"
    }
   },
   "outputs": [
    {
     "data": {
      "text/html": [
       "<div>\n",
       "<style scoped>\n",
       "    .dataframe tbody tr th:only-of-type {\n",
       "        vertical-align: middle;\n",
       "    }\n",
       "\n",
       "    .dataframe tbody tr th {\n",
       "        vertical-align: top;\n",
       "    }\n",
       "\n",
       "    .dataframe thead th {\n",
       "        text-align: right;\n",
       "    }\n",
       "</style>\n",
       "<table border=\"1\" class=\"dataframe\">\n",
       "  <thead>\n",
       "    <tr style=\"text-align: right;\">\n",
       "      <th></th>\n",
       "      <th>Title</th>\n",
       "      <th>US_Gross</th>\n",
       "      <th>Worldwide_Gross</th>\n",
       "      <th>US_DVD_Sales</th>\n",
       "      <th>Production_Budget</th>\n",
       "      <th>Release_Date</th>\n",
       "      <th>MPAA_Rating</th>\n",
       "      <th>Running_Time_min</th>\n",
       "      <th>Distributor</th>\n",
       "      <th>Source</th>\n",
       "      <th>Major_Genre</th>\n",
       "      <th>Creative_Type</th>\n",
       "      <th>Director</th>\n",
       "      <th>Rotten_Tomatoes_Rating</th>\n",
       "      <th>IMDB_Rating</th>\n",
       "      <th>IMDB_Votes</th>\n",
       "      <th>__aggregate</th>\n",
       "    </tr>\n",
       "  </thead>\n",
       "  <tbody>\n",
       "    <tr>\n",
       "      <th>1</th>\n",
       "      <td>First Love, Last Rites</td>\n",
       "      <td>10876.0</td>\n",
       "      <td>10876.0</td>\n",
       "      <td>NaN</td>\n",
       "      <td>300000.0</td>\n",
       "      <td>Aug 07 1998</td>\n",
       "      <td>R</td>\n",
       "      <td>NaN</td>\n",
       "      <td>Strand</td>\n",
       "      <td>None</td>\n",
       "      <td>Drama</td>\n",
       "      <td>None</td>\n",
       "      <td>None</td>\n",
       "      <td>NaN</td>\n",
       "      <td>6.9</td>\n",
       "      <td>207.0</td>\n",
       "      <td>Agg_12f5ee02</td>\n",
       "    </tr>\n",
       "    <tr>\n",
       "      <th>4</th>\n",
       "      <td>Slam</td>\n",
       "      <td>1009819.0</td>\n",
       "      <td>1087521.0</td>\n",
       "      <td>NaN</td>\n",
       "      <td>1000000.0</td>\n",
       "      <td>Oct 09 1998</td>\n",
       "      <td>R</td>\n",
       "      <td>NaN</td>\n",
       "      <td>Trimark</td>\n",
       "      <td>Original Screenplay</td>\n",
       "      <td>Drama</td>\n",
       "      <td>Contemporary Fiction</td>\n",
       "      <td>None</td>\n",
       "      <td>62.0</td>\n",
       "      <td>3.4</td>\n",
       "      <td>165.0</td>\n",
       "      <td>Agg_12f5ee02</td>\n",
       "    </tr>\n",
       "    <tr>\n",
       "      <th>19</th>\n",
       "      <td>12 Angry Men</td>\n",
       "      <td>0.0</td>\n",
       "      <td>0.0</td>\n",
       "      <td>NaN</td>\n",
       "      <td>340000.0</td>\n",
       "      <td>Apr 13 1957</td>\n",
       "      <td>None</td>\n",
       "      <td>NaN</td>\n",
       "      <td>United Artists</td>\n",
       "      <td>Original Screenplay</td>\n",
       "      <td>Drama</td>\n",
       "      <td>None</td>\n",
       "      <td>Sidney Lumet</td>\n",
       "      <td>NaN</td>\n",
       "      <td>8.9</td>\n",
       "      <td>119101.0</td>\n",
       "      <td>Agg_12f5ee02</td>\n",
       "    </tr>\n",
       "    <tr>\n",
       "      <th>20</th>\n",
       "      <td>Twelve Monkeys</td>\n",
       "      <td>57141459.0</td>\n",
       "      <td>168841459.0</td>\n",
       "      <td>NaN</td>\n",
       "      <td>29000000.0</td>\n",
       "      <td>Dec 27 1995</td>\n",
       "      <td>R</td>\n",
       "      <td>NaN</td>\n",
       "      <td>Universal</td>\n",
       "      <td>Based on Short Film</td>\n",
       "      <td>Drama</td>\n",
       "      <td>Science Fiction</td>\n",
       "      <td>Terry Gilliam</td>\n",
       "      <td>NaN</td>\n",
       "      <td>8.1</td>\n",
       "      <td>169858.0</td>\n",
       "      <td>Agg_12f5ee02</td>\n",
       "    </tr>\n",
       "    <tr>\n",
       "      <th>21</th>\n",
       "      <td>1776</td>\n",
       "      <td>0.0</td>\n",
       "      <td>0.0</td>\n",
       "      <td>NaN</td>\n",
       "      <td>4000000.0</td>\n",
       "      <td>Nov 09 1972</td>\n",
       "      <td>PG</td>\n",
       "      <td>NaN</td>\n",
       "      <td>Sony/Columbia</td>\n",
       "      <td>Based on Play</td>\n",
       "      <td>Drama</td>\n",
       "      <td>Historical Fiction</td>\n",
       "      <td>None</td>\n",
       "      <td>57.0</td>\n",
       "      <td>7.0</td>\n",
       "      <td>4099.0</td>\n",
       "      <td>Agg_12f5ee02</td>\n",
       "    </tr>\n",
       "    <tr>\n",
       "      <th>...</th>\n",
       "      <td>...</td>\n",
       "      <td>...</td>\n",
       "      <td>...</td>\n",
       "      <td>...</td>\n",
       "      <td>...</td>\n",
       "      <td>...</td>\n",
       "      <td>...</td>\n",
       "      <td>...</td>\n",
       "      <td>...</td>\n",
       "      <td>...</td>\n",
       "      <td>...</td>\n",
       "      <td>...</td>\n",
       "      <td>...</td>\n",
       "      <td>...</td>\n",
       "      <td>...</td>\n",
       "      <td>...</td>\n",
       "      <td>...</td>\n",
       "    </tr>\n",
       "    <tr>\n",
       "      <th>3180</th>\n",
       "      <td>You Can Count on Me</td>\n",
       "      <td>9180275.0</td>\n",
       "      <td>11005992.0</td>\n",
       "      <td>NaN</td>\n",
       "      <td>1200000.0</td>\n",
       "      <td>Nov 10 2000</td>\n",
       "      <td>R</td>\n",
       "      <td>NaN</td>\n",
       "      <td>Paramount Vantage</td>\n",
       "      <td>Original Screenplay</td>\n",
       "      <td>Drama</td>\n",
       "      <td>Contemporary Fiction</td>\n",
       "      <td>None</td>\n",
       "      <td>95.0</td>\n",
       "      <td>7.7</td>\n",
       "      <td>14261.0</td>\n",
       "      <td>Agg_12f5ee02</td>\n",
       "    </tr>\n",
       "    <tr>\n",
       "      <th>3182</th>\n",
       "      <td>Yes</td>\n",
       "      <td>396035.0</td>\n",
       "      <td>661221.0</td>\n",
       "      <td>NaN</td>\n",
       "      <td>1700000.0</td>\n",
       "      <td>Jun 24 2005</td>\n",
       "      <td>R</td>\n",
       "      <td>NaN</td>\n",
       "      <td>Sony Pictures Classics</td>\n",
       "      <td>Original Screenplay</td>\n",
       "      <td>Drama</td>\n",
       "      <td>None</td>\n",
       "      <td>None</td>\n",
       "      <td>NaN</td>\n",
       "      <td>NaN</td>\n",
       "      <td>NaN</td>\n",
       "      <td>Agg_12f5ee02</td>\n",
       "    </tr>\n",
       "    <tr>\n",
       "      <th>3186</th>\n",
       "      <td>You've Got Mail</td>\n",
       "      <td>115821495.0</td>\n",
       "      <td>250800000.0</td>\n",
       "      <td>NaN</td>\n",
       "      <td>65000000.0</td>\n",
       "      <td>Dec 18 1998</td>\n",
       "      <td>PG</td>\n",
       "      <td>119.0</td>\n",
       "      <td>Warner Bros.</td>\n",
       "      <td>Based on Play</td>\n",
       "      <td>Drama</td>\n",
       "      <td>Contemporary Fiction</td>\n",
       "      <td>Nora Ephron</td>\n",
       "      <td>68.0</td>\n",
       "      <td>6.2</td>\n",
       "      <td>52587.0</td>\n",
       "      <td>Agg_12f5ee02</td>\n",
       "    </tr>\n",
       "    <tr>\n",
       "      <th>3188</th>\n",
       "      <td>Y Tu Mama Tambien (And Your Mother Too)</td>\n",
       "      <td>13649881.0</td>\n",
       "      <td>33649881.0</td>\n",
       "      <td>NaN</td>\n",
       "      <td>5000000.0</td>\n",
       "      <td>Mar 15 2002</td>\n",
       "      <td>R</td>\n",
       "      <td>NaN</td>\n",
       "      <td>IFC Films</td>\n",
       "      <td>Original Screenplay</td>\n",
       "      <td>Drama</td>\n",
       "      <td>Contemporary Fiction</td>\n",
       "      <td>Alfonso Cuaron</td>\n",
       "      <td>NaN</td>\n",
       "      <td>NaN</td>\n",
       "      <td>NaN</td>\n",
       "      <td>Agg_12f5ee02</td>\n",
       "    </tr>\n",
       "    <tr>\n",
       "      <th>3191</th>\n",
       "      <td>The Young Victoria</td>\n",
       "      <td>11001272.0</td>\n",
       "      <td>11001272.0</td>\n",
       "      <td>3273039.0</td>\n",
       "      <td>35000000.0</td>\n",
       "      <td>Dec 18 2009</td>\n",
       "      <td>PG</td>\n",
       "      <td>NaN</td>\n",
       "      <td>Apparition</td>\n",
       "      <td>Based on Real Life Events</td>\n",
       "      <td>Drama</td>\n",
       "      <td>Dramatization</td>\n",
       "      <td>None</td>\n",
       "      <td>76.0</td>\n",
       "      <td>7.2</td>\n",
       "      <td>8408.0</td>\n",
       "      <td>Agg_12f5ee02</td>\n",
       "    </tr>\n",
       "  </tbody>\n",
       "</table>\n",
       "<p>1008 rows × 17 columns</p>\n",
       "</div>"
      ],
      "text/plain": [
       "                                        Title     US_Gross  Worldwide_Gross  \\\n",
       "1                      First Love, Last Rites      10876.0          10876.0   \n",
       "4                                        Slam    1009819.0        1087521.0   \n",
       "19                               12 Angry Men          0.0              0.0   \n",
       "20                             Twelve Monkeys   57141459.0      168841459.0   \n",
       "21                                       1776          0.0              0.0   \n",
       "...                                       ...          ...              ...   \n",
       "3180                      You Can Count on Me    9180275.0       11005992.0   \n",
       "3182                                      Yes     396035.0         661221.0   \n",
       "3186                          You've Got Mail  115821495.0      250800000.0   \n",
       "3188  Y Tu Mama Tambien (And Your Mother Too)   13649881.0       33649881.0   \n",
       "3191                       The Young Victoria   11001272.0       11001272.0   \n",
       "\n",
       "      US_DVD_Sales  Production_Budget Release_Date MPAA_Rating  \\\n",
       "1              NaN           300000.0  Aug 07 1998           R   \n",
       "4              NaN          1000000.0  Oct 09 1998           R   \n",
       "19             NaN           340000.0  Apr 13 1957        None   \n",
       "20             NaN         29000000.0  Dec 27 1995           R   \n",
       "21             NaN          4000000.0  Nov 09 1972          PG   \n",
       "...            ...                ...          ...         ...   \n",
       "3180           NaN          1200000.0  Nov 10 2000           R   \n",
       "3182           NaN          1700000.0  Jun 24 2005           R   \n",
       "3186           NaN         65000000.0  Dec 18 1998          PG   \n",
       "3188           NaN          5000000.0  Mar 15 2002           R   \n",
       "3191     3273039.0         35000000.0  Dec 18 2009          PG   \n",
       "\n",
       "      Running_Time_min             Distributor                     Source  \\\n",
       "1                  NaN                  Strand                       None   \n",
       "4                  NaN                 Trimark        Original Screenplay   \n",
       "19                 NaN          United Artists        Original Screenplay   \n",
       "20                 NaN               Universal        Based on Short Film   \n",
       "21                 NaN           Sony/Columbia              Based on Play   \n",
       "...                ...                     ...                        ...   \n",
       "3180               NaN       Paramount Vantage        Original Screenplay   \n",
       "3182               NaN  Sony Pictures Classics        Original Screenplay   \n",
       "3186             119.0            Warner Bros.              Based on Play   \n",
       "3188               NaN               IFC Films        Original Screenplay   \n",
       "3191               NaN              Apparition  Based on Real Life Events   \n",
       "\n",
       "     Major_Genre         Creative_Type        Director  \\\n",
       "1          Drama                  None            None   \n",
       "4          Drama  Contemporary Fiction            None   \n",
       "19         Drama                  None    Sidney Lumet   \n",
       "20         Drama       Science Fiction   Terry Gilliam   \n",
       "21         Drama    Historical Fiction            None   \n",
       "...          ...                   ...             ...   \n",
       "3180       Drama  Contemporary Fiction            None   \n",
       "3182       Drama                  None            None   \n",
       "3186       Drama  Contemporary Fiction     Nora Ephron   \n",
       "3188       Drama  Contemporary Fiction  Alfonso Cuaron   \n",
       "3191       Drama         Dramatization            None   \n",
       "\n",
       "      Rotten_Tomatoes_Rating  IMDB_Rating  IMDB_Votes   __aggregate  \n",
       "1                        NaN          6.9       207.0  Agg_12f5ee02  \n",
       "4                       62.0          3.4       165.0  Agg_12f5ee02  \n",
       "19                       NaN          8.9    119101.0  Agg_12f5ee02  \n",
       "20                       NaN          8.1    169858.0  Agg_12f5ee02  \n",
       "21                      57.0          7.0      4099.0  Agg_12f5ee02  \n",
       "...                      ...          ...         ...           ...  \n",
       "3180                    95.0          7.7     14261.0  Agg_12f5ee02  \n",
       "3182                     NaN          NaN         NaN  Agg_12f5ee02  \n",
       "3186                    68.0          6.2     52587.0  Agg_12f5ee02  \n",
       "3188                     NaN          NaN         NaN  Agg_12f5ee02  \n",
       "3191                    76.0          7.2      8408.0  Agg_12f5ee02  \n",
       "\n",
       "[1008 rows x 17 columns]"
      ]
     },
     "execution_count": 10,
     "metadata": {},
     "output_type": "execute_result"
    }
   ],
   "source": [
    "grouped_df.get_group(\"Agg_12f5ee02\")"
   ]
  },
  {
   "cell_type": "code",
   "execution_count": null,
   "id": "be245908-b69a-4528-b9d9-d29e5028f955",
   "metadata": {
    "trrack_graph": {
     "current": "8cef8f20-8cda-44a9-8240-8aa5f657e1fc",
     "nodes": {
      "8cef8f20-8cda-44a9-8240-8aa5f657e1fc": {
       "artifacts": [],
       "children": [],
       "createdOn": 1686113721198,
       "event": "Root",
       "id": "8cef8f20-8cda-44a9-8240-8aa5f657e1fc",
       "label": "Root",
       "level": 0,
       "meta": {
        "annotation": [],
        "bookmark": []
       },
       "state": {
        "type": "checkpoint",
        "val": {
         "id": "164ec3bb-8104-4293-95ba-5a924ea044ae",
         "type": "create"
        }
       }
      }
     },
     "root": "8cef8f20-8cda-44a9-8240-8aa5f657e1fc"
    }
   },
   "outputs": [
    {
     "data": {
      "text/html": [
       "<div>\n",
       "<style scoped>\n",
       "    .dataframe tbody tr th:only-of-type {\n",
       "        vertical-align: middle;\n",
       "    }\n",
       "\n",
       "    .dataframe tbody tr th {\n",
       "        vertical-align: top;\n",
       "    }\n",
       "\n",
       "    .dataframe thead th {\n",
       "        text-align: right;\n",
       "    }\n",
       "</style>\n",
       "<table border=\"1\" class=\"dataframe\">\n",
       "  <thead>\n",
       "    <tr style=\"text-align: right;\">\n",
       "      <th></th>\n",
       "      <th>Title</th>\n",
       "      <th>US_Gross</th>\n",
       "      <th>Worldwide_Gross</th>\n",
       "      <th>US_DVD_Sales</th>\n",
       "      <th>Production_Budget</th>\n",
       "      <th>Release_Date</th>\n",
       "      <th>MPAA_Rating</th>\n",
       "      <th>Running_Time_min</th>\n",
       "      <th>Distributor</th>\n",
       "      <th>Source</th>\n",
       "      <th>Major_Genre</th>\n",
       "      <th>Creative_Type</th>\n",
       "      <th>Director</th>\n",
       "      <th>Rotten_Tomatoes_Rating</th>\n",
       "      <th>IMDB_Rating</th>\n",
       "      <th>IMDB_Votes</th>\n",
       "      <th>__aggregate</th>\n",
       "    </tr>\n",
       "  </thead>\n",
       "  <tbody>\n",
       "    <tr>\n",
       "      <th>0</th>\n",
       "      <td>The Land Girls</td>\n",
       "      <td>146083.0</td>\n",
       "      <td>146083.0</td>\n",
       "      <td>NaN</td>\n",
       "      <td>8000000.0</td>\n",
       "      <td>Jun 12 1998</td>\n",
       "      <td>R</td>\n",
       "      <td>NaN</td>\n",
       "      <td>Gramercy</td>\n",
       "      <td>None</td>\n",
       "      <td>None</td>\n",
       "      <td>None</td>\n",
       "      <td>None</td>\n",
       "      <td>NaN</td>\n",
       "      <td>6.1</td>\n",
       "      <td>1071.0</td>\n",
       "      <td>None</td>\n",
       "    </tr>\n",
       "    <tr>\n",
       "      <th>2</th>\n",
       "      <td>I Married a Strange Person</td>\n",
       "      <td>203134.0</td>\n",
       "      <td>203134.0</td>\n",
       "      <td>NaN</td>\n",
       "      <td>250000.0</td>\n",
       "      <td>Aug 28 1998</td>\n",
       "      <td>None</td>\n",
       "      <td>NaN</td>\n",
       "      <td>Lionsgate</td>\n",
       "      <td>None</td>\n",
       "      <td>Comedy</td>\n",
       "      <td>None</td>\n",
       "      <td>None</td>\n",
       "      <td>NaN</td>\n",
       "      <td>6.8</td>\n",
       "      <td>865.0</td>\n",
       "      <td>None</td>\n",
       "    </tr>\n",
       "    <tr>\n",
       "      <th>3</th>\n",
       "      <td>Let's Talk About Sex</td>\n",
       "      <td>373615.0</td>\n",
       "      <td>373615.0</td>\n",
       "      <td>NaN</td>\n",
       "      <td>300000.0</td>\n",
       "      <td>Sep 11 1998</td>\n",
       "      <td>None</td>\n",
       "      <td>NaN</td>\n",
       "      <td>Fine Line</td>\n",
       "      <td>None</td>\n",
       "      <td>Comedy</td>\n",
       "      <td>None</td>\n",
       "      <td>None</td>\n",
       "      <td>13.0</td>\n",
       "      <td>NaN</td>\n",
       "      <td>NaN</td>\n",
       "      <td>None</td>\n",
       "    </tr>\n",
       "    <tr>\n",
       "      <th>5</th>\n",
       "      <td>Mississippi Mermaid</td>\n",
       "      <td>24551.0</td>\n",
       "      <td>2624551.0</td>\n",
       "      <td>NaN</td>\n",
       "      <td>1600000.0</td>\n",
       "      <td>Jan 15 1999</td>\n",
       "      <td>None</td>\n",
       "      <td>NaN</td>\n",
       "      <td>MGM</td>\n",
       "      <td>None</td>\n",
       "      <td>None</td>\n",
       "      <td>None</td>\n",
       "      <td>None</td>\n",
       "      <td>NaN</td>\n",
       "      <td>NaN</td>\n",
       "      <td>NaN</td>\n",
       "      <td>None</td>\n",
       "    </tr>\n",
       "    <tr>\n",
       "      <th>6</th>\n",
       "      <td>Following</td>\n",
       "      <td>44705.0</td>\n",
       "      <td>44705.0</td>\n",
       "      <td>NaN</td>\n",
       "      <td>6000.0</td>\n",
       "      <td>Apr 04 1999</td>\n",
       "      <td>R</td>\n",
       "      <td>NaN</td>\n",
       "      <td>Zeitgeist</td>\n",
       "      <td>None</td>\n",
       "      <td>None</td>\n",
       "      <td>None</td>\n",
       "      <td>Christopher Nolan</td>\n",
       "      <td>NaN</td>\n",
       "      <td>7.7</td>\n",
       "      <td>15133.0</td>\n",
       "      <td>None</td>\n",
       "    </tr>\n",
       "    <tr>\n",
       "      <th>...</th>\n",
       "      <td>...</td>\n",
       "      <td>...</td>\n",
       "      <td>...</td>\n",
       "      <td>...</td>\n",
       "      <td>...</td>\n",
       "      <td>...</td>\n",
       "      <td>...</td>\n",
       "      <td>...</td>\n",
       "      <td>...</td>\n",
       "      <td>...</td>\n",
       "      <td>...</td>\n",
       "      <td>...</td>\n",
       "      <td>...</td>\n",
       "      <td>...</td>\n",
       "      <td>...</td>\n",
       "      <td>...</td>\n",
       "      <td>...</td>\n",
       "    </tr>\n",
       "    <tr>\n",
       "      <th>3195</th>\n",
       "      <td>Zombieland</td>\n",
       "      <td>75590286.0</td>\n",
       "      <td>98690286.0</td>\n",
       "      <td>28281155.0</td>\n",
       "      <td>23600000.0</td>\n",
       "      <td>Oct 02 2009</td>\n",
       "      <td>R</td>\n",
       "      <td>87.0</td>\n",
       "      <td>Sony Pictures</td>\n",
       "      <td>Original Screenplay</td>\n",
       "      <td>Comedy</td>\n",
       "      <td>Fantasy</td>\n",
       "      <td>Ruben Fleischer</td>\n",
       "      <td>89.0</td>\n",
       "      <td>7.8</td>\n",
       "      <td>81629.0</td>\n",
       "      <td>None</td>\n",
       "    </tr>\n",
       "    <tr>\n",
       "      <th>3196</th>\n",
       "      <td>Zack and Miri Make a Porno</td>\n",
       "      <td>31452765.0</td>\n",
       "      <td>36851125.0</td>\n",
       "      <td>21240321.0</td>\n",
       "      <td>24000000.0</td>\n",
       "      <td>Oct 31 2008</td>\n",
       "      <td>R</td>\n",
       "      <td>101.0</td>\n",
       "      <td>Weinstein Co.</td>\n",
       "      <td>Original Screenplay</td>\n",
       "      <td>Comedy</td>\n",
       "      <td>Contemporary Fiction</td>\n",
       "      <td>Kevin Smith</td>\n",
       "      <td>65.0</td>\n",
       "      <td>7.0</td>\n",
       "      <td>55687.0</td>\n",
       "      <td>None</td>\n",
       "    </tr>\n",
       "    <tr>\n",
       "      <th>3198</th>\n",
       "      <td>Zoom</td>\n",
       "      <td>11989328.0</td>\n",
       "      <td>12506188.0</td>\n",
       "      <td>6679409.0</td>\n",
       "      <td>35000000.0</td>\n",
       "      <td>Aug 11 2006</td>\n",
       "      <td>PG</td>\n",
       "      <td>NaN</td>\n",
       "      <td>Sony Pictures</td>\n",
       "      <td>Based on Comic/Graphic Novel</td>\n",
       "      <td>Adventure</td>\n",
       "      <td>Super Hero</td>\n",
       "      <td>Peter Hewitt</td>\n",
       "      <td>3.0</td>\n",
       "      <td>3.4</td>\n",
       "      <td>7424.0</td>\n",
       "      <td>None</td>\n",
       "    </tr>\n",
       "    <tr>\n",
       "      <th>3199</th>\n",
       "      <td>The Legend of Zorro</td>\n",
       "      <td>45575336.0</td>\n",
       "      <td>141475336.0</td>\n",
       "      <td>NaN</td>\n",
       "      <td>80000000.0</td>\n",
       "      <td>Oct 28 2005</td>\n",
       "      <td>PG</td>\n",
       "      <td>129.0</td>\n",
       "      <td>Sony Pictures</td>\n",
       "      <td>Remake</td>\n",
       "      <td>Adventure</td>\n",
       "      <td>Historical Fiction</td>\n",
       "      <td>Martin Campbell</td>\n",
       "      <td>26.0</td>\n",
       "      <td>5.7</td>\n",
       "      <td>21161.0</td>\n",
       "      <td>None</td>\n",
       "    </tr>\n",
       "    <tr>\n",
       "      <th>3200</th>\n",
       "      <td>The Mask of Zorro</td>\n",
       "      <td>93828745.0</td>\n",
       "      <td>233700000.0</td>\n",
       "      <td>NaN</td>\n",
       "      <td>65000000.0</td>\n",
       "      <td>Jul 17 1998</td>\n",
       "      <td>PG-13</td>\n",
       "      <td>136.0</td>\n",
       "      <td>Sony Pictures</td>\n",
       "      <td>Remake</td>\n",
       "      <td>Adventure</td>\n",
       "      <td>Historical Fiction</td>\n",
       "      <td>Martin Campbell</td>\n",
       "      <td>82.0</td>\n",
       "      <td>6.7</td>\n",
       "      <td>4789.0</td>\n",
       "      <td>None</td>\n",
       "    </tr>\n",
       "  </tbody>\n",
       "</table>\n",
       "<p>1918 rows × 17 columns</p>\n",
       "</div>"
      ],
      "text/plain": [
       "                           Title    US_Gross  Worldwide_Gross  US_DVD_Sales  \\\n",
       "0                 The Land Girls    146083.0         146083.0           NaN   \n",
       "2     I Married a Strange Person    203134.0         203134.0           NaN   \n",
       "3           Let's Talk About Sex    373615.0         373615.0           NaN   \n",
       "5            Mississippi Mermaid     24551.0        2624551.0           NaN   \n",
       "6                      Following     44705.0          44705.0           NaN   \n",
       "...                          ...         ...              ...           ...   \n",
       "3195                  Zombieland  75590286.0       98690286.0    28281155.0   \n",
       "3196  Zack and Miri Make a Porno  31452765.0       36851125.0    21240321.0   \n",
       "3198                        Zoom  11989328.0       12506188.0     6679409.0   \n",
       "3199         The Legend of Zorro  45575336.0      141475336.0           NaN   \n",
       "3200           The Mask of Zorro  93828745.0      233700000.0           NaN   \n",
       "\n",
       "      Production_Budget Release_Date MPAA_Rating  Running_Time_min  \\\n",
       "0             8000000.0  Jun 12 1998           R               NaN   \n",
       "2              250000.0  Aug 28 1998        None               NaN   \n",
       "3              300000.0  Sep 11 1998        None               NaN   \n",
       "5             1600000.0  Jan 15 1999        None               NaN   \n",
       "6                6000.0  Apr 04 1999           R               NaN   \n",
       "...                 ...          ...         ...               ...   \n",
       "3195         23600000.0  Oct 02 2009           R              87.0   \n",
       "3196         24000000.0  Oct 31 2008           R             101.0   \n",
       "3198         35000000.0  Aug 11 2006          PG               NaN   \n",
       "3199         80000000.0  Oct 28 2005          PG             129.0   \n",
       "3200         65000000.0  Jul 17 1998       PG-13             136.0   \n",
       "\n",
       "        Distributor                        Source Major_Genre  \\\n",
       "0          Gramercy                          None        None   \n",
       "2         Lionsgate                          None      Comedy   \n",
       "3         Fine Line                          None      Comedy   \n",
       "5               MGM                          None        None   \n",
       "6         Zeitgeist                          None        None   \n",
       "...             ...                           ...         ...   \n",
       "3195  Sony Pictures           Original Screenplay      Comedy   \n",
       "3196  Weinstein Co.           Original Screenplay      Comedy   \n",
       "3198  Sony Pictures  Based on Comic/Graphic Novel   Adventure   \n",
       "3199  Sony Pictures                        Remake   Adventure   \n",
       "3200  Sony Pictures                        Remake   Adventure   \n",
       "\n",
       "             Creative_Type           Director  Rotten_Tomatoes_Rating  \\\n",
       "0                     None               None                     NaN   \n",
       "2                     None               None                     NaN   \n",
       "3                     None               None                    13.0   \n",
       "5                     None               None                     NaN   \n",
       "6                     None  Christopher Nolan                     NaN   \n",
       "...                    ...                ...                     ...   \n",
       "3195               Fantasy    Ruben Fleischer                    89.0   \n",
       "3196  Contemporary Fiction        Kevin Smith                    65.0   \n",
       "3198            Super Hero       Peter Hewitt                     3.0   \n",
       "3199    Historical Fiction    Martin Campbell                    26.0   \n",
       "3200    Historical Fiction    Martin Campbell                    82.0   \n",
       "\n",
       "      IMDB_Rating  IMDB_Votes __aggregate  \n",
       "0             6.1      1071.0        None  \n",
       "2             6.8       865.0        None  \n",
       "3             NaN         NaN        None  \n",
       "5             NaN         NaN        None  \n",
       "6             7.7     15133.0        None  \n",
       "...           ...         ...         ...  \n",
       "3195          7.8     81629.0        None  \n",
       "3196          7.0     55687.0        None  \n",
       "3198          3.4      7424.0        None  \n",
       "3199          5.7     21161.0        None  \n",
       "3200          6.7      4789.0        None  \n",
       "\n",
       "[1918 rows x 17 columns]"
      ]
     },
     "execution_count": 11,
     "metadata": {},
     "output_type": "execute_result"
    }
   ],
   "source": [
    "grouped_df.get_group(\"None\")"
   ]
  },
  {
   "cell_type": "code",
   "execution_count": null,
   "id": "c2891053-7905-4f99-ae96-6c11a4e47cec",
   "metadata": {
    "trrack_graph": {
     "current": "35bdb024-29f7-419a-8f73-23673dfb3c1f",
     "nodes": {
      "35bdb024-29f7-419a-8f73-23673dfb3c1f": {
       "artifacts": [],
       "children": [],
       "createdOn": 1686113730141,
       "event": "Root",
       "id": "35bdb024-29f7-419a-8f73-23673dfb3c1f",
       "label": "Root",
       "level": 0,
       "meta": {
        "annotation": [],
        "bookmark": []
       },
       "state": {
        "type": "checkpoint",
        "val": {
         "id": "ac6605d2-3d1d-49c2-9cf7-e82e068076ae",
         "type": "create"
        }
       }
      }
     },
     "root": "35bdb024-29f7-419a-8f73-23673dfb3c1f"
    }
   },
   "outputs": [
    {
     "data": {
      "text/html": [
       "<div>\n",
       "<style scoped>\n",
       "    .dataframe tbody tr th:only-of-type {\n",
       "        vertical-align: middle;\n",
       "    }\n",
       "\n",
       "    .dataframe tbody tr th {\n",
       "        vertical-align: top;\n",
       "    }\n",
       "\n",
       "    .dataframe thead th {\n",
       "        text-align: right;\n",
       "    }\n",
       "</style>\n",
       "<table border=\"1\" class=\"dataframe\">\n",
       "  <thead>\n",
       "    <tr style=\"text-align: right;\">\n",
       "      <th></th>\n",
       "      <th>Title</th>\n",
       "      <th>US_Gross</th>\n",
       "      <th>Worldwide_Gross</th>\n",
       "      <th>US_DVD_Sales</th>\n",
       "      <th>Production_Budget</th>\n",
       "      <th>Release_Date</th>\n",
       "      <th>MPAA_Rating</th>\n",
       "      <th>Running_Time_min</th>\n",
       "      <th>Distributor</th>\n",
       "      <th>Source</th>\n",
       "      <th>Major_Genre</th>\n",
       "      <th>Creative_Type</th>\n",
       "      <th>Director</th>\n",
       "      <th>Rotten_Tomatoes_Rating</th>\n",
       "      <th>IMDB_Rating</th>\n",
       "      <th>IMDB_Votes</th>\n",
       "      <th>__selected</th>\n",
       "    </tr>\n",
       "  </thead>\n",
       "  <tbody>\n",
       "    <tr>\n",
       "      <th>0</th>\n",
       "      <td>The Land Girls</td>\n",
       "      <td>146083.0</td>\n",
       "      <td>146083.0</td>\n",
       "      <td>NaN</td>\n",
       "      <td>8000000.0</td>\n",
       "      <td>Jun 12 1998</td>\n",
       "      <td>R</td>\n",
       "      <td>NaN</td>\n",
       "      <td>Gramercy</td>\n",
       "      <td>None</td>\n",
       "      <td>None</td>\n",
       "      <td>None</td>\n",
       "      <td>None</td>\n",
       "      <td>NaN</td>\n",
       "      <td>6.1</td>\n",
       "      <td>1071.0</td>\n",
       "      <td>False</td>\n",
       "    </tr>\n",
       "    <tr>\n",
       "      <th>1</th>\n",
       "      <td>First Love, Last Rites</td>\n",
       "      <td>10876.0</td>\n",
       "      <td>10876.0</td>\n",
       "      <td>NaN</td>\n",
       "      <td>300000.0</td>\n",
       "      <td>Aug 07 1998</td>\n",
       "      <td>R</td>\n",
       "      <td>NaN</td>\n",
       "      <td>Strand</td>\n",
       "      <td>None</td>\n",
       "      <td>Drama</td>\n",
       "      <td>None</td>\n",
       "      <td>None</td>\n",
       "      <td>NaN</td>\n",
       "      <td>6.9</td>\n",
       "      <td>207.0</td>\n",
       "      <td>True</td>\n",
       "    </tr>\n",
       "    <tr>\n",
       "      <th>2</th>\n",
       "      <td>I Married a Strange Person</td>\n",
       "      <td>203134.0</td>\n",
       "      <td>203134.0</td>\n",
       "      <td>NaN</td>\n",
       "      <td>250000.0</td>\n",
       "      <td>Aug 28 1998</td>\n",
       "      <td>None</td>\n",
       "      <td>NaN</td>\n",
       "      <td>Lionsgate</td>\n",
       "      <td>None</td>\n",
       "      <td>Comedy</td>\n",
       "      <td>None</td>\n",
       "      <td>None</td>\n",
       "      <td>NaN</td>\n",
       "      <td>6.8</td>\n",
       "      <td>865.0</td>\n",
       "      <td>False</td>\n",
       "    </tr>\n",
       "    <tr>\n",
       "      <th>3</th>\n",
       "      <td>Let's Talk About Sex</td>\n",
       "      <td>373615.0</td>\n",
       "      <td>373615.0</td>\n",
       "      <td>NaN</td>\n",
       "      <td>300000.0</td>\n",
       "      <td>Sep 11 1998</td>\n",
       "      <td>None</td>\n",
       "      <td>NaN</td>\n",
       "      <td>Fine Line</td>\n",
       "      <td>None</td>\n",
       "      <td>Comedy</td>\n",
       "      <td>None</td>\n",
       "      <td>None</td>\n",
       "      <td>13.0</td>\n",
       "      <td>NaN</td>\n",
       "      <td>NaN</td>\n",
       "      <td>False</td>\n",
       "    </tr>\n",
       "    <tr>\n",
       "      <th>4</th>\n",
       "      <td>Slam</td>\n",
       "      <td>1009819.0</td>\n",
       "      <td>1087521.0</td>\n",
       "      <td>NaN</td>\n",
       "      <td>1000000.0</td>\n",
       "      <td>Oct 09 1998</td>\n",
       "      <td>R</td>\n",
       "      <td>NaN</td>\n",
       "      <td>Trimark</td>\n",
       "      <td>Original Screenplay</td>\n",
       "      <td>Drama</td>\n",
       "      <td>Contemporary Fiction</td>\n",
       "      <td>None</td>\n",
       "      <td>62.0</td>\n",
       "      <td>3.4</td>\n",
       "      <td>165.0</td>\n",
       "      <td>True</td>\n",
       "    </tr>\n",
       "    <tr>\n",
       "      <th>...</th>\n",
       "      <td>...</td>\n",
       "      <td>...</td>\n",
       "      <td>...</td>\n",
       "      <td>...</td>\n",
       "      <td>...</td>\n",
       "      <td>...</td>\n",
       "      <td>...</td>\n",
       "      <td>...</td>\n",
       "      <td>...</td>\n",
       "      <td>...</td>\n",
       "      <td>...</td>\n",
       "      <td>...</td>\n",
       "      <td>...</td>\n",
       "      <td>...</td>\n",
       "      <td>...</td>\n",
       "      <td>...</td>\n",
       "      <td>...</td>\n",
       "    </tr>\n",
       "    <tr>\n",
       "      <th>3195</th>\n",
       "      <td>Zombieland</td>\n",
       "      <td>75590286.0</td>\n",
       "      <td>98690286.0</td>\n",
       "      <td>28281155.0</td>\n",
       "      <td>23600000.0</td>\n",
       "      <td>Oct 02 2009</td>\n",
       "      <td>R</td>\n",
       "      <td>87.0</td>\n",
       "      <td>Sony Pictures</td>\n",
       "      <td>Original Screenplay</td>\n",
       "      <td>Comedy</td>\n",
       "      <td>Fantasy</td>\n",
       "      <td>Ruben Fleischer</td>\n",
       "      <td>89.0</td>\n",
       "      <td>7.8</td>\n",
       "      <td>81629.0</td>\n",
       "      <td>False</td>\n",
       "    </tr>\n",
       "    <tr>\n",
       "      <th>3196</th>\n",
       "      <td>Zack and Miri Make a Porno</td>\n",
       "      <td>31452765.0</td>\n",
       "      <td>36851125.0</td>\n",
       "      <td>21240321.0</td>\n",
       "      <td>24000000.0</td>\n",
       "      <td>Oct 31 2008</td>\n",
       "      <td>R</td>\n",
       "      <td>101.0</td>\n",
       "      <td>Weinstein Co.</td>\n",
       "      <td>Original Screenplay</td>\n",
       "      <td>Comedy</td>\n",
       "      <td>Contemporary Fiction</td>\n",
       "      <td>Kevin Smith</td>\n",
       "      <td>65.0</td>\n",
       "      <td>7.0</td>\n",
       "      <td>55687.0</td>\n",
       "      <td>False</td>\n",
       "    </tr>\n",
       "    <tr>\n",
       "      <th>3198</th>\n",
       "      <td>Zoom</td>\n",
       "      <td>11989328.0</td>\n",
       "      <td>12506188.0</td>\n",
       "      <td>6679409.0</td>\n",
       "      <td>35000000.0</td>\n",
       "      <td>Aug 11 2006</td>\n",
       "      <td>PG</td>\n",
       "      <td>NaN</td>\n",
       "      <td>Sony Pictures</td>\n",
       "      <td>Based on Comic/Graphic Novel</td>\n",
       "      <td>Adventure</td>\n",
       "      <td>Super Hero</td>\n",
       "      <td>Peter Hewitt</td>\n",
       "      <td>3.0</td>\n",
       "      <td>3.4</td>\n",
       "      <td>7424.0</td>\n",
       "      <td>False</td>\n",
       "    </tr>\n",
       "    <tr>\n",
       "      <th>3199</th>\n",
       "      <td>The Legend of Zorro</td>\n",
       "      <td>45575336.0</td>\n",
       "      <td>141475336.0</td>\n",
       "      <td>NaN</td>\n",
       "      <td>80000000.0</td>\n",
       "      <td>Oct 28 2005</td>\n",
       "      <td>PG</td>\n",
       "      <td>129.0</td>\n",
       "      <td>Sony Pictures</td>\n",
       "      <td>Remake</td>\n",
       "      <td>Adventure</td>\n",
       "      <td>Historical Fiction</td>\n",
       "      <td>Martin Campbell</td>\n",
       "      <td>26.0</td>\n",
       "      <td>5.7</td>\n",
       "      <td>21161.0</td>\n",
       "      <td>False</td>\n",
       "    </tr>\n",
       "    <tr>\n",
       "      <th>3200</th>\n",
       "      <td>The Mask of Zorro</td>\n",
       "      <td>93828745.0</td>\n",
       "      <td>233700000.0</td>\n",
       "      <td>NaN</td>\n",
       "      <td>65000000.0</td>\n",
       "      <td>Jul 17 1998</td>\n",
       "      <td>PG-13</td>\n",
       "      <td>136.0</td>\n",
       "      <td>Sony Pictures</td>\n",
       "      <td>Remake</td>\n",
       "      <td>Adventure</td>\n",
       "      <td>Historical Fiction</td>\n",
       "      <td>Martin Campbell</td>\n",
       "      <td>82.0</td>\n",
       "      <td>6.7</td>\n",
       "      <td>4789.0</td>\n",
       "      <td>False</td>\n",
       "    </tr>\n",
       "  </tbody>\n",
       "</table>\n",
       "<p>2926 rows × 17 columns</p>\n",
       "</div>"
      ],
      "text/plain": [
       "                           Title    US_Gross  Worldwide_Gross  US_DVD_Sales  \\\n",
       "0                 The Land Girls    146083.0         146083.0           NaN   \n",
       "1         First Love, Last Rites     10876.0          10876.0           NaN   \n",
       "2     I Married a Strange Person    203134.0         203134.0           NaN   \n",
       "3           Let's Talk About Sex    373615.0         373615.0           NaN   \n",
       "4                           Slam   1009819.0        1087521.0           NaN   \n",
       "...                          ...         ...              ...           ...   \n",
       "3195                  Zombieland  75590286.0       98690286.0    28281155.0   \n",
       "3196  Zack and Miri Make a Porno  31452765.0       36851125.0    21240321.0   \n",
       "3198                        Zoom  11989328.0       12506188.0     6679409.0   \n",
       "3199         The Legend of Zorro  45575336.0      141475336.0           NaN   \n",
       "3200           The Mask of Zorro  93828745.0      233700000.0           NaN   \n",
       "\n",
       "      Production_Budget Release_Date MPAA_Rating  Running_Time_min  \\\n",
       "0             8000000.0  Jun 12 1998           R               NaN   \n",
       "1              300000.0  Aug 07 1998           R               NaN   \n",
       "2              250000.0  Aug 28 1998        None               NaN   \n",
       "3              300000.0  Sep 11 1998        None               NaN   \n",
       "4             1000000.0  Oct 09 1998           R               NaN   \n",
       "...                 ...          ...         ...               ...   \n",
       "3195         23600000.0  Oct 02 2009           R              87.0   \n",
       "3196         24000000.0  Oct 31 2008           R             101.0   \n",
       "3198         35000000.0  Aug 11 2006          PG               NaN   \n",
       "3199         80000000.0  Oct 28 2005          PG             129.0   \n",
       "3200         65000000.0  Jul 17 1998       PG-13             136.0   \n",
       "\n",
       "        Distributor                        Source Major_Genre  \\\n",
       "0          Gramercy                          None        None   \n",
       "1            Strand                          None       Drama   \n",
       "2         Lionsgate                          None      Comedy   \n",
       "3         Fine Line                          None      Comedy   \n",
       "4           Trimark           Original Screenplay       Drama   \n",
       "...             ...                           ...         ...   \n",
       "3195  Sony Pictures           Original Screenplay      Comedy   \n",
       "3196  Weinstein Co.           Original Screenplay      Comedy   \n",
       "3198  Sony Pictures  Based on Comic/Graphic Novel   Adventure   \n",
       "3199  Sony Pictures                        Remake   Adventure   \n",
       "3200  Sony Pictures                        Remake   Adventure   \n",
       "\n",
       "             Creative_Type         Director  Rotten_Tomatoes_Rating  \\\n",
       "0                     None             None                     NaN   \n",
       "1                     None             None                     NaN   \n",
       "2                     None             None                     NaN   \n",
       "3                     None             None                    13.0   \n",
       "4     Contemporary Fiction             None                    62.0   \n",
       "...                    ...              ...                     ...   \n",
       "3195               Fantasy  Ruben Fleischer                    89.0   \n",
       "3196  Contemporary Fiction      Kevin Smith                    65.0   \n",
       "3198            Super Hero     Peter Hewitt                     3.0   \n",
       "3199    Historical Fiction  Martin Campbell                    26.0   \n",
       "3200    Historical Fiction  Martin Campbell                    82.0   \n",
       "\n",
       "      IMDB_Rating  IMDB_Votes  __selected  \n",
       "0             6.1      1071.0       False  \n",
       "1             6.9       207.0        True  \n",
       "2             6.8       865.0       False  \n",
       "3             NaN         NaN       False  \n",
       "4             3.4       165.0        True  \n",
       "...           ...         ...         ...  \n",
       "3195          7.8     81629.0       False  \n",
       "3196          7.0     55687.0       False  \n",
       "3198          3.4      7424.0       False  \n",
       "3199          5.7     21161.0       False  \n",
       "3200          6.7      4789.0       False  \n",
       "\n",
       "[2926 rows x 17 columns]"
      ]
     },
     "execution_count": 14,
     "metadata": {},
     "output_type": "execute_result"
    }
   ],
   "source": [
    "df_d5eb2[0]"
   ]
  },
  {
   "cell_type": "code",
   "execution_count": null,
   "id": "11273e22-8673-410b-a2c9-afac7fe10573",
   "metadata": {
    "trrack_graph": {
     "current": "691db402-a843-4b01-a1f1-8aafce2704b7",
     "nodes": {
      "691db402-a843-4b01-a1f1-8aafce2704b7": {
       "artifacts": [],
       "children": [],
       "createdOn": 1686114052474,
       "event": "Root",
       "id": "691db402-a843-4b01-a1f1-8aafce2704b7",
       "label": "Root",
       "level": 0,
       "meta": {
        "annotation": [],
        "bookmark": []
       },
       "state": {
        "type": "checkpoint",
        "val": {
         "id": "e416b597-33da-4c9e-b19a-92c2ba490099",
         "type": "create"
        }
       }
      }
     },
     "root": "691db402-a843-4b01-a1f1-8aafce2704b7"
    }
   },
   "outputs": [],
   "source": []
  }
 ],
 "metadata": {
  "NB_UUID": "6b8b4a3b-854e-4223-9a25-725260e810b5",
  "kernelspec": {
   "display_name": "Python 3 (ipykernel)",
   "language": "python",
   "name": "python3"
  },
  "language_info": {
   "codemirror_mode": {
    "name": "ipython",
    "version": 3
   },
   "file_extension": ".py",
   "mimetype": "text/x-python",
   "name": "python",
   "nbconvert_exporter": "python",
   "pygments_lexer": "ipython3",
   "version": "3.8.16"
  },
  "vscode": {
   "interpreter": {
    "hash": "31f2aee4e71d21fbe5cf8b01ff0e069b9275f58929596ceb00d14d90e3e16cd6"
   }
  }
 },
 "nbformat": 4,
 "nbformat_minor": 5
}
