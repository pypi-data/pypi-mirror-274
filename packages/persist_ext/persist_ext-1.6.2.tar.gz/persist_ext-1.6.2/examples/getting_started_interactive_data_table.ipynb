{
 "cells": [
  {
   "cell_type": "code",
   "execution_count": 1,
   "id": "4d39d0b5-5fe4-4bb9-8e55-83f5deb7f471",
   "metadata": {
    "__GENERATED_DATAFRAMES__": "ᯢ粠 ",
    "__has_persist_output": true,
    "trrack_graph": "ᯡ࠽䈌ʀ匦㢠⹰ৠ㌠氡〱䆢ಐୠ೥æ⢪晠療ĸă⍕෫►ᒿṠፍተ¶⡨⇳㈄ᕁ╦䕝㍶皽嶛礩#℠Ώ䃦Ą䁅ШN㵀〡岁䋼℩㎎粠׈䇈G㎲;‫埰ᩚ䲰,綒႞᫦Ԡ޳ŀ熈磘♆ᘳԨ⿀ב䍻灤℘と▕呢স䜯桑Ⱑ囅簠枈ⱀఏ嘌㒳燩嘨嚨䠼ǆൽ〤砠ᴶ湞ᢒ➊戴⌇゗憻ၡ抲簠⬵憧ڢ▪ᇀҀ⣴ൂ㸬ᙟѫ⍡ᣑन務え̪埰國⒱ᆣካ⃹ุ䀡ᖵ抲ヘĸ䍂⣴ᴱ䆁塸ܫ䈁碢ァဢ尢⃁朆䢑㥞ᣂ፴劙ᧂ劔䆰  "
   },
   "outputs": [
    {
     "data": {
      "application/vnd.jupyter.widget-view+json": {
       "model_id": "02ee3a33391c4ba78202b9aafcecd3ae",
       "version_major": 2,
       "version_minor": 1
      },
      "text/plain": [
       "PersistWidget(data_values=[{'__id_column': '1', 'Name': 'chevrolet chevelle malibu', 'Miles_per_Gallon': 18.0,…"
      ]
     },
     "execution_count": 1,
     "metadata": {},
     "output_type": "execute_result"
    }
   ],
   "source": [
    "from vega_datasets import data # Load vega_datasets\n",
    "import persist_ext as PR # Load Persist Extension\n",
    "\n",
    "cars_df = data.cars() # Get the cars dataset as Pandas dataframe\n",
    "\n",
    "PR.PersistTable(cars_df) # Display cars dataset with interactive table"
   ]
  },
  {
   "cell_type": "code",
   "execution_count": 3,
   "id": "214b22c3-a7e1-49af-81af-b7cd76410e3a",
   "metadata": {},
   "outputs": [
    {
     "data": {
      "text/html": [
       "<div>\n",
       "<style scoped>\n",
       "    .dataframe tbody tr th:only-of-type {\n",
       "        vertical-align: middle;\n",
       "    }\n",
       "\n",
       "    .dataframe tbody tr th {\n",
       "        vertical-align: top;\n",
       "    }\n",
       "\n",
       "    .dataframe thead th {\n",
       "        text-align: right;\n",
       "    }\n",
       "</style>\n",
       "<table border=\"1\" class=\"dataframe\">\n",
       "  <thead>\n",
       "    <tr style=\"text-align: right;\">\n",
       "      <th></th>\n",
       "      <th>Cylinders</th>\n",
       "      <th>Displacement</th>\n",
       "      <th>Name</th>\n",
       "      <th>Horsepower</th>\n",
       "      <th>Weight_in_lbs</th>\n",
       "      <th>Acceleration</th>\n",
       "      <th>Year</th>\n",
       "      <th>Origin</th>\n",
       "      <th>is_selected</th>\n",
       "    </tr>\n",
       "  </thead>\n",
       "  <tbody>\n",
       "    <tr>\n",
       "      <th>0</th>\n",
       "      <td>8</td>\n",
       "      <td>307.0</td>\n",
       "      <td>chevrolet chevelle malibu</td>\n",
       "      <td>130</td>\n",
       "      <td>3504</td>\n",
       "      <td>12.0</td>\n",
       "      <td>0</td>\n",
       "      <td>USA</td>\n",
       "      <td>False</td>\n",
       "    </tr>\n",
       "    <tr>\n",
       "      <th>1</th>\n",
       "      <td>8</td>\n",
       "      <td>350.0</td>\n",
       "      <td>buick skylark 320</td>\n",
       "      <td>165</td>\n",
       "      <td>3693</td>\n",
       "      <td>11.5</td>\n",
       "      <td>0</td>\n",
       "      <td>USA</td>\n",
       "      <td>False</td>\n",
       "    </tr>\n",
       "    <tr>\n",
       "      <th>2</th>\n",
       "      <td>8</td>\n",
       "      <td>318.0</td>\n",
       "      <td>plymouth satellite</td>\n",
       "      <td>150</td>\n",
       "      <td>3436</td>\n",
       "      <td>11.0</td>\n",
       "      <td>0</td>\n",
       "      <td>USA</td>\n",
       "      <td>True</td>\n",
       "    </tr>\n",
       "    <tr>\n",
       "      <th>3</th>\n",
       "      <td>8</td>\n",
       "      <td>304.0</td>\n",
       "      <td>amc rebel sst</td>\n",
       "      <td>150</td>\n",
       "      <td>3433</td>\n",
       "      <td>12.0</td>\n",
       "      <td>0</td>\n",
       "      <td>USA</td>\n",
       "      <td>False</td>\n",
       "    </tr>\n",
       "    <tr>\n",
       "      <th>4</th>\n",
       "      <td>8</td>\n",
       "      <td>302.0</td>\n",
       "      <td>ford torino</td>\n",
       "      <td>140</td>\n",
       "      <td>3449</td>\n",
       "      <td>10.5</td>\n",
       "      <td>0</td>\n",
       "      <td>USA</td>\n",
       "      <td>False</td>\n",
       "    </tr>\n",
       "  </tbody>\n",
       "</table>\n",
       "</div>"
      ],
      "text/plain": [
       "   Cylinders  Displacement                       Name  Horsepower  \\\n",
       "0          8         307.0  chevrolet chevelle malibu         130   \n",
       "1          8         350.0          buick skylark 320         165   \n",
       "2          8         318.0         plymouth satellite         150   \n",
       "3          8         304.0              amc rebel sst         150   \n",
       "4          8         302.0                ford torino         140   \n",
       "\n",
       "   Weight_in_lbs  Acceleration  Year Origin  is_selected  \n",
       "0           3504          12.0     0    USA        False  \n",
       "1           3693          11.5     0    USA        False  \n",
       "2           3436          11.0     0    USA         True  \n",
       "3           3433          12.0     0    USA        False  \n",
       "4           3449          10.5     0    USA        False  "
      ]
     },
     "execution_count": 3,
     "metadata": {},
     "output_type": "execute_result"
    }
   ],
   "source": [
    "persist_df_1.head()"
   ]
  }
 ],
 "metadata": {
  "__persist_keys_record": [
   "__GENERATED_DATAFRAMES__",
   "__persist_nb_uuid__",
   "trrack_graph"
  ],
  "__persist_nb_uuid__": "71bbd9f0-dd59-46c9-9e0f-7194b6f50588",
  "kernelspec": {
   "display_name": "Python 3 (ipykernel)",
   "language": "python",
   "name": "python3"
  },
  "language_info": {
   "codemirror_mode": {
    "name": "ipython",
    "version": 3
   },
   "file_extension": ".py",
   "mimetype": "text/x-python",
   "name": "python",
   "nbconvert_exporter": "python",
   "pygments_lexer": "ipython3",
   "version": "3.12.3"
  }
 },
 "nbformat": 4,
 "nbformat_minor": 5
}
