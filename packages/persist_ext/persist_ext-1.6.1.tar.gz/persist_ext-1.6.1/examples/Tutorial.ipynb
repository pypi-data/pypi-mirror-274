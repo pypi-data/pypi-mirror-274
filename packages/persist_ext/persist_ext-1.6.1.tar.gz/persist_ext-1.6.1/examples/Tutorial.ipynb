{
 "cells": [
  {
   "cell_type": "code",
   "execution_count": 1,
   "id": "4d39d0b5-5fe4-4bb9-8e55-83f5deb7f471",
   "metadata": {},
   "outputs": [],
   "source": [
    "from vega_datasets import data\n",
    "import persist_ext as PR"
   ]
  },
  {
   "cell_type": "code",
   "execution_count": 2,
   "id": "1e0ad7ad-0c9a-4a4f-9a6b-6109ebb0e259",
   "metadata": {
    "__GENERATED_DATAFRAMES__": "ᯡࠣ䅬Ԁ朤壠ᜣ琢〹夤゠⹰〮⁁䁻қ䚾ኊ㇠നСࠩ瀮晼Ƭ穅5愠៤⠠ ",
    "__has_persist_output": true,
    "trrack_graph": "ᯡ࠽䈌ʀ匦㢠⹰恆øĀ᣻ϐҀ୮䁃Ḣನ˭㓲䐩曀̠晃⠰ᖴ掚偶嘃ҴE䨲ࡔⳙѫ䥵埄櫣䯏㽡懅∠桠ø⨊ẰӁĠפწW౐㮨⃎濹۠Ǝᒅ\"㣙အ娠嵣ᆳ䘼梢摖悤⢌ばᠲ°亭⁅‶ᥐʦ{భ䊬∡⌤䍴淤ჹ䑨應᫠ඎ⣂ޗ䉂Þ䎞獠ೢ䶣で㕤䄀䷂搰චᏠĂ娕磣㇛ᬰ煷㟃䊾ᅅប恱⁉ᠤ㉂Ḥ抁䵧䒀䴰⡆佤ӻ䂹℔㨻ʢ⠦᫫ㇻቐ⩴☻ᇃࠨᛑ屒اߣࢄ┦䏀ᣬ㬳䈁砢Ⴄ✓〠⮰∵᷼央Ⴧ掴≺䩬桉ᵕ᱒  "
   },
   "outputs": [
    {
     "data": {
      "application/vnd.jupyter.widget-view+json": {
       "model_id": "96c32320017445e283e79f1ad93b995a",
       "version_major": 2,
       "version_minor": 1
      },
      "text/plain": [
       "PersistWidget(data_values=[{'__id_column': '1', 'Name': 'chevrolet chevelle malibu', 'Miles_per_Gallon': 18.0,…"
      ]
     },
     "execution_count": 2,
     "metadata": {},
     "output_type": "execute_result"
    }
   ],
   "source": [
    "cars_df = data.cars()\n",
    "\n",
    "PR.PersistTable(cars_df)"
   ]
  }
 ],
 "metadata": {
  "__persist_keys_record": [
   "__GENERATED_DATAFRAMES__",
   "__persist_nb_uuid__",
   "trrack_graph"
  ],
  "__persist_nb_uuid__": "71bbd9f0-dd59-46c9-9e0f-7194b6f50588",
  "kernelspec": {
   "display_name": "Python 3 (ipykernel)",
   "language": "python",
   "name": "python3"
  },
  "language_info": {
   "codemirror_mode": {
    "name": "ipython",
    "version": 3
   },
   "file_extension": ".py",
   "mimetype": "text/x-python",
   "name": "python",
   "nbconvert_exporter": "python",
   "pygments_lexer": "ipython3",
   "version": "3.12.3"
  }
 },
 "nbformat": 4,
 "nbformat_minor": 5
}
