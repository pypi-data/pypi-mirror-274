{
 "cells": [
  {
   "cell_type": "code",
   "execution_count": 1,
   "id": "884a61c5-c341-4318-a314-a16dc9de1592",
   "metadata": {
    "trrack_graph": "ᯡ࠽䈌ʀ匦㢠⹰ࢀ✠䲈ᖠ昸Āୡ䁦ᐹࠥ䮡戢ᢂ劵媵䃜ュᝅ․奢℮䖫墹֊娬䱹墒爇怦䈠ۥẬڱj࠰|⇴怣㣣՘䈰擹䠠挠ଡ൰½嚰Έƕ樺䭽ሠƽⴃ煦ᤐȄ恨删ᬺᒭʾ೩⒁叴Öᢃ੟ᑬढ⹐ࡡጱȊ穃U䃅،瀐Т緵淵S੓壡ུण䅴惫䘠传ά滭挬皈ⱠҌ丶ᑝ㈨ࡤ╥'㊃䋯ᔁ杼㏕ᘬ瑦䍘೅ࡲᓹ汖㘪⪦㥙獅䑭࣡ㄹ寍ܔ⁏࣫㊩ᠼἩᎱᐺ຤≑䱂ᖮ懁Ნդ獘wឧ懹沂੐䅃兒ᙇࡰ।眷䄣㩠  "
   },
   "outputs": [
    {
     "name": "stdout",
     "output_type": "stream",
     "text": [
      "Loaded PersIst extension version 1.1.0\n",
      "Extension enabled for altair\n"
     ]
    }
   ],
   "source": [
    "import altair as alt\n",
    "from vega_datasets import data\n",
    "import persist_ext as PR\n",
    "\n",
    "PR.enable('altair')"
   ]
  },
  {
   "cell_type": "code",
   "execution_count": 2,
   "id": "5cb4b140-57e6-4ced-bf7d-15d33f09d4bd",
   "metadata": {
    "trrack_execution_spec": {
     "$schema": "https://vega.github.io/schema/vega-lite/v5.8.0.json",
     "config": {
      "view": {
       "continuousHeight": 300,
       "continuousWidth": 300
      }
     },
     "data": {
      "url": "https://cdn.jsdelivr.net/npm/vega-datasets@v1.29.0/data/unemployment-across-industries.json"
     },
     "encoding": {
      "color": {
       "field": "series",
       "scale": {
        "scheme": "category20b"
       },
       "type": "nominal"
      },
      "opacity": {
       "condition": {
        "param": "param_1",
        "value": 1
       },
       "value": 0.2
      },
      "x": {
       "axis": {
        "domain": false,
        "format": "%Y",
        "tickSize": 0
       },
       "field": "date",
       "timeUnit": "yearmonth",
       "type": "temporal"
      },
      "y": {
       "aggregate": "sum",
       "axis": null,
       "field": "count",
       "stack": "center",
       "type": "quantitative"
      }
     },
     "mark": {
      "type": "area"
     },
     "params": [
      {
       "bind": "legend",
       "name": "param_1",
       "select": {
        "fields": [
         "series"
        ],
        "type": "point"
       }
      }
     ]
    },
    "trrack_graph": "ᯡ࠽䈌ʀ匦㢠⹰ࢀଡᰧ〩䂃¬ȥ傇䙝䗀ච̠⍲͑乀囗⽯Ᏼ㟉䥈kᑄᄉ娑ષᓃ⃹嗛➎弝Ƞ桠ø叱䇾ဩ™+䑖䰠㜸シࡢ䱺大䀢汇⨠Ꮭ删᭤!旁慐䉰偁扜ࡡ,敢䅢㌳梑᧤ᡌጬܣྶ䄪䋰䀡㫺ᵻ↲ᚻ➯照ᣡ‡犀␢ἡ̮䆠ցԀ䏉娠嬸㦪ࡢ☩ƿᬨ⃛ࢡ⪰㴹䀺慒䘑洤⨡㻺Ѕ扪༼悮峻䅌愇映传ϓ槳慣徘䌨๗ۢ䄹䠰ᑮሀ䍤䨨ᨅ⑞ṯ橐↚щ⌄梴̢ᰅ璚෦窜儆嗂½ᔍు।ㅘ䅌䧁⦔卍䬅祢壊⮵惨⧣♥典幄䣄椬䭃䄄礢䣃´敗འㆢ†ࡷ怢崀༠gȸᒅ喆狴䃇ჳ⣼⭎凅焙繕塄憀㴸媮䥂お๡䭰偔᢫ↀ砨䜥ƅ㣤勍叜ޛᇡኁ㡢Ҧ⁰呚ᆤ⭈ᱎണ成ɗৃÔ浮寋氕㑼₡ুᎉ嚎Ӏଫ׋㜽媍䈧堼䞛䴁ጙឋ圃沠灱ؠʪኩ㇎甡‰ᔋ⬡埧ऑ烌帿៤ޯ䲾ごਪ䀰㯼⠓庚㤭慜㴂>䱮㷔ၮ䗊ọ掗㍘垭犐瞣甝䞫↜之璤忈ᘝ戮ۀ懐惡䤶Υ̵ׁ॔埀㴰ム⡐憠Ⱘ⋠硡Åᩐ༱儸䎬偻猠⠴杜㾱瞭㸻ࠡ竴⠩÷庪䂬㈯ᣰ␥㼟䜀熨㰰缂 ʶ᭤ⓢტ䂗ᡄ᫞ͨ⃇ၮ८ƪ㻬☯傠䱮缒㝡䀠᳾憨⍄Ѩ兌摩㟦悉=患惮ᐰ䁔Ĺ࠼a⁖ଠ偊ಧ割䔣刺ൡࡆϰ倬➢⨷ቅ䔇昄Ⴈᎅ㹠䨢甝Ṁa㶷匐ᛃ凬ᛏ灉⧩增ḧ砡άむಂ㉳㒮䴝ʣ䱸┢倫ᆁ傈嶷メĢᵽ㯆ᣝڋ畓㴠ಣࢆಸ҅ౢὲფᎤ娣ૼ⇝㫹⅖悌ൣ㢉จ㒌嘔ᵤ煕໏咄䧇㑠㧄䲞瞏㗜ᾠ৶ほ⇨నᢐ㓁恢࿉䅝ㄢ䆈⃩₷⸡䂦Ĵ䧪⛭挳㢨ᔉࣈ日⭅ᒅ❏ᔵ㥨棩▆墚ا栦࣠ℋ㎃ᤆ㮈壛⧏㦛⻯央༎㣧ゥ㢎㚰禇̄嶅峭嶥䠩嵵䛫岾ȂⒼਆ㰢昄፼榴捜䰼⭿㔰ఄ女Ĕ簮ᇵ່؀ᰠ㐽瞾‰ᕇ⍠䰯㷎п䭍澷ſ͒ƪ碤慲ἡ䄋ㄥࡪᔠ␂甯₣ٕ䁐ౕ䈁ᨪ璈習à炑獄氽㌪碪จ㺨䣰㉧槐ᔥÐ࿂ᣐᘬ₸⛸ᧈᘭ㠫紮⡮᭱熞㊽殚細᫳ⲩ䱦劮ᰓ᪬ⴤः⤆刣䁧ᨥڀ౗ިɔ䠚㩦䙑焥䜪⹔Ⅎ⽌㯤∝ށ籛ℱ唩㽱穙䞒Ἒؾᥟ⯵⪇㛴嵩盶䰔暮恍᪑ഭ劺ࡔ㪐㘨༏僐̠␸㶷䲣⡒㨯㓁〮牼稧䂣捡ㆲҽ॑产勍㤦嶟⏚᷈稧⌹೼奺π妭んጥ偂爆囪䀽䓑嶭ⴛ䗐牫㤆⭕ㆼ堨囫䋍殭ⱕ卥㗖䈎㥀⥣扲ᚨ㛱憙欴峭屩⮵夀Ჲ粛㒖㮢 ొ墯෉䡋儝䓺潀㮡▒禐璮笲☬ࡐ䤯Ĩ☡زᥗ㉡ᆌ䞤塧٬Ә尺䁫埤ΰ㩞㧒坘ፑ䃄焐䆠倬㶐ᢢ̸ㅰᨣ唄盠娪₸Π疢䉐ܢٓ䩯㔒疓Ȋ㻌䱲ࣜᦾ⇓ᖙ塚稶㪡ᚍ痈つ恃䦣琻ΐ┣灴┰甡გ䳂ᠡⅴᦲ粤瑠ᦆ噹篌牄沰䙁㼋娄ᥣ吺䏊ฉ啕⣵ΰ噝⟀垨䂚䕑涮Ω䧠咣塮し㠧⌦杢dຩढ䗐哀偁ؿᨥ睐䍦ಥ䄈估砯ᇈᄹ屏ńᨥ䁸䊠ᒵ⁐ߠുਐᝂ玴İ⩢敢ぬж继戜柫籏䔻⾠ރЗ捲抆㸽Ⲍ歸㣲Ⴘ৐䀴挓ᮀ䣡㚔䶣ᆂ摙㩔㤴㊓ᑢ婎㪯ɭ㓸洱ᛳ䏍ُⷤ哧㽑嬹ᦑ䀩䂠㬨শ歼㥠ᶽ㗷牰ⓠᾲ撧【潲༆╅ᙫ㤣㗫ͫ嚦䗒䤿劭㼲ඎ啅ⱽ䕝ㇶ牼㕷⊵孃慠筁稖⿙᧜崒㫥彁ⓧᎡᐶᑹ㪧⤵棉㦄ᅀぐヤ洠敎ㆩ䏄䵆⼅㻆ԫ㻪磚㔵ⶒ㡪坴᜸ᶎ➴懕禤彗䐠ម佨甹砉㨏櫣ፁ⍋ᤴᝑ埊䍬朑䴽瞚㐢Ა墕ࣙ᳀ᇕ兦ᔖ卯值⣤ౠ╤岓戾稱⃙Ὣ眨尊拯淥Ώ恤匓恃畀㰉ႌݸ㰬΄ᢥ伪ٮ䕘䓡ˮ㤙噦昰䷮泛䭁綸积ἁ拊夰ᖻ妷᫰Ħౡ䔱㺂嗐ᵃ⋰㧭⌃▤燫Ẩ᫅㏵嗣准嗘ኛ⸗૵㢩䓞ᇐ夌䲕ᓲᵲⱄ旉殃㕖弸瑮嬶㱍ử嵗䵥ᮄ䃴榬恇唕㪤厤⑎〬籲⃘⇡㺥䅱䬠䋍稀⴦ㆼ݌䒡怢⭤⪊捣䵖ഝ仰張׫฽䫳ʩ囚犉┚ⷣ哆䮉∪㤌哭ࣜ崱卽䕎攼剔ଂ⹥氆禟〒獒⫐厡ຐぐಶ濆欗᥌ిⅹ䉷ऐ䅡楱ဩᨂ丸ⱚ慿䚺巎哚⫙ㅴ㏎㩺䊛浏Ⓣï伣樺明ᧇ奓柊㖆㫃晲Ȭ⋱╆睅⪵█ͫ᷄ᇐᵀ᥯㦴䭎屙䠄ဢ╷㌠ᓖ砎溷Ἑ˝獈ၶ⬡矁咨㴢eО䴯䑅丝ᘻ₸⠰㉆₈࣡䶏ҟ䨆凞䂰Բ⹪⸸䣢࢈͢碉ᠨ朤⺑ඌ仨冣䪙䲽愵䅋璀≸洢ـ惐㬾⪡㌃ජ᜝䧊粊ⲅ併䘔炩减ভ抳獿儮ሡ੿ⰴ掫涔㞉俊▭᧜ⵖ厦矆䗀晓⊍痩仹妹囤ড䁍㞞ᮎ朚寇䀉ᯍò崣〴⦍ᢽ䌔༩ᐠ䏈᪣秫伀̊䷊癋ᣓ⤅㴄⼈㪷㪎❬⾑ᱽ䟊幽ᓐ殓ֶ㸧៪䧺㙆弾ٹ磩寯槛⬡坖‹ѱ⌲˼⎤णኰ絀ᐡ涑ޠ揪䐵ଁ䑘汅窙壹屏敖⿮᭛珂㵶爷圌稬撥♣渺㷖ᨧ㥔㍋㱮瞚ၙ漖㹣ඌ㹀岝ᓨ搹⤠䖳侅䨉⊬ᕟ织çఓ䞫䎟紮纩爝┈䢒㫟刼檢焺䀼ᘼ幄Ԥୃ哐僃䌨おᩀ↡䑸儃ᷘࣁ䡜炰ᆐ筂⢀вፅ泇ⅸ牽䲴羃㭨捲嚵ྏ┰㥒希奡松ৱ䆭紫朰䈍ଠ䌎ᄱ㥨乼᫋掙ऊ䁬䩇᜵௮ჴ䩄坍࣋呢欋嚙᪾ᅬ䕋垄椉囬囮Ṵ禆䛬最漨照ǽ䲣眬⋕塐忩浬0ᔰ┣੬䇴叄倭మN峔㧅ⴲ嫹ḱ紏䁢̦̰䆨㺆⩂ޠᤥ楚传硡ℶ凍宔絉宝檏䞌捂㵽硭Ι卧ᦃ筰Ґ⠶⡌π⑉ᠶ▌ݝẽ破屢ܠ厉ᾂ㥂䗀㹡知䃸䅴⼣䆋⣣叴㶽㨪礨ঝᨢ⢀䞀⩛丼⤈䄔ૢ廘ᥬ䉴㉙䙈䗦䐬䀼䴘嵏䠮歒ਡ孍✮⥆ᐜ复罜㫿傼ဂ❖䌠☝ᔆᔾ୓ትಏ枔㈔ྣ猠Ⴡㄨ➬牍喞ᣫ䡭猊儹֩唄ኍ偓⩈㋵ ⼣㇈⻵䪋⽩砵Ꭸ⅊䭧੍䐡啫⪚剕ᧈ㘃㜣ݵ䣣⢳ᾀ助©㵭䉜Ăו咴楉⭪ـヮ㩕Ç哙ḻ匯㪵䁑᤯夾墄ႜ䲩琸卼 ℴ祒ᄸ䷡䀤䓏䥂ᮇ嵁䧄⦘᤺ᩜ戽䄜埊㭤ƀ༔猲ᡢਗ尼吩ࡦ2ኤᬸ䩾凕婀笾罹䘯庂䚴壳⛌⋳塠⺋➌⻲癇͈㡠㳑㸢ᢨ⠣़ᢏݴ㭢圬ܾႆ䒴㗃改┮䜀㜙崰呾䜰⼃ᴎ悾㰓䱳ᄦ礞㊖ᑽ櫍磍⮭䱣缵᱉׈噣₼圳⣩䃥傴ㅍ㫈❼ࢷ坳㤲ト⅍㌪玈㡄☹睘㐌䟽̤榜⬥巙礠ᓈʃᕀ㷉ེŐႡ᥀Ც歵䮳㙦䡒䡎㴸妨Ὄ拚ࢥ歃䠰䎐㼠攦⦆⇪㷉ᵨ唕硏஝㮉䢭⠏匔社稰䅲೘昤䰭稭ᕳ䟎哓檞㪉ത橒՘ຼ䒅㤲᫼咤筊枊ࢼࠠ "
   },
   "outputs": [
    {
     "data": {
      "application/vnd.vegalite.v5+json": {
       "$schema": "https://vega.github.io/schema/vega-lite/v5.8.0.json",
       "config": {
        "view": {
         "continuousHeight": 300,
         "continuousWidth": 300
        }
       },
       "data": {
        "url": "https://cdn.jsdelivr.net/npm/vega-datasets@v1.29.0/data/unemployment-across-industries.json"
       },
       "encoding": {
        "color": {
         "field": "series",
         "scale": {
          "scheme": "category20b"
         },
         "type": "nominal"
        },
        "opacity": {
         "condition": {
          "param": "param_1",
          "value": 1
         },
         "value": 0.2
        },
        "x": {
         "axis": {
          "domain": false,
          "format": "%Y",
          "tickSize": 0
         },
         "field": "date",
         "timeUnit": "yearmonth",
         "type": "temporal"
        },
        "y": {
         "aggregate": "sum",
         "axis": null,
         "field": "count",
         "stack": "center",
         "type": "quantitative"
        }
       },
       "mark": {
        "type": "area"
       },
       "params": [
        {
         "bind": "legend",
         "name": "param_1",
         "select": {
          "fields": [
           "series"
          ],
          "type": "point"
         }
        }
       ]
      },
      "text/plain": [
       "<VegaLite 5 object>\n",
       "\n",
       "If you see this message, it means the renderer has not been properly enabled\n",
       "for the frontend that you are using. For more information, see\n",
       "https://altair-viz.github.io/user_guide/display_frontends.html#troubleshooting\n"
      ]
     },
     "execution_count": 2,
     "metadata": {},
     "output_type": "execute_result"
    }
   ],
   "source": [
    "source = data.unemployment_across_industries.url\n",
    "\n",
    "selection = alt.selection_point(fields=['series'], bind='legend')\n",
    "\n",
    "alt.Chart(source).mark_area().encode(\n",
    "    alt.X('yearmonth(date):T').axis(domain=False, format='%Y', tickSize=0),\n",
    "    alt.Y('sum(count):Q').stack('center').axis(None),\n",
    "    alt.Color('series:N').scale(scheme='category20b'),\n",
    "    opacity=alt.condition(selection, alt.value(1), alt.value(0.2))\n",
    ").add_params(\n",
    "    selection\n",
    ")"
   ]
  }
 ],
 "metadata": {
  "__CATEGORIES_META__": "{\"categories\":{},\"activeCategoryName\":\"\"}",
  "kernelspec": {
   "display_name": "Python 3 (ipykernel)",
   "language": "python",
   "name": "python3"
  },
  "language_info": {
   "codemirror_mode": {
    "name": "ipython",
    "version": 3
   },
   "file_extension": ".py",
   "mimetype": "text/x-python",
   "name": "python",
   "nbconvert_exporter": "python",
   "pygments_lexer": "ipython3",
   "version": "3.8.16"
  }
 },
 "nbformat": 4,
 "nbformat_minor": 5
}
