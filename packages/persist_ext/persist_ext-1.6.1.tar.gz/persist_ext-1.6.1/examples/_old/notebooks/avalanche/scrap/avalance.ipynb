{
 "cells": [
  {
   "cell_type": "code",
   "execution_count": 1,
   "id": "99116130-945f-4893-a8c3-0d040525966f",
   "metadata": {
    "trrack_graph": "ᯡ࠽䈌ʀ匦㢠⹱⁆ŸހᎠ㘣ద〫 澠䍵䐢怣䃹í␨晋⫈⪐坔P慅)㊤䈭ାᅒ䫵町䣗㔍毿䡨:ࠠᬪ剑筄ň⁠ƕ椣-挬܂ࠫ毗砠ⵧ畠ʒ㥀ǔÚ㶝Ω䤠⟏䐨典惀Ēい⭎ᬧপ怷⋂㆒稠嬸ᖥѤŦҠ啺䑁榨ポ⥅䀺扱⠐璦䈡㺚Ầ匥Ἢ悢漩ǣ殥䡀⬠➠ǡ㈭熧悖噁⋮宛Չ农⥏䆢ㅒ炉㠴扈⅞㚿ጬ⛥ㆯऩ䨔瑼ᴧⅡ塲ᛢ富ᜤ䥂,烁䐯牸⹉̣䀰⒒ફ⁐璆ඡ技尾ྪ䈩䉘䀪砒ʧ⮺❥摸抷࿥呤䚴但慠  "
   },
   "outputs": [],
   "source": [
    "import altair as alt # Load altair for charting\n",
    "\n",
    "alt.data_transformers.disable_max_rows() # Disable altair's max row limit.\n",
    "\n",
    "import pandas as pd # Load pandas for data processing\n",
    "\n",
    "import persist_ext as PR # Import the extension\n"
   ]
  },
  {
   "cell_type": "code",
   "execution_count": 2,
   "id": "b59d08be-a502-4640-96ec-56926fd0614d",
   "metadata": {
    "trrack_graph": "ᯡ࠽䈌ʀ匦㢠⹰ૠᬠ䘤熀䌬͐ୢ䂖ᘠᢨ˧䀮ᇙ㛀⌱ᡑ〳̪⥭❣ਲ⠠䬱䑁槑爱ᝅ⭷Ƴ⮖乜簥Ҩǁ#㟣ࢉРኤРᜰ͐üメ浪巟㈠ᣠˬリ$熒‣㐡㨦䍇⦲ʠ渂෡壡‡犀␶ᨶᲴ䋧挅ኰ倬Öᠻ⹈䐷ةۉ妨⃓ࢱ̬㖠᫼室༏ѤƜܝ暢⹗䛡໵ण䅔憊㘠传ϒ橯挭眏ⱡ䕼庮屓㈨ɼ渃@ᇃ⣱㡤⠠㌿گ䌤⋡㉭ॾ㓀亡℈⠶Ƣ磶䷕沵①懂ᩑ¢欻䵄悐籑٤傈穃ೣじ湏࿤ত⽗䀥㤤Ↄ䩣ᆃ牼⥠◉䓭ಳ剳䍀  "
   },
   "outputs": [
    {
     "data": {
      "text/html": [
       "<div>\n",
       "<style scoped>\n",
       "    .dataframe tbody tr th:only-of-type {\n",
       "        vertical-align: middle;\n",
       "    }\n",
       "\n",
       "    .dataframe tbody tr th {\n",
       "        vertical-align: top;\n",
       "    }\n",
       "\n",
       "    .dataframe thead th {\n",
       "        text-align: right;\n",
       "    }\n",
       "</style>\n",
       "<table border=\"1\" class=\"dataframe\">\n",
       "  <thead>\n",
       "    <tr style=\"text-align: right;\">\n",
       "      <th></th>\n",
       "      <th>Date</th>\n",
       "      <th>;Region</th>\n",
       "      <th>Place</th>\n",
       "      <th>;Trigger</th>\n",
       "      <th>;Weak Layer</th>\n",
       "      <th>Depth_inches</th>\n",
       "      <th>Width_inches</th>\n",
       "      <th>Vertical_inches</th>\n",
       "      <th>Aspect</th>\n",
       "      <th>Elevation_feet</th>\n",
       "      <th>Coordinates</th>\n",
       "      <th>Comments 1</th>\n",
       "    </tr>\n",
       "  </thead>\n",
       "  <tbody>\n",
       "    <tr>\n",
       "      <th>0</th>\n",
       "      <td>2012-11-09</td>\n",
       "      <td>Salt Lake</td>\n",
       "      <td>Sunset Peak</td>\n",
       "      <td>Snowboarder</td>\n",
       "      <td>New Snow/Old Snow Interface</td>\n",
       "      <td>14.0</td>\n",
       "      <td>960.0</td>\n",
       "      <td>360.0</td>\n",
       "      <td>North</td>\n",
       "      <td>10400.0</td>\n",
       "      <td>40.577977000000, -111.595817000000</td>\n",
       "      <td>While it was a small avalanche that was I caug...</td>\n",
       "    </tr>\n",
       "    <tr>\n",
       "      <th>1</th>\n",
       "      <td>2012-11-11</td>\n",
       "      <td>Salt Lake</td>\n",
       "      <td>Patsy Marly</td>\n",
       "      <td>Skier</td>\n",
       "      <td>New Snow/Old Snow Interface</td>\n",
       "      <td>30.0</td>\n",
       "      <td>1200.0</td>\n",
       "      <td>1200.0</td>\n",
       "      <td>North</td>\n",
       "      <td>9700.0</td>\n",
       "      <td>40.592619000000, -111.616099000000</td>\n",
       "      <td>A North facing aspect with an exposed ridge in...</td>\n",
       "    </tr>\n",
       "    <tr>\n",
       "      <th>2</th>\n",
       "      <td>2012-11-11</td>\n",
       "      <td>Salt Lake</td>\n",
       "      <td>Two Dogs</td>\n",
       "      <td>Skier</td>\n",
       "      <td>Facets</td>\n",
       "      <td>36.0</td>\n",
       "      <td>840.0</td>\n",
       "      <td>5400.0</td>\n",
       "      <td>North</td>\n",
       "      <td>10200.0</td>\n",
       "      <td>40.599291000000, -111.642315000000</td>\n",
       "      <td>Remotely triggered all the new storm snow (abo...</td>\n",
       "    </tr>\n",
       "    <tr>\n",
       "      <th>3</th>\n",
       "      <td>2012-11-11</td>\n",
       "      <td>Salt Lake</td>\n",
       "      <td>Emma Ridges</td>\n",
       "      <td>Skier</td>\n",
       "      <td>New Snow</td>\n",
       "      <td>18.0</td>\n",
       "      <td>600.0</td>\n",
       "      <td>6000.0</td>\n",
       "      <td>Southeast</td>\n",
       "      <td>10200.0</td>\n",
       "      <td>40.598313000000, -111.628304000000</td>\n",
       "      <td>Impressive fast powder cloud ran in front of t...</td>\n",
       "    </tr>\n",
       "    <tr>\n",
       "      <th>4</th>\n",
       "      <td>2012-11-11</td>\n",
       "      <td>Salt Lake</td>\n",
       "      <td>Sunset Peak</td>\n",
       "      <td>Skier</td>\n",
       "      <td>Facets</td>\n",
       "      <td>42.0</td>\n",
       "      <td>18000.0</td>\n",
       "      <td>9600.0</td>\n",
       "      <td>North</td>\n",
       "      <td>10400.0</td>\n",
       "      <td>40.578590000000, -111.595087000000</td>\n",
       "      <td>Three of us toured from Brighton to low saddle...</td>\n",
       "    </tr>\n",
       "  </tbody>\n",
       "</table>\n",
       "</div>"
      ],
      "text/plain": [
       "         Date    ;Region        Place     ;Trigger  \\\n",
       "0  2012-11-09  Salt Lake  Sunset Peak  Snowboarder   \n",
       "1  2012-11-11  Salt Lake  Patsy Marly        Skier   \n",
       "2  2012-11-11  Salt Lake     Two Dogs        Skier   \n",
       "3  2012-11-11  Salt Lake  Emma Ridges        Skier   \n",
       "4  2012-11-11  Salt Lake  Sunset Peak        Skier   \n",
       "\n",
       "                   ;Weak Layer  Depth_inches  Width_inches  Vertical_inches  \\\n",
       "0  New Snow/Old Snow Interface          14.0         960.0            360.0   \n",
       "1  New Snow/Old Snow Interface          30.0        1200.0           1200.0   \n",
       "2                       Facets          36.0         840.0           5400.0   \n",
       "3                     New Snow          18.0         600.0           6000.0   \n",
       "4                       Facets          42.0       18000.0           9600.0   \n",
       "\n",
       "      Aspect  Elevation_feet                         Coordinates  \\\n",
       "0      North         10400.0  40.577977000000, -111.595817000000   \n",
       "1      North          9700.0  40.592619000000, -111.616099000000   \n",
       "2      North         10200.0  40.599291000000, -111.642315000000   \n",
       "3  Southeast         10200.0  40.598313000000, -111.628304000000   \n",
       "4      North         10400.0  40.578590000000, -111.595087000000   \n",
       "\n",
       "                                          Comments 1  \n",
       "0  While it was a small avalanche that was I caug...  \n",
       "1  A North facing aspect with an exposed ridge in...  \n",
       "2  Remotely triggered all the new storm snow (abo...  \n",
       "3  Impressive fast powder cloud ran in front of t...  \n",
       "4  Three of us toured from Brighton to low saddle...  "
      ]
     },
     "execution_count": 2,
     "metadata": {},
     "output_type": "execute_result"
    }
   ],
   "source": [
    "df = pd.read_csv('./avalanches_cleaned.csv')\n",
    "df = df.rename(columns={\";Date\": \"Date\"})\n",
    "df.head()"
   ]
  },
  {
   "cell_type": "code",
   "execution_count": 7,
   "id": "87ceb40f-50b0-46f9-873b-495b16b82ddf",
   "metadata": {
    "__GENERATED_DATAFRAMES__": "ᯢ粠 ",
    "trrack_graph": "ᯡ࠽䈌ʀ匦㢠⹰恃ǸِΦ⠱䁍&ᔋీ଴ø㘰ჸ縡᤬恇ؠ昢墄坧䦳ैkᑄႈ妐ࢳჍ❱妻✾纣䍤ð䀡塕↨㵀ॢȠநƸᢀ眰䅽忒ঠ˼リ$熒‣㑡尢洸㵗ᴵåⓥ⌒ࡘìೄ䬦ጦ䋮䄆挒䱠ÚͣᎹ䤸䂉䄨ヹ瀡犀⒜൑㢷寢柦Ꮐ㈬Öᠻ̸䐡䘩ҹ宨⁛ࢁ䪰⩕䀺橐截澧䨡㸦㷥眣ጦ悪彻䁌懆㘠传σ緯挩䋽㱣䕼潃䃧ᦰ၄䵇⇘扗പ䃀䉞ඤ懰⨭ତᇐᩖβ熨橏ǧ怸屗䌗㷄䚬೴㲮㩡䔴傂㢢⒴偲㓆ⶴᆒⰡ⑱ᓪつἄ㎹䉜⢶╲璶⎳昙拉⤒呬嫛䀦⦹弶䨠3炚忠৑疷ၢΡ悚䀵掄憾橰‧栠≔瞦吧屆䰨ᓚ᛫㞯怫ˁ⫦⛆べ✱䓩娈⊑䀹勘㤽ۂ⸹㘥䃈೏ụ掐撙㲨䕃䡴ⴾ䊂夌ᜯ䀱Ѱࢸ᪊瘍❻团竤സ䅈箃Ӫ㌦朓㍩ㅹ嘦⛢ǹ瘧ⷤ熹̇熼䂐⒦\"䖁ᵭ樢䁀䎡䎋ů䎪羐竡牧戠᠍弰ሯՠࡋ流վ捆ŵ俓⎝渠߄㼏僡婯並橷С᱿䠗㢟䀪ŏ吩∰ᣠ娪㸼ᾡᓑࢥᤈභ愌嵁拈Ⴇ⋤ᔤ恌ኡ䀼ᴥ烂ऩÿ婠ㄐ寤懲య慐⨫ঀ仰㩮䷷帱֧⡄᳗怠շ剀畗倠㩾怡㔓ࠨ焬 堙康爩ᾨʳ຾斲ⵔ䁲痓ɲ檑ó準䯳࢑柅䡿࠳禨า怣ܹ抌ྡྷ㘤ӓ岏ྑ籴䈪㘶ଣ眬⨣≧挩⁅眱䗗䜁戹䊡ᯈɊ▔䇒㊛傒൏䜽檨 Ẅ丂㺛䟫慀䘬漘́ボ͇ℝ埕瓧ᤃ椞⅌נ╎ৈࡁ媐៦㪰㯈ᇲᣴɧᶂ籟ᮉ堶ަ䣒ܣ愅䥢囊ᛐ栭学㛍䖖哮ᐷ恋䘢䙑䎣䛼偢☬Ք扐ᵔ曱䝖䱂剒昹ᙐㄑ䪤⛈倿惉䐺ಀ筕曊哥ɀ&୴㶬樸䌯⧡檪煮С捘潼૘㽠᥮惿戤Ⴚ㯌ˣ伶ㅠ⋤ॵ䭪乮⤒հ兊㊡取㚥㆔ặ僰簰㏀永㩬榼㫸䧨᫼姻㌌綦窼㗼⁼⮳㧼巠祤ச㍾㶚敾㏹㠸㯡摞盋㝔㼪չ磄¤冢͘䅘ឡ瓄ᆡ戱խṅاᠸầ擕ᖅᅄ方㬮ᑇ℄ᲁ焛߇櫎曵婮ᰧ㑒瀷秜܁䍇啞⠸䂐Ƶ䒄穂珰䨲䌔璦䈣䈱᪀渵Ð岲䉼ᤗ㟵澷熇換䊽勢癈䫥⃶䕓≖ᴥ妑⪦劢ᘾ䨧欸妽㋭㽈櫭⇶渁眈惦椤Ẕ疝墇矣㿉ཆ咘ຣ⠥䰰撐䀠 "
   },
   "outputs": [],
   "source": [
    "# selection = alt.selection_point(\"selector\", encodings=[\"x\"])\n",
    "\n",
    "# c = alt.Chart(df).mark_bar().encode(x=\"utcyear(Date):N\", y=\"count()\", color=alt.condition(selection, alt.value(\"steelblue\"), alt.value(\"gray\"))).add_params(selection)\n",
    "# vis = PR.vis.TrrackableChart(c)\n",
    "# vis"
   ]
  },
  {
   "cell_type": "code",
   "execution_count": 8,
   "id": "e0f2a0be-96f6-458d-ab2a-1d276977082c",
   "metadata": {
    "__GENERATED_DATAFRAMES__": "ᯢ粠 ",
    "trrack_graph": "ᯡ࠽䈌ʀ匦㢠⹰ૠጠత瀹䜔׀ۥ¬ȡ㄃.Ɣɕ䵹Ƭ矓⯃浊2攩њ㙜䉄ᗊ桖㖅⇫䟛ἰTဠ㘡٬㇖䐢⡠䀢瓲̠෦౅戰匶埸zފ䀤矔䀭倥榋㖍٨్㬿坼挥'䦡ᇨ䑸㨬ᙶᬼ䆢䋰˸懭㨢ၽᡄᓜ桁Ŭ⌥㒸映止溯嗐ᐰؒ檖樠曚皓Ƀ⑄ܣ⦧ីŜ.㧇ެᶵ哑а㥸涔䛨ႁ⢦഼䌯⟀ᏐㅨヴⰭ䄳ഽ䖠₝榁⢧ᥰშ㍡ⲫ૴↨悑᳷喧穀ྫྷ撑䒸⸿ͣࢄ┦䇘ᒯኴ䔃㡘⼿䚨ÎἿ䟒㧤㑴䖭䦑ᙞ᳆፩၏␠ "
   },
   "outputs": [
    {
     "data": {
      "application/vnd.jupyter.widget-view+json": {
       "model_id": "133843598a184e378f904b7272eddd5c",
       "version_major": 2,
       "version_minor": 0
      },
      "text/plain": [
       "OutputWithTrrackWidget(body_widget=VegaLiteChartWidget(debounce_wait=250.0, df_columns=['Date', ';Region', 'Pl…"
      ]
     },
     "execution_count": 8,
     "metadata": {},
     "output_type": "execute_result"
    }
   ],
   "source": [
    "selection = alt.selection_interval(\"selector\", encodings=[\"x\", \"y\"])\n",
    "\n",
    "c = alt.Chart(df).mark_point().encode(x=\"Depth_inches:Q\", y=\"Elevation_feet:Q\", color=alt.condition(selection, alt.value(\"steelblue\"), alt.value(\"gray\"))).add_params(selection)\n",
    "PR.vis.TrrackableChart(c)"
   ]
  },
  {
   "cell_type": "code",
   "execution_count": null,
   "id": "783fc89c-bacd-4a08-b62c-a680d16bdfc3",
   "metadata": {
    "trrack_graph": "ᯡ࠽䈌ʀ匦㢠⹰ৠጬڀᆠᘵ‶䀹䨠డഭ总ጡڧ槀㇑䋲䅠ດ㌆䀽䚠ᖩᐠ▴ሰ㹙碪䩶又泭䎷⼬Ǣ戠桠û桱䉓ဩ™+䑁䰠㜸ㄗࡣⷸ㤢怢慄㊠Ś岰ú}↱姼撦⑑㊧榌ばᠲᬦ䊭捄ᓱ凑墸䱣M䘶潮ᄧ冢↋㘲ࢌ戴モ䎀۔埳Κᆱ⇀痘佢旐⊗≠灍ᢚ涠ᏠĊ夗磠妛ᬰॗླ庢沢ʱ䯲ѹ瓘ᙔᩁ᳘䊢十䅐刉౔㜦䗠ᣥ₻߃ぞۻㆳቐ⩵㔻ሃ࠸ᇓ峒ؾ⁀䤄ᔶ䂁ᣌ㬳䈁磚⢧憀Î惈⪐礄㱎ᓀ፴扦䙮樘ℵᩒ  "
   },
   "outputs": [],
   "source": []
  }
 ],
 "metadata": {
  "__CATEGORIES_META__": "{\"categories\":{},\"activeCategoryName\":\"\"}",
  "__CATEGORIES__": "{\"categories\":{\"A\":{\"name\":\"A\",\"options\":{\"_None\":{\"name\":\"None\"},\"a\":{\"name\":\"a\"},\"b\":{\"name\":\"b\"},\"c\":{\"name\":\"c\"},\"AA\":{\"name\":\"AA\"}}}},\"activeCategoryName\":\"A\"}",
  "__persist_nb_uuid__": "24244faa-e25b-4eca-831f-97b980e17e65",
  "kernelspec": {
   "display_name": "Python 3 (ipykernel)",
   "language": "python",
   "name": "python3"
  },
  "language_info": {
   "codemirror_mode": {
    "name": "ipython",
    "version": 3
   },
   "file_extension": ".py",
   "mimetype": "text/x-python",
   "name": "python",
   "nbconvert_exporter": "python",
   "pygments_lexer": "ipython3",
   "version": "3.8.16"
  }
 },
 "nbformat": 4,
 "nbformat_minor": 5
}
