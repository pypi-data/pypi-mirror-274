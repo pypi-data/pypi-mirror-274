{
 "cells": [
  {
   "cell_type": "code",
   "execution_count": null,
   "id": "7336ecb6-a3d6-4329-b160-9d62dc376df3",
   "metadata": {
    "__GENERATED_DATAFRAMES__": "{\"nodeDataframes\":{},\"graphDataframes\":null}",
    "show_aggregate_original": "false",
    "trrack_graph": "ᯡ࠽䈌ʀ匦㢠⹰໠✡䘢ポǐ׀ǥ6ద䠰报¬ᠨ拀䰡䰠ㆊ⁶㪮䥡牪2攩њ㙼㒤◪⣷劂滫域℁Tဠ㙴璃癨ɰ䂠̂߆;䘸෤့垌䂀Õ࿵$犒‣㐡㪚紧লί↤ૂ壡‡犀⑦Ḻନ䣫䠦㉐㥨墚{వ䪤∥⌤䍵ⵤ္䒐庽ዠඎ⫀ޖ䋢Þ㶞獻ણր䞈䒡悺フ⬠➠ǹ㬃熠掗噁⋮供ᕉ夤้ᆡ僀஖㰤㩡ᙅᆥԠ⍧㉝ㄐ呤ఱ䁋溔߳捺㚲ɦ癨䃣ɔㄠʶபⓠ焘ㄬ䃃⣔Ᏽ▂㣼Ἥ1Ҿؠ֐Ң揋䵄挄沂䞩⦸≦䩯Ꭴ憰  "
   },
   "outputs": [],
   "source": []
  }
 ],
 "metadata": {
  "kernelspec": {
   "display_name": "Python 3 (ipykernel)",
   "language": "python",
   "name": "python3"
  },
  "language_info": {
   "codemirror_mode": {
    "name": "ipython",
    "version": 3
   },
   "file_extension": ".py",
   "mimetype": "text/x-python",
   "name": "python",
   "nbconvert_exporter": "python",
   "pygments_lexer": "ipython3",
   "version": "3.8.17"
  }
 },
 "nbformat": 4,
 "nbformat_minor": 5
}
