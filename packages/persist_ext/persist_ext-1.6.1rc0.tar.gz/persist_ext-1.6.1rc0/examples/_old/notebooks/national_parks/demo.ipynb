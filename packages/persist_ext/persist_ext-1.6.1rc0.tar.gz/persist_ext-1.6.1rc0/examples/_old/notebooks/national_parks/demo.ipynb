{
 "cells": [
  {
   "cell_type": "code",
   "execution_count": 1,
   "id": "d3590573-3098-49e0-974a-d08096254219",
   "metadata": {
    "trrack_graph": "ᯡ࠽䈌ʀ匦㢠⹰ڀܪѐ঳䰵䁍ഡణ堡㈱┌͓࠭䔠⍢╦䙦枂缪籈䥠ɹ⅁ݥ䮠壙ᔺ穭ⷺ㮕砈᱀ڤ-匫ಝ䤠䨰ဠ屡瓠Α䌣㢤̕涰æ6刚倠❇ሠ᭠ே埰㢹ဠಚ⾀昵䘪/ጢ₲ᠡ᳸㤌᥃჎᜶䏰˸惍ᡂၬᡄᛊ橁ˬ⁥瑹ᘠ歪晀㟌Ḱؓ樮嫐并Ѯ摨ล匯⫐ʘ<⯎弸៏⎂ੌ甗媂䶰ℂ䥦ਫ਼ᝎ䋩䍄ᄸ偩咔幢଺ጣ瘂ࡰ߀ብ擰㉇仒浄⒬ʱⵦ⒘戤Ռ᜴䆡愐≉०冈غೣじⸯߠࢤ伷䀥㨥䄳嗭ᎂ牜ㅨⓉ┕ʵ即⍀  "
   },
   "outputs": [
    {
     "name": "stdout",
     "output_type": "stream",
     "text": [
      "Loaded PersIst extension version 1.1.0\n",
      "Extension enabled for altair\n"
     ]
    }
   ],
   "source": [
    "import pandas as pd\n",
    "import altair as alt\n",
    "import persist_ext as PR\n",
    "\n",
    "PR.enable('altair')"
   ]
  },
  {
   "cell_type": "code",
   "execution_count": 5,
   "id": "f04aad6d-562d-402e-87f3-3e35b7ce501e",
   "metadata": {
    "trrack_execution_spec": {
     "$schema": "https://vega.github.io/schema/vega-lite/v5.8.0.json",
     "config": {
      "view": {
       "continuousHeight": 300,
       "continuousWidth": 300
      }
     },
     "data": {
      "name": "data-46c1c521a1191cd3f8aa201cbebbbc82"
     },
     "datasets": {
      "data-46c1c521a1191cd3f8aa201cbebbbc82": [
       {
        "Area (2021)[13]": "49,071.40 acres (198.6 km2)",
        "Date established as park[7][12]": "February 26, 1919",
        "Description": "Covering most of Mount Desert Island and other coastal islands, Acadia features the tallest mountain on the Atlantic coast of the United States, granite peaks, ocean shoreline, woodlands, and lakes. There are freshwater, estuary, forest, and intertidal habitats.[14][15]",
        "Image": null,
        "Location": "Maine.mw-parser-output .geo-default,.mw-parser-output .geo-dms,.mw-parser-output .geo-dec{display:inline}.mw-parser-output .geo-nondefault,.mw-parser-output .geo-multi-punct{display:none}.mw-parser-output .longitude,.mw-parser-output .latitude{white-space:nowrap}44°21′N 68°13′W﻿ / ﻿44.35°N 68.21°W",
        "Name": "Acadia",
        "Recreation visitors (2021)[11]": 4069098,
        "Unnamed: 0": 0
       },
       {
        "Area (2021)[13]": "8,256.67 acres (33.4 km2)",
        "Date established as park[7][12]": "October 31, 1988",
        "Description": "The southernmost national park is on three Samoan islands in the South Pacific. It protects coral reefs, rainforests, volcanic mountains, and white beaches. The area is also home to flying foxes, brown boobies, sea turtles, and 900 species of fish.[16]",
        "Image": null,
        "Location": "American Samoa14°15′S 170°41′W﻿ / ﻿14.25°S 170.68°W",
        "Name": "American Samoa",
        "Recreation visitors (2021)[11]": 8495,
        "Unnamed: 0": 1
       },
       {
        "Area (2021)[13]": "76,678.98 acres (310.3 km2)",
        "Date established as park[7][12]": "November 12, 1971",
        "Description": "This site features more than 2,000 natural sandstone arches, with some of the most popular arches in the park being Delicate Arch, Landscape Arch and Double Arch.[17] Millions of years of erosion have created these structures in a desert climate where the arid ground has life-sustaining biological soil crusts and potholes that serve as natural water-collecting basins. Other geologic formations include stone pinnacles, fins, and balancing rocks.[18]",
        "Image": null,
        "Location": "Utah38°41′N 109°34′W﻿ / ﻿38.68°N 109.57°W",
        "Name": "Arches",
        "Recreation visitors (2021)[11]": 1806865,
        "Unnamed: 0": 2
       },
       {
        "Area (2021)[13]": "242,755.94 acres (982.4 km2)",
        "Date established as park[7][12]": "November 10, 1978",
        "Description": "The Badlands are a collection of buttes, pinnacles, spires, and mixed-grass prairies within the drainage basin of the White River, in southwestern South Dakota. They contain the largest known assemblage of late Eocene and Oligocene mammal fossils.[19] Wildlife includes bison, bighorn sheep, black-footed ferrets, and prairie dogs.[20]",
        "Image": null,
        "Location": "South Dakota43°45′N 102°30′W﻿ / ﻿43.75°N 102.50°W",
        "Name": "Badlands",
        "Recreation visitors (2021)[11]": 1224226,
        "Unnamed: 0": 3
       },
       {
        "Area (2021)[13]": "801,163.21 acres (3,242.2 km2)",
        "Date established as park[7][12]": "June 12, 1944",
        "Description": "Named for the prominent bend in the Rio Grande along the U.S.–Mexico border, this park encompasses a large and remote part of the Chihuahuan Desert. Its main attraction is backcountry recreation in the arid Chisos Mountains and in canyons along the river. A wide variety of Cretaceous and Tertiary fossils as well as cultural artifacts of Native Americans also exist within its borders.[21] (BR)[22]",
        "Image": null,
        "Location": "Texas29°15′N 103°15′W﻿ / ﻿29.25°N 103.25°W",
        "Name": "Big Bend",
        "Recreation visitors (2021)[11]": 581220,
        "Unnamed: 0": 4
       },
       {
        "Area (2021)[13]": "172,971.11 acres (700.0 km2)",
        "Date established as park[7][12]": "June 28, 1980",
        "Description": "The central part of Biscayne Bay, this mostly underwater park at the north end of the Florida Keys has four interrelated marine ecosystems: mangrove forest, the Bay, the Keys, and coral reefs. Threatened animals include the West Indian manatee, American crocodile, various sea turtles, and the peregrine falcon.[23]",
        "Image": null,
        "Location": "Florida25°39′N 80°05′W﻿ / ﻿25.65°N 80.08°W",
        "Name": "Biscayne",
        "Recreation visitors (2021)[11]": 705655,
        "Unnamed: 0": 5
       },
       {
        "Area (2021)[13]": "30,779.83 acres (124.6 km2)",
        "Date established as park[7][12]": "October 21, 1999",
        "Description": "The park protects a quarter of the Gunnison River, which slices sheer canyon walls from dark Precambrian-era rock. The canyon features some of the steepest cliffs and oldest rock in North America, and is a popular site for river rafting and rock climbing. The deep, narrow canyon is composed of gneiss and schist, which appears black when in shadow.[24]",
        "Image": null,
        "Location": "Colorado38°34′N 107°43′W﻿ / ﻿38.57°N 107.72°W",
        "Name": "Black Canyon of the Gunnison",
        "Recreation visitors (2021)[11]": 308910,
        "Unnamed: 0": 6
       },
       {
        "Area (2021)[13]": "35,835.08 acres (145.0 km2)",
        "Date established as park[7][12]": "February 25, 1928",
        "Description": "Bryce Canyon is a geological amphitheater on southern Utah's Paunsaugunt Plateau with hundreds of tall, multicolored sandstone hoodoos formed by erosion. The region was originally settled by Native Americans and later by Mormon pioneers.[25]",
        "Image": null,
        "Location": "Utah37°34′N 112°11′W﻿ / ﻿37.57°N 112.18°W",
        "Name": "Bryce Canyon",
        "Recreation visitors (2021)[11]": 2104600,
        "Unnamed: 0": 7
       },
       {
        "Area (2021)[13]": "337,597.83 acres (1,366.2 km2)",
        "Date established as park[7][12]": "September 12, 1964",
        "Description": "This landscape was eroded into a maze of canyons, buttes, and mesas by the combined efforts of the Colorado River, Green River, and their tributaries, which divide the park into three districts. The park contains thousands of rock pinnacles and arches, as well as artifacts from Ancient Pueblo peoples.[26]",
        "Image": null,
        "Location": "Utah38°12′N 109°56′W﻿ / ﻿38.2°N 109.93°W",
        "Name": "Canyonlands",
        "Recreation visitors (2021)[11]": 911594,
        "Unnamed: 0": 8
       },
       {
        "Area (2021)[13]": "241,904.50 acres (979.0 km2)",
        "Date established as park[7][12]": "December 18, 1971",
        "Description": "The park's Waterpocket Fold is a 100-mile (160 km) monocline that exhibits the earth's diverse geologic layers. Other natural features include monoliths, eroded buttes, and sandstone domes, including one shaped like the United States Capitol.[27]",
        "Image": null,
        "Location": "Utah38°12′N 111°10′W﻿ / ﻿38.20°N 111.17°W",
        "Name": "Capitol Reef",
        "Recreation visitors (2021)[11]": 1405353,
        "Unnamed: 0": 9
       },
       {
        "Area (2021)[13]": "46,766.45 acres (189.3 km2)",
        "Date established as park[7][12]": "May 14, 1930",
        "Description": "Carlsbad Caverns has 117 caves, the longest of which is over 120 miles (190 km) long. The Big Room is almost 4,000 feet (1,200 m) long, and the caves are home to over 400,000 Mexican free-tailed bats and sixteen other species. Above ground are the Chihuahuan Desert and Rattlesnake Springs.[28] (WHS)[29]",
        "Image": null,
        "Location": "New Mexico32°10′N 104°26′W﻿ / ﻿32.17°N 104.44°W",
        "Name": "Carlsbad Caverns *",
        "Recreation visitors (2021)[11]": 349244,
        "Unnamed: 0": 10
       },
       {
        "Area (2021)[13]": "249,561.00 acres (1,009.9 km2)",
        "Date established as park[7][12]": "March 5, 1980",
        "Description": "Five of the eight Channel Islands are protected, with half of the park's area underwater. The islands have a unique Mediterranean ecosystem originally settled by the Chumash people. They are home to over 2,000 species of land plants and animals, 145 endemic to them, including the island fox. Ferry services offer transportation to the islands from the mainland.[30] (BR)[31]",
        "Image": null,
        "Location": "California34°01′N 119°25′W﻿ / ﻿34.01°N 119.42°W",
        "Name": "Channel Islands",
        "Recreation visitors (2021)[11]": 319252,
        "Unnamed: 0": 11
       },
       {
        "Area (2021)[13]": "26,692.60 acres (108.0 km2)",
        "Date established as park[7][12]": "November 10, 2003",
        "Description": "On the Congaree River, this park is the largest portion of old-growth floodplain forest left in North America. Some of the trees are the tallest in the eastern United States. An elevated walkway called the Boardwalk Loop guides visitors through the swamp.[32] (BR)[33]",
        "Image": null,
        "Location": "South Carolina33°47′N 80°47′W﻿ / ﻿33.78°N 80.78°W",
        "Name": "Congaree",
        "Recreation visitors (2021)[11]": 215181,
        "Unnamed: 0": 12
       },
       {
        "Area (2021)[13]": "183,224.05 acres (741.5 km2)",
        "Date established as park[7][12]": "May 22, 1902",
        "Description": "Crater Lake lies in the caldera of an ancient volcano called Mount Mazama that collapsed 7,700 years ago. The lake is the deepest in the United States and is noted for its vivid blue color and water clarity. Wizard Island and the Phantom Ship are more recent volcanic formations within the caldera. As the lake has no inlets or outlets, it is replenished only by precipitation.[34]",
        "Image": null,
        "Location": "Oregon42°56′N 122°06′W﻿ / ﻿42.94°N 122.1°W",
        "Name": "Crater Lake",
        "Recreation visitors (2021)[11]": 647751,
        "Unnamed: 0": 13
       },
       {
        "Area (2021)[13]": "32,571.88 acres (131.8 km2)",
        "Date established as park[7][12]": "October 11, 2000",
        "Description": "This park along the Cuyahoga River has waterfalls, hills, trails, and exhibits on early rural living. The Ohio and Erie Canal Towpath Trail follows the Ohio and Erie Canal, where mules towed canal boats. The park has numerous historic homes, bridges, and structures,[35] and also offers a scenic train ride.[36]",
        "Image": null,
        "Location": "Ohio41°14′N 81°33′W﻿ / ﻿41.24°N 81.55°W",
        "Name": "Cuyahoga Valley",
        "Recreation visitors (2021)[11]": 2575275,
        "Unnamed: 0": 14
       },
       {
        "Area (2021)[13]": "3,408,395.63 acres (13,793.3 km2)",
        "Date established as park[7][12]": "October 31, 1994",
        "Description": "Death Valley is the hottest, lowest, and driest place in the United States, with daytime temperatures that have exceeded 130 °F (54 °C). The park protects Badwater Basin and its vast salt flats at the lowest elevation in North America, −282 ft (−86 m),[37] This geologic graben also protects numerous canyons, badlands, sand dunes, mountain ranges, historic mines, springs, and more than 1,000 species of plants that grow.[38] (BR)[39]",
        "Image": null,
        "Location": "California, Nevada36°14′N 116°49′W﻿ / ﻿36.24°N 116.82°W",
        "Name": "Death Valley",
        "Recreation visitors (2021)[11]": 1146551,
        "Unnamed: 0": 15
       },
       {
        "Area (2021)[13]": "4,740,911.16 acres (19,185.8 km2)",
        "Date established as park[7][12]": "February 26, 1917",
        "Description": "Centered on Denali, the tallest and most prominent mountain in North America, the park is serviced by a single road leading to Wonder Lake, most of which can only be accessed via scheduled tour buses. Denali and other peaks of the Alaska Range are covered with long glaciers and boreal forest. Wildlife includes grizzly bears, Dall sheep, moose, caribou, and wolves.[40] (BR)[41]",
        "Image": null,
        "Location": "Alaska63°20′N 150°30′W﻿ / ﻿63.33°N 150.50°W",
        "Name": "Denali",
        "Recreation visitors (2021)[11]": 229521,
        "Unnamed: 0": 16
       },
       {
        "Area (2021)[13]": "64,701.22 acres (261.8 km2)",
        "Date established as park[7][12]": "October 26, 1992",
        "Description": "The islands of the Dry Tortugas, at the westernmost end of the Florida Keys, are the site of Fort Jefferson, a Civil War-era fort that is the largest masonry structure in the Western Hemisphere. The park is home to undisturbed coral reefs and shipwrecks, and is only accessible by plane or boat.[42] (BR)[43]",
        "Image": null,
        "Location": "Florida24°38′N 82°52′W﻿ / ﻿24.63°N 82.87°W",
        "Name": "Dry Tortugas",
        "Recreation visitors (2021)[11]": 83817,
        "Unnamed: 0": 17
       },
       {
        "Area (2021)[13]": "1,508,938.57 acres (6,106.5 km2)",
        "Date established as park[7][12]": "May 30, 1934",
        "Description": "The Everglades are the largest tropical wilderness in the United States. This mangrove and tropical rainforest ecosystem and marine estuary is home to 36 protected species, including the Florida panther, American crocodile, and West Indian manatee. Some areas have been drained and developed; restoration projects aim to restore the ecology.[44] (WHS)[45] (BR)[43]",
        "Image": null,
        "Location": "Florida25°19′N 80°56′W﻿ / ﻿25.32°N 80.93°W",
        "Name": "Everglades",
        "Recreation visitors (2021)[11]": 942130,
        "Unnamed: 0": 18
       },
       {
        "Area (2021)[13]": "7,523,897.45 acres (30,448.1 km2)",
        "Date established as park[7][12]": "December 2, 1980",
        "Description": "The country's northernmost park protects an expanse of pure wilderness in Alaska's Brooks Range and has no park facilities. The land is home to Alaska Natives who have relied on the land and caribou for 11,000 years.[46]",
        "Image": null,
        "Location": "Alaska67°47′N 153°18′W﻿ / ﻿67.78°N 153.30°W",
        "Name": "Gates of the Arctic",
        "Recreation visitors (2021)[11]": 7362,
        "Unnamed: 0": 19
       },
       {
        "Area (2021)[13]": "91 acres (0.4 km2)",
        "Date established as park[7][12]": "February 22, 2018[47]",
        "Description": "The Gateway Arch is a 630-foot (192 m) (both high and wide) catenary arch built in the 1960s to commemorate the Lewis and Clark Expedition, initiated by Thomas Jefferson, and the subsequent westward expansion of the country. The nearby Old Courthouse, across a greenway to the west of the arch, was the original site of the landmark Dred Scott case about slavery. An underground museum describes the arch's construction and the country's westward expansion.[48]",
        "Image": null,
        "Location": "Missouri38°38′N 90°11′W﻿ / ﻿38.63°N 90.19°W",
        "Name": "Gateway Arch",
        "Recreation visitors (2021)[11]": 1145081,
        "Unnamed: 0": 20
       },
       {
        "Area (2021)[13]": "1,013,126.39 acres (4,100.0 km2)",
        "Date established as park[7][12]": "May 11, 1910",
        "Description": "The U.S. half of Waterton-Glacier International Peace Park, this park includes 26 rapidly receding glaciers and 130 named lakes surrounded by Rocky Mountain peaks. Historic hotels and the landmark Going-to-the-Sun Road accommodate visitors.[49] The local mountains, formed by an overthrust, expose Paleozoic fossils including trilobites, mollusks, giant ferns and dinosaurs. The park is also home to Triple Divide Peak, which forms the boundary between the watersheds of the Atlantic, Pacific, and Arctic Oceans.[50] (WHS)[51] (BR)[52]",
        "Image": null,
        "Location": "Montana48°48′N 114°00′W﻿ / ﻿48.80°N 114.00°W",
        "Name": "Glacier",
        "Recreation visitors (2021)[11]": 3081656,
        "Unnamed: 0": 21
       },
       {
        "Area (2021)[13]": "3,223,383.43 acres (13,044.6 km2)",
        "Date established as park[7][12]": "December 2, 1980",
        "Description": "Glacier Bay contains tidewater glaciers, mountains, fjords, and a temperate rainforest, and is home to large populations of grizzly bears, mountain goats, whales, seals, and eagles. When discovered in 1794 by George Vancouver, the entire bay was covered by ice, but the glaciers have since receded more than 65 miles (105 km).[53] (WHS)[54] (BR)[55]",
        "Image": null,
        "Location": "Alaska58°30′N 137°00′W﻿ / ﻿58.50°N 137.00°W",
        "Name": "Glacier Bay",
        "Recreation visitors (2021)[11]": 89768,
        "Unnamed: 0": 22
       },
       {
        "Area (2021)[13]": "1,201,647.03 acres (4,862.9 km2)",
        "Date established as park[7][12]": "February 26, 1919",
        "Description": "The Grand Canyon, carved by the mighty Colorado River, is 277 miles (446 km) long, up to 1 mile (1.6 km) deep, and up to 15 miles (24 km) wide. Millions of years of erosion have resulted in a massive three-tiered canyon, exposing the multicolored layers of the Colorado Plateau in mesas and canyon walls, visible from trails that descend into the canyon from the north and south rims.[56] (WHS)[57]",
        "Image": null,
        "Location": "Arizona36°04′N 112°08′W﻿ / ﻿36.06°N 112.14°W",
        "Name": "Grand Canyon *",
        "Recreation visitors (2021)[11]": 4532677,
        "Unnamed: 0": 23
       },
       {
        "Area (2021)[13]": "310,044.36 acres (1,254.7 km2)",
        "Date established as park[7][12]": "February 26, 1929",
        "Description": "Grand Teton is the tallest mountain in the scenic Teton Range. The park's historic Jackson Hole and reflective piedmont lakes teem with endemic wildlife, with a backdrop of craggy mountains that rise abruptly from the sage-covered valley below.[58] (BR)[6]",
        "Image": null,
        "Location": "Wyoming43°44′N 110°48′W﻿ / ﻿43.73°N 110.80°W",
        "Name": "Grand Teton",
        "Recreation visitors (2021)[11]": 3885230,
        "Unnamed: 0": 24
       },
       {
        "Area (2021)[13]": "77,180.00 acres (312.3 km2)",
        "Date established as park[7][12]": "October 27, 1986",
        "Description": "Based around Nevada's second tallest mountain, Wheeler Peak, Great Basin National Park protects 5,000-year-old bristlecone pines, a rock glacier, and the limestone Lehman Caves. Due to its remote location, the park is home to some of the country's darkest night skies. Wildlife includes the Townsend's big-eared bat, pronghorn, and Bonneville cutthroat trout.[59]",
        "Image": null,
        "Location": "Nevada38°59′N 114°18′W﻿ / ﻿38.98°N 114.30°W",
        "Name": "Great Basin",
        "Recreation visitors (2021)[11]": 144875,
        "Unnamed: 0": 25
       },
       {
        "Area (2021)[13]": "107,345.73 acres (434.4 km2)",
        "Date established as park[7][12]": "September 24, 2004",
        "Description": "The tallest sand dunes in North America, up to 750 feet (230 m) tall, were formed by deposits of the ancient Rio Grande in the San Luis Valley. Abutting a variety of grasslands, shrublands, and wetlands, the park also features alpine lakes, six 13,000-foot mountains, and old-growth forests.[60]",
        "Image": null,
        "Location": "Colorado37°44′N 105°31′W﻿ / ﻿37.73°N 105.51°W",
        "Name": "Great Sand Dunes",
        "Recreation visitors (2021)[11]": 602613,
        "Unnamed: 0": 26
       },
       {
        "Area (2021)[13]": "522,426.88 acres (2,114.2 km2)",
        "Date established as park[7][12]": "June 15, 1934",
        "Description": "The Great Smoky Mountains, part of the Appalachian Mountains, span a wide range of elevations, making them home to over 400 vertebrate species, 100 tree species, and 5,000 plant species. Hiking is the park's main attraction, with over 800 miles (1,300 km) of trails, including 70 miles (110 km) of the Appalachian Trail. Other activities include fishing, horseback riding, and touring nearly 80 historic structures.[61] (WHS)[62] (BR)[63]",
        "Image": null,
        "Location": "North Carolina, Tennessee35°41′N 83°32′W﻿ / ﻿35.68°N 83.53°W",
        "Name": "Great Smoky Mountains",
        "Recreation visitors (2021)[11]": 14161548,
        "Unnamed: 0": 27
       },
       {
        "Area (2021)[13]": "86,367.10 acres (349.5 km2)",
        "Date established as park[7][12]": "October 15, 1966",
        "Description": "This park contains Guadalupe Peak, the highest point in Texas, as well as the scenic McKittrick Canyon filled with bigtooth maples, a corner of the arid Chihuahuan Desert, and a fossilized coral reef from the Permian era.[64]",
        "Image": null,
        "Location": "Texas31°55′N 104°52′W﻿ / ﻿31.92°N 104.87°W",
        "Name": "Guadalupe Mountains",
        "Recreation visitors (2021)[11]": 243291,
        "Unnamed: 0": 28
       },
       {
        "Area (2021)[13]": "33,264.62 acres (134.6 km2)",
        "Date established as park[7][12]": "July 1, 1961",
        "Description": "The Haleakalā volcano on Maui features a very large crater with numerous cinder cones, a grove of non-native trees, the Kipahulu section's scenic pools of freshwater fish, and the endemic Hawaiian goose. The park protects the greatest number of endangered species within a U.S. national park.[65] (BR)[66]",
        "Image": null,
        "Location": "Hawaii20°43′N 156°10′W﻿ / ﻿20.72°N 156.17°W",
        "Name": "Haleakalā",
        "Recreation visitors (2021)[11]": 853181,
        "Unnamed: 0": 29
       },
       {
        "Area (2021)[13]": "325,605.28 acres (1,317.7 km2)",
        "Date established as park[7][12]": "August 1, 1916",
        "Description": "This park on the Big Island protects the Kīlauea and Mauna Loa volcanoes, two of the world's most active geological features. Diverse ecosystems range from tropical forests at sea level to barren lava beds at more than 13,000 feet (4,000 m).[67] (WHS)[68] (BR)[66]",
        "Image": null,
        "Location": "Hawaii19°23′N 155°12′W﻿ / ﻿19.38°N 155.20°W",
        "Name": "Hawaiʻi Volcanoes",
        "Recreation visitors (2021)[11]": 1262747,
        "Unnamed: 0": 30
       },
       {
        "Area (2021)[13]": "5,554.15 acres (22.5 km2)",
        "Date established as park[7][12]": "March 4, 1921",
        "Description": "Hot Springs was originally established by Congress as a federal reserve on April 20, 1832, making it the oldest area managed by the National Park Service. Natural thermal springs flow out of the Ouachita Mountains, providing opportunities for relaxation in a historic setting. Bathhouse Row preserves examples of 19th-century architecture.[69] Hot Springs is the first national park within a city and was the smallest national park until 2018.[70]",
        "Image": null,
        "Location": "Arkansas34°31′N 93°03′W﻿ / ﻿34.51°N 93.05°W",
        "Name": "Hot Springs",
        "Recreation visitors (2021)[11]": 2162884,
        "Unnamed: 0": 31
       },
       {
        "Area (2021)[13]": "15,349.08 acres (62.1 km2)",
        "Date established as park[7][12]": "February 15, 2019",
        "Description": "Previously designated a national lakeshore, parts of this 20-mile (32 km) stretch of the southern shore of Lake Michigan have sandy beaches and tall dunes. The park includes grassy prairies, peat bogs, and marsh wetlands home to over 2,000 species.[71]",
        "Image": null,
        "Location": "Indiana41°39′12″N 87°03′09″W﻿ / ﻿41.6533°N 87.0524°W",
        "Name": "Indiana Dunes",
        "Recreation visitors (2021)[11]": 3177210,
        "Unnamed: 0": 32
       },
       {
        "Area (2021)[13]": "571,790.30 acres (2,314.0 km2)",
        "Date established as park[7][12]": "April 3, 1940",
        "Description": "The largest island in Lake Superior is a place of isolation and wilderness. Along with its many shipwrecks, waterways, and hiking trails, the park also includes over 400 smaller islands within 4.5 miles (7.2 km) of its shores. There are only 20 mammal species on the island, though the relationship between its wolf and moose populations is especially unique.[72] (BR)[73]",
        "Image": null,
        "Location": "Michigan48°06′N 88°33′W﻿ / ﻿48.10°N 88.55°W",
        "Name": "Isle Royale",
        "Recreation visitors (2021)[11]": 25844,
        "Unnamed: 0": 33
       },
       {
        "Area (2021)[13]": "795,155.85 acres (3,217.9 km2)",
        "Date established as park[7][12]": "October 31, 1994",
        "Description": "Covering large areas of the Colorado and Mojave Deserts and the Little San Bernardino Mountains, this desert landscape is populated by vast stands of Joshua trees. Large changes in elevation reveal various contrasting environments including bleached sand dunes, dry lakes, rugged mountains, and maze-like clusters of monzogranite monoliths.[74] (BR)[39]",
        "Image": null,
        "Location": "California33°47′N 115°54′W﻿ / ﻿33.79°N 115.90°W",
        "Name": "Joshua Tree",
        "Recreation visitors (2021)[11]": 3064400,
        "Unnamed: 0": 34
       },
       {
        "Area (2021)[13]": "3,674,529.33 acres (14,870.3 km2)",
        "Date established as park[7][12]": "December 2, 1980",
        "Description": "This park on the Alaska Peninsula protects the Valley of Ten Thousand Smokes, an ash flow formed by the 1912 eruption of Novarupta, and the stratovolcano Mount Katmai. Over 2,000 grizzly bears come here each year to catch spawning salmon. Other wildlife includes caribou, wolves, moose, and wolverines.[75]",
        "Image": null,
        "Location": "Alaska58°30′N 155°00′W﻿ / ﻿58.50°N 155.00°W",
        "Name": "Katmai",
        "Recreation visitors (2021)[11]": 24764,
        "Unnamed: 0": 35
       },
       {
        "Area (2021)[13]": "669,650.05 acres (2,710.0 km2)",
        "Date established as park[7][12]": "December 2, 1980",
        "Description": "Near Seward on the Kenai Peninsula, this park protects the Harding Icefield and at least 38 glaciers and fjords stemming from it. The only area accessible to the public by road is the rapidly shrinking Exit Glacier. Boat and kayak tours offer views of tidewater glaciers, whales, sea lions, and marine birds.[76]",
        "Image": null,
        "Location": "Alaska59°55′N 149°39′W﻿ / ﻿59.92°N 149.65°W",
        "Name": "Kenai Fjords",
        "Recreation visitors (2021)[11]": 411782,
        "Unnamed: 0": 36
       },
       {
        "Area (2021)[13]": "461,901.20 acres (1,869.2 km2)",
        "Date established as park[7][12]": "March 4, 1940",
        "Description": "Home to several giant sequoia groves and the General Grant Tree, the world's second largest measured tree, this park also features part of the Kings River, sculptor of the dramatic granite canyon that is its namesake, and the San Joaquin River, as well as Boyden Cave.[77] Although Kings Canyon National Park was designated as such in 1940, it subsumed General Grant National Park, which had been established on October 1, 1890, as the United States' fourth national park.[78][79][80] (BR)[81]",
        "Image": null,
        "Location": "California36°48′N 118°33′W﻿ / ﻿36.80°N 118.55°W",
        "Name": "Kings Canyon",
        "Recreation visitors (2021)[11]": 562918,
        "Unnamed: 0": 37
       },
       {
        "Area (2021)[13]": "1,750,716.16 acres (7,084.9 km2)",
        "Date established as park[7][12]": "December 2, 1980",
        "Description": "Kobuk Valley protects 61 miles (98 km) of the Kobuk River and three regions of sand dunes. Created by glaciers, the Great Kobuk, Little Kobuk, and Hunt River Sand Dunes can reach 100 feet (30 m) high and 100 °F (38 °C), and they are the largest dunes in the Arctic. Twice a year, half a million caribou migrate through the dunes and across river bluffs that expose well-preserved ice age fossils.[82]",
        "Image": null,
        "Location": "Alaska67°33′N 159°17′W﻿ / ﻿67.55°N 159.28°W",
        "Name": "Kobuk Valley",
        "Recreation visitors (2021)[11]": 11540,
        "Unnamed: 0": 38
       },
       {
        "Area (2021)[13]": "2,619,816.49 acres (10,602.0 km2)",
        "Date established as park[7][12]": "December 2, 1980",
        "Description": "The region around Lake Clark features four active volcanoes, including Mount Redoubt, as well as an abundance of rivers, glaciers, and waterfalls. Temperate rainforests, a tundra plateau, and three mountain ranges complete the landscape.[83]",
        "Image": null,
        "Location": "Alaska60°58′N 153°25′W﻿ / ﻿60.97°N 153.42°W",
        "Name": "Lake Clark",
        "Recreation visitors (2021)[11]": 18278,
        "Unnamed: 0": 39
       },
       {
        "Area (2021)[13]": "106,589.02 acres (431.4 km2)",
        "Date established as park[7][12]": "August 9, 1916",
        "Description": "Lassen Peak, the largest lava dome volcano in the world, is joined by all three other types of volcanoes in this park: shield, cinder cone, and composite. Though Lassen itself last erupted in 1915, most of the rest of the park is continuously active. Numerous hydrothermal features, including fumaroles, boiling pools, and bubbling mud pots, are heated by molten rock from beneath the peak.[84]",
        "Image": null,
        "Location": "California40°29′N 121°31′W﻿ / ﻿40.49°N 121.51°W",
        "Name": "Lassen Volcanic",
        "Recreation visitors (2021)[11]": 359635,
        "Unnamed: 0": 40
       },
       {
        "Area (2021)[13]": "54,016.29 acres (218.6 km2)",
        "Date established as park[7][12]": "July 1, 1941",
        "Description": "With more than 400 miles (640 km) of passageways explored, Mammoth Cave is the world's longest known cave system. Subterranean wildlife includes eight bat species, Kentucky cave shrimp, Northern cavefish, and cave salamanders. Above ground, the park provides recreation on the Green River, 70 miles of hiking trails, and plenty of sinkholes and springs.[85] (WHS)[86] (BR)[87]",
        "Image": null,
        "Location": "Kentucky37°11′N 86°06′W﻿ / ﻿37.18°N 86.10°W",
        "Name": "Mammoth Cave",
        "Recreation visitors (2021)[11]": 515774,
        "Unnamed: 0": 41
       },
       {
        "Area (2021)[13]": "52,485.17 acres (212.4 km2)",
        "Date established as park[7][12]": "June 29, 1906",
        "Description": "This area constitutes over 4,000 archaeological sites of the Ancestral Puebloan people, who lived here and elsewhere in the Four Corners region for at least 700 years. Cliff dwellings built in the 12th and 13th centuries include Cliff Palace, which has 150 rooms and 23 kivas, and the Balcony House, with its many passages and tunnels.[88] (WHS)[89]",
        "Image": null,
        "Location": "Colorado37°11′N 108°29′W﻿ / ﻿37.18°N 108.49°W",
        "Name": "Mesa Verde *",
        "Recreation visitors (2021)[11]": 548477,
        "Unnamed: 0": 42
       },
       {
        "Area (2021)[13]": "236,381.64 acres (956.6 km2)",
        "Date established as park[7][12]": "March 2, 1899",
        "Description": "Mount Rainier, an active stratovolcano, is the most prominent peak in the Cascades and is covered by 26 named glaciers including Carbon Glacier and Emmons Glacier, the longest and largest in the contiguous United States respectively. The mountain is popular for climbing, and more than half of the park is covered by subalpine and alpine forests and meadows seasonally in bloom with wildflowers. Paradise on the south slope is among the snowiest places on Earth.[90] The Longmire visitor center is the start of the Wonderland Trail, which encircles the mountain.[91]",
        "Image": null,
        "Location": "Washington46°51′N 121°45′W﻿ / ﻿46.85°N 121.75°W",
        "Name": "Mount Rainier",
        "Recreation visitors (2021)[11]": 1670063,
        "Unnamed: 0": 43
       },
       {
        "Area (2021)[13]": "7,021 acres (28.4 km2)[92]",
        "Date established as park[7][12]": "December 27, 2020",
        "Description": "The New River Gorge is the deepest river gorge east of the Mississippi River. The park primarily covers the lower gorge area around the New River Gorge Bridge, which features some of the country's best whitewater rafting. Smaller noncontiguous sections showcase the ghost town of Thurmond, the scenic Grandview vista, and Sandstone Falls. The other 65,165 acres (263.71 km2) of the redesignated national river is now a national preserve, spanning 53 mi (85 km) of the New River.[93][94]",
        "Image": null,
        "Location": "West Virginia38°04′N 81°05′W﻿ / ﻿38.07°N 81.08°W",
        "Name": "New River Gorge",
        "Recreation visitors (2021)[11]": 1682720,
        "Unnamed: 0": 44
       },
       {
        "Area (2021)[13]": "504,780.94 acres (2,042.8 km2)",
        "Date established as park[7][12]": "October 2, 1968",
        "Description": "The highly glaciated mountains of the North Cascades Range exhibit a spectacular and complex geologic history. Between the river valleys and high peaks there are eight diverse life zones with 75 mammal and 1,600 vascular plant species. Popular hiking and climbing areas of the Stephen Mather Wilderness include Cascade Pass, Mount Shuksan, Mount Triumph, and Eldorado Peak. Ross Lake and Lake Chelan National Recreation Areas adjoin the two segments of the park and are all administered together.[95]",
        "Image": null,
        "Location": "Washington48°42′N 121°12′W﻿ / ﻿48.70°N 121.20°W",
        "Name": "North Cascades",
        "Recreation visitors (2021)[11]": 17855,
        "Unnamed: 0": 45
       },
       {
        "Area (2021)[13]": "922,649.41 acres (3,733.8 km2)",
        "Date established as park[7][12]": "June 29, 1938",
        "Description": "This park on the Olympic Peninsula includes a wide range of ecosystems from Pacific shoreline to temperate rainforests to the glaciated alpine peaks of the Olympic Mountains, the tallest of which is Mount Olympus. The Hoh and Quinault Rainforests are the wettest areas in the contiguous United States, with the Hoh receiving an average of almost 12 ft (3.7 m) of rain every year.[96][97] (WHS)[98] (BR)[99]",
        "Image": null,
        "Location": "Washington47°58′N 123°30′W﻿ / ﻿47.97°N 123.50°W",
        "Name": "Olympic",
        "Recreation visitors (2021)[11]": 2718925,
        "Unnamed: 0": 46
       },
       {
        "Area (2021)[13]": "221,390.21 acres (895.9 km2)",
        "Date established as park[7][12]": "December 9, 1962",
        "Description": "This portion of the Chinle Formation has a large concentration of 225-million-year-old petrified wood. The surrounding Painted Desert features eroded cliffs of red-hued volcanic rock called bentonite. Dinosaur fossils and over 350 Native American sites are also protected in this park.[100]",
        "Image": null,
        "Location": "Arizona35°04′N 109°47′W﻿ / ﻿35.07°N 109.78°W",
        "Name": "Petrified Forest",
        "Recreation visitors (2021)[11]": 590334,
        "Unnamed: 0": 47
       },
       {
        "Area (2021)[13]": "26,685.73 acres (108.0 km2)",
        "Date established as park[7][12]": "January 10, 2013",
        "Description": "Named for the eroded leftovers of a portion of an extinct volcano, the park's massive black and gold monoliths of andesite and rhyolite are a popular destination for rock climbers. Hikers have access to trails crossing the Coast Range wilderness. The park is one of the few locations where the endangered California condor can be seen in the wild. Pinnacles also supports a dense population of prairie falcons and more than 13 species of bat that populate its talus caves.[101]",
        "Image": null,
        "Location": "California36°29′N 121°10′W﻿ / ﻿36.48°N 121.16°W",
        "Name": "Pinnacles",
        "Recreation visitors (2021)[11]": 348857,
        "Unnamed: 0": 48
       },
       {
        "Area (2021)[13]": "138,999.37 acres (562.5 km2)",
        "Date established as park[7][12]": "October 2, 1968",
        "Description": "This park and the co-managed state parks protect almost half of all remaining coastal redwoods, the tallest trees on earth. There are three large river systems in this very seismically active area, and 37 miles (60 km) of protected coastline reveal tide pools and seastacks. The prairie, estuary, coast, river, and forest ecosystems contain a wide variety of animal and plant species.[102] (WHS)[103]",
        "Image": null,
        "Location": "California41°18′N 124°00′W﻿ / ﻿41.30°N 124.00°W",
        "Name": "Redwood *",
        "Recreation visitors (2021)[11]": 435879,
        "Unnamed: 0": 49
       },
       {
        "Area (2021)[13]": "265,807.24 acres (1,075.7 km2)",
        "Date established as park[7][12]": "January 26, 1915",
        "Description": "Bisected north to south by the Continental Divide, this portion of the Rockies has ecosystems varying from over 150 riparian lakes to montane and subalpine forests to treeless alpine tundra. Wildlife including elk, moose, mule deer, bighorn sheep, black bears, and cougars inhabit its igneous mountains and glacial valleys. Longs Peak, a classic Colorado fourteener, and the scenic Bear Lake are popular destinations, as well as the historic Trail Ridge Road, which reaches an elevation of more than 12,000 feet (3,700 m).[104] (BR)[105]",
        "Image": null,
        "Location": "Colorado40°24′N 105°35′W﻿ / ﻿40.40°N 105.58°W",
        "Name": "Rocky Mountain",
        "Recreation visitors (2021)[11]": 4434848,
        "Unnamed: 0": 50
       },
       {
        "Area (2021)[13]": "92,867.42 acres (375.8 km2)",
        "Date established as park[7][12]": "October 14, 1994",
        "Description": "Split into the separate Rincon Mountain and Tucson Mountain districts, this park is evidence that the dry Sonoran Desert is still home to a great variety of life spanning six biotic communities. Beyond the namesake giant saguaro cacti, there are barrel cacti, chollas, and prickly pears, as well as lesser long-nosed bats, spotted owls, and javelinas.[106]",
        "Image": null,
        "Location": "Arizona32°15′N 110°30′W﻿ / ﻿32.25°N 110.50°W",
        "Name": "Saguaro",
        "Recreation visitors (2021)[11]": 1079786,
        "Unnamed: 0": 51
       },
       {
        "Area (2021)[13]": "404,062.63 acres (1,635.2 km2)",
        "Date established as park[7][12]": "September 25, 1890",
        "Description": "This park protects the Giant Forest, which boasts some of the world's largest trees, the General Sherman being the largest measured tree in the park. Other features include over 240 caves, a long segment of the Sierra Nevada including the tallest mountain in the contiguous United States, and Moro Rock, a large granite dome.[107] (BR)[81]",
        "Image": null,
        "Location": "California36°26′N 118°41′W﻿ / ﻿36.43°N 118.68°W",
        "Name": "Sequoia",
        "Recreation visitors (2021)[11]": 1059548,
        "Unnamed: 0": 52
       },
       {
        "Area (2021)[13]": "200,192.09 acres (810.1 km2)",
        "Date established as park[7][12]": "December 26, 1935",
        "Description": "Shenandoah's Blue Ridge Mountains are covered by hardwood forests that teem with a wide variety of wildlife. The Skyline Drive and Appalachian Trail run the entire length of this narrow park, along with more than 500 miles (800 km) of hiking trails passing scenic overlooks and cataracts of the Shenandoah River.[108]",
        "Image": null,
        "Location": "Virginia38°32′N 78°21′W﻿ / ﻿38.53°N 78.35°W",
        "Name": "Shenandoah",
        "Recreation visitors (2021)[11]": 1592312,
        "Unnamed: 0": 53
       },
       {
        "Area (2021)[13]": "70,446.89 acres (285.1 km2)",
        "Date established as park[7][12]": "November 10, 1978",
        "Description": "This region that enticed and influenced President Theodore Roosevelt consists of a park of three units in the northern badlands. Besides Roosevelt's historic cabin, there are numerous scenic drives and backcountry hiking opportunities. Wildlife includes American bison, pronghorn, bighorn sheep, and wild horses.[109]",
        "Image": null,
        "Location": "North Dakota46°58′N 103°27′W﻿ / ﻿46.97°N 103.45°W",
        "Name": "Theodore Roosevelt",
        "Recreation visitors (2021)[11]": 796085,
        "Unnamed: 0": 54
       },
       {
        "Area (2021)[13]": "15,052.33 acres (60.9 km2)",
        "Date established as park[7][12]": "August 2, 1956",
        "Description": "This island park on Saint John preserves pristine beaches surrounded by mangrove forests, seagrass beds, and coral reefs. It also has Taíno archaeological sites and the ruins of sugar plantations from Columbus's time.[110]",
        "Image": null,
        "Location": "U.S. Virgin Islands18°20′N 64°44′W﻿ / ﻿18.33°N 64.73°W",
        "Name": "Virgin Islands",
        "Recreation visitors (2021)[11]": 323999,
        "Unnamed: 0": 55
       },
       {
        "Area (2021)[13]": "218,222.35 acres (883.1 km2)",
        "Date established as park[7][12]": "April 8, 1975",
        "Description": "This park protecting four lakes near the Canada–US border is a site for canoeing, kayaking, and fishing. The park also preserves a history populated by Ojibwe Native Americans, French fur traders called voyageurs, and gold miners. Formed by glaciers, the region features tall bluffs, rock gardens, islands, bays, and several historic buildings.[111]",
        "Image": null,
        "Location": "Minnesota48°30′N 92°53′W﻿ / ﻿48.50°N 92.88°W",
        "Name": "Voyageurs",
        "Recreation visitors (2021)[11]": 243042,
        "Unnamed: 0": 56
       },
       {
        "Area (2021)[13]": "146,344.31 acres (592.2 km2)",
        "Date established as park[7][12]": "December 20, 2019[112]",
        "Description": "Located in the mountain-ringed Tularosa Basin, White Sands consists of the southern part of a 275-square-mile (710 km2) field of white sand dunes composed of gypsum crystals—the world's largest gypsum dunefield. The park is completely within the White Sands Missile Range and is subject to closure when tests are conducted.[113]",
        "Image": null,
        "Location": "New Mexico32°47′N 106°10′W﻿ / ﻿32.78°N 106.17°W",
        "Name": "White Sands",
        "Recreation visitors (2021)[11]": 782469,
        "Unnamed: 0": 57
       },
       {
        "Area (2021)[13]": "33,970.84 acres (137.5 km2)",
        "Date established as park[7][12]": "January 9, 1903",
        "Description": "Wind Cave is distinctive for its calcite fin formations called boxwork, a unique formation rarely found elsewhere, and needle-like growths called frostwork. It is one of the longest caves in the world and creates a wind as air pressure changes. Above ground is a mixed-grass prairie with animals such as bison, black-footed ferrets, and prairie dogs and ponderosa pine forests home to cougars and elk.[114] The cave is culturally significant to the Lakota people as a creation site.[115]",
        "Image": null,
        "Location": "South Dakota43°34′N 103°29′W﻿ / ﻿43.57°N 103.48°W",
        "Name": "Wind Cave",
        "Recreation visitors (2021)[11]": 709001,
        "Unnamed: 0": 58
       },
       {
        "Area (2021)[13]": "8,323,146.48 acres (33,682.6 km2)",
        "Date established as park[7][12]": "December 2, 1980",
        "Description": "The largest national park in the system protects the convergence of the Alaska, Chugach, Wrangell, and Saint Elias Ranges, which include many of the continent's tallest mountains and volcanoes, including the 18,008-foot Mount Saint Elias. More than a quarter of the park is covered with glaciers, including the tidewater Hubbard Glacier, piedmont Malaspina Glacier, and valley Nabesna Glacier.[116] (WHS)[54]",
        "Image": null,
        "Location": "Alaska61°00′N 142°00′W﻿ / ﻿61.00°N 142.00°W",
        "Name": "Wrangell–St. Elias *",
        "Recreation visitors (2021)[11]": 50189,
        "Unnamed: 0": 59
       },
       {
        "Area (2021)[13]": "2,219,790.71 acres (8,983.2 km2)",
        "Date established as park[7][12]": "March 1, 1872",
        "Description": "Situated on the Yellowstone Caldera, the park has an expansive network of geothermal areas including boiling mud pots, vividly colored hot springs such as Grand Prismatic Spring, and regularly erupting geysers, the best-known being Old Faithful. The yellow-hued Grand Canyon of the Yellowstone River contains several high waterfalls, and four mountain ranges traverse the park. More than 60 mammal species including timber wolves, grizzly bears, black bears, lynxes, bison, and elk make this park one of the best wildlife viewing spots in the country.[117] (WHS)[118] (BR)[119]",
        "Image": null,
        "Location": "Wyoming, Montana, Idaho44°36′N 110°30′W﻿ / ﻿44.60°N 110.50°W",
        "Name": "Yellowstone",
        "Recreation visitors (2021)[11]": 4860242,
        "Unnamed: 0": 60
       },
       {
        "Area (2021)[13]": "761,747.50 acres (3,082.7 km2)",
        "Date established as park[7][12]": "October 1, 1890",
        "Description": "Yosemite features sheer granite cliffs, exceptionally tall waterfalls, and old-growth forests at a unique intersection of geology and hydrology. Half Dome and El Capitan rise from the park's centerpiece, the glacier-carved Yosemite Valley, and from its vertical walls drop Yosemite Falls, one of North America's tallest waterfalls at 2,425 feet (739 m) high. Three giant sequoia groves, along with a pristine wilderness in the heart of the Sierra Nevada, are home to a wide variety of rare plant and animal species.[120] (WHS)[121]",
        "Image": null,
        "Location": "California37°50′N 119°30′W﻿ / ﻿37.83°N 119.50°W",
        "Name": "Yosemite *",
        "Recreation visitors (2021)[11]": 3287595,
        "Unnamed: 0": 61
       },
       {
        "Area (2021)[13]": "147,242.66 acres (595.9 km2)",
        "Date established as park[7][12]": "November 19, 1919",
        "Description": "Located at the junction of the Colorado Plateau, Great Basin, and Mojave Desert, this park contains sandstone features such as mesas, rock towers, and canyons, including the Virgin River Narrows. The various sandstone formations and the forks of the Virgin River create a wilderness divided into four ecosystems: desert, riparian, woodland, and coniferous forest.[122]",
        "Image": null,
        "Location": "Utah37°18′N 113°03′W﻿ / ﻿37.30°N 113.05°W",
        "Name": "Zion",
        "Recreation visitors (2021)[11]": 5039835,
        "Unnamed: 0": 62
       }
      ]
     },
     "height": 200,
     "mark": {
      "opacity": 0,
      "type": "point"
     },
     "width": 200
    },
    "trrack_graph": "ᯡ࠽䈌ʀ匦㢠⹰ಀ㬠䙐ᖠ㌴ୠච㌠二䐢慦¦≉⃳嶑䕋尾抹̈́倡ᙰ䡣冃摊⥺仃㍶皽尺簔ठ͢&惫ὤ䁅ШN嵀〡岁䍼℮㖆攠֨终n䝄V䐷ԣ₁䀠㡨ᑤⱚⵆԨ䃣◢䔲烰ైᨲౚ)䎲%樋瘌う䐢ẪA䦅性䦡အ೑⊢᤭ഠ䕠⛣栢沁ᙢ搰̸ሪ㦂Ⴀ癁Ɋ‸ଠ㖸憯淜ୈ̙瘖䯜ᑫȺ掎࣓رɸŜ.䞷េ㮍焢ነ沖̶唳䑎ԣϢ㪽ᐺ䂀⡥ᤶ䛡偐ᄪከᣨ䑥䃡偈पƥ䡖⯣炲᪬୤ٙ榚ᡢᚪ挑ఱးぉᩣየ犙Ÿ啈暂ұ䲨抑ɥᄅ㨉♻ᗫ犥ᨤ刲⩦ൢ†䔜࠻怠Ⴠႝ*猸㪚㕰ঐōᾷቸ嘾㞷怪噁ĳ剈悽Ἢ˫づ♦䊪㪈㱪แ૘തᭀ〤ᑻŁл᯿㒓Ჲ☧ߣऄᔶ䟁ᡌᬫ፰碜­ⲱᩍᐽ匈窝è北䤃⓺㔡昫㍹㞔㙻з㟺໗⧶㐐⸮䷽㏱悂ఠ԰焪殳攠䂮㴩嘢溮䨝泴絠犇戧❌⼰ሮՠ㵤䀳㴬稭䖜硄]ᴛ㺺᠟߉ࡃ⪋䴤ઐὗ䔘怷殲ṝț㼱⟃Ɵ慀へѰ⡈Գ䍸ڠ煮䁣絈䊡灂߱₌┰ࠬৱ≈ɢ椽त␦ԣ䐤ᳲ㼷ؘ䃓☠Y̡ᠰਲѭ⟢ࠠ⫝̸愲层ߴЭ䀡ኛ'ᯡါ⯠䚤⇜䝣傼ර烀徿煘匦̀䩧ᣨ糾ℶ┴嫈⸲妈Ⅎ㥴ܶ劔䧳殚彻К尰ᬦ僼ᢀ䣨䍦壪Ꮶ䓹ᮖဤ⣘Ç樚è᫰ࣂᮀ⣦᧦өᣆᬰ挸㌱揩䍸栩ᬪ榆学Ϻ⮠㭚Ἷ戤㖳ㅤኸ匰ਨ䠚粻Ͱਯ䍂氣ư亢䃱庨僀焭ᢆ歴Ꭴ煥䥪⒳䫄㥷䩊ť⪴ڮ委喻剂ᛥ⫂ረ劖⦩猖⬿奚宯⌮几爾㎺㢨䮣㯝ေ㫠嗳䅼᮴>₏㭣疨硜➷磘⯦箩媨ዑᜠᆬࠡ揞湛簑獸⚩晋ಠ柵禉䑗䜞璒❡〾✡嫜殳ေ箃ᡚ䰳䬧䒠⿹Ҡ呑䳘氪ᐂ糅Ĵ∰ᥱ⒮盒ȵ‰⊨䰀粳剜ࡓ䵡᜽䚑䯰休〦 眠ె暤粷糥䠥≺/垡噎嬇㌧ఆ˷玘Ľ䛗₍墹盥狴⟞厖䙞䄰灇䌁窣Ρ竚じ䄺͈䄷卉㒩䡮晿旔噭䬘百㎱ׂ䅌⩙㎒ᨵ㛰底◈䕄烡㵡ᅴͰ淀⑈満፼庻㎜歶䭳敪㵿⼏䱏㤺捰窺㍼歷揱彋᪫䋓䳤懋䈝⢐歳⦋ڛⶔ嵨⃡㰡຺㣁Ꭸ㑖Ǡᢦ䖷ᐩá掖ǀ䔲ᒘ⭭棓ᵉʨ⦥๳ٜ偊㣀䩅⍸咤砻̋᭟‱❥∪擌窫۴䃳甖ᰈ❏森ё満㉼ゎ岰植宦ทວ憢牃೦⎃㛜修䜗䟍偶ӿ஫秗琛㶢ܡᕆⵊᘷ䀡ɭ࿈\"䃕ᴠŉ姬䆓䏻病ᤓᰱ箏捖⮃㜂ᘼ汩偙叹⦮䐨濖୩ࢰ⩍恄஡୵ၰూ桇卂Ʉ࢘䍀䗍䄈ᅠᰢ㶮὘縱㩹㖵妉Îˠ僥䳀断㧴፣⭓࠸ஒ⁒ގᰏ಄ྜⲩ籿䬱ᱱ᠓灿砞䨎һβ矨堪㨛⡑⟟Ԥ羏瓉㈥劻歱⸪唗墸ⵍ䄿⍲㢆傔㛀桎䧵Ϋ䒠㴪㯟⧯ㄳ眡眞䧂ị惔Ᏼ痉ᴉᬵ櫀夢䐺߂ⰴ笓̔柿ʖႧ䝜玉ᒨ5ᒨQ⦢䢠ֶ⺇〠㕉൐ᕅᄠрRᾸቿ᳙窻䋸⭳ṻ撜矫粠⨥ぱհ匪稪㶒लʎɭढⴼ喠౯棡什ᐭ䤳௅ਿ煓㲲䂇㊠ᭋ妨᣹࠲疚ᔦ亟䓰࡬亓䠚姮⅀拘殬䊆ุ㙌ᩐ䧦コ扦瞡㳈槢⋮磶ʸⲟߐ濖࣠瑑㮀昷䖄ࡐ昕໡推䉸У破灱㖌凹槱橅䒘㮹硭ᢻ⃗棱ॆ⍾喈ⷬ⠹浍㆐浽喸暮櫏ⰱ幃ㄲ↙塻xᑐ刬Ɓヰ♘䞪ᩌ˘ˌ栳ⶢ圠〾㥬塨奫Ŏ⢻䳒ଲ书崲⋐ᮧ䧄瞲澞Ⲽ嵮炅洳痑旋䅆峒♗㰩᩟޹ᜭ㸬ஜ祁匿䧆復▴䝫罎䷄† "
   },
   "outputs": [
    {
     "data": {
      "application/vnd.vegalite.v5+json": {
       "$schema": "https://vega.github.io/schema/vega-lite/v5.8.0.json",
       "config": {
        "view": {
         "continuousHeight": 300,
         "continuousWidth": 300
        }
       },
       "data": {
        "name": "data-46c1c521a1191cd3f8aa201cbebbbc82"
       },
       "datasets": {
        "data-46c1c521a1191cd3f8aa201cbebbbc82": [
         {
          "Area (2021)[13]": "49,071.40 acres (198.6 km2)",
          "Date established as park[7][12]": "February 26, 1919",
          "Description": "Covering most of Mount Desert Island and other coastal islands, Acadia features the tallest mountain on the Atlantic coast of the United States, granite peaks, ocean shoreline, woodlands, and lakes. There are freshwater, estuary, forest, and intertidal habitats.[14][15]",
          "Image": null,
          "Location": "Maine.mw-parser-output .geo-default,.mw-parser-output .geo-dms,.mw-parser-output .geo-dec{display:inline}.mw-parser-output .geo-nondefault,.mw-parser-output .geo-multi-punct{display:none}.mw-parser-output .longitude,.mw-parser-output .latitude{white-space:nowrap}44°21′N 68°13′W﻿ / ﻿44.35°N 68.21°W",
          "Name": "Acadia",
          "Recreation visitors (2021)[11]": 4069098,
          "Unnamed: 0": 0
         },
         {
          "Area (2021)[13]": "8,256.67 acres (33.4 km2)",
          "Date established as park[7][12]": "October 31, 1988",
          "Description": "The southernmost national park is on three Samoan islands in the South Pacific. It protects coral reefs, rainforests, volcanic mountains, and white beaches. The area is also home to flying foxes, brown boobies, sea turtles, and 900 species of fish.[16]",
          "Image": null,
          "Location": "American Samoa14°15′S 170°41′W﻿ / ﻿14.25°S 170.68°W",
          "Name": "American Samoa",
          "Recreation visitors (2021)[11]": 8495,
          "Unnamed: 0": 1
         },
         {
          "Area (2021)[13]": "76,678.98 acres (310.3 km2)",
          "Date established as park[7][12]": "November 12, 1971",
          "Description": "This site features more than 2,000 natural sandstone arches, with some of the most popular arches in the park being Delicate Arch, Landscape Arch and Double Arch.[17] Millions of years of erosion have created these structures in a desert climate where the arid ground has life-sustaining biological soil crusts and potholes that serve as natural water-collecting basins. Other geologic formations include stone pinnacles, fins, and balancing rocks.[18]",
          "Image": null,
          "Location": "Utah38°41′N 109°34′W﻿ / ﻿38.68°N 109.57°W",
          "Name": "Arches",
          "Recreation visitors (2021)[11]": 1806865,
          "Unnamed: 0": 2
         },
         {
          "Area (2021)[13]": "242,755.94 acres (982.4 km2)",
          "Date established as park[7][12]": "November 10, 1978",
          "Description": "The Badlands are a collection of buttes, pinnacles, spires, and mixed-grass prairies within the drainage basin of the White River, in southwestern South Dakota. They contain the largest known assemblage of late Eocene and Oligocene mammal fossils.[19] Wildlife includes bison, bighorn sheep, black-footed ferrets, and prairie dogs.[20]",
          "Image": null,
          "Location": "South Dakota43°45′N 102°30′W﻿ / ﻿43.75°N 102.50°W",
          "Name": "Badlands",
          "Recreation visitors (2021)[11]": 1224226,
          "Unnamed: 0": 3
         },
         {
          "Area (2021)[13]": "801,163.21 acres (3,242.2 km2)",
          "Date established as park[7][12]": "June 12, 1944",
          "Description": "Named for the prominent bend in the Rio Grande along the U.S.–Mexico border, this park encompasses a large and remote part of the Chihuahuan Desert. Its main attraction is backcountry recreation in the arid Chisos Mountains and in canyons along the river. A wide variety of Cretaceous and Tertiary fossils as well as cultural artifacts of Native Americans also exist within its borders.[21] (BR)[22]",
          "Image": null,
          "Location": "Texas29°15′N 103°15′W﻿ / ﻿29.25°N 103.25°W",
          "Name": "Big Bend",
          "Recreation visitors (2021)[11]": 581220,
          "Unnamed: 0": 4
         },
         {
          "Area (2021)[13]": "172,971.11 acres (700.0 km2)",
          "Date established as park[7][12]": "June 28, 1980",
          "Description": "The central part of Biscayne Bay, this mostly underwater park at the north end of the Florida Keys has four interrelated marine ecosystems: mangrove forest, the Bay, the Keys, and coral reefs. Threatened animals include the West Indian manatee, American crocodile, various sea turtles, and the peregrine falcon.[23]",
          "Image": null,
          "Location": "Florida25°39′N 80°05′W﻿ / ﻿25.65°N 80.08°W",
          "Name": "Biscayne",
          "Recreation visitors (2021)[11]": 705655,
          "Unnamed: 0": 5
         },
         {
          "Area (2021)[13]": "30,779.83 acres (124.6 km2)",
          "Date established as park[7][12]": "October 21, 1999",
          "Description": "The park protects a quarter of the Gunnison River, which slices sheer canyon walls from dark Precambrian-era rock. The canyon features some of the steepest cliffs and oldest rock in North America, and is a popular site for river rafting and rock climbing. The deep, narrow canyon is composed of gneiss and schist, which appears black when in shadow.[24]",
          "Image": null,
          "Location": "Colorado38°34′N 107°43′W﻿ / ﻿38.57°N 107.72°W",
          "Name": "Black Canyon of the Gunnison",
          "Recreation visitors (2021)[11]": 308910,
          "Unnamed: 0": 6
         },
         {
          "Area (2021)[13]": "35,835.08 acres (145.0 km2)",
          "Date established as park[7][12]": "February 25, 1928",
          "Description": "Bryce Canyon is a geological amphitheater on southern Utah's Paunsaugunt Plateau with hundreds of tall, multicolored sandstone hoodoos formed by erosion. The region was originally settled by Native Americans and later by Mormon pioneers.[25]",
          "Image": null,
          "Location": "Utah37°34′N 112°11′W﻿ / ﻿37.57°N 112.18°W",
          "Name": "Bryce Canyon",
          "Recreation visitors (2021)[11]": 2104600,
          "Unnamed: 0": 7
         },
         {
          "Area (2021)[13]": "337,597.83 acres (1,366.2 km2)",
          "Date established as park[7][12]": "September 12, 1964",
          "Description": "This landscape was eroded into a maze of canyons, buttes, and mesas by the combined efforts of the Colorado River, Green River, and their tributaries, which divide the park into three districts. The park contains thousands of rock pinnacles and arches, as well as artifacts from Ancient Pueblo peoples.[26]",
          "Image": null,
          "Location": "Utah38°12′N 109°56′W﻿ / ﻿38.2°N 109.93°W",
          "Name": "Canyonlands",
          "Recreation visitors (2021)[11]": 911594,
          "Unnamed: 0": 8
         },
         {
          "Area (2021)[13]": "241,904.50 acres (979.0 km2)",
          "Date established as park[7][12]": "December 18, 1971",
          "Description": "The park's Waterpocket Fold is a 100-mile (160 km) monocline that exhibits the earth's diverse geologic layers. Other natural features include monoliths, eroded buttes, and sandstone domes, including one shaped like the United States Capitol.[27]",
          "Image": null,
          "Location": "Utah38°12′N 111°10′W﻿ / ﻿38.20°N 111.17°W",
          "Name": "Capitol Reef",
          "Recreation visitors (2021)[11]": 1405353,
          "Unnamed: 0": 9
         },
         {
          "Area (2021)[13]": "46,766.45 acres (189.3 km2)",
          "Date established as park[7][12]": "May 14, 1930",
          "Description": "Carlsbad Caverns has 117 caves, the longest of which is over 120 miles (190 km) long. The Big Room is almost 4,000 feet (1,200 m) long, and the caves are home to over 400,000 Mexican free-tailed bats and sixteen other species. Above ground are the Chihuahuan Desert and Rattlesnake Springs.[28] (WHS)[29]",
          "Image": null,
          "Location": "New Mexico32°10′N 104°26′W﻿ / ﻿32.17°N 104.44°W",
          "Name": "Carlsbad Caverns *",
          "Recreation visitors (2021)[11]": 349244,
          "Unnamed: 0": 10
         },
         {
          "Area (2021)[13]": "249,561.00 acres (1,009.9 km2)",
          "Date established as park[7][12]": "March 5, 1980",
          "Description": "Five of the eight Channel Islands are protected, with half of the park's area underwater. The islands have a unique Mediterranean ecosystem originally settled by the Chumash people. They are home to over 2,000 species of land plants and animals, 145 endemic to them, including the island fox. Ferry services offer transportation to the islands from the mainland.[30] (BR)[31]",
          "Image": null,
          "Location": "California34°01′N 119°25′W﻿ / ﻿34.01°N 119.42°W",
          "Name": "Channel Islands",
          "Recreation visitors (2021)[11]": 319252,
          "Unnamed: 0": 11
         },
         {
          "Area (2021)[13]": "26,692.60 acres (108.0 km2)",
          "Date established as park[7][12]": "November 10, 2003",
          "Description": "On the Congaree River, this park is the largest portion of old-growth floodplain forest left in North America. Some of the trees are the tallest in the eastern United States. An elevated walkway called the Boardwalk Loop guides visitors through the swamp.[32] (BR)[33]",
          "Image": null,
          "Location": "South Carolina33°47′N 80°47′W﻿ / ﻿33.78°N 80.78°W",
          "Name": "Congaree",
          "Recreation visitors (2021)[11]": 215181,
          "Unnamed: 0": 12
         },
         {
          "Area (2021)[13]": "183,224.05 acres (741.5 km2)",
          "Date established as park[7][12]": "May 22, 1902",
          "Description": "Crater Lake lies in the caldera of an ancient volcano called Mount Mazama that collapsed 7,700 years ago. The lake is the deepest in the United States and is noted for its vivid blue color and water clarity. Wizard Island and the Phantom Ship are more recent volcanic formations within the caldera. As the lake has no inlets or outlets, it is replenished only by precipitation.[34]",
          "Image": null,
          "Location": "Oregon42°56′N 122°06′W﻿ / ﻿42.94°N 122.1°W",
          "Name": "Crater Lake",
          "Recreation visitors (2021)[11]": 647751,
          "Unnamed: 0": 13
         },
         {
          "Area (2021)[13]": "32,571.88 acres (131.8 km2)",
          "Date established as park[7][12]": "October 11, 2000",
          "Description": "This park along the Cuyahoga River has waterfalls, hills, trails, and exhibits on early rural living. The Ohio and Erie Canal Towpath Trail follows the Ohio and Erie Canal, where mules towed canal boats. The park has numerous historic homes, bridges, and structures,[35] and also offers a scenic train ride.[36]",
          "Image": null,
          "Location": "Ohio41°14′N 81°33′W﻿ / ﻿41.24°N 81.55°W",
          "Name": "Cuyahoga Valley",
          "Recreation visitors (2021)[11]": 2575275,
          "Unnamed: 0": 14
         },
         {
          "Area (2021)[13]": "3,408,395.63 acres (13,793.3 km2)",
          "Date established as park[7][12]": "October 31, 1994",
          "Description": "Death Valley is the hottest, lowest, and driest place in the United States, with daytime temperatures that have exceeded 130 °F (54 °C). The park protects Badwater Basin and its vast salt flats at the lowest elevation in North America, −282 ft (−86 m),[37] This geologic graben also protects numerous canyons, badlands, sand dunes, mountain ranges, historic mines, springs, and more than 1,000 species of plants that grow.[38] (BR)[39]",
          "Image": null,
          "Location": "California, Nevada36°14′N 116°49′W﻿ / ﻿36.24°N 116.82°W",
          "Name": "Death Valley",
          "Recreation visitors (2021)[11]": 1146551,
          "Unnamed: 0": 15
         },
         {
          "Area (2021)[13]": "4,740,911.16 acres (19,185.8 km2)",
          "Date established as park[7][12]": "February 26, 1917",
          "Description": "Centered on Denali, the tallest and most prominent mountain in North America, the park is serviced by a single road leading to Wonder Lake, most of which can only be accessed via scheduled tour buses. Denali and other peaks of the Alaska Range are covered with long glaciers and boreal forest. Wildlife includes grizzly bears, Dall sheep, moose, caribou, and wolves.[40] (BR)[41]",
          "Image": null,
          "Location": "Alaska63°20′N 150°30′W﻿ / ﻿63.33°N 150.50°W",
          "Name": "Denali",
          "Recreation visitors (2021)[11]": 229521,
          "Unnamed: 0": 16
         },
         {
          "Area (2021)[13]": "64,701.22 acres (261.8 km2)",
          "Date established as park[7][12]": "October 26, 1992",
          "Description": "The islands of the Dry Tortugas, at the westernmost end of the Florida Keys, are the site of Fort Jefferson, a Civil War-era fort that is the largest masonry structure in the Western Hemisphere. The park is home to undisturbed coral reefs and shipwrecks, and is only accessible by plane or boat.[42] (BR)[43]",
          "Image": null,
          "Location": "Florida24°38′N 82°52′W﻿ / ﻿24.63°N 82.87°W",
          "Name": "Dry Tortugas",
          "Recreation visitors (2021)[11]": 83817,
          "Unnamed: 0": 17
         },
         {
          "Area (2021)[13]": "1,508,938.57 acres (6,106.5 km2)",
          "Date established as park[7][12]": "May 30, 1934",
          "Description": "The Everglades are the largest tropical wilderness in the United States. This mangrove and tropical rainforest ecosystem and marine estuary is home to 36 protected species, including the Florida panther, American crocodile, and West Indian manatee. Some areas have been drained and developed; restoration projects aim to restore the ecology.[44] (WHS)[45] (BR)[43]",
          "Image": null,
          "Location": "Florida25°19′N 80°56′W﻿ / ﻿25.32°N 80.93°W",
          "Name": "Everglades",
          "Recreation visitors (2021)[11]": 942130,
          "Unnamed: 0": 18
         },
         {
          "Area (2021)[13]": "7,523,897.45 acres (30,448.1 km2)",
          "Date established as park[7][12]": "December 2, 1980",
          "Description": "The country's northernmost park protects an expanse of pure wilderness in Alaska's Brooks Range and has no park facilities. The land is home to Alaska Natives who have relied on the land and caribou for 11,000 years.[46]",
          "Image": null,
          "Location": "Alaska67°47′N 153°18′W﻿ / ﻿67.78°N 153.30°W",
          "Name": "Gates of the Arctic",
          "Recreation visitors (2021)[11]": 7362,
          "Unnamed: 0": 19
         },
         {
          "Area (2021)[13]": "91 acres (0.4 km2)",
          "Date established as park[7][12]": "February 22, 2018[47]",
          "Description": "The Gateway Arch is a 630-foot (192 m) (both high and wide) catenary arch built in the 1960s to commemorate the Lewis and Clark Expedition, initiated by Thomas Jefferson, and the subsequent westward expansion of the country. The nearby Old Courthouse, across a greenway to the west of the arch, was the original site of the landmark Dred Scott case about slavery. An underground museum describes the arch's construction and the country's westward expansion.[48]",
          "Image": null,
          "Location": "Missouri38°38′N 90°11′W﻿ / ﻿38.63°N 90.19°W",
          "Name": "Gateway Arch",
          "Recreation visitors (2021)[11]": 1145081,
          "Unnamed: 0": 20
         },
         {
          "Area (2021)[13]": "1,013,126.39 acres (4,100.0 km2)",
          "Date established as park[7][12]": "May 11, 1910",
          "Description": "The U.S. half of Waterton-Glacier International Peace Park, this park includes 26 rapidly receding glaciers and 130 named lakes surrounded by Rocky Mountain peaks. Historic hotels and the landmark Going-to-the-Sun Road accommodate visitors.[49] The local mountains, formed by an overthrust, expose Paleozoic fossils including trilobites, mollusks, giant ferns and dinosaurs. The park is also home to Triple Divide Peak, which forms the boundary between the watersheds of the Atlantic, Pacific, and Arctic Oceans.[50] (WHS)[51] (BR)[52]",
          "Image": null,
          "Location": "Montana48°48′N 114°00′W﻿ / ﻿48.80°N 114.00°W",
          "Name": "Glacier",
          "Recreation visitors (2021)[11]": 3081656,
          "Unnamed: 0": 21
         },
         {
          "Area (2021)[13]": "3,223,383.43 acres (13,044.6 km2)",
          "Date established as park[7][12]": "December 2, 1980",
          "Description": "Glacier Bay contains tidewater glaciers, mountains, fjords, and a temperate rainforest, and is home to large populations of grizzly bears, mountain goats, whales, seals, and eagles. When discovered in 1794 by George Vancouver, the entire bay was covered by ice, but the glaciers have since receded more than 65 miles (105 km).[53] (WHS)[54] (BR)[55]",
          "Image": null,
          "Location": "Alaska58°30′N 137°00′W﻿ / ﻿58.50°N 137.00°W",
          "Name": "Glacier Bay",
          "Recreation visitors (2021)[11]": 89768,
          "Unnamed: 0": 22
         },
         {
          "Area (2021)[13]": "1,201,647.03 acres (4,862.9 km2)",
          "Date established as park[7][12]": "February 26, 1919",
          "Description": "The Grand Canyon, carved by the mighty Colorado River, is 277 miles (446 km) long, up to 1 mile (1.6 km) deep, and up to 15 miles (24 km) wide. Millions of years of erosion have resulted in a massive three-tiered canyon, exposing the multicolored layers of the Colorado Plateau in mesas and canyon walls, visible from trails that descend into the canyon from the north and south rims.[56] (WHS)[57]",
          "Image": null,
          "Location": "Arizona36°04′N 112°08′W﻿ / ﻿36.06°N 112.14°W",
          "Name": "Grand Canyon *",
          "Recreation visitors (2021)[11]": 4532677,
          "Unnamed: 0": 23
         },
         {
          "Area (2021)[13]": "310,044.36 acres (1,254.7 km2)",
          "Date established as park[7][12]": "February 26, 1929",
          "Description": "Grand Teton is the tallest mountain in the scenic Teton Range. The park's historic Jackson Hole and reflective piedmont lakes teem with endemic wildlife, with a backdrop of craggy mountains that rise abruptly from the sage-covered valley below.[58] (BR)[6]",
          "Image": null,
          "Location": "Wyoming43°44′N 110°48′W﻿ / ﻿43.73°N 110.80°W",
          "Name": "Grand Teton",
          "Recreation visitors (2021)[11]": 3885230,
          "Unnamed: 0": 24
         },
         {
          "Area (2021)[13]": "77,180.00 acres (312.3 km2)",
          "Date established as park[7][12]": "October 27, 1986",
          "Description": "Based around Nevada's second tallest mountain, Wheeler Peak, Great Basin National Park protects 5,000-year-old bristlecone pines, a rock glacier, and the limestone Lehman Caves. Due to its remote location, the park is home to some of the country's darkest night skies. Wildlife includes the Townsend's big-eared bat, pronghorn, and Bonneville cutthroat trout.[59]",
          "Image": null,
          "Location": "Nevada38°59′N 114°18′W﻿ / ﻿38.98°N 114.30°W",
          "Name": "Great Basin",
          "Recreation visitors (2021)[11]": 144875,
          "Unnamed: 0": 25
         },
         {
          "Area (2021)[13]": "107,345.73 acres (434.4 km2)",
          "Date established as park[7][12]": "September 24, 2004",
          "Description": "The tallest sand dunes in North America, up to 750 feet (230 m) tall, were formed by deposits of the ancient Rio Grande in the San Luis Valley. Abutting a variety of grasslands, shrublands, and wetlands, the park also features alpine lakes, six 13,000-foot mountains, and old-growth forests.[60]",
          "Image": null,
          "Location": "Colorado37°44′N 105°31′W﻿ / ﻿37.73°N 105.51°W",
          "Name": "Great Sand Dunes",
          "Recreation visitors (2021)[11]": 602613,
          "Unnamed: 0": 26
         },
         {
          "Area (2021)[13]": "522,426.88 acres (2,114.2 km2)",
          "Date established as park[7][12]": "June 15, 1934",
          "Description": "The Great Smoky Mountains, part of the Appalachian Mountains, span a wide range of elevations, making them home to over 400 vertebrate species, 100 tree species, and 5,000 plant species. Hiking is the park's main attraction, with over 800 miles (1,300 km) of trails, including 70 miles (110 km) of the Appalachian Trail. Other activities include fishing, horseback riding, and touring nearly 80 historic structures.[61] (WHS)[62] (BR)[63]",
          "Image": null,
          "Location": "North Carolina, Tennessee35°41′N 83°32′W﻿ / ﻿35.68°N 83.53°W",
          "Name": "Great Smoky Mountains",
          "Recreation visitors (2021)[11]": 14161548,
          "Unnamed: 0": 27
         },
         {
          "Area (2021)[13]": "86,367.10 acres (349.5 km2)",
          "Date established as park[7][12]": "October 15, 1966",
          "Description": "This park contains Guadalupe Peak, the highest point in Texas, as well as the scenic McKittrick Canyon filled with bigtooth maples, a corner of the arid Chihuahuan Desert, and a fossilized coral reef from the Permian era.[64]",
          "Image": null,
          "Location": "Texas31°55′N 104°52′W﻿ / ﻿31.92°N 104.87°W",
          "Name": "Guadalupe Mountains",
          "Recreation visitors (2021)[11]": 243291,
          "Unnamed: 0": 28
         },
         {
          "Area (2021)[13]": "33,264.62 acres (134.6 km2)",
          "Date established as park[7][12]": "July 1, 1961",
          "Description": "The Haleakalā volcano on Maui features a very large crater with numerous cinder cones, a grove of non-native trees, the Kipahulu section's scenic pools of freshwater fish, and the endemic Hawaiian goose. The park protects the greatest number of endangered species within a U.S. national park.[65] (BR)[66]",
          "Image": null,
          "Location": "Hawaii20°43′N 156°10′W﻿ / ﻿20.72°N 156.17°W",
          "Name": "Haleakalā",
          "Recreation visitors (2021)[11]": 853181,
          "Unnamed: 0": 29
         },
         {
          "Area (2021)[13]": "325,605.28 acres (1,317.7 km2)",
          "Date established as park[7][12]": "August 1, 1916",
          "Description": "This park on the Big Island protects the Kīlauea and Mauna Loa volcanoes, two of the world's most active geological features. Diverse ecosystems range from tropical forests at sea level to barren lava beds at more than 13,000 feet (4,000 m).[67] (WHS)[68] (BR)[66]",
          "Image": null,
          "Location": "Hawaii19°23′N 155°12′W﻿ / ﻿19.38°N 155.20°W",
          "Name": "Hawaiʻi Volcanoes",
          "Recreation visitors (2021)[11]": 1262747,
          "Unnamed: 0": 30
         },
         {
          "Area (2021)[13]": "5,554.15 acres (22.5 km2)",
          "Date established as park[7][12]": "March 4, 1921",
          "Description": "Hot Springs was originally established by Congress as a federal reserve on April 20, 1832, making it the oldest area managed by the National Park Service. Natural thermal springs flow out of the Ouachita Mountains, providing opportunities for relaxation in a historic setting. Bathhouse Row preserves examples of 19th-century architecture.[69] Hot Springs is the first national park within a city and was the smallest national park until 2018.[70]",
          "Image": null,
          "Location": "Arkansas34°31′N 93°03′W﻿ / ﻿34.51°N 93.05°W",
          "Name": "Hot Springs",
          "Recreation visitors (2021)[11]": 2162884,
          "Unnamed: 0": 31
         },
         {
          "Area (2021)[13]": "15,349.08 acres (62.1 km2)",
          "Date established as park[7][12]": "February 15, 2019",
          "Description": "Previously designated a national lakeshore, parts of this 20-mile (32 km) stretch of the southern shore of Lake Michigan have sandy beaches and tall dunes. The park includes grassy prairies, peat bogs, and marsh wetlands home to over 2,000 species.[71]",
          "Image": null,
          "Location": "Indiana41°39′12″N 87°03′09″W﻿ / ﻿41.6533°N 87.0524°W",
          "Name": "Indiana Dunes",
          "Recreation visitors (2021)[11]": 3177210,
          "Unnamed: 0": 32
         },
         {
          "Area (2021)[13]": "571,790.30 acres (2,314.0 km2)",
          "Date established as park[7][12]": "April 3, 1940",
          "Description": "The largest island in Lake Superior is a place of isolation and wilderness. Along with its many shipwrecks, waterways, and hiking trails, the park also includes over 400 smaller islands within 4.5 miles (7.2 km) of its shores. There are only 20 mammal species on the island, though the relationship between its wolf and moose populations is especially unique.[72] (BR)[73]",
          "Image": null,
          "Location": "Michigan48°06′N 88°33′W﻿ / ﻿48.10°N 88.55°W",
          "Name": "Isle Royale",
          "Recreation visitors (2021)[11]": 25844,
          "Unnamed: 0": 33
         },
         {
          "Area (2021)[13]": "795,155.85 acres (3,217.9 km2)",
          "Date established as park[7][12]": "October 31, 1994",
          "Description": "Covering large areas of the Colorado and Mojave Deserts and the Little San Bernardino Mountains, this desert landscape is populated by vast stands of Joshua trees. Large changes in elevation reveal various contrasting environments including bleached sand dunes, dry lakes, rugged mountains, and maze-like clusters of monzogranite monoliths.[74] (BR)[39]",
          "Image": null,
          "Location": "California33°47′N 115°54′W﻿ / ﻿33.79°N 115.90°W",
          "Name": "Joshua Tree",
          "Recreation visitors (2021)[11]": 3064400,
          "Unnamed: 0": 34
         },
         {
          "Area (2021)[13]": "3,674,529.33 acres (14,870.3 km2)",
          "Date established as park[7][12]": "December 2, 1980",
          "Description": "This park on the Alaska Peninsula protects the Valley of Ten Thousand Smokes, an ash flow formed by the 1912 eruption of Novarupta, and the stratovolcano Mount Katmai. Over 2,000 grizzly bears come here each year to catch spawning salmon. Other wildlife includes caribou, wolves, moose, and wolverines.[75]",
          "Image": null,
          "Location": "Alaska58°30′N 155°00′W﻿ / ﻿58.50°N 155.00°W",
          "Name": "Katmai",
          "Recreation visitors (2021)[11]": 24764,
          "Unnamed: 0": 35
         },
         {
          "Area (2021)[13]": "669,650.05 acres (2,710.0 km2)",
          "Date established as park[7][12]": "December 2, 1980",
          "Description": "Near Seward on the Kenai Peninsula, this park protects the Harding Icefield and at least 38 glaciers and fjords stemming from it. The only area accessible to the public by road is the rapidly shrinking Exit Glacier. Boat and kayak tours offer views of tidewater glaciers, whales, sea lions, and marine birds.[76]",
          "Image": null,
          "Location": "Alaska59°55′N 149°39′W﻿ / ﻿59.92°N 149.65°W",
          "Name": "Kenai Fjords",
          "Recreation visitors (2021)[11]": 411782,
          "Unnamed: 0": 36
         },
         {
          "Area (2021)[13]": "461,901.20 acres (1,869.2 km2)",
          "Date established as park[7][12]": "March 4, 1940",
          "Description": "Home to several giant sequoia groves and the General Grant Tree, the world's second largest measured tree, this park also features part of the Kings River, sculptor of the dramatic granite canyon that is its namesake, and the San Joaquin River, as well as Boyden Cave.[77] Although Kings Canyon National Park was designated as such in 1940, it subsumed General Grant National Park, which had been established on October 1, 1890, as the United States' fourth national park.[78][79][80] (BR)[81]",
          "Image": null,
          "Location": "California36°48′N 118°33′W﻿ / ﻿36.80°N 118.55°W",
          "Name": "Kings Canyon",
          "Recreation visitors (2021)[11]": 562918,
          "Unnamed: 0": 37
         },
         {
          "Area (2021)[13]": "1,750,716.16 acres (7,084.9 km2)",
          "Date established as park[7][12]": "December 2, 1980",
          "Description": "Kobuk Valley protects 61 miles (98 km) of the Kobuk River and three regions of sand dunes. Created by glaciers, the Great Kobuk, Little Kobuk, and Hunt River Sand Dunes can reach 100 feet (30 m) high and 100 °F (38 °C), and they are the largest dunes in the Arctic. Twice a year, half a million caribou migrate through the dunes and across river bluffs that expose well-preserved ice age fossils.[82]",
          "Image": null,
          "Location": "Alaska67°33′N 159°17′W﻿ / ﻿67.55°N 159.28°W",
          "Name": "Kobuk Valley",
          "Recreation visitors (2021)[11]": 11540,
          "Unnamed: 0": 38
         },
         {
          "Area (2021)[13]": "2,619,816.49 acres (10,602.0 km2)",
          "Date established as park[7][12]": "December 2, 1980",
          "Description": "The region around Lake Clark features four active volcanoes, including Mount Redoubt, as well as an abundance of rivers, glaciers, and waterfalls. Temperate rainforests, a tundra plateau, and three mountain ranges complete the landscape.[83]",
          "Image": null,
          "Location": "Alaska60°58′N 153°25′W﻿ / ﻿60.97°N 153.42°W",
          "Name": "Lake Clark",
          "Recreation visitors (2021)[11]": 18278,
          "Unnamed: 0": 39
         },
         {
          "Area (2021)[13]": "106,589.02 acres (431.4 km2)",
          "Date established as park[7][12]": "August 9, 1916",
          "Description": "Lassen Peak, the largest lava dome volcano in the world, is joined by all three other types of volcanoes in this park: shield, cinder cone, and composite. Though Lassen itself last erupted in 1915, most of the rest of the park is continuously active. Numerous hydrothermal features, including fumaroles, boiling pools, and bubbling mud pots, are heated by molten rock from beneath the peak.[84]",
          "Image": null,
          "Location": "California40°29′N 121°31′W﻿ / ﻿40.49°N 121.51°W",
          "Name": "Lassen Volcanic",
          "Recreation visitors (2021)[11]": 359635,
          "Unnamed: 0": 40
         },
         {
          "Area (2021)[13]": "54,016.29 acres (218.6 km2)",
          "Date established as park[7][12]": "July 1, 1941",
          "Description": "With more than 400 miles (640 km) of passageways explored, Mammoth Cave is the world's longest known cave system. Subterranean wildlife includes eight bat species, Kentucky cave shrimp, Northern cavefish, and cave salamanders. Above ground, the park provides recreation on the Green River, 70 miles of hiking trails, and plenty of sinkholes and springs.[85] (WHS)[86] (BR)[87]",
          "Image": null,
          "Location": "Kentucky37°11′N 86°06′W﻿ / ﻿37.18°N 86.10°W",
          "Name": "Mammoth Cave",
          "Recreation visitors (2021)[11]": 515774,
          "Unnamed: 0": 41
         },
         {
          "Area (2021)[13]": "52,485.17 acres (212.4 km2)",
          "Date established as park[7][12]": "June 29, 1906",
          "Description": "This area constitutes over 4,000 archaeological sites of the Ancestral Puebloan people, who lived here and elsewhere in the Four Corners region for at least 700 years. Cliff dwellings built in the 12th and 13th centuries include Cliff Palace, which has 150 rooms and 23 kivas, and the Balcony House, with its many passages and tunnels.[88] (WHS)[89]",
          "Image": null,
          "Location": "Colorado37°11′N 108°29′W﻿ / ﻿37.18°N 108.49°W",
          "Name": "Mesa Verde *",
          "Recreation visitors (2021)[11]": 548477,
          "Unnamed: 0": 42
         },
         {
          "Area (2021)[13]": "236,381.64 acres (956.6 km2)",
          "Date established as park[7][12]": "March 2, 1899",
          "Description": "Mount Rainier, an active stratovolcano, is the most prominent peak in the Cascades and is covered by 26 named glaciers including Carbon Glacier and Emmons Glacier, the longest and largest in the contiguous United States respectively. The mountain is popular for climbing, and more than half of the park is covered by subalpine and alpine forests and meadows seasonally in bloom with wildflowers. Paradise on the south slope is among the snowiest places on Earth.[90] The Longmire visitor center is the start of the Wonderland Trail, which encircles the mountain.[91]",
          "Image": null,
          "Location": "Washington46°51′N 121°45′W﻿ / ﻿46.85°N 121.75°W",
          "Name": "Mount Rainier",
          "Recreation visitors (2021)[11]": 1670063,
          "Unnamed: 0": 43
         },
         {
          "Area (2021)[13]": "7,021 acres (28.4 km2)[92]",
          "Date established as park[7][12]": "December 27, 2020",
          "Description": "The New River Gorge is the deepest river gorge east of the Mississippi River. The park primarily covers the lower gorge area around the New River Gorge Bridge, which features some of the country's best whitewater rafting. Smaller noncontiguous sections showcase the ghost town of Thurmond, the scenic Grandview vista, and Sandstone Falls. The other 65,165 acres (263.71 km2) of the redesignated national river is now a national preserve, spanning 53 mi (85 km) of the New River.[93][94]",
          "Image": null,
          "Location": "West Virginia38°04′N 81°05′W﻿ / ﻿38.07°N 81.08°W",
          "Name": "New River Gorge",
          "Recreation visitors (2021)[11]": 1682720,
          "Unnamed: 0": 44
         },
         {
          "Area (2021)[13]": "504,780.94 acres (2,042.8 km2)",
          "Date established as park[7][12]": "October 2, 1968",
          "Description": "The highly glaciated mountains of the North Cascades Range exhibit a spectacular and complex geologic history. Between the river valleys and high peaks there are eight diverse life zones with 75 mammal and 1,600 vascular plant species. Popular hiking and climbing areas of the Stephen Mather Wilderness include Cascade Pass, Mount Shuksan, Mount Triumph, and Eldorado Peak. Ross Lake and Lake Chelan National Recreation Areas adjoin the two segments of the park and are all administered together.[95]",
          "Image": null,
          "Location": "Washington48°42′N 121°12′W﻿ / ﻿48.70°N 121.20°W",
          "Name": "North Cascades",
          "Recreation visitors (2021)[11]": 17855,
          "Unnamed: 0": 45
         },
         {
          "Area (2021)[13]": "922,649.41 acres (3,733.8 km2)",
          "Date established as park[7][12]": "June 29, 1938",
          "Description": "This park on the Olympic Peninsula includes a wide range of ecosystems from Pacific shoreline to temperate rainforests to the glaciated alpine peaks of the Olympic Mountains, the tallest of which is Mount Olympus. The Hoh and Quinault Rainforests are the wettest areas in the contiguous United States, with the Hoh receiving an average of almost 12 ft (3.7 m) of rain every year.[96][97] (WHS)[98] (BR)[99]",
          "Image": null,
          "Location": "Washington47°58′N 123°30′W﻿ / ﻿47.97°N 123.50°W",
          "Name": "Olympic",
          "Recreation visitors (2021)[11]": 2718925,
          "Unnamed: 0": 46
         },
         {
          "Area (2021)[13]": "221,390.21 acres (895.9 km2)",
          "Date established as park[7][12]": "December 9, 1962",
          "Description": "This portion of the Chinle Formation has a large concentration of 225-million-year-old petrified wood. The surrounding Painted Desert features eroded cliffs of red-hued volcanic rock called bentonite. Dinosaur fossils and over 350 Native American sites are also protected in this park.[100]",
          "Image": null,
          "Location": "Arizona35°04′N 109°47′W﻿ / ﻿35.07°N 109.78°W",
          "Name": "Petrified Forest",
          "Recreation visitors (2021)[11]": 590334,
          "Unnamed: 0": 47
         },
         {
          "Area (2021)[13]": "26,685.73 acres (108.0 km2)",
          "Date established as park[7][12]": "January 10, 2013",
          "Description": "Named for the eroded leftovers of a portion of an extinct volcano, the park's massive black and gold monoliths of andesite and rhyolite are a popular destination for rock climbers. Hikers have access to trails crossing the Coast Range wilderness. The park is one of the few locations where the endangered California condor can be seen in the wild. Pinnacles also supports a dense population of prairie falcons and more than 13 species of bat that populate its talus caves.[101]",
          "Image": null,
          "Location": "California36°29′N 121°10′W﻿ / ﻿36.48°N 121.16°W",
          "Name": "Pinnacles",
          "Recreation visitors (2021)[11]": 348857,
          "Unnamed: 0": 48
         },
         {
          "Area (2021)[13]": "138,999.37 acres (562.5 km2)",
          "Date established as park[7][12]": "October 2, 1968",
          "Description": "This park and the co-managed state parks protect almost half of all remaining coastal redwoods, the tallest trees on earth. There are three large river systems in this very seismically active area, and 37 miles (60 km) of protected coastline reveal tide pools and seastacks. The prairie, estuary, coast, river, and forest ecosystems contain a wide variety of animal and plant species.[102] (WHS)[103]",
          "Image": null,
          "Location": "California41°18′N 124°00′W﻿ / ﻿41.30°N 124.00°W",
          "Name": "Redwood *",
          "Recreation visitors (2021)[11]": 435879,
          "Unnamed: 0": 49
         },
         {
          "Area (2021)[13]": "265,807.24 acres (1,075.7 km2)",
          "Date established as park[7][12]": "January 26, 1915",
          "Description": "Bisected north to south by the Continental Divide, this portion of the Rockies has ecosystems varying from over 150 riparian lakes to montane and subalpine forests to treeless alpine tundra. Wildlife including elk, moose, mule deer, bighorn sheep, black bears, and cougars inhabit its igneous mountains and glacial valleys. Longs Peak, a classic Colorado fourteener, and the scenic Bear Lake are popular destinations, as well as the historic Trail Ridge Road, which reaches an elevation of more than 12,000 feet (3,700 m).[104] (BR)[105]",
          "Image": null,
          "Location": "Colorado40°24′N 105°35′W﻿ / ﻿40.40°N 105.58°W",
          "Name": "Rocky Mountain",
          "Recreation visitors (2021)[11]": 4434848,
          "Unnamed: 0": 50
         },
         {
          "Area (2021)[13]": "92,867.42 acres (375.8 km2)",
          "Date established as park[7][12]": "October 14, 1994",
          "Description": "Split into the separate Rincon Mountain and Tucson Mountain districts, this park is evidence that the dry Sonoran Desert is still home to a great variety of life spanning six biotic communities. Beyond the namesake giant saguaro cacti, there are barrel cacti, chollas, and prickly pears, as well as lesser long-nosed bats, spotted owls, and javelinas.[106]",
          "Image": null,
          "Location": "Arizona32°15′N 110°30′W﻿ / ﻿32.25°N 110.50°W",
          "Name": "Saguaro",
          "Recreation visitors (2021)[11]": 1079786,
          "Unnamed: 0": 51
         },
         {
          "Area (2021)[13]": "404,062.63 acres (1,635.2 km2)",
          "Date established as park[7][12]": "September 25, 1890",
          "Description": "This park protects the Giant Forest, which boasts some of the world's largest trees, the General Sherman being the largest measured tree in the park. Other features include over 240 caves, a long segment of the Sierra Nevada including the tallest mountain in the contiguous United States, and Moro Rock, a large granite dome.[107] (BR)[81]",
          "Image": null,
          "Location": "California36°26′N 118°41′W﻿ / ﻿36.43°N 118.68°W",
          "Name": "Sequoia",
          "Recreation visitors (2021)[11]": 1059548,
          "Unnamed: 0": 52
         },
         {
          "Area (2021)[13]": "200,192.09 acres (810.1 km2)",
          "Date established as park[7][12]": "December 26, 1935",
          "Description": "Shenandoah's Blue Ridge Mountains are covered by hardwood forests that teem with a wide variety of wildlife. The Skyline Drive and Appalachian Trail run the entire length of this narrow park, along with more than 500 miles (800 km) of hiking trails passing scenic overlooks and cataracts of the Shenandoah River.[108]",
          "Image": null,
          "Location": "Virginia38°32′N 78°21′W﻿ / ﻿38.53°N 78.35°W",
          "Name": "Shenandoah",
          "Recreation visitors (2021)[11]": 1592312,
          "Unnamed: 0": 53
         },
         {
          "Area (2021)[13]": "70,446.89 acres (285.1 km2)",
          "Date established as park[7][12]": "November 10, 1978",
          "Description": "This region that enticed and influenced President Theodore Roosevelt consists of a park of three units in the northern badlands. Besides Roosevelt's historic cabin, there are numerous scenic drives and backcountry hiking opportunities. Wildlife includes American bison, pronghorn, bighorn sheep, and wild horses.[109]",
          "Image": null,
          "Location": "North Dakota46°58′N 103°27′W﻿ / ﻿46.97°N 103.45°W",
          "Name": "Theodore Roosevelt",
          "Recreation visitors (2021)[11]": 796085,
          "Unnamed: 0": 54
         },
         {
          "Area (2021)[13]": "15,052.33 acres (60.9 km2)",
          "Date established as park[7][12]": "August 2, 1956",
          "Description": "This island park on Saint John preserves pristine beaches surrounded by mangrove forests, seagrass beds, and coral reefs. It also has Taíno archaeological sites and the ruins of sugar plantations from Columbus's time.[110]",
          "Image": null,
          "Location": "U.S. Virgin Islands18°20′N 64°44′W﻿ / ﻿18.33°N 64.73°W",
          "Name": "Virgin Islands",
          "Recreation visitors (2021)[11]": 323999,
          "Unnamed: 0": 55
         },
         {
          "Area (2021)[13]": "218,222.35 acres (883.1 km2)",
          "Date established as park[7][12]": "April 8, 1975",
          "Description": "This park protecting four lakes near the Canada–US border is a site for canoeing, kayaking, and fishing. The park also preserves a history populated by Ojibwe Native Americans, French fur traders called voyageurs, and gold miners. Formed by glaciers, the region features tall bluffs, rock gardens, islands, bays, and several historic buildings.[111]",
          "Image": null,
          "Location": "Minnesota48°30′N 92°53′W﻿ / ﻿48.50°N 92.88°W",
          "Name": "Voyageurs",
          "Recreation visitors (2021)[11]": 243042,
          "Unnamed: 0": 56
         },
         {
          "Area (2021)[13]": "146,344.31 acres (592.2 km2)",
          "Date established as park[7][12]": "December 20, 2019[112]",
          "Description": "Located in the mountain-ringed Tularosa Basin, White Sands consists of the southern part of a 275-square-mile (710 km2) field of white sand dunes composed of gypsum crystals—the world's largest gypsum dunefield. The park is completely within the White Sands Missile Range and is subject to closure when tests are conducted.[113]",
          "Image": null,
          "Location": "New Mexico32°47′N 106°10′W﻿ / ﻿32.78°N 106.17°W",
          "Name": "White Sands",
          "Recreation visitors (2021)[11]": 782469,
          "Unnamed: 0": 57
         },
         {
          "Area (2021)[13]": "33,970.84 acres (137.5 km2)",
          "Date established as park[7][12]": "January 9, 1903",
          "Description": "Wind Cave is distinctive for its calcite fin formations called boxwork, a unique formation rarely found elsewhere, and needle-like growths called frostwork. It is one of the longest caves in the world and creates a wind as air pressure changes. Above ground is a mixed-grass prairie with animals such as bison, black-footed ferrets, and prairie dogs and ponderosa pine forests home to cougars and elk.[114] The cave is culturally significant to the Lakota people as a creation site.[115]",
          "Image": null,
          "Location": "South Dakota43°34′N 103°29′W﻿ / ﻿43.57°N 103.48°W",
          "Name": "Wind Cave",
          "Recreation visitors (2021)[11]": 709001,
          "Unnamed: 0": 58
         },
         {
          "Area (2021)[13]": "8,323,146.48 acres (33,682.6 km2)",
          "Date established as park[7][12]": "December 2, 1980",
          "Description": "The largest national park in the system protects the convergence of the Alaska, Chugach, Wrangell, and Saint Elias Ranges, which include many of the continent's tallest mountains and volcanoes, including the 18,008-foot Mount Saint Elias. More than a quarter of the park is covered with glaciers, including the tidewater Hubbard Glacier, piedmont Malaspina Glacier, and valley Nabesna Glacier.[116] (WHS)[54]",
          "Image": null,
          "Location": "Alaska61°00′N 142°00′W﻿ / ﻿61.00°N 142.00°W",
          "Name": "Wrangell–St. Elias *",
          "Recreation visitors (2021)[11]": 50189,
          "Unnamed: 0": 59
         },
         {
          "Area (2021)[13]": "2,219,790.71 acres (8,983.2 km2)",
          "Date established as park[7][12]": "March 1, 1872",
          "Description": "Situated on the Yellowstone Caldera, the park has an expansive network of geothermal areas including boiling mud pots, vividly colored hot springs such as Grand Prismatic Spring, and regularly erupting geysers, the best-known being Old Faithful. The yellow-hued Grand Canyon of the Yellowstone River contains several high waterfalls, and four mountain ranges traverse the park. More than 60 mammal species including timber wolves, grizzly bears, black bears, lynxes, bison, and elk make this park one of the best wildlife viewing spots in the country.[117] (WHS)[118] (BR)[119]",
          "Image": null,
          "Location": "Wyoming, Montana, Idaho44°36′N 110°30′W﻿ / ﻿44.60°N 110.50°W",
          "Name": "Yellowstone",
          "Recreation visitors (2021)[11]": 4860242,
          "Unnamed: 0": 60
         },
         {
          "Area (2021)[13]": "761,747.50 acres (3,082.7 km2)",
          "Date established as park[7][12]": "October 1, 1890",
          "Description": "Yosemite features sheer granite cliffs, exceptionally tall waterfalls, and old-growth forests at a unique intersection of geology and hydrology. Half Dome and El Capitan rise from the park's centerpiece, the glacier-carved Yosemite Valley, and from its vertical walls drop Yosemite Falls, one of North America's tallest waterfalls at 2,425 feet (739 m) high. Three giant sequoia groves, along with a pristine wilderness in the heart of the Sierra Nevada, are home to a wide variety of rare plant and animal species.[120] (WHS)[121]",
          "Image": null,
          "Location": "California37°50′N 119°30′W﻿ / ﻿37.83°N 119.50°W",
          "Name": "Yosemite *",
          "Recreation visitors (2021)[11]": 3287595,
          "Unnamed: 0": 61
         },
         {
          "Area (2021)[13]": "147,242.66 acres (595.9 km2)",
          "Date established as park[7][12]": "November 19, 1919",
          "Description": "Located at the junction of the Colorado Plateau, Great Basin, and Mojave Desert, this park contains sandstone features such as mesas, rock towers, and canyons, including the Virgin River Narrows. The various sandstone formations and the forks of the Virgin River create a wilderness divided into four ecosystems: desert, riparian, woodland, and coniferous forest.[122]",
          "Image": null,
          "Location": "Utah37°18′N 113°03′W﻿ / ﻿37.30°N 113.05°W",
          "Name": "Zion",
          "Recreation visitors (2021)[11]": 5039835,
          "Unnamed: 0": 62
         }
        ]
       },
       "height": 200,
       "mark": {
        "opacity": 0,
        "type": "point"
       },
       "width": 200
      },
      "text/plain": [
       "<VegaLite 5 object>\n",
       "\n",
       "If you see this message, it means the renderer has not been properly enabled\n",
       "for the frontend that you are using. For more information, see\n",
       "https://altair-viz.github.io/user_guide/display_frontends.html#troubleshooting\n"
      ]
     },
     "execution_count": 5,
     "metadata": {},
     "output_type": "execute_result"
    }
   ],
   "source": [
    "df1 = pd.read_csv('parks.csv')\n",
    "PR.load_without_plot(df1)"
   ]
  },
  {
   "cell_type": "code",
   "execution_count": 6,
   "id": "319807f1-caa8-416f-9910-e74482bb0cbf",
   "metadata": {
    "trrack_graph": "ᯡ࠽䈌ʀ匦㢠⹰ૠᦠ䘠瀰拍〶䌦ᰢ㈰֦┢ᤩ攠瘡ᰭ䫦ᑌ揩単䥠ɹ⅁ݭ䞠壉֊㨭䳻䪖瘂俰‭Рථظ㸂´၀Ø䌉䀦熦එљ喻အ䘠ᛢ竀½๨N坯⾌㉠R畜䅘䭎\\䰩ୠ΁ㆲ戡䲴♚ਫୗ‫ㆤ娫ၠ㢀䠺旐䈣᢮෰恸ǌᕘ¾桸‷毀ᦋℂ㵌࠽ࢰ᱓☨∩〤砠ᱶ⹞ᡯ྆戸━珑悹步托⊬ଫὓ桤捀惁⢀〿ᱺ๞ウ䅡౒പ折が䭁炍宑ᅋ惄‱䔶ᢠī᧡ኁ㢜ࢢ⎱ὥᆪ提樾ྠ႙Ḡᗠሪ乎Ⓑর਒ാ䅄吼ᜢ䳱⥃ဠ "
   },
   "outputs": [
    {
     "data": {
      "text/html": [
       "<div>\n",
       "<style scoped>\n",
       "    .dataframe tbody tr th:only-of-type {\n",
       "        vertical-align: middle;\n",
       "    }\n",
       "\n",
       "    .dataframe tbody tr th {\n",
       "        vertical-align: top;\n",
       "    }\n",
       "\n",
       "    .dataframe thead th {\n",
       "        text-align: right;\n",
       "    }\n",
       "</style>\n",
       "<table border=\"1\" class=\"dataframe\">\n",
       "  <thead>\n",
       "    <tr style=\"text-align: right;\">\n",
       "      <th></th>\n",
       "      <th>Name</th>\n",
       "      <th>Location</th>\n",
       "      <th>date_est</th>\n",
       "      <th>area</th>\n",
       "      <th>rec_visitors</th>\n",
       "    </tr>\n",
       "  </thead>\n",
       "  <tbody>\n",
       "    <tr>\n",
       "      <th>0</th>\n",
       "      <td>Acadia</td>\n",
       "      <td>Maine.mw-parser-output .geo-default,.mw-parser...</td>\n",
       "      <td>February 26, 1919</td>\n",
       "      <td>49,071.40 acres (198.6 km2)</td>\n",
       "      <td>4069098</td>\n",
       "    </tr>\n",
       "    <tr>\n",
       "      <th>1</th>\n",
       "      <td>American Samoa</td>\n",
       "      <td>American Samoa14°15′S 170°41′W﻿ / ﻿14.25°S 170...</td>\n",
       "      <td>October 31, 1988</td>\n",
       "      <td>8,256.67 acres (33.4 km2)</td>\n",
       "      <td>8495</td>\n",
       "    </tr>\n",
       "    <tr>\n",
       "      <th>2</th>\n",
       "      <td>Arches</td>\n",
       "      <td>Utah38°41′N 109°34′W﻿ / ﻿38.68°N 109.57°W</td>\n",
       "      <td>November 12, 1971</td>\n",
       "      <td>76,678.98 acres (310.3 km2)</td>\n",
       "      <td>1806865</td>\n",
       "    </tr>\n",
       "    <tr>\n",
       "      <th>3</th>\n",
       "      <td>Badlands</td>\n",
       "      <td>South Dakota43°45′N 102°30′W﻿ / ﻿43.75°N 102.50°W</td>\n",
       "      <td>November 10, 1978</td>\n",
       "      <td>242,755.94 acres (982.4 km2)</td>\n",
       "      <td>1224226</td>\n",
       "    </tr>\n",
       "    <tr>\n",
       "      <th>4</th>\n",
       "      <td>Big Bend</td>\n",
       "      <td>Texas29°15′N 103°15′W﻿ / ﻿29.25°N 103.25°W</td>\n",
       "      <td>June 12, 1944</td>\n",
       "      <td>801,163.21 acres (3,242.2 km2)</td>\n",
       "      <td>581220</td>\n",
       "    </tr>\n",
       "    <tr>\n",
       "      <th>...</th>\n",
       "      <td>...</td>\n",
       "      <td>...</td>\n",
       "      <td>...</td>\n",
       "      <td>...</td>\n",
       "      <td>...</td>\n",
       "    </tr>\n",
       "    <tr>\n",
       "      <th>58</th>\n",
       "      <td>Wind Cave</td>\n",
       "      <td>South Dakota43°34′N 103°29′W﻿ / ﻿43.57°N 103.48°W</td>\n",
       "      <td>January 9, 1903</td>\n",
       "      <td>33,970.84 acres (137.5 km2)</td>\n",
       "      <td>709001</td>\n",
       "    </tr>\n",
       "    <tr>\n",
       "      <th>59</th>\n",
       "      <td>Wrangell–St. Elias *</td>\n",
       "      <td>Alaska61°00′N 142°00′W﻿ / ﻿61.00°N 142.00°W</td>\n",
       "      <td>December 2, 1980</td>\n",
       "      <td>8,323,146.48 acres (33,682.6 km2)</td>\n",
       "      <td>50189</td>\n",
       "    </tr>\n",
       "    <tr>\n",
       "      <th>60</th>\n",
       "      <td>Yellowstone</td>\n",
       "      <td>Wyoming, Montana, Idaho44°36′N 110°30′W﻿ / ﻿44...</td>\n",
       "      <td>March 1, 1872</td>\n",
       "      <td>2,219,790.71 acres (8,983.2 km2)</td>\n",
       "      <td>4860242</td>\n",
       "    </tr>\n",
       "    <tr>\n",
       "      <th>61</th>\n",
       "      <td>Yosemite *</td>\n",
       "      <td>California37°50′N 119°30′W﻿ / ﻿37.83°N 119.50°W</td>\n",
       "      <td>October 1, 1890</td>\n",
       "      <td>761,747.50 acres (3,082.7 km2)</td>\n",
       "      <td>3287595</td>\n",
       "    </tr>\n",
       "    <tr>\n",
       "      <th>62</th>\n",
       "      <td>Zion</td>\n",
       "      <td>Utah37°18′N 113°03′W﻿ / ﻿37.30°N 113.05°W</td>\n",
       "      <td>November 19, 1919</td>\n",
       "      <td>147,242.66 acres (595.9 km2)</td>\n",
       "      <td>5039835</td>\n",
       "    </tr>\n",
       "  </tbody>\n",
       "</table>\n",
       "<p>63 rows × 5 columns</p>\n",
       "</div>"
      ],
      "text/plain": [
       "                    Name                                           Location  \\\n",
       "0                 Acadia  Maine.mw-parser-output .geo-default,.mw-parser...   \n",
       "1         American Samoa  American Samoa14°15′S 170°41′W﻿ / ﻿14.25°S 170...   \n",
       "2                 Arches          Utah38°41′N 109°34′W﻿ / ﻿38.68°N 109.57°W   \n",
       "3               Badlands  South Dakota43°45′N 102°30′W﻿ / ﻿43.75°N 102.50°W   \n",
       "4               Big Bend         Texas29°15′N 103°15′W﻿ / ﻿29.25°N 103.25°W   \n",
       "..                   ...                                                ...   \n",
       "58             Wind Cave  South Dakota43°34′N 103°29′W﻿ / ﻿43.57°N 103.48°W   \n",
       "59  Wrangell–St. Elias *        Alaska61°00′N 142°00′W﻿ / ﻿61.00°N 142.00°W   \n",
       "60           Yellowstone  Wyoming, Montana, Idaho44°36′N 110°30′W﻿ / ﻿44...   \n",
       "61            Yosemite *    California37°50′N 119°30′W﻿ / ﻿37.83°N 119.50°W   \n",
       "62                  Zion          Utah37°18′N 113°03′W﻿ / ﻿37.30°N 113.05°W   \n",
       "\n",
       "             date_est                               area  rec_visitors  \n",
       "0   February 26, 1919        49,071.40 acres (198.6 km2)       4069098  \n",
       "1    October 31, 1988          8,256.67 acres (33.4 km2)          8495  \n",
       "2   November 12, 1971        76,678.98 acres (310.3 km2)       1806865  \n",
       "3   November 10, 1978       242,755.94 acres (982.4 km2)       1224226  \n",
       "4       June 12, 1944     801,163.21 acres (3,242.2 km2)        581220  \n",
       "..                ...                                ...           ...  \n",
       "58    January 9, 1903        33,970.84 acres (137.5 km2)        709001  \n",
       "59   December 2, 1980  8,323,146.48 acres (33,682.6 km2)         50189  \n",
       "60      March 1, 1872   2,219,790.71 acres (8,983.2 km2)       4860242  \n",
       "61    October 1, 1890     761,747.50 acres (3,082.7 km2)       3287595  \n",
       "62  November 19, 1919       147,242.66 acres (595.9 km2)       5039835  \n",
       "\n",
       "[63 rows x 5 columns]"
      ]
     },
     "execution_count": 6,
     "metadata": {},
     "output_type": "execute_result"
    }
   ],
   "source": [
    "renamed_df"
   ]
  },
  {
   "cell_type": "code",
   "execution_count": null,
   "id": "7072e326-4b59-4a06-971a-b22917c1e432",
   "metadata": {
    "trrack_graph": "ᯡ࠽䈌ʀ匦㢠⹰ಀ㌺倱䂆Ⳡⴺĸ〨぀଴䨣〰Π㬴ᐩ″ԡᱺ⦷寗ፄ倡ᙰ䡣劅柤⩢媽⌶㚼㴘ւर͢&晿ჴ䁅ШNဦ〡岁䋼℩㎎穠ָ懈G㎲;‫偔ᩘ惭ࠠأਰⲺ挥'䦡ᆩ㓼๘䜣้䚧เ⒠ƌヶ㉱࠹ల୽㌰䆆ᇢٸ⬠㗅Ⲡ᯺ନ̘ധⵘ㈴㖢ᏂሧƉ䏷ⰡḠݵ宪᯦ʫ泸䆨峜ຄ夑Ⓕ䘮ᥭ揀ゐ঩䑸扊ᙎ¿פ⑋㠠⬮ܲ惰ᐪ֢硖涴䒷ᅲ၈抯ౠµ䬆䡐氾ࡡᇨ⨭སㅸ瘷௧焤愷䊠żŀ䴋夂犜ㅤⓉ┕ʵ卲≱䠠 "
   },
   "outputs": [],
   "source": []
  }
 ],
 "metadata": {
  "__CATEGORIES_META__": "{\"categories\":{},\"activeCategoryName\":\"\"}",
  "kernelspec": {
   "display_name": "Python 3 (ipykernel)",
   "language": "python",
   "name": "python3"
  },
  "language_info": {
   "codemirror_mode": {
    "name": "ipython",
    "version": 3
   },
   "file_extension": ".py",
   "mimetype": "text/x-python",
   "name": "python",
   "nbconvert_exporter": "python",
   "pygments_lexer": "ipython3",
   "version": "3.8.16"
  }
 },
 "nbformat": 4,
 "nbformat_minor": 5
}
