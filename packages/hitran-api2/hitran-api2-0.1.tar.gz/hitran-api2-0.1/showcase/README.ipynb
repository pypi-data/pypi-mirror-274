{
 "cells": [
  {
   "cell_type": "markdown",
   "metadata": {},
   "source": [
    "<h1>HAPI2: Second Generation of the HITRAN Application Programming Interface</h1>"
   ]
  },
  {
   "cell_type": "markdown",
   "metadata": {},
   "source": [
    "The first generation of the HITRAN Application Programming Interface (HAPI) <a href=\"https://doi.org/10.1016/j.jqsrt.2016.03.005\">[Kochanov et al. JQSRT 2016]</a> has proven to be a convenient tool for acquiring and working with HITRAN data. The HAPI library provided a\n",
    "means of downloading and filtering the spectroscopic transitions\n",
    "for molecules provided by the HITRANonline <a href=\"http://dx.doi.org/10.1016/j.jqsrt.2015.12.012\">[Hill et al. JQSRT 2016]</a> web server, using\n",
    "a range of partition sums and spectral line parameters. A significant feature of HAPI was the ability to calculate absorption coefficients based on the line-by-line spectroscopic parameters. For a\n",
    "more detailed description of this software library, we refer readers\n",
    "to the dedicated paper and corresponding user manual available online <a href=\"https://hitran.org/hapi\">(https://hitran.org/hapi)</a>.<br><br>\n",
    "Although the first generation of HAPI allows users to build\n",
    "new functions, it does not have the functionality to make use the\n",
    "whole range of spectroscopic data currently available in the HITRAN database. For instance, the first version of the REST-API used by HAPI only allowed line-by-line data to be downloaded.<br>\n",
    "For this eason, an extended version of HAPI (with greater functionality)\n",
    "is provided as part of HITRAN2020 database (<a href=\"https://doi.org/10.1016/j.jqsrt.2021.107949\">Gordon et al. JQSRT 2022</a>, <a href=\"https://hitran.org\">https://hitran.org</a>). This extended version, named\n",
    "“HAPI2”, includes all the functionality of HAPI but with a new\n",
    "Python library and has been designed to be backward-compatible.\n",
    "To take advantage of the more advanced features in the “second\n",
    "generation” extension library, users will be required to upgrade to\n",
    "HAPI2.<br><br>\n",
    "One main feature of HAPI2 will be the ability to consider more\n",
    "objects available for downloading. This essentially means users\n",
    "will now be able to access the vast library of absorption cross sections, CIA, and more. This was achieved by revisiting the HITRAN server’s REST API. A new version is able to access the information for a number of entities available in HITRAN. Among\n",
    "these entities are molecule information, reference sources, line-byline transitions, monomer and collision-induced absorption crosssections, and metadata on line parameters. <br><br>\n",
    "Secondly, for applications that require numerous transitions to\n",
    "be considered in absorption coefficient calculations (such as at\n",
    "high-temperatures), the speed of calculation is of paramount importance. Although the first generation of HAPI contained\n",
    "some Numpy-based optimizations, it lacked the means for\n",
    "fast cross-section computation. In HAPI2, efficient coding for HT\n",
    "and SDV profiles that makes use of the “Just-in-time”\n",
    "compilation approach, has provided a significant speed increase for the spectral simulation.</br><br>\n",
    "HAPI2 local database structure relies on the SQLAlchemy (<a href=\"https://www.sqlalchemy.org/\">https://www.sqlalchemy.org/</a>) interface to a number of the relational database management systems (RDBMS) which permit high-throughput analytics on a large number of spectral transitions. SQLALchemy provides object-relational mapping for main parts of HITRAN.<br><br>\n",
    "Last, but not least, HAPI2 has the modular structure, making it relatively easy to add custom plugins with new functional (e.g. adding new LBL calculation plugins, new SQLAlchemy backends etc...)"
   ]
  },
  {
   "cell_type": "markdown",
   "metadata": {},
   "source": [
    "<h1>Installation</h1>"
   ]
  },
  {
   "cell_type": "markdown",
   "metadata": {},
   "source": [
    "<h2>Pulling from Github</h2>"
   ]
  },
  {
   "cell_type": "markdown",
   "metadata": {},
   "source": [
    "<ol>\n",
    "  <li>git clone https://github.com/hitranonline/hapi2.git</li>\n",
    "  <li>cd hapi2</li>\n",
    "  <li>pip install .</li>\n",
    "</ol> "
   ]
  },
  {
   "cell_type": "markdown",
   "metadata": {},
   "source": [
    "<h2>From Python Package index</h2>"
   ]
  },
  {
   "cell_type": "markdown",
   "metadata": {},
   "source": [
    "<em>To be done</em>"
   ]
  },
  {
   "cell_type": "markdown",
   "metadata": {},
   "source": [
    "<h2>From Docker Hub</h2>"
   ]
  },
  {
   "cell_type": "markdown",
   "metadata": {},
   "source": [
    "<em>To be done</em>"
   ]
  },
  {
   "cell_type": "markdown",
   "metadata": {},
   "source": [
    "<h1>Quick start tutorial</h1>"
   ]
  },
  {
   "cell_type": "markdown",
   "metadata": {},
   "source": [
    "<em>This is a short tutorial on how to use basic functions of the HAPI2 library. More advanced tutorials will be added in the future.</em><br>\n",
    "\n",
    "Firts, lets do some imports."
   ]
  },
  {
   "cell_type": "code",
   "execution_count": 1,
   "metadata": {},
   "outputs": [
    {
     "name": "stdout",
     "output_type": "stream",
     "text": [
      "HAPI2 version:  0.1\n",
      "Updated SETTINGS_DEFAULT by local config file (C:\\work\\Activities\\HAPI\\HAPI2\\git-repo\\hapi2-all\\hapi2\\showcase\\config.json).\n",
      "Database name: local\n",
      "Database engine: sqlite\n",
      "Database path: ./\n",
      "Web API TODO: include fetch_info() into init\n",
      "jeanny, Ver.3.0\n"
     ]
    }
   ],
   "source": [
    "import json\n",
    "from getpass import getpass\n",
    "\n",
    "%matplotlib notebook\n",
    "\n",
    "import pylab as pl\n",
    "import matplotlib as mpl\n",
    "\n",
    "from hapi2 import *"
   ]
  },
  {
   "cell_type": "markdown",
   "metadata": {},
   "source": [
    "<h2>Getting the API key</h2>"
   ]
  },
  {
   "cell_type": "markdown",
   "metadata": {},
   "source": [
    "Most HAPI2 main features are controllable through the config JSON file named \"config.json\". To work properly, this file should always be in the current working directory. The settings include information about the local database, debugging flags, REST API settings, and the API key."
   ]
  },
  {
   "cell_type": "code",
   "execution_count": 2,
   "metadata": {},
   "outputs": [
    {
     "name": "stdout",
     "output_type": "stream",
     "text": [
      "{\n",
      "   \"engine\": \"sqlite\",\n",
      "   \"database\": \"local\",\n",
      "   \"user\": \"root\",\n",
      "   \"pass\": null,\n",
      "   \"database_dir\": \"./\",\n",
      "   \"echo\": false,\n",
      "   \"debug\": false,\n",
      "   \"display_fetch_url\": false,\n",
      "   \"proxy\": null,\n",
      "   \"host\": \"https://hitran.org\",\n",
      "   \"api_version\": \"v2\",\n",
      "   \"tmpdir\": \"~tmp\",\n",
      "   \"api_key\": \"\"\n",
      "}\n",
      "\n"
     ]
    }
   ],
   "source": [
    "with open('config.json') as f:\n",
    "    print(f.read())"
   ]
  },
  {
   "cell_type": "markdown",
   "metadata": {},
   "source": [
    "Unlike the previous version of the HITRAN API, the second generation of the API demands registration at the HITRANonline web site in order to get the API key.<br>\n",
    "The API key is essential for HAPI2 to connect to the HITRANonline web site and retrieve the data. This key  \n",
    "permits accessing the new functions of the HITRAN API v2 such as fetching the molecules, sources, cross-sections etc.<br>\n",
    "It can be obtained from the HITRANonline user profile web page: <a href=\"https://hitran.org/profile/\">https://hitran.org/profile/</a>.<br>\n",
    "To be able to go through the rest of this tutorial, go to the link above and paste your API key to the form below."
   ]
  },
  {
   "cell_type": "code",
   "execution_count": 3,
   "metadata": {
    "scrolled": false
   },
   "outputs": [
    {
     "name": "stdout",
     "output_type": "stream",
     "text": [
      "Enter valid API key:········\n",
      "\n",
      "Header for info is fetched from https://hitran.org\n",
      "\n",
      "BEGIN DOWNLOAD: info\n",
      "  1048576 bytes written to ~tmp\\af306ba0-adcd-4ea1-8430-1e7b1aa2d84f.json\n",
      "END DOWNLOAD\n",
      "PROCESSED\n"
     ]
    },
    {
     "data": {
      "text/plain": [
       "{'status': 'OK',\n",
       " 'message': '',\n",
       " 'content': {'class': 'Info',\n",
       "  'format': 'json',\n",
       "  'data': {'static_root': 'data',\n",
       "   'xsec_dir': 'data/xsec',\n",
       "   'results_dir': 'results',\n",
       "   'hapi_latest_version': None}},\n",
       " 'timestamp': '2022-06-08 15:45:58.400858',\n",
       " 'source': 'HITRANonline'}"
      ]
     },
     "execution_count": 3,
     "metadata": {},
     "output_type": "execute_result"
    }
   ],
   "source": [
    "SETTINGS['api_key'] = getpass('Enter valid API key:')\n",
    "fetch_info()"
   ]
  },
  {
   "cell_type": "markdown",
   "metadata": {},
   "source": [
    "To simplify the authentication process, one can store the API key in the config.json configuration file.<br><br>\n",
    "\n",
    "<b><em>Please note, that user should keep the API key private. To regenerate the compromised API key, go to the HITRANonline <a href=\"https://hitran.org/profile/\">user profile</a> page and press the \"Generate API key\" button.</em></b><br><br>\n",
    "\n",
    "Now, lets download some molecular data necessary for the tutorial."
   ]
  },
  {
   "cell_type": "markdown",
   "metadata": {
    "scrolled": true
   },
   "source": [
    "<h2>Molecules</h2>"
   ]
  },
  {
   "cell_type": "markdown",
   "metadata": {},
   "source": [
    "New version of the HITRAN API permits user downloading the infomation not only on spectral lines, but also on molecules, isotopic species, publications, experimental cross-sections, partition sums, and collisiotn induced absorption. Each such entity corresponds to the partiucular section of the API schema.<br>\n",
    "Fetching such objects is done using the \"fetch\" functions of the API. Let's fetch the informations on the molecules in the current version of the HITRAN database. HAPI2 will automatically create the Python objects for each of the molecules, and save them to the local database."
   ]
  },
  {
   "cell_type": "code",
   "execution_count": 5,
   "metadata": {
    "scrolled": false
   },
   "outputs": [
    {
     "name": "stdout",
     "output_type": "stream",
     "text": [
      "\n",
      "Header for molecules is fetched from https://hitran.org\n",
      "\n",
      "BEGIN DOWNLOAD: molecules\n",
      "  1048576 bytes written to ~tmp\\c10d4283-b2ce-4c71-bdaa-619a042aada8.json\n",
      "END DOWNLOAD\n",
      "PROCESSED\n"
     ]
    }
   ],
   "source": [
    "mols = fetch_molecules() # fetch molecules"
   ]
  },
  {
   "cell_type": "markdown",
   "metadata": {},
   "source": [
    "By default, all data is passed in the JSON format. To discover the fields of the JSON records, use the \".dump()\" method:"
   ]
  },
  {
   "cell_type": "code",
   "execution_count": 6,
   "metadata": {},
   "outputs": [
    {
     "data": {
      "text/plain": [
       "{'id': 1,\n",
       " 'common_name': 'Water',\n",
       " 'ordinary_formula': 'H2O',\n",
       " 'ordinary_formula_html': 'H<sub>2</sub>O',\n",
       " 'stoichiometric_formula': 'H2O',\n",
       " 'inchi': 'InChI=1S/H2O/h1H2',\n",
       " 'inchikey': 'XLYOFNOQVPJJNP-UHFFFAOYSA-N',\n",
       " '__class__': 'Molecule',\n",
       " '__identity__': 'common_name'}"
      ]
     },
     "execution_count": 6,
     "metadata": {},
     "output_type": "execute_result"
    }
   ],
   "source": [
    "Molecule('Water').dump()"
   ]
  },
  {
   "cell_type": "markdown",
   "metadata": {},
   "source": [
    "Each of the fields can be accessed directly as a Python object attribute:"
   ]
  },
  {
   "cell_type": "code",
   "execution_count": 7,
   "metadata": {},
   "outputs": [
    {
     "name": "stdout",
     "output_type": "stream",
     "text": [
      "Water H2O\n"
     ]
    }
   ],
   "source": [
    "mol = Molecule('Water')\n",
    "print(mol.common_name, mol.ordinary_formula)"
   ]
  },
  {
   "cell_type": "markdown",
   "metadata": {},
   "source": [
    "To search for the molecule in the local database, use one of its names (or \"aliases\"). To see, which aliases are attached to the current molecule, use the \".aliases\" attribute:"
   ]
  },
  {
   "cell_type": "code",
   "execution_count": 8,
   "metadata": {},
   "outputs": [
    {
     "data": {
      "text/plain": [
       "[7732-18-5,\n",
       " water vapor,\n",
       " Distilled water,\n",
       " XLYOFNOQVPJJNP-UHFFFAOYSA-N,\n",
       " NSC 147337,\n",
       " R-718,\n",
       " InChI=1S/H2O/h1H2,\n",
       " Dihydrogen monoxide,\n",
       " Dihydrogen oxide,\n",
       " HITRAN-mol-1,\n",
       " H2O,\n",
       " Water,\n",
       " R718,\n",
       " R 718,\n",
       " Hydrogen oxide (H2O)]"
      ]
     },
     "execution_count": 8,
     "metadata": {},
     "output_type": "execute_result"
    }
   ],
   "source": [
    "Molecule('Water').aliases"
   ]
  },
  {
   "cell_type": "markdown",
   "metadata": {},
   "source": [
    "Using any of the aliases given above, you can find the very same molecule. For example, we will use the InChIKey this time to find the Water molecule:"
   ]
  },
  {
   "cell_type": "code",
   "execution_count": 9,
   "metadata": {},
   "outputs": [
    {
     "data": {
      "text/plain": [
       "True"
      ]
     },
     "execution_count": 9,
     "metadata": {},
     "output_type": "execute_result"
    }
   ],
   "source": [
    "Molecule('XLYOFNOQVPJJNP-UHFFFAOYSA-N') is Molecule('Water')"
   ]
  },
  {
   "cell_type": "markdown",
   "metadata": {},
   "source": [
    "This greatly simplifies the molecule search in the local database. Also note, that the case doesn't matter:\n"
   ]
  },
  {
   "cell_type": "code",
   "execution_count": 10,
   "metadata": {},
   "outputs": [
    {
     "data": {
      "text/plain": [
       "True"
      ]
     },
     "execution_count": 10,
     "metadata": {},
     "output_type": "execute_result"
    }
   ],
   "source": [
    "Molecule('water') is Molecule('Water')"
   ]
  },
  {
   "cell_type": "markdown",
   "metadata": {},
   "source": [
    "<h2>Isotopologues</h2>"
   ]
  },
  {
   "cell_type": "markdown",
   "metadata": {},
   "source": [
    "Each molecule has a number of isotopic species, which can also be fetched from the HITRAN web site. In order to do thatm oe should already have the molecules fetched. Lets download all isotopologues for the Water molecule."
   ]
  },
  {
   "cell_type": "code",
   "execution_count": 11,
   "metadata": {},
   "outputs": [
    {
     "name": "stdout",
     "output_type": "stream",
     "text": [
      "\n",
      "Header for isotopologues is fetched from https://hitran.org\n",
      "\n",
      "BEGIN DOWNLOAD: isotopologues\n",
      "  1048576 bytes written to ~tmp\\e2683a16-c207-493a-8c1b-d142d175905d.json\n",
      "END DOWNLOAD\n",
      "PROCESSED\n"
     ]
    }
   ],
   "source": [
    "# Fetch isotopologues for Water molecula. \n",
    "isos = fetch_isotopologues([\n",
    "    Molecule('Water'),\n",
    "])"
   ]
  },
  {
   "cell_type": "markdown",
   "metadata": {},
   "source": [
    "Just as for the molecules and any other API objects, isotopologues are constructed from the JSON records:"
   ]
  },
  {
   "cell_type": "code",
   "execution_count": 12,
   "metadata": {},
   "outputs": [
    {
     "data": {
      "text/plain": [
       "{'id': 1,\n",
       " 'molecule_alias_id': 4864,\n",
       " 'isoid': 1,\n",
       " 'inchi': 'InChI=1S/H2O/h1H2',\n",
       " 'inchikey': 'XLYOFNOQVPJJNP-UHFFFAOYSA-N',\n",
       " 'iso_name': 'H2(16O)',\n",
       " 'iso_name_html': 'H<sub>2</sub><sup>16</sup>O',\n",
       " 'abundance': 0.997317,\n",
       " 'mass': 18.010565,\n",
       " 'afgl_code': '161',\n",
       " '__class__': 'Isotopologue',\n",
       " '__identity__': 'iso_name'}"
      ]
     },
     "execution_count": 12,
     "metadata": {},
     "output_type": "execute_result"
    }
   ],
   "source": [
    "iso = isos[0] # for example, take the first isotopologue in the list (not necessary this will be the principal one!)\n",
    "iso.dump()"
   ]
  },
  {
   "cell_type": "markdown",
   "metadata": {},
   "source": [
    "Like molecules, Isotopologues are fetched with their aliases. To search for the isotopologue in the local database, use one of these aliases:"
   ]
  },
  {
   "cell_type": "code",
   "execution_count": 13,
   "metadata": {},
   "outputs": [
    {
     "data": {
      "text/plain": [
       "[InChI=1S/H2O/h1H2,\n",
       " XLYOFNOQVPJJNP-UHFFFAOYSA-N,\n",
       " HITRAN-iso-1-1,\n",
       " H2(16O),\n",
       " HITRAN-iso-1]"
      ]
     },
     "execution_count": 13,
     "metadata": {},
     "output_type": "execute_result"
    }
   ],
   "source": [
    "iso.aliases"
   ]
  },
  {
   "cell_type": "code",
   "execution_count": 14,
   "metadata": {},
   "outputs": [
    {
     "data": {
      "text/plain": [
       "True"
      ]
     },
     "execution_count": 14,
     "metadata": {},
     "output_type": "execute_result"
    }
   ],
   "source": [
    "Isotopologue('H2(16O)') is iso"
   ]
  },
  {
   "cell_type": "markdown",
   "metadata": {},
   "source": [
    "<h2>Sources</h2>"
   ]
  },
  {
   "cell_type": "markdown",
   "metadata": {},
   "source": [
    "Now, lets fetch the sources (notes, publications, etc). They can be fetched in the very same way, as the molecules:"
   ]
  },
  {
   "cell_type": "code",
   "execution_count": 15,
   "metadata": {},
   "outputs": [
    {
     "name": "stdout",
     "output_type": "stream",
     "text": [
      "\n",
      "Header for sources is fetched from https://hitran.org\n",
      "\n",
      "BEGIN DOWNLOAD: sources\n",
      "  1048576 bytes written to ~tmp\\cebb6728-de14-4009-a958-15d4b42c0b15.json\n",
      "  1048576 bytes written to ~tmp\\cebb6728-de14-4009-a958-15d4b42c0b15.json\n",
      "END DOWNLOAD\n",
      "PROCESSED\n"
     ]
    }
   ],
   "source": [
    "srcs = fetch_sources()"
   ]
  },
  {
   "cell_type": "code",
   "execution_count": 16,
   "metadata": {},
   "outputs": [
    {
     "data": {
      "text/plain": [
       "{'id': 1,\n",
       " 'type': 'article',\n",
       " 'authors': 'L.S. Rothman, R.R. Gamache, A. Goldman, L.R. Brown, R.A. Toth, H.M. Pickett, R.L. Poynter, J.-M. Flaud, C. Camy-Peyret, A. Barbe, N. Husson, C.P. Rinsland, M.A.H. Smith',\n",
       " 'title': 'The HITRAN database: 1986 edition',\n",
       " 'journal': 'Applied Optics',\n",
       " 'volume': '26',\n",
       " 'page_start': '4058',\n",
       " 'page_end': '4097',\n",
       " 'year': 1987,\n",
       " 'institution': '',\n",
       " 'note': '',\n",
       " 'doi': '10.1364/AO.26.004058',\n",
       " 'bibcode': '1987ApOpt..26.4058R',\n",
       " 'url': 'https://doi.org/10.1364/AO.26.004058',\n",
       " 'short_alias': 'HITRAN-src-1',\n",
       " '__class__': 'Source',\n",
       " '__identity__': 'id'}"
      ]
     },
     "execution_count": 16,
     "metadata": {},
     "output_type": "execute_result"
    }
   ],
   "source": [
    "src = srcs[0]\n",
    "src.dump()"
   ]
  },
  {
   "cell_type": "markdown",
   "metadata": {},
   "source": [
    "The Source objects has the special \"citation\" appearance mode. This can be helpful if one wants to cite the references from HITRAN:"
   ]
  },
  {
   "cell_type": "code",
   "execution_count": 17,
   "metadata": {},
   "outputs": [
    {
     "data": {
      "text/plain": [
       "'L.S. Rothman, R.R. Gamache, A. Goldman, L.R. Brown, R.A. Toth, H.M. Pickett, R.L. Poynter, J.-M. Flaud, C. Camy-Peyret, A. Barbe, N. Husson, C.P. Rinsland, M.A.H. Smith. The HITRAN database: 1986 edition. Applied Optics 1987;26:4058-4097. doi:10.1364/AO.26.004058. '"
      ]
     },
     "execution_count": 17,
     "metadata": {},
     "output_type": "execute_result"
    }
   ],
   "source": [
    "src.citation"
   ]
  },
  {
   "cell_type": "markdown",
   "metadata": {},
   "source": [
    "<h2>Transitions</h2>"
   ]
  },
  {
   "cell_type": "markdown",
   "metadata": {},
   "source": [
    "One the isotopologues have been fetched, we can download the transitions for them. For this purpose, we will use the fetch_transitions function. Note that the first parameter can be either a single isotopologue, or a list of isotopologues."
   ]
  },
  {
   "cell_type": "code",
   "execution_count": 18,
   "metadata": {
    "scrolled": false
   },
   "outputs": [
    {
     "name": "stdout",
     "output_type": "stream",
     "text": [
      "\n",
      "Header for transitions is fetched from https://hitran.org\n",
      "\n",
      "BEGIN DOWNLOAD: transitions\n",
      "  1048576 bytes written to ~tmp\\f7b18d96-7205-4674-abe7-605803747062.json\n",
      "END DOWNLOAD\n",
      "PROCESSED\n",
      "\n",
      "File 62a0c463.out is fetched from results\n",
      "\n",
      "BEGIN DOWNLOAD: 62a0c463.out\n",
      "  67108864 bytes written to ~tmp\\h2o.data\n",
      "END DOWNLOAD\n",
      "PROCESSED\n",
      "saving HAPI header h2o.header to ~tmp\n",
      "==================================\n",
      "Total lines processed: 1420\n",
      "==================================\n"
     ]
    }
   ],
   "source": [
    "# Fetch transitions for water isotopologues.\n",
    "fetch_transitions(Molecule('water').isotopologues,2000,2100,'h2o')\n",
    "transs = Molecule('water').transitions"
   ]
  },
  {
   "cell_type": "markdown",
   "metadata": {},
   "source": [
    "By default, each transition has a standard HITRAN 160-character represaentation (even if it has additional non-standard parameters, for instance, foreign broadneng coefficients):"
   ]
  },
  {
   "cell_type": "code",
   "execution_count": 19,
   "metadata": {},
   "outputs": [
    {
     "data": {
      "text/plain": [
       "[ 11 2000.395383 9.745E-29 7.551E-01.03250.281 4265.97640.37-.005240          0 2 0          0 1 0 11  9  2       11  8  3      434233807294713152    69.0   69.0,\n",
       "  11 2000.397458 3.248E-29 7.550E-01.03250.281 4265.97420.37-.005240          0 2 0          0 1 0 11  9  3       11  8  4      434233807294713152    23.0   23.0,\n",
       "  11 2000.411407 1.980E-30 6.537E-09.06860.333  982.91170.620.000000          0 1 0          0 0 0  9  4  6        8  2  6     q5322308079917122 0    19.0   17.0,\n",
       "  11 2000.416249 2.606E-30 7.489E-06.07460.371 2552.85730.66-.009310          0 0 1          0 1 0  7  3  5        6  5  2      534446807294713152    45.0   39.0,\n",
       "  12 2000.783338 4.967E-28 4.632E+00.06700.354 2758.95990.91-.005980          0 2 0          0 1 0  9  5  5        8  4  4      546546807233162752    19.0   17.0,\n",
       "  13 2000.795416 2.630E-28 4.043E-01.08260.430 2156.47120.96-.009750          0 0 1          0 1 0  5  2  4        6  2  5      563334803633162754   198.0  234.0,\n",
       "  11 2000.903221 3.567E-24 5.799E+00.04090.229 2406.14310.52-.009525          0 2 0          0 1 0  6  6  1        5  5  0      587777305910162545    39.0   33.0,\n",
       "  12 2000.934664 3.282E-29 9.668E-03.08440.391 2120.45450.71-.005560          1 0 0          0 1 0  4  4  1        5  3  2      534456807294713152    27.0   33.0,\n",
       "  11 2001.003293 6.940E-30 2.695E+00.05150.352 4782.92000.50-.004950          0 1 1          0 0 1  8  6  3        7  5  2      532230807294713152    17.0   15.0,\n",
       "  11 2001.016859 1.330E-24 6.488E+00.03610.219 2406.14090.74-.010037          0 2 0          0 1 0  6  6  0        5  5  1      587777805910162545    13.0   11.0]"
      ]
     },
     "execution_count": 19,
     "metadata": {},
     "output_type": "execute_result"
    }
   ],
   "source": [
    "transs[:10]"
   ]
  },
  {
   "cell_type": "markdown",
   "metadata": {},
   "source": [
    "For more details on the Transition object parameters, use the dump() method. All transition parameter names correspond to those used in the first version of HAPI (<a href=\"https://hitran.org/hapi\">https://hitran.org/hapi</a>):"
   ]
  },
  {
   "cell_type": "code",
   "execution_count": 20,
   "metadata": {},
   "outputs": [
    {
     "data": {
      "text/plain": [
       "{'id': 11001228,\n",
       " 'isotopologue_alias_id': 162,\n",
       " 'molec_id': 1,\n",
       " 'local_iso_id': 1,\n",
       " 'nu': 2000.395383,\n",
       " 'sw': 9.745e-29,\n",
       " 'a': 0.7551,\n",
       " 'gamma_air': 0.0325,\n",
       " 'gamma_self': 0.281,\n",
       " 'elower': 4265.9764,\n",
       " 'n_air': 0.37,\n",
       " 'delta_air': -0.00524,\n",
       " 'global_upper_quanta': '          0 2 0',\n",
       " 'global_lower_quanta': '          0 1 0',\n",
       " 'local_upper_quanta': ' 11  9  2      ',\n",
       " 'local_lower_quanta': ' 11  8  3      ',\n",
       " 'ierr': '434233',\n",
       " 'iref': '807294713152',\n",
       " 'line_mixing_flag': ' ',\n",
       " 'gp': 69,\n",
       " 'gpp': 69,\n",
       " 'extra': None,\n",
       " '__class__': 'Transition',\n",
       " '__identity__': 'id'}"
      ]
     },
     "execution_count": 20,
     "metadata": {},
     "output_type": "execute_result"
    }
   ],
   "source": [
    "trans = transs[0]\n",
    "trans.dump()"
   ]
  },
  {
   "cell_type": "markdown",
   "metadata": {},
   "source": [
    "<h2>Parameter metas</h2>"
   ]
  },
  {
   "cell_type": "markdown",
   "metadata": {},
   "source": [
    "All metadata on the transition parameters are stored in the ParameterMeta objects, which can also be fetched:"
   ]
  },
  {
   "cell_type": "code",
   "execution_count": 21,
   "metadata": {},
   "outputs": [
    {
     "name": "stdout",
     "output_type": "stream",
     "text": [
      "\n",
      "Header for parameter-metas is fetched from https://hitran.org\n",
      "\n",
      "BEGIN DOWNLOAD: parameter-metas\n",
      "  1048576 bytes written to ~tmp\\1958be3a-5969-49db-9328-002d6075018c.json\n",
      "END DOWNLOAD\n",
      "PROCESSED\n"
     ]
    }
   ],
   "source": [
    "pmetas = fetch_parameter_metas() # fetch transition parameter descriptions"
   ]
  },
  {
   "cell_type": "code",
   "execution_count": 22,
   "metadata": {},
   "outputs": [
    {
     "data": {
      "text/plain": [
       "[global_iso_id,\n",
       " molec_id,\n",
       " local_iso_id,\n",
       " nu,\n",
       " sw,\n",
       " a,\n",
       " gamma_air,\n",
       " gamma_self,\n",
       " n_air,\n",
       " delta_air]"
      ]
     },
     "execution_count": 22,
     "metadata": {},
     "output_type": "execute_result"
    }
   ],
   "source": [
    "pmetas[:10]"
   ]
  },
  {
   "cell_type": "code",
   "execution_count": 23,
   "metadata": {},
   "outputs": [
    {
     "data": {
      "text/plain": [
       "{'id': 1,\n",
       " 'name': 'global_iso_id',\n",
       " 'type': 'int',\n",
       " 'description': 'Unique integer ID of a particular isotopologue: every global isotopologue ID is unique to a particular species, even between different molecules. The number itself is, however arbitrary.',\n",
       " 'format': '%5d',\n",
       " 'units': '',\n",
       " '__class__': 'ParameterMeta',\n",
       " '__identity__': 'name'}"
      ]
     },
     "execution_count": 23,
     "metadata": {},
     "output_type": "execute_result"
    }
   ],
   "source": [
    "pmetas[0].dump()"
   ]
  },
  {
   "cell_type": "markdown",
   "metadata": {},
   "source": [
    "<h2>Relations between objects</h2>"
   ]
  },
  {
   "cell_type": "markdown",
   "metadata": {},
   "source": [
    "Since HAPI2 uses the object-relational mapping, is enables the access to the relational structure of the local database by means of the SQLAlchemy ORM language. Let's demonstrate it by starting with a transition."
   ]
  },
  {
   "cell_type": "markdown",
   "metadata": {},
   "source": [
    "Let's say, we have a transition \"trans\":"
   ]
  },
  {
   "cell_type": "code",
   "execution_count": 24,
   "metadata": {},
   "outputs": [
    {
     "data": {
      "text/plain": [
       " 11 2000.395383 9.745E-29 7.551E-01.03250.281 4265.97640.37-.005240          0 2 0          0 1 0 11  9  2       11  8  3      434233807294713152    69.0   69.0"
      ]
     },
     "execution_count": 24,
     "metadata": {},
     "output_type": "execute_result"
    }
   ],
   "source": [
    "trans"
   ]
  },
  {
   "cell_type": "markdown",
   "metadata": {},
   "source": [
    "To get an access to the isotopologue object attached to this transition, we will use the SQLAlchem relationship called by \"trans.isotopologue\":"
   ]
  },
  {
   "cell_type": "code",
   "execution_count": 25,
   "metadata": {},
   "outputs": [
    {
     "data": {
      "text/plain": [
       "H2(16O)"
      ]
     },
     "execution_count": 25,
     "metadata": {},
     "output_type": "execute_result"
    }
   ],
   "source": [
    "trans.isotopologue"
   ]
  },
  {
   "cell_type": "markdown",
   "metadata": {},
   "source": [
    "Now, for going further and getting the molecule for this isotopologue, we'll use the \"molecule\" relationship:"
   ]
  },
  {
   "cell_type": "code",
   "execution_count": 26,
   "metadata": {},
   "outputs": [
    {
     "data": {
      "text/plain": [
       "Water"
      ]
     },
     "execution_count": 26,
     "metadata": {},
     "output_type": "execute_result"
    }
   ],
   "source": [
    "trans.isotopologue.molecule"
   ]
  },
  {
   "cell_type": "markdown",
   "metadata": {},
   "source": [
    "HAPI2 also provides a shortcut for transitions, allowing to get the corresponding molecule right away:"
   ]
  },
  {
   "cell_type": "code",
   "execution_count": 27,
   "metadata": {},
   "outputs": [
    {
     "data": {
      "text/plain": [
       "Water"
      ]
     },
     "execution_count": 27,
     "metadata": {},
     "output_type": "execute_result"
    }
   ],
   "source": [
    "trans.molecule"
   ]
  },
  {
   "cell_type": "markdown",
   "metadata": {},
   "source": [
    "<h2>Caching objects in the local HAPI2 database</h2>"
   ]
  },
  {
   "cell_type": "markdown",
   "metadata": {},
   "source": [
    "Once downloaded (\"fetched\"), the objects live in the local database specified in the \"config.json\" file. Usually, if the default SQLite database backend is used, is is stored in the \"local\" file in the working directory.<br><br>\n",
    "<em>Note that there is no need to re-fetch the object each time your HAPI2-powered script is run. </em><br><br>\n",
    "To search for the object in the local database, use the object constructor/initializer as follows:"
   ]
  },
  {
   "cell_type": "code",
   "execution_count": 28,
   "metadata": {},
   "outputs": [
    {
     "data": {
      "text/plain": [
       "Water"
      ]
     },
     "execution_count": 28,
     "metadata": {},
     "output_type": "execute_result"
    }
   ],
   "source": [
    "Molecule('water') # this will search the molecule with the \"water\" alias attached"
   ]
  },
  {
   "cell_type": "code",
   "execution_count": 29,
   "metadata": {},
   "outputs": [
    {
     "data": {
      "text/plain": [
       "Water"
      ]
     },
     "execution_count": 29,
     "metadata": {},
     "output_type": "execute_result"
    }
   ],
   "source": [
    "Molecule('h2o') # this will return the same molecule, but now the different alias was used"
   ]
  },
  {
   "cell_type": "code",
   "execution_count": 30,
   "metadata": {},
   "outputs": [
    {
     "data": {
      "text/plain": [
       "H2(16O)"
      ]
     },
     "execution_count": 30,
     "metadata": {},
     "output_type": "execute_result"
    }
   ],
   "source": [
    "Isotopologue('H2(16O)') # HITRAN isotopologue notation"
   ]
  },
  {
   "cell_type": "code",
   "execution_count": 31,
   "metadata": {},
   "outputs": [
    {
     "data": {
      "text/plain": [
       "H2(16O)"
      ]
     },
     "execution_count": 31,
     "metadata": {},
     "output_type": "execute_result"
    }
   ],
   "source": [
    "Isotopologue('XLYOFNOQVPJJNP-UHFFFAOYSA-N') # InChIKey"
   ]
  },
  {
   "cell_type": "markdown",
   "metadata": {},
   "source": [
    "<h2>The \"HITRAN-specific\" object aliases</h2>"
   ]
  },
  {
   "cell_type": "markdown",
   "metadata": {},
   "source": [
    "Besides the \"common\" aliases for objects like chemical formulas, HAPI2 assigns each object a HITRAN-secific alias.<br>\n",
    "These aliases has similar structure that reads <em>HITRAN-obj-ID</em>, where obj is the acronym of the object type (mol, src, iso etc...), and ID is the HITRANonline \"global\" ID number. "
   ]
  },
  {
   "cell_type": "markdown",
   "metadata": {},
   "source": [
    "For instance, for the molecule with number 6 in the HITRAN rank (i.e. methane), this alias will read as \"HITRAN-mol-6\":"
   ]
  },
  {
   "cell_type": "code",
   "execution_count": 32,
   "metadata": {},
   "outputs": [
    {
     "data": {
      "text/plain": [
       "Methane"
      ]
     },
     "execution_count": 32,
     "metadata": {},
     "output_type": "execute_result"
    }
   ],
   "source": [
    "Molecule('HITRAN-mol-6')"
   ]
  },
  {
   "cell_type": "markdown",
   "metadata": {},
   "source": [
    "For isotopologues, there are two ways of specifying the HITRAN aliases. First way if using the \"global\" isotopologue ID number, used in the HITRANonline. In the following example, we will search for the isotopologue with the global ID=1:"
   ]
  },
  {
   "cell_type": "code",
   "execution_count": 33,
   "metadata": {},
   "outputs": [
    {
     "data": {
      "text/plain": [
       "H2(16O)"
      ]
     },
     "execution_count": 33,
     "metadata": {},
     "output_type": "execute_result"
    }
   ],
   "source": [
    "Isotopologue('HITRAN-iso-1')"
   ]
  },
  {
   "cell_type": "markdown",
   "metadata": {},
   "source": [
    "The second way is using more traditional HITRAN isotopologue identification, where the number of molecule along with the \"local\" isotopologue ID are used (these numbers are the first two ones in the 160-character HITRAN text format):"
   ]
  },
  {
   "cell_type": "code",
   "execution_count": 34,
   "metadata": {},
   "outputs": [
    {
     "data": {
      "text/plain": [
       "H2(16O)"
      ]
     },
     "execution_count": 34,
     "metadata": {},
     "output_type": "execute_result"
    }
   ],
   "source": [
    "Isotopologue('HITRAN-iso-1-1')"
   ]
  },
  {
   "cell_type": "markdown",
   "metadata": {},
   "source": [
    "For sources, the HITRANonline id can be used in the same way, as for the isotopologue and molecule:"
   ]
  },
  {
   "cell_type": "code",
   "execution_count": 35,
   "metadata": {},
   "outputs": [
    {
     "data": {
      "text/plain": [
       "'L.S. Rothman, R.R. Gamache, A. Goldman, L.R. Brown, R.A. Toth, H.M. Pickett, R.L. Poynter, J.-M. Flaud, C. Camy-Peyret, A. Barbe, N. Husson, C.P. Rinsland, M.A.H. Smith. The HITRAN database: 1986 edition. Applied Optics 1987;26:4058-4097. doi:10.1364/AO.26.004058. '"
      ]
     },
     "execution_count": 35,
     "metadata": {},
     "output_type": "execute_result"
    }
   ],
   "source": [
    "Source('HITRAN-src-1').citation"
   ]
  },
  {
   "cell_type": "markdown",
   "metadata": {},
   "source": [
    "<h2>Conclusion</h2>"
   ]
  },
  {
   "cell_type": "markdown",
   "metadata": {},
   "source": [
    "This tutorial covers very basic features of HAPI2, such as fetching of objects, searching the local database, and using relationships. For more advanced topics (using custom database backends, efficient working with large amount of transitions, spectra simulation presets, tracking data provenance with HAPI2 etc...) separate dedicated tutorials will be uploaded.<br>"
   ]
  }
 ],
 "metadata": {
  "kernelspec": {
   "display_name": "Python 3 (ipykernel)",
   "language": "python",
   "name": "python3"
  },
  "language_info": {
   "codemirror_mode": {
    "name": "ipython",
    "version": 3
   },
   "file_extension": ".py",
   "mimetype": "text/x-python",
   "name": "python",
   "nbconvert_exporter": "python",
   "pygments_lexer": "ipython3",
   "version": "3.8.10"
  }
 },
 "nbformat": 4,
 "nbformat_minor": 2
}
