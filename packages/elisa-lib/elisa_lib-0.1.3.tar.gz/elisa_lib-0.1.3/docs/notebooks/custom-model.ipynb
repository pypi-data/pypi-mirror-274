{
 "cells": [
  {
   "metadata": {},
   "cell_type": "markdown",
   "source": "(custom-model)=",
   "id": "c89ad85960beacb4"
  },
  {
   "metadata": {},
   "cell_type": "markdown",
   "source": [
    "# Make Custom Models\n",
    "\n",
    "```{admonition} Warning\n",
    ":class: warning\n",
    "\n",
    "This is a work in progress.\n",
    "```"
   ],
   "id": "65001cc5c9150b2a"
  }
 ],
 "metadata": {
  "kernelspec": {
   "display_name": "Python 3",
   "language": "python",
   "name": "python3"
  },
  "language_info": {
   "codemirror_mode": {
    "name": "ipython",
    "version": 2
   },
   "file_extension": ".py",
   "mimetype": "text/x-python",
   "name": "python",
   "nbconvert_exporter": "python",
   "pygments_lexer": "ipython2",
   "version": "2.7.6"
  }
 },
 "nbformat": 4,
 "nbformat_minor": 5
}
