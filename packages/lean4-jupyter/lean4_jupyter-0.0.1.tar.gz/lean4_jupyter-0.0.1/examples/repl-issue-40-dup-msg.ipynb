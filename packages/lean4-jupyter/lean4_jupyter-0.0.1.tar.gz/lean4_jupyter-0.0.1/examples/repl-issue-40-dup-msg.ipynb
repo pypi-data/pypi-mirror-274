{
 "cells": [
  {
   "cell_type": "code",
   "execution_count": 1,
   "id": "8b89b845-259f-4f8e-8e25-4aebb671bb2b",
   "metadata": {},
   "outputs": [
    {
     "data": {
      "text/html": [
       "\n",
       "        \n",
       "        <link rel=\"stylesheet\" href=\"https://lean-lang.org/lean4/doc/alectryon.css\">\n",
       "        <link rel=\"stylesheet\" href=\"https://lean-lang.org/lean4/doc/pygments.css\">\n",
       "        <script src=\"https://lean-lang.org/lean4/doc/alectryon.js\"></script>\n",
       "        <script src=\"https://lean-lang.org/lean4/doc/highlight.js\"></script>\n",
       "        <style>\n",
       "            @media (any-hover: hover) {\n",
       "                .alectryon-io .alectryon-sentence:hover .alectryon-output,\n",
       "                .alectryon-io .alectryon-token:hover .alectryon-type-info-wrapper,\n",
       "                .alectryon-io .alectryon-token:hover .alectryon-type-info-wrapper {\n",
       "                    position: unset;\n",
       "                }\n",
       "            }\n",
       "\n",
       "            .highlight .w, .code .w {\n",
       "                color: #d3d7cf;\n",
       "                text-decoration: none;\n",
       "            }\n",
       "\n",
       "            body[data-jp-theme-light=\"false\"] .alectryon-io .alectryon-goals,\n",
       "            body[data-jp-theme-light=\"false\"] .alectryon-io .alectryon-messages,\n",
       "            body[data-jp-theme-light=\"false\"] .alectryon-io .alectryon-goal,\n",
       "            body[data-jp-theme-light=\"false\"] .alectryon-io .alectryon-message {\n",
       "                background: black;\n",
       "            }\n",
       "        </style>\n",
       "    \n",
       "        <div class=\"alectryon-root alectryon-centered\">\n",
       "            <pre class=\"alectryon-io highlight\"><!-- Generator: Alectryon --><span class=\"alectryon-sentence\"><span class=\"alectryon-input\"><span class=\"kn\">def</span><span class=\"w\"> </span>f<span class=\"w\"> </span>:=<span class=\"w\"> </span><span class=\"mi\">2</span></span></span></pre>\n",
       "<pre class=\"alectryon-io highlight\"><!-- Generator: Alectryon --><span class=\"alectryon-sentence\"><span class=\"alectryon-input\"><span class=\"c1\">--% env 0</span></span></span></pre>\n",
       "        </div>\n",
       "        <details>\n",
       "            <summary>Raw input</summary>\n",
       "            <code>{\"cmd\": \"def f := 2\"}</code>\n",
       "        </details>\n",
       "        <details>\n",
       "            <summary>Raw output</summary>\n",
       "            <code>{\"env\": 0}</code>\n",
       "        </details>\n",
       "    "
      ],
      "text/plain": [
       "def f := 2\n",
       "--% env 0\n",
       "\n",
       "Raw input:\n",
       "{\"cmd\": \"def f := 2\"}\n",
       "Raw output:\n",
       "{\"env\": 0}"
      ]
     },
     "metadata": {},
     "output_type": "display_data"
    }
   ],
   "source": [
    "def f := 2"
   ]
  },
  {
   "cell_type": "code",
   "execution_count": 2,
   "id": "ee2fab57-dadd-465b-baca-4c4486c69c07",
   "metadata": {},
   "outputs": [
    {
     "data": {
      "text/html": [
       "\n",
       "        \n",
       "        <link rel=\"stylesheet\" href=\"https://lean-lang.org/lean4/doc/alectryon.css\">\n",
       "        <link rel=\"stylesheet\" href=\"https://lean-lang.org/lean4/doc/pygments.css\">\n",
       "        <script src=\"https://lean-lang.org/lean4/doc/alectryon.js\"></script>\n",
       "        <script src=\"https://lean-lang.org/lean4/doc/highlight.js\"></script>\n",
       "        <style>\n",
       "            @media (any-hover: hover) {\n",
       "                .alectryon-io .alectryon-sentence:hover .alectryon-output,\n",
       "                .alectryon-io .alectryon-token:hover .alectryon-type-info-wrapper,\n",
       "                .alectryon-io .alectryon-token:hover .alectryon-type-info-wrapper {\n",
       "                    position: unset;\n",
       "                }\n",
       "            }\n",
       "\n",
       "            .highlight .w, .code .w {\n",
       "                color: #d3d7cf;\n",
       "                text-decoration: none;\n",
       "            }\n",
       "\n",
       "            body[data-jp-theme-light=\"false\"] .alectryon-io .alectryon-goals,\n",
       "            body[data-jp-theme-light=\"false\"] .alectryon-io .alectryon-messages,\n",
       "            body[data-jp-theme-light=\"false\"] .alectryon-io .alectryon-goal,\n",
       "            body[data-jp-theme-light=\"false\"] .alectryon-io .alectryon-message {\n",
       "                background: black;\n",
       "            }\n",
       "        </style>\n",
       "    \n",
       "        <div class=\"alectryon-root alectryon-centered\">\n",
       "            <pre class=\"alectryon-io highlight\"><!-- Generator: Alectryon --><span class=\"alectryon-sentence\"><input class=\"alectryon-toggle\" id=\"chk0\" style=\"display: none\" type=\"checkbox\"><label class=\"alectryon-input\" for=\"chk0\"><span class=\"bp\">#</span>check<span class=\"w\"> </span>f</label><small class=\"alectryon-output\"><div><div class=\"alectryon-messages\"><blockquote class=\"alectryon-message\"> f<span class=\"w\"> </span>:<span class=\"w\"> </span>Nat</blockquote></div></div></small></span></pre>\n",
       "<pre class=\"alectryon-io highlight\"><!-- Generator: Alectryon --><span class=\"alectryon-sentence\"><span class=\"alectryon-input\"><span class=\"c1\">--% env 1</span></span></span></pre>\n",
       "        </div>\n",
       "        <details>\n",
       "            <summary>Raw input</summary>\n",
       "            <code>{\"cmd\": \"#check f\", \"env\": 0}</code>\n",
       "        </details>\n",
       "        <details>\n",
       "            <summary>Raw output</summary>\n",
       "            <code>{\"messages\":\r\n",
       " [{\"severity\": \"info\",\r\n",
       "   \"pos\": {\"line\": 1, \"column\": 0},\r\n",
       "   \"endPos\": {\"line\": 1, \"column\": 6},\r\n",
       "   \"data\": \"f : Nat\"}],\r\n",
       " \"env\": 1}</code>\n",
       "        </details>\n",
       "    "
      ],
      "text/plain": [
       "#check f\n",
       "──────▶  f : Nat\n",
       "--% env 1\n",
       "\n",
       "Raw input:\n",
       "{\"cmd\": \"#check f\", \"env\": 0}\n",
       "Raw output:\n",
       "{\"messages\":\r\n",
       " [{\"severity\": \"info\",\r\n",
       "   \"pos\": {\"line\": 1, \"column\": 0},\r\n",
       "   \"endPos\": {\"line\": 1, \"column\": 6},\r\n",
       "   \"data\": \"f : Nat\"}],\r\n",
       " \"env\": 1}"
      ]
     },
     "metadata": {},
     "output_type": "display_data"
    }
   ],
   "source": [
    "#check f"
   ]
  },
  {
   "cell_type": "code",
   "execution_count": 3,
   "id": "fd0d2d13-98fd-40c2-8ccd-4104976ccc0c",
   "metadata": {},
   "outputs": [
    {
     "data": {
      "text/html": [
       "\n",
       "        \n",
       "        <link rel=\"stylesheet\" href=\"https://lean-lang.org/lean4/doc/alectryon.css\">\n",
       "        <link rel=\"stylesheet\" href=\"https://lean-lang.org/lean4/doc/pygments.css\">\n",
       "        <script src=\"https://lean-lang.org/lean4/doc/alectryon.js\"></script>\n",
       "        <script src=\"https://lean-lang.org/lean4/doc/highlight.js\"></script>\n",
       "        <style>\n",
       "            @media (any-hover: hover) {\n",
       "                .alectryon-io .alectryon-sentence:hover .alectryon-output,\n",
       "                .alectryon-io .alectryon-token:hover .alectryon-type-info-wrapper,\n",
       "                .alectryon-io .alectryon-token:hover .alectryon-type-info-wrapper {\n",
       "                    position: unset;\n",
       "                }\n",
       "            }\n",
       "\n",
       "            .highlight .w, .code .w {\n",
       "                color: #d3d7cf;\n",
       "                text-decoration: none;\n",
       "            }\n",
       "\n",
       "            body[data-jp-theme-light=\"false\"] .alectryon-io .alectryon-goals,\n",
       "            body[data-jp-theme-light=\"false\"] .alectryon-io .alectryon-messages,\n",
       "            body[data-jp-theme-light=\"false\"] .alectryon-io .alectryon-goal,\n",
       "            body[data-jp-theme-light=\"false\"] .alectryon-io .alectryon-message {\n",
       "                background: black;\n",
       "            }\n",
       "        </style>\n",
       "    \n",
       "        <div class=\"alectryon-root alectryon-centered\">\n",
       "            <pre class=\"alectryon-io highlight\"><!-- Generator: Alectryon --><span class=\"alectryon-sentence\"><input class=\"alectryon-toggle\" id=\"chk1\" style=\"display: none\" type=\"checkbox\"><label class=\"alectryon-input\" for=\"chk1\"><span class=\"bp\">#</span>check<span class=\"w\"> </span>g</label><small class=\"alectryon-output\"><div><div class=\"alectryon-messages\"><blockquote class=\"alectryon-message\"><span class=\"bp\">❌</span><span class=\"w\"> </span>unknown<span class=\"w\"> </span>identifier<span class=\"w\"> </span><span class=\"bp\">&#39;</span>g&#39;</blockquote></div></div></small></span></pre>\n",
       "<pre class=\"alectryon-io highlight\"><!-- Generator: Alectryon --><span class=\"alectryon-sentence\"><span class=\"alectryon-input\"><span class=\"c1\">--% env 2</span></span></span></pre>\n",
       "        </div>\n",
       "        <details>\n",
       "            <summary>Raw input</summary>\n",
       "            <code>{\"cmd\": \"#check g\", \"env\": 1}</code>\n",
       "        </details>\n",
       "        <details>\n",
       "            <summary>Raw output</summary>\n",
       "            <code>{\"messages\":\r\n",
       " [{\"severity\": \"error\",\r\n",
       "   \"pos\": {\"line\": 1, \"column\": 7},\r\n",
       "   \"endPos\": {\"line\": 1, \"column\": 8},\r\n",
       "   \"data\": \"unknown identifier 'g'\"}],\r\n",
       " \"env\": 2}</code>\n",
       "        </details>\n",
       "    "
      ],
      "text/plain": [
       "#check g\n",
       "       ─▶ ❌ unknown identifier 'g'\n",
       "--% env 2\n",
       "\n",
       "Raw input:\n",
       "{\"cmd\": \"#check g\", \"env\": 1}\n",
       "Raw output:\n",
       "{\"messages\":\r\n",
       " [{\"severity\": \"error\",\r\n",
       "   \"pos\": {\"line\": 1, \"column\": 7},\r\n",
       "   \"endPos\": {\"line\": 1, \"column\": 8},\r\n",
       "   \"data\": \"unknown identifier 'g'\"}],\r\n",
       " \"env\": 2}"
      ]
     },
     "metadata": {},
     "output_type": "display_data"
    }
   ],
   "source": [
    "#check g"
   ]
  },
  {
   "cell_type": "code",
   "execution_count": null,
   "id": "f83e6818-6fc7-4691-af75-9d6887cd407a",
   "metadata": {},
   "outputs": [],
   "source": []
  }
 ],
 "metadata": {
  "kernelspec": {
   "display_name": "Lean 4",
   "language": "lean4",
   "name": "lean4"
  },
  "language_info": {
   "codemirror_mode": "python",
   "file_extension": ".lean",
   "mimetype": "text/x-lean4",
   "name": "lean4"
  }
 },
 "nbformat": 4,
 "nbformat_minor": 5
}
