{
 "cells": [
  {
   "cell_type": "markdown",
   "metadata": {},
   "source": [
    "# Wind Energy\n"
   ]
  },
  {
   "cell_type": "code",
   "execution_count": null,
   "metadata": {},
   "outputs": [
    {
     "data": {
      "text/plain": [
       "<requests.sessions.Session at 0x7fb0bee8d1d0>"
      ]
     },
     "execution_count": null,
     "metadata": {},
     "output_type": "execute_result"
    }
   ],
   "source": [
    "import xarray as xr\n",
    "import matplotlib.pyplot as plt\n",
    "\n",
    "import sys\n",
    "import os\n",
    "\n",
    "try:\n",
    "    import salientsdk as sk\n",
    "except ModuleNotFoundError as e:\n",
    "    if os.path.exists(\"../salientsdk\"):\n",
    "        sys.path.append(os.path.abspath(\"..\"))\n",
    "        import salientsdk as sk\n",
    "    else:\n",
    "        raise ModuleNotFoundError(\"Install salient SDK with: pip install salientsdk\")\n",
    "\n",
    "# These are the variables we need to convert wind to power:\n",
    "vars = \"wspd,wspd100,temp\"\n",
    "# Let's analyze one year of data:\n",
    "start_date = \"2022-01-01\"\n",
    "end_date = \"2022-12-31\"\n",
    "# When we want to plot a timeseries, focus on a specific month:\n",
    "plt_time = slice(\"2022-02-01\", \"2022-02-28\")\n",
    "\n",
    "\n",
    "sk.set_file_destination(\"wind_example\")\n",
    "sk.login(\"username\", \"password\")"
   ]
  },
  {
   "cell_type": "markdown",
   "metadata": {},
   "source": [
    "## Get Source Data\n",
    "\n",
    "To start, call the Salient API to get an hourly forecast of wind-relevant meteorological varibles. Then get historical observed values for comparison.\n"
   ]
  },
  {
   "cell_type": "markdown",
   "metadata": {},
   "source": [
    "### Set geographic bounds\n",
    "\n",
    "The Salient SDK uses a `Location` object to specify the geographic bounds of a request. Let's analyze wind energy at 3 sites. Escalade (Texas) features modern high-capacity wind turbines on tall towers. Twin Groves (Illinois) and Windy Point (Oregon) have older moderate-capacity turbines on shorter towers.\n"
   ]
  },
  {
   "cell_type": "code",
   "execution_count": null,
   "metadata": {},
   "outputs": [],
   "source": [
    "loc_file = sk.upload_location_file(\n",
    "    lats=[33.735371, 40.445091, 45.710293],\n",
    "    lons=[-99.646866, -88.696297, -120.848785],\n",
    "    names=[\"Escalade\", \"Twin Groves I\", \"Windy Point IIa\"],\n",
    "    hub_height=[119, 80, 80],  # meters\n",
    "    elevation=[444, 260, 582],  # meters\n",
    "    rated_capacity=[5.6, 1.65, 2.3],  # Megawatts\n",
    "    turbine_count=[65, 121, 24],\n",
    "    turbine_model=[\"V162-5.6\", \"V82-1.65\", \"SWT-2.3-93\"],\n",
    "    turbine_manufacturer=[\"Vestas\", \"Vestas\", \"Siemens\"],\n",
    "    year_online=[2022, 2007, 2009],\n",
    "    geoname=\"wind_example\",\n",
    "    force=False,\n",
    ")\n",
    "loc = sk.Location(location_file=loc_file)"
   ]
  },
  {
   "cell_type": "markdown",
   "metadata": {},
   "source": [
    "### Get Historical Observed Data\n"
   ]
  },
  {
   "cell_type": "code",
   "execution_count": null,
   "metadata": {},
   "outputs": [
    {
     "name": "stdout",
     "output_type": "stream",
     "text": [
      "<xarray.Dataset> Size: 699kB\n",
      "Dimensions:               (location: 3, time: 8737)\n",
      "Coordinates:\n",
      "  * location              (location) object 24B 'Escalade' ... 'Windy Point IIa'\n",
      "  * time                  (time) datetime64[ns] 70kB 2022-01-01 ... 2022-12-31\n",
      "    lat                   (location) float64 24B 33.74 40.45 45.71\n",
      "    lon                   (location) float64 24B -99.65 -88.7 -120.8\n",
      "Data variables:\n",
      "    hub_height            (location) int64 24B 119 80 80\n",
      "    elevation             (location) int64 24B 444 260 582\n",
      "    rated_capacity        (location) float64 24B 5.6 1.65 2.3\n",
      "    turbine_count         (location) int64 24B 65 121 24\n",
      "    turbine_model         (location) object 24B 'V162-5.6' ... 'SWT-2.3-93'\n",
      "    turbine_manufacturer  (location) object 24B 'Vestas' 'Vestas' 'Siemens'\n",
      "    year_online           (location) int64 24B 2022 2007 2009\n",
      "    wspd                  (time, location) float64 210kB 3.592 3.517 ... 1.135\n",
      "    wspd100               (time, location) float64 210kB 6.842 8.078 ... 2.421\n",
      "    temp                  (time, location) float64 210kB 17.27 10.65 ... 5.321\n"
     ]
    }
   ],
   "source": [
    "file_hst = sk.data_timeseries(\n",
    "    loc=loc,\n",
    "    variable=vars,\n",
    "    field=\"vals\",\n",
    "    frequency=\"hourly\",\n",
    "    start=start_date,\n",
    "    end=end_date,\n",
    "    force=False,\n",
    ")\n",
    "\n",
    "# Load all of the history files into a single dataset:\n",
    "hst = sk.load_multihistory(file_hst, fields=[\"vals\"])\n",
    "\n",
    "# Add extra columns like elevation and turbine_count to the dataset:\n",
    "hst = sk.merge_location_data(hst, loc_file)\n",
    "print(hst)\n",
    "\n",
    "plt_wind100 = hst[\"wspd100\"].sel(time=plt_time).plot(x=\"time\", hue=\"location\")"
   ]
  },
  {
   "cell_type": "markdown",
   "metadata": {},
   "source": [
    "### Downscale Forecast\n",
    "\n",
    "The `downscale` API endpoint converts Salient's temporally granular weekly/monthly/quarterly forecasts into an hourly ensemble of timeseries.\n"
   ]
  },
  {
   "cell_type": "code",
   "execution_count": null,
   "metadata": {},
   "outputs": [
    {
     "name": "stdout",
     "output_type": "stream",
     "text": [
      "<xarray.Dataset> Size: 290kB\n",
      "Dimensions:               (location: 3, time: 366, ensemble: 11)\n",
      "Coordinates:\n",
      "  * location              (location) object 24B 'Escalade' ... 'Windy Point IIa'\n",
      "  * time                  (time) datetime64[ns] 3kB 2022-01-01 ... 2023-01-01\n",
      "    analog                (ensemble, time) datetime64[ns] 32kB 2022-01-01 ......\n",
      "    lat                   (location) float64 24B 33.74 40.45 45.71\n",
      "    lon                   (location) float64 24B -99.65 -88.7 -120.8\n",
      "    forecast_date         datetime64[ns] 8B 2022-01-01\n",
      "Dimensions without coordinates: ensemble\n",
      "Data variables: (12/15)\n",
      "    hub_height            (location) int64 24B 119 80 80\n",
      "    elevation             (location) int64 24B 444 260 582\n",
      "    rated_capacity        (location) float64 24B 5.6 1.65 2.3\n",
      "    turbine_count         (location) int64 24B 65 121 24\n",
      "    turbine_model         (location) object 24B 'V162-5.6' ... 'SWT-2.3-93'\n",
      "    turbine_manufacturer  (location) object 24B 'Vestas' 'Vestas' 'Siemens'\n",
      "    ...                    ...\n",
      "    wspd_anom             (ensemble, time, location) float32 48kB 3.792 ... 1...\n",
      "    temp_anom             (ensemble, time, location) float32 48kB 0.8992 ... ...\n",
      "    wspd                  (ensemble, time, location) float32 48kB 8.496 ... 2...\n",
      "    temp                  (ensemble, time, location) float32 48kB 7.091 ... 1...\n",
      "    wspd100               (ensemble, time, location) float32 48kB 15.11 ... 5...\n",
      "    wspd100_clim          (time, location) float32 4kB 8.366 8.353 ... 3.377\n"
     ]
    }
   ],
   "source": [
    "file_dsc = sk.downscale(\n",
    "    loc=loc,\n",
    "    variables=\"wspd,temp\",  # RD-1483\n",
    "    # variables=vars,\n",
    "    date=start_date,\n",
    "    # frequency=\"hourly\", # RD-1232\n",
    "    members=11,\n",
    "    force=False,\n",
    ")\n",
    "\n",
    "dsc = xr.load_dataset(file_dsc)\n",
    "\n",
    "# Add extra columns like elevation and turbine_count to the dataset:\n",
    "dsc = sk.merge_location_data(dsc, loc_file)\n",
    "\n",
    "dsc = dsc.rename({\"forecast_day\": \"time\"})\n",
    "\n",
    "# https://salientpredictions.atlassian.net/browse/RD-1483\n",
    "dsc[\"wspd100\"] = dsc[\"wspd\"] * (100 / 10) ** 0.25\n",
    "dsc[\"wspd100\"].attrs[\"long_name\"] = \"Wind speed at 100m\"\n",
    "\n",
    "dsc[\"wspd100_clim\"] = dsc[\"wspd_clim\"] * (100 / 10) ** 0.25\n",
    "dsc[\"wspd100_clim\"].attrs[\"long_name\"] = \"Wind speed at 100m\"\n",
    "\n",
    "print(dsc)\n",
    "\n",
    "plt_wnd = (\n",
    "    dsc[\"wspd100\"]\n",
    "    .sel(time=plt_time)\n",
    "    .plot(\n",
    "        x=\"time\",\n",
    "        hue=\"ensemble\",\n",
    "        col=\"location\",\n",
    "        size=5,\n",
    "        aspect=1.0,\n",
    "        add_legend=False,\n",
    "        color=\"grey\",\n",
    "    )\n",
    ")\n",
    "\n",
    "for ax, location in zip(plt_wnd.axs.flat, dsc[\"location\"].values):\n",
    "    # Overlay wspd100_clim as a heavy black line on each plot\n",
    "    dsc.sel(location=location, time=plt_time)[\"wspd100_clim\"].plot(\n",
    "        ax=ax, color=\"black\", linewidth=4\n",
    "    )\n",
    "    # Overlay actual historical 100m wind as a blue line on each plot:\n",
    "    hst.sel(location=location, time=plt_time)[\"wspd100\"].plot(ax=ax, color=\"#1E90FF\", linewidth=2)"
   ]
  },
  {
   "cell_type": "markdown",
   "metadata": {},
   "source": [
    "## Wind to Power\n",
    "\n",
    "Now that we have wind and temperature, let's translate them to megawatts.\n"
   ]
  },
  {
   "cell_type": "markdown",
   "metadata": {},
   "source": [
    "### Shear to Hub Height\n",
    "\n",
    "Each of the sites has a different tower height. We need to interpolate or extrapolate 10m and 100m wind speeds to the hub height at each location.\n"
   ]
  },
  {
   "cell_type": "code",
   "execution_count": null,
   "metadata": {},
   "outputs": [
    {
     "name": "stdout",
     "output_type": "stream",
     "text": [
      "<xarray.DataArray 'wspdhh' (time: 8737, location: 3)> Size: 210kB\n",
      "array([[7.18296991, 7.45286483, 1.64438469],\n",
      "       [7.95819783, 6.82760911, 1.63713691],\n",
      "       [8.26094285, 7.16791649, 1.10445299],\n",
      "       ...,\n",
      "       [4.04169768, 2.86664731, 1.98277396],\n",
      "       [5.20847725, 3.18244559, 2.23860675],\n",
      "       [6.92519134, 3.9305276 , 2.24932456]])\n",
      "Coordinates:\n",
      "  * location  (location) object 24B 'Escalade' 'Twin Groves I' 'Windy Point IIa'\n",
      "  * time      (time) datetime64[ns] 70kB 2022-01-01 ... 2022-12-31\n",
      "    lat       (location) float64 24B 33.74 40.45 45.71\n",
      "    lon       (location) float64 24B -99.65 -88.7 -120.8\n",
      "Attributes:\n",
      "    long_name:   Wind Speed at hub height\n",
      "    short_name:  wspdhh\n",
      "    units:       m s**-1\n"
     ]
    }
   ],
   "source": [
    "hst[\"wspdhh\"] = sk.wind.shear_wind(hst[\"wspd100\"], hst[\"wspd\"], hst[\"hub_height\"])\n",
    "print(hst[\"wspdhh\"])\n",
    "\n",
    "plt_shear = hst.plot.scatter(x=\"wspd100\", y=\"wspdhh\", hue=\"location\")\n",
    "plt_diag = plt.plot([0, 25], [0, 25], \"--k\")"
   ]
  },
  {
   "cell_type": "markdown",
   "metadata": {},
   "source": [
    "### Correct for Air Density\n",
    "\n",
    "Manufacturers denominate their power curves in terms of air density, often sea level. We will use elevation and temperature to modify wind speeds to match the power curve.\n"
   ]
  },
  {
   "cell_type": "code",
   "execution_count": null,
   "metadata": {},
   "outputs": [],
   "source": [
    "hst[\"wspddc\"] = sk.wind.correct_wind_density(\n",
    "    wspd=hst[\"wspdhh\"],\n",
    "    dens=1.225,\n",
    "    temp=hst[\"temp\"],\n",
    "    elev=hst[\"elevation\"] + hst[\"hub_height\"],\n",
    ")\n",
    "\n",
    "with xr.Dataset({\"temp\": hst.temp, \"dif\": hst.wspddc / hst.wspdhh}) as dif:\n",
    "    dif.plot.scatter(x=\"temp\", y=\"dif\", hue=\"location\")"
   ]
  },
  {
   "cell_type": "markdown",
   "metadata": {},
   "source": [
    "### Define Turbine Power Curves\n"
   ]
  },
  {
   "cell_type": "code",
   "execution_count": null,
   "metadata": {},
   "outputs": [
    {
     "name": "stdout",
     "output_type": "stream",
     "text": [
      "<xarray.DataArray 'power_curve' (wind_speed: 5, turbine_model: 3)> Size: 120B\n",
      "array([[0.   , 0.   , 0.   ],\n",
      "       [0.027, 0.   , 0.   ],\n",
      "       [0.144, 0.01 , 0.026],\n",
      "       [0.289, 0.028, 0.053],\n",
      "       [0.464, 0.075, 0.1  ]])\n",
      "Coordinates:\n",
      "  * wind_speed     (wind_speed) float64 40B 0.0 3.0 3.5 4.0 4.5\n",
      "  * turbine_model  (turbine_model) object 24B 'V162-5.6' 'V82-1.65' 'SWT-2.3-93'\n",
      "Attributes:\n",
      "    units:          MW\n",
      "    long_name:      Power\n",
      "    standard_name:  power_curve\n"
     ]
    }
   ],
   "source": [
    "pc = sk.wind.get_power_curve(turbine_model=hst[\"turbine_model\"])\n",
    "print(pc.head())\n",
    "plt_curves = pc.plot.line(x=\"wind_speed\")"
   ]
  },
  {
   "cell_type": "markdown",
   "metadata": {},
   "source": [
    "### Apply Power Curve\n",
    "\n",
    "Feed the density-corrected hub-height wind speeds through the power curve to get power production.\n"
   ]
  },
  {
   "cell_type": "code",
   "execution_count": null,
   "metadata": {},
   "outputs": [],
   "source": [
    "hst[\"power\"] = sk.wind.calc_wind_power(hst[\"wspdhh\"], hst[\"turbine_model\"])\n",
    "print(hst.power)\n",
    "\n",
    "plt_power = hst[\"power\"].sel(time=plt_time).plot.line(x=\"time\", hue=\"location\")"
   ]
  },
  {
   "cell_type": "markdown",
   "metadata": {},
   "source": [
    "### End-to-End Wind-to-Power\n",
    "\n",
    "As a convenience, the function `calc_wind_power_all` will shear, density correct, and calculate power. Let's use it with the `downscale` dataset so we don't have to run each step individually.\n"
   ]
  },
  {
   "cell_type": "code",
   "execution_count": null,
   "metadata": {},
   "outputs": [
    {
     "name": "stdout",
     "output_type": "stream",
     "text": [
      "<xarray.Dataset> Size: 228kB\n",
      "Dimensions:        (location: 3, time: 366, ensemble: 11)\n",
      "Coordinates:\n",
      "  * location       (location) object 24B 'Escalade' ... 'Windy Point IIa'\n",
      "  * time           (time) datetime64[ns] 3kB 2022-01-01 ... 2023-01-01\n",
      "    analog         (ensemble, time) datetime64[ns] 32kB 2022-01-01 ... 1953-1...\n",
      "    lat            (location) float64 24B 33.74 40.45 45.71\n",
      "    lon            (location) float64 24B -99.65 -88.7 -120.8\n",
      "    forecast_date  datetime64[ns] 8B 2022-01-01\n",
      "Dimensions without coordinates: ensemble\n",
      "Data variables:\n",
      "    wspdhh         (ensemble, time, location) float64 97kB 16.15 8.834 ... 5.056\n",
      "    power          (ensemble, time, location) float64 97kB 5.582 ... 0.1759\n"
     ]
    }
   ],
   "source": [
    "pwr_dsc = sk.wind.calc_wind_power_all(dsc)\n",
    "print(pwr_dsc)\n",
    "\n",
    "# calc_wind_power_all assumes that fields are named in a standard fashion.\n",
    "# If they are not, you can specify the field names explicitly:\n",
    "pwr_clm = sk.wind.calc_wind_power_all(\n",
    "    dsc, wspd=\"wspd_clim\", wspd100=\"wspd100_clim\", temp=\"temp_clim\"\n",
    ")\n",
    "\n",
    "\n",
    "plt_pwr = (\n",
    "    pwr_dsc[\"power\"]\n",
    "    .sel(time=plt_time)\n",
    "    .plot(\n",
    "        x=\"time\",\n",
    "        hue=\"ensemble\",\n",
    "        col=\"location\",\n",
    "        size=5,\n",
    "        aspect=1.0,\n",
    "        add_legend=False,\n",
    "        color=\"grey\",\n",
    "    )\n",
    ")\n",
    "for ax, location in zip(plt_pwr.axs.flat, pwr_dsc[\"location\"].values):\n",
    "    pwr_clm.sel(location=location, time=plt_time)[\"power\"].plot(ax=ax, color=\"black\", linewidth=4)\n",
    "    hst.sel(location=location, time=plt_time)[\"power\"].plot(ax=ax, color=\"#1E90FF\", linewidth=2)"
   ]
  }
 ],
 "metadata": {
  "kernelspec": {
   "display_name": "salient",
   "language": "python",
   "name": "python3"
  },
  "language_info": {
   "codemirror_mode": {
    "name": "ipython",
    "version": 3
   },
   "file_extension": ".py",
   "mimetype": "text/x-python",
   "name": "python",
   "nbconvert_exporter": "python",
   "pygments_lexer": "ipython3",
   "version": "3.11.5"
  }
 },
 "nbformat": 4,
 "nbformat_minor": 2
}
