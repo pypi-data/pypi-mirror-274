{
 "cells": [
  {
   "cell_type": "markdown",
   "metadata": {},
   "source": [
    "# Backtesting a simple trend following strategy\n",
    "\n",
    "Saeed Amen - saeed@cuemacro.com\n",
    "\n",
    "Here, we demonstrate how to develop a trading strategy in finmarketpy (https://www.github.com/cuemacro/finmarketpy). In this example, we show how to do a backtest of a simple trend following strategy using the `Backtest` class. The trading strategy involves buying spot, when it is above the 200D simple moving average and selling spot, when it below the 200D simple moving average.\n",
    "\n",
    "First, let's do all the imports."
   ]
  },
  {
   "cell_type": "code",
   "execution_count": 8,
   "metadata": {
    "ExecuteTime": {
     "end_time": "2022-01-26T16:05:44.159267Z",
     "start_time": "2022-01-26T16:05:44.155266Z"
    }
   },
   "outputs": [],
   "source": [
    "# for backtest and loading data\n",
    "from finmarketpy.backtest import BacktestRequest, Backtest\n",
    "from findatapy.market import Market, MarketDataRequest, MarketDataGenerator\n",
    "from findatapy.util.fxconv import FXConv\n",
    "\n",
    "# for logging\n",
    "from findatapy.util.loggermanager import LoggerManager\n",
    "\n",
    "# for signal generation\n",
    "from finmarketpy.economics import TechIndicator, TechParams\n",
    "\n",
    "# for plotting\n",
    "from chartpy import Chart, Style"
   ]
  },
  {
   "cell_type": "markdown",
   "metadata": {},
   "source": [
    "Create a logger."
   ]
  },
  {
   "cell_type": "code",
   "execution_count": 9,
   "metadata": {
    "ExecuteTime": {
     "end_time": "2022-01-26T16:05:45.423257Z",
     "start_time": "2022-01-26T16:05:45.410258Z"
    }
   },
   "outputs": [],
   "source": [
    "# housekeeping\n",
    "logger = LoggerManager().getLogger(__name__)\n",
    "\n",
    "import datetime"
   ]
  },
  {
   "cell_type": "markdown",
   "metadata": {},
   "source": [
    "Let's load up market data. Note you will need to type in your Quandl API key below (or set it as an environment variable before running this Jupyter notebook). You can get a free API key from Quandl.com, once you sign up for a free account."
   ]
  },
  {
   "cell_type": "code",
   "execution_count": 12,
   "metadata": {
    "ExecuteTime": {
     "end_time": "2022-01-26T16:07:51.747982Z",
     "start_time": "2022-01-26T16:07:43.085619Z"
    }
   },
   "outputs": [
    {
     "name": "stdout",
     "output_type": "stream",
     "text": [
      "2022-01-26 16:07:43,088 - __main__ - INFO - Loading asset data...\n",
      "2022-01-26 16:07:43,113 - findatapy.market.datavendorweb - INFO - Request Quandl data\n",
      "2022-01-26 16:07:43,115 - findatapy.market.datavendorweb - INFO - Request Quandl data\n",
      "2022-01-26 16:07:43,116 - findatapy.market.datavendorweb - INFO - Request Quandl data\n",
      "2022-01-26 16:07:43,117 - findatapy.market.datavendorweb - INFO - Request Quandl data\n",
      "2022-01-26 16:07:44,443 - findatapy.market.datavendorweb - INFO - Completed request from Quandl for ['EURUSD.close']\n",
      "2022-01-26 16:07:44,506 - findatapy.market.datavendorweb - INFO - Request Quandl data\n",
      "2022-01-26 16:07:46,981 - findatapy.market.datavendorweb - INFO - Completed request from Quandl for ['AUDUSD.close']\n",
      "2022-01-26 16:07:47,072 - findatapy.market.datavendorweb - INFO - Completed request from Quandl for ['USDJPY.close']\n",
      "2022-01-26 16:07:47,077 - findatapy.market.datavendorweb - INFO - Request Quandl data\n",
      "2022-01-26 16:07:47,093 - findatapy.market.datavendorweb - INFO - Completed request from Quandl for ['GBPUSD.close']\n",
      "2022-01-26 16:07:47,095 - findatapy.market.datavendorweb - INFO - Request Quandl data\n",
      "2022-01-26 16:07:47,104 - findatapy.market.datavendorweb - INFO - Request Quandl data\n",
      "2022-01-26 16:07:48,112 - findatapy.market.datavendorweb - INFO - Completed request from Quandl for ['USDCAD.close']\n",
      "2022-01-26 16:07:48,115 - findatapy.market.datavendorweb - INFO - Request Quandl data\n",
      "2022-01-26 16:07:49,853 - findatapy.market.datavendorweb - INFO - Completed request from Quandl for ['USDNOK.close']\n",
      "2022-01-26 16:07:49,912 - findatapy.market.datavendorweb - INFO - Completed request from Quandl for ['USDCHF.close']\n",
      "2022-01-26 16:07:50,728 - findatapy.market.datavendorweb - INFO - Completed request from Quandl for ['USDSEK.close']\n",
      "2022-01-26 16:07:51,683 - findatapy.market.datavendorweb - INFO - Completed request from Quandl for ['NZDUSD.close']\n",
      "2022-01-26 16:07:51,738 - findatapy.market.ioengine - INFO - Pushed MarketDataRequest_1018__abstract_curve_key-None__base_depos_currencies-EUR_GBP_AUD_NZD_USD_CAD_CHF_NOK_SEK_JPY__base_depos_tenor-ON_TN_SN_1W_2W_3W_1M_2M_3M_4M_6M_9M_1Y_2Y_3Y_5Y__category-None__category_key-backtest_default-cat_quandl_daily_NYC__cut-NYC__data_engine-None__data_source-quandl__environment-backtest__expiry_date-NaT__fields-close__finish_date-2022-01-26 00:00:00__freeform_md_request-{}__freq-daily__freq_mult-1__fx_forwards_tenor-ON_TN_SN_1W_2W_3W_1M_2M_3M_4M_6M_9M_1Y_2Y_3Y_5Y__fx_vol_part-V_25R_10R_25B_10B__fx_vol_tenor-ON_1W_2W_3W_1M_2M_3M_4M_6M_9M_1Y_2Y_3Y_5Y__gran_freq-None__list_threads-1__old_tickers-EURUSD_USDJPY_GBPUSD_AUDUSD_USDCAD_NZDUSD_USDCHF_USDNOK_USDSEK__push_to_cache-True__resample-None__resample_how-last__split_request_chunks-0__start_date-1989-01-01 00:00:00__tickers-EURUSD_USDJPY_GBPUSD_AUDUSD_USDCAD_NZDUSD_USDCHF_USDNOK_USDSEK__trade_side-trade__vendor_fields-close__vendor_tickers-FRED_DEXUSEU_FRED_DEXJPUS_FRED_DEXUSUK_FRED_DEXUSAL_FRED_DEXCAUS_FRED_DEXUSNZ_FRED_DEXSZUS_FRED_DEXNOUS_FRED_DEXSDUS_df to Redis\n"
     ]
    }
   ],
   "source": [
    "try:\n",
    "    import os\n",
    "    \n",
    "    QUANDL_API_KEY = os.environ['QUANDL_API_KEY']\n",
    "except:\n",
    "    QUANDL_API_KEY = 'TYPE_YOUR_KEY_HERE'\n",
    "\n",
    "# pick USD crosses in G10 FX\n",
    "# note: we are calculating returns from spot (it is much better to use to total return\n",
    "# indices for FX, which include carry)\n",
    "logger.info(\"Loading asset data...\")\n",
    "\n",
    "tickers = ['EURUSD', 'USDJPY', 'GBPUSD', 'AUDUSD', 'USDCAD',\n",
    "           'NZDUSD', 'USDCHF', 'USDNOK', 'USDSEK']\n",
    "\n",
    "vendor_tickers = ['FRED/DEXUSEU', 'FRED/DEXJPUS', 'FRED/DEXUSUK', 'FRED/DEXUSAL', 'FRED/DEXCAUS',\n",
    "                  'FRED/DEXUSNZ', 'FRED/DEXSZUS', 'FRED/DEXNOUS', 'FRED/DEXSDUS']\n",
    "\n",
    "md_request = MarketDataRequest(\n",
    "    start_date=\"01 Jan 1989\",  # start date\n",
    "    finish_date=datetime.date.today(),  # finish date\n",
    "    freq='daily',  # daily data\n",
    "    data_source='quandl',  # use Quandl as data source\n",
    "    tickers=tickers,  # ticker (findatapy)\n",
    "    fields=['close'],  # which fields to download\n",
    "    vendor_tickers=vendor_tickers,  # ticker (Quandl)\n",
    "    vendor_fields=['close'],  # which Bloomberg fields to download\n",
    "    cache_algo='internet_load_return',\n",
    "    quandl_api_key=QUANDL_API_KEY)  # how to return data\n",
    "\n",
    "market = Market(market_data_generator=MarketDataGenerator())\n",
    "\n",
    "asset_df = market.fetch_market(md_request)\n",
    "spot_df = asset_df"
   ]
  },
  {
   "cell_type": "markdown",
   "metadata": {},
   "source": [
    "Let's define all the parameters for the backtest, start/finish dates, technical indicator we'll use etc."
   ]
  },
  {
   "cell_type": "code",
   "execution_count": 13,
   "metadata": {
    "ExecuteTime": {
     "end_time": "2022-01-26T16:08:31.269917Z",
     "start_time": "2022-01-26T16:08:31.258918Z"
    }
   },
   "outputs": [],
   "source": [
    "backtest = Backtest()\n",
    "br = BacktestRequest()\n",
    "fxconv = FXConv()\n",
    "\n",
    "# get all asset data\n",
    "br.start_date = \"02 Jan 1990\"\n",
    "br.finish_date = datetime.datetime.utcnow()\n",
    "br.spot_tc_bp = 0  # 2.5 bps bid/ask spread\n",
    "br.ann_factor = 252\n",
    "\n",
    "# have vol target for each signal\n",
    "br.signal_vol_adjust = True\n",
    "br.signal_vol_target = 0.05\n",
    "br.signal_vol_max_leverage = 3\n",
    "br.signal_vol_periods = 60\n",
    "br.signal_vol_obs_in_year = 252\n",
    "br.signal_vol_rebalance_freq = 'BM'\n",
    "br.signal_vol_resample_freq = None\n",
    "\n",
    "tech_params = TechParams();\n",
    "tech_params.sma_period = 200;\n",
    "indicator = 'SMA'"
   ]
  },
  {
   "cell_type": "markdown",
   "metadata": {},
   "source": [
    "Calculate the technical indicator and the trading signal."
   ]
  },
  {
   "cell_type": "code",
   "execution_count": 14,
   "metadata": {
    "ExecuteTime": {
     "end_time": "2022-01-26T16:08:46.246634Z",
     "start_time": "2022-01-26T16:08:46.222635Z"
    }
   },
   "outputs": [
    {
     "name": "stdout",
     "output_type": "stream",
     "text": [
      "2022-01-26 16:08:46,224 - __main__ - INFO - Running backtest...\n"
     ]
    }
   ],
   "source": [
    "logger.info(\"Running backtest...\")\n",
    "\n",
    "# use technical indicator to create signals\n",
    "# (we could obviously create whatever function we wanted for generating the signal dataframe)\n",
    "tech_ind = TechIndicator()\n",
    "tech_ind.create_tech_ind(spot_df, indicator, tech_params);\n",
    "signal_df = tech_ind.get_signal()"
   ]
  },
  {
   "cell_type": "markdown",
   "metadata": {},
   "source": [
    "Run the backtest using the market data, signal etc."
   ]
  },
  {
   "cell_type": "code",
   "execution_count": 15,
   "metadata": {
    "ExecuteTime": {
     "end_time": "2022-01-26T16:08:55.953174Z",
     "start_time": "2022-01-26T16:08:55.873175Z"
    }
   },
   "outputs": [
    {
     "name": "stdout",
     "output_type": "stream",
     "text": [
      "2022-01-26 16:08:55,874 - finmarketpy.backtest.backtestengine - INFO - Calculating trading P&L...\n",
      "2022-01-26 16:08:55,919 - finmarketpy.backtest.backtestengine - INFO - Cumulative index calculations\n",
      "2022-01-26 16:08:55,932 - finmarketpy.backtest.backtestengine - INFO - Completed cumulative index calculations\n",
      "            EURUSD.close SMA Signal  USDJPY.close SMA Signal  \\\n",
      "Date                                                           \n",
      "2022-01-21                -0.097126                 0.080229   \n",
      "\n",
      "            GBPUSD.close SMA Signal  AUDUSD.close SMA Signal  \\\n",
      "Date                                                           \n",
      "2022-01-21                -0.081552                -0.065944   \n",
      "\n",
      "            USDCAD.close SMA Signal  NZDUSD.close SMA Signal  \\\n",
      "Date                                                           \n",
      "2022-01-21                 0.086692                -0.060962   \n",
      "\n",
      "            USDCHF.close SMA Signal  USDNOK.close SMA Signal  \\\n",
      "Date                                                           \n",
      "2022-01-21                -0.090516                 0.051786   \n",
      "\n",
      "            USDSEK.close SMA Signal  \n",
      "Date                                 \n",
      "2022-01-21                 0.068753  \n"
     ]
    }
   ],
   "source": [
    "contract_value_df = None\n",
    "\n",
    "# use the same data for generating signals\n",
    "backtest.calculate_trading_PnL(br, asset_df, signal_df, contract_value_df, run_in_parallel=False)\n",
    "port = backtest.portfolio_cum()\n",
    "port.columns = [indicator + ' = ' + str(tech_params.sma_period) + ' ' + str(backtest.portfolio_pnl_desc()[0])]\n",
    "signals = backtest.portfolio_signal()\n",
    "\n",
    "# print the last positions (we could also save as CSV etc.)\n",
    "print(signals.tail(1))"
   ]
  },
  {
   "cell_type": "markdown",
   "metadata": {},
   "source": [
    "Finally display the portfolio cumulative index."
   ]
  },
  {
   "cell_type": "code",
   "execution_count": 18,
   "metadata": {
    "ExecuteTime": {
     "end_time": "2022-01-26T16:09:47.164989Z",
     "start_time": "2022-01-26T16:09:46.928342Z"
    }
   },
   "outputs": [
    {
     "data": {
      "image/png": "[encoded data removed]",
      "text/plain": [
       "<Figure size 600x400 with 1 Axes>"
      ]
     },
     "metadata": {},
     "output_type": "display_data"
    }
   ],
   "source": [
    "style = Style()\n",
    "style.title = \"FX trend strategy\"\n",
    "style.source = 'Quandl'\n",
    "style.scale_factor = 1\n",
    "style.file_output = 'fx-trend-example.png'\n",
    "\n",
    "Chart().plot(port, style=style)"
   ]
  }
 ],
 "metadata": {
  "kernelspec": {
   "display_name": "Python 3",
   "language": "python",
   "name": "python3"
  },
  "language_info": {
   "codemirror_mode": {
    "name": "ipython",
    "version": 3
   },
   "file_extension": ".py",
   "mimetype": "text/x-python",
   "name": "python",
   "nbconvert_exporter": "python",
   "pygments_lexer": "ipython3",
   "version": "3.8.8"
  },
  "toc": {
   "base_numbering": 1,
   "nav_menu": {},
   "number_sections": true,
   "sideBar": true,
   "skip_h1_title": false,
   "title_cell": "Table of Contents",
   "title_sidebar": "Contents",
   "toc_cell": false,
   "toc_position": {},
   "toc_section_display": true,
   "toc_window_display": false
  }
 },
 "nbformat": 4,
 "nbformat_minor": 2
}
