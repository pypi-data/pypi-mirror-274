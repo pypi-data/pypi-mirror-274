{
 "cells": [
  {
   "cell_type": "code",
   "execution_count": 18,
   "metadata": {},
   "outputs": [],
   "source": [
    "from TINTOlib.refined import REFINED\n",
    "from TINTOlib.igtd import IGTD\n",
    "from sklearn import datasets\n",
    "import pandas as pd"
   ]
  },
  {
   "cell_type": "code",
   "execution_count": 19,
   "metadata": {},
   "outputs": [],
   "source": [
    "# load the data\n",
    "iris = datasets.load_iris()"
   ]
  },
  {
   "cell_type": "code",
   "execution_count": 20,
   "metadata": {},
   "outputs": [
    {
     "name": "stdout",
     "output_type": "stream",
     "text": [
      "(150, 4)\n",
      "(150,)\n"
     ]
    }
   ],
   "source": [
    "print((iris.data).shape)\n",
    "print((iris.target).shape)\n",
    "\n",
    "df = pd.DataFrame(data = iris.data)\n",
    "df[\"targets\"] = iris.target"
   ]
  },
  {
   "cell_type": "code",
   "execution_count": 21,
   "metadata": {},
   "outputs": [],
   "source": [
    "model = IGTD(\n",
    "    scale=(10,4),\n",
    "    # save_image_size=0\n",
    ")\n",
    "model.generateImages(df, \"borrar1\")"
   ]
  },
  {
   "cell_type": "code",
   "execution_count": 22,
   "metadata": {},
   "outputs": [],
   "source": [
    "model = IGTD(\n",
    "    scale=(10,4),\n",
    "    save_image_size=4\n",
    ")\n",
    "model.generateImages(df, \"borrar2\")"
   ]
  },
  {
   "cell_type": "code",
   "execution_count": 23,
   "metadata": {},
   "outputs": [],
   "source": [
    "model = IGTD(\n",
    "    scale=(10,4),\n",
    "    save_image_size=100\n",
    ")\n",
    "model.generateImages(df, \"borrar3\")"
   ]
  },
  {
   "cell_type": "code",
   "execution_count": 24,
   "metadata": {},
   "outputs": [
    {
     "name": "stdout",
     "output_type": "stream",
     "text": [
      "SAVING\n"
     ]
    }
   ],
   "source": [
    "model = REFINED()\n",
    "model.generateImages(df, \"borrar4\")"
   ]
  },
  {
   "cell_type": "code",
   "execution_count": 25,
   "metadata": {},
   "outputs": [
    {
     "name": "stdout",
     "output_type": "stream",
     "text": [
      "SAVING\n"
     ]
    }
   ],
   "source": [
    "model = REFINED(\n",
    "    save_image_size=10\n",
    ")\n",
    "model.generateImages(df, \"borrar5\")"
   ]
  },
  {
   "cell_type": "code",
   "execution_count": 26,
   "metadata": {},
   "outputs": [
    {
     "name": "stdout",
     "output_type": "stream",
     "text": [
      "SAVING\n"
     ]
    }
   ],
   "source": [
    "model = REFINED(\n",
    "    save_image_size=4\n",
    ")\n",
    "model.generateImages(df, \"borrar6\")"
   ]
  }
 ],
 "metadata": {
  "kernelspec": {
   "display_name": "Python 3",
   "language": "python",
   "name": "python3"
  },
  "language_info": {
   "codemirror_mode": {
    "name": "ipython",
    "version": 3
   },
   "file_extension": ".py",
   "mimetype": "text/x-python",
   "name": "python",
   "nbconvert_exporter": "python",
   "pygments_lexer": "ipython3",
   "version": "3.9.13"
  }
 },
 "nbformat": 4,
 "nbformat_minor": 2
}
