{
 "cells": [
  {
   "cell_type": "markdown",
   "metadata": {},
   "source": [
    "# Use UnionLLm"
   ]
  },
  {
   "cell_type": "code",
   "execution_count": 4,
   "metadata": {},
   "outputs": [
    {
     "name": "stdout",
     "output_type": "stream",
     "text": [
      "WARNING: pip is being invoked by an old script wrapper. This will fail in a future version of pip.\n",
      "Please see https://github.com/pypa/pip/issues/5599 for advice on fixing the underlying issue.\n",
      "To avoid this problem you can invoke Python with '-m pip' instead of running pip directly.\n",
      "Requirement already satisfied: unionllm in /opt/homebrew/lib/python3.11/site-packages (0.1.0)\n",
      "Requirement already satisfied: openai in /opt/homebrew/lib/python3.11/site-packages (from unionllm) (1.2.3)\n",
      "Requirement already satisfied: pydantic in /opt/homebrew/lib/python3.11/site-packages (from unionllm) (2.7.0)\n",
      "Requirement already satisfied: zhipuai in /opt/homebrew/lib/python3.11/site-packages (from unionllm) (2.0.1)\n",
      "Requirement already satisfied: tenacity in /opt/homebrew/lib/python3.11/site-packages (from unionllm) (8.2.3)\n",
      "Requirement already satisfied: dashscope in /opt/homebrew/lib/python3.11/site-packages (from unionllm) (1.11.0)\n",
      "Requirement already satisfied: websocket-client in /opt/homebrew/lib/python3.11/site-packages (from unionllm) (1.7.0)\n",
      "Requirement already satisfied: requests in /opt/homebrew/lib/python3.11/site-packages (from unionllm) (2.31.0)\n",
      "Requirement already satisfied: aiohttp in /opt/homebrew/lib/python3.11/site-packages (from dashscope->unionllm) (3.9.3)\n",
      "Requirement already satisfied: anyio<4,>=3.5.0 in /opt/homebrew/lib/python3.11/site-packages (from openai->unionllm) (3.7.1)\n",
      "Requirement already satisfied: distro<2,>=1.7.0 in /opt/homebrew/lib/python3.11/site-packages (from openai->unionllm) (1.9.0)\n",
      "Requirement already satisfied: httpx<1,>=0.23.0 in /opt/homebrew/lib/python3.11/site-packages (from openai->unionllm) (0.25.2)\n",
      "Requirement already satisfied: tqdm>4 in /opt/homebrew/lib/python3.11/site-packages (from openai->unionllm) (4.66.2)\n",
      "Requirement already satisfied: typing-extensions<5,>=4.5 in /opt/homebrew/lib/python3.11/site-packages (from openai->unionllm) (4.9.0)\n",
      "Requirement already satisfied: annotated-types>=0.4.0 in /opt/homebrew/lib/python3.11/site-packages (from pydantic->unionllm) (0.6.0)\n",
      "Requirement already satisfied: pydantic-core==2.18.1 in /opt/homebrew/lib/python3.11/site-packages (from pydantic->unionllm) (2.18.1)\n",
      "Requirement already satisfied: charset-normalizer<4,>=2 in /opt/homebrew/lib/python3.11/site-packages (from requests->unionllm) (3.3.2)\n",
      "Requirement already satisfied: idna<4,>=2.5 in /opt/homebrew/lib/python3.11/site-packages (from requests->unionllm) (3.6)\n",
      "Requirement already satisfied: urllib3<3,>=1.21.1 in /opt/homebrew/lib/python3.11/site-packages (from requests->unionllm) (2.0.7)\n",
      "Requirement already satisfied: certifi>=2017.4.17 in /opt/homebrew/lib/python3.11/site-packages (from requests->unionllm) (2023.11.17)\n",
      "Requirement already satisfied: cachetools>=4.2.2 in /opt/homebrew/lib/python3.11/site-packages (from zhipuai->unionllm) (5.3.1)\n",
      "Requirement already satisfied: pyjwt~=2.8.0 in /opt/homebrew/lib/python3.11/site-packages (from zhipuai->unionllm) (2.8.0)\n",
      "Requirement already satisfied: sniffio>=1.1 in /opt/homebrew/lib/python3.11/site-packages (from anyio<4,>=3.5.0->openai->unionllm) (1.3.0)\n",
      "Requirement already satisfied: httpcore==1.* in /opt/homebrew/lib/python3.11/site-packages (from httpx<1,>=0.23.0->openai->unionllm) (1.0.4)\n",
      "Requirement already satisfied: h11<0.15,>=0.13 in /opt/homebrew/lib/python3.11/site-packages (from httpcore==1.*->httpx<1,>=0.23.0->openai->unionllm) (0.14.0)\n",
      "Requirement already satisfied: aiosignal>=1.1.2 in /opt/homebrew/lib/python3.11/site-packages (from aiohttp->dashscope->unionllm) (1.3.1)\n",
      "Requirement already satisfied: attrs>=17.3.0 in /opt/homebrew/lib/python3.11/site-packages (from aiohttp->dashscope->unionllm) (23.2.0)\n",
      "Requirement already satisfied: frozenlist>=1.1.1 in /opt/homebrew/lib/python3.11/site-packages (from aiohttp->dashscope->unionllm) (1.4.1)\n",
      "Requirement already satisfied: multidict<7.0,>=4.5 in /opt/homebrew/lib/python3.11/site-packages (from aiohttp->dashscope->unionllm) (6.0.5)\n",
      "Requirement already satisfied: yarl<2.0,>=1.0 in /opt/homebrew/lib/python3.11/site-packages (from aiohttp->dashscope->unionllm) (1.9.4)\n"
     ]
    }
   ],
   "source": [
    "!pip install unionllm"
   ]
  },
  {
   "cell_type": "code",
   "execution_count": 5,
   "metadata": {},
   "outputs": [],
   "source": [
    "from unionllm import UnionLLM"
   ]
  },
  {
   "cell_type": "code",
   "execution_count": 6,
   "metadata": {},
   "outputs": [
    {
     "name": "stdout",
     "output_type": "stream",
     "text": [
      "history is: [{'role': 'user', 'content': '早上好，我的名字叫张月', 'content_type': 'text'}, {'role': 'assistant', 'content': '好的，我记住了', 'type': 'answer', 'content_type': 'text'}]\n",
      "payload is: {\"query\": \"\\u8bf7\\u91cd\\u590d\\u6211\\u7684\\u540d\\u5b57\", \"user\": \"617f464690313508c\", \"bot_id\": \"7355829428481769477\", \"chat_history\": [{\"role\": \"user\", \"content\": \"\\u65e9\\u4e0a\\u597d\\uff0c\\u6211\\u7684\\u540d\\u5b57\\u53eb\\u5f20\\u6708\", \"content_type\": \"text\"}, {\"role\": \"assistant\", \"content\": \"\\u597d\\u7684\\uff0c\\u6211\\u8bb0\\u4f4f\\u4e86\", \"type\": \"answer\", \"content_type\": \"text\"}], \"steam\": false}\n",
      "messages is: [{'role': 'assistant', 'type': 'verbose', 'content': '{\"verbose_type\":\"knowledge\",\"prompt\":\"\\\\n# 回答规则\\\\n根据引用的内容回答问题:\\\\n1.如果引用的内容里面包含 \\\\u003cimg src=\\\\\"\\\\\"\\\\u003e 的标签, 标签里的 src 字段表示图片地址, 可以在回答问题的时候展示出去, 输出格式为\\\\\"![图片名称](图片地址)\\\\\" \\\\n2.如果引用的内容不包含 \\\\u003cimg src=\\\\\"\\\\\"\\\\u003e 的标签, 你回答问题时不需要展示图片 \\\\n\\\\n# 引用的内容 \\\\n\",\"chunks\":[]}', 'content_type': 'text'}, {'role': 'assistant', 'type': 'answer', 'content': '好的，你的名字叫张月。', 'content_type': 'text'}, {'role': 'assistant', 'type': 'verbose', 'content': '{\"msg_type\":\"generate_answer_finish\",\"data\":\"\"}', 'content_type': 'text'}]\n",
      "content is: {'verbose_type': 'knowledge', 'prompt': '\\n# 回答规则\\n根据引用的内容回答问题:\\n1.如果引用的内容里面包含 <img src=\"\"> 的标签, 标签里的 src 字段表示图片地址, 可以在回答问题的时候展示出去, 输出格式为\"![图片名称](图片地址)\" \\n2.如果引用的内容不包含 <img src=\"\"> 的标签, 你回答问题时不需要展示图片 \\n\\n# 引用的内容 \\n', 'chunks': []}\n",
      "content is: {'msg_type': 'generate_answer_finish', 'data': ''}\n",
      "ModelResponse(id='3183c16b01f2443abe215d8264b05274', choices=[Choices(finish_reason='stop', index=0, message=Message(content='好的，你的名字叫张月。', role='assistant'))], created=1715188287, model='', object='chat.completion', system_fingerprint=None, usage=Usage(), context=[])\n"
     ]
    }
   ],
   "source": [
    "messages = [\n",
    "    {\n",
    "        \"role\": \"user\",\n",
    "        \"content\": \"早上好，我的名字叫张月\"\n",
    "    },\n",
    "    {\n",
    "        \"role\": \"assistant\",\n",
    "        \"content\": \"好的，我记住了\"\n",
    "    },\n",
    "    {\n",
    "        \"role\": \"user\",\n",
    "        \"content\": \"请重复我的名字\"\n",
    "    }\n",
    "]\n",
    "model = \"7355829428481769477\"\n",
    "api_key = \"pat_hodyfcRog0CfCAfEMtKAueI1I8yD2tDuDBSrvSRoXhKm1xLCw0HDiePtEVgRFHzt\"\n",
    "model_kwargs = {\n",
    "    \"provider\": \"coze\",\n",
    "    \"api_key\": api_key,\n",
    "}\n",
    "params = {\n",
    "    \"stream\": False,\n",
    "    \"details\": True\n",
    "}\n",
    "# 通过模型连接参数构建客户端\n",
    "client = UnionLLM(**model_kwargs)\n",
    "# 获取模型的输出\n",
    "response = client.completion(model=model, messages=messages, **params)\n",
    "print(response)"
   ]
  }
 ],
 "metadata": {
  "kernelspec": {
   "display_name": "Python 3",
   "language": "python",
   "name": "python3"
  },
  "language_info": {
   "codemirror_mode": {
    "name": "ipython",
    "version": 3
   },
   "file_extension": ".py",
   "mimetype": "text/x-python",
   "name": "python",
   "nbconvert_exporter": "python",
   "pygments_lexer": "ipython3",
   "version": "3.11.9"
  }
 },
 "nbformat": 4,
 "nbformat_minor": 2
}
