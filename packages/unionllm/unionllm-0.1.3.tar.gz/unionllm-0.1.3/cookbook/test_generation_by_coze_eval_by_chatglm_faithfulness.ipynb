{
 "cells": [
  {
   "cell_type": "code",
   "execution_count": 1,
   "metadata": {},
   "outputs": [
    {
     "name": "stdout",
     "output_type": "stream",
     "text": [
      "WARNING: pip is being invoked by an old script wrapper. This will fail in a future version of pip.\n",
      "Please see https://github.com/pypa/pip/issues/5599 for advice on fixing the underlying issue.\n",
      "To avoid this problem you can invoke Python with '-m pip' instead of running pip directly.\n",
      "Requirement already satisfied: unionllm in /opt/homebrew/lib/python3.11/site-packages (0.1.0)\n",
      "Requirement already satisfied: openai in /opt/homebrew/lib/python3.11/site-packages (from unionllm) (1.28.0)\n",
      "Requirement already satisfied: pydantic in /opt/homebrew/lib/python3.11/site-packages (from unionllm) (2.7.0)\n",
      "Requirement already satisfied: zhipuai in /opt/homebrew/lib/python3.11/site-packages (from unionllm) (2.0.1)\n",
      "Requirement already satisfied: tenacity in /opt/homebrew/lib/python3.11/site-packages (from unionllm) (8.2.3)\n",
      "Requirement already satisfied: dashscope in /opt/homebrew/lib/python3.11/site-packages (from unionllm) (1.11.0)\n",
      "Requirement already satisfied: websocket-client in /opt/homebrew/lib/python3.11/site-packages (from unionllm) (1.7.0)\n",
      "Requirement already satisfied: requests in /opt/homebrew/lib/python3.11/site-packages (from unionllm) (2.31.0)\n",
      "Requirement already satisfied: aiohttp in /opt/homebrew/lib/python3.11/site-packages (from dashscope->unionllm) (3.9.3)\n",
      "Requirement already satisfied: anyio<5,>=3.5.0 in /opt/homebrew/lib/python3.11/site-packages (from openai->unionllm) (3.7.1)\n",
      "Requirement already satisfied: distro<2,>=1.7.0 in /opt/homebrew/lib/python3.11/site-packages (from openai->unionllm) (1.9.0)\n",
      "Requirement already satisfied: httpx<1,>=0.23.0 in /opt/homebrew/lib/python3.11/site-packages (from openai->unionllm) (0.25.2)\n",
      "Requirement already satisfied: sniffio in /opt/homebrew/lib/python3.11/site-packages (from openai->unionllm) (1.3.0)\n",
      "Requirement already satisfied: tqdm>4 in /opt/homebrew/lib/python3.11/site-packages (from openai->unionllm) (4.66.2)\n",
      "Requirement already satisfied: typing-extensions<5,>=4.7 in /opt/homebrew/lib/python3.11/site-packages (from openai->unionllm) (4.9.0)\n",
      "Requirement already satisfied: annotated-types>=0.4.0 in /opt/homebrew/lib/python3.11/site-packages (from pydantic->unionllm) (0.6.0)\n",
      "Requirement already satisfied: pydantic-core==2.18.1 in /opt/homebrew/lib/python3.11/site-packages (from pydantic->unionllm) (2.18.1)\n",
      "Requirement already satisfied: charset-normalizer<4,>=2 in /opt/homebrew/lib/python3.11/site-packages (from requests->unionllm) (3.3.2)\n",
      "Requirement already satisfied: idna<4,>=2.5 in /opt/homebrew/lib/python3.11/site-packages (from requests->unionllm) (3.6)\n",
      "Requirement already satisfied: urllib3<3,>=1.21.1 in /opt/homebrew/lib/python3.11/site-packages (from requests->unionllm) (2.0.7)\n",
      "Requirement already satisfied: certifi>=2017.4.17 in /opt/homebrew/lib/python3.11/site-packages (from requests->unionllm) (2023.11.17)\n",
      "Requirement already satisfied: cachetools>=4.2.2 in /opt/homebrew/lib/python3.11/site-packages (from zhipuai->unionllm) (5.3.1)\n",
      "Requirement already satisfied: pyjwt~=2.8.0 in /opt/homebrew/lib/python3.11/site-packages (from zhipuai->unionllm) (2.8.0)\n",
      "Requirement already satisfied: httpcore==1.* in /opt/homebrew/lib/python3.11/site-packages (from httpx<1,>=0.23.0->openai->unionllm) (1.0.4)\n",
      "Requirement already satisfied: h11<0.15,>=0.13 in /opt/homebrew/lib/python3.11/site-packages (from httpcore==1.*->httpx<1,>=0.23.0->openai->unionllm) (0.14.0)\n",
      "Requirement already satisfied: aiosignal>=1.1.2 in /opt/homebrew/lib/python3.11/site-packages (from aiohttp->dashscope->unionllm) (1.3.1)\n",
      "Requirement already satisfied: attrs>=17.3.0 in /opt/homebrew/lib/python3.11/site-packages (from aiohttp->dashscope->unionllm) (23.2.0)\n",
      "Requirement already satisfied: frozenlist>=1.1.1 in /opt/homebrew/lib/python3.11/site-packages (from aiohttp->dashscope->unionllm) (1.4.1)\n",
      "Requirement already satisfied: multidict<7.0,>=4.5 in /opt/homebrew/lib/python3.11/site-packages (from aiohttp->dashscope->unionllm) (6.0.5)\n",
      "Requirement already satisfied: yarl<2.0,>=1.0 in /opt/homebrew/lib/python3.11/site-packages (from aiohttp->dashscope->unionllm) (1.9.4)\n",
      "WARNING: pip is being invoked by an old script wrapper. This will fail in a future version of pip.\n",
      "Please see https://github.com/pypa/pip/issues/5599 for advice on fixing the underlying issue.\n",
      "To avoid this problem you can invoke Python with '-m pip' instead of running pip directly.\n",
      "Requirement already satisfied: zeval in /opt/homebrew/lib/python3.11/site-packages (0.1.0)\n",
      "Requirement already satisfied: datasets in /opt/homebrew/lib/python3.11/site-packages (from zeval) (2.17.1)\n",
      "Requirement already satisfied: openai in /opt/homebrew/lib/python3.11/site-packages (from zeval) (1.28.0)\n",
      "Requirement already satisfied: unionllm in /opt/homebrew/lib/python3.11/site-packages (from zeval) (0.1.0)\n",
      "Requirement already satisfied: filelock in /opt/homebrew/lib/python3.11/site-packages (from datasets->zeval) (3.13.1)\n",
      "Requirement already satisfied: numpy>=1.17 in /opt/homebrew/lib/python3.11/site-packages (from datasets->zeval) (1.26.4)\n",
      "Requirement already satisfied: pyarrow>=12.0.0 in /opt/homebrew/lib/python3.11/site-packages (from datasets->zeval) (15.0.0)\n",
      "Requirement already satisfied: pyarrow-hotfix in /opt/homebrew/lib/python3.11/site-packages (from datasets->zeval) (0.6)\n",
      "Requirement already satisfied: dill<0.3.9,>=0.3.0 in /opt/homebrew/lib/python3.11/site-packages (from datasets->zeval) (0.3.8)\n",
      "Requirement already satisfied: pandas in /opt/homebrew/lib/python3.11/site-packages (from datasets->zeval) (2.2.1)\n",
      "Requirement already satisfied: requests>=2.19.0 in /opt/homebrew/lib/python3.11/site-packages (from datasets->zeval) (2.31.0)\n",
      "Requirement already satisfied: tqdm>=4.62.1 in /opt/homebrew/lib/python3.11/site-packages (from datasets->zeval) (4.66.2)\n",
      "Requirement already satisfied: xxhash in /opt/homebrew/lib/python3.11/site-packages (from datasets->zeval) (3.4.1)\n",
      "Requirement already satisfied: multiprocess in /opt/homebrew/lib/python3.11/site-packages (from datasets->zeval) (0.70.16)\n",
      "Requirement already satisfied: fsspec<=2023.10.0,>=2023.1.0 in /opt/homebrew/lib/python3.11/site-packages (from fsspec[http]<=2023.10.0,>=2023.1.0->datasets->zeval) (2023.10.0)\n",
      "Requirement already satisfied: aiohttp in /opt/homebrew/lib/python3.11/site-packages (from datasets->zeval) (3.9.3)\n",
      "Requirement already satisfied: huggingface-hub>=0.19.4 in /opt/homebrew/lib/python3.11/site-packages (from datasets->zeval) (0.20.3)\n",
      "Requirement already satisfied: packaging in /opt/homebrew/lib/python3.11/site-packages (from datasets->zeval) (23.2)\n",
      "Requirement already satisfied: pyyaml>=5.1 in /opt/homebrew/lib/python3.11/site-packages (from datasets->zeval) (6.0.1)\n",
      "Requirement already satisfied: anyio<5,>=3.5.0 in /opt/homebrew/lib/python3.11/site-packages (from openai->zeval) (3.7.1)\n",
      "Requirement already satisfied: distro<2,>=1.7.0 in /opt/homebrew/lib/python3.11/site-packages (from openai->zeval) (1.9.0)\n",
      "Requirement already satisfied: httpx<1,>=0.23.0 in /opt/homebrew/lib/python3.11/site-packages (from openai->zeval) (0.25.2)\n",
      "Requirement already satisfied: pydantic<3,>=1.9.0 in /opt/homebrew/lib/python3.11/site-packages (from openai->zeval) (2.7.0)\n",
      "Requirement already satisfied: sniffio in /opt/homebrew/lib/python3.11/site-packages (from openai->zeval) (1.3.0)\n",
      "Requirement already satisfied: typing-extensions<5,>=4.7 in /opt/homebrew/lib/python3.11/site-packages (from openai->zeval) (4.9.0)\n",
      "Requirement already satisfied: zhipuai in /opt/homebrew/lib/python3.11/site-packages (from unionllm->zeval) (2.0.1)\n",
      "Requirement already satisfied: tenacity in /opt/homebrew/lib/python3.11/site-packages (from unionllm->zeval) (8.2.3)\n",
      "Requirement already satisfied: dashscope in /opt/homebrew/lib/python3.11/site-packages (from unionllm->zeval) (1.11.0)\n",
      "Requirement already satisfied: websocket-client in /opt/homebrew/lib/python3.11/site-packages (from unionllm->zeval) (1.7.0)\n",
      "Requirement already satisfied: idna>=2.8 in /opt/homebrew/lib/python3.11/site-packages (from anyio<5,>=3.5.0->openai->zeval) (3.6)\n",
      "Requirement already satisfied: aiosignal>=1.1.2 in /opt/homebrew/lib/python3.11/site-packages (from aiohttp->datasets->zeval) (1.3.1)\n",
      "Requirement already satisfied: attrs>=17.3.0 in /opt/homebrew/lib/python3.11/site-packages (from aiohttp->datasets->zeval) (23.2.0)\n",
      "Requirement already satisfied: frozenlist>=1.1.1 in /opt/homebrew/lib/python3.11/site-packages (from aiohttp->datasets->zeval) (1.4.1)\n",
      "Requirement already satisfied: multidict<7.0,>=4.5 in /opt/homebrew/lib/python3.11/site-packages (from aiohttp->datasets->zeval) (6.0.5)\n",
      "Requirement already satisfied: yarl<2.0,>=1.0 in /opt/homebrew/lib/python3.11/site-packages (from aiohttp->datasets->zeval) (1.9.4)\n",
      "Requirement already satisfied: certifi in /opt/homebrew/lib/python3.11/site-packages (from httpx<1,>=0.23.0->openai->zeval) (2023.11.17)\n",
      "Requirement already satisfied: httpcore==1.* in /opt/homebrew/lib/python3.11/site-packages (from httpx<1,>=0.23.0->openai->zeval) (1.0.4)\n",
      "Requirement already satisfied: h11<0.15,>=0.13 in /opt/homebrew/lib/python3.11/site-packages (from httpcore==1.*->httpx<1,>=0.23.0->openai->zeval) (0.14.0)\n",
      "Requirement already satisfied: annotated-types>=0.4.0 in /opt/homebrew/lib/python3.11/site-packages (from pydantic<3,>=1.9.0->openai->zeval) (0.6.0)\n",
      "Requirement already satisfied: pydantic-core==2.18.1 in /opt/homebrew/lib/python3.11/site-packages (from pydantic<3,>=1.9.0->openai->zeval) (2.18.1)\n",
      "Requirement already satisfied: charset-normalizer<4,>=2 in /opt/homebrew/lib/python3.11/site-packages (from requests>=2.19.0->datasets->zeval) (3.3.2)\n",
      "Requirement already satisfied: urllib3<3,>=1.21.1 in /opt/homebrew/lib/python3.11/site-packages (from requests>=2.19.0->datasets->zeval) (2.0.7)\n",
      "Requirement already satisfied: python-dateutil>=2.8.2 in /opt/homebrew/lib/python3.11/site-packages (from pandas->datasets->zeval) (2.8.2)\n",
      "Requirement already satisfied: pytz>=2020.1 in /opt/homebrew/lib/python3.11/site-packages (from pandas->datasets->zeval) (2024.1)\n",
      "Requirement already satisfied: tzdata>=2022.7 in /opt/homebrew/lib/python3.11/site-packages (from pandas->datasets->zeval) (2024.1)\n",
      "Requirement already satisfied: cachetools>=4.2.2 in /opt/homebrew/lib/python3.11/site-packages (from zhipuai->unionllm->zeval) (5.3.1)\n",
      "Requirement already satisfied: pyjwt~=2.8.0 in /opt/homebrew/lib/python3.11/site-packages (from zhipuai->unionllm->zeval) (2.8.0)\n",
      "Requirement already satisfied: six>=1.5 in /opt/homebrew/lib/python3.11/site-packages (from python-dateutil>=2.8.2->pandas->datasets->zeval) (1.16.0)\n"
     ]
    }
   ],
   "source": [
    "!pip install unionllm\n",
    "!pip install zeval"
   ]
  },
  {
   "cell_type": "code",
   "execution_count": 2,
   "metadata": {},
   "outputs": [
    {
     "name": "stderr",
     "output_type": "stream",
     "text": [
      "/opt/homebrew/lib/python3.11/site-packages/tqdm/auto.py:21: TqdmWarning: IProgress not found. Please update jupyter and ipywidgets. See https://ipywidgets.readthedocs.io/en/stable/user_install.html\n",
      "  from .autonotebook import tqdm as notebook_tqdm\n"
     ]
    }
   ],
   "source": [
    "# install the required packages\n",
    "from unionllm import unionchat\n",
    "from datasets import Dataset\n",
    "from zeval.evaluation import evaluate\n",
    "from zeval.evaluators import Faithfulness, AnswerRelevancy, ContextRecall, ContextPrecision\n",
    "# from evalsone import EvalsOne"
   ]
  },
  {
   "cell_type": "code",
   "execution_count": 3,
   "metadata": {},
   "outputs": [
    {
     "name": "stdout",
     "output_type": "stream",
     "text": [
      "history is: []\n",
      "payload is: {\"query\": \"\\u667a\\u5546\\u6d4b\\u8bd5\", \"user\": \"6181924e67d857563\", \"bot_id\": \"7355829428481769477\", \"chat_history\": [], \"steam\": false}\n",
      "messages is: [{'role': 'assistant', 'type': 'verbose', 'content': '{\"verbose_type\":\"knowledge\",\"prompt\":\"\\\\n# 回答规则\\\\n根据引用的内容回答问题:\\\\n1.如果引用的内容里面包含 \\\\u003cimg src=\\\\\"\\\\\"\\\\u003e 的标签, 标签里的 src 字段表示图片地址, 可以在回答问题的时候展示出去, 输出格式为\\\\\"![图片名称](图片地址)\\\\\" \\\\n2.如果引用的内容不包含 \\\\u003cimg src=\\\\\"\\\\\"\\\\u003e 的标签, 你回答问题时不需要展示图片 \\\\n\\\\n# 引用的内容 \\\\nsection 1 start:\\\\nhigh priority:\\\\n sql: SELECT * FROM processed_questions_and_answers WHERE question LIKE \\'%智商测试%\\' OR answer LIKE \\'%智商测试%\\'\\\\n result: [{\\\\\"answer\\\\\":\\\\\"瑞文智力测验的题目对于高智力人群的区分度有限，因此当受测者的智力高于135时，我们统称之为135+。建议您寻找其他测试量表获得更具体的智商得分，例如韦氏智力测试等。我们也提供一套瑞文高级智力测验，可供您参考选择。但受限于试题本身的知识维度、测验方式、测试环境、试题数量、及出题时间等多种因素，任何智力测验都有一定的局限性，难以做到绝对精确的测量，因此结果仅供参考。\\\\\",\\\\\"question\\\\\":\\\\\"智商测试报告显示是135+以上，能获得具体的数值吗？\\\\\"}]\\\\nsection 1 ends.\\\\nsection 2 start:\\\\n{\\\\\"answer\\\\\":\\\\\"心理测评为虚拟产品，购买后一般不支持退款，请您理解。如果您有特殊的理由，请从微信支付里找到交易的订单号(420000开头的一串数字)发送给我们并说明申请退款的理由，我们收到并核实后会与您联系。\\\\\",\\\\\"question\\\\\":\\\\\"智力测验退款\\\\\"}\\\\nsection 2 ends.\\\\nsection 3 start:\\\\n{\\\\\"answer\\\\\":\\\\\"\\\\\",\\\\\"question\\\\\":\\\\\"瑞文标准智力测验：你有多聪明？,http://p.melbacastillo.top/pquiz/rend/2725039?retake=1\\\\\\\\u0026cstr=5c987b7c4001f\\\\\"}\\\\nsection 3 ends.\\\\nsection 4 start:\\\\n{\\\\\"answer\\\\\":\\\\\"瑞文标准智力测验是国际上广受认可的智力测验工具。它是一种纯粹的非文字智力测验，所以广泛应用于无国界的智力/推理能力测试。具有较高的信度和效度。《最强大脑》中采用的就是这种智力测量标准。瑞文智力测验结果与测试参与者在测验时的精神状态，周边环境等多种因素有关，波动范围大约在3至15分左右（百分比等级分数）。\\\\\",\\\\\"question\\\\\":\\\\\"瑞文智力测验的结果可信吗？\\\\\"}\\\\nsection 4 ends.\\\\n\",\"chunks\":[{\"slice\":\"high priority:\\\\n sql: SELECT * FROM processed_questions_and_answers WHERE question LIKE \\'%智商测试%\\' OR answer LIKE \\'%智商测试%\\'\\\\n result: [{\\\\\"answer\\\\\":\\\\\"瑞文智力测验的题目对于高智力人群的区分度有限，因此当受测者的智力高于135时，我们统称之为135+。建议您寻找其他测试量表获得更具体的智商得分，例如韦氏智力测试等。我们也提供一套瑞文高级智力测验，可供您参考选择。但受限于试题本身的知识维度、测验方式、测试环境、试题数量、及出题时间等多种因素，任何智力测验都有一定的局限性，难以做到绝对精确的测量，因此结果仅供参考。\\\\\",\\\\\"question\\\\\":\\\\\"智商测试报告显示是135+以上，能获得具体的数值吗？\\\\\"}]\",\"score\":0,\"meta\":{\"dataset\":{\"id\":\"7355828816272605190\",\"name\":\"mofang_service\"},\"document\":{\"id\":\"7355828816272703494\",\"name\":\"processed_questions_and_answers\",\"format_type\":1,\"source_type\":0},\"link\":{\"title\":\"mofang_service\",\"url\":\"\"}}},{\"slice\":\"{\\\\\"answer\\\\\":\\\\\"心理测评为虚拟产品，购买后一般不支持退款，请您理解。如果您有特殊的理由，请从微信支付里找到交易的订单号(420000开头的一串数字)发送给我们并说明申请退款的理由，我们收到并核实后会与您联系。\\\\\",\\\\\"question\\\\\":\\\\\"智力测验退款\\\\\"}\",\"score\":0.79541015625,\"meta\":{\"dataset\":{\"id\":\"7355828816272605190\",\"name\":\"mofang_service\"},\"document\":{\"id\":\"7355828816272703494\",\"name\":\"processed_questions_and_answers\",\"format_type\":1,\"source_type\":0},\"link\":{\"title\":\"mofang_service\",\"url\":\"\"}}},{\"slice\":\"{\\\\\"answer\\\\\":\\\\\"\\\\\",\\\\\"question\\\\\":\\\\\"瑞文标准智力测验：你有多聪明？,http://p.melbacastillo.top/pquiz/rend/2725039?retake=1\\\\\\\\u0026cstr=5c987b7c4001f\\\\\"}\",\"score\":0.59912109375,\"meta\":{\"dataset\":{\"id\":\"7355828816272605190\",\"name\":\"mofang_service\"},\"document\":{\"id\":\"7355828816272703494\",\"name\":\"processed_questions_and_answers\",\"format_type\":1,\"source_type\":0},\"link\":{\"title\":\"mofang_service\",\"url\":\"\"}}},{\"slice\":\"{\\\\\"answer\\\\\":\\\\\"瑞文标准智力测验是国际上广受认可的智力测验工具。它是一种纯粹的非文字智力测验，所以广泛应用于无国界的智力/推理能力测试。具有较高的信度和效度。《最强大脑》中采用的就是这种智力测量标准。瑞文智力测验结果与测试参与者在测验时的精神状态，周边环境等多种因素有关，波动范围大约在3至15分左右（百分比等级分数）。\\\\\",\\\\\"question\\\\\":\\\\\"瑞文智力测验的结果可信吗？\\\\\"}\",\"score\":0.52099609375,\"meta\":{\"dataset\":{\"id\":\"7355828816272605190\",\"name\":\"mofang_service\"},\"document\":{\"id\":\"7355828816272703494\",\"name\":\"processed_questions_and_answers\",\"format_type\":1,\"source_type\":0},\"link\":{\"title\":\"mofang_service\",\"url\":\"\"}}}]}', 'content_type': 'text'}, {'role': 'assistant', 'type': 'answer', 'content': '智商测试是衡量一个人智力水平的工具。我可以提供一些关于智商测试的信息。\\n\\n一款常用的智力测验是瑞文标准智力测验，这是一种被广泛认可的智力测验工具。瑞文标准智力测验是一种纯粹的非文字智力测验，对无国界的智力/推理能力进行测试，具有较高的信度和效度。在《最强大脑》中也采用了这种智力测量标准。瑞文智力测验的结果与被测者在测验时的精神状态，周边环境等多种因素有关，波动范围大约在3至15分左右（百分比等级分数）。\\n\\n如果你对瑞文标准智力测验感兴趣，你可以从这个链接进行测验：[你有多聪明？](http://p.melbacastillo.top/pquiz/rend/2725039?retake=1\\\\u0026cstr=5c987b7c4001f)。\\n\\n需要注意，智商测试报告如果显示是135+以上，那么这个测试的区分度有限，因此当受测者的智力高于135时，我们统称之为135+。如果你希望获得更具体的智商得分，建议使用其他测试量表，例如韦氏智力测试等。我们也提供一套瑞文高级智力测验，可供你参考选择。但请记住，任何智力测验都有一定的局限性，因此结果应仅供参考。\\n\\n此外，如果你已经购买了心理测评，需要注意这类虚拟产品一般是不支持退款的。如果有特殊理由需要退款，可以找到交易的订单号(420000开头的一串数字)发送给我们，并说明申请退款的理由，我们会在收到并核实后与你联系。', 'content_type': 'text'}, {'role': 'assistant', 'type': 'verbose', 'content': '{\"msg_type\":\"generate_answer_finish\",\"data\":\"\"}', 'content_type': 'text'}]\n",
      "content is: {'verbose_type': 'knowledge', 'prompt': '\\n# 回答规则\\n根据引用的内容回答问题:\\n1.如果引用的内容里面包含 <img src=\"\"> 的标签, 标签里的 src 字段表示图片地址, 可以在回答问题的时候展示出去, 输出格式为\"![图片名称](图片地址)\" \\n2.如果引用的内容不包含 <img src=\"\"> 的标签, 你回答问题时不需要展示图片 \\n\\n# 引用的内容 \\nsection 1 start:\\nhigh priority:\\n sql: SELECT * FROM processed_questions_and_answers WHERE question LIKE \\'%智商测试%\\' OR answer LIKE \\'%智商测试%\\'\\n result: [{\"answer\":\"瑞文智力测验的题目对于高智力人群的区分度有限，因此当受测者的智力高于135时，我们统称之为135+。建议您寻找其他测试量表获得更具体的智商得分，例如韦氏智力测试等。我们也提供一套瑞文高级智力测验，可供您参考选择。但受限于试题本身的知识维度、测验方式、测试环境、试题数量、及出题时间等多种因素，任何智力测验都有一定的局限性，难以做到绝对精确的测量，因此结果仅供参考。\",\"question\":\"智商测试报告显示是135+以上，能获得具体的数值吗？\"}]\\nsection 1 ends.\\nsection 2 start:\\n{\"answer\":\"心理测评为虚拟产品，购买后一般不支持退款，请您理解。如果您有特殊的理由，请从微信支付里找到交易的订单号(420000开头的一串数字)发送给我们并说明申请退款的理由，我们收到并核实后会与您联系。\",\"question\":\"智力测验退款\"}\\nsection 2 ends.\\nsection 3 start:\\n{\"answer\":\"\",\"question\":\"瑞文标准智力测验：你有多聪明？,http://p.melbacastillo.top/pquiz/rend/2725039?retake=1\\\\u0026cstr=5c987b7c4001f\"}\\nsection 3 ends.\\nsection 4 start:\\n{\"answer\":\"瑞文标准智力测验是国际上广受认可的智力测验工具。它是一种纯粹的非文字智力测验，所以广泛应用于无国界的智力/推理能力测试。具有较高的信度和效度。《最强大脑》中采用的就是这种智力测量标准。瑞文智力测验结果与测试参与者在测验时的精神状态，周边环境等多种因素有关，波动范围大约在3至15分左右（百分比等级分数）。\",\"question\":\"瑞文智力测验的结果可信吗？\"}\\nsection 4 ends.\\n', 'chunks': [{'slice': 'high priority:\\n sql: SELECT * FROM processed_questions_and_answers WHERE question LIKE \\'%智商测试%\\' OR answer LIKE \\'%智商测试%\\'\\n result: [{\"answer\":\"瑞文智力测验的题目对于高智力人群的区分度有限，因此当受测者的智力高于135时，我们统称之为135+。建议您寻找其他测试量表获得更具体的智商得分，例如韦氏智力测试等。我们也提供一套瑞文高级智力测验，可供您参考选择。但受限于试题本身的知识维度、测验方式、测试环境、试题数量、及出题时间等多种因素，任何智力测验都有一定的局限性，难以做到绝对精确的测量，因此结果仅供参考。\",\"question\":\"智商测试报告显示是135+以上，能获得具体的数值吗？\"}]', 'score': 0, 'meta': {'dataset': {'id': '7355828816272605190', 'name': 'mofang_service'}, 'document': {'id': '7355828816272703494', 'name': 'processed_questions_and_answers', 'format_type': 1, 'source_type': 0}, 'link': {'title': 'mofang_service', 'url': ''}}}, {'slice': '{\"answer\":\"心理测评为虚拟产品，购买后一般不支持退款，请您理解。如果您有特殊的理由，请从微信支付里找到交易的订单号(420000开头的一串数字)发送给我们并说明申请退款的理由，我们收到并核实后会与您联系。\",\"question\":\"智力测验退款\"}', 'score': 0.79541015625, 'meta': {'dataset': {'id': '7355828816272605190', 'name': 'mofang_service'}, 'document': {'id': '7355828816272703494', 'name': 'processed_questions_and_answers', 'format_type': 1, 'source_type': 0}, 'link': {'title': 'mofang_service', 'url': ''}}}, {'slice': '{\"answer\":\"\",\"question\":\"瑞文标准智力测验：你有多聪明？,http://p.melbacastillo.top/pquiz/rend/2725039?retake=1\\\\u0026cstr=5c987b7c4001f\"}', 'score': 0.59912109375, 'meta': {'dataset': {'id': '7355828816272605190', 'name': 'mofang_service'}, 'document': {'id': '7355828816272703494', 'name': 'processed_questions_and_answers', 'format_type': 1, 'source_type': 0}, 'link': {'title': 'mofang_service', 'url': ''}}}, {'slice': '{\"answer\":\"瑞文标准智力测验是国际上广受认可的智力测验工具。它是一种纯粹的非文字智力测验，所以广泛应用于无国界的智力/推理能力测试。具有较高的信度和效度。《最强大脑》中采用的就是这种智力测量标准。瑞文智力测验结果与测试参与者在测验时的精神状态，周边环境等多种因素有关，波动范围大约在3至15分左右（百分比等级分数）。\",\"question\":\"瑞文智力测验的结果可信吗？\"}', 'score': 0.52099609375, 'meta': {'dataset': {'id': '7355828816272605190', 'name': 'mofang_service'}, 'document': {'id': '7355828816272703494', 'name': 'processed_questions_and_answers', 'format_type': 1, 'source_type': 0}, 'link': {'title': 'mofang_service', 'url': ''}}}]}\n",
      "chunk is: {'slice': 'high priority:\\n sql: SELECT * FROM processed_questions_and_answers WHERE question LIKE \\'%智商测试%\\' OR answer LIKE \\'%智商测试%\\'\\n result: [{\"answer\":\"瑞文智力测验的题目对于高智力人群的区分度有限，因此当受测者的智力高于135时，我们统称之为135+。建议您寻找其他测试量表获得更具体的智商得分，例如韦氏智力测试等。我们也提供一套瑞文高级智力测验，可供您参考选择。但受限于试题本身的知识维度、测验方式、测试环境、试题数量、及出题时间等多种因素，任何智力测验都有一定的局限性，难以做到绝对精确的测量，因此结果仅供参考。\",\"question\":\"智商测试报告显示是135+以上，能获得具体的数值吗？\"}]', 'score': 0, 'meta': {'dataset': {'id': '7355828816272605190', 'name': 'mofang_service'}, 'document': {'id': '7355828816272703494', 'name': 'processed_questions_and_answers', 'format_type': 1, 'source_type': 0}, 'link': {'title': 'mofang_service', 'url': ''}}}\n",
      "chunk is: {'slice': '{\"answer\":\"心理测评为虚拟产品，购买后一般不支持退款，请您理解。如果您有特殊的理由，请从微信支付里找到交易的订单号(420000开头的一串数字)发送给我们并说明申请退款的理由，我们收到并核实后会与您联系。\",\"question\":\"智力测验退款\"}', 'score': 0.79541015625, 'meta': {'dataset': {'id': '7355828816272605190', 'name': 'mofang_service'}, 'document': {'id': '7355828816272703494', 'name': 'processed_questions_and_answers', 'format_type': 1, 'source_type': 0}, 'link': {'title': 'mofang_service', 'url': ''}}}\n",
      "chunk is: {'slice': '{\"answer\":\"\",\"question\":\"瑞文标准智力测验：你有多聪明？,http://p.melbacastillo.top/pquiz/rend/2725039?retake=1\\\\u0026cstr=5c987b7c4001f\"}', 'score': 0.59912109375, 'meta': {'dataset': {'id': '7355828816272605190', 'name': 'mofang_service'}, 'document': {'id': '7355828816272703494', 'name': 'processed_questions_and_answers', 'format_type': 1, 'source_type': 0}, 'link': {'title': 'mofang_service', 'url': ''}}}\n",
      "chunk is: {'slice': '{\"answer\":\"瑞文标准智力测验是国际上广受认可的智力测验工具。它是一种纯粹的非文字智力测验，所以广泛应用于无国界的智力/推理能力测试。具有较高的信度和效度。《最强大脑》中采用的就是这种智力测量标准。瑞文智力测验结果与测试参与者在测验时的精神状态，周边环境等多种因素有关，波动范围大约在3至15分左右（百分比等级分数）。\",\"question\":\"瑞文智力测验的结果可信吗？\"}', 'score': 0.52099609375, 'meta': {'dataset': {'id': '7355828816272605190', 'name': 'mofang_service'}, 'document': {'id': '7355828816272703494', 'name': 'processed_questions_and_answers', 'format_type': 1, 'source_type': 0}, 'link': {'title': 'mofang_service', 'url': ''}}}\n",
      "content is: {'msg_type': 'generate_answer_finish', 'data': ''}\n",
      "ModelResponse(id='92386a6d285c483393ee814b18461e26', choices=[Choices(finish_reason='stop', index=0, message=Message(content='智商测试是衡量一个人智力水平的工具。我可以提供一些关于智商测试的信息。\\n\\n一款常用的智力测验是瑞文标准智力测验，这是一种被广泛认可的智力测验工具。瑞文标准智力测验是一种纯粹的非文字智力测验，对无国界的智力/推理能力进行测试，具有较高的信度和效度。在《最强大脑》中也采用了这种智力测量标准。瑞文智力测验的结果与被测者在测验时的精神状态，周边环境等多种因素有关，波动范围大约在3至15分左右（百分比等级分数）。\\n\\n如果你对瑞文标准智力测验感兴趣，你可以从这个链接进行测验：[你有多聪明？](http://p.melbacastillo.top/pquiz/rend/2725039?retake=1\\\\u0026cstr=5c987b7c4001f)。\\n\\n需要注意，智商测试报告如果显示是135+以上，那么这个测试的区分度有限，因此当受测者的智力高于135时，我们统称之为135+。如果你希望获得更具体的智商得分，建议使用其他测试量表，例如韦氏智力测试等。我们也提供一套瑞文高级智力测验，可供你参考选择。但请记住，任何智力测验都有一定的局限性，因此结果应仅供参考。\\n\\n此外，如果你已经购买了心理测评，需要注意这类虚拟产品一般是不支持退款的。如果有特殊理由需要退款，可以找到交易的订单号(420000开头的一串数字)发送给我们，并说明申请退款的理由，我们会在收到并核实后与你联系。', role='assistant'))], created=1715346177, model='', object='chat.completion', system_fingerprint=None, usage=Usage(), context=[Context(id=1, content='high priority:\\n sql: SELECT * FROM processed_questions_and_answers WHERE question LIKE \\'%智商测试%\\' OR answer LIKE \\'%智商测试%\\'\\n result: [{\"answer\":\"瑞文智力测验的题目对于高智力人群的区分度有限，因此当受测者的智力高于135时，我们统称之为135+。建议您寻找其他测试量表获得更具体的智商得分，例如韦氏智力测试等。我们也提供一套瑞文高级智力测验，可供您参考选择。但受限于试题本身的知识维度、测验方式、测试环境、试题数量、及出题时间等多种因素，任何智力测验都有一定的局限性，难以做到绝对精确的测量，因此结果仅供参考。\",\"question\":\"智商测试报告显示是135+以上，能获得具体的数值吗？\"}]'), Context(id=2, content='{\"answer\":\"心理测评为虚拟产品，购买后一般不支持退款，请您理解。如果您有特殊的理由，请从微信支付里找到交易的订单号(420000开头的一串数字)发送给我们并说明申请退款的理由，我们收到并核实后会与您联系。\",\"question\":\"智力测验退款\"}', score=0.79541015625), Context(id=3, content='{\"answer\":\"\",\"question\":\"瑞文标准智力测验：你有多聪明？,http://p.melbacastillo.top/pquiz/rend/2725039?retake=1\\\\u0026cstr=5c987b7c4001f\"}', score=0.59912109375), Context(id=4, content='{\"answer\":\"瑞文标准智力测验是国际上广受认可的智力测验工具。它是一种纯粹的非文字智力测验，所以广泛应用于无国界的智力/推理能力测试。具有较高的信度和效度。《最强大脑》中采用的就是这种智力测量标准。瑞文智力测验结果与测试参与者在测验时的精神状态，周边环境等多种因素有关，波动范围大约在3至15分左右（百分比等级分数）。\",\"question\":\"瑞文智力测验的结果可信吗？\"}', score=0.52099609375)])\n"
     ]
    }
   ],
   "source": [
    "# query Coze with a query and get the completion and the context\n",
    "query = \"智商测试\"\n",
    "ideal = [\"瑞文标准推理测验（SPM）是一种广受认可的智力测验工具，由英国心理学家瑞文于1938年创制。该测验是一种纯粹的非文字智力测验，广泛应用于无国界的智力/推理能力测试。它基于斯皮尔曼的智力二因素论，认为智力主要由普通因素（G因素）和特殊因素（S因素）构成。瑞文测验主要测量“G”因素，与问题解决、清晰知觉和思维、发现和利用信息以及适应社会生活能力相关。该测验由60张图组成，分为5个单元，考察了知觉辨别、类同比较、比较推理、系列关系推理、抽象推理运算等方面的思维能力。\"]\n",
    "messages = [\n",
    "    {\"role\": \"user\", \"content\": \"智商测试\"}\n",
    "]\n",
    "\n",
    "params = {\n",
    "    \"provider\": \"coze\",\n",
    "    \"api_key\": \"pat_hodyfcRog0CfCAfEMtKAueI1I8yD2tDuDBSrvSRoXhKm1xLCw0HDiePtEVgRFHzt\",\n",
    "    \"stream\": False,\n",
    "    \"details\": True\n",
    "}\n",
    "\n",
    "model = \"7355829428481769477\"\n",
    "response = unionchat(model=model, messages=messages, **params)\n",
    "print(response)"
   ]
  },
  {
   "cell_type": "code",
   "execution_count": 4,
   "metadata": {},
   "outputs": [
    {
     "name": "stdout",
     "output_type": "stream",
     "text": [
      "[['high priority:\\n sql: SELECT * FROM processed_questions_and_answers WHERE question LIKE \\'%智商测试%\\' OR answer LIKE \\'%智商测试%\\'\\n result: [{\"answer\":\"瑞文智力测验的题目对于高智力人群的区分度有限，因此当受测者的智力高于135时，我们统称之为135+。建议您寻找其他测试量表获得更具体的智商得分，例如韦氏智力测试等。我们也提供一套瑞文高级智力测验，可供您参考选择。但受限于试题本身的知识维度、测验方式、测试环境、试题数量、及出题时间等多种因素，任何智力测验都有一定的局限性，难以做到绝对精确的测量，因此结果仅供参考。\",\"question\":\"智商测试报告显示是135+以上，能获得具体的数值吗？\"}]', '{\"answer\":\"心理测评为虚拟产品，购买后一般不支持退款，请您理解。如果您有特殊的理由，请从微信支付里找到交易的订单号(420000开头的一串数字)发送给我们并说明申请退款的理由，我们收到并核实后会与您联系。\",\"question\":\"智力测验退款\"}', '{\"answer\":\"\",\"question\":\"瑞文标准智力测验：你有多聪明？,http://p.melbacastillo.top/pquiz/rend/2725039?retake=1\\\\u0026cstr=5c987b7c4001f\"}', '{\"answer\":\"瑞文标准智力测验是国际上广受认可的智力测验工具。它是一种纯粹的非文字智力测验，所以广泛应用于无国界的智力/推理能力测试。具有较高的信度和效度。《最强大脑》中采用的就是这种智力测量标准。瑞文智力测验结果与测试参与者在测验时的精神状态，周边环境等多种因素有关，波动范围大约在3至15分左右（百分比等级分数）。\",\"question\":\"瑞文智力测验的结果可信吗？\"}']]\n"
     ]
    }
   ],
   "source": [
    "# create a dataset from the response for evaluation\n",
    "sampled = response.choices[0].message.content\n",
    "context = []\n",
    "for context_item in response.context:\n",
    "    context.append(context_item.content)\n",
    "\n",
    "dataset = Dataset.from_dict({\n",
    "    'question': [query],\n",
    "    'answer': [sampled], \n",
    "    'context': [context],\n",
    "    'ideal': [ideal]\n",
    "})\n",
    "print(dataset['context'])"
   ]
  },
  {
   "cell_type": "code",
   "execution_count": 5,
   "metadata": {},
   "outputs": [],
   "source": [
    "# specify the evaluation parameters\n",
    "eval_params = {\n",
    "    \"provider\": \"zhipuai\",\n",
    "    \"model\": \"glm-4\",\n",
    "    \"api_key\": \"38dc046c622b6ec1b9bfa0413e6ca2ee.2Yn3uFr8j74pMOvK\",\n",
    "    \"temperature\": 0.1,\n",
    "    \"stream\": False\n",
    "}"
   ]
  },
  {
   "cell_type": "code",
   "execution_count": 6,
   "metadata": {},
   "outputs": [
    {
     "name": "stderr",
     "output_type": "stream",
     "text": [
      "INFO:root:messages: [{'content': \"    给定一个问题和答案，请从给定答案的每个句子中创建一个或多个陈述。\\n    问题：阿尔伯特·爱因斯坦是谁，他最著名的是什么？\\n    答案：他是一名出生在德国的理论物理学家，被广泛认为是有史以来最伟大和最有影响力的物理学家之一。他最著名的是发展相对论理论，他还为量子力学理论的发展做出了重要贡献。\\n    陈述：\\n    阿尔伯特·爱因斯坦出生在德国。\\n    阿尔伯特·爱因斯坦以他的相对论理论而闻名。\\n    问题：氯化镉在这种化学物质中略微可溶，它还被称为什么？\\n    答案：酒精\\n    陈述：\\n    氯化镉在酒精中略微可溶。\\n    问题：Shahul和Jithin是同一国籍吗？\\n    答案：他们来自不同的国家。\\n    陈述：\\n    Shahul和Jithin来自不同的国家。\\n    问题：['智商测试']\\n    答案：['智商测试是衡量一个人智力水平的工具。我可以提供一些关于智商测试的信息。\\\\n\\\\n一款常用的智力测验是瑞文标准智力测验，这是一种被广泛认可的智力测验工具。瑞文标准智力测验是一种纯粹的非文字智力测验，对无国界的智力/推理能力进行测试，具有较高的信度和效度。在《最强大脑》中也采用了这种智力测量标准。瑞文智力测验的结果与被测者在测验时的精神状态，周边环境等多种因素有关，波动范围大约在3至15分左右（百分比等级分数）。\\\\n\\\\n如果你对瑞文标准智力测验感兴趣，你可以从这个链接进行测验：[你有多聪明？](http://p.melbacastillo.top/pquiz/rend/2725039?retake=1\\\\\\\\u0026cstr=5c987b7c4001f)。\\\\n\\\\n需要注意，智商测试报告如果显示是135+以上，那么这个测试的区分度有限，因此当受测者的智力高于135时，我们统称之为135+。如果你希望获得更具体的智商得分，建议使用其他测试量表，例如韦氏智力测试等。我们也提供一套瑞文高级智力测验，可供你参考选择。但请记住，任何智力测验都有一定的局限性，因此结果应仅供参考。\\\\n\\\\n此外，如果你已经购买了心理测评，需要注意这类虚拟产品一般是不支持退款的。如果有特殊理由需要退款，可以找到交易的订单号(420000开头的一串数字)发送给我们，并说明申请退款的理由，我们会在收到并核实后与你联系。']\\n    陈述：\\n    \", 'role': 'user'}]\n",
      "INFO:root:sample_kwargs: {'provider': 'zhipuai', 'model': 'glm-4', 'api_key': '38dc046c622b6ec1b9bfa0413e6ca2ee.2Yn3uFr8j74pMOvK', 'temperature': 0.1, 'stream': False}\n",
      "INFO:httpx:HTTP Request: POST https://open.bigmodel.cn/api/paas/v4/chat/completions \"HTTP/1.1 200 OK\"\n",
      "INFO:root:statements_response: ModelResponse(id='8635245260138558219', choices=[Choices(finish_reason='stop', index=0, message=Message(content='智商测试是用于评估个人智力水平的工具。\\n瑞文标准智力测验是一种广泛使用的非文字智力测验，它测试的是无国界的智力/推理能力，并且具有较高的信度和效度。\\n瑞文标准智力测验的结果可能会受到被测者精神状态和周边环境等因素的影响，波动范围大约在3至15分左右。\\n智商测试中，如果分数超过135，通常会被标记为135+，表明测试在高智商区间的区分度有限。\\n为了获得更具体的智商得分，建议使用如韦氏智力测试等其他测试量表。\\n任何智力测验都有局限性，因此测试结果应仅作为参考。\\n如果已经购买了心理测评服务，需要注意这类虚拟产品通常不支持退款，但在有特殊理由时可以申请退款。', role='assistant'))], created=1715346226, model='glm-4', object='chat.completion', system_fingerprint=None, usage=Usage(prompt_tokens=557, completion_tokens=154, total_tokens=711))\n",
      "INFO:root:messages: [{'content': '\\n    提示：自然语言推理\\n    考虑给定的背景和以下陈述，然后确定这些陈述是否得到了上下文中的信息支持。在得出结论（是/否）之前，为每个陈述提供简要说明。在最后以指定格式为每个陈述提供最终裁决。不要偏离指定格式。\\n\\n    上下文：\\n    约翰是XYZ大学的学生。他正在攻读计算机科学学位。他这学期注册了几门课程，包括数据结构、算法和数据库管理。约翰是一个勤奋的学生，花大量时间学习和完成作业。他经常待在图书馆里晚上工作在他的项目上。\\n    陈述：\\n    1.约翰主修生物学。\\n    2.约翰正在上一门关于人工智能的课程。\\n    3.约翰是一个专注的学生。\\n    4.约翰有一份兼职工作。\\n    5.约翰对计算机编程感兴趣。\\n\\n    答案：\\n    1.约翰主修生物学。\\n    解释：明确提到约翰的专业是计算机科学。没有信息表明他主修生物学。 裁决：否。\\n    2.约翰正在上一门关于人工智能的课程。\\n    解释：上下文提到约翰当前注册的课程，而没有提到人工智能。因此，不能推断约翰正在上人工智能课程。裁决：否。\\n    3.约翰是一个专注的学生。\\n    解释：提示中提到他花大量时间学习和完成作业。此外，还提到他经常待在图书馆里晚上工作在他的项目上，这暗示了他的专注。裁决：是。\\n    4.约翰有一份兼职工作。\\n    解释：上下文中没有提供约翰有兼职工作的信息。因此，不能推断约翰有兼职工作。裁决：否。\\n    5.约翰对计算机编程感兴趣。\\n    解释：上下文提到约翰正在攻读计算机科学学位，这暗示了他对计算机编程的兴趣。裁决：是。\\n    每个陈述的最终裁决顺序：否。否。是。否。是。\\n    上下文：\\n    [\\'high priority:\\\\n sql: SELECT * FROM processed_questions_and_answers WHERE question LIKE \\\\\\'%智商测试%\\\\\\' OR answer LIKE \\\\\\'%智商测试%\\\\\\'\\\\n result: [{\"answer\":\"瑞文智力测验的题目对于高智力人群的区分度有限，因此当受测者的智力高于135时，我们统称之为135+。建议您寻找其他测试量表获得更具体的智商得分，例如韦氏智力测试等。我们也提供一套瑞文高级智力测验，可供您参考选择。但受限于试题本身的知识维度、测验方式、测试环境、试题数量、及出题时间等多种因素，任何智力测验都有一定的局限性，难以做到绝对精确的测量，因此结果仅供参考。\",\"question\":\"智商测试报告显示是135+以上，能获得具体的数值吗？\"}]\\', \\'{\"answer\":\"心理测评为虚拟产品，购买后一般不支持退款，请您理解。如果您有特殊的理由，请从微信支付里找到交易的订单号(420000开头的一串数字)发送给我们并说明申请退款的理由，我们收到并核实后会与您联系。\",\"question\":\"智力测验退款\"}\\', \\'{\"answer\":\"\",\"question\":\"瑞文标准智力测验：你有多聪明？,http://p.melbacastillo.top/pquiz/rend/2725039?retake=1\\\\\\\\u0026cstr=5c987b7c4001f\"}\\', \\'{\"answer\":\"瑞文标准智力测验是国际上广受认可的智力测验工具。它是一种纯粹的非文字智力测验，所以广泛应用于无国界的智力/推理能力测试。具有较高的信度和效度。《最强大脑》中采用的就是这种智力测量标准。瑞文智力测验结果与测试参与者在测验时的精神状态，周边环境等多种因素有关，波动范围大约在3至15分左右（百分比等级分数）。\",\"question\":\"瑞文智力测验的结果可信吗？\"}\\']\\n    陈述：\\n    智商测试是用于评估个人智力水平的工具。\\n瑞文标准智力测验是一种广泛使用的非文字智力测验，它测试的是无国界的智力/推理能力，并且具有较高的信度和效度。\\n瑞文标准智力测验的结果可能会受到被测者精神状态和周边环境等因素的影响，波动范围大约在3至15分左右。\\n智商测试中，如果分数超过135，通常会被标记为135+，表明测试在高智商区间的区分度有限。\\n为了获得更具体的智商得分，建议使用如韦氏智力测试等其他测试量表。\\n任何智力测验都有局限性，因此测试结果应仅作为参考。\\n如果已经购买了心理测评服务，需要注意这类虚拟产品通常不支持退款，但在有特殊理由时可以申请退款。\\n    答案：\\n    ', 'role': 'user'}]\n",
      "INFO:httpx:HTTP Request: POST https://open.bigmodel.cn/api/paas/v4/chat/completions \"HTTP/1.1 200 OK\"\n",
      "INFO:root:nli_response: ModelResponse(id='8635245260138558265', choices=[Choices(finish_reason='stop', index=0, message=Message(content='1.智商测试是用于评估个人智力水平的工具。\\n    解释：上下文中提到智商测试，并解释了它是如何用来评估个人智力水平的。裁决：是。\\n\\n    2.瑞文标准智力测验是一种广泛使用的非文字智力测验，它测试的是无国界的智力/推理能力，并且具有较高的信度和效度。\\n    解释：上下文明确提到瑞文标准智力测验是国际上广受认可的智力测验工具，具有高信度和效度，用于无国界的智力/推理能力测试。裁决：是。\\n\\n    3.瑞文标准智力测验的结果可能会受到被测者精神状态和周边环境等因素的影响，波动范围大约在3至15分左右。\\n    解释：上下文提到瑞文智力测验的结果会受到多种因素的影响，包括测试参与者的精神状态和周边环境，且有波动范围。裁决：是。\\n\\n    4.智商测试中，如果分数超过135，通常会被标记为135+，表明测试在高智商区间的区分度有限。\\n    解释：上下文提到当智力测试分数高于135时，会标记为135+，并指出对于高智力人群的区分度有限。裁决：是。\\n\\n    5.为了获得更具体的智商得分，建议使用如韦氏智力测试等其他测试量表。\\n    解释：上下文提供了这样的建议，即当瑞文智力测验无法提供具体分数时，可以考虑使用其他测试量表，如韦氏智力测试。裁决：是。\\n\\n    6.任何智力测验都有局限性，因此测试结果应仅作为参考。\\n    解释：上下文指出任何智力测验都有局限性，并强调结果仅供参考。裁决：是。\\n\\n    7.如果已经购买了心理测评服务，需要注意这类虚拟产品通常不支持退款，但在有特殊理由时可以申请退款。\\n    解释：上下文提到心理测评作为虚拟产品一般不支持退款，但在有特殊理由的情况下可以申请退款。裁决：是。\\n\\n    每个陈述的最终裁决顺序：是。是。是。是。是。是。是。', role='assistant'))], created=1715346247, model='glm-4', object='chat.completion', system_fingerprint=None, usage=Usage(prompt_tokens=974, completion_tokens=427, total_tokens=1401))\n",
      "INFO:root:result: 1.0\n"
     ]
    },
    {
     "name": "stdout",
     "output_type": "stream",
     "text": [
      "['是', '是', '是', '是', '是', '是', '是']\n",
      "raw score:  0.0\n",
      "Result(score=1.0, reasoning='\\n    我的推理过程如下：\\n    首先，我从给定答案的每个句子中创建以下的陈述：\\n    智商测试是用于评估个人智力水平的工具。\\n瑞文标准智力测验是一种广泛使用的非文字智力测验，它测试的是无国界的智力/推理能力，并且具有较高的信度和效度。\\n瑞文标准智力测验的结果可能会受到被测者精神状态和周边环境等因素的影响，波动范围大约在3至15分左右。\\n智商测试中，如果分数超过135，通常会被标记为135+，表明测试在高智商区间的区分度有限。\\n为了获得更具体的智商得分，建议使用如韦氏智力测试等其他测试量表。\\n任何智力测验都有局限性，因此测试结果应仅作为参考。\\n如果已经购买了心理测评服务，需要注意这类虚拟产品通常不支持退款，但在有特殊理由时可以申请退款。\\n    然后，我考虑了上下文信息，并对每个陈述进行了自然语言推理。最后，我得出了每个陈述的最终裁决。\\n    1.智商测试是用于评估个人智力水平的工具。\\n    解释：上下文中提到智商测试，并解释了它是如何用来评估个人智力水平的。裁决：是。\\n\\n    2.瑞文标准智力测验是一种广泛使用的非文字智力测验，它测试的是无国界的智力/推理能力，并且具有较高的信度和效度。\\n    解释：上下文明确提到瑞文标准智力测验是国际上广受认可的智力测验工具，具有高信度和效度，用于无国界的智力/推理能力测试。裁决：是。\\n\\n    3.瑞文标准智力测验的结果可能会受到被测者精神状态和周边环境等因素的影响，波动范围大约在3至15分左右。\\n    解释：上下文提到瑞文智力测验的结果会受到多种因素的影响，包括测试参与者的精神状态和周边环境，且有波动范围。裁决：是。\\n\\n    4.智商测试中，如果分数超过135，通常会被标记为135+，表明测试在高智商区间的区分度有限。\\n    解释：上下文提到当智力测试分数高于135时，会标记为135+，并指出对于高智力人群的区分度有限。裁决：是。\\n\\n    5.为了获得更具体的智商得分，建议使用如韦氏智力测试等其他测试量表。\\n    解释：上下文提供了这样的建议，即当瑞文智力测验无法提供具体分数时，可以考虑使用其他测试量表，如韦氏智力测试。裁决：是。\\n\\n    6.任何智力测验都有局限性，因此测试结果应仅作为参考。\\n    解释：上下文指出任何智力测验都有局限性，并强调结果仅供参考。裁决：是。\\n\\n    7.如果已经购买了心理测评服务，需要注意这类虚拟产品通常不支持退款，但在有特殊理由时可以申请退款。\\n    解释：上下文提到心理测评作为虚拟产品一般不支持退款，但在有特殊理由的情况下可以申请退款。裁决：是。\\n\\n    每个陈述的最终裁决顺序：是。是。是。是。是。是。是。\\n    ', responses=[ModelResponse(id='8635245260138558219', choices=[Choices(finish_reason='stop', index=0, message=Message(content='智商测试是用于评估个人智力水平的工具。\\n瑞文标准智力测验是一种广泛使用的非文字智力测验，它测试的是无国界的智力/推理能力，并且具有较高的信度和效度。\\n瑞文标准智力测验的结果可能会受到被测者精神状态和周边环境等因素的影响，波动范围大约在3至15分左右。\\n智商测试中，如果分数超过135，通常会被标记为135+，表明测试在高智商区间的区分度有限。\\n为了获得更具体的智商得分，建议使用如韦氏智力测试等其他测试量表。\\n任何智力测验都有局限性，因此测试结果应仅作为参考。\\n如果已经购买了心理测评服务，需要注意这类虚拟产品通常不支持退款，但在有特殊理由时可以申请退款。', role='assistant'))], created=1715346226, model='glm-4', object='chat.completion', system_fingerprint=None, usage=Usage(prompt_tokens=557, completion_tokens=154, total_tokens=711), elapsed_time=6.967032194137573, prompt='\"    \\\\u7ed9\\\\u5b9a\\\\u4e00\\\\u4e2a\\\\u95ee\\\\u9898\\\\u548c\\\\u7b54\\\\u6848\\\\uff0c\\\\u8bf7\\\\u4ece\\\\u7ed9\\\\u5b9a\\\\u7b54\\\\u6848\\\\u7684\\\\u6bcf\\\\u4e2a\\\\u53e5\\\\u5b50\\\\u4e2d\\\\u521b\\\\u5efa\\\\u4e00\\\\u4e2a\\\\u6216\\\\u591a\\\\u4e2a\\\\u9648\\\\u8ff0\\\\u3002\\\\n    \\\\u95ee\\\\u9898\\\\uff1a\\\\u963f\\\\u5c14\\\\u4f2f\\\\u7279\\\\u00b7\\\\u7231\\\\u56e0\\\\u65af\\\\u5766\\\\u662f\\\\u8c01\\\\uff0c\\\\u4ed6\\\\u6700\\\\u8457\\\\u540d\\\\u7684\\\\u662f\\\\u4ec0\\\\u4e48\\\\uff1f\\\\n    \\\\u7b54\\\\u6848\\\\uff1a\\\\u4ed6\\\\u662f\\\\u4e00\\\\u540d\\\\u51fa\\\\u751f\\\\u5728\\\\u5fb7\\\\u56fd\\\\u7684\\\\u7406\\\\u8bba\\\\u7269\\\\u7406\\\\u5b66\\\\u5bb6\\\\uff0c\\\\u88ab\\\\u5e7f\\\\u6cdb\\\\u8ba4\\\\u4e3a\\\\u662f\\\\u6709\\\\u53f2\\\\u4ee5\\\\u6765\\\\u6700\\\\u4f1f\\\\u5927\\\\u548c\\\\u6700\\\\u6709\\\\u5f71\\\\u54cd\\\\u529b\\\\u7684\\\\u7269\\\\u7406\\\\u5b66\\\\u5bb6\\\\u4e4b\\\\u4e00\\\\u3002\\\\u4ed6\\\\u6700\\\\u8457\\\\u540d\\\\u7684\\\\u662f\\\\u53d1\\\\u5c55\\\\u76f8\\\\u5bf9\\\\u8bba\\\\u7406\\\\u8bba\\\\uff0c\\\\u4ed6\\\\u8fd8\\\\u4e3a\\\\u91cf\\\\u5b50\\\\u529b\\\\u5b66\\\\u7406\\\\u8bba\\\\u7684\\\\u53d1\\\\u5c55\\\\u505a\\\\u51fa\\\\u4e86\\\\u91cd\\\\u8981\\\\u8d21\\\\u732e\\\\u3002\\\\n    \\\\u9648\\\\u8ff0\\\\uff1a\\\\n    \\\\u963f\\\\u5c14\\\\u4f2f\\\\u7279\\\\u00b7\\\\u7231\\\\u56e0\\\\u65af\\\\u5766\\\\u51fa\\\\u751f\\\\u5728\\\\u5fb7\\\\u56fd\\\\u3002\\\\n    \\\\u963f\\\\u5c14\\\\u4f2f\\\\u7279\\\\u00b7\\\\u7231\\\\u56e0\\\\u65af\\\\u5766\\\\u4ee5\\\\u4ed6\\\\u7684\\\\u76f8\\\\u5bf9\\\\u8bba\\\\u7406\\\\u8bba\\\\u800c\\\\u95fb\\\\u540d\\\\u3002\\\\n    \\\\u95ee\\\\u9898\\\\uff1a\\\\u6c2f\\\\u5316\\\\u9549\\\\u5728\\\\u8fd9\\\\u79cd\\\\u5316\\\\u5b66\\\\u7269\\\\u8d28\\\\u4e2d\\\\u7565\\\\u5fae\\\\u53ef\\\\u6eb6\\\\uff0c\\\\u5b83\\\\u8fd8\\\\u88ab\\\\u79f0\\\\u4e3a\\\\u4ec0\\\\u4e48\\\\uff1f\\\\n    \\\\u7b54\\\\u6848\\\\uff1a\\\\u9152\\\\u7cbe\\\\n    \\\\u9648\\\\u8ff0\\\\uff1a\\\\n    \\\\u6c2f\\\\u5316\\\\u9549\\\\u5728\\\\u9152\\\\u7cbe\\\\u4e2d\\\\u7565\\\\u5fae\\\\u53ef\\\\u6eb6\\\\u3002\\\\n    \\\\u95ee\\\\u9898\\\\uff1aShahul\\\\u548cJithin\\\\u662f\\\\u540c\\\\u4e00\\\\u56fd\\\\u7c4d\\\\u5417\\\\uff1f\\\\n    \\\\u7b54\\\\u6848\\\\uff1a\\\\u4ed6\\\\u4eec\\\\u6765\\\\u81ea\\\\u4e0d\\\\u540c\\\\u7684\\\\u56fd\\\\u5bb6\\\\u3002\\\\n    \\\\u9648\\\\u8ff0\\\\uff1a\\\\n    Shahul\\\\u548cJithin\\\\u6765\\\\u81ea\\\\u4e0d\\\\u540c\\\\u7684\\\\u56fd\\\\u5bb6\\\\u3002\\\\n    \\\\u95ee\\\\u9898\\\\uff1a[\\'\\\\u667a\\\\u5546\\\\u6d4b\\\\u8bd5\\']\\\\n    \\\\u7b54\\\\u6848\\\\uff1a[\\'\\\\u667a\\\\u5546\\\\u6d4b\\\\u8bd5\\\\u662f\\\\u8861\\\\u91cf\\\\u4e00\\\\u4e2a\\\\u4eba\\\\u667a\\\\u529b\\\\u6c34\\\\u5e73\\\\u7684\\\\u5de5\\\\u5177\\\\u3002\\\\u6211\\\\u53ef\\\\u4ee5\\\\u63d0\\\\u4f9b\\\\u4e00\\\\u4e9b\\\\u5173\\\\u4e8e\\\\u667a\\\\u5546\\\\u6d4b\\\\u8bd5\\\\u7684\\\\u4fe1\\\\u606f\\\\u3002\\\\\\\\n\\\\\\\\n\\\\u4e00\\\\u6b3e\\\\u5e38\\\\u7528\\\\u7684\\\\u667a\\\\u529b\\\\u6d4b\\\\u9a8c\\\\u662f\\\\u745e\\\\u6587\\\\u6807\\\\u51c6\\\\u667a\\\\u529b\\\\u6d4b\\\\u9a8c\\\\uff0c\\\\u8fd9\\\\u662f\\\\u4e00\\\\u79cd\\\\u88ab\\\\u5e7f\\\\u6cdb\\\\u8ba4\\\\u53ef\\\\u7684\\\\u667a\\\\u529b\\\\u6d4b\\\\u9a8c\\\\u5de5\\\\u5177\\\\u3002\\\\u745e\\\\u6587\\\\u6807\\\\u51c6\\\\u667a\\\\u529b\\\\u6d4b\\\\u9a8c\\\\u662f\\\\u4e00\\\\u79cd\\\\u7eaf\\\\u7cb9\\\\u7684\\\\u975e\\\\u6587\\\\u5b57\\\\u667a\\\\u529b\\\\u6d4b\\\\u9a8c\\\\uff0c\\\\u5bf9\\\\u65e0\\\\u56fd\\\\u754c\\\\u7684\\\\u667a\\\\u529b/\\\\u63a8\\\\u7406\\\\u80fd\\\\u529b\\\\u8fdb\\\\u884c\\\\u6d4b\\\\u8bd5\\\\uff0c\\\\u5177\\\\u6709\\\\u8f83\\\\u9ad8\\\\u7684\\\\u4fe1\\\\u5ea6\\\\u548c\\\\u6548\\\\u5ea6\\\\u3002\\\\u5728\\\\u300a\\\\u6700\\\\u5f3a\\\\u5927\\\\u8111\\\\u300b\\\\u4e2d\\\\u4e5f\\\\u91c7\\\\u7528\\\\u4e86\\\\u8fd9\\\\u79cd\\\\u667a\\\\u529b\\\\u6d4b\\\\u91cf\\\\u6807\\\\u51c6\\\\u3002\\\\u745e\\\\u6587\\\\u667a\\\\u529b\\\\u6d4b\\\\u9a8c\\\\u7684\\\\u7ed3\\\\u679c\\\\u4e0e\\\\u88ab\\\\u6d4b\\\\u8005\\\\u5728\\\\u6d4b\\\\u9a8c\\\\u65f6\\\\u7684\\\\u7cbe\\\\u795e\\\\u72b6\\\\u6001\\\\uff0c\\\\u5468\\\\u8fb9\\\\u73af\\\\u5883\\\\u7b49\\\\u591a\\\\u79cd\\\\u56e0\\\\u7d20\\\\u6709\\\\u5173\\\\uff0c\\\\u6ce2\\\\u52a8\\\\u8303\\\\u56f4\\\\u5927\\\\u7ea6\\\\u57283\\\\u81f315\\\\u5206\\\\u5de6\\\\u53f3\\\\uff08\\\\u767e\\\\u5206\\\\u6bd4\\\\u7b49\\\\u7ea7\\\\u5206\\\\u6570\\\\uff09\\\\u3002\\\\\\\\n\\\\\\\\n\\\\u5982\\\\u679c\\\\u4f60\\\\u5bf9\\\\u745e\\\\u6587\\\\u6807\\\\u51c6\\\\u667a\\\\u529b\\\\u6d4b\\\\u9a8c\\\\u611f\\\\u5174\\\\u8da3\\\\uff0c\\\\u4f60\\\\u53ef\\\\u4ee5\\\\u4ece\\\\u8fd9\\\\u4e2a\\\\u94fe\\\\u63a5\\\\u8fdb\\\\u884c\\\\u6d4b\\\\u9a8c\\\\uff1a[\\\\u4f60\\\\u6709\\\\u591a\\\\u806a\\\\u660e\\\\uff1f](http://p.melbacastillo.top/pquiz/rend/2725039?retake=1\\\\\\\\\\\\\\\\u0026cstr=5c987b7c4001f)\\\\u3002\\\\\\\\n\\\\\\\\n\\\\u9700\\\\u8981\\\\u6ce8\\\\u610f\\\\uff0c\\\\u667a\\\\u5546\\\\u6d4b\\\\u8bd5\\\\u62a5\\\\u544a\\\\u5982\\\\u679c\\\\u663e\\\\u793a\\\\u662f135+\\\\u4ee5\\\\u4e0a\\\\uff0c\\\\u90a3\\\\u4e48\\\\u8fd9\\\\u4e2a\\\\u6d4b\\\\u8bd5\\\\u7684\\\\u533a\\\\u5206\\\\u5ea6\\\\u6709\\\\u9650\\\\uff0c\\\\u56e0\\\\u6b64\\\\u5f53\\\\u53d7\\\\u6d4b\\\\u8005\\\\u7684\\\\u667a\\\\u529b\\\\u9ad8\\\\u4e8e135\\\\u65f6\\\\uff0c\\\\u6211\\\\u4eec\\\\u7edf\\\\u79f0\\\\u4e4b\\\\u4e3a135+\\\\u3002\\\\u5982\\\\u679c\\\\u4f60\\\\u5e0c\\\\u671b\\\\u83b7\\\\u5f97\\\\u66f4\\\\u5177\\\\u4f53\\\\u7684\\\\u667a\\\\u5546\\\\u5f97\\\\u5206\\\\uff0c\\\\u5efa\\\\u8bae\\\\u4f7f\\\\u7528\\\\u5176\\\\u4ed6\\\\u6d4b\\\\u8bd5\\\\u91cf\\\\u8868\\\\uff0c\\\\u4f8b\\\\u5982\\\\u97e6\\\\u6c0f\\\\u667a\\\\u529b\\\\u6d4b\\\\u8bd5\\\\u7b49\\\\u3002\\\\u6211\\\\u4eec\\\\u4e5f\\\\u63d0\\\\u4f9b\\\\u4e00\\\\u5957\\\\u745e\\\\u6587\\\\u9ad8\\\\u7ea7\\\\u667a\\\\u529b\\\\u6d4b\\\\u9a8c\\\\uff0c\\\\u53ef\\\\u4f9b\\\\u4f60\\\\u53c2\\\\u8003\\\\u9009\\\\u62e9\\\\u3002\\\\u4f46\\\\u8bf7\\\\u8bb0\\\\u4f4f\\\\uff0c\\\\u4efb\\\\u4f55\\\\u667a\\\\u529b\\\\u6d4b\\\\u9a8c\\\\u90fd\\\\u6709\\\\u4e00\\\\u5b9a\\\\u7684\\\\u5c40\\\\u9650\\\\u6027\\\\uff0c\\\\u56e0\\\\u6b64\\\\u7ed3\\\\u679c\\\\u5e94\\\\u4ec5\\\\u4f9b\\\\u53c2\\\\u8003\\\\u3002\\\\\\\\n\\\\\\\\n\\\\u6b64\\\\u5916\\\\uff0c\\\\u5982\\\\u679c\\\\u4f60\\\\u5df2\\\\u7ecf\\\\u8d2d\\\\u4e70\\\\u4e86\\\\u5fc3\\\\u7406\\\\u6d4b\\\\u8bc4\\\\uff0c\\\\u9700\\\\u8981\\\\u6ce8\\\\u610f\\\\u8fd9\\\\u7c7b\\\\u865a\\\\u62df\\\\u4ea7\\\\u54c1\\\\u4e00\\\\u822c\\\\u662f\\\\u4e0d\\\\u652f\\\\u6301\\\\u9000\\\\u6b3e\\\\u7684\\\\u3002\\\\u5982\\\\u679c\\\\u6709\\\\u7279\\\\u6b8a\\\\u7406\\\\u7531\\\\u9700\\\\u8981\\\\u9000\\\\u6b3e\\\\uff0c\\\\u53ef\\\\u4ee5\\\\u627e\\\\u5230\\\\u4ea4\\\\u6613\\\\u7684\\\\u8ba2\\\\u5355\\\\u53f7(420000\\\\u5f00\\\\u5934\\\\u7684\\\\u4e00\\\\u4e32\\\\u6570\\\\u5b57)\\\\u53d1\\\\u9001\\\\u7ed9\\\\u6211\\\\u4eec\\\\uff0c\\\\u5e76\\\\u8bf4\\\\u660e\\\\u7533\\\\u8bf7\\\\u9000\\\\u6b3e\\\\u7684\\\\u7406\\\\u7531\\\\uff0c\\\\u6211\\\\u4eec\\\\u4f1a\\\\u5728\\\\u6536\\\\u5230\\\\u5e76\\\\u6838\\\\u5b9e\\\\u540e\\\\u4e0e\\\\u4f60\\\\u8054\\\\u7cfb\\\\u3002\\']\\\\n    \\\\u9648\\\\u8ff0\\\\uff1a\\\\n    \"', completion='智商测试是用于评估个人智力水平的工具。\\n瑞文标准智力测验是一种广泛使用的非文字智力测验，它测试的是无国界的智力/推理能力，并且具有较高的信度和效度。\\n瑞文标准智力测验的结果可能会受到被测者精神状态和周边环境等因素的影响，波动范围大约在3至15分左右。\\n智商测试中，如果分数超过135，通常会被标记为135+，表明测试在高智商区间的区分度有限。\\n为了获得更具体的智商得分，建议使用如韦氏智力测试等其他测试量表。\\n任何智力测验都有局限性，因此测试结果应仅作为参考。\\n如果已经购买了心理测评服务，需要注意这类虚拟产品通常不支持退款，但在有特殊理由时可以申请退款。'), ModelResponse(id='8635245260138558265', choices=[Choices(finish_reason='stop', index=0, message=Message(content='1.智商测试是用于评估个人智力水平的工具。\\n    解释：上下文中提到智商测试，并解释了它是如何用来评估个人智力水平的。裁决：是。\\n\\n    2.瑞文标准智力测验是一种广泛使用的非文字智力测验，它测试的是无国界的智力/推理能力，并且具有较高的信度和效度。\\n    解释：上下文明确提到瑞文标准智力测验是国际上广受认可的智力测验工具，具有高信度和效度，用于无国界的智力/推理能力测试。裁决：是。\\n\\n    3.瑞文标准智力测验的结果可能会受到被测者精神状态和周边环境等因素的影响，波动范围大约在3至15分左右。\\n    解释：上下文提到瑞文智力测验的结果会受到多种因素的影响，包括测试参与者的精神状态和周边环境，且有波动范围。裁决：是。\\n\\n    4.智商测试中，如果分数超过135，通常会被标记为135+，表明测试在高智商区间的区分度有限。\\n    解释：上下文提到当智力测试分数高于135时，会标记为135+，并指出对于高智力人群的区分度有限。裁决：是。\\n\\n    5.为了获得更具体的智商得分，建议使用如韦氏智力测试等其他测试量表。\\n    解释：上下文提供了这样的建议，即当瑞文智力测验无法提供具体分数时，可以考虑使用其他测试量表，如韦氏智力测试。裁决：是。\\n\\n    6.任何智力测验都有局限性，因此测试结果应仅作为参考。\\n    解释：上下文指出任何智力测验都有局限性，并强调结果仅供参考。裁决：是。\\n\\n    7.如果已经购买了心理测评服务，需要注意这类虚拟产品通常不支持退款，但在有特殊理由时可以申请退款。\\n    解释：上下文提到心理测评作为虚拟产品一般不支持退款，但在有特殊理由的情况下可以申请退款。裁决：是。\\n\\n    每个陈述的最终裁决顺序：是。是。是。是。是。是。是。', role='assistant'))], created=1715346247, model='glm-4', object='chat.completion', system_fingerprint=None, usage=Usage(prompt_tokens=974, completion_tokens=427, total_tokens=1401), elapsed_time=21.038413047790527, prompt='\"\\\\n    \\\\u63d0\\\\u793a\\\\uff1a\\\\u81ea\\\\u7136\\\\u8bed\\\\u8a00\\\\u63a8\\\\u7406\\\\n    \\\\u8003\\\\u8651\\\\u7ed9\\\\u5b9a\\\\u7684\\\\u80cc\\\\u666f\\\\u548c\\\\u4ee5\\\\u4e0b\\\\u9648\\\\u8ff0\\\\uff0c\\\\u7136\\\\u540e\\\\u786e\\\\u5b9a\\\\u8fd9\\\\u4e9b\\\\u9648\\\\u8ff0\\\\u662f\\\\u5426\\\\u5f97\\\\u5230\\\\u4e86\\\\u4e0a\\\\u4e0b\\\\u6587\\\\u4e2d\\\\u7684\\\\u4fe1\\\\u606f\\\\u652f\\\\u6301\\\\u3002\\\\u5728\\\\u5f97\\\\u51fa\\\\u7ed3\\\\u8bba\\\\uff08\\\\u662f/\\\\u5426\\\\uff09\\\\u4e4b\\\\u524d\\\\uff0c\\\\u4e3a\\\\u6bcf\\\\u4e2a\\\\u9648\\\\u8ff0\\\\u63d0\\\\u4f9b\\\\u7b80\\\\u8981\\\\u8bf4\\\\u660e\\\\u3002\\\\u5728\\\\u6700\\\\u540e\\\\u4ee5\\\\u6307\\\\u5b9a\\\\u683c\\\\u5f0f\\\\u4e3a\\\\u6bcf\\\\u4e2a\\\\u9648\\\\u8ff0\\\\u63d0\\\\u4f9b\\\\u6700\\\\u7ec8\\\\u88c1\\\\u51b3\\\\u3002\\\\u4e0d\\\\u8981\\\\u504f\\\\u79bb\\\\u6307\\\\u5b9a\\\\u683c\\\\u5f0f\\\\u3002\\\\n\\\\n    \\\\u4e0a\\\\u4e0b\\\\u6587\\\\uff1a\\\\n    \\\\u7ea6\\\\u7ff0\\\\u662fXYZ\\\\u5927\\\\u5b66\\\\u7684\\\\u5b66\\\\u751f\\\\u3002\\\\u4ed6\\\\u6b63\\\\u5728\\\\u653b\\\\u8bfb\\\\u8ba1\\\\u7b97\\\\u673a\\\\u79d1\\\\u5b66\\\\u5b66\\\\u4f4d\\\\u3002\\\\u4ed6\\\\u8fd9\\\\u5b66\\\\u671f\\\\u6ce8\\\\u518c\\\\u4e86\\\\u51e0\\\\u95e8\\\\u8bfe\\\\u7a0b\\\\uff0c\\\\u5305\\\\u62ec\\\\u6570\\\\u636e\\\\u7ed3\\\\u6784\\\\u3001\\\\u7b97\\\\u6cd5\\\\u548c\\\\u6570\\\\u636e\\\\u5e93\\\\u7ba1\\\\u7406\\\\u3002\\\\u7ea6\\\\u7ff0\\\\u662f\\\\u4e00\\\\u4e2a\\\\u52e4\\\\u594b\\\\u7684\\\\u5b66\\\\u751f\\\\uff0c\\\\u82b1\\\\u5927\\\\u91cf\\\\u65f6\\\\u95f4\\\\u5b66\\\\u4e60\\\\u548c\\\\u5b8c\\\\u6210\\\\u4f5c\\\\u4e1a\\\\u3002\\\\u4ed6\\\\u7ecf\\\\u5e38\\\\u5f85\\\\u5728\\\\u56fe\\\\u4e66\\\\u9986\\\\u91cc\\\\u665a\\\\u4e0a\\\\u5de5\\\\u4f5c\\\\u5728\\\\u4ed6\\\\u7684\\\\u9879\\\\u76ee\\\\u4e0a\\\\u3002\\\\n    \\\\u9648\\\\u8ff0\\\\uff1a\\\\n    1.\\\\u7ea6\\\\u7ff0\\\\u4e3b\\\\u4fee\\\\u751f\\\\u7269\\\\u5b66\\\\u3002\\\\n    2.\\\\u7ea6\\\\u7ff0\\\\u6b63\\\\u5728\\\\u4e0a\\\\u4e00\\\\u95e8\\\\u5173\\\\u4e8e\\\\u4eba\\\\u5de5\\\\u667a\\\\u80fd\\\\u7684\\\\u8bfe\\\\u7a0b\\\\u3002\\\\n    3.\\\\u7ea6\\\\u7ff0\\\\u662f\\\\u4e00\\\\u4e2a\\\\u4e13\\\\u6ce8\\\\u7684\\\\u5b66\\\\u751f\\\\u3002\\\\n    4.\\\\u7ea6\\\\u7ff0\\\\u6709\\\\u4e00\\\\u4efd\\\\u517c\\\\u804c\\\\u5de5\\\\u4f5c\\\\u3002\\\\n    5.\\\\u7ea6\\\\u7ff0\\\\u5bf9\\\\u8ba1\\\\u7b97\\\\u673a\\\\u7f16\\\\u7a0b\\\\u611f\\\\u5174\\\\u8da3\\\\u3002\\\\n\\\\n    \\\\u7b54\\\\u6848\\\\uff1a\\\\n    1.\\\\u7ea6\\\\u7ff0\\\\u4e3b\\\\u4fee\\\\u751f\\\\u7269\\\\u5b66\\\\u3002\\\\n    \\\\u89e3\\\\u91ca\\\\uff1a\\\\u660e\\\\u786e\\\\u63d0\\\\u5230\\\\u7ea6\\\\u7ff0\\\\u7684\\\\u4e13\\\\u4e1a\\\\u662f\\\\u8ba1\\\\u7b97\\\\u673a\\\\u79d1\\\\u5b66\\\\u3002\\\\u6ca1\\\\u6709\\\\u4fe1\\\\u606f\\\\u8868\\\\u660e\\\\u4ed6\\\\u4e3b\\\\u4fee\\\\u751f\\\\u7269\\\\u5b66\\\\u3002 \\\\u88c1\\\\u51b3\\\\uff1a\\\\u5426\\\\u3002\\\\n    2.\\\\u7ea6\\\\u7ff0\\\\u6b63\\\\u5728\\\\u4e0a\\\\u4e00\\\\u95e8\\\\u5173\\\\u4e8e\\\\u4eba\\\\u5de5\\\\u667a\\\\u80fd\\\\u7684\\\\u8bfe\\\\u7a0b\\\\u3002\\\\n    \\\\u89e3\\\\u91ca\\\\uff1a\\\\u4e0a\\\\u4e0b\\\\u6587\\\\u63d0\\\\u5230\\\\u7ea6\\\\u7ff0\\\\u5f53\\\\u524d\\\\u6ce8\\\\u518c\\\\u7684\\\\u8bfe\\\\u7a0b\\\\uff0c\\\\u800c\\\\u6ca1\\\\u6709\\\\u63d0\\\\u5230\\\\u4eba\\\\u5de5\\\\u667a\\\\u80fd\\\\u3002\\\\u56e0\\\\u6b64\\\\uff0c\\\\u4e0d\\\\u80fd\\\\u63a8\\\\u65ad\\\\u7ea6\\\\u7ff0\\\\u6b63\\\\u5728\\\\u4e0a\\\\u4eba\\\\u5de5\\\\u667a\\\\u80fd\\\\u8bfe\\\\u7a0b\\\\u3002\\\\u88c1\\\\u51b3\\\\uff1a\\\\u5426\\\\u3002\\\\n    3.\\\\u7ea6\\\\u7ff0\\\\u662f\\\\u4e00\\\\u4e2a\\\\u4e13\\\\u6ce8\\\\u7684\\\\u5b66\\\\u751f\\\\u3002\\\\n    \\\\u89e3\\\\u91ca\\\\uff1a\\\\u63d0\\\\u793a\\\\u4e2d\\\\u63d0\\\\u5230\\\\u4ed6\\\\u82b1\\\\u5927\\\\u91cf\\\\u65f6\\\\u95f4\\\\u5b66\\\\u4e60\\\\u548c\\\\u5b8c\\\\u6210\\\\u4f5c\\\\u4e1a\\\\u3002\\\\u6b64\\\\u5916\\\\uff0c\\\\u8fd8\\\\u63d0\\\\u5230\\\\u4ed6\\\\u7ecf\\\\u5e38\\\\u5f85\\\\u5728\\\\u56fe\\\\u4e66\\\\u9986\\\\u91cc\\\\u665a\\\\u4e0a\\\\u5de5\\\\u4f5c\\\\u5728\\\\u4ed6\\\\u7684\\\\u9879\\\\u76ee\\\\u4e0a\\\\uff0c\\\\u8fd9\\\\u6697\\\\u793a\\\\u4e86\\\\u4ed6\\\\u7684\\\\u4e13\\\\u6ce8\\\\u3002\\\\u88c1\\\\u51b3\\\\uff1a\\\\u662f\\\\u3002\\\\n    4.\\\\u7ea6\\\\u7ff0\\\\u6709\\\\u4e00\\\\u4efd\\\\u517c\\\\u804c\\\\u5de5\\\\u4f5c\\\\u3002\\\\n    \\\\u89e3\\\\u91ca\\\\uff1a\\\\u4e0a\\\\u4e0b\\\\u6587\\\\u4e2d\\\\u6ca1\\\\u6709\\\\u63d0\\\\u4f9b\\\\u7ea6\\\\u7ff0\\\\u6709\\\\u517c\\\\u804c\\\\u5de5\\\\u4f5c\\\\u7684\\\\u4fe1\\\\u606f\\\\u3002\\\\u56e0\\\\u6b64\\\\uff0c\\\\u4e0d\\\\u80fd\\\\u63a8\\\\u65ad\\\\u7ea6\\\\u7ff0\\\\u6709\\\\u517c\\\\u804c\\\\u5de5\\\\u4f5c\\\\u3002\\\\u88c1\\\\u51b3\\\\uff1a\\\\u5426\\\\u3002\\\\n    5.\\\\u7ea6\\\\u7ff0\\\\u5bf9\\\\u8ba1\\\\u7b97\\\\u673a\\\\u7f16\\\\u7a0b\\\\u611f\\\\u5174\\\\u8da3\\\\u3002\\\\n    \\\\u89e3\\\\u91ca\\\\uff1a\\\\u4e0a\\\\u4e0b\\\\u6587\\\\u63d0\\\\u5230\\\\u7ea6\\\\u7ff0\\\\u6b63\\\\u5728\\\\u653b\\\\u8bfb\\\\u8ba1\\\\u7b97\\\\u673a\\\\u79d1\\\\u5b66\\\\u5b66\\\\u4f4d\\\\uff0c\\\\u8fd9\\\\u6697\\\\u793a\\\\u4e86\\\\u4ed6\\\\u5bf9\\\\u8ba1\\\\u7b97\\\\u673a\\\\u7f16\\\\u7a0b\\\\u7684\\\\u5174\\\\u8da3\\\\u3002\\\\u88c1\\\\u51b3\\\\uff1a\\\\u662f\\\\u3002\\\\n    \\\\u6bcf\\\\u4e2a\\\\u9648\\\\u8ff0\\\\u7684\\\\u6700\\\\u7ec8\\\\u88c1\\\\u51b3\\\\u987a\\\\u5e8f\\\\uff1a\\\\u5426\\\\u3002\\\\u5426\\\\u3002\\\\u662f\\\\u3002\\\\u5426\\\\u3002\\\\u662f\\\\u3002\\\\n    \\\\u4e0a\\\\u4e0b\\\\u6587\\\\uff1a\\\\n    [\\'high priority:\\\\\\\\n sql: SELECT * FROM processed_questions_and_answers WHERE question LIKE \\\\\\\\\\'%\\\\u667a\\\\u5546\\\\u6d4b\\\\u8bd5%\\\\\\\\\\' OR answer LIKE \\\\\\\\\\'%\\\\u667a\\\\u5546\\\\u6d4b\\\\u8bd5%\\\\\\\\\\'\\\\\\\\n result: [{\\\\\"answer\\\\\":\\\\\"\\\\u745e\\\\u6587\\\\u667a\\\\u529b\\\\u6d4b\\\\u9a8c\\\\u7684\\\\u9898\\\\u76ee\\\\u5bf9\\\\u4e8e\\\\u9ad8\\\\u667a\\\\u529b\\\\u4eba\\\\u7fa4\\\\u7684\\\\u533a\\\\u5206\\\\u5ea6\\\\u6709\\\\u9650\\\\uff0c\\\\u56e0\\\\u6b64\\\\u5f53\\\\u53d7\\\\u6d4b\\\\u8005\\\\u7684\\\\u667a\\\\u529b\\\\u9ad8\\\\u4e8e135\\\\u65f6\\\\uff0c\\\\u6211\\\\u4eec\\\\u7edf\\\\u79f0\\\\u4e4b\\\\u4e3a135+\\\\u3002\\\\u5efa\\\\u8bae\\\\u60a8\\\\u5bfb\\\\u627e\\\\u5176\\\\u4ed6\\\\u6d4b\\\\u8bd5\\\\u91cf\\\\u8868\\\\u83b7\\\\u5f97\\\\u66f4\\\\u5177\\\\u4f53\\\\u7684\\\\u667a\\\\u5546\\\\u5f97\\\\u5206\\\\uff0c\\\\u4f8b\\\\u5982\\\\u97e6\\\\u6c0f\\\\u667a\\\\u529b\\\\u6d4b\\\\u8bd5\\\\u7b49\\\\u3002\\\\u6211\\\\u4eec\\\\u4e5f\\\\u63d0\\\\u4f9b\\\\u4e00\\\\u5957\\\\u745e\\\\u6587\\\\u9ad8\\\\u7ea7\\\\u667a\\\\u529b\\\\u6d4b\\\\u9a8c\\\\uff0c\\\\u53ef\\\\u4f9b\\\\u60a8\\\\u53c2\\\\u8003\\\\u9009\\\\u62e9\\\\u3002\\\\u4f46\\\\u53d7\\\\u9650\\\\u4e8e\\\\u8bd5\\\\u9898\\\\u672c\\\\u8eab\\\\u7684\\\\u77e5\\\\u8bc6\\\\u7ef4\\\\u5ea6\\\\u3001\\\\u6d4b\\\\u9a8c\\\\u65b9\\\\u5f0f\\\\u3001\\\\u6d4b\\\\u8bd5\\\\u73af\\\\u5883\\\\u3001\\\\u8bd5\\\\u9898\\\\u6570\\\\u91cf\\\\u3001\\\\u53ca\\\\u51fa\\\\u9898\\\\u65f6\\\\u95f4\\\\u7b49\\\\u591a\\\\u79cd\\\\u56e0\\\\u7d20\\\\uff0c\\\\u4efb\\\\u4f55\\\\u667a\\\\u529b\\\\u6d4b\\\\u9a8c\\\\u90fd\\\\u6709\\\\u4e00\\\\u5b9a\\\\u7684\\\\u5c40\\\\u9650\\\\u6027\\\\uff0c\\\\u96be\\\\u4ee5\\\\u505a\\\\u5230\\\\u7edd\\\\u5bf9\\\\u7cbe\\\\u786e\\\\u7684\\\\u6d4b\\\\u91cf\\\\uff0c\\\\u56e0\\\\u6b64\\\\u7ed3\\\\u679c\\\\u4ec5\\\\u4f9b\\\\u53c2\\\\u8003\\\\u3002\\\\\",\\\\\"question\\\\\":\\\\\"\\\\u667a\\\\u5546\\\\u6d4b\\\\u8bd5\\\\u62a5\\\\u544a\\\\u663e\\\\u793a\\\\u662f135+\\\\u4ee5\\\\u4e0a\\\\uff0c\\\\u80fd\\\\u83b7\\\\u5f97\\\\u5177\\\\u4f53\\\\u7684\\\\u6570\\\\u503c\\\\u5417\\\\uff1f\\\\\"}]\\', \\'{\\\\\"answer\\\\\":\\\\\"\\\\u5fc3\\\\u7406\\\\u6d4b\\\\u8bc4\\\\u4e3a\\\\u865a\\\\u62df\\\\u4ea7\\\\u54c1\\\\uff0c\\\\u8d2d\\\\u4e70\\\\u540e\\\\u4e00\\\\u822c\\\\u4e0d\\\\u652f\\\\u6301\\\\u9000\\\\u6b3e\\\\uff0c\\\\u8bf7\\\\u60a8\\\\u7406\\\\u89e3\\\\u3002\\\\u5982\\\\u679c\\\\u60a8\\\\u6709\\\\u7279\\\\u6b8a\\\\u7684\\\\u7406\\\\u7531\\\\uff0c\\\\u8bf7\\\\u4ece\\\\u5fae\\\\u4fe1\\\\u652f\\\\u4ed8\\\\u91cc\\\\u627e\\\\u5230\\\\u4ea4\\\\u6613\\\\u7684\\\\u8ba2\\\\u5355\\\\u53f7(420000\\\\u5f00\\\\u5934\\\\u7684\\\\u4e00\\\\u4e32\\\\u6570\\\\u5b57)\\\\u53d1\\\\u9001\\\\u7ed9\\\\u6211\\\\u4eec\\\\u5e76\\\\u8bf4\\\\u660e\\\\u7533\\\\u8bf7\\\\u9000\\\\u6b3e\\\\u7684\\\\u7406\\\\u7531\\\\uff0c\\\\u6211\\\\u4eec\\\\u6536\\\\u5230\\\\u5e76\\\\u6838\\\\u5b9e\\\\u540e\\\\u4f1a\\\\u4e0e\\\\u60a8\\\\u8054\\\\u7cfb\\\\u3002\\\\\",\\\\\"question\\\\\":\\\\\"\\\\u667a\\\\u529b\\\\u6d4b\\\\u9a8c\\\\u9000\\\\u6b3e\\\\\"}\\', \\'{\\\\\"answer\\\\\":\\\\\"\\\\\",\\\\\"question\\\\\":\\\\\"\\\\u745e\\\\u6587\\\\u6807\\\\u51c6\\\\u667a\\\\u529b\\\\u6d4b\\\\u9a8c\\\\uff1a\\\\u4f60\\\\u6709\\\\u591a\\\\u806a\\\\u660e\\\\uff1f,http://p.melbacastillo.top/pquiz/rend/2725039?retake=1\\\\\\\\\\\\\\\\u0026cstr=5c987b7c4001f\\\\\"}\\', \\'{\\\\\"answer\\\\\":\\\\\"\\\\u745e\\\\u6587\\\\u6807\\\\u51c6\\\\u667a\\\\u529b\\\\u6d4b\\\\u9a8c\\\\u662f\\\\u56fd\\\\u9645\\\\u4e0a\\\\u5e7f\\\\u53d7\\\\u8ba4\\\\u53ef\\\\u7684\\\\u667a\\\\u529b\\\\u6d4b\\\\u9a8c\\\\u5de5\\\\u5177\\\\u3002\\\\u5b83\\\\u662f\\\\u4e00\\\\u79cd\\\\u7eaf\\\\u7cb9\\\\u7684\\\\u975e\\\\u6587\\\\u5b57\\\\u667a\\\\u529b\\\\u6d4b\\\\u9a8c\\\\uff0c\\\\u6240\\\\u4ee5\\\\u5e7f\\\\u6cdb\\\\u5e94\\\\u7528\\\\u4e8e\\\\u65e0\\\\u56fd\\\\u754c\\\\u7684\\\\u667a\\\\u529b/\\\\u63a8\\\\u7406\\\\u80fd\\\\u529b\\\\u6d4b\\\\u8bd5\\\\u3002\\\\u5177\\\\u6709\\\\u8f83\\\\u9ad8\\\\u7684\\\\u4fe1\\\\u5ea6\\\\u548c\\\\u6548\\\\u5ea6\\\\u3002\\\\u300a\\\\u6700\\\\u5f3a\\\\u5927\\\\u8111\\\\u300b\\\\u4e2d\\\\u91c7\\\\u7528\\\\u7684\\\\u5c31\\\\u662f\\\\u8fd9\\\\u79cd\\\\u667a\\\\u529b\\\\u6d4b\\\\u91cf\\\\u6807\\\\u51c6\\\\u3002\\\\u745e\\\\u6587\\\\u667a\\\\u529b\\\\u6d4b\\\\u9a8c\\\\u7ed3\\\\u679c\\\\u4e0e\\\\u6d4b\\\\u8bd5\\\\u53c2\\\\u4e0e\\\\u8005\\\\u5728\\\\u6d4b\\\\u9a8c\\\\u65f6\\\\u7684\\\\u7cbe\\\\u795e\\\\u72b6\\\\u6001\\\\uff0c\\\\u5468\\\\u8fb9\\\\u73af\\\\u5883\\\\u7b49\\\\u591a\\\\u79cd\\\\u56e0\\\\u7d20\\\\u6709\\\\u5173\\\\uff0c\\\\u6ce2\\\\u52a8\\\\u8303\\\\u56f4\\\\u5927\\\\u7ea6\\\\u57283\\\\u81f315\\\\u5206\\\\u5de6\\\\u53f3\\\\uff08\\\\u767e\\\\u5206\\\\u6bd4\\\\u7b49\\\\u7ea7\\\\u5206\\\\u6570\\\\uff09\\\\u3002\\\\\",\\\\\"question\\\\\":\\\\\"\\\\u745e\\\\u6587\\\\u667a\\\\u529b\\\\u6d4b\\\\u9a8c\\\\u7684\\\\u7ed3\\\\u679c\\\\u53ef\\\\u4fe1\\\\u5417\\\\uff1f\\\\\"}\\']\\\\n    \\\\u9648\\\\u8ff0\\\\uff1a\\\\n    \\\\u667a\\\\u5546\\\\u6d4b\\\\u8bd5\\\\u662f\\\\u7528\\\\u4e8e\\\\u8bc4\\\\u4f30\\\\u4e2a\\\\u4eba\\\\u667a\\\\u529b\\\\u6c34\\\\u5e73\\\\u7684\\\\u5de5\\\\u5177\\\\u3002\\\\n\\\\u745e\\\\u6587\\\\u6807\\\\u51c6\\\\u667a\\\\u529b\\\\u6d4b\\\\u9a8c\\\\u662f\\\\u4e00\\\\u79cd\\\\u5e7f\\\\u6cdb\\\\u4f7f\\\\u7528\\\\u7684\\\\u975e\\\\u6587\\\\u5b57\\\\u667a\\\\u529b\\\\u6d4b\\\\u9a8c\\\\uff0c\\\\u5b83\\\\u6d4b\\\\u8bd5\\\\u7684\\\\u662f\\\\u65e0\\\\u56fd\\\\u754c\\\\u7684\\\\u667a\\\\u529b/\\\\u63a8\\\\u7406\\\\u80fd\\\\u529b\\\\uff0c\\\\u5e76\\\\u4e14\\\\u5177\\\\u6709\\\\u8f83\\\\u9ad8\\\\u7684\\\\u4fe1\\\\u5ea6\\\\u548c\\\\u6548\\\\u5ea6\\\\u3002\\\\n\\\\u745e\\\\u6587\\\\u6807\\\\u51c6\\\\u667a\\\\u529b\\\\u6d4b\\\\u9a8c\\\\u7684\\\\u7ed3\\\\u679c\\\\u53ef\\\\u80fd\\\\u4f1a\\\\u53d7\\\\u5230\\\\u88ab\\\\u6d4b\\\\u8005\\\\u7cbe\\\\u795e\\\\u72b6\\\\u6001\\\\u548c\\\\u5468\\\\u8fb9\\\\u73af\\\\u5883\\\\u7b49\\\\u56e0\\\\u7d20\\\\u7684\\\\u5f71\\\\u54cd\\\\uff0c\\\\u6ce2\\\\u52a8\\\\u8303\\\\u56f4\\\\u5927\\\\u7ea6\\\\u57283\\\\u81f315\\\\u5206\\\\u5de6\\\\u53f3\\\\u3002\\\\n\\\\u667a\\\\u5546\\\\u6d4b\\\\u8bd5\\\\u4e2d\\\\uff0c\\\\u5982\\\\u679c\\\\u5206\\\\u6570\\\\u8d85\\\\u8fc7135\\\\uff0c\\\\u901a\\\\u5e38\\\\u4f1a\\\\u88ab\\\\u6807\\\\u8bb0\\\\u4e3a135+\\\\uff0c\\\\u8868\\\\u660e\\\\u6d4b\\\\u8bd5\\\\u5728\\\\u9ad8\\\\u667a\\\\u5546\\\\u533a\\\\u95f4\\\\u7684\\\\u533a\\\\u5206\\\\u5ea6\\\\u6709\\\\u9650\\\\u3002\\\\n\\\\u4e3a\\\\u4e86\\\\u83b7\\\\u5f97\\\\u66f4\\\\u5177\\\\u4f53\\\\u7684\\\\u667a\\\\u5546\\\\u5f97\\\\u5206\\\\uff0c\\\\u5efa\\\\u8bae\\\\u4f7f\\\\u7528\\\\u5982\\\\u97e6\\\\u6c0f\\\\u667a\\\\u529b\\\\u6d4b\\\\u8bd5\\\\u7b49\\\\u5176\\\\u4ed6\\\\u6d4b\\\\u8bd5\\\\u91cf\\\\u8868\\\\u3002\\\\n\\\\u4efb\\\\u4f55\\\\u667a\\\\u529b\\\\u6d4b\\\\u9a8c\\\\u90fd\\\\u6709\\\\u5c40\\\\u9650\\\\u6027\\\\uff0c\\\\u56e0\\\\u6b64\\\\u6d4b\\\\u8bd5\\\\u7ed3\\\\u679c\\\\u5e94\\\\u4ec5\\\\u4f5c\\\\u4e3a\\\\u53c2\\\\u8003\\\\u3002\\\\n\\\\u5982\\\\u679c\\\\u5df2\\\\u7ecf\\\\u8d2d\\\\u4e70\\\\u4e86\\\\u5fc3\\\\u7406\\\\u6d4b\\\\u8bc4\\\\u670d\\\\u52a1\\\\uff0c\\\\u9700\\\\u8981\\\\u6ce8\\\\u610f\\\\u8fd9\\\\u7c7b\\\\u865a\\\\u62df\\\\u4ea7\\\\u54c1\\\\u901a\\\\u5e38\\\\u4e0d\\\\u652f\\\\u6301\\\\u9000\\\\u6b3e\\\\uff0c\\\\u4f46\\\\u5728\\\\u6709\\\\u7279\\\\u6b8a\\\\u7406\\\\u7531\\\\u65f6\\\\u53ef\\\\u4ee5\\\\u7533\\\\u8bf7\\\\u9000\\\\u6b3e\\\\u3002\\\\n    \\\\u7b54\\\\u6848\\\\uff1a\\\\n    \"', completion='1.智商测试是用于评估个人智力水平的工具。\\n    解释：上下文中提到智商测试，并解释了它是如何用来评估个人智力水平的。裁决：是。\\n\\n    2.瑞文标准智力测验是一种广泛使用的非文字智力测验，它测试的是无国界的智力/推理能力，并且具有较高的信度和效度。\\n    解释：上下文明确提到瑞文标准智力测验是国际上广受认可的智力测验工具，具有高信度和效度，用于无国界的智力/推理能力测试。裁决：是。\\n\\n    3.瑞文标准智力测验的结果可能会受到被测者精神状态和周边环境等因素的影响，波动范围大约在3至15分左右。\\n    解释：上下文提到瑞文智力测验的结果会受到多种因素的影响，包括测试参与者的精神状态和周边环境，且有波动范围。裁决：是。\\n\\n    4.智商测试中，如果分数超过135，通常会被标记为135+，表明测试在高智商区间的区分度有限。\\n    解释：上下文提到当智力测试分数高于135时，会标记为135+，并指出对于高智力人群的区分度有限。裁决：是。\\n\\n    5.为了获得更具体的智商得分，建议使用如韦氏智力测试等其他测试量表。\\n    解释：上下文提供了这样的建议，即当瑞文智力测验无法提供具体分数时，可以考虑使用其他测试量表，如韦氏智力测试。裁决：是。\\n\\n    6.任何智力测验都有局限性，因此测试结果应仅作为参考。\\n    解释：上下文指出任何智力测验都有局限性，并强调结果仅供参考。裁决：是。\\n\\n    7.如果已经购买了心理测评服务，需要注意这类虚拟产品通常不支持退款，但在有特殊理由时可以申请退款。\\n    解释：上下文提到心理测评作为虚拟产品一般不支持退款，但在有特殊理由的情况下可以申请退款。裁决：是。\\n\\n    每个陈述的最终裁决顺序：是。是。是。是。是。是。是。')])\n",
      "\n",
      "    我的推理过程如下：\n",
      "    首先，我从给定答案的每个句子中创建以下的陈述：\n",
      "    智商测试是用于评估个人智力水平的工具。\n",
      "瑞文标准智力测验是一种广泛使用的非文字智力测验，它测试的是无国界的智力/推理能力，并且具有较高的信度和效度。\n",
      "瑞文标准智力测验的结果可能会受到被测者精神状态和周边环境等因素的影响，波动范围大约在3至15分左右。\n",
      "智商测试中，如果分数超过135，通常会被标记为135+，表明测试在高智商区间的区分度有限。\n",
      "为了获得更具体的智商得分，建议使用如韦氏智力测试等其他测试量表。\n",
      "任何智力测验都有局限性，因此测试结果应仅作为参考。\n",
      "如果已经购买了心理测评服务，需要注意这类虚拟产品通常不支持退款，但在有特殊理由时可以申请退款。\n",
      "    然后，我考虑了上下文信息，并对每个陈述进行了自然语言推理。最后，我得出了每个陈述的最终裁决。\n",
      "    1.智商测试是用于评估个人智力水平的工具。\n",
      "    解释：上下文中提到智商测试，并解释了它是如何用来评估个人智力水平的。裁决：是。\n",
      "\n",
      "    2.瑞文标准智力测验是一种广泛使用的非文字智力测验，它测试的是无国界的智力/推理能力，并且具有较高的信度和效度。\n",
      "    解释：上下文明确提到瑞文标准智力测验是国际上广受认可的智力测验工具，具有高信度和效度，用于无国界的智力/推理能力测试。裁决：是。\n",
      "\n",
      "    3.瑞文标准智力测验的结果可能会受到被测者精神状态和周边环境等因素的影响，波动范围大约在3至15分左右。\n",
      "    解释：上下文提到瑞文智力测验的结果会受到多种因素的影响，包括测试参与者的精神状态和周边环境，且有波动范围。裁决：是。\n",
      "\n",
      "    4.智商测试中，如果分数超过135，通常会被标记为135+，表明测试在高智商区间的区分度有限。\n",
      "    解释：上下文提到当智力测试分数高于135时，会标记为135+，并指出对于高智力人群的区分度有限。裁决：是。\n",
      "\n",
      "    5.为了获得更具体的智商得分，建议使用如韦氏智力测试等其他测试量表。\n",
      "    解释：上下文提供了这样的建议，即当瑞文智力测验无法提供具体分数时，可以考虑使用其他测试量表，如韦氏智力测试。裁决：是。\n",
      "\n",
      "    6.任何智力测验都有局限性，因此测试结果应仅作为参考。\n",
      "    解释：上下文指出任何智力测验都有局限性，并强调结果仅供参考。裁决：是。\n",
      "\n",
      "    7.如果已经购买了心理测评服务，需要注意这类虚拟产品通常不支持退款，但在有特殊理由时可以申请退款。\n",
      "    解释：上下文提到心理测评作为虚拟产品一般不支持退款，但在有特殊理由的情况下可以申请退款。裁决：是。\n",
      "\n",
      "    每个陈述的最终裁决顺序：是。是。是。是。是。是。是。\n",
      "    \n"
     ]
    }
   ],
   "source": [
    "# evaluate the dataset with the specified evaluator and print the results\n",
    "faithfulness_results = evaluate(dataset, [Faithfulness], eval_params)\n",
    "print(faithfulness_results)\n",
    "print(faithfulness_results.reasoning)"
   ]
  },
  {
   "cell_type": "code",
   "execution_count": null,
   "metadata": {},
   "outputs": [],
   "source": [
    "eo_client = EvalsOne(api_key='your_api_key_here')\n",
    "kwargs = {'messages': 'example message', 'completion': 'example completion'}\n",
    "response = eo_client.add_sample(**kwargs)\n",
    "print(response)"
   ]
  },
  {
   "cell_type": "code",
   "execution_count": null,
   "metadata": {},
   "outputs": [],
   "source": []
  },
  {
   "cell_type": "markdown",
   "metadata": {},
   "source": []
  }
 ],
 "metadata": {
  "kernelspec": {
   "display_name": "Python 3",
   "language": "python",
   "name": "python3"
  },
  "language_info": {
   "codemirror_mode": {
    "name": "ipython",
    "version": 3
   },
   "file_extension": ".py",
   "mimetype": "text/x-python",
   "name": "python",
   "nbconvert_exporter": "python",
   "pygments_lexer": "ipython3",
   "version": "3.11.9"
  }
 },
 "nbformat": 4,
 "nbformat_minor": 2
}
