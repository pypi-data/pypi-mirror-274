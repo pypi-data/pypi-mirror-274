{
 "cells": [
  {
   "cell_type": "code",
   "execution_count": 1,
   "metadata": {},
   "outputs": [
    {
     "name": "stdout",
     "output_type": "stream",
     "text": [
      "WARNING: pip is being invoked by an old script wrapper. This will fail in a future version of pip.\n",
      "Please see https://github.com/pypa/pip/issues/5599 for advice on fixing the underlying issue.\n",
      "To avoid this problem you can invoke Python with '-m pip' instead of running pip directly.\n",
      "Requirement already satisfied: unionllm in /opt/homebrew/lib/python3.11/site-packages (0.1.0)\n",
      "Requirement already satisfied: openai in /opt/homebrew/lib/python3.11/site-packages (from unionllm) (1.28.0)\n",
      "Requirement already satisfied: pydantic in /opt/homebrew/lib/python3.11/site-packages (from unionllm) (2.7.0)\n",
      "Requirement already satisfied: zhipuai in /opt/homebrew/lib/python3.11/site-packages (from unionllm) (2.0.1)\n",
      "Requirement already satisfied: tenacity in /opt/homebrew/lib/python3.11/site-packages (from unionllm) (8.2.3)\n",
      "Requirement already satisfied: dashscope in /opt/homebrew/lib/python3.11/site-packages (from unionllm) (1.11.0)\n",
      "Requirement already satisfied: websocket-client in /opt/homebrew/lib/python3.11/site-packages (from unionllm) (1.7.0)\n",
      "Requirement already satisfied: requests in /opt/homebrew/lib/python3.11/site-packages (from unionllm) (2.31.0)\n",
      "Requirement already satisfied: aiohttp in /opt/homebrew/lib/python3.11/site-packages (from dashscope->unionllm) (3.9.3)\n",
      "Requirement already satisfied: anyio<5,>=3.5.0 in /opt/homebrew/lib/python3.11/site-packages (from openai->unionllm) (3.7.1)\n",
      "Requirement already satisfied: distro<2,>=1.7.0 in /opt/homebrew/lib/python3.11/site-packages (from openai->unionllm) (1.9.0)\n",
      "Requirement already satisfied: httpx<1,>=0.23.0 in /opt/homebrew/lib/python3.11/site-packages (from openai->unionllm) (0.25.2)\n",
      "Requirement already satisfied: sniffio in /opt/homebrew/lib/python3.11/site-packages (from openai->unionllm) (1.3.0)\n",
      "Requirement already satisfied: tqdm>4 in /opt/homebrew/lib/python3.11/site-packages (from openai->unionllm) (4.66.2)\n",
      "Requirement already satisfied: typing-extensions<5,>=4.7 in /opt/homebrew/lib/python3.11/site-packages (from openai->unionllm) (4.9.0)\n",
      "Requirement already satisfied: annotated-types>=0.4.0 in /opt/homebrew/lib/python3.11/site-packages (from pydantic->unionllm) (0.6.0)\n",
      "Requirement already satisfied: pydantic-core==2.18.1 in /opt/homebrew/lib/python3.11/site-packages (from pydantic->unionllm) (2.18.1)\n",
      "Requirement already satisfied: charset-normalizer<4,>=2 in /opt/homebrew/lib/python3.11/site-packages (from requests->unionllm) (3.3.2)\n",
      "Requirement already satisfied: idna<4,>=2.5 in /opt/homebrew/lib/python3.11/site-packages (from requests->unionllm) (3.6)\n",
      "Requirement already satisfied: urllib3<3,>=1.21.1 in /opt/homebrew/lib/python3.11/site-packages (from requests->unionllm) (2.0.7)\n",
      "Requirement already satisfied: certifi>=2017.4.17 in /opt/homebrew/lib/python3.11/site-packages (from requests->unionllm) (2023.11.17)\n",
      "Requirement already satisfied: cachetools>=4.2.2 in /opt/homebrew/lib/python3.11/site-packages (from zhipuai->unionllm) (5.3.1)\n",
      "Requirement already satisfied: pyjwt~=2.8.0 in /opt/homebrew/lib/python3.11/site-packages (from zhipuai->unionllm) (2.8.0)\n",
      "Requirement already satisfied: httpcore==1.* in /opt/homebrew/lib/python3.11/site-packages (from httpx<1,>=0.23.0->openai->unionllm) (1.0.4)\n",
      "Requirement already satisfied: h11<0.15,>=0.13 in /opt/homebrew/lib/python3.11/site-packages (from httpcore==1.*->httpx<1,>=0.23.0->openai->unionllm) (0.14.0)\n",
      "Requirement already satisfied: aiosignal>=1.1.2 in /opt/homebrew/lib/python3.11/site-packages (from aiohttp->dashscope->unionllm) (1.3.1)\n",
      "Requirement already satisfied: attrs>=17.3.0 in /opt/homebrew/lib/python3.11/site-packages (from aiohttp->dashscope->unionllm) (23.2.0)\n",
      "Requirement already satisfied: frozenlist>=1.1.1 in /opt/homebrew/lib/python3.11/site-packages (from aiohttp->dashscope->unionllm) (1.4.1)\n",
      "Requirement already satisfied: multidict<7.0,>=4.5 in /opt/homebrew/lib/python3.11/site-packages (from aiohttp->dashscope->unionllm) (6.0.5)\n",
      "Requirement already satisfied: yarl<2.0,>=1.0 in /opt/homebrew/lib/python3.11/site-packages (from aiohttp->dashscope->unionllm) (1.9.4)\n",
      "WARNING: pip is being invoked by an old script wrapper. This will fail in a future version of pip.\n",
      "Please see https://github.com/pypa/pip/issues/5599 for advice on fixing the underlying issue.\n",
      "To avoid this problem you can invoke Python with '-m pip' instead of running pip directly.\n",
      "Requirement already satisfied: zeval in /opt/homebrew/lib/python3.11/site-packages (0.1.0)\n",
      "Requirement already satisfied: datasets in /opt/homebrew/lib/python3.11/site-packages (from zeval) (2.17.1)\n",
      "Requirement already satisfied: openai in /opt/homebrew/lib/python3.11/site-packages (from zeval) (1.28.0)\n",
      "Requirement already satisfied: unionllm in /opt/homebrew/lib/python3.11/site-packages (from zeval) (0.1.0)\n",
      "Requirement already satisfied: filelock in /opt/homebrew/lib/python3.11/site-packages (from datasets->zeval) (3.13.1)\n",
      "Requirement already satisfied: numpy>=1.17 in /opt/homebrew/lib/python3.11/site-packages (from datasets->zeval) (1.26.4)\n",
      "Requirement already satisfied: pyarrow>=12.0.0 in /opt/homebrew/lib/python3.11/site-packages (from datasets->zeval) (15.0.0)\n",
      "Requirement already satisfied: pyarrow-hotfix in /opt/homebrew/lib/python3.11/site-packages (from datasets->zeval) (0.6)\n",
      "Requirement already satisfied: dill<0.3.9,>=0.3.0 in /opt/homebrew/lib/python3.11/site-packages (from datasets->zeval) (0.3.8)\n",
      "Requirement already satisfied: pandas in /opt/homebrew/lib/python3.11/site-packages (from datasets->zeval) (2.2.1)\n",
      "Requirement already satisfied: requests>=2.19.0 in /opt/homebrew/lib/python3.11/site-packages (from datasets->zeval) (2.31.0)\n",
      "Requirement already satisfied: tqdm>=4.62.1 in /opt/homebrew/lib/python3.11/site-packages (from datasets->zeval) (4.66.2)\n",
      "Requirement already satisfied: xxhash in /opt/homebrew/lib/python3.11/site-packages (from datasets->zeval) (3.4.1)\n",
      "Requirement already satisfied: multiprocess in /opt/homebrew/lib/python3.11/site-packages (from datasets->zeval) (0.70.16)\n",
      "Requirement already satisfied: fsspec<=2023.10.0,>=2023.1.0 in /opt/homebrew/lib/python3.11/site-packages (from fsspec[http]<=2023.10.0,>=2023.1.0->datasets->zeval) (2023.10.0)\n",
      "Requirement already satisfied: aiohttp in /opt/homebrew/lib/python3.11/site-packages (from datasets->zeval) (3.9.3)\n",
      "Requirement already satisfied: huggingface-hub>=0.19.4 in /opt/homebrew/lib/python3.11/site-packages (from datasets->zeval) (0.20.3)\n",
      "Requirement already satisfied: packaging in /opt/homebrew/lib/python3.11/site-packages (from datasets->zeval) (23.2)\n",
      "Requirement already satisfied: pyyaml>=5.1 in /opt/homebrew/lib/python3.11/site-packages (from datasets->zeval) (6.0.1)\n",
      "Requirement already satisfied: anyio<5,>=3.5.0 in /opt/homebrew/lib/python3.11/site-packages (from openai->zeval) (3.7.1)\n",
      "Requirement already satisfied: distro<2,>=1.7.0 in /opt/homebrew/lib/python3.11/site-packages (from openai->zeval) (1.9.0)\n",
      "Requirement already satisfied: httpx<1,>=0.23.0 in /opt/homebrew/lib/python3.11/site-packages (from openai->zeval) (0.25.2)\n",
      "Requirement already satisfied: pydantic<3,>=1.9.0 in /opt/homebrew/lib/python3.11/site-packages (from openai->zeval) (2.7.0)\n",
      "Requirement already satisfied: sniffio in /opt/homebrew/lib/python3.11/site-packages (from openai->zeval) (1.3.0)\n",
      "Requirement already satisfied: typing-extensions<5,>=4.7 in /opt/homebrew/lib/python3.11/site-packages (from openai->zeval) (4.9.0)\n",
      "Requirement already satisfied: zhipuai in /opt/homebrew/lib/python3.11/site-packages (from unionllm->zeval) (2.0.1)\n",
      "Requirement already satisfied: tenacity in /opt/homebrew/lib/python3.11/site-packages (from unionllm->zeval) (8.2.3)\n",
      "Requirement already satisfied: dashscope in /opt/homebrew/lib/python3.11/site-packages (from unionllm->zeval) (1.11.0)\n",
      "Requirement already satisfied: websocket-client in /opt/homebrew/lib/python3.11/site-packages (from unionllm->zeval) (1.7.0)\n",
      "Requirement already satisfied: idna>=2.8 in /opt/homebrew/lib/python3.11/site-packages (from anyio<5,>=3.5.0->openai->zeval) (3.6)\n",
      "Requirement already satisfied: aiosignal>=1.1.2 in /opt/homebrew/lib/python3.11/site-packages (from aiohttp->datasets->zeval) (1.3.1)\n",
      "Requirement already satisfied: attrs>=17.3.0 in /opt/homebrew/lib/python3.11/site-packages (from aiohttp->datasets->zeval) (23.2.0)\n",
      "Requirement already satisfied: frozenlist>=1.1.1 in /opt/homebrew/lib/python3.11/site-packages (from aiohttp->datasets->zeval) (1.4.1)\n",
      "Requirement already satisfied: multidict<7.0,>=4.5 in /opt/homebrew/lib/python3.11/site-packages (from aiohttp->datasets->zeval) (6.0.5)\n",
      "Requirement already satisfied: yarl<2.0,>=1.0 in /opt/homebrew/lib/python3.11/site-packages (from aiohttp->datasets->zeval) (1.9.4)\n",
      "Requirement already satisfied: certifi in /opt/homebrew/lib/python3.11/site-packages (from httpx<1,>=0.23.0->openai->zeval) (2023.11.17)\n",
      "Requirement already satisfied: httpcore==1.* in /opt/homebrew/lib/python3.11/site-packages (from httpx<1,>=0.23.0->openai->zeval) (1.0.4)\n",
      "Requirement already satisfied: h11<0.15,>=0.13 in /opt/homebrew/lib/python3.11/site-packages (from httpcore==1.*->httpx<1,>=0.23.0->openai->zeval) (0.14.0)\n",
      "Requirement already satisfied: annotated-types>=0.4.0 in /opt/homebrew/lib/python3.11/site-packages (from pydantic<3,>=1.9.0->openai->zeval) (0.6.0)\n",
      "Requirement already satisfied: pydantic-core==2.18.1 in /opt/homebrew/lib/python3.11/site-packages (from pydantic<3,>=1.9.0->openai->zeval) (2.18.1)\n",
      "Requirement already satisfied: charset-normalizer<4,>=2 in /opt/homebrew/lib/python3.11/site-packages (from requests>=2.19.0->datasets->zeval) (3.3.2)\n",
      "Requirement already satisfied: urllib3<3,>=1.21.1 in /opt/homebrew/lib/python3.11/site-packages (from requests>=2.19.0->datasets->zeval) (2.0.7)\n",
      "Requirement already satisfied: python-dateutil>=2.8.2 in /opt/homebrew/lib/python3.11/site-packages (from pandas->datasets->zeval) (2.8.2)\n",
      "Requirement already satisfied: pytz>=2020.1 in /opt/homebrew/lib/python3.11/site-packages (from pandas->datasets->zeval) (2024.1)\n",
      "Requirement already satisfied: tzdata>=2022.7 in /opt/homebrew/lib/python3.11/site-packages (from pandas->datasets->zeval) (2024.1)\n",
      "Requirement already satisfied: cachetools>=4.2.2 in /opt/homebrew/lib/python3.11/site-packages (from zhipuai->unionllm->zeval) (5.3.1)\n",
      "Requirement already satisfied: pyjwt~=2.8.0 in /opt/homebrew/lib/python3.11/site-packages (from zhipuai->unionllm->zeval) (2.8.0)\n",
      "Requirement already satisfied: six>=1.5 in /opt/homebrew/lib/python3.11/site-packages (from python-dateutil>=2.8.2->pandas->datasets->zeval) (1.16.0)\n",
      "WARNING: pip is being invoked by an old script wrapper. This will fail in a future version of pip.\n",
      "Please see https://github.com/pypa/pip/issues/5599 for advice on fixing the underlying issue.\n",
      "To avoid this problem you can invoke Python with '-m pip' instead of running pip directly.\n",
      "Requirement already satisfied: evalsone in /opt/homebrew/lib/python3.11/site-packages (0.1.0)\n",
      "Requirement already satisfied: requests>=2.25.1 in /opt/homebrew/lib/python3.11/site-packages (from evalsone) (2.31.0)\n",
      "Requirement already satisfied: charset-normalizer<4,>=2 in /opt/homebrew/lib/python3.11/site-packages (from requests>=2.25.1->evalsone) (3.3.2)\n",
      "Requirement already satisfied: idna<4,>=2.5 in /opt/homebrew/lib/python3.11/site-packages (from requests>=2.25.1->evalsone) (3.6)\n",
      "Requirement already satisfied: urllib3<3,>=1.21.1 in /opt/homebrew/lib/python3.11/site-packages (from requests>=2.25.1->evalsone) (2.0.7)\n",
      "Requirement already satisfied: certifi>=2017.4.17 in /opt/homebrew/lib/python3.11/site-packages (from requests>=2.25.1->evalsone) (2023.11.17)\n"
     ]
    }
   ],
   "source": [
    "!pip install unionllm\n",
    "!pip install zeval\n",
    "!pip install evalsone"
   ]
  },
  {
   "cell_type": "code",
   "execution_count": 2,
   "metadata": {},
   "outputs": [
    {
     "name": "stderr",
     "output_type": "stream",
     "text": [
      "/opt/homebrew/lib/python3.11/site-packages/tqdm/auto.py:21: TqdmWarning: IProgress not found. Please update jupyter and ipywidgets. See https://ipywidgets.readthedocs.io/en/stable/user_install.html\n",
      "  from .autonotebook import tqdm as notebook_tqdm\n"
     ]
    }
   ],
   "source": [
    "# install the required packages\n",
    "from unionllm import unionchat\n",
    "from datasets import Dataset\n",
    "from zeval.evaluation import evaluate\n",
    "from zeval.evaluators import Faithfulness, AnswerRelevancy, ContextRecall, ContextPrecision\n",
    "from evalsone import EvalsOne\n",
    "import json"
   ]
  },
  {
   "cell_type": "code",
   "execution_count": 3,
   "metadata": {},
   "outputs": [
    {
     "name": "stdout",
     "output_type": "stream",
     "text": [
      "history is: []\n",
      "payload is: {\"query\": \"\\u667a\\u5546\\u6d4b\\u8bd5\", \"user\": \"618187a3bfa42e288\", \"bot_id\": \"7355829428481769477\", \"chat_history\": [], \"steam\": false}\n",
      "messages is: [{'role': 'assistant', 'type': 'verbose', 'content': '{\"verbose_type\":\"knowledge\",\"prompt\":\"\\\\n# 回答规则\\\\n根据引用的内容回答问题:\\\\n1.如果引用的内容里面包含 \\\\u003cimg src=\\\\\"\\\\\"\\\\u003e 的标签, 标签里的 src 字段表示图片地址, 可以在回答问题的时候展示出去, 输出格式为\\\\\"![图片名称](图片地址)\\\\\" \\\\n2.如果引用的内容不包含 \\\\u003cimg src=\\\\\"\\\\\"\\\\u003e 的标签, 你回答问题时不需要展示图片 \\\\n\\\\n# 引用的内容 \\\\nsection 1 start:\\\\n{\\\\\"answer\\\\\":\\\\\"心理测评为虚拟产品，购买后一般不支持退款，请您理解。如果您有特殊的理由，请从微信支付里找到交易的订单号(420000开头的一串数字)发送给我们并说明申请退款的理由，我们收到并核实后会与您联系。\\\\\",\\\\\"question\\\\\":\\\\\"智力测验退款\\\\\"}\\\\nsection 1 ends.\\\\nsection 2 start:\\\\n{\\\\\"answer\\\\\":\\\\\"\\\\\",\\\\\"question\\\\\":\\\\\"瑞文标准智力测验：你有多聪明？,http://p.melbacastillo.top/pquiz/rend/2725039?retake=1\\\\\\\\u0026cstr=5c987b7c4001f\\\\\"}\\\\nsection 2 ends.\\\\nsection 3 start:\\\\n{\\\\\"answer\\\\\":\\\\\"瑞文标准智力测验是国际上广受认可的智力测验工具。它是一种纯粹的非文字智力测验，所以广泛应用于无国界的智力/推理能力测试。具有较高的信度和效度。《最强大脑》中采用的就是这种智力测量标准。瑞文智力测验结果与测试参与者在测验时的精神状态，周边环境等多种因素有关，波动范围大约在3至15分左右（百分比等级分数）。\\\\\",\\\\\"question\\\\\":\\\\\"瑞文智力测验的结果可信吗？\\\\\"}\\\\nsection 3 ends.\\\\n\",\"chunks\":[{\"slice\":\"{\\\\\"answer\\\\\":\\\\\"心理测评为虚拟产品，购买后一般不支持退款，请您理解。如果您有特殊的理由，请从微信支付里找到交易的订单号(420000开头的一串数字)发送给我们并说明申请退款的理由，我们收到并核实后会与您联系。\\\\\",\\\\\"question\\\\\":\\\\\"智力测验退款\\\\\"}\",\"score\":0.794921875,\"meta\":{\"dataset\":{\"id\":\"7355828816272605190\",\"name\":\"mofang_service\"},\"document\":{\"id\":\"7355828816272703494\",\"name\":\"processed_questions_and_answers\",\"format_type\":1,\"source_type\":0},\"link\":{\"title\":\"mofang_service\",\"url\":\"\"}}},{\"slice\":\"{\\\\\"answer\\\\\":\\\\\"\\\\\",\\\\\"question\\\\\":\\\\\"瑞文标准智力测验：你有多聪明？,http://p.melbacastillo.top/pquiz/rend/2725039?retake=1\\\\\\\\u0026cstr=5c987b7c4001f\\\\\"}\",\"score\":0.59912109375,\"meta\":{\"dataset\":{\"id\":\"7355828816272605190\",\"name\":\"mofang_service\"},\"document\":{\"id\":\"7355828816272703494\",\"name\":\"processed_questions_and_answers\",\"format_type\":1,\"source_type\":0},\"link\":{\"title\":\"mofang_service\",\"url\":\"\"}}},{\"slice\":\"{\\\\\"answer\\\\\":\\\\\"瑞文标准智力测验是国际上广受认可的智力测验工具。它是一种纯粹的非文字智力测验，所以广泛应用于无国界的智力/推理能力测试。具有较高的信度和效度。《最强大脑》中采用的就是这种智力测量标准。瑞文智力测验结果与测试参与者在测验时的精神状态，周边环境等多种因素有关，波动范围大约在3至15分左右（百分比等级分数）。\\\\\",\\\\\"question\\\\\":\\\\\"瑞文智力测验的结果可信吗？\\\\\"}\",\"score\":0.52099609375,\"meta\":{\"dataset\":{\"id\":\"7355828816272605190\",\"name\":\"mofang_service\"},\"document\":{\"id\":\"7355828816272703494\",\"name\":\"processed_questions_and_answers\",\"format_type\":1,\"source_type\":0},\"link\":{\"title\":\"mofang_service\",\"url\":\"\"}}}]}', 'content_type': 'text'}, {'role': 'assistant', 'type': 'answer', 'content': '智商测试往往帮助我们评估和理解一个人的智力水平。对于一个具体的智商测试，如瑞文标准智力测验，您可以访问下面的链接进行操作：[瑞文标准智力测验测试](http://p.melbacastillo.top/pquiz/rend/2725039?retake=1\\\\u0026cstr=5c987b7c4001f)。\\n\\n这是一个已经被国际广泛认可的智力测验工具。它是一种纯粹的非文字智力测验，因此被广泛应用于无国界的智力/推理能力测试。具有较高的信度和效度。而且其结果与测试参与者在测验时的精神状态，周边环境等多种因素有关。\\n\\n请注意，心理测评为虚拟产品，购买后一般不支持退款。如果您有特殊的理由，请提供交易的订单号并说明申请退款的理由，我们将会与您取得联系。希望这个信息可以帮助你。', 'content_type': 'text'}, {'role': 'assistant', 'type': 'verbose', 'content': '{\"msg_type\":\"generate_answer_finish\",\"data\":\"\"}', 'content_type': 'text'}]\n",
      "content is: {'verbose_type': 'knowledge', 'prompt': '\\n# 回答规则\\n根据引用的内容回答问题:\\n1.如果引用的内容里面包含 <img src=\"\"> 的标签, 标签里的 src 字段表示图片地址, 可以在回答问题的时候展示出去, 输出格式为\"![图片名称](图片地址)\" \\n2.如果引用的内容不包含 <img src=\"\"> 的标签, 你回答问题时不需要展示图片 \\n\\n# 引用的内容 \\nsection 1 start:\\n{\"answer\":\"心理测评为虚拟产品，购买后一般不支持退款，请您理解。如果您有特殊的理由，请从微信支付里找到交易的订单号(420000开头的一串数字)发送给我们并说明申请退款的理由，我们收到并核实后会与您联系。\",\"question\":\"智力测验退款\"}\\nsection 1 ends.\\nsection 2 start:\\n{\"answer\":\"\",\"question\":\"瑞文标准智力测验：你有多聪明？,http://p.melbacastillo.top/pquiz/rend/2725039?retake=1\\\\u0026cstr=5c987b7c4001f\"}\\nsection 2 ends.\\nsection 3 start:\\n{\"answer\":\"瑞文标准智力测验是国际上广受认可的智力测验工具。它是一种纯粹的非文字智力测验，所以广泛应用于无国界的智力/推理能力测试。具有较高的信度和效度。《最强大脑》中采用的就是这种智力测量标准。瑞文智力测验结果与测试参与者在测验时的精神状态，周边环境等多种因素有关，波动范围大约在3至15分左右（百分比等级分数）。\",\"question\":\"瑞文智力测验的结果可信吗？\"}\\nsection 3 ends.\\n', 'chunks': [{'slice': '{\"answer\":\"心理测评为虚拟产品，购买后一般不支持退款，请您理解。如果您有特殊的理由，请从微信支付里找到交易的订单号(420000开头的一串数字)发送给我们并说明申请退款的理由，我们收到并核实后会与您联系。\",\"question\":\"智力测验退款\"}', 'score': 0.794921875, 'meta': {'dataset': {'id': '7355828816272605190', 'name': 'mofang_service'}, 'document': {'id': '7355828816272703494', 'name': 'processed_questions_and_answers', 'format_type': 1, 'source_type': 0}, 'link': {'title': 'mofang_service', 'url': ''}}}, {'slice': '{\"answer\":\"\",\"question\":\"瑞文标准智力测验：你有多聪明？,http://p.melbacastillo.top/pquiz/rend/2725039?retake=1\\\\u0026cstr=5c987b7c4001f\"}', 'score': 0.59912109375, 'meta': {'dataset': {'id': '7355828816272605190', 'name': 'mofang_service'}, 'document': {'id': '7355828816272703494', 'name': 'processed_questions_and_answers', 'format_type': 1, 'source_type': 0}, 'link': {'title': 'mofang_service', 'url': ''}}}, {'slice': '{\"answer\":\"瑞文标准智力测验是国际上广受认可的智力测验工具。它是一种纯粹的非文字智力测验，所以广泛应用于无国界的智力/推理能力测试。具有较高的信度和效度。《最强大脑》中采用的就是这种智力测量标准。瑞文智力测验结果与测试参与者在测验时的精神状态，周边环境等多种因素有关，波动范围大约在3至15分左右（百分比等级分数）。\",\"question\":\"瑞文智力测验的结果可信吗？\"}', 'score': 0.52099609375, 'meta': {'dataset': {'id': '7355828816272605190', 'name': 'mofang_service'}, 'document': {'id': '7355828816272703494', 'name': 'processed_questions_and_answers', 'format_type': 1, 'source_type': 0}, 'link': {'title': 'mofang_service', 'url': ''}}}]}\n",
      "chunk is: {'slice': '{\"answer\":\"心理测评为虚拟产品，购买后一般不支持退款，请您理解。如果您有特殊的理由，请从微信支付里找到交易的订单号(420000开头的一串数字)发送给我们并说明申请退款的理由，我们收到并核实后会与您联系。\",\"question\":\"智力测验退款\"}', 'score': 0.794921875, 'meta': {'dataset': {'id': '7355828816272605190', 'name': 'mofang_service'}, 'document': {'id': '7355828816272703494', 'name': 'processed_questions_and_answers', 'format_type': 1, 'source_type': 0}, 'link': {'title': 'mofang_service', 'url': ''}}}\n",
      "chunk is: {'slice': '{\"answer\":\"\",\"question\":\"瑞文标准智力测验：你有多聪明？,http://p.melbacastillo.top/pquiz/rend/2725039?retake=1\\\\u0026cstr=5c987b7c4001f\"}', 'score': 0.59912109375, 'meta': {'dataset': {'id': '7355828816272605190', 'name': 'mofang_service'}, 'document': {'id': '7355828816272703494', 'name': 'processed_questions_and_answers', 'format_type': 1, 'source_type': 0}, 'link': {'title': 'mofang_service', 'url': ''}}}\n",
      "chunk is: {'slice': '{\"answer\":\"瑞文标准智力测验是国际上广受认可的智力测验工具。它是一种纯粹的非文字智力测验，所以广泛应用于无国界的智力/推理能力测试。具有较高的信度和效度。《最强大脑》中采用的就是这种智力测量标准。瑞文智力测验结果与测试参与者在测验时的精神状态，周边环境等多种因素有关，波动范围大约在3至15分左右（百分比等级分数）。\",\"question\":\"瑞文智力测验的结果可信吗？\"}', 'score': 0.52099609375, 'meta': {'dataset': {'id': '7355828816272605190', 'name': 'mofang_service'}, 'document': {'id': '7355828816272703494', 'name': 'processed_questions_and_answers', 'format_type': 1, 'source_type': 0}, 'link': {'title': 'mofang_service', 'url': ''}}}\n",
      "content is: {'msg_type': 'generate_answer_finish', 'data': ''}\n",
      "ModelResponse(id='d0f670e280c14e588f762a0154b5c84a', choices=[Choices(finish_reason='stop', index=0, message=Message(content='智商测试往往帮助我们评估和理解一个人的智力水平。对于一个具体的智商测试，如瑞文标准智力测验，您可以访问下面的链接进行操作：[瑞文标准智力测验测试](http://p.melbacastillo.top/pquiz/rend/2725039?retake=1\\\\u0026cstr=5c987b7c4001f)。\\n\\n这是一个已经被国际广泛认可的智力测验工具。它是一种纯粹的非文字智力测验，因此被广泛应用于无国界的智力/推理能力测试。具有较高的信度和效度。而且其结果与测试参与者在测验时的精神状态，周边环境等多种因素有关。\\n\\n请注意，心理测评为虚拟产品，购买后一般不支持退款。如果您有特殊的理由，请提供交易的订单号并说明申请退款的理由，我们将会与您取得联系。希望这个信息可以帮助你。', role='assistant'))], created=1715343297, model='', object='chat.completion', system_fingerprint=None, usage=Usage(), context=[Context(id=1, content='{\"answer\":\"心理测评为虚拟产品，购买后一般不支持退款，请您理解。如果您有特殊的理由，请从微信支付里找到交易的订单号(420000开头的一串数字)发送给我们并说明申请退款的理由，我们收到并核实后会与您联系。\",\"question\":\"智力测验退款\"}', score=0.794921875), Context(id=2, content='{\"answer\":\"\",\"question\":\"瑞文标准智力测验：你有多聪明？,http://p.melbacastillo.top/pquiz/rend/2725039?retake=1\\\\u0026cstr=5c987b7c4001f\"}', score=0.59912109375), Context(id=3, content='{\"answer\":\"瑞文标准智力测验是国际上广受认可的智力测验工具。它是一种纯粹的非文字智力测验，所以广泛应用于无国界的智力/推理能力测试。具有较高的信度和效度。《最强大脑》中采用的就是这种智力测量标准。瑞文智力测验结果与测试参与者在测验时的精神状态，周边环境等多种因素有关，波动范围大约在3至15分左右（百分比等级分数）。\",\"question\":\"瑞文智力测验的结果可信吗？\"}', score=0.52099609375)])\n"
     ]
    }
   ],
   "source": [
    "query = \"智商测试\"\n",
    "ideal = [\"瑞文标准推理测验（SPM）是一种广受认可的智力测验工具，由英国心理学家瑞文于1938年创制。该测验是一种纯粹的非文字智力测验，广泛应用于无国界的智力/推理能力测试。它基于斯皮尔曼的智力二因素论，认为智力主要由普通因素（G因素）和特殊因素（S因素）构成。瑞文测验主要测量“G”因素，与问题解决、清晰知觉和思维、发现和利用信息以及适应社会生活能力相关。该测验由60张图组成，分为5个单元，考察了知觉辨别、类同比较、比较推理、系列关系推理、抽象推理运算等方面的思维能力。\"]\n",
    "messages = [\n",
    "    {\"role\": \"user\", \"content\": \"智商测试\"}\n",
    "]\n",
    "\n",
    "params = {\n",
    "    \"provider\": \"coze\",\n",
    "    \"api_key\": \"pat_hodyfcRog0CfCAfEMtKAueI1I8yD2tDuDBSrvSRoXhKm1xLCw0HDiePtEVgRFHzt\",\n",
    "    \"stream\": False,\n",
    "    \"details\": True\n",
    "}\n",
    "\n",
    "model = \"7355829428481769477\"\n",
    "response = unionchat(model=model, messages=messages, **params)\n",
    "print(response)"
   ]
  },
  {
   "cell_type": "code",
   "execution_count": 4,
   "metadata": {},
   "outputs": [],
   "source": [
    "# create a dataset from the response for evaluation\n",
    "sampled = response.choices[0].message.content\n",
    "context = []\n",
    "for context_item in response.context:\n",
    "    context.append(context_item.content)"
   ]
  },
  {
   "cell_type": "code",
   "execution_count": 5,
   "metadata": {},
   "outputs": [],
   "source": [
    "eo_client = EvalsOne(api_key='eo-G97ApyYaVQyCziSLdyZoFdPwQAP')"
   ]
  },
  {
   "cell_type": "code",
   "execution_count": 7,
   "metadata": {},
   "outputs": [
    {
     "name": "stdout",
     "output_type": "stream",
     "text": [
      "{'prompt': '[{\"role\": \"user\", \"content\": \"\\\\u667a\\\\u5546\\\\u6d4b\\\\u8bd5\"}]', 'completion': 'example completion', 'sid': 'd28a5166-7dcc-44b4-941d-738f1215fea0'}\n",
      "{'error': '403 Client Error: FORBIDDEN for url: https://api.evalsone.com/api/sample/add'}\n"
     ]
    }
   ],
   "source": [
    "kwargs = {'prompt': json.dumps(messages), 'completion': 'example completion','sid': 'd28a5166-7dcc-44b4-941d-738f1215fea0'}\n",
    "print(kwargs)\n",
    "response = eo_client.add_sample(kwargs)\n",
    "print(response)"
   ]
  }
 ],
 "metadata": {
  "kernelspec": {
   "display_name": "Python 3",
   "language": "python",
   "name": "python3"
  },
  "language_info": {
   "codemirror_mode": {
    "name": "ipython",
    "version": 3
   },
   "file_extension": ".py",
   "mimetype": "text/x-python",
   "name": "python",
   "nbconvert_exporter": "python",
   "pygments_lexer": "ipython3",
   "version": "3.11.9"
  }
 },
 "nbformat": 4,
 "nbformat_minor": 2
}
