{
 "cells": [
  {
   "cell_type": "markdown",
   "metadata": {},
   "source": [
    "# Use UnionLLm"
   ]
  },
  {
   "cell_type": "code",
   "execution_count": null,
   "metadata": {},
   "outputs": [],
   "source": [
    "!pip install unionllm\n",
    "from unionllm import unionchat\n",
    "import os, json"
   ]
  },
  {
   "cell_type": "code",
   "execution_count": null,
   "metadata": {},
   "outputs": [],
   "source": [
    "# Replace \"your api key\" with your own api key\n",
    "os.environ[\"ZHIPU_API_KEY\"] = \"your_api_key\""
   ]
  },
  {
   "cell_type": "code",
   "execution_count": null,
   "metadata": {},
   "outputs": [],
   "source": [
    "messages = [\n",
    "    {\"role\": \"system\", \"content\": \"You are a helpful assistant\"},\n",
    "    {\"role\": \"user\", \"content\": \"Please briefly introduce yourself\"},\n",
    "]\n",
    "stream = False\n",
    "params = {\n",
    "    \"stream\": stream,\n",
    "    \"temperature\": 0.5\n",
    "}\n",
    "\n",
    "model = \"glm-4\"\n",
    "completion = unionchat(provider=\"zhipuai\", model=model, messages=messages, **params)\n",
    "\n",
    "if not stream:\n",
    "    print(completion.choices[0].message)\n",
    "else:\n",
    "    for chunk in completion:\n",
    "        print(chunk.choices[0].delta)\n",
    "    "
   ]
  }
 ],
 "metadata": {
  "kernelspec": {
   "display_name": "Python 3",
   "language": "python",
   "name": "python3"
  },
  "language_info": {
   "codemirror_mode": {
    "name": "ipython",
    "version": 3
   },
   "file_extension": ".py",
   "mimetype": "text/x-python",
   "name": "python",
   "nbconvert_exporter": "python",
   "pygments_lexer": "ipython3",
   "version": "3.11.9"
  }
 },
 "nbformat": 4,
 "nbformat_minor": 2
}
