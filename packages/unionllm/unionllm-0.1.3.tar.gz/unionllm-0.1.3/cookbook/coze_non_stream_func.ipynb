{
 "cells": [
  {
   "cell_type": "markdown",
   "metadata": {},
   "source": [
    "# Use UnionLLm"
   ]
  },
  {
   "cell_type": "code",
   "execution_count": 1,
   "metadata": {},
   "outputs": [
    {
     "name": "stdout",
     "output_type": "stream",
     "text": [
      "WARNING: pip is being invoked by an old script wrapper. This will fail in a future version of pip.\n",
      "Please see https://github.com/pypa/pip/issues/5599 for advice on fixing the underlying issue.\n",
      "To avoid this problem you can invoke Python with '-m pip' instead of running pip directly.\n",
      "Requirement already satisfied: unionllm in /opt/homebrew/lib/python3.11/site-packages (0.1.0)\n",
      "Requirement already satisfied: openai in /opt/homebrew/lib/python3.11/site-packages (from unionllm) (1.28.0)\n",
      "Requirement already satisfied: pydantic in /opt/homebrew/lib/python3.11/site-packages (from unionllm) (2.7.0)\n",
      "Requirement already satisfied: zhipuai in /opt/homebrew/lib/python3.11/site-packages (from unionllm) (2.0.1)\n",
      "Requirement already satisfied: tenacity in /opt/homebrew/lib/python3.11/site-packages (from unionllm) (8.2.3)\n",
      "Requirement already satisfied: dashscope in /opt/homebrew/lib/python3.11/site-packages (from unionllm) (1.11.0)\n",
      "Requirement already satisfied: websocket-client in /opt/homebrew/lib/python3.11/site-packages (from unionllm) (1.7.0)\n",
      "Requirement already satisfied: requests in /opt/homebrew/lib/python3.11/site-packages (from unionllm) (2.31.0)\n",
      "Requirement already satisfied: aiohttp in /opt/homebrew/lib/python3.11/site-packages (from dashscope->unionllm) (3.9.3)\n",
      "Requirement already satisfied: anyio<5,>=3.5.0 in /opt/homebrew/lib/python3.11/site-packages (from openai->unionllm) (3.7.1)\n",
      "Requirement already satisfied: distro<2,>=1.7.0 in /opt/homebrew/lib/python3.11/site-packages (from openai->unionllm) (1.9.0)\n",
      "Requirement already satisfied: httpx<1,>=0.23.0 in /opt/homebrew/lib/python3.11/site-packages (from openai->unionllm) (0.25.2)\n",
      "Requirement already satisfied: sniffio in /opt/homebrew/lib/python3.11/site-packages (from openai->unionllm) (1.3.0)\n",
      "Requirement already satisfied: tqdm>4 in /opt/homebrew/lib/python3.11/site-packages (from openai->unionllm) (4.66.2)\n",
      "Requirement already satisfied: typing-extensions<5,>=4.7 in /opt/homebrew/lib/python3.11/site-packages (from openai->unionllm) (4.9.0)\n",
      "Requirement already satisfied: annotated-types>=0.4.0 in /opt/homebrew/lib/python3.11/site-packages (from pydantic->unionllm) (0.6.0)\n",
      "Requirement already satisfied: pydantic-core==2.18.1 in /opt/homebrew/lib/python3.11/site-packages (from pydantic->unionllm) (2.18.1)\n",
      "Requirement already satisfied: charset-normalizer<4,>=2 in /opt/homebrew/lib/python3.11/site-packages (from requests->unionllm) (3.3.2)\n",
      "Requirement already satisfied: idna<4,>=2.5 in /opt/homebrew/lib/python3.11/site-packages (from requests->unionllm) (3.6)\n",
      "Requirement already satisfied: urllib3<3,>=1.21.1 in /opt/homebrew/lib/python3.11/site-packages (from requests->unionllm) (2.0.7)\n",
      "Requirement already satisfied: certifi>=2017.4.17 in /opt/homebrew/lib/python3.11/site-packages (from requests->unionllm) (2023.11.17)\n",
      "Requirement already satisfied: cachetools>=4.2.2 in /opt/homebrew/lib/python3.11/site-packages (from zhipuai->unionllm) (5.3.1)\n",
      "Requirement already satisfied: pyjwt~=2.8.0 in /opt/homebrew/lib/python3.11/site-packages (from zhipuai->unionllm) (2.8.0)\n",
      "Requirement already satisfied: httpcore==1.* in /opt/homebrew/lib/python3.11/site-packages (from httpx<1,>=0.23.0->openai->unionllm) (1.0.4)\n",
      "Requirement already satisfied: h11<0.15,>=0.13 in /opt/homebrew/lib/python3.11/site-packages (from httpcore==1.*->httpx<1,>=0.23.0->openai->unionllm) (0.14.0)\n",
      "Requirement already satisfied: aiosignal>=1.1.2 in /opt/homebrew/lib/python3.11/site-packages (from aiohttp->dashscope->unionllm) (1.3.1)\n",
      "Requirement already satisfied: attrs>=17.3.0 in /opt/homebrew/lib/python3.11/site-packages (from aiohttp->dashscope->unionllm) (23.2.0)\n",
      "Requirement already satisfied: frozenlist>=1.1.1 in /opt/homebrew/lib/python3.11/site-packages (from aiohttp->dashscope->unionllm) (1.4.1)\n",
      "Requirement already satisfied: multidict<7.0,>=4.5 in /opt/homebrew/lib/python3.11/site-packages (from aiohttp->dashscope->unionllm) (6.0.5)\n",
      "Requirement already satisfied: yarl<2.0,>=1.0 in /opt/homebrew/lib/python3.11/site-packages (from aiohttp->dashscope->unionllm) (1.9.4)\n"
     ]
    }
   ],
   "source": [
    "!pip install unionllm"
   ]
  },
  {
   "cell_type": "code",
   "execution_count": 2,
   "metadata": {},
   "outputs": [],
   "source": [
    "from unionllm import unionchat"
   ]
  },
  {
   "cell_type": "code",
   "execution_count": 4,
   "metadata": {},
   "outputs": [
    {
     "name": "stdout",
     "output_type": "stream",
     "text": [
      "history is: []\n",
      "payload is: {\"query\": \"\\u667a\\u5546\\u6d4b\\u8bd5\\u7f51\\u5740\", \"user\": \"6183e9c5a458b790d\", \"bot_id\": \"7355829428481769477\", \"chat_history\": [], \"steam\": false}\n",
      "<Response [200]>\n",
      "result_dict is: {'messages': [{'role': 'assistant', 'type': 'verbose', 'content': '{\"verbose_type\":\"knowledge\",\"prompt\":\"\\\\n# 回答规则\\\\n根据引用的内容回答问题:\\\\n1.如果引用的内容里面包含 \\\\u003cimg src=\\\\\"\\\\\"\\\\u003e 的标签, 标签里的 src 字段表示图片地址, 可以在回答问题的时候展示出去, 输出格式为\\\\\"![图片名称](图片地址)\\\\\" \\\\n2.如果引用的内容不包含 \\\\u003cimg src=\\\\\"\\\\\"\\\\u003e 的标签, 你回答问题时不需要展示图片 \\\\n\\\\n# 引用的内容 \\\\nsection 1 start:\\\\n{\\\\\"answer\\\\\":\\\\\"心理测评为虚拟产品，购买后一般不支持退款，请您理解。如果您有特殊的理由，请从微信支付里找到交易的订单号(420000开头的一串数字)发送给我们并说明申请退款的理由，我们收到并核实后会与您联系。\\\\\",\\\\\"question\\\\\":\\\\\"智力测验退款\\\\\"}\\\\nsection 1 ends.\\\\n\",\"chunks\":[{\"slice\":\"{\\\\\"answer\\\\\":\\\\\"心理测评为虚拟产品，购买后一般不支持退款，请您理解。如果您有特殊的理由，请从微信支付里找到交易的订单号(420000开头的一串数字)发送给我们并说明申请退款的理由，我们收到并核实后会与您联系。\\\\\",\\\\\"question\\\\\":\\\\\"智力测验退款\\\\\"}\",\"score\":0.55615234375,\"meta\":{\"dataset\":{\"id\":\"7355828816272605190\",\"name\":\"mofang_service\"},\"document\":{\"id\":\"7355828816272703494\",\"name\":\"processed_questions_and_answers\",\"format_type\":1,\"source_type\":0},\"link\":{\"title\":\"mofang_service\",\"url\":\"\"}}}]}', 'content_type': 'text'}, {'role': 'assistant', 'type': 'answer', 'content': '你可以通过访问我们的官方网站进行智商测试。请点击以下链接进行访问：[智商测试](https://www.mofang.com/intelligence_test)。', 'content_type': 'text'}, {'role': 'assistant', 'type': 'verbose', 'content': '{\"msg_type\":\"generate_answer_finish\",\"data\":\"\"}', 'content_type': 'text'}], 'conversation_id': '6ab65a05a12343709f04010264661d5a', 'code': 0, 'msg': 'success'}\n",
      "content is: {'verbose_type': 'knowledge', 'prompt': '\\n# 回答规则\\n根据引用的内容回答问题:\\n1.如果引用的内容里面包含 <img src=\"\"> 的标签, 标签里的 src 字段表示图片地址, 可以在回答问题的时候展示出去, 输出格式为\"![图片名称](图片地址)\" \\n2.如果引用的内容不包含 <img src=\"\"> 的标签, 你回答问题时不需要展示图片 \\n\\n# 引用的内容 \\nsection 1 start:\\n{\"answer\":\"心理测评为虚拟产品，购买后一般不支持退款，请您理解。如果您有特殊的理由，请从微信支付里找到交易的订单号(420000开头的一串数字)发送给我们并说明申请退款的理由，我们收到并核实后会与您联系。\",\"question\":\"智力测验退款\"}\\nsection 1 ends.\\n', 'chunks': [{'slice': '{\"answer\":\"心理测评为虚拟产品，购买后一般不支持退款，请您理解。如果您有特殊的理由，请从微信支付里找到交易的订单号(420000开头的一串数字)发送给我们并说明申请退款的理由，我们收到并核实后会与您联系。\",\"question\":\"智力测验退款\"}', 'score': 0.55615234375, 'meta': {'dataset': {'id': '7355828816272605190', 'name': 'mofang_service'}, 'document': {'id': '7355828816272703494', 'name': 'processed_questions_and_answers', 'format_type': 1, 'source_type': 0}, 'link': {'title': 'mofang_service', 'url': ''}}}]}\n",
      "chunk is: {'slice': '{\"answer\":\"心理测评为虚拟产品，购买后一般不支持退款，请您理解。如果您有特殊的理由，请从微信支付里找到交易的订单号(420000开头的一串数字)发送给我们并说明申请退款的理由，我们收到并核实后会与您联系。\",\"question\":\"智力测验退款\"}', 'score': 0.55615234375, 'meta': {'dataset': {'id': '7355828816272605190', 'name': 'mofang_service'}, 'document': {'id': '7355828816272703494', 'name': 'processed_questions_and_answers', 'format_type': 1, 'source_type': 0}, 'link': {'title': 'mofang_service', 'url': ''}}}\n",
      "content is: {'msg_type': 'generate_answer_finish', 'data': ''}\n"
     ]
    }
   ],
   "source": [
    "messages = [\n",
    "    # {\"role\": \"user\", \"content\": \"早上好，我的名字叫张月\"},\n",
    "    # {\"role\": \"assistant\", \"content\": \"好的，我记住了\"},\n",
    "    {\"role\": \"user\", \"content\": \"智商测试网址\"}\n",
    "]\n",
    "\n",
    "params = {\n",
    "    \"provider\": \"coze\",\n",
    "    \"api_key\": \"pat_hodyfcRog0CfCAfEMtKAueI1I8yD2tDuDBSrvSRoXhKm1xLCw0HDiePtEVgRFHzt\",\n",
    "    \"stream\": False,\n",
    "    \"details\": True\n",
    "}\n",
    "\n",
    "model = \"7355829428481769477\"\n",
    "response = unionchat(model=model, messages=messages, **params)"
   ]
  },
  {
   "cell_type": "code",
   "execution_count": 5,
   "metadata": {},
   "outputs": [
    {
     "name": "stdout",
     "output_type": "stream",
     "text": [
      "ModelResponse(id='6ab65a05a12343709f04010264661d5a', choices=[Choices(finish_reason='stop', index=0, message=Message(content='你可以通过访问我们的官方网站进行智商测试。请点击以下链接进行访问：[智商测试](https://www.mofang.com/intelligence_test)。', role='assistant'))], created=1715507056, model='', object='chat.completion', system_fingerprint=None, usage=Usage(), context=[Context(id=1, content='{\"answer\":\"心理测评为虚拟产品，购买后一般不支持退款，请您理解。如果您有特殊的理由，请从微信支付里找到交易的订单号(420000开头的一串数字)发送给我们并说明申请退款的理由，我们收到并核实后会与您联系。\",\"question\":\"智力测验退款\"}', score=0.55615234375)])\n"
     ]
    }
   ],
   "source": [
    "print(response)"
   ]
  }
 ],
 "metadata": {
  "kernelspec": {
   "display_name": "Python 3",
   "language": "python",
   "name": "python3"
  },
  "language_info": {
   "codemirror_mode": {
    "name": "ipython",
    "version": 3
   },
   "file_extension": ".py",
   "mimetype": "text/x-python",
   "name": "python",
   "nbconvert_exporter": "python",
   "pygments_lexer": "ipython3",
   "version": "3.11.9"
  }
 },
 "nbformat": 4,
 "nbformat_minor": 2
}
