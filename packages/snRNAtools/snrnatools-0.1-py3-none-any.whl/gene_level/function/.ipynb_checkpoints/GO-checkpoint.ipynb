{
 "cells": [
  {
   "cell_type": "code",
   "execution_count": 1,
   "metadata": {},
   "outputs": [],
   "source": [
    "import plotly.graph_objects as go\n",
    "from plotly.subplots import make_subplots\n",
    "\n",
    "import pandas as pd\n",
    "import re\n",
    "import numpy as np"
   ]
  },
  {
   "cell_type": "code",
   "execution_count": 37,
   "metadata": {},
   "outputs": [],
   "source": [
    "# df = pd.read_csv(\"Type1_BP.txt\",sep='\\t')\n",
    "#df = df.loc[df.Bonferroni<0.05]\n",
    "\n",
    "fig = make_subplots(\n",
    "    rows=1, cols=2,\n",
    "    shared_xaxes=True,\n",
    "    vertical_spacing=0.03,\n",
    "    specs=[[{\"type\": \"bar\"},{\"type\": \"scatter\"}]]\n",
    ")\n",
    "\n",
    "fig.add_trace(go.Bar(\n",
    "    y=[segment.split('~')[1] for segment in df.Term],\n",
    "    x=df.Count,\n",
    "    name='Count',\n",
    "    orientation='h'\n",
    "))\n",
    "\n",
    "fig.add_trace(\n",
    "    go.Scatter(\n",
    "        x=[segment.split('~')[1] for segment in df.Term],\n",
    "        y=-np.log(df.Bonferroni),\n",
    "        name=\"-log(Bonferroni)\",\n",
    "        line=dict(dash='dot')\n",
    "    ),\n",
    "    row=1, col=2\n",
    ")\n",
    "\n",
    "# fig.add_trace(\n",
    "#     go.Table(\n",
    "#         header=dict(\n",
    "#             values=[\"Date\", \"Number<br>Transactions\", \"Output<br>Volume (BTC)\",\n",
    "#                     \"Market<br>Price\", \"Hash<br>Rate\", \"Cost per<br>trans-USD\",\n",
    "#                     \"Mining<br>Revenue-USD\", \"Trasaction<br>fees-BTC\"],\n",
    "#             font=dict(size=10),\n",
    "#             align=\"left\"\n",
    "#         ),\n",
    "#         cells=dict(\n",
    "#             values=[df[k].tolist() for k in df.columns[1:]],\n",
    "#             align = \"left\")\n",
    "#     ),\n",
    "#     row=1, col=1\n",
    "# )\n",
    "fig.update_layout(template='simple_white',title_text='Biological Process enriched by genes in Type 1 TAD',xaxis = dict(showgrid=False, ticks='inside',mirror=False,showline=True),\n",
    "                yaxis = dict(showgrid=False, ticks='inside',mirror=False,showline=True),yaxis2=dict(side = 'right'),\n",
    "                font=dict(size=18),\n",
    "                  width=1000,\n",
    "                  height=800,\n",
    "                 title_x=0.5,\n",
    "                 showlegend=True)\n",
    "\n",
    "fig.write_image('test.pdf',scale=1)"
   ]
  },
  {
   "cell_type": "code",
   "execution_count": 13,
   "metadata": {},
   "outputs": [],
   "source": [
    "def plot_BP(fname,typen,pathway):\n",
    "    \n",
    "    df = pd.read_csv(f\"{fname}.txt\",sep='\\t')\n",
    "    df = df.loc[df['Adjusted P-value']<0.05]\n",
    "    term_name = [segment.split('(')[0] for segment in df.Term]\n",
    "    term_name.reverse()\n",
    "    count = df.Overlap.tolist()\n",
    "    count.reverse()\n",
    "    bonferroni = -np.log(df['Adjusted P-value'])\n",
    "    bonferroni = bonferroni.tolist()\n",
    "    bonferroni.reverse()\n",
    "    fig = make_subplots(\n",
    "        rows=1, cols=2,\n",
    "        shared_xaxes=True,\n",
    "        vertical_spacing=0.03,\n",
    "        specs=[[{\"type\": \"bar\"},{\"type\": \"scatter\"}]]\n",
    "    )\n",
    "\n",
    "    fig.add_trace(go.Bar(\n",
    "        y=term_name,\n",
    "        x=count,\n",
    "        name='Count',\n",
    "        orientation='h'\n",
    "    ))\n",
    "    \n",
    "    fig.add_trace(\n",
    "        go.Scatter(\n",
    "            x=bonferroni,\n",
    "            y=term_name,\n",
    "            name=\"-log(Bonferroni)\",\n",
    "            line=dict(dash='dot')\n",
    "        ),\n",
    "        row=1, col=2\n",
    "    )\n",
    "\n",
    "\n",
    "    fig.update_layout(template='simple_white',title_text=f'{pathway} enriched by genes in Type {typen} TAD',xaxis = dict(showgrid=False, ticks='inside',mirror=False,showline=True),\n",
    "                yaxis = dict(showgrid=False, ticks='inside',mirror=False,showline=True),yaxis2=dict(side = 'right',showticklabels=False),\n",
    "                font=dict(size=18),\n",
    "                  width=1000,\n",
    "                  height=800,\n",
    "                 title_x=0.5,\n",
    "                 showlegend=True)\n",
    "\n",
    "    fig.write_image(f'{fname}.pdf',scale=1)"
   ]
  },
  {
   "cell_type": "code",
   "execution_count": 14,
   "metadata": {},
   "outputs": [],
   "source": [
    "plot_BP('Type3_MF_2','3','Molecular Function')"
   ]
  },
  {
   "cell_type": "code",
   "execution_count": 7,
   "metadata": {},
   "outputs": [
    {
     "data": {
      "text/plain": [
       "Index(['Term', 'Overlap', 'P-value', 'Adjusted P-value', 'Old P-value',\n",
       "       'Old Adjusted P-value', 'Odds Ratio', 'Combined Score', 'Genes'],\n",
       "      dtype='object')"
      ]
     },
     "execution_count": 7,
     "metadata": {},
     "output_type": "execute_result"
    }
   ],
   "source": [
    "pd.read_csv('Type3_MF_2.txt',sep='\\t').columns"
   ]
  },
  {
   "cell_type": "code",
   "execution_count": 82,
   "metadata": {},
   "outputs": [],
   "source": [
    "df.Count.tolist().reverse()"
   ]
  },
  {
   "cell_type": "code",
   "execution_count": null,
   "metadata": {},
   "outputs": [],
   "source": []
  }
 ],
 "metadata": {
  "kernelspec": {
   "display_name": "Python 3",
   "language": "python",
   "name": "python3"
  },
  "language_info": {
   "codemirror_mode": {
    "name": "ipython",
    "version": 3
   },
   "file_extension": ".py",
   "mimetype": "text/x-python",
   "name": "python",
   "nbconvert_exporter": "python",
   "pygments_lexer": "ipython3",
   "version": "3.7.7"
  }
 },
 "nbformat": 4,
 "nbformat_minor": 4
}
