{
 "cells": [
  {
   "cell_type": "markdown",
   "metadata": {},
   "source": [
    "# Sampling and Splitting"
   ]
  },
  {
   "cell_type": "markdown",
   "metadata": {},
   "source": [
    "## Sampling\n",
    "\n",
    "Sampling for basic tabular datasets. (Not designed for time series as of now.)"
   ]
  },
  {
   "cell_type": "code",
   "execution_count": 1,
   "metadata": {},
   "outputs": [],
   "source": [
    "import polars as pl\n",
    "import polars_ds as pds\n",
    "import polars_ds.sample as sa"
   ]
  },
  {
   "cell_type": "code",
   "execution_count": 2,
   "metadata": {},
   "outputs": [
    {
     "data": {
      "text/html": [
       "<div><style>\n",
       ".dataframe > thead > tr,\n",
       ".dataframe > tbody > tr {\n",
       "  text-align: right;\n",
       "  white-space: pre-wrap;\n",
       "}\n",
       "</style>\n",
       "<small>shape: (5, 8)</small><table border=\"1\" class=\"dataframe\"><thead><tr><th>row_num</th><th>uniform_1</th><th>uniform_2</th><th>exp</th><th>normal</th><th>fat_normal</th><th>flags</th><th>category</th></tr><tr><td>i64</td><td>f64</td><td>f64</td><td>f64</td><td>f64</td><td>f64</td><td>i32</td><td>str</td></tr></thead><tbody><tr><td>0</td><td>4.956064</td><td>0.790845</td><td>1.201162</td><td>-0.671454</td><td>-1222.053614</td><td>1</td><td>&quot;A&quot;</td></tr><tr><td>1</td><td>8.972744</td><td>0.89496</td><td>1.072396</td><td>0.261114</td><td>-24.227971</td><td>1</td><td>&quot;A&quot;</td></tr><tr><td>2</td><td>1.294361</td><td>0.962767</td><td>0.855414</td><td>0.093892</td><td>184.029752</td><td>2</td><td>&quot;A&quot;</td></tr><tr><td>3</td><td>0.759313</td><td>0.481386</td><td>1.158297</td><td>-1.497403</td><td>-904.57427</td><td>0</td><td>&quot;A&quot;</td></tr><tr><td>4</td><td>6.024539</td><td>0.528093</td><td>3.823704</td><td>-0.572181</td><td>1700.880363</td><td>0</td><td>&quot;A&quot;</td></tr></tbody></table></div>"
      ],
      "text/plain": [
       "shape: (5, 8)\n",
       "┌─────────┬───────────┬───────────┬──────────┬───────────┬──────────────┬───────┬──────────┐\n",
       "│ row_num ┆ uniform_1 ┆ uniform_2 ┆ exp      ┆ normal    ┆ fat_normal   ┆ flags ┆ category │\n",
       "│ ---     ┆ ---       ┆ ---       ┆ ---      ┆ ---       ┆ ---          ┆ ---   ┆ ---      │\n",
       "│ i64     ┆ f64       ┆ f64       ┆ f64      ┆ f64       ┆ f64          ┆ i32   ┆ str      │\n",
       "╞═════════╪═══════════╪═══════════╪══════════╪═══════════╪══════════════╪═══════╪══════════╡\n",
       "│ 0       ┆ 4.956064  ┆ 0.790845  ┆ 1.201162 ┆ -0.671454 ┆ -1222.053614 ┆ 1     ┆ A        │\n",
       "│ 1       ┆ 8.972744  ┆ 0.89496   ┆ 1.072396 ┆ 0.261114  ┆ -24.227971   ┆ 1     ┆ A        │\n",
       "│ 2       ┆ 1.294361  ┆ 0.962767  ┆ 0.855414 ┆ 0.093892  ┆ 184.029752   ┆ 2     ┆ A        │\n",
       "│ 3       ┆ 0.759313  ┆ 0.481386  ┆ 1.158297 ┆ -1.497403 ┆ -904.57427   ┆ 0     ┆ A        │\n",
       "│ 4       ┆ 6.024539  ┆ 0.528093  ┆ 3.823704 ┆ -0.572181 ┆ 1700.880363  ┆ 0     ┆ A        │\n",
       "└─────────┴───────────┴───────────┴──────────┴───────────┴──────────────┴───────┴──────────┘"
      ]
     },
     "execution_count": 2,
     "metadata": {},
     "output_type": "execute_result"
    }
   ],
   "source": [
    "df = pds.random_data(size=100_000, n_cols = 0).with_columns(\n",
    "    pds.random(0.0, 12.0).alias(\"uniform_1\"),\n",
    "    pds.random(0.0, 1.0).alias(\"uniform_2\"),\n",
    "    pds.random_exp(0.5).alias(\"exp\"),\n",
    "    pds.random_normal(0.0, 1.0).alias(\"normal\"),\n",
    "    pds.random_normal(0.0, 1000.0).alias(\"fat_normal\"),\n",
    "    (pds.random_int(0, 3)).alias(\"flags\"),\n",
    "    pl.Series([\"A\"] * 30_000 + [\"B\"] * 30_000 + [\"C\"] * 40_000).alias(\"category\"),\n",
    ")\n",
    "df.head()"
   ]
  },
  {
   "cell_type": "code",
   "execution_count": 3,
   "metadata": {},
   "outputs": [
    {
     "data": {
      "text/plain": [
       "['row_num', 'fat_normal', 'flags']"
      ]
     },
     "execution_count": 3,
     "metadata": {},
     "output_type": "execute_result"
    }
   ],
   "source": [
    "sa.random_cols(df, 2, keep = [\"row_num\"])"
   ]
  },
  {
   "cell_type": "code",
   "execution_count": 4,
   "metadata": {},
   "outputs": [
    {
     "data": {
      "text/html": [
       "<div><style>\n",
       ".dataframe > thead > tr,\n",
       ".dataframe > tbody > tr {\n",
       "  text-align: right;\n",
       "  white-space: pre-wrap;\n",
       "}\n",
       "</style>\n",
       "<small>shape: (60_000, 8)</small><table border=\"1\" class=\"dataframe\"><thead><tr><th>row_num</th><th>uniform_1</th><th>uniform_2</th><th>exp</th><th>normal</th><th>fat_normal</th><th>flags</th><th>category</th></tr><tr><td>i64</td><td>f64</td><td>f64</td><td>f64</td><td>f64</td><td>f64</td><td>i32</td><td>str</td></tr></thead><tbody><tr><td>4</td><td>6.024539</td><td>0.528093</td><td>3.823704</td><td>-0.572181</td><td>1700.880363</td><td>0</td><td>&quot;A&quot;</td></tr><tr><td>5</td><td>5.364331</td><td>0.238052</td><td>4.788557</td><td>0.417112</td><td>-132.841882</td><td>1</td><td>&quot;A&quot;</td></tr><tr><td>6</td><td>0.257486</td><td>0.720676</td><td>1.102975</td><td>0.363163</td><td>-1175.364442</td><td>2</td><td>&quot;A&quot;</td></tr><tr><td>9</td><td>8.529999</td><td>0.994186</td><td>4.313919</td><td>-1.360975</td><td>674.937081</td><td>2</td><td>&quot;A&quot;</td></tr><tr><td>10</td><td>9.858746</td><td>0.509561</td><td>1.453179</td><td>0.910365</td><td>-79.215763</td><td>1</td><td>&quot;A&quot;</td></tr><tr><td>&hellip;</td><td>&hellip;</td><td>&hellip;</td><td>&hellip;</td><td>&hellip;</td><td>&hellip;</td><td>&hellip;</td><td>&hellip;</td></tr><tr><td>99990</td><td>2.764397</td><td>0.942385</td><td>0.044195</td><td>-0.73278</td><td>1569.240084</td><td>2</td><td>&quot;C&quot;</td></tr><tr><td>99991</td><td>6.603121</td><td>0.841659</td><td>1.898811</td><td>-1.07152</td><td>752.934449</td><td>2</td><td>&quot;C&quot;</td></tr><tr><td>99995</td><td>7.320427</td><td>0.420041</td><td>1.409902</td><td>2.074616</td><td>-2174.948455</td><td>0</td><td>&quot;C&quot;</td></tr><tr><td>99996</td><td>6.34049</td><td>0.185967</td><td>12.632619</td><td>-0.345696</td><td>275.279029</td><td>2</td><td>&quot;C&quot;</td></tr><tr><td>99998</td><td>0.533415</td><td>0.328439</td><td>0.604956</td><td>0.671557</td><td>611.134987</td><td>0</td><td>&quot;C&quot;</td></tr></tbody></table></div>"
      ],
      "text/plain": [
       "shape: (60_000, 8)\n",
       "┌─────────┬───────────┬───────────┬───────────┬───────────┬──────────────┬───────┬──────────┐\n",
       "│ row_num ┆ uniform_1 ┆ uniform_2 ┆ exp       ┆ normal    ┆ fat_normal   ┆ flags ┆ category │\n",
       "│ ---     ┆ ---       ┆ ---       ┆ ---       ┆ ---       ┆ ---          ┆ ---   ┆ ---      │\n",
       "│ i64     ┆ f64       ┆ f64       ┆ f64       ┆ f64       ┆ f64          ┆ i32   ┆ str      │\n",
       "╞═════════╪═══════════╪═══════════╪═══════════╪═══════════╪══════════════╪═══════╪══════════╡\n",
       "│ 4       ┆ 6.024539  ┆ 0.528093  ┆ 3.823704  ┆ -0.572181 ┆ 1700.880363  ┆ 0     ┆ A        │\n",
       "│ 5       ┆ 5.364331  ┆ 0.238052  ┆ 4.788557  ┆ 0.417112  ┆ -132.841882  ┆ 1     ┆ A        │\n",
       "│ 6       ┆ 0.257486  ┆ 0.720676  ┆ 1.102975  ┆ 0.363163  ┆ -1175.364442 ┆ 2     ┆ A        │\n",
       "│ 9       ┆ 8.529999  ┆ 0.994186  ┆ 4.313919  ┆ -1.360975 ┆ 674.937081   ┆ 2     ┆ A        │\n",
       "│ 10      ┆ 9.858746  ┆ 0.509561  ┆ 1.453179  ┆ 0.910365  ┆ -79.215763   ┆ 1     ┆ A        │\n",
       "│ …       ┆ …         ┆ …         ┆ …         ┆ …         ┆ …            ┆ …     ┆ …        │\n",
       "│ 99990   ┆ 2.764397  ┆ 0.942385  ┆ 0.044195  ┆ -0.73278  ┆ 1569.240084  ┆ 2     ┆ C        │\n",
       "│ 99991   ┆ 6.603121  ┆ 0.841659  ┆ 1.898811  ┆ -1.07152  ┆ 752.934449   ┆ 2     ┆ C        │\n",
       "│ 99995   ┆ 7.320427  ┆ 0.420041  ┆ 1.409902  ┆ 2.074616  ┆ -2174.948455 ┆ 0     ┆ C        │\n",
       "│ 99996   ┆ 6.34049   ┆ 0.185967  ┆ 12.632619 ┆ -0.345696 ┆ 275.279029   ┆ 2     ┆ C        │\n",
       "│ 99998   ┆ 0.533415  ┆ 0.328439  ┆ 0.604956  ┆ 0.671557  ┆ 611.134987   ┆ 0     ┆ C        │\n",
       "└─────────┴───────────┴───────────┴───────────┴───────────┴──────────────┴───────┴──────────┘"
      ]
     },
     "execution_count": 4,
     "metadata": {},
     "output_type": "execute_result"
    }
   ],
   "source": [
    "# Random Sample\n",
    "sa.sample(df, 0.6) # by ratio"
   ]
  },
  {
   "cell_type": "code",
   "execution_count": 5,
   "metadata": {},
   "outputs": [
    {
     "data": {
      "text/html": [
       "<div><style>\n",
       ".dataframe > thead > tr,\n",
       ".dataframe > tbody > tr {\n",
       "  text-align: right;\n",
       "  white-space: pre-wrap;\n",
       "}\n",
       "</style>\n",
       "<small>shape: (30_000, 8)</small><table border=\"1\" class=\"dataframe\"><thead><tr><th>row_num</th><th>uniform_1</th><th>uniform_2</th><th>exp</th><th>normal</th><th>fat_normal</th><th>flags</th><th>category</th></tr><tr><td>i64</td><td>f64</td><td>f64</td><td>f64</td><td>f64</td><td>f64</td><td>i32</td><td>str</td></tr></thead><tbody><tr><td>0</td><td>4.956064</td><td>0.790845</td><td>1.201162</td><td>-0.671454</td><td>-1222.053614</td><td>1</td><td>&quot;A&quot;</td></tr><tr><td>10</td><td>9.858746</td><td>0.509561</td><td>1.453179</td><td>0.910365</td><td>-79.215763</td><td>1</td><td>&quot;A&quot;</td></tr><tr><td>11</td><td>1.316456</td><td>0.321104</td><td>2.755456</td><td>-0.987854</td><td>-594.445564</td><td>2</td><td>&quot;A&quot;</td></tr><tr><td>12</td><td>1.033735</td><td>0.112864</td><td>4.39498</td><td>0.497926</td><td>-305.278576</td><td>0</td><td>&quot;A&quot;</td></tr><tr><td>22</td><td>3.103599</td><td>0.170745</td><td>0.569406</td><td>1.256892</td><td>-577.878977</td><td>2</td><td>&quot;A&quot;</td></tr><tr><td>&hellip;</td><td>&hellip;</td><td>&hellip;</td><td>&hellip;</td><td>&hellip;</td><td>&hellip;</td><td>&hellip;</td><td>&hellip;</td></tr><tr><td>99985</td><td>4.860036</td><td>0.62828</td><td>8.338849</td><td>-0.596043</td><td>40.187283</td><td>1</td><td>&quot;C&quot;</td></tr><tr><td>99989</td><td>8.524513</td><td>0.334461</td><td>0.581785</td><td>-0.897246</td><td>338.725898</td><td>0</td><td>&quot;C&quot;</td></tr><tr><td>99991</td><td>6.603121</td><td>0.841659</td><td>1.898811</td><td>-1.07152</td><td>752.934449</td><td>2</td><td>&quot;C&quot;</td></tr><tr><td>99993</td><td>4.61854</td><td>0.143395</td><td>6.73033</td><td>0.967123</td><td>-179.237561</td><td>2</td><td>&quot;C&quot;</td></tr><tr><td>99995</td><td>7.320427</td><td>0.420041</td><td>1.409902</td><td>2.074616</td><td>-2174.948455</td><td>0</td><td>&quot;C&quot;</td></tr></tbody></table></div>"
      ],
      "text/plain": [
       "shape: (30_000, 8)\n",
       "┌─────────┬───────────┬───────────┬──────────┬───────────┬──────────────┬───────┬──────────┐\n",
       "│ row_num ┆ uniform_1 ┆ uniform_2 ┆ exp      ┆ normal    ┆ fat_normal   ┆ flags ┆ category │\n",
       "│ ---     ┆ ---       ┆ ---       ┆ ---      ┆ ---       ┆ ---          ┆ ---   ┆ ---      │\n",
       "│ i64     ┆ f64       ┆ f64       ┆ f64      ┆ f64       ┆ f64          ┆ i32   ┆ str      │\n",
       "╞═════════╪═══════════╪═══════════╪══════════╪═══════════╪══════════════╪═══════╪══════════╡\n",
       "│ 0       ┆ 4.956064  ┆ 0.790845  ┆ 1.201162 ┆ -0.671454 ┆ -1222.053614 ┆ 1     ┆ A        │\n",
       "│ 10      ┆ 9.858746  ┆ 0.509561  ┆ 1.453179 ┆ 0.910365  ┆ -79.215763   ┆ 1     ┆ A        │\n",
       "│ 11      ┆ 1.316456  ┆ 0.321104  ┆ 2.755456 ┆ -0.987854 ┆ -594.445564  ┆ 2     ┆ A        │\n",
       "│ 12      ┆ 1.033735  ┆ 0.112864  ┆ 4.39498  ┆ 0.497926  ┆ -305.278576  ┆ 0     ┆ A        │\n",
       "│ 22      ┆ 3.103599  ┆ 0.170745  ┆ 0.569406 ┆ 1.256892  ┆ -577.878977  ┆ 2     ┆ A        │\n",
       "│ …       ┆ …         ┆ …         ┆ …        ┆ …         ┆ …            ┆ …     ┆ …        │\n",
       "│ 99985   ┆ 4.860036  ┆ 0.62828   ┆ 8.338849 ┆ -0.596043 ┆ 40.187283    ┆ 1     ┆ C        │\n",
       "│ 99989   ┆ 8.524513  ┆ 0.334461  ┆ 0.581785 ┆ -0.897246 ┆ 338.725898   ┆ 0     ┆ C        │\n",
       "│ 99991   ┆ 6.603121  ┆ 0.841659  ┆ 1.898811 ┆ -1.07152  ┆ 752.934449   ┆ 2     ┆ C        │\n",
       "│ 99993   ┆ 4.61854   ┆ 0.143395  ┆ 6.73033  ┆ 0.967123  ┆ -179.237561  ┆ 2     ┆ C        │\n",
       "│ 99995   ┆ 7.320427  ┆ 0.420041  ┆ 1.409902 ┆ 2.074616  ┆ -2174.948455 ┆ 0     ┆ C        │\n",
       "└─────────┴───────────┴───────────┴──────────┴───────────┴──────────────┴───────┴──────────┘"
      ]
     },
     "execution_count": 5,
     "metadata": {},
     "output_type": "execute_result"
    }
   ],
   "source": [
    "sa.sample(df, 30_000) # by count"
   ]
  },
  {
   "cell_type": "code",
   "execution_count": 6,
   "metadata": {},
   "outputs": [
    {
     "data": {
      "text/html": [
       "<div><style>\n",
       ".dataframe > thead > tr,\n",
       ".dataframe > tbody > tr {\n",
       "  text-align: right;\n",
       "  white-space: pre-wrap;\n",
       "}\n",
       "</style>\n",
       "<small>shape: (3, 2)</small><table border=\"1\" class=\"dataframe\"><thead><tr><th>flags</th><th>len</th></tr><tr><td>i32</td><td>u32</td></tr></thead><tbody><tr><td>0</td><td>33400</td></tr><tr><td>1</td><td>33305</td></tr><tr><td>2</td><td>33295</td></tr></tbody></table></div>"
      ],
      "text/plain": [
       "shape: (3, 2)\n",
       "┌───────┬───────┐\n",
       "│ flags ┆ len   │\n",
       "│ ---   ┆ ---   │\n",
       "│ i32   ┆ u32   │\n",
       "╞═══════╪═══════╡\n",
       "│ 0     ┆ 33400 │\n",
       "│ 1     ┆ 33305 │\n",
       "│ 2     ┆ 33295 │\n",
       "└───────┴───────┘"
      ]
     },
     "execution_count": 6,
     "metadata": {},
     "output_type": "execute_result"
    }
   ],
   "source": [
    "df.group_by(\"flags\").len().sort(\"flags\")"
   ]
  },
  {
   "cell_type": "code",
   "execution_count": 7,
   "metadata": {},
   "outputs": [
    {
     "data": {
      "text/html": [
       "<div><style>\n",
       ".dataframe > thead > tr,\n",
       ".dataframe > tbody > tr {\n",
       "  text-align: right;\n",
       "  white-space: pre-wrap;\n",
       "}\n",
       "</style>\n",
       "<small>shape: (3, 2)</small><table border=\"1\" class=\"dataframe\"><thead><tr><th>flags</th><th>len</th></tr><tr><td>i32</td><td>u32</td></tr></thead><tbody><tr><td>0</td><td>16700</td></tr><tr><td>1</td><td>33305</td></tr><tr><td>2</td><td>33295</td></tr></tbody></table></div>"
      ],
      "text/plain": [
       "shape: (3, 2)\n",
       "┌───────┬───────┐\n",
       "│ flags ┆ len   │\n",
       "│ ---   ┆ ---   │\n",
       "│ i32   ┆ u32   │\n",
       "╞═══════╪═══════╡\n",
       "│ 0     ┆ 16700 │\n",
       "│ 1     ┆ 33305 │\n",
       "│ 2     ┆ 33295 │\n",
       "└───────┴───────┘"
      ]
     },
     "execution_count": 7,
     "metadata": {},
     "output_type": "execute_result"
    }
   ],
   "source": [
    "# Downsample on one group\n",
    "sa1 = sa.downsample(\n",
    "    df, \n",
    "    (pl.col(\"flags\") == 0, 0.5)\n",
    ")\n",
    "sa1.group_by(\"flags\").len().sort(\"flags\")"
   ]
  },
  {
   "cell_type": "code",
   "execution_count": 8,
   "metadata": {},
   "outputs": [
    {
     "data": {
      "text/html": [
       "<div><style>\n",
       ".dataframe > thead > tr,\n",
       ".dataframe > tbody > tr {\n",
       "  text-align: right;\n",
       "  white-space: pre-wrap;\n",
       "}\n",
       "</style>\n",
       "<small>shape: (3, 2)</small><table border=\"1\" class=\"dataframe\"><thead><tr><th>flags</th><th>len</th></tr><tr><td>i32</td><td>u32</td></tr></thead><tbody><tr><td>0</td><td>16700</td></tr><tr><td>1</td><td>9992</td></tr><tr><td>2</td><td>13318</td></tr></tbody></table></div>"
      ],
      "text/plain": [
       "shape: (3, 2)\n",
       "┌───────┬───────┐\n",
       "│ flags ┆ len   │\n",
       "│ ---   ┆ ---   │\n",
       "│ i32   ┆ u32   │\n",
       "╞═══════╪═══════╡\n",
       "│ 0     ┆ 16700 │\n",
       "│ 1     ┆ 9992  │\n",
       "│ 2     ┆ 13318 │\n",
       "└───────┴───────┘"
      ]
     },
     "execution_count": 8,
     "metadata": {},
     "output_type": "execute_result"
    }
   ],
   "source": [
    "# Downsample on multiple groups\n",
    "sa2 = sa.downsample(\n",
    "    df, \n",
    "    [\n",
    "        (pl.col(\"flags\") == 0, 0.5),\n",
    "        (pl.col(\"flags\") == 1, 0.3),\n",
    "        (pl.col(\"flags\") == 2, 0.4),\n",
    "    ]\n",
    ")\n",
    "sa2.group_by(\"flags\").len().sort(\"flags\")"
   ]
  },
  {
   "cell_type": "code",
   "execution_count": 9,
   "metadata": {},
   "outputs": [
    {
     "data": {
      "text/html": [
       "<div><style>\n",
       ".dataframe > thead > tr,\n",
       ".dataframe > tbody > tr {\n",
       "  text-align: right;\n",
       "  white-space: pre-wrap;\n",
       "}\n",
       "</style>\n",
       "<small>shape: (3, 2)</small><table border=\"1\" class=\"dataframe\"><thead><tr><th>category</th><th>len</th></tr><tr><td>str</td><td>u32</td></tr></thead><tbody><tr><td>&quot;A&quot;</td><td>30000</td></tr><tr><td>&quot;B&quot;</td><td>30000</td></tr><tr><td>&quot;C&quot;</td><td>40000</td></tr></tbody></table></div>"
      ],
      "text/plain": [
       "shape: (3, 2)\n",
       "┌──────────┬───────┐\n",
       "│ category ┆ len   │\n",
       "│ ---      ┆ ---   │\n",
       "│ str      ┆ u32   │\n",
       "╞══════════╪═══════╡\n",
       "│ A        ┆ 30000 │\n",
       "│ B        ┆ 30000 │\n",
       "│ C        ┆ 40000 │\n",
       "└──────────┴───────┘"
      ]
     },
     "execution_count": 9,
     "metadata": {},
     "output_type": "execute_result"
    }
   ],
   "source": [
    "df.group_by(\"category\").len().sort(\"category\")"
   ]
  },
  {
   "cell_type": "code",
   "execution_count": 10,
   "metadata": {},
   "outputs": [
    {
     "data": {
      "text/html": [
       "<div><style>\n",
       ".dataframe > thead > tr,\n",
       ".dataframe > tbody > tr {\n",
       "  text-align: right;\n",
       "  white-space: pre-wrap;\n",
       "}\n",
       "</style>\n",
       "<small>shape: (3, 2)</small><table border=\"1\" class=\"dataframe\"><thead><tr><th>category</th><th>len</th></tr><tr><td>str</td><td>u32</td></tr></thead><tbody><tr><td>&quot;A&quot;</td><td>30000</td></tr><tr><td>&quot;B&quot;</td><td>30000</td></tr><tr><td>&quot;C&quot;</td><td>30000</td></tr></tbody></table></div>"
      ],
      "text/plain": [
       "shape: (3, 2)\n",
       "┌──────────┬───────┐\n",
       "│ category ┆ len   │\n",
       "│ ---      ┆ ---   │\n",
       "│ str      ┆ u32   │\n",
       "╞══════════╪═══════╡\n",
       "│ A        ┆ 30000 │\n",
       "│ B        ┆ 30000 │\n",
       "│ C        ┆ 30000 │\n",
       "└──────────┴───────┘"
      ]
     },
     "execution_count": 10,
     "metadata": {},
     "output_type": "execute_result"
    }
   ],
   "source": [
    "# Volume neutral by each category, will take the greatest possible value so that we get neutral volume.\n",
    "vn = sa.volume_neutral(\n",
    "    df,\n",
    "    by = pl.col(\"category\"),\n",
    ")\n",
    "vn.group_by(\"category\").len().sort(\"category\")"
   ]
  },
  {
   "cell_type": "code",
   "execution_count": 11,
   "metadata": {},
   "outputs": [
    {
     "data": {
      "text/html": [
       "<div><style>\n",
       ".dataframe > thead > tr,\n",
       ".dataframe > tbody > tr {\n",
       "  text-align: right;\n",
       "  white-space: pre-wrap;\n",
       "}\n",
       "</style>\n",
       "<small>shape: (3, 2)</small><table border=\"1\" class=\"dataframe\"><thead><tr><th>category</th><th>len</th></tr><tr><td>str</td><td>u32</td></tr></thead><tbody><tr><td>&quot;A&quot;</td><td>10000</td></tr><tr><td>&quot;B&quot;</td><td>10000</td></tr><tr><td>&quot;C&quot;</td><td>10000</td></tr></tbody></table></div>"
      ],
      "text/plain": [
       "shape: (3, 2)\n",
       "┌──────────┬───────┐\n",
       "│ category ┆ len   │\n",
       "│ ---      ┆ ---   │\n",
       "│ str      ┆ u32   │\n",
       "╞══════════╪═══════╡\n",
       "│ A        ┆ 10000 │\n",
       "│ B        ┆ 10000 │\n",
       "│ C        ┆ 10000 │\n",
       "└──────────┴───────┘"
      ]
     },
     "execution_count": 11,
     "metadata": {},
     "output_type": "execute_result"
    }
   ],
   "source": [
    "# Volume neutral (10_000) by each category\n",
    "vn = sa.volume_neutral(\n",
    "    df,\n",
    "    by = pl.col(\"category\"),\n",
    "    target_volume = 10_000\n",
    ")\n",
    "vn.group_by(\"category\").len().sort(\"category\")"
   ]
  },
  {
   "cell_type": "code",
   "execution_count": 12,
   "metadata": {},
   "outputs": [
    {
     "data": {
      "text/html": [
       "<div><style>\n",
       ".dataframe > thead > tr,\n",
       ".dataframe > tbody > tr {\n",
       "  text-align: right;\n",
       "  white-space: pre-wrap;\n",
       "}\n",
       "</style>\n",
       "<small>shape: (3, 2)</small><table border=\"1\" class=\"dataframe\"><thead><tr><th>category</th><th>len</th></tr><tr><td>str</td><td>u32</td></tr></thead><tbody><tr><td>&quot;A&quot;</td><td>10000</td></tr><tr><td>&quot;B&quot;</td><td>4281</td></tr><tr><td>&quot;C&quot;</td><td>5719</td></tr></tbody></table></div>"
      ],
      "text/plain": [
       "shape: (3, 2)\n",
       "┌──────────┬───────┐\n",
       "│ category ┆ len   │\n",
       "│ ---      ┆ ---   │\n",
       "│ str      ┆ u32   │\n",
       "╞══════════╪═══════╡\n",
       "│ A        ┆ 10000 │\n",
       "│ B        ┆ 4281  │\n",
       "│ C        ┆ 5719  │\n",
       "└──────────┴───────┘"
      ]
     },
     "execution_count": 12,
     "metadata": {},
     "output_type": "execute_result"
    }
   ],
   "source": [
    "# Volume neutral (10_000) by a more complicated condition\n",
    "vn = sa.volume_neutral(\n",
    "    df,\n",
    "    by = pl.col(\"category\") == \"A\",\n",
    "    target_volume = 10_000\n",
    ") # This makes sense because count for B + count for C = 10_000\n",
    "vn.group_by(\"category\").len().sort(\"category\")"
   ]
  },
  {
   "cell_type": "code",
   "execution_count": 13,
   "metadata": {},
   "outputs": [
    {
     "data": {
      "text/html": [
       "<div><style>\n",
       ".dataframe > thead > tr,\n",
       ".dataframe > tbody > tr {\n",
       "  text-align: right;\n",
       "  white-space: pre-wrap;\n",
       "}\n",
       "</style>\n",
       "<small>shape: (9, 3)</small><table border=\"1\" class=\"dataframe\"><thead><tr><th>category</th><th>flags</th><th>len</th></tr><tr><td>str</td><td>i32</td><td>u32</td></tr></thead><tbody><tr><td>&quot;A&quot;</td><td>0</td><td>9917</td></tr><tr><td>&quot;A&quot;</td><td>1</td><td>9917</td></tr><tr><td>&quot;A&quot;</td><td>2</td><td>9917</td></tr><tr><td>&quot;B&quot;</td><td>0</td><td>9907</td></tr><tr><td>&quot;B&quot;</td><td>1</td><td>9907</td></tr><tr><td>&quot;B&quot;</td><td>2</td><td>9907</td></tr><tr><td>&quot;C&quot;</td><td>0</td><td>13230</td></tr><tr><td>&quot;C&quot;</td><td>1</td><td>13230</td></tr><tr><td>&quot;C&quot;</td><td>2</td><td>13230</td></tr></tbody></table></div>"
      ],
      "text/plain": [
       "shape: (9, 3)\n",
       "┌──────────┬───────┬───────┐\n",
       "│ category ┆ flags ┆ len   │\n",
       "│ ---      ┆ ---   ┆ ---   │\n",
       "│ str      ┆ i32   ┆ u32   │\n",
       "╞══════════╪═══════╪═══════╡\n",
       "│ A        ┆ 0     ┆ 9917  │\n",
       "│ A        ┆ 1     ┆ 9917  │\n",
       "│ A        ┆ 2     ┆ 9917  │\n",
       "│ B        ┆ 0     ┆ 9907  │\n",
       "│ B        ┆ 1     ┆ 9907  │\n",
       "│ B        ┆ 2     ┆ 9907  │\n",
       "│ C        ┆ 0     ┆ 13230 │\n",
       "│ C        ┆ 1     ┆ 13230 │\n",
       "│ C        ┆ 2     ┆ 13230 │\n",
       "└──────────┴───────┴───────┘"
      ]
     },
     "execution_count": 13,
     "metadata": {},
     "output_type": "execute_result"
    }
   ],
   "source": [
    "# Volume neutral sample with a control level. Volume neutral happens under the category level, meaning\n",
    "# the volume for each flag in each category is neutral.\n",
    "vn = sa.volume_neutral(\n",
    "    df,\n",
    "    by = pl.col(\"flags\"),\n",
    "    control = pl.col(\"category\")\n",
    ") \n",
    "vn.group_by([\"category\", \"flags\"]).len().sort([\"category\", \"flags\"])"
   ]
  },
  {
   "cell_type": "code",
   "execution_count": 14,
   "metadata": {},
   "outputs": [
    {
     "data": {
      "text/html": [
       "<div><style>\n",
       ".dataframe > thead > tr,\n",
       ".dataframe > tbody > tr {\n",
       "  text-align: right;\n",
       "  white-space: pre-wrap;\n",
       "}\n",
       "</style>\n",
       "<small>shape: (9, 3)</small><table border=\"1\" class=\"dataframe\"><thead><tr><th>category</th><th>flags</th><th>len</th></tr><tr><td>str</td><td>i32</td><td>u32</td></tr></thead><tbody><tr><td>&quot;A&quot;</td><td>0</td><td>9917</td></tr><tr><td>&quot;A&quot;</td><td>1</td><td>9917</td></tr><tr><td>&quot;A&quot;</td><td>2</td><td>9917</td></tr><tr><td>&quot;B&quot;</td><td>0</td><td>9907</td></tr><tr><td>&quot;B&quot;</td><td>1</td><td>9907</td></tr><tr><td>&quot;B&quot;</td><td>2</td><td>9907</td></tr><tr><td>&quot;C&quot;</td><td>0</td><td>10000</td></tr><tr><td>&quot;C&quot;</td><td>1</td><td>10000</td></tr><tr><td>&quot;C&quot;</td><td>2</td><td>10000</td></tr></tbody></table></div>"
      ],
      "text/plain": [
       "shape: (9, 3)\n",
       "┌──────────┬───────┬───────┐\n",
       "│ category ┆ flags ┆ len   │\n",
       "│ ---      ┆ ---   ┆ ---   │\n",
       "│ str      ┆ i32   ┆ u32   │\n",
       "╞══════════╪═══════╪═══════╡\n",
       "│ A        ┆ 0     ┆ 9917  │\n",
       "│ A        ┆ 1     ┆ 9917  │\n",
       "│ A        ┆ 2     ┆ 9917  │\n",
       "│ B        ┆ 0     ┆ 9907  │\n",
       "│ B        ┆ 1     ┆ 9907  │\n",
       "│ B        ┆ 2     ┆ 9907  │\n",
       "│ C        ┆ 0     ┆ 10000 │\n",
       "│ C        ┆ 1     ┆ 10000 │\n",
       "│ C        ┆ 2     ┆ 10000 │\n",
       "└──────────┴───────┴───────┘"
      ]
     },
     "execution_count": 14,
     "metadata": {},
     "output_type": "execute_result"
    }
   ],
   "source": [
    "# We may not meet the target volume for all categories.\n",
    "vn = sa.volume_neutral(\n",
    "    df,\n",
    "    by = pl.col(\"flags\"),\n",
    "    control = pl.col(\"category\"),\n",
    "    target_volume= 10_000\n",
    ") # \n",
    "vn.group_by([\"category\", \"flags\"]).len().sort([\"category\", \"flags\"])"
   ]
  },
  {
   "cell_type": "markdown",
   "metadata": {},
   "source": [
    "## Splitting\n",
    "\n",
    "To be added..."
   ]
  },
  {
   "cell_type": "markdown",
   "metadata": {},
   "source": []
  },
  {
   "cell_type": "markdown",
   "metadata": {},
   "source": []
  }
 ],
 "metadata": {
  "kernelspec": {
   "display_name": ".venv",
   "language": "python",
   "name": "python3"
  },
  "language_info": {
   "codemirror_mode": {
    "name": "ipython",
    "version": 3
   },
   "file_extension": ".py",
   "mimetype": "text/x-python",
   "name": "python",
   "nbconvert_exporter": "python",
   "pygments_lexer": "ipython3",
   "version": "3.12.3"
  }
 },
 "nbformat": 4,
 "nbformat_minor": 2
}
