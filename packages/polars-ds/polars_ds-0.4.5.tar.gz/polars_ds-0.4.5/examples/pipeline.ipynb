{
 "cells": [
  {
   "cell_type": "code",
   "execution_count": 1,
   "metadata": {},
   "outputs": [],
   "source": [
    "import polars as pl\n",
    "import polars.selectors as cs\n",
    "from polars_ds.pipeline import Pipeline, Blueprint"
   ]
  },
  {
   "cell_type": "code",
   "execution_count": 2,
   "metadata": {},
   "outputs": [
    {
     "data": {
      "text/html": [
       "<div><style>\n",
       ".dataframe > thead > tr,\n",
       ".dataframe > tbody > tr {\n",
       "  text-align: right;\n",
       "  white-space: pre-wrap;\n",
       "}\n",
       "</style>\n",
       "<small>shape: (5, 22)</small><table border=\"1\" class=\"dataframe\"><thead><tr><th>ID</th><th>Gender</th><th>DOB</th><th>Lead_Creation_Date</th><th>City_Code</th><th>City_Category</th><th>Employer_Code</th><th>Employer_Category1</th><th>Employer_Category2</th><th>Monthly_Income</th><th>Customer_Existing_Primary_Bank_Code</th><th>Primary_Bank_Type</th><th>Contacted</th><th>Source</th><th>Source_Category</th><th>Existing_EMI</th><th>Loan_Amount</th><th>Loan_Period</th><th>Interest_Rate</th><th>EMI</th><th>Var1</th><th>Approved</th></tr><tr><td>str</td><td>str</td><td>str</td><td>str</td><td>str</td><td>str</td><td>str</td><td>str</td><td>i64</td><td>f64</td><td>str</td><td>str</td><td>str</td><td>str</td><td>str</td><td>f64</td><td>i64</td><td>i64</td><td>f64</td><td>i64</td><td>i64</td><td>i64</td></tr></thead><tbody><tr><td>&quot;APPC90493171225&quot;</td><td>&quot;Female&quot;</td><td>&quot;23/07/79&quot;</td><td>&quot;15/07/16&quot;</td><td>&quot;C10001&quot;</td><td>&quot;A&quot;</td><td>&quot;COM0044082&quot;</td><td>&quot;A&quot;</td><td>4</td><td>2000.0</td><td>&quot;B001&quot;</td><td>&quot;P&quot;</td><td>&quot;N&quot;</td><td>&quot;S122&quot;</td><td>&quot;G&quot;</td><td>0.0</td><td>null</td><td>null</td><td>null</td><td>null</td><td>0</td><td>0</td></tr><tr><td>&quot;APPD40611263344&quot;</td><td>&quot;Male&quot;</td><td>&quot;07/12/86&quot;</td><td>&quot;04/07/16&quot;</td><td>&quot;C10003&quot;</td><td>&quot;A&quot;</td><td>&quot;COM0000002&quot;</td><td>&quot;C&quot;</td><td>1</td><td>3500.0</td><td>&quot;B002&quot;</td><td>&quot;P&quot;</td><td>&quot;Y&quot;</td><td>&quot;S122&quot;</td><td>&quot;G&quot;</td><td>0.0</td><td>20000</td><td>2</td><td>13.25</td><td>953</td><td>10</td><td>0</td></tr><tr><td>&quot;APPE70289249423&quot;</td><td>&quot;Male&quot;</td><td>&quot;10/12/82&quot;</td><td>&quot;19/07/16&quot;</td><td>&quot;C10125&quot;</td><td>&quot;C&quot;</td><td>&quot;COM0005267&quot;</td><td>&quot;C&quot;</td><td>4</td><td>2250.0</td><td>&quot;B003&quot;</td><td>&quot;G&quot;</td><td>&quot;Y&quot;</td><td>&quot;S143&quot;</td><td>&quot;B&quot;</td><td>0.0</td><td>45000</td><td>4</td><td>null</td><td>null</td><td>0</td><td>0</td></tr><tr><td>&quot;APPF80273865537&quot;</td><td>&quot;Male&quot;</td><td>&quot;30/01/89&quot;</td><td>&quot;09/07/16&quot;</td><td>&quot;C10477&quot;</td><td>&quot;C&quot;</td><td>&quot;COM0004143&quot;</td><td>&quot;A&quot;</td><td>4</td><td>3500.0</td><td>&quot;B003&quot;</td><td>&quot;G&quot;</td><td>&quot;Y&quot;</td><td>&quot;S143&quot;</td><td>&quot;B&quot;</td><td>0.0</td><td>92000</td><td>5</td><td>null</td><td>null</td><td>7</td><td>0</td></tr><tr><td>&quot;APPG60994436641&quot;</td><td>&quot;Male&quot;</td><td>&quot;19/04/85&quot;</td><td>&quot;20/07/16&quot;</td><td>&quot;C10002&quot;</td><td>&quot;A&quot;</td><td>&quot;COM0001781&quot;</td><td>&quot;A&quot;</td><td>4</td><td>10000.0</td><td>&quot;B001&quot;</td><td>&quot;P&quot;</td><td>&quot;Y&quot;</td><td>&quot;S134&quot;</td><td>&quot;B&quot;</td><td>2500.0</td><td>50000</td><td>2</td><td>null</td><td>null</td><td>10</td><td>0</td></tr></tbody></table></div>"
      ],
      "text/plain": [
       "shape: (5, 22)\n",
       "┌────────────────┬────────┬──────────┬────────────────┬───┬───────────────┬──────┬──────┬──────────┐\n",
       "│ ID             ┆ Gender ┆ DOB      ┆ Lead_Creation_ ┆ … ┆ Interest_Rate ┆ EMI  ┆ Var1 ┆ Approved │\n",
       "│ ---            ┆ ---    ┆ ---      ┆ Date           ┆   ┆ ---           ┆ ---  ┆ ---  ┆ ---      │\n",
       "│ str            ┆ str    ┆ str      ┆ ---            ┆   ┆ f64           ┆ i64  ┆ i64  ┆ i64      │\n",
       "│                ┆        ┆          ┆ str            ┆   ┆               ┆      ┆      ┆          │\n",
       "╞════════════════╪════════╪══════════╪════════════════╪═══╪═══════════════╪══════╪══════╪══════════╡\n",
       "│ APPC9049317122 ┆ Female ┆ 23/07/79 ┆ 15/07/16       ┆ … ┆ null          ┆ null ┆ 0    ┆ 0        │\n",
       "│ 5              ┆        ┆          ┆                ┆   ┆               ┆      ┆      ┆          │\n",
       "│ APPD4061126334 ┆ Male   ┆ 07/12/86 ┆ 04/07/16       ┆ … ┆ 13.25         ┆ 953  ┆ 10   ┆ 0        │\n",
       "│ 4              ┆        ┆          ┆                ┆   ┆               ┆      ┆      ┆          │\n",
       "│ APPE7028924942 ┆ Male   ┆ 10/12/82 ┆ 19/07/16       ┆ … ┆ null          ┆ null ┆ 0    ┆ 0        │\n",
       "│ 3              ┆        ┆          ┆                ┆   ┆               ┆      ┆      ┆          │\n",
       "│ APPF8027386553 ┆ Male   ┆ 30/01/89 ┆ 09/07/16       ┆ … ┆ null          ┆ null ┆ 7    ┆ 0        │\n",
       "│ 7              ┆        ┆          ┆                ┆   ┆               ┆      ┆      ┆          │\n",
       "│ APPG6099443664 ┆ Male   ┆ 19/04/85 ┆ 20/07/16       ┆ … ┆ null          ┆ null ┆ 10   ┆ 0        │\n",
       "│ 1              ┆        ┆          ┆                ┆   ┆               ┆      ┆      ┆          │\n",
       "└────────────────┴────────┴──────────┴────────────────┴───┴───────────────┴──────┴──────┴──────────┘"
      ]
     },
     "execution_count": 2,
     "metadata": {},
     "output_type": "execute_result"
    }
   ],
   "source": [
    "df = pl.read_parquet(\"../examples/dependency.parquet\")\n",
    "df.head()"
   ]
  },
  {
   "cell_type": "code",
   "execution_count": 3,
   "metadata": {},
   "outputs": [
    {
     "name": "stdout",
     "output_type": "stream",
     "text": [
      "Blueprint name: example\n",
      "Blueprint current steps: 11\n",
      "Features Expected: ['ID', 'Gender', 'DOB', 'Lead_Creation_Date', 'City_Code', 'City_Category', 'Employer_Code', 'Employer_Category1', 'Employer_Category2', 'Monthly_Income', 'Customer_Existing_Primary_Bank_Code', 'Primary_Bank_Type', 'Contacted', 'Source', 'Source_Category', 'Existing_EMI', 'Loan_Amount', 'Loan_Period', 'Interest_Rate', 'EMI', 'Var1', 'Approved']\n",
      "\n"
     ]
    }
   ],
   "source": [
    "# Create a blueprint first. \n",
    "# A blueprint is a plan for a pipeline. No hard work will be done until the blueprint is materialized, which\n",
    "# is when the tranforms are fitted (e.g. scale learns the mean and std from base data)\n",
    "# If target is specified for the blueprint, target will be excluded from all transformations that require a fit.\n",
    "\n",
    "bp = (\n",
    "    Blueprint(df, name = \"example\", target = \"approved\")\n",
    "    .lowercase() # lowercase all columns\n",
    "    .linear_impute(features = [\"var1\", \"existing_emi\"], target = \"loan_period\")\n",
    "    .impute([\"existing_emi\"], method = \"median\")\n",
    "    .select(cs.numeric() | cs.by_name([\"gender\", \"employer_category1\", \"city_category\"]))\n",
    "    .append_expr(\n",
    "        pl.col(\"existing_emi\").log1p().alias(\"existing_emi_log1p\"),\n",
    "        pl.col(\"loan_amount\").log1p().alias(\"loan_amount_log1p\"),\n",
    "        pl.col(\"loan_amount\").sqrt().alias(\"loan_amount_sqrt\"),\n",
    "    )\n",
    "    .scale( # target is numerical, but will be excluded because blueprint is initialzied with a target\n",
    "        cs.numeric().exclude([\"var1\", \"existing_emi_log1p\"]), method = \"standard\"\n",
    "    ) # Scale the columns up to this point. The columns below won't be scaled\n",
    "    .append_expr(\n",
    "        pl.col(\"employer_category1\").is_null().cast(pl.UInt8).alias(\"gender_is_missing\")\n",
    "    )\n",
    "    .one_hot_encode(\"gender\", drop_first=True)\n",
    "    .woe_encode(\"city_category\", target = \"approved\")\n",
    "    .target_encode(\"employer_category1\", target = \"approved\", min_samples_leaf = 20, smoothing = 10.0)\n",
    ")\n",
    "\n",
    "print(bp)"
   ]
  },
  {
   "cell_type": "code",
   "execution_count": 4,
   "metadata": {},
   "outputs": [
    {
     "data": {
      "text/plain": [
       "Naive Query Steps: \n",
       "\n",
       "Step 1:\n",
       "col(\"ID\").alias(\"id\"),\n",
       "col(\"Gender\").alias(\"gender\"),\n",
       "col(\"DOB\").alias(\"dob\"),\n",
       "col(\"Lead_Creation_Date\").alias(\"lead_creation_date\"),\n",
       "col(\"City_Code\").alias(\"city_code\"),\n",
       "col(\"City_Category\").alias(\"city_category\"),\n",
       "col(\"Employer_Code\").alias(\"employer_code\"),\n",
       "col(\"Employer_Category1\").alias(\"employer_category1\"),\n",
       "col(\"Employer_Category2\").alias(\"employer_category2\"),\n",
       "col(\"Monthly_Income\").alias(\"monthly_income\"),\n",
       "col(\"Customer_Existing_Primary_Bank_Code\").alias(\"customer_existing_primary_bank_code\"),\n",
       "col(\"Primary_Bank_Type\").alias(\"primary_bank_type\"),\n",
       "col(\"Contacted\").alias(\"contacted\"),\n",
       "col(\"Source\").alias(\"source\"),\n",
       "col(\"Source_Category\").alias(\"source_category\"),\n",
       "col(\"Existing_EMI\").alias(\"existing_emi\"),\n",
       "col(\"Loan_Amount\").alias(\"loan_amount\"),\n",
       "col(\"Loan_Period\").alias(\"loan_period\"),\n",
       "col(\"Interest_Rate\").alias(\"interest_rate\"),\n",
       "col(\"EMI\").alias(\"emi\"),\n",
       "col(\"Var1\").alias(\"var1\"),\n",
       "col(\"Approved\").alias(\"approved\")\n",
       "\n",
       "Step 2:\n",
       ".when(col(\"loan_period\").is_null()).then([(col(\"var1\")) * (dyn float: 0.50981)].sum_horizontal([[(col(\"existing_emi\")) * (dyn float: -0.000008)]])).otherwise(col(\"loan_period\")).alias(\"loan_period\")\n",
       "\n",
       "Step 3:\n",
       "col(\"existing_emi\").fill_null([dyn float: 0.0])\n",
       "\n",
       "Step 4:\n",
       "SELECTOR\n",
       "\n",
       "Step 5:\n",
       "col(\"existing_emi\").log1p().alias(\"existing_emi_log1p\"),\n",
       "col(\"loan_amount\").log1p().alias(\"loan_amount_log1p\"),\n",
       "col(\"loan_amount\").sqrt().alias(\"loan_amount_sqrt\")\n",
       "\n",
       "Step 6:\n",
       "[([(col(\"employer_category2\")) - (dyn float: 3.720187)]) / (dyn float: 0.807368)],\n",
       "[([(col(\"monthly_income\")) - (dyn float: 5622.2832)]) / (dyn float: 174765.80836)],\n",
       "[([(col(\"existing_emi\")) - (dyn float: 360.664706)]) / (dyn float: 2287.685062)],\n",
       "[([(col(\"loan_amount\")) - (dyn float: 39429.982859)]) / (dyn float: 30727.230218)],\n",
       "[([(col(\"loan_period\")) - (dyn float: 2.586464)]) / (dyn float: 2.068932)],\n",
       "[([(col(\"interest_rate\")) - (dyn float: 19.21357)]) / (dyn float: 5.847005)],\n",
       "[([(col(\"emi\")) - (dyn float: 1101.466242)]) / (dyn float: 752.6445)],\n",
       "[([(col(\"loan_amount_log1p\")) - (dyn float: 10.326665)]) / (dyn float: 0.721931)],\n",
       "[([(col(\"loan_amount_sqrt\")) - (dyn float: 186.421961)]) / (dyn float: 68.387392)]\n",
       "\n",
       "Step 7:\n",
       "col(\"employer_category1\").is_null().strict_cast(UInt8).alias(\"gender_is_missing\")\n",
       "\n",
       "Step 8:\n",
       "[(col(\"gender\")) == (String(Male))].fill_null([false]).strict_cast(UInt8).alias(\"gender_Male\")\n",
       "\n",
       "Step 9:\n",
       "*.exclude([Name(\"gender\")])\n",
       "\n",
       "Step 10:\n",
       "col(\"city_category\").replace([Series[value], Series[woe], null])\n",
       "\n",
       "Step 11:\n",
       "col(\"employer_category1\").replace([Series[value], Series[to], null])\n"
      ]
     },
     "execution_count": 4,
     "metadata": {},
     "output_type": "execute_result"
    }
   ],
   "source": [
    "# Materialize the blueprint\n",
    "pipe:Pipeline = bp.materialize()\n",
    "# Text representation of the pipeline\n",
    "pipe"
   ]
  },
  {
   "cell_type": "code",
   "execution_count": 5,
   "metadata": {},
   "outputs": [
    {
     "data": {
      "text/html": [
       "<div><style>\n",
       ".dataframe > thead > tr,\n",
       ".dataframe > tbody > tr {\n",
       "  text-align: right;\n",
       "  white-space: pre-wrap;\n",
       "}\n",
       "</style>\n",
       "<small>shape: (5, 16)</small><table border=\"1\" class=\"dataframe\"><thead><tr><th>employer_category2</th><th>monthly_income</th><th>existing_emi</th><th>loan_amount</th><th>loan_period</th><th>interest_rate</th><th>emi</th><th>var1</th><th>approved</th><th>employer_category1</th><th>city_category</th><th>existing_emi_log1p</th><th>loan_amount_log1p</th><th>loan_amount_sqrt</th><th>gender_is_missing</th><th>gender_Male</th></tr><tr><td>f64</td><td>f64</td><td>f64</td><td>f64</td><td>f64</td><td>f64</td><td>f64</td><td>i64</td><td>i64</td><td>f64</td><td>f64</td><td>f64</td><td>f64</td><td>f64</td><td>u8</td><td>u8</td></tr></thead><tbody><tr><td>0.346575</td><td>-0.020726</td><td>-0.157655</td><td>null</td><td>-1.250145</td><td>null</td><td>null</td><td>0</td><td>0</td><td>0.010829</td><td>0.12492</td><td>0.0</td><td>null</td><td>null</td><td>0</td><td>0</td></tr><tr><td>-3.369204</td><td>-0.012144</td><td>-0.157655</td><td>-0.632338</td><td>-0.283462</td><td>-1.019936</td><td>-0.197259</td><td>10</td><td>0</td><td>0.021114</td><td>0.12492</td><td>0.0</td><td>-0.586105</td><td>-0.658025</td><td>0</td><td>1</td></tr><tr><td>0.346575</td><td>-0.019296</td><td>-0.157655</td><td>0.181273</td><td>0.68322</td><td>null</td><td>null</td><td>0</td><td>0</td><td>0.021114</td><td>-0.597055</td><td>0.0</td><td>0.537137</td><td>0.375948</td><td>0</td><td>1</td></tr><tr><td>0.346575</td><td>-0.012144</td><td>-0.157655</td><td>1.710861</td><td>1.166561</td><td>null</td><td>null</td><td>7</td><td>0</td><td>0.010829</td><td>-0.597055</td><td>0.0</td><td>1.527696</td><td>1.709278</td><td>0</td><td>1</td></tr><tr><td>0.346575</td><td>0.025049</td><td>0.935153</td><td>0.343995</td><td>-0.283462</td><td>null</td><td>null</td><td>10</td><td>0</td><td>0.010829</td><td>0.12492</td><td>7.824446</td><td>0.683076</td><td>0.543738</td><td>0</td><td>1</td></tr></tbody></table></div>"
      ],
      "text/plain": [
       "shape: (5, 16)\n",
       "┌───────────┬───────────┬───────────┬───────────┬───┬───────────┬───────────┬───────────┬──────────┐\n",
       "│ employer_ ┆ monthly_i ┆ existing_ ┆ loan_amou ┆ … ┆ loan_amou ┆ loan_amou ┆ gender_is ┆ gender_M │\n",
       "│ category2 ┆ ncome     ┆ emi       ┆ nt        ┆   ┆ nt_log1p  ┆ nt_sqrt   ┆ _missing  ┆ ale      │\n",
       "│ ---       ┆ ---       ┆ ---       ┆ ---       ┆   ┆ ---       ┆ ---       ┆ ---       ┆ ---      │\n",
       "│ f64       ┆ f64       ┆ f64       ┆ f64       ┆   ┆ f64       ┆ f64       ┆ u8        ┆ u8       │\n",
       "╞═══════════╪═══════════╪═══════════╪═══════════╪═══╪═══════════╪═══════════╪═══════════╪══════════╡\n",
       "│ 0.346575  ┆ -0.020726 ┆ -0.157655 ┆ null      ┆ … ┆ null      ┆ null      ┆ 0         ┆ 0        │\n",
       "│ -3.369204 ┆ -0.012144 ┆ -0.157655 ┆ -0.632338 ┆ … ┆ -0.586105 ┆ -0.658025 ┆ 0         ┆ 1        │\n",
       "│ 0.346575  ┆ -0.019296 ┆ -0.157655 ┆ 0.181273  ┆ … ┆ 0.537137  ┆ 0.375948  ┆ 0         ┆ 1        │\n",
       "│ 0.346575  ┆ -0.012144 ┆ -0.157655 ┆ 1.710861  ┆ … ┆ 1.527696  ┆ 1.709278  ┆ 0         ┆ 1        │\n",
       "│ 0.346575  ┆ 0.025049  ┆ 0.935153  ┆ 0.343995  ┆ … ┆ 0.683076  ┆ 0.543738  ┆ 0         ┆ 1        │\n",
       "└───────────┴───────────┴───────────┴───────────┴───┴───────────┴───────────┴───────────┴──────────┘"
      ]
     },
     "execution_count": 5,
     "metadata": {},
     "output_type": "execute_result"
    }
   ],
   "source": [
    "df_transformed = pipe.transform(df)\n",
    "df_transformed.head()"
   ]
  },
  {
   "cell_type": "code",
   "execution_count": 6,
   "metadata": {},
   "outputs": [],
   "source": [
    "import pickle\n",
    "# The pipe object can be pickled\n",
    "with open(\"pipe.pickle\", \"wb\") as f:\n",
    "    pickle.dump(pipe, f)"
   ]
  },
  {
   "cell_type": "code",
   "execution_count": 7,
   "metadata": {},
   "outputs": [
    {
     "data": {
      "text/plain": [
       "Naive Query Steps: \n",
       "\n",
       "Step 1:\n",
       "col(\"ID\").alias(\"id\"),\n",
       "col(\"Gender\").alias(\"gender\"),\n",
       "col(\"DOB\").alias(\"dob\"),\n",
       "col(\"Lead_Creation_Date\").alias(\"lead_creation_date\"),\n",
       "col(\"City_Code\").alias(\"city_code\"),\n",
       "col(\"City_Category\").alias(\"city_category\"),\n",
       "col(\"Employer_Code\").alias(\"employer_code\"),\n",
       "col(\"Employer_Category1\").alias(\"employer_category1\"),\n",
       "col(\"Employer_Category2\").alias(\"employer_category2\"),\n",
       "col(\"Monthly_Income\").alias(\"monthly_income\"),\n",
       "col(\"Customer_Existing_Primary_Bank_Code\").alias(\"customer_existing_primary_bank_code\"),\n",
       "col(\"Primary_Bank_Type\").alias(\"primary_bank_type\"),\n",
       "col(\"Contacted\").alias(\"contacted\"),\n",
       "col(\"Source\").alias(\"source\"),\n",
       "col(\"Source_Category\").alias(\"source_category\"),\n",
       "col(\"Existing_EMI\").alias(\"existing_emi\"),\n",
       "col(\"Loan_Amount\").alias(\"loan_amount\"),\n",
       "col(\"Loan_Period\").alias(\"loan_period\"),\n",
       "col(\"Interest_Rate\").alias(\"interest_rate\"),\n",
       "col(\"EMI\").alias(\"emi\"),\n",
       "col(\"Var1\").alias(\"var1\"),\n",
       "col(\"Approved\").alias(\"approved\")\n",
       "\n",
       "Step 2:\n",
       ".when(col(\"loan_period\").is_null()).then([(col(\"var1\")) * (dyn float: 0.50981)].sum_horizontal([[(col(\"existing_emi\")) * (dyn float: -0.000008)]])).otherwise(col(\"loan_period\")).alias(\"loan_period\")\n",
       "\n",
       "Step 3:\n",
       "col(\"existing_emi\").fill_null([dyn float: 0.0])\n",
       "\n",
       "Step 4:\n",
       "SELECTOR\n",
       "\n",
       "Step 5:\n",
       "col(\"existing_emi\").log1p().alias(\"existing_emi_log1p\"),\n",
       "col(\"loan_amount\").log1p().alias(\"loan_amount_log1p\"),\n",
       "col(\"loan_amount\").sqrt().alias(\"loan_amount_sqrt\")\n",
       "\n",
       "Step 6:\n",
       "[([(col(\"employer_category2\")) - (dyn float: 3.720187)]) / (dyn float: 0.807368)],\n",
       "[([(col(\"monthly_income\")) - (dyn float: 5622.2832)]) / (dyn float: 174765.80836)],\n",
       "[([(col(\"existing_emi\")) - (dyn float: 360.664706)]) / (dyn float: 2287.685062)],\n",
       "[([(col(\"loan_amount\")) - (dyn float: 39429.982859)]) / (dyn float: 30727.230218)],\n",
       "[([(col(\"loan_period\")) - (dyn float: 2.586464)]) / (dyn float: 2.068932)],\n",
       "[([(col(\"interest_rate\")) - (dyn float: 19.21357)]) / (dyn float: 5.847005)],\n",
       "[([(col(\"emi\")) - (dyn float: 1101.466242)]) / (dyn float: 752.6445)],\n",
       "[([(col(\"loan_amount_log1p\")) - (dyn float: 10.326665)]) / (dyn float: 0.721931)],\n",
       "[([(col(\"loan_amount_sqrt\")) - (dyn float: 186.421961)]) / (dyn float: 68.387392)]\n",
       "\n",
       "Step 7:\n",
       "col(\"employer_category1\").is_null().strict_cast(UInt8).alias(\"gender_is_missing\")\n",
       "\n",
       "Step 8:\n",
       "[(col(\"gender\")) == (String(Male))].fill_null([false]).strict_cast(UInt8).alias(\"gender_Male\")\n",
       "\n",
       "Step 9:\n",
       "*.exclude([Name(\"gender\")])\n",
       "\n",
       "Step 10:\n",
       "col(\"city_category\").replace([Series[value], Series[woe], null])\n",
       "\n",
       "Step 11:\n",
       "col(\"employer_category1\").replace([Series[value], Series[to], null])\n"
      ]
     },
     "execution_count": 7,
     "metadata": {},
     "output_type": "execute_result"
    }
   ],
   "source": [
    "with open(\"pipe.pickle\", \"rb\") as f:\n",
    "    pipe2 = pickle.load(f)\n",
    "\n",
    "pipe2"
   ]
  },
  {
   "cell_type": "code",
   "execution_count": 8,
   "metadata": {},
   "outputs": [
    {
     "data": {
      "text/html": [
       "<div><style>\n",
       ".dataframe > thead > tr,\n",
       ".dataframe > tbody > tr {\n",
       "  text-align: right;\n",
       "  white-space: pre-wrap;\n",
       "}\n",
       "</style>\n",
       "<small>shape: (69_713, 16)</small><table border=\"1\" class=\"dataframe\"><thead><tr><th>employer_category2</th><th>monthly_income</th><th>existing_emi</th><th>loan_amount</th><th>loan_period</th><th>interest_rate</th><th>emi</th><th>var1</th><th>approved</th><th>employer_category1</th><th>city_category</th><th>existing_emi_log1p</th><th>loan_amount_log1p</th><th>loan_amount_sqrt</th><th>gender_is_missing</th><th>gender_Male</th></tr><tr><td>f64</td><td>f64</td><td>f64</td><td>f64</td><td>f64</td><td>f64</td><td>f64</td><td>i64</td><td>i64</td><td>f64</td><td>f64</td><td>f64</td><td>f64</td><td>f64</td><td>u8</td><td>u8</td></tr></thead><tbody><tr><td>0.346575</td><td>-0.020726</td><td>-0.157655</td><td>null</td><td>-1.250145</td><td>null</td><td>null</td><td>0</td><td>0</td><td>0.010829</td><td>0.12492</td><td>0.0</td><td>null</td><td>null</td><td>0</td><td>0</td></tr><tr><td>-3.369204</td><td>-0.012144</td><td>-0.157655</td><td>-0.632338</td><td>-0.283462</td><td>-1.019936</td><td>-0.197259</td><td>10</td><td>0</td><td>0.021114</td><td>0.12492</td><td>0.0</td><td>-0.586105</td><td>-0.658025</td><td>0</td><td>1</td></tr><tr><td>0.346575</td><td>-0.019296</td><td>-0.157655</td><td>0.181273</td><td>0.68322</td><td>null</td><td>null</td><td>0</td><td>0</td><td>0.021114</td><td>-0.597055</td><td>0.0</td><td>0.537137</td><td>0.375948</td><td>0</td><td>1</td></tr><tr><td>0.346575</td><td>-0.012144</td><td>-0.157655</td><td>1.710861</td><td>1.166561</td><td>null</td><td>null</td><td>7</td><td>0</td><td>0.010829</td><td>-0.597055</td><td>0.0</td><td>1.527696</td><td>1.709278</td><td>0</td><td>1</td></tr><tr><td>0.346575</td><td>0.025049</td><td>0.935153</td><td>0.343995</td><td>-0.283462</td><td>null</td><td>null</td><td>10</td><td>0</td><td>0.010829</td><td>0.12492</td><td>7.824446</td><td>0.683076</td><td>0.543738</td><td>0</td><td>1</td></tr><tr><td>&hellip;</td><td>&hellip;</td><td>&hellip;</td><td>&hellip;</td><td>&hellip;</td><td>&hellip;</td><td>&hellip;</td><td>&hellip;</td><td>&hellip;</td><td>&hellip;</td><td>&hellip;</td><td>&hellip;</td><td>&hellip;</td><td>&hellip;</td><td>&hellip;</td><td>&hellip;</td></tr><tr><td>-3.369204</td><td>-0.004133</td><td>-0.157655</td><td>null</td><td>1.213977</td><td>null</td><td>null</td><td>10</td><td>0</td><td>0.010829</td><td>0.12492</td><td>0.0</td><td>null</td><td>null</td><td>0</td><td>0</td></tr><tr><td>0.346575</td><td>0.008971</td><td>0.476174</td><td>null</td><td>0.469411</td><td>null</td><td>null</td><td>7</td><td>0</td><td>0.010829</td><td>-0.597055</td><td>7.280008</td><td>null</td><td>null</td><td>0</td><td>0</td></tr><tr><td>0.346575</td><td>-0.023015</td><td>-0.157655</td><td>-0.50216</td><td>0.68322</td><td>2.785431</td><td>-0.210546</td><td>2</td><td>0</td><td>0.021114</td><td>-0.081991</td><td>0.0</td><td>-0.333569</td><td>-0.46065</td><td>0</td><td>0</td></tr><tr><td>-0.892018</td><td>0.024437</td><td>0.439455</td><td>1.320328</td><td>1.166561</td><td>null</td><td>null</td><td>10</td><td>0</td><td>0.021114</td><td>0.12492</td><td>7.220374</td><td>1.334103</td><td>1.40992</td><td>0</td><td>1</td></tr><tr><td>-3.369204</td><td>-0.007967</td><td>-0.157655</td><td>0.962339</td><td>0.68322</td><td>-0.893375</td><td>1.041041</td><td>10</td><td>0</td><td>0.010829</td><td>0.12492</td><td>0.0</td><td>1.129211</td><td>1.115067</td><td>0</td><td>1</td></tr></tbody></table></div>"
      ],
      "text/plain": [
       "shape: (69_713, 16)\n",
       "┌───────────┬───────────┬───────────┬───────────┬───┬───────────┬───────────┬───────────┬──────────┐\n",
       "│ employer_ ┆ monthly_i ┆ existing_ ┆ loan_amou ┆ … ┆ loan_amou ┆ loan_amou ┆ gender_is ┆ gender_M │\n",
       "│ category2 ┆ ncome     ┆ emi       ┆ nt        ┆   ┆ nt_log1p  ┆ nt_sqrt   ┆ _missing  ┆ ale      │\n",
       "│ ---       ┆ ---       ┆ ---       ┆ ---       ┆   ┆ ---       ┆ ---       ┆ ---       ┆ ---      │\n",
       "│ f64       ┆ f64       ┆ f64       ┆ f64       ┆   ┆ f64       ┆ f64       ┆ u8        ┆ u8       │\n",
       "╞═══════════╪═══════════╪═══════════╪═══════════╪═══╪═══════════╪═══════════╪═══════════╪══════════╡\n",
       "│ 0.346575  ┆ -0.020726 ┆ -0.157655 ┆ null      ┆ … ┆ null      ┆ null      ┆ 0         ┆ 0        │\n",
       "│ -3.369204 ┆ -0.012144 ┆ -0.157655 ┆ -0.632338 ┆ … ┆ -0.586105 ┆ -0.658025 ┆ 0         ┆ 1        │\n",
       "│ 0.346575  ┆ -0.019296 ┆ -0.157655 ┆ 0.181273  ┆ … ┆ 0.537137  ┆ 0.375948  ┆ 0         ┆ 1        │\n",
       "│ 0.346575  ┆ -0.012144 ┆ -0.157655 ┆ 1.710861  ┆ … ┆ 1.527696  ┆ 1.709278  ┆ 0         ┆ 1        │\n",
       "│ 0.346575  ┆ 0.025049  ┆ 0.935153  ┆ 0.343995  ┆ … ┆ 0.683076  ┆ 0.543738  ┆ 0         ┆ 1        │\n",
       "│ …         ┆ …         ┆ …         ┆ …         ┆ … ┆ …         ┆ …         ┆ …         ┆ …        │\n",
       "│ -3.369204 ┆ -0.004133 ┆ -0.157655 ┆ null      ┆ … ┆ null      ┆ null      ┆ 0         ┆ 0        │\n",
       "│ 0.346575  ┆ 0.008971  ┆ 0.476174  ┆ null      ┆ … ┆ null      ┆ null      ┆ 0         ┆ 0        │\n",
       "│ 0.346575  ┆ -0.023015 ┆ -0.157655 ┆ -0.50216  ┆ … ┆ -0.333569 ┆ -0.46065  ┆ 0         ┆ 0        │\n",
       "│ -0.892018 ┆ 0.024437  ┆ 0.439455  ┆ 1.320328  ┆ … ┆ 1.334103  ┆ 1.40992   ┆ 0         ┆ 1        │\n",
       "│ -3.369204 ┆ -0.007967 ┆ -0.157655 ┆ 0.962339  ┆ … ┆ 1.129211  ┆ 1.115067  ┆ 0         ┆ 1        │\n",
       "└───────────┴───────────┴───────────┴───────────┴───┴───────────┴───────────┴───────────┴──────────┘"
      ]
     },
     "execution_count": 8,
     "metadata": {},
     "output_type": "execute_result"
    }
   ],
   "source": [
    "df_transformed_2 = pipe2.transform(df)\n",
    "df_transformed_2"
   ]
  },
  {
   "cell_type": "code",
   "execution_count": 9,
   "metadata": {},
   "outputs": [],
   "source": [
    "from polars.testing import assert_frame_equal\n",
    "# True\n",
    "assert_frame_equal(df_transformed, df_transformed_2)"
   ]
  },
  {
   "cell_type": "code",
   "execution_count": null,
   "metadata": {},
   "outputs": [],
   "source": []
  }
 ],
 "metadata": {
  "kernelspec": {
   "display_name": ".venv",
   "language": "python",
   "name": "python3"
  },
  "language_info": {
   "codemirror_mode": {
    "name": "ipython",
    "version": 3
   },
   "file_extension": ".py",
   "mimetype": "text/x-python",
   "name": "python",
   "nbconvert_exporter": "python",
   "pygments_lexer": "ipython3",
   "version": "3.12.3"
  }
 },
 "nbformat": 4,
 "nbformat_minor": 2
}
