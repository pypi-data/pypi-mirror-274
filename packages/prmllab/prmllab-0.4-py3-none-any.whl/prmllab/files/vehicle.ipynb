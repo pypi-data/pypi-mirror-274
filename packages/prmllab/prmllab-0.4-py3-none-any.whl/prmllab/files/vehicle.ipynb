{
 "cells": [
  {
   "cell_type": "code",
   "execution_count": 2,
   "metadata": {},
   "outputs": [],
   "source": [
    "import pandas as pd\n",
    "from sklearn.model_selection import train_test_split\n",
    "from sklearn.preprocessing import StandardScaler\n",
    "from sklearn.linear_model import LinearRegression\n",
    "from sklearn import metrics\n",
    "import seaborn as sns\n",
    "import matplotlib.pyplot as plt\n",
    "\n",
    "data = pd.read_csv('car_data.csv')\n",
    "\n",
    "data = pd.get_dummies(data, columns=['Fuel_Type','Seller_Type','Transmission'], drop_first=True)\n",
    "X = data.drop(['Car_Name','Selling_Price'], axis=1)\n",
    "y = data['Selling_Price']\n",
    "X_train, X_test, y_train, y_test = train_test_split(X, y, test_size=0.3, random_state=42)\n",
    "scaler = StandardScaler()\n",
    "X_train = scaler.fit_transform(X_train)\n",
    "X_test = scaler.fit_transform(X_test)\n",
    "\n",
    "model = LinearRegression()\n",
    "model.fit(X_train, y_train)\n",
    "\n",
    "\n",
    "input_data = X_test[0:1]  # Selecting the first row from the test set for prediction\n",
    "predicted_price = model.predict(input_data)\n",
    "\n",
    "\n"
   ]
  },
  {
   "cell_type": "code",
   "execution_count": 3,
   "metadata": {},
   "outputs": [
    {
     "name": "stdout",
     "output_type": "stream",
     "text": [
      "Mean Absolute Error (MAE): 1.2401911938820376\n",
      "Mean Squared Error (MSE): 3.4868775495557136\n",
      "R^2 Score: 0.850413419632344\n"
     ]
    }
   ],
   "source": [
    "# Evaluate the model\n",
    "pred = model.predict(X_test)\n",
    "mae = metrics.mean_absolute_error(pred, y_test)\n",
    "mse = metrics.mean_squared_error(pred, y_test)\n",
    "r2 = metrics.r2_score(pred, y_test)\n",
    "\n",
    "# evaluation metrics\n",
    "print(\"Mean Absolute Error (MAE):\", mae)\n",
    "print(\"Mean Squared Error (MSE):\", mse)\n",
    "print(\"R^2 Score:\", r2)"
   ]
  },
  {
   "cell_type": "code",
   "execution_count": 4,
   "metadata": {},
   "outputs": [
    {
     "name": "stdout",
     "output_type": "stream",
     "text": [
      "Actual Price: 0.35\n",
      "Predicted Price: 1.8560422012802351\n"
     ]
    }
   ],
   "source": [
    "# actual vs predicted\n",
    "print(\"Actual Price:\", y_test.iloc[0])  \n",
    "print(\"Predicted Price:\", predicted_price[0]) \n",
    "\n"
   ]
  }
 ],
 "metadata": {
  "kernelspec": {
   "display_name": "Python 3",
   "language": "python",
   "name": "python3"
  },
  "language_info": {
   "codemirror_mode": {
    "name": "ipython",
    "version": 3
   },
   "file_extension": ".py",
   "mimetype": "text/x-python",
   "name": "python",
   "nbconvert_exporter": "python",
   "pygments_lexer": "ipython3",
   "version": "3.11.2"
  }
 },
 "nbformat": 4,
 "nbformat_minor": 2
}
