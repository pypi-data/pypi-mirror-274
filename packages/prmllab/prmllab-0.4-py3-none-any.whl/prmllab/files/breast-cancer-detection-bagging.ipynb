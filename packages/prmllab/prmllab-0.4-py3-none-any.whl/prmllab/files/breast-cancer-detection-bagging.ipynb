{
 "cells": [
  {
   "cell_type": "code",
   "execution_count": 1,
   "id": "be842acc",
   "metadata": {
    "execution": {
     "iopub.execute_input": "2022-06-11T13:24:25.387680Z",
     "iopub.status.busy": "2022-06-11T13:24:25.386541Z",
     "iopub.status.idle": "2022-06-11T13:24:25.449641Z",
     "shell.execute_reply": "2022-06-11T13:24:25.448724Z"
    },
    "papermill": {
     "duration": 0.072408,
     "end_time": "2022-06-11T13:24:25.452350",
     "exception": false,
     "start_time": "2022-06-11T13:24:25.379942",
     "status": "completed"
    },
    "tags": []
   },
   "outputs": [
    {
     "data": {
      "text/html": [
       "<div>\n",
       "<style scoped>\n",
       "    .dataframe tbody tr th:only-of-type {\n",
       "        vertical-align: middle;\n",
       "    }\n",
       "\n",
       "    .dataframe tbody tr th {\n",
       "        vertical-align: top;\n",
       "    }\n",
       "\n",
       "    .dataframe thead th {\n",
       "        text-align: right;\n",
       "    }\n",
       "</style>\n",
       "<table border=\"1\" class=\"dataframe\">\n",
       "  <thead>\n",
       "    <tr style=\"text-align: right;\">\n",
       "      <th></th>\n",
       "      <th>id</th>\n",
       "      <th>diagnosis</th>\n",
       "      <th>radius_mean</th>\n",
       "      <th>texture_mean</th>\n",
       "      <th>perimeter_mean</th>\n",
       "      <th>area_mean</th>\n",
       "      <th>smoothness_mean</th>\n",
       "      <th>compactness_mean</th>\n",
       "      <th>concavity_mean</th>\n",
       "      <th>concave points_mean</th>\n",
       "      <th>...</th>\n",
       "      <th>texture_worst</th>\n",
       "      <th>perimeter_worst</th>\n",
       "      <th>area_worst</th>\n",
       "      <th>smoothness_worst</th>\n",
       "      <th>compactness_worst</th>\n",
       "      <th>concavity_worst</th>\n",
       "      <th>concave points_worst</th>\n",
       "      <th>symmetry_worst</th>\n",
       "      <th>fractal_dimension_worst</th>\n",
       "      <th>Unnamed: 32</th>\n",
       "    </tr>\n",
       "  </thead>\n",
       "  <tbody>\n",
       "    <tr>\n",
       "      <th>0</th>\n",
       "      <td>842302</td>\n",
       "      <td>M</td>\n",
       "      <td>17.99</td>\n",
       "      <td>10.38</td>\n",
       "      <td>122.80</td>\n",
       "      <td>1001.0</td>\n",
       "      <td>0.11840</td>\n",
       "      <td>0.27760</td>\n",
       "      <td>0.3001</td>\n",
       "      <td>0.14710</td>\n",
       "      <td>...</td>\n",
       "      <td>17.33</td>\n",
       "      <td>184.60</td>\n",
       "      <td>2019.0</td>\n",
       "      <td>0.1622</td>\n",
       "      <td>0.6656</td>\n",
       "      <td>0.7119</td>\n",
       "      <td>0.2654</td>\n",
       "      <td>0.4601</td>\n",
       "      <td>0.11890</td>\n",
       "      <td>NaN</td>\n",
       "    </tr>\n",
       "    <tr>\n",
       "      <th>1</th>\n",
       "      <td>842517</td>\n",
       "      <td>M</td>\n",
       "      <td>20.57</td>\n",
       "      <td>17.77</td>\n",
       "      <td>132.90</td>\n",
       "      <td>1326.0</td>\n",
       "      <td>0.08474</td>\n",
       "      <td>0.07864</td>\n",
       "      <td>0.0869</td>\n",
       "      <td>0.07017</td>\n",
       "      <td>...</td>\n",
       "      <td>23.41</td>\n",
       "      <td>158.80</td>\n",
       "      <td>1956.0</td>\n",
       "      <td>0.1238</td>\n",
       "      <td>0.1866</td>\n",
       "      <td>0.2416</td>\n",
       "      <td>0.1860</td>\n",
       "      <td>0.2750</td>\n",
       "      <td>0.08902</td>\n",
       "      <td>NaN</td>\n",
       "    </tr>\n",
       "    <tr>\n",
       "      <th>2</th>\n",
       "      <td>84300903</td>\n",
       "      <td>M</td>\n",
       "      <td>19.69</td>\n",
       "      <td>21.25</td>\n",
       "      <td>130.00</td>\n",
       "      <td>1203.0</td>\n",
       "      <td>0.10960</td>\n",
       "      <td>0.15990</td>\n",
       "      <td>0.1974</td>\n",
       "      <td>0.12790</td>\n",
       "      <td>...</td>\n",
       "      <td>25.53</td>\n",
       "      <td>152.50</td>\n",
       "      <td>1709.0</td>\n",
       "      <td>0.1444</td>\n",
       "      <td>0.4245</td>\n",
       "      <td>0.4504</td>\n",
       "      <td>0.2430</td>\n",
       "      <td>0.3613</td>\n",
       "      <td>0.08758</td>\n",
       "      <td>NaN</td>\n",
       "    </tr>\n",
       "    <tr>\n",
       "      <th>3</th>\n",
       "      <td>84348301</td>\n",
       "      <td>M</td>\n",
       "      <td>11.42</td>\n",
       "      <td>20.38</td>\n",
       "      <td>77.58</td>\n",
       "      <td>386.1</td>\n",
       "      <td>0.14250</td>\n",
       "      <td>0.28390</td>\n",
       "      <td>0.2414</td>\n",
       "      <td>0.10520</td>\n",
       "      <td>...</td>\n",
       "      <td>26.50</td>\n",
       "      <td>98.87</td>\n",
       "      <td>567.7</td>\n",
       "      <td>0.2098</td>\n",
       "      <td>0.8663</td>\n",
       "      <td>0.6869</td>\n",
       "      <td>0.2575</td>\n",
       "      <td>0.6638</td>\n",
       "      <td>0.17300</td>\n",
       "      <td>NaN</td>\n",
       "    </tr>\n",
       "    <tr>\n",
       "      <th>4</th>\n",
       "      <td>84358402</td>\n",
       "      <td>M</td>\n",
       "      <td>20.29</td>\n",
       "      <td>14.34</td>\n",
       "      <td>135.10</td>\n",
       "      <td>1297.0</td>\n",
       "      <td>0.10030</td>\n",
       "      <td>0.13280</td>\n",
       "      <td>0.1980</td>\n",
       "      <td>0.10430</td>\n",
       "      <td>...</td>\n",
       "      <td>16.67</td>\n",
       "      <td>152.20</td>\n",
       "      <td>1575.0</td>\n",
       "      <td>0.1374</td>\n",
       "      <td>0.2050</td>\n",
       "      <td>0.4000</td>\n",
       "      <td>0.1625</td>\n",
       "      <td>0.2364</td>\n",
       "      <td>0.07678</td>\n",
       "      <td>NaN</td>\n",
       "    </tr>\n",
       "  </tbody>\n",
       "</table>\n",
       "<p>5 rows × 33 columns</p>\n",
       "</div>"
      ],
      "text/plain": [
       "         id diagnosis  radius_mean  texture_mean  perimeter_mean  area_mean  \\\n",
       "0    842302         M        17.99         10.38          122.80     1001.0   \n",
       "1    842517         M        20.57         17.77          132.90     1326.0   \n",
       "2  84300903         M        19.69         21.25          130.00     1203.0   \n",
       "3  84348301         M        11.42         20.38           77.58      386.1   \n",
       "4  84358402         M        20.29         14.34          135.10     1297.0   \n",
       "\n",
       "   smoothness_mean  compactness_mean  concavity_mean  concave points_mean  \\\n",
       "0          0.11840           0.27760          0.3001              0.14710   \n",
       "1          0.08474           0.07864          0.0869              0.07017   \n",
       "2          0.10960           0.15990          0.1974              0.12790   \n",
       "3          0.14250           0.28390          0.2414              0.10520   \n",
       "4          0.10030           0.13280          0.1980              0.10430   \n",
       "\n",
       "   ...  texture_worst  perimeter_worst  area_worst  smoothness_worst  \\\n",
       "0  ...          17.33           184.60      2019.0            0.1622   \n",
       "1  ...          23.41           158.80      1956.0            0.1238   \n",
       "2  ...          25.53           152.50      1709.0            0.1444   \n",
       "3  ...          26.50            98.87       567.7            0.2098   \n",
       "4  ...          16.67           152.20      1575.0            0.1374   \n",
       "\n",
       "   compactness_worst  concavity_worst  concave points_worst  symmetry_worst  \\\n",
       "0             0.6656           0.7119                0.2654          0.4601   \n",
       "1             0.1866           0.2416                0.1860          0.2750   \n",
       "2             0.4245           0.4504                0.2430          0.3613   \n",
       "3             0.8663           0.6869                0.2575          0.6638   \n",
       "4             0.2050           0.4000                0.1625          0.2364   \n",
       "\n",
       "   fractal_dimension_worst  Unnamed: 32  \n",
       "0                  0.11890          NaN  \n",
       "1                  0.08902          NaN  \n",
       "2                  0.08758          NaN  \n",
       "3                  0.17300          NaN  \n",
       "4                  0.07678          NaN  \n",
       "\n",
       "[5 rows x 33 columns]"
      ]
     },
     "execution_count": 1,
     "metadata": {},
     "output_type": "execute_result"
    }
   ],
   "source": [
    "import pandas as pd\n",
    "df = pd.read_csv(\"data.csv\")\n",
    "df.head()"
   ]
  },
  {
   "cell_type": "code",
   "execution_count": 2,
   "id": "4cb734e6",
   "metadata": {
    "execution": {
     "iopub.execute_input": "2022-06-11T13:24:25.478237Z",
     "iopub.status.busy": "2022-06-11T13:24:25.477500Z",
     "iopub.status.idle": "2022-06-11T13:24:25.483949Z",
     "shell.execute_reply": "2022-06-11T13:24:25.482965Z"
    },
    "papermill": {
     "duration": 0.015633,
     "end_time": "2022-06-11T13:24:25.486090",
     "exception": false,
     "start_time": "2022-06-11T13:24:25.470457",
     "status": "completed"
    },
    "tags": []
   },
   "outputs": [
    {
     "data": {
      "text/plain": [
       "(569, 33)"
      ]
     },
     "execution_count": 2,
     "metadata": {},
     "output_type": "execute_result"
    }
   ],
   "source": [
    "df.shape"
   ]
  },
  {
   "cell_type": "code",
   "execution_count": 3,
   "id": "526933e3",
   "metadata": {
    "execution": {
     "iopub.execute_input": "2022-06-11T13:24:25.521197Z",
     "iopub.status.busy": "2022-06-11T13:24:25.520818Z",
     "iopub.status.idle": "2022-06-11T13:24:25.528880Z",
     "shell.execute_reply": "2022-06-11T13:24:25.528151Z"
    },
    "papermill": {
     "duration": 0.016584,
     "end_time": "2022-06-11T13:24:25.530608",
     "exception": false,
     "start_time": "2022-06-11T13:24:25.514024",
     "status": "completed"
    },
    "tags": []
   },
   "outputs": [],
   "source": [
    "df = df.drop([\"Unnamed: 32\"], axis=1)"
   ]
  },
  {
   "cell_type": "code",
   "execution_count": 4,
   "id": "ba0a5a5e",
   "metadata": {
    "execution": {
     "iopub.execute_input": "2022-06-11T13:24:25.561569Z",
     "iopub.status.busy": "2022-06-11T13:24:25.560925Z",
     "iopub.status.idle": "2022-06-11T13:24:25.566256Z",
     "shell.execute_reply": "2022-06-11T13:24:25.565639Z"
    },
    "papermill": {
     "duration": 0.014315,
     "end_time": "2022-06-11T13:24:25.568066",
     "exception": false,
     "start_time": "2022-06-11T13:24:25.553751",
     "status": "completed"
    },
    "tags": []
   },
   "outputs": [],
   "source": [
    "X = df.iloc[:,2:].values\n",
    "y = df.iloc[:,1].values"
   ]
  },
  {
   "cell_type": "code",
   "execution_count": 5,
   "id": "e86312d5",
   "metadata": {
    "execution": {
     "iopub.execute_input": "2022-06-11T13:24:25.581753Z",
     "iopub.status.busy": "2022-06-11T13:24:25.581366Z",
     "iopub.status.idle": "2022-06-11T13:24:25.586411Z",
     "shell.execute_reply": "2022-06-11T13:24:25.585542Z"
    },
    "papermill": {
     "duration": 0.014486,
     "end_time": "2022-06-11T13:24:25.588360",
     "exception": false,
     "start_time": "2022-06-11T13:24:25.573874",
     "status": "completed"
    },
    "tags": []
   },
   "outputs": [
    {
     "name": "stdout",
     "output_type": "stream",
     "text": [
      "(569, 30)\n",
      "(569,)\n"
     ]
    }
   ],
   "source": [
    "print(X.shape)\n",
    "print(y.shape)"
   ]
  },
  {
   "cell_type": "code",
   "execution_count": 6,
   "id": "deeb7003",
   "metadata": {
    "execution": {
     "iopub.execute_input": "2022-06-11T13:24:25.624504Z",
     "iopub.status.busy": "2022-06-11T13:24:25.623447Z",
     "iopub.status.idle": "2022-06-11T13:24:26.732160Z",
     "shell.execute_reply": "2022-06-11T13:24:26.731144Z"
    },
    "papermill": {
     "duration": 1.118655,
     "end_time": "2022-06-11T13:24:26.734487",
     "exception": false,
     "start_time": "2022-06-11T13:24:25.615832",
     "status": "completed"
    },
    "tags": []
   },
   "outputs": [],
   "source": [
    "from sklearn.preprocessing import LabelEncoder\n",
    "le = LabelEncoder()\n",
    "y = le.fit_transform(y)"
   ]
  },
  {
   "cell_type": "code",
   "execution_count": 7,
   "id": "c5d10836",
   "metadata": {
    "execution": {
     "iopub.execute_input": "2022-06-11T13:24:26.759818Z",
     "iopub.status.busy": "2022-06-11T13:24:26.759222Z",
     "iopub.status.idle": "2022-06-11T13:24:26.825755Z",
     "shell.execute_reply": "2022-06-11T13:24:26.824945Z"
    },
    "papermill": {
     "duration": 0.076171,
     "end_time": "2022-06-11T13:24:26.828274",
     "exception": false,
     "start_time": "2022-06-11T13:24:26.752103",
     "status": "completed"
    },
    "tags": []
   },
   "outputs": [],
   "source": [
    "from sklearn.model_selection import train_test_split\n",
    "X_train, X_test, y_train, y_test = train_test_split(X,y,stratify=y, random_state=0)"
   ]
  },
  {
   "cell_type": "code",
   "execution_count": 15,
   "id": "11036779",
   "metadata": {
    "execution": {
     "iopub.execute_input": "2022-06-11T13:24:26.854493Z",
     "iopub.status.busy": "2022-06-11T13:24:26.854079Z",
     "iopub.status.idle": "2022-06-11T13:24:27.035420Z",
     "shell.execute_reply": "2022-06-11T13:24:27.034515Z"
    },
    "papermill": {
     "duration": 0.191292,
     "end_time": "2022-06-11T13:24:27.037734",
     "exception": false,
     "start_time": "2022-06-11T13:24:26.846442",
     "status": "completed"
    },
    "tags": []
   },
   "outputs": [],
   "source": [
    "from sklearn.tree import DecisionTreeClassifier\n",
    "from sklearn.metrics import accuracy_score\n",
    "tree = DecisionTreeClassifier(random_state = 0)\n",
    "tree = tree.fit(X_train, y_train)"
   ]
  },
  {
   "cell_type": "code",
   "execution_count": 16,
   "id": "7a479276",
   "metadata": {
    "execution": {
     "iopub.execute_input": "2022-06-11T13:24:27.063798Z",
     "iopub.status.busy": "2022-06-11T13:24:27.063374Z",
     "iopub.status.idle": "2022-06-11T13:24:27.069107Z",
     "shell.execute_reply": "2022-06-11T13:24:27.068166Z"
    },
    "papermill": {
     "duration": 0.015554,
     "end_time": "2022-06-11T13:24:27.071182",
     "exception": false,
     "start_time": "2022-06-11T13:24:27.055628",
     "status": "completed"
    },
    "tags": []
   },
   "outputs": [],
   "source": [
    "y_train_pred = tree.predict(X_train)\n",
    "y_test_pred = tree.predict(X_test)"
   ]
  },
  {
   "cell_type": "code",
   "execution_count": 17,
   "id": "0e600735",
   "metadata": {
    "execution": {
     "iopub.execute_input": "2022-06-11T13:24:27.132493Z",
     "iopub.status.busy": "2022-06-11T13:24:27.131864Z",
     "iopub.status.idle": "2022-06-11T13:24:27.684276Z",
     "shell.execute_reply": "2022-06-11T13:24:27.683181Z"
    },
    "papermill": {
     "duration": 0.562217,
     "end_time": "2022-06-11T13:24:27.686724",
     "exception": false,
     "start_time": "2022-06-11T13:24:27.124507",
     "status": "completed"
    },
    "tags": []
   },
   "outputs": [],
   "source": [
    "from sklearn.ensemble import BaggingClassifier\n",
    "bag = BaggingClassifier(estimator=tree,\n",
    "                       n_estimators=100,\n",
    "                       random_state=0)\n",
    "bag = bag.fit(X_train, y_train)"
   ]
  },
  {
   "cell_type": "code",
   "execution_count": 13,
   "id": "ca22f723",
   "metadata": {
    "execution": {
     "iopub.execute_input": "2022-06-11T13:24:27.712230Z",
     "iopub.status.busy": "2022-06-11T13:24:27.711837Z",
     "iopub.status.idle": "2022-06-11T13:24:27.744060Z",
     "shell.execute_reply": "2022-06-11T13:24:27.742959Z"
    },
    "papermill": {
     "duration": 0.041839,
     "end_time": "2022-06-11T13:24:27.746392",
     "exception": false,
     "start_time": "2022-06-11T13:24:27.704553",
     "status": "completed"
    },
    "tags": []
   },
   "outputs": [],
   "source": [
    "y_train_pred = bag.predict(X_train)\n",
    "y_test_pred = bag.predict(X_test)"
   ]
  },
  {
   "cell_type": "code",
   "execution_count": 18,
   "id": "e0ba17e5",
   "metadata": {
    "execution": {
     "iopub.execute_input": "2022-06-11T13:24:27.772295Z",
     "iopub.status.busy": "2022-06-11T13:24:27.771918Z",
     "iopub.status.idle": "2022-06-11T13:24:27.777061Z",
     "shell.execute_reply": "2022-06-11T13:24:27.776256Z"
    },
    "papermill": {
     "duration": 0.014404,
     "end_time": "2022-06-11T13:24:27.778909",
     "exception": false,
     "start_time": "2022-06-11T13:24:27.764505",
     "status": "completed"
    },
    "tags": []
   },
   "outputs": [
    {
     "name": "stdout",
     "output_type": "stream",
     "text": [
      "Bagging train/test accuracies:  1.000/ 0.944\n"
     ]
    }
   ],
   "source": [
    "bag_train = accuracy_score(y_train, y_train_pred)\n",
    "bag_test = accuracy_score(y_test, y_test_pred)\n",
    "print(f\"Bagging train/test accuracies: {bag_train: .3f}/{bag_test: .3f}\")"
   ]
  },
  {
   "cell_type": "code",
   "execution_count": 30,
   "id": "e2c82669",
   "metadata": {},
   "outputs": [
    {
     "name": "stdout",
     "output_type": "stream",
     "text": [
      "Actual Diagnosis: M\n",
      "Predicted Diagnosis: M\n"
     ]
    }
   ],
   "source": [
    "row_index = 10\n",
    "\n",
    "X_new = df.iloc[row_index, 2:].values.reshape(1, -1)\n",
    "y_actual = df.iloc[row_index, 1]\n",
    "\n",
    "y_predicted = bag.predict(X_new)\n",
    "\n",
    "y_predicted_label = le.inverse_transform(y_predicted)\n",
    "\n",
    "print(f\"Actual Diagnosis: {y_actual}\")\n",
    "print(f\"Predicted Diagnosis: {y_predicted_label[0]}\")\n"
   ]
  },
  {
   "cell_type": "code",
   "execution_count": 31,
   "id": "d2be5dd5",
   "metadata": {},
   "outputs": [
    {
     "name": "stdout",
     "output_type": "stream",
     "text": [
      "Actual Diagnosis: B\n",
      "Predicted Diagnosis: B\n"
     ]
    }
   ],
   "source": [
    "row_index = 21\n",
    "\n",
    "X_new = df.iloc[row_index, 2:].values.reshape(1, -1)\n",
    "y_actual = df.iloc[row_index, 1]\n",
    "\n",
    "y_predicted = bag.predict(X_new)\n",
    "\n",
    "y_predicted_label = le.inverse_transform(y_predicted)\n",
    "\n",
    "print(f\"Actual Diagnosis: {y_actual}\")\n",
    "print(f\"Predicted Diagnosis: {y_predicted_label[0]}\")"
   ]
  }
 ],
 "metadata": {
  "kernelspec": {
   "display_name": "Python 3",
   "language": "python",
   "name": "python3"
  },
  "language_info": {
   "codemirror_mode": {
    "name": "ipython",
    "version": 3
   },
   "file_extension": ".py",
   "mimetype": "text/x-python",
   "name": "python",
   "nbconvert_exporter": "python",
   "pygments_lexer": "ipython3",
   "version": "3.11.2"
  },
  "papermill": {
   "default_parameters": {},
   "duration": 12.282992,
   "end_time": "2022-06-11T13:24:28.529249",
   "environment_variables": {},
   "exception": null,
   "input_path": "__notebook__.ipynb",
   "output_path": "__notebook__.ipynb",
   "parameters": {},
   "start_time": "2022-06-11T13:24:16.246257",
   "version": "2.3.4"
  }
 },
 "nbformat": 4,
 "nbformat_minor": 5
}
