{
  "cells": [
    {
      "cell_type": "code",
      "execution_count": 18,
      "metadata": {
        "_cell_guid": "b1076dfc-b9ad-4769-8c92-a6c4dae69d19",
        "_uuid": "8f2839f25d086af736a60e9eeb907d3b93b6e0e5",
        "execution": {
          "iopub.execute_input": "2024-03-20T17:48:30.694401Z",
          "iopub.status.busy": "2024-03-20T17:48:30.6936Z",
          "iopub.status.idle": "2024-03-20T17:48:30.699712Z",
          "shell.execute_reply": "2024-03-20T17:48:30.69876Z",
          "shell.execute_reply.started": "2024-03-20T17:48:30.694373Z"
        },
        "id": "UlBceUjUOCbp",
        "trusted": true
      },
      "outputs": [],
      "source": [
        "import pandas as pd\n",
        "import matplotlib.pyplot as plt\n",
        "import seaborn as sns\n",
        "from sklearn.model_selection import train_test_split\n",
        "from sklearn.linear_model import LinearRegression\n",
        "from sklearn.metrics import r2_score"
      ]
    },
    {
      "cell_type": "markdown",
      "metadata": {
        "id": "cmpeuf_mOCbr"
      },
      "source": [
        "**Read the dataset.**"
      ]
    },
    {
      "cell_type": "code",
      "execution_count": 19,
      "metadata": {
        "execution": {
          "iopub.execute_input": "2024-03-20T17:48:35.409654Z",
          "iopub.status.busy": "2024-03-20T17:48:35.409177Z",
          "iopub.status.idle": "2024-03-20T17:48:35.449591Z",
          "shell.execute_reply": "2024-03-20T17:48:35.448706Z",
          "shell.execute_reply.started": "2024-03-20T17:48:35.409632Z"
        },
        "id": "Sz5avBFgOCbr",
        "trusted": true
      },
      "outputs": [],
      "source": [
        "data = pd.read_csv(r\"abalone.csv\")"
      ]
    },
    {
      "cell_type": "code",
      "execution_count": 20,
      "metadata": {
        "colab": {
          "base_uri": "https://localhost:8080/"
        },
        "execution": {
          "iopub.execute_input": "2024-03-20T17:48:40.773284Z",
          "iopub.status.busy": "2024-03-20T17:48:40.772853Z",
          "iopub.status.idle": "2024-03-20T17:48:40.786343Z",
          "shell.execute_reply": "2024-03-20T17:48:40.78557Z",
          "shell.execute_reply.started": "2024-03-20T17:48:40.773261Z"
        },
        "id": "NnDCJK-YOCbs",
        "outputId": "e85ef24d-ab9d-4bb8-9e67-c3467a9fc0e4",
        "trusted": true
      },
      "outputs": [
        {
          "name": "stdout",
          "output_type": "stream",
          "text": [
            "<bound method NDFrame.head of      Sex  Length  Diameter  Height  Whole weight  Shucked weight  \\\n",
            "0      M   0.455     0.365   0.095        0.5140          0.2245   \n",
            "1      M   0.350     0.265   0.090        0.2255          0.0995   \n",
            "2      F   0.530     0.420   0.135        0.6770          0.2565   \n",
            "3      M   0.440     0.365   0.125        0.5160          0.2155   \n",
            "4      I   0.330     0.255   0.080        0.2050          0.0895   \n",
            "...   ..     ...       ...     ...           ...             ...   \n",
            "4172   F   0.565     0.450   0.165        0.8870          0.3700   \n",
            "4173   M   0.590     0.440   0.135        0.9660          0.4390   \n",
            "4174   M   0.600     0.475   0.205        1.1760          0.5255   \n",
            "4175   F   0.625     0.485   0.150        1.0945          0.5310   \n",
            "4176   M   0.710     0.555   0.195        1.9485          0.9455   \n",
            "\n",
            "      Viscera weight  Shell weight  Rings  \n",
            "0             0.1010        0.1500     15  \n",
            "1             0.0485        0.0700      7  \n",
            "2             0.1415        0.2100      9  \n",
            "3             0.1140        0.1550     10  \n",
            "4             0.0395        0.0550      7  \n",
            "...              ...           ...    ...  \n",
            "4172          0.2390        0.2490     11  \n",
            "4173          0.2145        0.2605     10  \n",
            "4174          0.2875        0.3080      9  \n",
            "4175          0.2610        0.2960     10  \n",
            "4176          0.3765        0.4950     12  \n",
            "\n",
            "[4177 rows x 9 columns]>\n"
          ]
        }
      ],
      "source": [
        "print(data.head)"
      ]
    },
    {
      "cell_type": "code",
      "execution_count": 21,
      "metadata": {
        "colab": {
          "base_uri": "https://localhost:8080/"
        },
        "execution": {
          "iopub.execute_input": "2024-03-20T17:48:45.531675Z",
          "iopub.status.busy": "2024-03-20T17:48:45.531345Z",
          "iopub.status.idle": "2024-03-20T17:48:45.537879Z",
          "shell.execute_reply": "2024-03-20T17:48:45.536835Z",
          "shell.execute_reply.started": "2024-03-20T17:48:45.531652Z"
        },
        "id": "DkqSKXkSOCbs",
        "outputId": "907c0107-2313-4091-f69c-8325d18d929b",
        "trusted": true
      },
      "outputs": [
        {
          "name": "stdout",
          "output_type": "stream",
          "text": [
            "Index(['Sex', 'Length', 'Diameter', 'Height', 'Whole weight', 'Shucked weight',\n",
            "       'Viscera weight', 'Shell weight', 'Rings'],\n",
            "      dtype='object')\n"
          ]
        }
      ],
      "source": [
        "print(data.columns)"
      ]
    },
    {
      "cell_type": "code",
      "execution_count": 22,
      "metadata": {
        "colab": {
          "base_uri": "https://localhost:8080/"
        },
        "execution": {
          "iopub.execute_input": "2024-03-20T17:48:50.035542Z",
          "iopub.status.busy": "2024-03-20T17:48:50.035241Z",
          "iopub.status.idle": "2024-03-20T17:48:50.041702Z",
          "shell.execute_reply": "2024-03-20T17:48:50.040716Z",
          "shell.execute_reply.started": "2024-03-20T17:48:50.035521Z"
        },
        "id": "z0fOfs0IOCbs",
        "outputId": "03f8a9b6-21b5-4b14-800c-a24c1e407f66",
        "trusted": true
      },
      "outputs": [
        {
          "name": "stdout",
          "output_type": "stream",
          "text": [
            "Sex                object\n",
            "Length            float64\n",
            "Diameter          float64\n",
            "Height            float64\n",
            "Whole weight      float64\n",
            "Shucked weight    float64\n",
            "Viscera weight    float64\n",
            "Shell weight      float64\n",
            "Rings               int64\n",
            "dtype: object\n"
          ]
        }
      ],
      "source": [
        "print(data.dtypes)"
      ]
    },
    {
      "cell_type": "code",
      "execution_count": 23,
      "metadata": {
        "colab": {
          "base_uri": "https://localhost:8080/"
        },
        "execution": {
          "iopub.execute_input": "2024-03-20T17:48:54.185815Z",
          "iopub.status.busy": "2024-03-20T17:48:54.184868Z",
          "iopub.status.idle": "2024-03-20T17:48:54.190294Z",
          "shell.execute_reply": "2024-03-20T17:48:54.189363Z",
          "shell.execute_reply.started": "2024-03-20T17:48:54.185787Z"
        },
        "id": "8qMVMM7XOCbt",
        "outputId": "cd2d96d8-b712-48fa-98bb-1ae4b712e485",
        "trusted": true
      },
      "outputs": [
        {
          "name": "stdout",
          "output_type": "stream",
          "text": [
            "(4177, 9)\n"
          ]
        }
      ],
      "source": [
        "print(data.shape)"
      ]
    },
    {
      "cell_type": "code",
      "execution_count": 24,
      "metadata": {
        "colab": {
          "base_uri": "https://localhost:8080/"
        },
        "execution": {
          "iopub.execute_input": "2024-03-20T17:48:57.612356Z",
          "iopub.status.busy": "2024-03-20T17:48:57.612042Z",
          "iopub.status.idle": "2024-03-20T17:48:57.621489Z",
          "shell.execute_reply": "2024-03-20T17:48:57.620105Z",
          "shell.execute_reply.started": "2024-03-20T17:48:57.612332Z"
        },
        "id": "0kMtFH2vOCbu",
        "outputId": "72622aa4-5377-471e-f68c-1b0978327841",
        "trusted": true
      },
      "outputs": [
        {
          "name": "stdout",
          "output_type": "stream",
          "text": [
            "Sex               0\n",
            "Length            0\n",
            "Diameter          0\n",
            "Height            0\n",
            "Whole weight      0\n",
            "Shucked weight    0\n",
            "Viscera weight    0\n",
            "Shell weight      0\n",
            "Rings             0\n",
            "dtype: int64\n"
          ]
        }
      ],
      "source": [
        "print(data.isnull().sum())"
      ]
    },
    {
      "cell_type": "code",
      "execution_count": 26,
      "metadata": {
        "colab": {
          "base_uri": "https://localhost:8080/"
        },
        "execution": {
          "iopub.execute_input": "2024-03-20T17:49:11.101387Z",
          "iopub.status.busy": "2024-03-20T17:49:11.101058Z",
          "iopub.status.idle": "2024-03-20T17:49:11.109521Z",
          "shell.execute_reply": "2024-03-20T17:49:11.108612Z",
          "shell.execute_reply.started": "2024-03-20T17:49:11.101365Z"
        },
        "id": "Fq1tWnUNOCbv",
        "outputId": "f3a01bcc-0201-4624-d544-327502ad6d6a",
        "trusted": true
      },
      "outputs": [],
      "source": [
        "from sklearn.preprocessing import LabelEncoder\n",
        "\n",
        "# Assuming your dataframe is named 'data' and the column containing \"M\" and \"F\" is named 'gender'\n",
        "label_encoder = LabelEncoder()\n",
        "data['Sex'] = label_encoder.fit_transform(data['Sex'])"
      ]
    },
    {
      "cell_type": "code",
      "execution_count": 27,
      "metadata": {},
      "outputs": [
        {
          "data": {
            "text/html": [
              "<div>\n",
              "<style scoped>\n",
              "    .dataframe tbody tr th:only-of-type {\n",
              "        vertical-align: middle;\n",
              "    }\n",
              "\n",
              "    .dataframe tbody tr th {\n",
              "        vertical-align: top;\n",
              "    }\n",
              "\n",
              "    .dataframe thead th {\n",
              "        text-align: right;\n",
              "    }\n",
              "</style>\n",
              "<table border=\"1\" class=\"dataframe\">\n",
              "  <thead>\n",
              "    <tr style=\"text-align: right;\">\n",
              "      <th></th>\n",
              "      <th>Sex</th>\n",
              "      <th>Length</th>\n",
              "      <th>Diameter</th>\n",
              "      <th>Height</th>\n",
              "      <th>Whole weight</th>\n",
              "      <th>Shucked weight</th>\n",
              "      <th>Viscera weight</th>\n",
              "      <th>Shell weight</th>\n",
              "      <th>Rings</th>\n",
              "    </tr>\n",
              "  </thead>\n",
              "  <tbody>\n",
              "    <tr>\n",
              "      <th>0</th>\n",
              "      <td>2</td>\n",
              "      <td>0.455</td>\n",
              "      <td>0.365</td>\n",
              "      <td>0.095</td>\n",
              "      <td>0.5140</td>\n",
              "      <td>0.2245</td>\n",
              "      <td>0.1010</td>\n",
              "      <td>0.150</td>\n",
              "      <td>15</td>\n",
              "    </tr>\n",
              "    <tr>\n",
              "      <th>1</th>\n",
              "      <td>2</td>\n",
              "      <td>0.350</td>\n",
              "      <td>0.265</td>\n",
              "      <td>0.090</td>\n",
              "      <td>0.2255</td>\n",
              "      <td>0.0995</td>\n",
              "      <td>0.0485</td>\n",
              "      <td>0.070</td>\n",
              "      <td>7</td>\n",
              "    </tr>\n",
              "    <tr>\n",
              "      <th>2</th>\n",
              "      <td>0</td>\n",
              "      <td>0.530</td>\n",
              "      <td>0.420</td>\n",
              "      <td>0.135</td>\n",
              "      <td>0.6770</td>\n",
              "      <td>0.2565</td>\n",
              "      <td>0.1415</td>\n",
              "      <td>0.210</td>\n",
              "      <td>9</td>\n",
              "    </tr>\n",
              "    <tr>\n",
              "      <th>3</th>\n",
              "      <td>2</td>\n",
              "      <td>0.440</td>\n",
              "      <td>0.365</td>\n",
              "      <td>0.125</td>\n",
              "      <td>0.5160</td>\n",
              "      <td>0.2155</td>\n",
              "      <td>0.1140</td>\n",
              "      <td>0.155</td>\n",
              "      <td>10</td>\n",
              "    </tr>\n",
              "    <tr>\n",
              "      <th>4</th>\n",
              "      <td>1</td>\n",
              "      <td>0.330</td>\n",
              "      <td>0.255</td>\n",
              "      <td>0.080</td>\n",
              "      <td>0.2050</td>\n",
              "      <td>0.0895</td>\n",
              "      <td>0.0395</td>\n",
              "      <td>0.055</td>\n",
              "      <td>7</td>\n",
              "    </tr>\n",
              "  </tbody>\n",
              "</table>\n",
              "</div>"
            ],
            "text/plain": [
              "   Sex  Length  Diameter  Height  Whole weight  Shucked weight  \\\n",
              "0    2   0.455     0.365   0.095        0.5140          0.2245   \n",
              "1    2   0.350     0.265   0.090        0.2255          0.0995   \n",
              "2    0   0.530     0.420   0.135        0.6770          0.2565   \n",
              "3    2   0.440     0.365   0.125        0.5160          0.2155   \n",
              "4    1   0.330     0.255   0.080        0.2050          0.0895   \n",
              "\n",
              "   Viscera weight  Shell weight  Rings  \n",
              "0          0.1010         0.150     15  \n",
              "1          0.0485         0.070      7  \n",
              "2          0.1415         0.210      9  \n",
              "3          0.1140         0.155     10  \n",
              "4          0.0395         0.055      7  "
            ]
          },
          "execution_count": 27,
          "metadata": {},
          "output_type": "execute_result"
        }
      ],
      "source": [
        "data.head(5)"
      ]
    },
    {
      "cell_type": "code",
      "execution_count": 28,
      "metadata": {},
      "outputs": [
        {
          "name": "stdout",
          "output_type": "stream",
          "text": [
            "Sex                 int32\n",
            "Length            float64\n",
            "Diameter          float64\n",
            "Height            float64\n",
            "Whole weight      float64\n",
            "Shucked weight    float64\n",
            "Viscera weight    float64\n",
            "Shell weight      float64\n",
            "Rings               int64\n",
            "dtype: object\n"
          ]
        }
      ],
      "source": [
        "print(data.dtypes)"
      ]
    },
    {
      "cell_type": "code",
      "execution_count": 29,
      "metadata": {
        "execution": {
          "iopub.execute_input": "2024-03-20T17:56:51.502297Z",
          "iopub.status.busy": "2024-03-20T17:56:51.501382Z",
          "iopub.status.idle": "2024-03-20T17:56:51.513767Z",
          "shell.execute_reply": "2024-03-20T17:56:51.512743Z",
          "shell.execute_reply.started": "2024-03-20T17:56:51.502257Z"
        },
        "id": "OkjIAka7OCby",
        "trusted": true
      },
      "outputs": [],
      "source": [
        "X = data[['Length','Diameter','Height','Whole weight','Shucked weight','Shell weight', 'Viscera weight','Sex']] \n",
        "y = data['Rings'] \n",
        "\n",
        "X_train, X_test, y_train, y_test = train_test_split(X, y, test_size=0.2, random_state=42)\n",
        "\n",
        "model = LinearRegression()\n",
        "model.fit(X_train, y_train)\n",
        "\n",
        "y_pred = model.predict(X_test)\n"
      ]
    },
    {
      "cell_type": "code",
      "execution_count": 30,
      "metadata": {
        "colab": {
          "base_uri": "https://localhost:8080/"
        },
        "execution": {
          "iopub.execute_input": "2024-03-20T17:56:55.169064Z",
          "iopub.status.busy": "2024-03-20T17:56:55.168737Z",
          "iopub.status.idle": "2024-03-20T17:56:55.175763Z",
          "shell.execute_reply": "2024-03-20T17:56:55.174873Z",
          "shell.execute_reply.started": "2024-03-20T17:56:55.169039Z"
        },
        "id": "3wG3vwooOCby",
        "outputId": "b9a99c11-c273-46fe-bd2e-f438231dbb04",
        "trusted": true
      },
      "outputs": [
        {
          "name": "stdout",
          "output_type": "stream",
          "text": [
            "R2 Score:  53.23381317508213\n"
          ]
        }
      ],
      "source": [
        "print(\"R2 Score: \", r2_score(y_test, y_pred)*100)\n",
        "\n"
      ]
    },
    {
      "cell_type": "code",
      "execution_count": 32,
      "metadata": {},
      "outputs": [
        {
          "name": "stdout",
          "output_type": "stream",
          "text": [
            "Mean Squared Error (MSE): 5.062537954095227\n",
            "Root Mean Squared Error (RMSE): 2.2500084342275755\n",
            "R-squared (R2): 0.5323381317508213\n"
          ]
        }
      ],
      "source": [
        "from sklearn.metrics import mean_squared_error, r2_score\n",
        "import numpy as np\n",
        "# Calculate Mean Squared Error (MSE)\n",
        "mse = mean_squared_error(y_test, y_pred)\n",
        "\n",
        "rmse = np.sqrt(mse)\n",
        "\n",
        "r2 = r2_score(y_test, y_pred)\n",
        "\n",
        "print(\"Mean Squared Error (MSE):\", mse)\n",
        "print(\"Root Mean Squared Error (RMSE):\", rmse)\n",
        "print(\"R-squared (R2):\", r2)\n"
      ]
    },
    {
      "cell_type": "code",
      "execution_count": 33,
      "metadata": {},
      "outputs": [
        {
          "name": "stdout",
          "output_type": "stream",
          "text": [
            "Features for prediction: [[0.455  0.365  0.095  0.514  0.2245 0.15   0.101  2.    ]]\n"
          ]
        }
      ],
      "source": [
        "row_index = 0\n",
        "row = data.iloc[row_index]\n",
        "features = row[['Length', 'Diameter', 'Height', 'Whole weight', 'Shucked weight', 'Shell weight', 'Viscera weight', 'Sex']].values.reshape(1, -1)\n",
        "print(\"Features for prediction:\", features)\n"
      ]
    },
    {
      "cell_type": "code",
      "execution_count": 34,
      "metadata": {},
      "outputs": [
        {
          "name": "stdout",
          "output_type": "stream",
          "text": [
            "Predicted rings for row 0: 8.863156224173391\n"
          ]
        },
        {
          "name": "stderr",
          "output_type": "stream",
          "text": [
            "c:\\Users\\RAGHUL\\AppData\\Local\\Programs\\Python\\Python311\\Lib\\site-packages\\sklearn\\base.py:493: UserWarning: X does not have valid feature names, but LinearRegression was fitted with feature names\n",
            "  warnings.warn(\n"
          ]
        }
      ],
      "source": [
        "prediction = model.predict(features)\n",
        "print(f\"Predicted rings for row {row_index}: {prediction[0]}\")\n"
      ]
    },
    {
      "cell_type": "code",
      "execution_count": null,
      "metadata": {},
      "outputs": [],
      "source": []
    }
  ],
  "metadata": {
    "colab": {
      "provenance": []
    },
    "kaggle": {
      "accelerator": "none",
      "dataSources": [
        {
          "datasetId": 5227,
          "sourceId": 7876,
          "sourceType": "datasetVersion"
        }
      ],
      "dockerImageVersionId": 30664,
      "isGpuEnabled": false,
      "isInternetEnabled": true,
      "language": "python",
      "sourceType": "notebook"
    },
    "kernelspec": {
      "display_name": "Python 3",
      "language": "python",
      "name": "python3"
    },
    "language_info": {
      "codemirror_mode": {
        "name": "ipython",
        "version": 3
      },
      "file_extension": ".py",
      "mimetype": "text/x-python",
      "name": "python",
      "nbconvert_exporter": "python",
      "pygments_lexer": "ipython3",
      "version": "3.11.2"
    }
  },
  "nbformat": 4,
  "nbformat_minor": 0
}
