{
 "cells": [
  {
   "cell_type": "code",
   "execution_count": 6,
   "metadata": {},
   "outputs": [],
   "source": [
    "from predict import Predictor\n",
    "import pyaging as pya\n",
    "import pandas as pd\n",
    "import torch\n",
    "from urllib.request import urlretrieve"
   ]
  },
  {
   "cell_type": "markdown",
   "metadata": {},
   "source": [
    "## Data Processing"
   ]
  },
  {
   "cell_type": "code",
   "execution_count": 8,
   "metadata": {},
   "outputs": [
    {
     "name": "stdout",
     "output_type": "stream",
     "text": [
      "|-----> 🏗️ Starting df_to_adata function\n",
      "|-----> ⚙️ Create anndata object started\n",
      "|-----> ✅ Create anndata object finished [0.0592s]\n",
      "|-----> ⚙️ Add metadata to anndata started\n",
      "|-----------? No metadata provided. Leaving adata.obs empty\n",
      "|-----> ⚠️ Add metadata to anndata finished [0.0010s]\n",
      "|-----> ⚙️ Log data statistics started\n",
      "|-----------> There are 157 observations\n",
      "|-----------> There are 80400 features\n",
      "|-----------> Total missing values: 0\n",
      "|-----------> Percentage of missing values: 0.00%\n",
      "|-----> ✅ Log data statistics finished [0.0114s]\n",
      "|-----> ⚙️ Impute missing values started\n",
      "|-----------> No missing values found. No imputation necessary\n",
      "|-----> ✅ Impute missing values finished [0.0115s]\n",
      "|-----> 🎉 Done! [0.0877s]\n"
     ]
    }
   ],
   "source": [
    "pya.data.download_example_data('GSE193140')\n",
    "df = pd.read_pickle('pyaging_data/GSE193140.pkl')\n",
    "adata = pya.preprocess.df_to_adata(df)"
   ]
  },
  {
   "cell_type": "markdown",
   "metadata": {},
   "source": [
    "## Predict setup"
   ]
  },
  {
   "cell_type": "code",
   "execution_count": null,
   "metadata": {},
   "outputs": [],
   "source": [
    "clock_name='OcampoATAC1'\n",
    "clock_name=clock_name.lower()\n",
    "url = f\"https://pyaging.s3.amazonaws.com/clocks/weights0.1.0/{clock_name}.pt\"\n",
    "file_path = f\"{clock_name}.pt\"\n",
    "urlretrieve(url, file_path)"
   ]
  },
  {
   "cell_type": "code",
   "execution_count": null,
   "metadata": {},
   "outputs": [],
   "source": [
    "model = torch.load(file_path)\n",
    "model.base_m"
   ]
  },
  {
   "cell_type": "code",
   "execution_count": 9,
   "metadata": {},
   "outputs": [],
   "source": [
    "predictor = Predictor(adata,model,batch_size=1024)\n",
    "preds = predictor(adata)"
   ]
  }
 ],
 "metadata": {
  "kernelspec": {
   "display_name": ".venv",
   "language": "python",
   "name": "python3"
  },
  "language_info": {
   "codemirror_mode": {
    "name": "ipython",
    "version": 3
   },
   "file_extension": ".py",
   "mimetype": "text/x-python",
   "name": "python",
   "nbconvert_exporter": "python",
   "pygments_lexer": "ipython3",
   "version": "3.11.0"
  }
 },
 "nbformat": 4,
 "nbformat_minor": 2
}
