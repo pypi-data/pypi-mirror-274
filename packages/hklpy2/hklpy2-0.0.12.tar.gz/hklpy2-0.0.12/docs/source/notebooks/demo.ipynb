{
 "cells": [
  {
   "cell_type": "markdown",
   "id": "687747a6-47b1-4d11-9d4c-64c071d735b3",
   "metadata": {},
   "source": [
    "## Demonstrate **hklpy2**'s API\n",
    "\n",
    "A working notebook as the package is being developed.\n",
    "***Anything*** could change."
   ]
  },
  {
   "cell_type": "code",
   "execution_count": 1,
   "id": "61d5927e-d2d3-4fae-9b47-eb5fdb6117c1",
   "metadata": {},
   "outputs": [
    {
     "name": "stdout",
     "output_type": "stream",
     "text": [
      "2024-05-22 00:23:44.218915\n",
      "hklpy2.__version__='0.0.12.dev0+g97da355.d20240522'\n",
      "hklpy2.solvers()={'hkl_soleil': 'hklpy2.backends.hkl_soleil:HklSolver', 'no_op': 'hklpy2.backends.no_op:NoOpSolver', 'th_tth': 'hklpy2.backends.th_tth_q:ThTthSolver'}\n"
     ]
    }
   ],
   "source": [
    "import datetime\n",
    "import hklpy2\n",
    "print(f\"{datetime.datetime.now()}\")\n",
    "print(f\"{hklpy2.__version__=}\")\n",
    "print(f\"{hklpy2.solvers()=}\")"
   ]
  },
  {
   "cell_type": "code",
   "execution_count": 2,
   "id": "b6f15454-7d0d-418a-bef4-89be51a26cf1",
   "metadata": {
    "scrolled": true
   },
   "outputs": [
    {
     "name": "stdout",
     "output_type": "stream",
     "text": [
      "fourc._solver=HklSolver(name='hkl_soleil', version='v5.0.0.3434', geometry='E4CV', engine='hkl', mode='bissector')\n",
      "fourc._solver.pseudo_axis_names=['h', 'k', 'l']\n",
      "fourc._solver.real_axis_names=['omega', 'chi', 'phi', 'tth']\n",
      "fourc._solver.extra_axis_names=[]\n",
      "[axis.name for axis in fourc._solver.user_pseudos]=['fourc_h', 'fourc_k', 'fourc_l']\n",
      "[axis.name for axis in fourc._solver.user_reals]=['fourc_theta', 'fourc_chi', 'fourc_phi', 'fourc_ttheta']\n",
      "[axis.name for axis in fourc._solver.user_extras]=['fourc_h2', 'fourc_k2', 'fourc_l2', 'fourc_psi']\n"
     ]
    }
   ],
   "source": [
    "from ophyd import Component as Cpt\n",
    "from ophyd import Kind\n",
    "from ophyd import PseudoSingle\n",
    "from ophyd import SoftPositioner\n",
    "\n",
    "NORMAL_HINTED = Kind.hinted | Kind.normal\n",
    "\n",
    "class Fourc(hklpy2.DiffractometerBase):\n",
    "    \"\"\"Test case.\"\"\"\n",
    "\n",
    "    h = Cpt(PseudoSingle, \"\", kind=NORMAL_HINTED)  # noqa: E741\n",
    "    k = Cpt(PseudoSingle, \"\", kind=NORMAL_HINTED)  # noqa: E741\n",
    "    l = Cpt(PseudoSingle, \"\", kind=NORMAL_HINTED)  # noqa: E741\n",
    "\n",
    "    theta = Cpt(SoftPositioner, limits=(-180, 180), init_pos=0, kind=NORMAL_HINTED)\n",
    "    chi = Cpt(SoftPositioner, limits=(-180, 180), init_pos=0, kind=NORMAL_HINTED)\n",
    "    phi = Cpt(SoftPositioner, limits=(-180, 180), init_pos=0, kind=NORMAL_HINTED)\n",
    "    ttheta = Cpt(SoftPositioner, limits=(-170, 170), init_pos=0, kind=NORMAL_HINTED)\n",
    "\n",
    "    h2 = Cpt(PseudoSingle, \"\", kind=NORMAL_HINTED)  # noqa: E741\n",
    "    k2 = Cpt(PseudoSingle, \"\", kind=NORMAL_HINTED)  # noqa: E741\n",
    "    l2 = Cpt(PseudoSingle, \"\", kind=NORMAL_HINTED)  # noqa: E741\n",
    "\n",
    "    psi = Cpt(SoftPositioner, limits=(-170, 170), init_pos=0, kind=NORMAL_HINTED)\n",
    "\n",
    "    def __init__(self, *args, **kwargs):\n",
    "        super().__init__(*args, **kwargs)\n",
    "        self.set_solver(\"hkl_soleil\", \"E4CV\", engine=\"hkl\")\n",
    "        self._solver.auto_assign_axes(self)\n",
    "\n",
    "fourc = Fourc(\"\", name=\"fourc\")\n",
    "print(f\"{fourc._solver=}\")\n",
    "print(f\"{fourc._solver.pseudo_axis_names=}\")\n",
    "print(f\"{fourc._solver.real_axis_names=}\")\n",
    "print(f\"{fourc._solver.extra_axis_names=}\")\n",
    "print(f\"{[axis.name for axis in fourc._solver.user_pseudos]=}\")\n",
    "print(f\"{[axis.name for axis in fourc._solver.user_reals]=}\")\n",
    "print(f\"{[axis.name for axis in fourc._solver.user_extras]=}\")"
   ]
  },
  {
   "cell_type": "code",
   "execution_count": 3,
   "id": "b0b0e47a-49f3-4416-95f8-6b2435ae20e3",
   "metadata": {},
   "outputs": [
    {
     "data": {
      "text/plain": [
       "{'position': FourcPseudoPos(h=0, k=0, l=0, h2=0, k2=0, l2=0)}"
      ]
     },
     "execution_count": 3,
     "metadata": {},
     "output_type": "execute_result"
    }
   ],
   "source": [
    "fourc.report"
   ]
  },
  {
   "cell_type": "code",
   "execution_count": 4,
   "id": "c7be3657-7b17-42ba-9746-0bdfbc7e0bb4",
   "metadata": {},
   "outputs": [
    {
     "name": "stdout",
     "output_type": "stream",
     "text": [
      "data keys (* hints)\n",
      "-------------------\n",
      "*fourc_chi\n",
      " fourc_geometry\n",
      "*fourc_h\n",
      "*fourc_h2\n",
      " fourc_h2_setpoint\n",
      " fourc_h_setpoint\n",
      "*fourc_k\n",
      "*fourc_k2\n",
      " fourc_k2_setpoint\n",
      " fourc_k_setpoint\n",
      "*fourc_l\n",
      "*fourc_l2\n",
      " fourc_l2_setpoint\n",
      " fourc_l_setpoint\n",
      "*fourc_phi\n",
      "*fourc_psi\n",
      " fourc_solver\n",
      "*fourc_theta\n",
      "*fourc_ttheta\n",
      " fourc_wavelength\n",
      " fourc_wavelength_units\n",
      "\n",
      "read attrs\n",
      "----------\n",
      "solver               AttributeSignal     ('fourc_solver')\n",
      "geometry             AttributeSignal     ('fourc_geometry')\n",
      "wavelength           AttributeSignal     ('fourc_wavelength')\n",
      "wavelength_units     AttributeSignal     ('fourc_wavelength_units')\n",
      "h                    PseudoSingle        ('fourc_h')\n",
      "h.readback           AttributeSignal     ('fourc_h')\n",
      "h.setpoint           AttributeSignal     ('fourc_h_setpoint')\n",
      "k                    PseudoSingle        ('fourc_k')\n",
      "k.readback           AttributeSignal     ('fourc_k')\n",
      "k.setpoint           AttributeSignal     ('fourc_k_setpoint')\n",
      "l                    PseudoSingle        ('fourc_l')\n",
      "l.readback           AttributeSignal     ('fourc_l')\n",
      "l.setpoint           AttributeSignal     ('fourc_l_setpoint')\n",
      "theta                SoftPositioner      ('fourc_theta')\n",
      "chi                  SoftPositioner      ('fourc_chi')\n",
      "phi                  SoftPositioner      ('fourc_phi')\n",
      "ttheta               SoftPositioner      ('fourc_ttheta')\n",
      "h2                   PseudoSingle        ('fourc_h2')\n",
      "h2.readback          AttributeSignal     ('fourc_h2')\n",
      "h2.setpoint          AttributeSignal     ('fourc_h2_setpoint')\n",
      "k2                   PseudoSingle        ('fourc_k2')\n",
      "k2.readback          AttributeSignal     ('fourc_k2')\n",
      "k2.setpoint          AttributeSignal     ('fourc_k2_setpoint')\n",
      "l2                   PseudoSingle        ('fourc_l2')\n",
      "l2.readback          AttributeSignal     ('fourc_l2')\n",
      "l2.setpoint          AttributeSignal     ('fourc_l2_setpoint')\n",
      "psi                  SoftPositioner      ('fourc_psi')\n",
      "\n",
      "config keys\n",
      "-----------\n",
      "\n",
      "configuration attrs\n",
      "-------------------\n",
      "h                    PseudoSingle        ('fourc_h')\n",
      "k                    PseudoSingle        ('fourc_k')\n",
      "l                    PseudoSingle        ('fourc_l')\n",
      "h2                   PseudoSingle        ('fourc_h2')\n",
      "k2                   PseudoSingle        ('fourc_k2')\n",
      "l2                   PseudoSingle        ('fourc_l2')\n",
      "\n",
      "unused attrs\n",
      "------------\n",
      "\n"
     ]
    }
   ],
   "source": [
    "fourc.summary()"
   ]
  },
  {
   "cell_type": "code",
   "execution_count": 5,
   "id": "8f36ade3-dcb2-4f37-b566-11b88a3f6f92",
   "metadata": {},
   "outputs": [
    {
     "data": {
      "text/plain": [
       "['E4CH',\n",
       " 'E4CV',\n",
       " 'E6C',\n",
       " 'ESRF ID01 PSIC',\n",
       " 'K4CV',\n",
       " 'K6C',\n",
       " 'PETRA3 P09 EH2',\n",
       " 'PETRA3 P23 4C',\n",
       " 'PETRA3 P23 6C',\n",
       " 'SOLEIL MARS',\n",
       " 'SOLEIL NANOSCOPIUM ROBOT',\n",
       " 'SOLEIL SIRIUS KAPPA',\n",
       " 'SOLEIL SIRIUS TURRET',\n",
       " 'SOLEIL SIXS MED1+2',\n",
       " 'SOLEIL SIXS MED2+2',\n",
       " 'SOLEIL SIXS MED2+3',\n",
       " 'SOLEIL SIXS MED2+3 v2',\n",
       " 'TwoC',\n",
       " 'ZAXIS']"
      ]
     },
     "execution_count": 5,
     "metadata": {},
     "output_type": "execute_result"
    }
   ],
   "source": [
    "fourc._solver.geometries()"
   ]
  },
  {
   "cell_type": "code",
   "execution_count": 6,
   "id": "71b53164-cd05-460e-aeee-34709d54afa4",
   "metadata": {},
   "outputs": [
    {
     "name": "stdout",
     "output_type": "stream",
     "text": [
      "vibranium_lattice=Lattice(a=6.2832, b=6.2832, c=6.2832, alpha=90.0, beta=90.0, gamma=90.0)\n"
     ]
    }
   ],
   "source": [
    "import math\n",
    "vibranium_lattice = hklpy2.Lattice(2*math.pi)\n",
    "print(f\"{vibranium_lattice=}\")"
   ]
  },
  {
   "cell_type": "code",
   "execution_count": 7,
   "id": "15c41d66-c141-4fd4-bff7-ab731fefe8b7",
   "metadata": {},
   "outputs": [
    {
     "name": "stdout",
     "output_type": "stream",
     "text": [
      "vibranium=Sample(name='vibranium', lattice=Lattice(a=6.28, b=6.28, c=6.28, alpha=90.0, beta=90.0, gamma=90.0))\n"
     ]
    }
   ],
   "source": [
    "vibranium = hklpy2.Sample(fourc._solver, vibranium_lattice, name=\"vibranium\")\n",
    "vibranium_lattice.digits = 2\n",
    "print(f\"{vibranium=}\")"
   ]
  },
  {
   "cell_type": "code",
   "execution_count": 8,
   "id": "b1f545e2-ec28-4468-a6ac-43a807a586ad",
   "metadata": {},
   "outputs": [],
   "source": [
    "vibranium.reflections.ordering = []"
   ]
  },
  {
   "cell_type": "code",
   "execution_count": 9,
   "id": "d93281fe-ec11-4e6d-aad4-fc62987a6de5",
   "metadata": {},
   "outputs": [
    {
     "name": "stdout",
     "output_type": "stream",
     "text": [
      "Reflection(name='r1', geometry='E4CV', pseudos={'h': 1, 'k': 0, 'l': 0}, angles={'omega': 10, 'chi': 0, 'phi': 0, 'tth': 20}, wavelength=1.0)\n",
      "Reflection(name='r2', geometry='E4CV', pseudos={'h': 0, 'k': 1, 'l': 0}, angles={'omega': 10, 'chi': -90, 'phi': 0, 'tth': 20}, wavelength=1.0)\n"
     ]
    }
   ],
   "source": [
    "vibranium.reflections.add(\n",
    "    hklpy2.Reflection(\n",
    "        fourc._solver, \n",
    "        dict(h=1, k=0, l=0), \n",
    "        dict(omega=10, chi=0, phi=0, tth=20), \n",
    "        wavelength=1.00, \n",
    "        name=\"r1\"\n",
    "    )\n",
    ")\n",
    "vibranium.reflections.add(\n",
    "    hklpy2.Reflection(\n",
    "        fourc._solver, \n",
    "        dict(h=0, k=1, l=0), \n",
    "        dict(omega=10, chi=-90, phi=0, tth=20), \n",
    "        wavelength=1.00, \n",
    "        name=\"r2\"\n",
    "    )\n",
    ")\n",
    "for r in vibranium.reflections.ordering:\n",
    "    print(f\"{vibranium.reflections[r]}\")"
   ]
  },
  {
   "cell_type": "code",
   "execution_count": 10,
   "id": "eb3391b0-1560-486d-b1d9-005e766063dd",
   "metadata": {},
   "outputs": [
    {
     "name": "stdout",
     "output_type": "stream",
     "text": [
      "vibranium.reflections.ordering=['r2', 'r1']\n",
      "Reflection(name='r2', geometry='E4CV', pseudos={'h': 0, 'k': 1, 'l': 0}, angles={'omega': 10, 'chi': -90, 'phi': 0, 'tth': 20}, wavelength=1.0)\n",
      "Reflection(name='r1', geometry='E4CV', pseudos={'h': 1, 'k': 0, 'l': 0}, angles={'omega': 10, 'chi': 0, 'phi': 0, 'tth': 20}, wavelength=1.0)\n"
     ]
    }
   ],
   "source": [
    "vibranium.reflections.swap()\n",
    "print(f\"{vibranium.reflections.ordering=}\")\n",
    "for r in vibranium.reflections.ordering:\n",
    "    print(f\"{vibranium.reflections[r]}\")"
   ]
  }
 ],
 "metadata": {
  "kernelspec": {
   "display_name": "bluesky_2024_2",
   "language": "python",
   "name": "bluesky_2024_2"
  },
  "language_info": {
   "codemirror_mode": {
    "name": "ipython",
    "version": 3
   },
   "file_extension": ".py",
   "mimetype": "text/x-python",
   "name": "python",
   "nbconvert_exporter": "python",
   "pygments_lexer": "ipython3",
   "version": "3.11.8"
  }
 },
 "nbformat": 4,
 "nbformat_minor": 5
}
