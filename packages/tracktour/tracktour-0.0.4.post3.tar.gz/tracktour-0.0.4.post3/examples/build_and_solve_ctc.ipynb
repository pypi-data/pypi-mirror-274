{
 "cells": [
  {
   "cell_type": "code",
   "execution_count": null,
   "metadata": {},
   "outputs": [],
   "source": [
    "import os\n",
    "from tracktour import Tracker, get_im_centers"
   ]
  },
  {
   "cell_type": "code",
   "execution_count": null,
   "metadata": {},
   "outputs": [],
   "source": [
    "DATA_ROOT = '/home/ddon0001/PhD/data/cell_tracking_challenge/ST/'\n",
    "DS_NAME = 'Fluo-N2DL-HeLa/'\n",
    "SEQ = '02_ST'\n",
    "GT_PATH = os.path.join(DATA_ROOT, DS_NAME, '02_GT/TRA/')\n",
    "SEG_PATH = os.path.join(DATA_ROOT, DS_NAME, SEQ, 'SEG/')"
   ]
  },
  {
   "cell_type": "code",
   "execution_count": null,
   "metadata": {},
   "outputs": [],
   "source": [
    "seg_labels, detections, min_t, max_t, corners = get_im_centers(SEG_PATH)\n",
    "print(f\"Loaded {seg_labels.shape[0]} frames of shape {seg_labels.shape[1:]}.\")\n",
    "print(f\"Extracted {len(detections)} detections:\")\n",
    "print(detections.head())"
   ]
  },
  {
   "cell_type": "code",
   "execution_count": null,
   "metadata": {},
   "outputs": [],
   "source": [
    "tracker = Tracker(\n",
    "    im_shape = corners[1],\n",
    "    k_neighbours=10\n",
    ")\n",
    "tracked = tracker.solve(\n",
    "    detections,\n",
    "    frame_key=\"t\",\n",
    "    location_keys=(\"y\", \"x\"),\n",
    "    value_key=\"label\"\n",
    ")\n",
    "print(tracked.tracked_detections.head())\n",
    "print(tracked.tracked_edges.head())"
   ]
  },
  {
   "cell_type": "code",
   "execution_count": null,
   "metadata": {},
   "outputs": [],
   "source": [
    "# convert solution to networkx graph\n",
    "sol_graph = tracked.as_nx_digraph()"
   ]
  },
  {
   "cell_type": "code",
   "execution_count": null,
   "metadata": {},
   "outputs": [],
   "source": [
    "# evaluate using `traccuracy` - note `traccuracy` should be installed separately!\n",
    "\n",
    "from traccuracy import TrackingGraph\n",
    "from traccuracy.loaders import load_ctc_data\n",
    "from traccuracy.matchers import CTCMatcher\n",
    "from traccuracy.metrics import CTCMetrics\n",
    "\n",
    "comp_graph = TrackingGraph(\n",
    "    sol_graph, \n",
    "    label_key=\"label\", \n",
    "    location_keys=[\"y\", \"x\"], \n",
    "    segmentation=seg_labels\n",
    ")\n",
    "\n",
    "gt_graph = load_ctc_data(GT_PATH)\n",
    "matcher = CTCMatcher()\n",
    "matched = matcher.compute_mapping(gt_graph, comp_graph)\n",
    "results = CTCMetrics().compute(matched)\n",
    "\n",
    "print(results.results)"
   ]
  }
 ],
 "metadata": {
  "kernelspec": {
   "display_name": "tracktool",
   "language": "python",
   "name": "python3"
  },
  "language_info": {
   "codemirror_mode": {
    "name": "ipython",
    "version": 3
   },
   "file_extension": ".py",
   "mimetype": "text/x-python",
   "name": "python",
   "nbconvert_exporter": "python",
   "pygments_lexer": "ipython3",
   "version": "3.10.13"
  },
  "orig_nbformat": 4
 },
 "nbformat": 4,
 "nbformat_minor": 2
}
