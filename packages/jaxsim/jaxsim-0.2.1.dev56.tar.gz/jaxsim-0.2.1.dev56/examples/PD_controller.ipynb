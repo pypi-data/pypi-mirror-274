{
 "cells": [
  {
   "cell_type": "markdown",
   "metadata": {},
   "source": [
    "# `JAXsim` Showcase: PD Controller\n",
    "\n",
    "First, we install the necessary packages and import them."
   ]
  },
  {
   "cell_type": "code",
   "execution_count": null,
   "metadata": {},
   "outputs": [],
   "source": [
    "# @title Imports and setup\n",
    "from IPython.display import clear_output, HTML, display\n",
    "import sys\n",
    "\n",
    "import jax\n",
    "import jax.numpy as jnp\n",
    "from jaxsim import logging\n",
    "\n",
    "logging.set_logging_level(logging.LoggingLevel.INFO)\n",
    "logging.info(f\"Running on {jax.devices()}\")"
   ]
  },
  {
   "cell_type": "markdown",
   "metadata": {},
   "source": [
    "We will use a simple cartpole model for this example. The cartpole model is a 2D model with a cart that can move horizontally and a pole that can rotate around the cart. The state of the cartpole is given by the position of the cart, the angle of the pole, the velocity of the cart, and the angular velocity of the pole. The control input is the horizontal force applied to the cart."
   ]
  },
  {
   "cell_type": "code",
   "execution_count": null,
   "metadata": {},
   "outputs": [],
   "source": [
    "# @title Fetch the URDF file\n",
    "import requests\n",
    "\n",
    "url = \"https://raw.githubusercontent.com/ami-iit/jaxsim/main/examples/assets/cartpole.urdf\"\n",
    "\n",
    "response = requests.get(url)\n",
    "if response.status_code == 200:\n",
    "    model_urdf_string = response.text\n",
    "else:\n",
    "    logging.error(\"Failed to fetch data\")"
   ]
  },
  {
   "cell_type": "markdown",
   "metadata": {},
   "source": [
    "JAXsim offers a simple functional API in order to interact in a memory-efficient way with the simulation. Four main elements are used to define a simulation:\n",
    "\n",
    "- `model`: an object that defines the dynamics of the system.\n",
    "- `data`: an object that contains the state of the system.\n",
    "- `integrator`: an object that defines the integration method.\n",
    "- `integrator_state`: an object that contains the state of the integrator."
   ]
  },
  {
   "cell_type": "code",
   "execution_count": null,
   "metadata": {},
   "outputs": [],
   "source": [
    "import jaxsim.api as js\n",
    "from jaxsim import integrators\n",
    "\n",
    "dt = 0.01\n",
    "\n",
    "model = js.model.JaxSimModel.build_from_model_description(\n",
    "    model_description=model_urdf_string, is_urdf=True\n",
    ")\n",
    "data = js.data.JaxSimModelData.build(model=model)\n",
    "integrator = integrators.fixed_step.RungeKutta4SO3.build(\n",
    "    dynamics=js.ode.wrap_system_dynamics_for_integration(\n",
    "        model=model,\n",
    "        data=data,\n",
    "        system_dynamics=js.ode.system_dynamics,\n",
    "    ),\n",
    ")\n",
    "integrator_state = integrator.init(x0=data.state, t0=0.0, dt=dt)"
   ]
  },
  {
   "cell_type": "markdown",
   "metadata": {},
   "source": [
    "Let's reset the cartpole to a random state."
   ]
  },
  {
   "cell_type": "code",
   "execution_count": null,
   "metadata": {},
   "outputs": [],
   "source": [
    "random_positions = jax.random.uniform(\n",
    "    minval=-1.0, maxval=1.0, shape=(model.dofs(),), key=jax.random.PRNGKey(0)\n",
    ")\n",
    "\n",
    "data = data.reset_joint_positions(positions=random_positions)"
   ]
  },
  {
   "cell_type": "markdown",
   "metadata": {},
   "source": [
    "The visualization is done using mujoco package, to be able to render easily the animations also on Google Colab. If you are not interested in the animation, execute but do not try to understand deeply this cell."
   ]
  },
  {
   "cell_type": "code",
   "execution_count": null,
   "metadata": {},
   "outputs": [],
   "source": [
    "# @title Set up MuJoCo renderer\n",
    "\n",
    "from jaxsim.mujoco.visualizer import MujocoVisualizer\n",
    "from jaxsim.mujoco import RodModelToMjcf, MujocoModelHelper, MujocoVideoRecorder\n",
    "from jaxsim.mujoco.loaders import UrdfToMjcf\n",
    "\n",
    "\n",
    "%env MUJOCO_GL=egl\n",
    "\n",
    "try:\n",
    "    import mujoco\n",
    "except Exception as e:\n",
    "    raise e from RuntimeError(\n",
    "        \"Something went wrong during installation. Check the shell output above \"\n",
    "        \"for more information.\\n\"\n",
    "        \"If using a hosted Colab runtime, make sure you enable GPU acceleration \"\n",
    "        'by going to the Runtime menu and selecting \"Choose runtime type\".'\n",
    "    )\n",
    "\n",
    "camera = {\n",
    "    \"name\":\"cartpole_camera\",\n",
    "    \"mode\":\"fixed\",\n",
    "    \"pos\":\"3.954 3.533 2.343\",\n",
    "    \"xyaxes\":\"-0.594 0.804 -0.000 -0.163 -0.120 0.979\",\n",
    "    \"fovy\":\"60\",\n",
    "}\n",
    "\n",
    "mjcf_string, assets = UrdfToMjcf.convert(urdf=model.built_from, cameras=camera)\n",
    "\n",
    "mj_model_helper = MujocoModelHelper.build_from_xml(\n",
    "    mjcf_description=mjcf_string, assets=assets\n",
    ")\n",
    "\n",
    "# Create the video recorder.\n",
    "recorder = MujocoVideoRecorder(\n",
    "    model=mj_model_helper.model,\n",
    "    data=mj_model_helper.data,\n",
    "    fps=int(1 / 0.010),\n",
    "    width=320 * 4,\n",
    "    height=240 * 4,\n",
    ")"
   ]
  },
  {
   "cell_type": "markdown",
   "metadata": {},
   "source": [
    "Let's see how the model behaves when not controlled:"
   ]
  },
  {
   "cell_type": "code",
   "execution_count": null,
   "metadata": {},
   "outputs": [],
   "source": [
    "import mediapy as media\n",
    "\n",
    "for _ in range(500):\n",
    "    data, integrator_state = js.model.step(\n",
    "        dt=dt,\n",
    "        model=model,\n",
    "        data=data,\n",
    "        integrator=integrator,\n",
    "        integrator_state=integrator_state,\n",
    "        joint_forces=None,\n",
    "        link_forces=None,\n",
    "    )\n",
    "\n",
    "    mj_model_helper.set_joint_positions(\n",
    "        positions=data.joint_positions(), joint_names=model.joint_names()\n",
    "    )\n",
    "\n",
    "    recorder.record_frame(camera_name=\"cartpole_camera\")\n",
    "\n",
    "media.show_video(recorder.frames, fps=1 / dt)\n",
    "recorder.frames = []"
   ]
  },
  {
   "cell_type": "markdown",
   "metadata": {},
   "source": [
    "Let's now define the PD controller. We will use the following equations:\n",
    "\n",
    "\\begin{align} \n",
    "\\mathbf{M}\\ddot{s} + \\underbrace{\\mathbf{C}\\dot{s} + \\mathbf{G}}_{\\mathbf{H}} = \\tau \\\\\n",
    "\\tau = \\mathbf{H} - \\mathbf{K}_p(s - s_d) - \\mathbf{K}_d(\\dot{s} - \\dot{s}_d)\n",
    "\\end{align}\n",
    "\n",
    "where $\\mathbf{M}$ is the mass matrix, $\\mathbf{C}$ is the Coriolis matrix, $\\mathbf{G}$ is the gravity vector, $\\mathbf{K}_p$ is the proportional gain matrix, $\\mathbf{K}_d$ is the derivative gain matrix, $s$ is the position vector, $\\dot{s}$ is the velocity vector, $\\ddot{s}$ is the acceleration vector, and $s_d$ and $\\dot{s}_d$ are the desired position and velocity vectors, respectively."
   ]
  },
  {
   "cell_type": "code",
   "execution_count": null,
   "metadata": {},
   "outputs": [],
   "source": [
    "# Define the PD gains\n",
    "KP = 10.0\n",
    "KD = 6.0\n",
    "\n",
    "\n",
    "def pd_controller(\n",
    "    data: js.data.JaxSimModelData, q_d: jax.Array, q_dot_d: jax.Array\n",
    ") -> jax.Array:\n",
    "\n",
    "    # Compute the gravity compensation term\n",
    "    H = js.model.free_floating_bias_forces(model=model, data=data)[6:]\n",
    "\n",
    "    q = data.joint_positions()\n",
    "    q_dot = data.joint_velocities()\n",
    "\n",
    "    return H + KP * (q_d - q) + KD * (q_dot_d - q_dot)"
   ]
  },
  {
   "cell_type": "markdown",
   "metadata": {},
   "source": [
    "Now, we can use the `pd_controller` function to compute the torque to apply to the cartpole. Our aim is to stabilize the cartpole in the upright position, so we set the desired position `q_d` to 0 and the desired velocity `q_dot_d` to 0."
   ]
  },
  {
   "cell_type": "code",
   "execution_count": null,
   "metadata": {},
   "outputs": [],
   "source": [
    "for _ in range(500):\n",
    "    control_torques = pd_controller(\n",
    "        data=data,\n",
    "        q_d=jnp.array([0.0, 0.0]),\n",
    "        q_dot_d=jnp.array([0.0, 0.0]),\n",
    "    )\n",
    "\n",
    "    data, integrator_state = js.model.step(\n",
    "        dt=dt,\n",
    "        model=model,\n",
    "        data=data,\n",
    "        integrator=integrator,\n",
    "        integrator_state=integrator_state,\n",
    "        joint_forces=control_torques,\n",
    "        link_forces=None,\n",
    "    )\n",
    "\n",
    "    mj_model_helper.set_joint_positions(\n",
    "        positions=data.joint_positions(), joint_names=model.joint_names()\n",
    "    )\n",
    "\n",
    "    recorder.record_frame(camera_name=\"cartpole_camera\")\n",
    "\n",
    "media.show_video(recorder.frames, fps=1 / dt)\n",
    "recorder.frames = []"
   ]
  }
 ],
 "metadata": {
  "accelerator": "GPU",
  "colab": {
   "gpuClass": "premium",
   "gpuType": "V100",
   "private_outputs": true,
   "provenance": [
    {
     "file_id": "1QsuS7EJhdPEHxxAu9XwozvA7eb4ZnlAb",
     "timestamp": 1701993737024
    }
   ],
   "toc_visible": true
  },
  "kernelspec": {
   "display_name": "Python 3 (ipykernel)",
   "language": "python",
   "name": "python3"
  },
  "language_info": {
   "codemirror_mode": {
    "name": "ipython",
    "version": 3
   },
   "file_extension": ".py",
   "mimetype": "text/x-python",
   "name": "python",
   "nbconvert_exporter": "python",
   "pygments_lexer": "ipython3",
   "version": "3.11.8"
  }
 },
 "nbformat": 4,
 "nbformat_minor": 4
}
