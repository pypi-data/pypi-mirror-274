{
 "cells": [
  {
   "cell_type": "code",
   "execution_count": 11,
   "metadata": {},
   "outputs": [],
   "source": [
    "from CRR.db import db\n",
    "import pandas as pd"
   ]
  },
  {
   "cell_type": "code",
   "execution_count": 12,
   "metadata": {},
   "outputs": [],
   "source": [
    "engine = db.create_engine_db()\n",
    "db.initialize_database(engine)\n",
    "Session = db.get_session(engine)"
   ]
  },
  {
   "cell_type": "code",
   "execution_count": 13,
   "metadata": {},
   "outputs": [],
   "source": [
    "ChurnRate = pd.read_csv(\"data/ChurnRate.csv\")\n",
    "Modeling = pd.read_csv(\"data/Modeling.csv\")\n",
    "Product = pd.read_csv(\"data/Product.csv\")\n",
    "Customer = pd.read_csv(\"data/Customer.csv\")\n",
    "Order = pd.read_csv(\"data/Order.csv\")"
   ]
  },
  {
   "cell_type": "code",
   "execution_count": 14,
   "metadata": {},
   "outputs": [],
   "source": [
    "db.push_data_to_db(Session, ChurnRate, db.ChurnRate)\n",
    "db.push_data_to_db(Session, Modeling, db.Modeling)\n",
    "db.push_data_to_db(Session, Product, db.Product)\n",
    "db.push_data_to_db(Session, Customer, db.Customer)\n",
    "db.push_data_to_db(Session, Order, db.Order)"
   ]
  },
  {
   "cell_type": "code",
   "execution_count": 15,
   "metadata": {},
   "outputs": [
    {
     "name": "stdout",
     "output_type": "stream",
     "text": [
      "{'_sa_instance_state': <sqlalchemy.orm.state.InstanceState object at 0x1234d71c0>, 'ChurnRiskLevel': 'High Risk', 'ChurnRate': 26.79}\n",
      "{'_sa_instance_state': <sqlalchemy.orm.state.InstanceState object at 0x1234d7160>, 'ChurnRiskLevel': 'Low Risk', 'ChurnRate': 53.17}\n",
      "{'_sa_instance_state': <sqlalchemy.orm.state.InstanceState object at 0x1234d7100>, 'ChurnRiskLevel': 'Medium Risk', 'ChurnRate': 20.04}\n"
     ]
    }
   ],
   "source": [
    "db.view_table(Session, db.ChurnRate)"
   ]
  },
  {
   "cell_type": "code",
   "execution_count": null,
   "metadata": {},
   "outputs": [],
   "source": []
  }
 ],
 "metadata": {
  "kernelspec": {
   "display_name": "venv",
   "language": "python",
   "name": "python3"
  },
  "language_info": {
   "codemirror_mode": {
    "name": "ipython",
    "version": 3
   },
   "file_extension": ".py",
   "mimetype": "text/x-python",
   "name": "python",
   "nbconvert_exporter": "python",
   "pygments_lexer": "ipython3",
   "version": "3.10.5"
  }
 },
 "nbformat": 4,
 "nbformat_minor": 2
}
