{
  "nbformat": 4,
  "nbformat_minor": 0,
  "metadata": {
    "colab": {
      "provenance": []
    },
    "kernelspec": {
      "name": "python3",
      "display_name": "Python 3"
    },
    "language_info": {
      "name": "python"
    }
  },
  "cells": [
    {
      "cell_type": "code",
      "source": [
        "!pip install mimllearning\n",
        "!pip install mil\n",
        "!pip install tensorflow\n",
        "!pip install keras==2.12.0\n",
        "\n",
        "from miml.transformation import ArithmeticTransformation, GeometricTransformation, MinMaxTransformation\n",
        "from miml.classifier import MIMLtoMLClassifier\n",
        "from miml.datasets import load_birds_train, load_birds_test\n",
        "\n",
        "dataset_train = load_birds_train()\n",
        "dataset_test = load_birds_test()"
      ],
      "metadata": {
        "id": "QNmyu82hKcVB"
      },
      "execution_count": null,
      "outputs": []
    },
    {
      "cell_type": "markdown",
      "source": [
        "### Examples of ML Classifiers that can be used in the library from scikit-learn:"
      ],
      "metadata": {
        "id": "KwibNMJV9Gns"
      }
    },
    {
      "cell_type": "markdown",
      "source": [
        "#### One vs Rest Classifier (Binary Relevance Classifier) [Reference](https://scikit-learn.org/stable/modules/generated/sklearn.multiclass.OneVsRestClassifier.html)"
      ],
      "metadata": {
        "id": "DMTHDNJ2Vz67"
      }
    },
    {
      "cell_type": "code",
      "source": [
        "from sklearn.multiclass import OneVsRestClassifier\n",
        "from sklearn.svm import SVC\n",
        "\n",
        "classifier_ml = MIMLtoMLClassifier(OneVsRestClassifier(SVC()), ArithmeticTransformation())\n",
        "classifier_ml.fit(dataset_train)\n",
        "print(\"Predicted Labels: \", classifier_ml.predict_bag(dataset_test.get_bag(\"366\")))\n",
        "print(\"True Labels:       \", dataset_test.get_bag(\"366\").get_labels()[0])"
      ],
      "metadata": {
        "colab": {
          "base_uri": "https://localhost:8080/"
        },
        "id": "Z-8LL2vbWEBh",
        "outputId": "cf4d5150-8c4f-40a2-97ae-59576771cd4e"
      },
      "execution_count": 2,
      "outputs": [
        {
          "output_type": "stream",
          "name": "stdout",
          "text": [
            "Predicted Labels:  [[0 0 0 0 0 0 0 0 0 0 0 0 0 0 0 0 0 0 0]]\n",
            "True Labels:        [0. 0. 0. 0. 0. 0. 0. 0. 0. 1. 0. 0. 0. 1. 0. 0. 0. 0. 0.]\n"
          ]
        }
      ]
    },
    {
      "cell_type": "markdown",
      "source": [
        "#### Decision Tree Classifier [Reference](https://scikit-learn.org/stable/modules/generated/sklearn.tree.DecisionTreeClassifier.html)"
      ],
      "metadata": {
        "id": "BfO7dgESMX9O"
      }
    },
    {
      "cell_type": "code",
      "source": [
        "from sklearn.tree import DecisionTreeClassifier\n",
        "\n",
        "classifier_ml = MIMLtoMLClassifier(DecisionTreeClassifier(), ArithmeticTransformation())\n",
        "classifier_ml.fit(dataset_train)\n",
        "print(\"Predicted Labels: \", classifier_ml.predict_bag(dataset_test.get_bag(\"366\")))\n",
        "print(\"True Labels:       \", dataset_test.get_bag(\"366\").get_labels()[0])"
      ],
      "metadata": {
        "colab": {
          "base_uri": "https://localhost:8080/"
        },
        "id": "ZP8rdL8KKFO-",
        "outputId": "d2a97714-7a53-4ab8-cd88-675a6f3df5c6"
      },
      "execution_count": 3,
      "outputs": [
        {
          "output_type": "stream",
          "name": "stdout",
          "text": [
            "Predicted Labels:  [[0. 0. 0. 0. 0. 0. 0. 0. 0. 1. 0. 0. 1. 0. 0. 0. 0. 0. 1.]]\n",
            "True Labels:        [0. 0. 0. 0. 0. 0. 0. 0. 0. 1. 0. 0. 0. 1. 0. 0. 0. 0. 0.]\n"
          ]
        }
      ]
    },
    {
      "cell_type": "markdown",
      "source": [
        "#### Extra Tree Classifier [Reference](https://scikit-learn.org/stable/modules/generated/sklearn.tree.ExtraTreeClassifier.html)"
      ],
      "metadata": {
        "id": "tci9srfrMgdb"
      }
    },
    {
      "cell_type": "code",
      "source": [
        "from sklearn.tree import ExtraTreeClassifier\n",
        "\n",
        "classifier_ml = MIMLtoMLClassifier(ExtraTreeClassifier(), GeometricTransformation())\n",
        "classifier_ml.fit(dataset_train)\n",
        "print(\"Predicted Labels: \", classifier_ml.predict_bag(dataset_test.get_bag(\"366\")))\n",
        "print(\"True Labels:       \", dataset_test.get_bag(\"366\").get_labels()[0])"
      ],
      "metadata": {
        "colab": {
          "base_uri": "https://localhost:8080/"
        },
        "outputId": "b1ca675e-64f3-41d8-d10b-33cdff42311c",
        "id": "GSsomGovLXDu"
      },
      "execution_count": 4,
      "outputs": [
        {
          "output_type": "stream",
          "name": "stdout",
          "text": [
            "Predicted Labels:  [[0. 0. 0. 0. 0. 0. 1. 0. 0. 0. 0. 0. 0. 1. 1. 0. 0. 0. 0.]]\n",
            "True Labels:        [0. 0. 0. 0. 0. 0. 0. 0. 0. 1. 0. 0. 0. 1. 0. 0. 0. 0. 0.]\n"
          ]
        }
      ]
    },
    {
      "cell_type": "markdown",
      "source": [
        "#### Extra Trees Classifier [Reference](https://scikit-learn.org/stable/modules/generated/sklearn.ensemble.ExtraTreesClassifier.html)"
      ],
      "metadata": {
        "id": "tFiaHceqNhId"
      }
    },
    {
      "cell_type": "code",
      "source": [
        "from sklearn.ensemble import ExtraTreesClassifier\n",
        "\n",
        "classifier_ml = MIMLtoMLClassifier(ExtraTreesClassifier(), ArithmeticTransformation())\n",
        "classifier_ml.fit(dataset_train)\n",
        "print(\"Predicted Labels: \", classifier_ml.predict_bag(dataset_test.get_bag(\"366\")))\n",
        "print(\"True Labels:       \", dataset_test.get_bag(\"366\").get_labels()[0])"
      ],
      "metadata": {
        "colab": {
          "base_uri": "https://localhost:8080/"
        },
        "outputId": "59ac66ec-da36-44ef-c61b-72ef95450455",
        "id": "lqWQmt4GLXhQ"
      },
      "execution_count": 5,
      "outputs": [
        {
          "output_type": "stream",
          "name": "stdout",
          "text": [
            "Predicted Labels:  [[0. 0. 0. 0. 0. 0. 0. 0. 0. 0. 1. 0. 0. 0. 0. 0. 0. 0. 0.]]\n",
            "True Labels:        [0. 0. 0. 0. 0. 0. 0. 0. 0. 1. 0. 0. 0. 1. 0. 0. 0. 0. 0.]\n"
          ]
        }
      ]
    },
    {
      "cell_type": "markdown",
      "source": [
        "#### K-Nearest Neighbors Classifier [Reference](https://scikit-learn.org/stable/modules/generated/sklearn.neighbors.KNeighborsClassifier.html)"
      ],
      "metadata": {
        "id": "ntyyKA6zN3VI"
      }
    },
    {
      "cell_type": "code",
      "source": [
        "from sklearn.neighbors import KNeighborsClassifier\n",
        "\n",
        "classifier_ml = MIMLtoMLClassifier(KNeighborsClassifier(), MinMaxTransformation())\n",
        "classifier_ml.fit(dataset_train)\n",
        "print(\"Predicted Labels: \", classifier_ml.predict_bag(dataset_test.get_bag(\"366\")))\n",
        "print(\"True Labels:       \", dataset_test.get_bag(\"366\").get_labels()[0])"
      ],
      "metadata": {
        "colab": {
          "base_uri": "https://localhost:8080/"
        },
        "outputId": "28febdc5-bfb3-4aec-f691-ba27f2c5c62d",
        "id": "0CRlS6loLX3Z"
      },
      "execution_count": 6,
      "outputs": [
        {
          "output_type": "stream",
          "name": "stdout",
          "text": [
            "Predicted Labels:  [[0. 0. 0. 0. 0. 0. 0. 0. 0. 0. 0. 0. 0. 0. 0. 0. 0. 0. 0.]]\n",
            "True Labels:        [0. 0. 0. 0. 0. 0. 0. 0. 0. 1. 0. 0. 0. 1. 0. 0. 0. 0. 0.]\n"
          ]
        }
      ]
    },
    {
      "cell_type": "markdown",
      "source": [
        "#### Multi-layer Perceptron Classifier [Reference](https://scikit-learn.org/stable/modules/generated/sklearn.neural_network.MLPClassifier.html)"
      ],
      "metadata": {
        "id": "SYuoXFFFOThR"
      }
    },
    {
      "cell_type": "code",
      "source": [
        "from sklearn.neural_network import MLPClassifier\n",
        "\n",
        "classifier_ml = MIMLtoMLClassifier(MLPClassifier(), GeometricTransformation())\n",
        "classifier_ml.fit(dataset_train)\n",
        "print(\"Predicted Labels: \", classifier_ml.predict_bag(dataset_test.get_bag(\"366\")))\n",
        "print(\"True Labels:       \", dataset_test.get_bag(\"366\").get_labels()[0])"
      ],
      "metadata": {
        "colab": {
          "base_uri": "https://localhost:8080/"
        },
        "outputId": "74bc62b6-e801-4065-bc0a-ddde3add6f89",
        "id": "lrh21g0yLYDq"
      },
      "execution_count": 7,
      "outputs": [
        {
          "output_type": "stream",
          "name": "stdout",
          "text": [
            "Predicted Labels:  [[0 0 0 0 0 0 0 0 0 0 1 0 0 0 0 0 0 0 0]]\n",
            "True Labels:        [0. 0. 0. 0. 0. 0. 0. 0. 0. 1. 0. 0. 0. 1. 0. 0. 0. 0. 0.]\n"
          ]
        }
      ]
    },
    {
      "cell_type": "markdown",
      "source": [
        "Radius Neighbors Classifier [Reference](https://scikit-learn.org/stable/modules/generated/sklearn.neighbors.RadiusNeighborsClassifier.html)"
      ],
      "metadata": {
        "id": "xQoVtETZOgKP"
      }
    },
    {
      "cell_type": "code",
      "source": [
        "from sklearn.neighbors import RadiusNeighborsClassifier\n",
        "\n",
        "classifier_ml = MIMLtoMLClassifier(RadiusNeighborsClassifier(radius=50, outlier_label=1), MinMaxTransformation())\n",
        "classifier_ml.fit(dataset_train)\n",
        "print(\"Predicted Labels: \", classifier_ml.predict_bag(dataset_test.get_bag(\"366\")))\n",
        "print(\"True Labels:       \", dataset_test.get_bag(\"366\").get_labels()[0])"
      ],
      "metadata": {
        "colab": {
          "base_uri": "https://localhost:8080/"
        },
        "outputId": "aec2e900-7123-4aea-87a0-1cf9d66ac015",
        "id": "rrrjmBUULYTc"
      },
      "execution_count": 8,
      "outputs": [
        {
          "output_type": "stream",
          "name": "stdout",
          "text": [
            "Predicted Labels:  [[1. 1. 1. 1. 1. 1. 1. 1. 1. 1. 1. 1. 1. 1. 1. 1. 1. 1. 1.]]\n",
            "True Labels:        [0. 0. 0. 0. 0. 0. 0. 0. 0. 1. 0. 0. 0. 1. 0. 0. 0. 0. 0.]\n"
          ]
        }
      ]
    },
    {
      "cell_type": "markdown",
      "source": [
        "#### Random Forest Classifier [Reference](https://scikit-learn.org/stable/modules/generated/sklearn.ensemble.RandomForestClassifier.html)"
      ],
      "metadata": {
        "id": "lU1O_FOnO9Q0"
      }
    },
    {
      "cell_type": "code",
      "source": [
        "from sklearn.ensemble import RandomForestClassifier\n",
        "\n",
        "classifier_ml = MIMLtoMLClassifier(RandomForestClassifier(), ArithmeticTransformation())\n",
        "classifier_ml.fit(dataset_train)\n",
        "print(\"Predicted Labels: \", classifier_ml.predict_bag(dataset_test.get_bag(\"366\")))\n",
        "print(\"True Labels:       \", dataset_test.get_bag(\"366\").get_labels()[0])"
      ],
      "metadata": {
        "colab": {
          "base_uri": "https://localhost:8080/"
        },
        "outputId": "65b7eca0-038b-4df8-f5b0-796c1e04c882",
        "id": "SUo12TmnLYiT"
      },
      "execution_count": 9,
      "outputs": [
        {
          "output_type": "stream",
          "name": "stdout",
          "text": [
            "Predicted Labels:  [[0. 0. 0. 0. 0. 0. 0. 0. 0. 0. 1. 0. 0. 0. 0. 0. 0. 0. 0.]]\n",
            "True Labels:        [0. 0. 0. 0. 0. 0. 0. 0. 0. 1. 0. 0. 0. 1. 0. 0. 0. 0. 0.]\n"
          ]
        }
      ]
    },
    {
      "cell_type": "markdown",
      "source": [
        "#### Ridge Classifier [Reference](https://scikit-learn.org/stable/modules/generated/sklearn.linear_model.RidgeClassifier.html)"
      ],
      "metadata": {
        "id": "-6oH8LQhPXte"
      }
    },
    {
      "cell_type": "code",
      "source": [
        "from sklearn.linear_model import RidgeClassifier\n",
        "\n",
        "classifier_ml = MIMLtoMLClassifier(RidgeClassifier(), GeometricTransformation())\n",
        "classifier_ml.fit(dataset_train)\n",
        "print(\"Predicted Labels: \", classifier_ml.predict_bag(dataset_test.get_bag(\"366\")))\n",
        "print(\"True Labels:       \", dataset_test.get_bag(\"366\").get_labels()[0])"
      ],
      "metadata": {
        "colab": {
          "base_uri": "https://localhost:8080/"
        },
        "outputId": "fee8e30e-b589-427a-ac21-ba7e0815ed08",
        "id": "yW0erV4eM_IS"
      },
      "execution_count": 10,
      "outputs": [
        {
          "output_type": "stream",
          "name": "stdout",
          "text": [
            "Predicted Labels:  [[0 0 0 0 0 0 0 0 0 0 0 0 0 0 0 0 0 0 0]]\n",
            "True Labels:        [0. 0. 0. 0. 0. 0. 0. 0. 0. 1. 0. 0. 0. 1. 0. 0. 0. 0. 0.]\n"
          ]
        }
      ]
    },
    {
      "cell_type": "markdown",
      "source": [
        "#### Ridge Classifier CV [Reference](https://scikit-learn.org/stable/modules/generated/sklearn.linear_model.RidgeClassifierCV.html)\n",
        "\n"
      ],
      "metadata": {
        "id": "J21jhGbAMQb8"
      }
    },
    {
      "cell_type": "code",
      "source": [
        "from sklearn.linear_model import RidgeClassifierCV\n",
        "\n",
        "classifier_ml = MIMLtoMLClassifier(RidgeClassifierCV(), MinMaxTransformation())\n",
        "classifier_ml.fit(dataset_train)\n",
        "print(\"Predicted Labels: \", classifier_ml.predict_bag(dataset_test.get_bag(\"366\")))\n",
        "print(\"True Labels:       \", dataset_test.get_bag(\"366\").get_labels()[0])"
      ],
      "metadata": {
        "colab": {
          "base_uri": "https://localhost:8080/"
        },
        "outputId": "11dd4665-2c40-4a2c-984b-ce3f7b0d9926",
        "id": "qUXu_fhNNBYL"
      },
      "execution_count": 11,
      "outputs": [
        {
          "output_type": "stream",
          "name": "stdout",
          "text": [
            "Predicted Labels:  [[0 0 0 0 0 0 0 0 0 0 1 0 0 0 0 0 0 0 0]]\n",
            "True Labels:        [0. 0. 0. 0. 0. 0. 0. 0. 0. 1. 0. 0. 0. 1. 0. 0. 0. 0. 0.]\n"
          ]
        }
      ]
    }
  ]
}