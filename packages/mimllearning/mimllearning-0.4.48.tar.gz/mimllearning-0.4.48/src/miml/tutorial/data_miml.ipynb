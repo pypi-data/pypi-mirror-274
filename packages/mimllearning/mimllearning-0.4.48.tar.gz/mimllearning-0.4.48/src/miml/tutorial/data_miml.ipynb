{
  "nbformat": 4,
  "nbformat_minor": 0,
  "metadata": {
    "colab": {
      "provenance": [],
      "authorship_tag": "ABX9TyPZ4OTA2sNu/qX/6nas6QSe",
      "include_colab_link": true
    },
    "kernelspec": {
      "name": "python3",
      "display_name": "Python 3"
    },
    "language_info": {
      "name": "python"
    }
  },
  "cells": [
    {
      "cell_type": "markdown",
      "metadata": {
        "id": "view-in-github",
        "colab_type": "text"
      },
      "source": [
        "<a href=\"https://colab.research.google.com/github/p82maavd/MIML/blob/main/src/miml/tutorial/data_miml.ipynb\" target=\"_parent\"><img src=\"https://colab.research.google.com/assets/colab-badge.svg\" alt=\"Open In Colab\"/></a>"
      ]
    },
    {
      "cell_type": "code",
      "source": [
        "!pip install mimllearning\n",
        "!pip install mil\n",
        "!pip install tensorflow\n",
        "!pip install keras==2.12.0"
      ],
      "metadata": {
        "id": "Emp3AJ9Hu-ej"
      },
      "execution_count": null,
      "outputs": []
    },
    {
      "cell_type": "code",
      "execution_count": 2,
      "metadata": {
        "id": "L-_qkpnOxj_V",
        "colab": {
          "base_uri": "https://localhost:8080/"
        },
        "outputId": "8e35dda1-8e16-4883-d03c-06364b9e3191"
      },
      "outputs": [
        {
          "output_type": "stream",
          "name": "stdout",
          "text": [
            "Number of bags: 2\n",
            "Number of Instances: 5\n",
            "Number of Features: 3\n",
            "Number of Labels: 4\n",
            "Number of Attributes: 7\n"
          ]
        }
      ],
      "source": [
        "import pkg_resources\n",
        "from miml.datasets import load_dataset, load_toy\n",
        "\n",
        "dataset = load_toy()\n",
        "print(\"Number of bags:\", dataset.get_number_bags())\n",
        "print(\"Number of Instances:\", dataset.get_number_instances())\n",
        "print(\"Number of Features:\", dataset.get_number_features())\n",
        "print(\"Number of Labels:\", dataset.get_number_labels())\n",
        "print(\"Number of Attributes:\", dataset.get_number_attributes())\n"
      ]
    },
    {
      "cell_type": "code",
      "source": [
        "# Shows dataset metrics\n",
        "dataset.describe()"
      ],
      "metadata": {
        "colab": {
          "base_uri": "https://localhost:8080/"
        },
        "id": "_bVd_RyLgqlG",
        "outputId": "151d7b04-8e55-49ad-cc6f-7fef9f32ca22"
      },
      "execution_count": 3,
      "outputs": [
        {
          "output_type": "stream",
          "name": "stdout",
          "text": [
            "-----MULTILABEL-----\n",
            "Cardinality:  2.0\n",
            "Density:  0.5\n",
            "Distinct:  0.125\n",
            "\n",
            "-----MULTIINSTANCE-----\n",
            "Nº of bags:  2\n",
            "Total instances:  5\n",
            "Average Instances per bag:  2.5\n",
            "Min Instances per bag:  2\n",
            "Max Instances per bag:  3\n",
            "Attributes per bag:  7\n",
            "\n",
            "Distribution of bags:\n",
            "\tBags with  2  instances:  1\n",
            "\tBags with  3  instances:  1\n"
          ]
        }
      ]
    },
    {
      "cell_type": "code",
      "source": [
        "import numpy\n",
        "\n",
        "dataset.add_attribute(name=\"new_feature\", position=2, values=numpy.random.rand(dataset.get_number_instances()))\n",
        "dataset.set_attribute(bag=0, index_instance=0, attribute=2, value=3.13)\n",
        "dataset.show_dataset(start=0, end=1)\n",
        "dataset.delete_attribute(position=2)\n",
        "dataset.show_dataset(start=0, end=1)"
      ],
      "metadata": {
        "colab": {
          "base_uri": "https://localhost:8080/"
        },
        "id": "5DzHnFZtuIZ1",
        "outputId": "08695813-d2f2-40fa-e893-b5d3fb4d312e"
      },
      "execution_count": 5,
      "outputs": [
        {
          "output_type": "stream",
          "name": "stdout",
          "text": [
            "+--------+------+------+---------------+------+----------+----------+----------+----------+\n",
            "|  bag1  |  f1  |  f2  |  new_feature  |  f3  |  label1  |  label2  |  label3  |  label4  |\n",
            "+========+======+======+===============+======+==========+==========+==========+==========+\n",
            "|   0    |  42  | -198 |     3.13      | -109 |    1     |    0     |    0     |    1     |\n",
            "+--------+------+------+---------------+------+----------+----------+----------+----------+\n",
            "|   1    | 41.9 | -191 |   0.705803    | -142 |    1     |    0     |    0     |    1     |\n",
            "+--------+------+------+---------------+------+----------+----------+----------+----------+\n",
            "|   2    |  35  | 14.2 |   0.596423    | 6.33 |    1     |    0     |    0     |    1     |\n",
            "+--------+------+------+---------------+------+----------+----------+----------+----------+\n",
            "+--------+------+------+------+----------+----------+----------+----------+\n",
            "|  bag1  |  f1  |  f2  |  f3  |  label1  |  label2  |  label3  |  label4  |\n",
            "+========+======+======+======+==========+==========+==========+==========+\n",
            "|   0    |  42  | -198 | -109 |    1     |    0     |    0     |    1     |\n",
            "+--------+------+------+------+----------+----------+----------+----------+\n",
            "|   1    | 41.9 | -191 | -142 |    1     |    0     |    0     |    1     |\n",
            "+--------+------+------+------+----------+----------+----------+----------+\n",
            "|   2    |  35  | 14.2 | 6.33 |    1     |    0     |    0     |    1     |\n",
            "+--------+------+------+------+----------+----------+----------+----------+\n"
          ]
        }
      ]
    },
    {
      "cell_type": "code",
      "source": [
        "from miml.data import Instance, Bag\n",
        "values = [38, 62, 5.09, 1, 0, 0, 1]\n",
        "instance = Instance(values)\n",
        "instance.set_attribute(2,78)\n",
        "dataset.add_instance(bag=0, instance=instance)\n",
        "bag=Bag(\"bag3\")\n",
        "instance.set_attribute(attribute=5, value=1)\n",
        "bag.add_instance(instance)\n",
        "dataset.add_bag(bag)\n",
        "dataset.show_dataset()\n"
      ],
      "metadata": {
        "colab": {
          "base_uri": "https://localhost:8080/"
        },
        "id": "IBAwpBmDHi5X",
        "outputId": "8f32c798-013f-4583-9d13-3c71d7880b0a"
      },
      "execution_count": 6,
      "outputs": [
        {
          "output_type": "stream",
          "name": "stdout",
          "text": [
            "+--------+------+------+------+----------+----------+----------+----------+\n",
            "|  bag1  |  f1  |  f2  |  f3  |  label1  |  label2  |  label3  |  label4  |\n",
            "+========+======+======+======+==========+==========+==========+==========+\n",
            "|   0    |  42  | -198 | -109 |    1     |    0     |    0     |    1     |\n",
            "+--------+------+------+------+----------+----------+----------+----------+\n",
            "|   1    | 41.9 | -191 | -142 |    1     |    0     |    0     |    1     |\n",
            "+--------+------+------+------+----------+----------+----------+----------+\n",
            "|   2    |  35  | 14.2 | 6.33 |    1     |    0     |    0     |    1     |\n",
            "+--------+------+------+------+----------+----------+----------+----------+\n",
            "|   3    |  38  |  62  |  78  |    1     |    0     |    0     |    1     |\n",
            "+--------+------+------+------+----------+----------+----------+----------+\n",
            "+--------+-------+------+------+----------+----------+----------+----------+\n",
            "|  bag2  |  f1   |  f2  |  f3  |  label1  |  label2  |  label3  |  label4  |\n",
            "+========+=======+======+======+==========+==========+==========+==========+\n",
            "|   0    | 11.25 | -98  |  10  |    0     |    1     |    1     |    0     |\n",
            "+--------+-------+------+------+----------+----------+----------+----------+\n",
            "|   1    |  31   | 40.5 | 7.85 |    0     |    1     |    1     |    0     |\n",
            "+--------+-------+------+------+----------+----------+----------+----------+\n",
            "+--------+------+------+------+----------+----------+----------+----------+\n",
            "|  bag3  |  f1  |  f2  |  f3  |  label1  |  label2  |  label3  |  label4  |\n",
            "+========+======+======+======+==========+==========+==========+==========+\n",
            "|   0    |  38  |  62  |  78  |    1     |    0     |    1     |    1     |\n",
            "+--------+------+------+------+----------+----------+----------+----------+\n"
          ]
        }
      ]
    },
    {
      "cell_type": "code",
      "source": [
        "# Shows all bags in the dataset\n",
        "for bag_index in range(dataset.get_number_bags()):\n",
        "\n",
        "    # Recover a bag\n",
        "    bag = dataset.get_bag(bag_index)\n",
        "    print(\"Bag:\", bag.key)\n",
        "    print(\"\\tNumInstances:\", bag.get_number_instances())\n",
        "    print(\"\\tNumFeatures:\", bag.get_number_features())\n",
        "    print(\"\\tNumLabels:\", bag.get_number_labels())\n",
        "    print(\"\\tNumAttributes:\", bag.get_number_attributes())\n",
        "\n",
        "    # Shows all instances in the bag\n",
        "    for instance_index in range(bag.get_number_instances()):\n",
        "        # Recovers an instance\n",
        "        instance = dataset.get_instance(bag.key, instance_index)\n",
        "        print(\"\\t\\tInstance:\", instance_index, \"NumAttributes:\", instance.get_number_attributes())\n",
        "        for k in range(instance.get_number_attributes()):\n",
        "            print(\"\\t\\t\\tAttribute\", k, \":\", instance.get_attribute(k))"
      ],
      "metadata": {
        "colab": {
          "base_uri": "https://localhost:8080/"
        },
        "id": "0NYDgtS4JU1H",
        "outputId": "c47fe8f9-2b6f-4334-823a-8ed9fc40c3f2"
      },
      "execution_count": 7,
      "outputs": [
        {
          "output_type": "stream",
          "name": "stdout",
          "text": [
            "Bag: bag1\n",
            "\tNumInstances: 4\n",
            "\tNumFeatures: 3\n",
            "\tNumLabels: 4\n",
            "\tNumAttributes: 7\n",
            "\t\tInstance: 0 NumAttributes: 7\n",
            "\t\t\tAttribute 0 : 42.0\n",
            "\t\t\tAttribute 1 : -198.0\n",
            "\t\t\tAttribute 2 : -109.0\n",
            "\t\t\tAttribute 3 : 1.0\n",
            "\t\t\tAttribute 4 : 0.0\n",
            "\t\t\tAttribute 5 : 0.0\n",
            "\t\t\tAttribute 6 : 1.0\n",
            "\t\tInstance: 1 NumAttributes: 7\n",
            "\t\t\tAttribute 0 : 41.9\n",
            "\t\t\tAttribute 1 : -191.0\n",
            "\t\t\tAttribute 2 : -142.0\n",
            "\t\t\tAttribute 3 : 1.0\n",
            "\t\t\tAttribute 4 : 0.0\n",
            "\t\t\tAttribute 5 : 0.0\n",
            "\t\t\tAttribute 6 : 1.0\n",
            "\t\tInstance: 2 NumAttributes: 7\n",
            "\t\t\tAttribute 0 : 35.0\n",
            "\t\t\tAttribute 1 : 14.2\n",
            "\t\t\tAttribute 2 : 6.33\n",
            "\t\t\tAttribute 3 : 1.0\n",
            "\t\t\tAttribute 4 : 0.0\n",
            "\t\t\tAttribute 5 : 0.0\n",
            "\t\t\tAttribute 6 : 1.0\n",
            "\t\tInstance: 3 NumAttributes: 7\n",
            "\t\t\tAttribute 0 : 38.0\n",
            "\t\t\tAttribute 1 : 62.0\n",
            "\t\t\tAttribute 2 : 78.0\n",
            "\t\t\tAttribute 3 : 1.0\n",
            "\t\t\tAttribute 4 : 0.0\n",
            "\t\t\tAttribute 5 : 0.0\n",
            "\t\t\tAttribute 6 : 1.0\n",
            "Bag: bag2\n",
            "\tNumInstances: 2\n",
            "\tNumFeatures: 3\n",
            "\tNumLabels: 4\n",
            "\tNumAttributes: 7\n",
            "\t\tInstance: 0 NumAttributes: 7\n",
            "\t\t\tAttribute 0 : 11.25\n",
            "\t\t\tAttribute 1 : -98.0\n",
            "\t\t\tAttribute 2 : 10.0\n",
            "\t\t\tAttribute 3 : 0.0\n",
            "\t\t\tAttribute 4 : 1.0\n",
            "\t\t\tAttribute 5 : 1.0\n",
            "\t\t\tAttribute 6 : 0.0\n",
            "\t\tInstance: 1 NumAttributes: 7\n",
            "\t\t\tAttribute 0 : 31.0\n",
            "\t\t\tAttribute 1 : 40.5\n",
            "\t\t\tAttribute 2 : 7.85\n",
            "\t\t\tAttribute 3 : 0.0\n",
            "\t\t\tAttribute 4 : 1.0\n",
            "\t\t\tAttribute 5 : 1.0\n",
            "\t\t\tAttribute 6 : 0.0\n",
            "Bag: bag3\n",
            "\tNumInstances: 1\n",
            "\tNumFeatures: 3\n",
            "\tNumLabels: 4\n",
            "\tNumAttributes: 7\n",
            "\t\tInstance: 0 NumAttributes: 7\n",
            "\t\t\tAttribute 0 : 38.0\n",
            "\t\t\tAttribute 1 : 62.0\n",
            "\t\t\tAttribute 2 : 78.0\n",
            "\t\t\tAttribute 3 : 1.0\n",
            "\t\t\tAttribute 4 : 0.0\n",
            "\t\t\tAttribute 5 : 1.0\n",
            "\t\t\tAttribute 6 : 1.0\n"
          ]
        }
      ]
    }
  ]
}