{
 "cells": [
  {
   "cell_type": "markdown",
   "id": "dfc365dd",
   "metadata": {},
   "source": [
    "# Benchmarking the role of particle statistics in Quantum Reservoir Computing\n",
    "\n",
    "With this notebook you can reproduce the results about the memory capacity (Figure 3 of this [article]())."
   ]
  },
  {
   "cell_type": "code",
   "execution_count": null,
   "id": "1173027c",
   "metadata": {},
   "outputs": [],
   "source": [
    "# Run this cell only in Google Colab\n",
    "!pip install benchmarking_qrc --quiet"
   ]
  },
  {
   "cell_type": "code",
   "execution_count": 1,
   "id": "efafb01b",
   "metadata": {},
   "outputs": [],
   "source": [
    "import matplotlib.pyplot as plt\n",
    "import matplotlib.patches as mpatches\n",
    "import numpy as np\n",
    "import pathlib\n",
    "\n",
    "# import code from the repository\n",
    "import benchmarking_qrc as qrc \n",
    "import benchmarking_qrc.run_memory_capacity as qrc_mc"
   ]
  },
  {
   "cell_type": "markdown",
   "id": "17ef0ba2",
   "metadata": {},
   "source": [
    "With the following line you can compute the memory capacity of fermions. By changing the set of variables one can fully reproduce Figure 3."
   ]
  },
  {
   "cell_type": "code",
   "execution_count": 2,
   "id": "2be1d05a",
   "metadata": {},
   "outputs": [
    {
     "name": "stdout",
     "output_type": "stream",
     "text": [
      "The memory capacity (MC) for one realization (seed=1) is 0.808\n"
     ]
    }
   ],
   "source": [
    "# parameters\n",
    "n_particles = 4 # number of particles in the reservoir\n",
    "dimensions = 2 # (boson dim 5 or 6)\n",
    "operator = \"fermion\" # fermion, spin or boson\n",
    "delay = 1\n",
    "obs_form = \"ij\" # observables\n",
    "wash_time = 3000 # 3000 (fermions) 1000 (bosons, spins)\n",
    "train_time = 1200\n",
    "test_time = 300\n",
    "excited_state = 1 # (2 for boson with dim 6)\n",
    "dt = 10\n",
    "seed = 1\n",
    "\n",
    "# Define the Hamiltonian coefficients \n",
    "J_ij = qrc.hamiltonian.get_coefficients(n_particles, coef_range=[0, 1], seed=seed)\n",
    "\n",
    "_, _, train_mc, test_mc = qrc_mc.main(\n",
    "    n_particles, dimensions, J_ij, operator, delay, obs_form, wash_time, train_time, test_time, excited_state, dt\n",
    ") \n",
    "\n",
    "print(f\"The memory capacity (MC) for one realization (seed={seed}) is {np.around(test_mc, 3)}\")"
   ]
  },
  {
   "cell_type": "markdown",
   "id": "449d112d",
   "metadata": {},
   "source": [
    "Figure 3 shows how the memory capacity of fermions decays as the delay (`delay=1`) increases. In addition, to faithfully reproduce the results it will be necessary to run the previous cell with seed values from `seed=1` to `seed=1000`. Since reproducing these results is time consuming let's just use the first 10 seeds."
   ]
  },
  {
   "cell_type": "code",
   "execution_count": 3,
   "id": "68b7afcb",
   "metadata": {},
   "outputs": [],
   "source": [
    "def memory_capacity_fermions(delay):\n",
    "    mc_fermions = list()\n",
    "    \n",
    "    # Compute MC for seed=1 to seed=10\n",
    "    for seed in range(1, 11):\n",
    "        J_ij = qrc.hamiltonian.get_coefficients(n_particles, coef_range=[0, 1], seed=seed)\n",
    "        _, _, train_mc, test_mc = qrc_mc.main(\n",
    "            n_particles, dimensions, J_ij, operator, delay, obs_form, wash_time, train_time, test_time, excited_state, dt\n",
    "        )\n",
    "        mc_fermions.append(test_mc)\n",
    "    return np.array(mc_fermions)"
   ]
  },
  {
   "cell_type": "code",
   "execution_count": 12,
   "id": "0614087b",
   "metadata": {},
   "outputs": [
    {
     "name": "stdout",
     "output_type": "stream",
     "text": [
      "Memory capacity for the first 10 seeds with delay=1 is \n",
      " [0.808 0.324 0.89  0.128 0.506 0.995 0.942 0.983 0.989 0.982]\n"
     ]
    }
   ],
   "source": [
    "mc_delay_1 = memory_capacity_fermions(delay=delay) # delay = 1\n",
    "print(f\"Memory capacity for the first 10 seeds with delay={delay} is \\n\", np.around(mc_delay_1, 3))"
   ]
  },
  {
   "cell_type": "markdown",
   "id": "30e6debd",
   "metadata": {},
   "source": [
    "Finally, let us plot the memory capacity for different values of the delay as in Figure 3."
   ]
  },
  {
   "cell_type": "code",
   "execution_count": 14,
   "id": "b79393a1",
   "metadata": {},
   "outputs": [],
   "source": [
    "# It might take a few minuts to run\n",
    "delays = [1, 2, 3, 4, 5, 6, 7, 8]\n",
    "\n",
    "# Computes the median (q2), and the first and thrid quantiles\n",
    "q1_list, q2_list, q3_list = list(), list(), list()\n",
    "for delay in delays:\n",
    "    mc_fermions = memory_capacity_fermions(delay)\n",
    "    q1, q2, q3 = np.quantile(mc_fermions, [0.25, 0.5, 0.75])\n",
    "    \n",
    "    # Store MC values in a list\n",
    "    q1_list.append(q1)\n",
    "    q2_list.append(q2)\n",
    "    q3_list.append(q3)"
   ]
  },
  {
   "cell_type": "code",
   "execution_count": 17,
   "id": "c585a2a4",
   "metadata": {},
   "outputs": [],
   "source": [
    "# Function to plot the results\n",
    "def plot(x, y, fmt=\"o--\", color=\"#1a9641\", error_bars=None):\n",
    "    if not isinstance(error_bars, type(None)):\n",
    "        error = np.abs(error_bars-y)\n",
    "    \n",
    "    tick, _, _ = plt.errorbar(x, y, yerr=error, fmt=fmt, color=\"black\", ecolor=\"black\",\n",
    "                 elinewidth=1, markersize=9, markerfacecolor=\"black\", markeredgecolor=\"black\")\n",
    "    plt.fill_between(x, error_bars[0], error_bars[1], alpha=0.6, color=color)\n",
    "    plt.grid()\n",
    "    background = mpatches.Patch(color=color, alpha=0.6)\n",
    "    return tick, background"
   ]
  },
  {
   "cell_type": "code",
   "execution_count": 19,
   "id": "f4907b7b",
   "metadata": {},
   "outputs": [
    {
     "data": {
      "text/plain": [
       "Text(0.5, 0, 'Delays')"
      ]
     },
     "execution_count": 19,
     "metadata": {},
     "output_type": "execute_result"
    },
    {
     "data": {
      "image/png": "[encoded data removed]",
      "text/plain": [
       "<Figure size 432x288 with 1 Axes>"
      ]
     },
     "metadata": {
      "needs_background": "light"
     },
     "output_type": "display_data"
    }
   ],
   "source": [
    "plot(x=delays, y=q2_list, error_bars=np.array([q1_list, q3_list]))\n",
    "plt.ylabel(\"Memory Capacity\")\n",
    "plt.xlabel(\"Delays\")"
   ]
  },
  {
   "cell_type": "markdown",
   "id": "6bf0afbc",
   "metadata": {},
   "source": [
    "As you can see, a broader sample is needed to obtain smoother results. You can use for instance 100 seeds."
   ]
  },
  {
   "cell_type": "markdown",
   "id": "3f65b338",
   "metadata": {},
   "source": [
    "### Plot data in the repository\n",
    "\n",
    "The data of Figure 3 can be found in the folder `data` of this repository. Notice that for fermions there are 8 folders, each folder corresponds to one value of delay between 1 and 8. Once you have downloaded the data, you will be able to reproduce Figure 3 with the previous two cells."
   ]
  }
 ],
 "metadata": {
  "kernelspec": {
   "display_name": "benchmarking-qrc",
   "language": "python",
   "name": "benchmarking-qrc"
  },
  "language_info": {
   "codemirror_mode": {
    "name": "ipython",
    "version": 3
   },
   "file_extension": ".py",
   "mimetype": "text/x-python",
   "name": "python",
   "nbconvert_exporter": "python",
   "pygments_lexer": "ipython3",
   "version": "3.9.7"
  }
 },
 "nbformat": 4,
 "nbformat_minor": 5
}
