{
 "cells": [
  {
   "cell_type": "markdown",
   "metadata": {},
   "source": [
    "# Hands-on session on Quantum reservoir computing\n",
    "\n",
    "During this lecture we are going to use the library \"benchmarking_qrc\" to learn about quantum reservoir computing. But, we will also use numpy and matplotlib.\n",
    "\n",
    "The goal of this session is to complete 2 exercises.\n",
    "1. Plot the echo state property.\n",
    "2. Evaluate the model performance to recall past inputs."
   ]
  },
  {
   "cell_type": "code",
   "execution_count": 1,
   "metadata": {},
   "outputs": [],
   "source": [
    "# Only for local use\n",
    "import os\n",
    "import sys\n",
    "\n",
    "repo_path = os.path.dirname(os.getcwd())\n",
    "package_path = repo_path + \"/src\"\n",
    "sys.path.append(package_path)"
   ]
  },
  {
   "cell_type": "code",
   "execution_count": 2,
   "metadata": {},
   "outputs": [],
   "source": [
    "from collections import deque\n",
    "\n",
    "import matplotlib.pyplot as plt\n",
    "import numpy as np\n",
    "from scipy.linalg import lstsq\n",
    "\n",
    "import benchmarking_qrc as qrc\n",
    "from benchmarking_qrc import run_memory_capacity as mc\n",
    "\n",
    "def check_solution(solution, exp_solution):\n",
    "    \n",
    "    if solution.shape == exp_solution.shape:\n",
    "        if np.all(solution == exp_solution):\n",
    "            print(\"Correct!\")\n",
    "        else:\n",
    "            print(\"Try again!\")\n",
    "    else:\n",
    "        print(\"Try again!\")"
   ]
  },
  {
   "cell_type": "markdown",
   "metadata": {},
   "source": [
    "### Exercise 0 - Define density matrix and hamiltonian\n",
    "\n",
    "In this first exercise, we will learn to define a quantum state in the density matrix formalism and construct our first hamiltonian.\n",
    "\n",
    "To define the initial state you can use `qrc.reservoir.initial_state(num_sites, dim_site)` or `numpy`."
   ]
  },
  {
   "cell_type": "code",
   "execution_count": 4,
   "metadata": {},
   "outputs": [],
   "source": [
    "def initial_reservoir(num_sites, dim_site):\n",
    "    \"\"\"Density matrix with all states at |0>\n",
    "\n",
    "    Args:\n",
    "        num_sites (int): Number of sites in the system\n",
    "        dim_site (int): Hilbert dimension of each site.\n",
    "    \"\"\"\n",
    "    # Put your code here: Prepare the state |00><00|\n",
    "    return qrc.reservoir.initial_state(num_sites, dim_site)"
   ]
  },
  {
   "cell_type": "code",
   "execution_count": 5,
   "metadata": {},
   "outputs": [
    {
     "name": "stdout",
     "output_type": "stream",
     "text": [
      "Correct!\n"
     ]
    }
   ],
   "source": [
    "num_sites, dim_site = 2, 2\n",
    "solution = initial_reservoir(num_sites, dim_site)\n",
    "exp_solution = np.array([[1, 0, 0, 0], [0]*4, [0]*4, [0]*4])\n",
    "\n",
    "check_solution(solution, exp_solution)"
   ]
  },
  {
   "cell_type": "markdown",
   "metadata": {},
   "source": [
    "Now, we will define the dynamics of the system following this quadratic hamiltonian \n",
    "$$ H = \\sum_{i,j=1}^{N}J_{ij}a_{i}^{\\dagger}a_{j} $$\n",
    "and the evolution operator associated to it: $e^{-iH\\Delta t}$.\n",
    "\n",
    "You can define the $J_{ij}$ coefficients with: \n",
    "- `qrc.hamiltonian.get_coefficients(num_sites, coef_range=[0, 1], seed=1)`.  \n",
    "\n",
    "Define a quadratic hamiltonian with:  \n",
    "- `qrc.hamiltonian.quadratic_op(num_sites, is_bosonic=..., dimensions=..., coefficients=...)`\n",
    "\n",
    "and build the evolution operator with:\n",
    "-  `qrc.hamiltonian.get_evolution_op(hamiltonian, dt=...)`\n"
   ]
  },
  {
   "cell_type": "code",
   "execution_count": 6,
   "metadata": {},
   "outputs": [],
   "source": [
    "def my_hamiltonian(num_sites, dim_site):\n",
    "    \"\"\"Define previous quadratic hamiltonian\n",
    "\n",
    "    Args:\n",
    "        num_sites (int): Number of sites in the system.\n",
    "        dim_site (int): Hilbert dimension of each site.\n",
    "    \"\"\"\n",
    "    # Put your code here: Define J_ij coefficients\n",
    "    J_ij = qrc.hamiltonian.get_coefficients(num_sites, coef_range=[0, 1], seed=1) \n",
    "    \n",
    "    # Put your code here: Define quadratic hamiltonian\n",
    "    return qrc.hamiltonian.quadratic_op(num_sites, is_bosonic=False, dimensions=dim_site, coefficients=J_ij)\n",
    "\n",
    "\n",
    "def evolution_op(hamiltonian, delta_t):\n",
    "    \"\"\"Define the evolution operator related to the previous hamiltonian\n",
    "    and let it evolves for 10 units.\n",
    "\n",
    "    Args:\n",
    "        hamiltonian (np.array): Matrix describing system dynamics.\n",
    "        delta_t (float): Time we let the system evolve.\n",
    "    \"\"\"\n",
    "    # Put your code here: Define evolution operator\n",
    "    return qrc.hamiltonian.get_evolution_op(hamiltonian, dt=delta_t)\n",
    "    \n",
    "    "
   ]
  },
  {
   "cell_type": "code",
   "execution_count": 7,
   "metadata": {},
   "outputs": [
    {
     "name": "stdout",
     "output_type": "stream",
     "text": [
      "Checking solution hamiltonian...\n",
      "Correct!\n",
      "Checking evolution operator...\n",
      "Correct!\n"
     ]
    }
   ],
   "source": [
    "solution_hamiltonian = my_hamiltonian(2, 2)\n",
    "solution_evolution = evolution_op(my_hamiltonian(2, 2), 10)\n",
    "\n",
    "\n",
    "exp_sol_hamiltonian = np.array([\n",
    "    [0.+0.j]*4, \n",
    "    [0.+0.j, 0.72+0.j, 0.+0.j  , 0.+0.j  ], \n",
    "    [0.+0.j, 0.+0.j  , 0.42+0.j, 0.+0.j  ], \n",
    "    [0.+0.j, 0.+0.j  , 0.+0.j  , 1.14+0.j]\n",
    "])\n",
    "exp_sol_evolution = np.array([\n",
    "   [ 1.+0.j, 0.  +0.j ,  0.  +0.j  ,  0.  +0.j  ], \n",
    "   [ 0.+0.j, 0.61-0.8j,  0.  -0.j  ,  0.  +0.j  ],\n",
    "   [ 0.+0.j, 0.  -0.j , -0.52+0.86j,  0.  +0.j  ],\n",
    "   [ 0.+0.j, 0.  +0.j ,  0.  +0.j  ,  0.37+0.93j]\n",
    "])\n",
    "\n",
    "print(\"Checking solution hamiltonian...\")\n",
    "check_solution(np.around(solution_hamiltonian.todense(), 2), exp_sol_hamiltonian)\n",
    "print(\"Checking evolution operator...\")\n",
    "check_solution(np.around(solution_evolution, 2), exp_sol_evolution)\n"
   ]
  },
  {
   "cell_type": "markdown",
   "metadata": {},
   "source": [
    "### Exercise 1 - Echo State Property\n",
    "\n",
    "To avoid any possible effect of the initial conditions of the reservoir we always start with the wash out step before training the system. This step consists in injecting a set of inputs until the initial conditions become irrelevant.\n",
    "\n",
    "So, in this section, you are going to compute how many iterations (wash-out steps) does your system need to wash out the initial conditions.\n",
    "\n",
    "Each iteration have these 3 steps:\n",
    "- Encoding classical data into a quantum state $\\Longrightarrow \\lvert \\psi_k^{(e)} \\rangle$.\n",
    "    - qrc.reservoir.get_input_state(signal, dim, exc_state)\n",
    "    - $ \\lvert \\psi_k^{(e=1)} \\rangle = \\sqrt{s_k}\\lvert 0 \\rangle + \\sqrt{1-s_k}\\lvert 1 \\rangle$\n",
    "- Injecting the quantum state into the reservoir $\\Longrightarrow \\rho(k)$.\n",
    "    - qrc.reservoir.insert_input(input_state, initial_reservoir)\n",
    "    - $ \\rho(k\\Delta t)= \\rho_{1, k}^{(e)} \\otimes {\\rm Tr}_{1}\\left\\{ \\rho\\left(\\left(k-1\\right)\\Delta t\\right)\\right\\} $\n",
    "- Evolving the reservoir $\\Longrightarrow  \\rho(k\\Delta t)$.\n",
    "    - qrc.reservoir.evolve(reservoir, evo_op)\n",
    "    - $ \\rho\\left(k\\Delta t\\right)=e^{-iH\\Delta t}\\left[\\rho_{1,k}^{(e)}\\otimes {\\rm Tr}_{1}\\left\\{ \\rho\\left(\\left(k-1\\right)\\Delta t\\right)\\right\\} \\right]e^{iH\\Delta t} $\n",
    "\n",
    "So, let's start building these 3 functions:\n"
   ]
  },
  {
   "cell_type": "code",
   "execution_count": 8,
   "metadata": {},
   "outputs": [],
   "source": [
    "# Use signal=0.25 to test your solution\n",
    "def get_input_state(signal, dim_site, exc_state=1):\n",
    "    \"\"\"Encode classical data into a superposition state\n",
    "\n",
    "        |ψ> = √s|0> + √1-s|1>\n",
    "\n",
    "    Args:\n",
    "        signal (float): Classical data.\n",
    "        dim_site (int): Hilbert dimension of each site.\n",
    "        exc_state (int): Highest superposition state\n",
    "    \"\"\"\n",
    "    # Put your code here: \n",
    "    return qrc.reservoir.get_input_state(signal, dim_site, exc_state)\n",
    "\n",
    "\n",
    "def inject_state(input_state, reservoir):\n",
    "    \"\"\"Introduce the input state into the reservoir\n",
    "\n",
    "    Args:\n",
    "        input_state (np.array): Classical data in a superposition state.\n",
    "        reservoir (np.array): Current state of the quantum system\n",
    "\n",
    "    \"\"\"\n",
    "    # Put your code here:\n",
    "    return qrc.reservoir.insert_input(input_state, reservoir)\n",
    "\n",
    "\n",
    "def evolve_reservoir(reservoir, evo_op):\n",
    "    \"\"\"Evolve the quantum system following the evolution operator.\n",
    "\n",
    "    Args:\n",
    "        reservoir (np.array): Current state of the quantum system\n",
    "        evo_op (np.array): Evolution operator\n",
    "    \"\"\"\n",
    "    # Put your code here:\n",
    "    return qrc.reservoir.evolve(reservoir, evo_op)"
   ]
  },
  {
   "cell_type": "code",
   "execution_count": 8,
   "metadata": {},
   "outputs": [
    {
     "name": "stdout",
     "output_type": "stream",
     "text": [
      "Checking solution input state...\n",
      "Correct!\n",
      "Checking evolution inject state...\n",
      "Correct!\n",
      "Checking evolution evolve reservoir...\n",
      "Correct!\n"
     ]
    }
   ],
   "source": [
    "# Use signal = 0.25\n",
    "sol_input_state = get_input_state(0.25, dim_site=2)\n",
    "\n",
    "# Inject the previous input and the initial reservoir\n",
    "sol_inject_state = inject_state(sol_input_state, initial_reservoir(2, 2))\n",
    "\n",
    "# Evolve the reservoir with the classical data\n",
    "sol_evolve_reservoir = evolve_reservoir(sol_inject_state, evolution_op(my_hamiltonian(2, 2), 10))\n",
    "\n",
    "\n",
    "exp_input_state = np.array([[np.sqrt(0.25)], [np.sqrt(1-0.25)]])\n",
    "exp_inject_state = np.array([\n",
    "   [ 0.25     , 0.  ,  0.433    ,  0.], \n",
    "   [ 0.       , 0.  ,  0.       ,  0.],\n",
    "   [ 0.433    , 0.  ,  0.75     ,  0.],\n",
    "   [ 0.       , 0.  ,  0.       ,  0.]\n",
    "])\n",
    "exp_evolve_reservoir = np.array([\n",
    "   [ 0.25 +0.j  , 0.  +0.j ,  -0.22-0.37j,  0.  +0.j], \n",
    "   [ 0.   +0.j  , 0.  -0.j,   0.  -0.j   ,   0.  +0.j],\n",
    "   [ -0.22+0.37j, 0.  -0.j ,  0.75+0.j   ,   0.  +0.j],\n",
    "   [ 0.   +0.j  , 0.  +0.j ,  0.  +0.j   ,   0.  +0.j]\n",
    "])\n",
    "\n",
    "print(\"Checking solution input state...\")\n",
    "check_solution(sol_input_state, exp_input_state)\n",
    "print(\"Checking evolution inject state...\")\n",
    "check_solution(np.around(sol_inject_state, 3), exp_inject_state)\n",
    "print(\"Checking evolution evolve reservoir...\")\n",
    "check_solution(np.around(sol_evolve_reservoir, 2), exp_evolve_reservoir)\n",
    "\n",
    "    "
   ]
  },
  {
   "cell_type": "markdown",
   "metadata": {},
   "source": [
    "These 3 steps can be summarized with the following map:\n",
    "\n",
    "$$ \\rho\\left(k\\Delta t\\right)=e^{-iH\\Delta t}\\left[\\rho_{1,k}^{(e)}\\otimes {\\rm Tr}_{1}\\left\\{ \\rho\\left(\\left(k-1\\right)\\Delta t\\right)\\right\\} \\right]e^{iH\\Delta t} $$\n",
    "\n",
    "Now, it will be great if you could buid a new function with the previous functions."
   ]
  },
  {
   "cell_type": "code",
   "execution_count": 9,
   "metadata": {},
   "outputs": [],
   "source": [
    "def cptp_map(signals, ini_reservoir, evo_op, dim_site=2, exc_state=1):\n",
    "    \"\"\"Generates a new reservoir state after completing the 3-step iteration.\n",
    "            1. Encode classical data into a quantum state.\n",
    "            2. Injecting the quantum state into the reservoir.\n",
    "            3. Evolving the reservoir.\n",
    "\n",
    "    Args:\n",
    "        signals (np.array): List of numbers that it is going to be injected into the reservoir.\n",
    "        ini_reservoir (np.array): Initial state of the reservoir\n",
    "        evo_op (np.array): Evolution operator.\n",
    "    \"\"\"\n",
    "    new_reservoir = ini_reservoir\n",
    "    for signal in signals:\n",
    "        # Put your code here:\n",
    "        input_state = get_input_state(signal, dim_site, exc_state)\n",
    "        new_reservoir = inject_state(input_state, new_reservoir)\n",
    "        new_reservoir = evolve_reservoir(new_reservoir, evo_op)\n",
    "        yield new_reservoir"
   ]
  },
  {
   "cell_type": "code",
   "execution_count": 10,
   "metadata": {},
   "outputs": [
    {
     "name": "stdout",
     "output_type": "stream",
     "text": [
      "Checking solution cptp map...\n",
      "Correct!\n"
     ]
    }
   ],
   "source": [
    "# Check solution:\n",
    "sol_cptp_map = list(cptp_map([0.25], initial_reservoir(2, 2), evolution_op(my_hamiltonian(2, 2), 10)))\n",
    "\n",
    "exp_sol_cptp = np.array([\n",
    "   [ 0.25 +0.j  , 0.  +0.j ,  -0.22-0.37j,  0.  +0.j], \n",
    "   [ 0.   +0.j  , 0.  -0.j,   0.  -0.j   ,   0.  +0.j],\n",
    "   [ -0.22+0.37j, 0.  -0.j ,  0.75+0.j   ,   0.  +0.j],\n",
    "   [ 0.   +0.j  , 0.  +0.j ,  0.  +0.j   ,   0.  +0.j]\n",
    "])\n",
    "\n",
    "print(\"Checking solution cptp map...\")\n",
    "check_solution(np.around(sol_cptp_map[0], 2), exp_sol_cptp)\n"
   ]
  },
  {
   "cell_type": "markdown",
   "metadata": {},
   "source": [
    "Finally, let's find how many iterations do you need to erase the initial conditions of the reservoir."
   ]
  },
  {
   "cell_type": "code",
   "execution_count": 11,
   "metadata": {},
   "outputs": [],
   "source": [
    "# Auxiliar functions: Don't forget to run this cell\n",
    "def tensor_product(matrices: list):\n",
    "    if len(matrices) == 2:\n",
    "        return np.kron(matrices[0], matrices[1])\n",
    "    return np.kron(matrices[0], tensor_product(matrices[1:]))\n",
    "\n",
    "\n",
    "def excited_reservoir(num_sites: int, dim_site: int, exc_sites=list()):\n",
    "    \"\"\"By default the reservoir has all sites at |0>, except the sites in \n",
    "    exc_sites found at |1>\n",
    "    \"\"\"\n",
    "    state = np.zeros((dim_site, 1))\n",
    "    state[0, 0] = 1\n",
    "    ground_state = state\n",
    "\n",
    "    state = np.zeros((dim_site, 1))\n",
    "    state[1, 0] = 1\n",
    "    excited_state = state\n",
    "\n",
    "    ground_dm = np.outer(ground_state, ground_state)\n",
    "    excited_dm = np.outer(excited_state, excited_state)\n",
    "\n",
    "    sites_dm = [ground_dm] * num_sites\n",
    "\n",
    "    for site_i in exc_sites:\n",
    "        sites_dm[site_i - 1] = excited_dm\n",
    "\n",
    "    return tensor_product(sites_dm)\n",
    "\n",
    "\n",
    "def convergence(rho_a_generator, rho_b_generator):\n",
    "    distance = list()\n",
    "    for rho_a, rho_b in zip(rho_a_generator, rho_b_generator):\n",
    "        rho = rho_a - rho_b\n",
    "        distance.append(np.linalg.norm(rho, \"fro\"))\n",
    "    return np.array(distance)\n"
   ]
  },
  {
   "cell_type": "markdown",
   "metadata": {},
   "source": [
    "In the following function we will have two reservoirs with different initials conditions:\n",
    "\n",
    "$$\\rho_a = \\lvert 0010\\rangle \\langle 0010 \\lvert $$\n",
    "$$\\rho_b = \\lvert 0001\\rangle \\langle 0001 \\lvert $$\n",
    "\n",
    "Then, we will evolve both reservoirs injecting the same classical data. After each iteration we will measure the Frobenius distance between the reservoir. \n",
    "\n",
    "How many iterations are necessary to erase the initial conditions? \n",
    "- You can answer either numerically or visually with the plot"
   ]
  },
  {
   "cell_type": "code",
   "execution_count": 12,
   "metadata": {},
   "outputs": [],
   "source": [
    "def echo_state_property(signals, num_sites, dim_site, exc_sites_a, exc_sites_b, dt):\n",
    "    \"\"\"Compute the number of iterations needed to erase the initial conditions.\n",
    "\n",
    "    Args:\n",
    "        signals (np.array): List of numbers that it is going to be injected into the reservoir.\n",
    "        num_sites (int): Number of sites in the system.\n",
    "        dim_site (int): Hilbert dimension of each site.\n",
    "        exc_sites_a (list): Sites excited from |0> to |1> for system A\n",
    "        exc_sites_b (list): Sites excited from |0> to |1> for system B\n",
    "        dt (float): Time we let the system evolve\n",
    "    \"\"\"\n",
    "    # Create two initial reservoir: |0010><0010| and |0001><0001|\n",
    "    rho_a = excited_reservoir(num_sites, dim_site, exc_sites_a)\n",
    "    rho_b = excited_reservoir(num_sites, dim_site, exc_sites_b)\n",
    "    \n",
    "    # Put your code here: Compute evolution operator    \n",
    "    hamiltonian = my_hamiltonian(num_sites, dim_site)\n",
    "    evo_op = evolution_op(hamiltonian, dt)\n",
    "    \n",
    "    # Put your code here: Evolve the reservoir state\n",
    "    rho_a_generator = cptp_map(signals, rho_a, evo_op, dim_site=dim_site)\n",
    "    rho_b_generator = cptp_map(signals, rho_b, evo_op, dim_site=dim_site)\n",
    "    \n",
    "    # Measure the Frobenius distance \n",
    "    return convergence(rho_a_generator, rho_b_generator)"
   ]
  },
  {
   "cell_type": "code",
   "execution_count": 13,
   "metadata": {},
   "outputs": [
    {
     "name": "stdout",
     "output_type": "stream",
     "text": [
      "Checking solution echo state property...\n",
      "Correct!\n",
      "\n",
      "Now, you can plot it and try different parameters\n"
     ]
    }
   ],
   "source": [
    "num_iterations = 1000\n",
    "rng_signals = np.random.default_rng(seed=1)\n",
    "signals = rng_signals.uniform(low=0, high=1, size=num_iterations)\n",
    "\n",
    "num_sites = 4\n",
    "exc_sites_a, exc_sites_b  = [3], [4]\n",
    "dt = 10\n",
    "\n",
    "frobenius_norm = echo_state_property(signals, num_sites, 2, exc_sites_a, exc_sites_b, dt)\n",
    "exp_solution = np.array([1.41, 1.32, 1.15, 0.97, 0.82, 0.74, 0.69, 0.65, 0.58, 0.53])\n",
    "print(\"Checking solution echo state property...\")\n",
    "check_solution(np.around(frobenius_norm[:10], 2), exp_solution)\n",
    "print()\n",
    "print(\"Now, you can plot it and try different parameters\")\n"
   ]
  },
  {
   "cell_type": "code",
   "execution_count": 14,
   "metadata": {},
   "outputs": [
    {
     "data": {
      "text/plain": [
       "Text(0, 0.5, 'Frobenius norm')"
      ]
     },
     "execution_count": 14,
     "metadata": {},
     "output_type": "execute_result"
    },
    {
     "data": {
      "image/png": "[encoded data removed]",
      "text/plain": [
       "<Figure size 600x300 with 1 Axes>"
      ]
     },
     "metadata": {},
     "output_type": "display_data"
    }
   ],
   "source": [
    "num_iterations = 1000\n",
    "rng_signals = np.random.default_rng(seed=1)\n",
    "signals = rng_signals.uniform(low=0, high=1, size=num_iterations)\n",
    "\n",
    "# You can modify the following parameters and see if the frobenius norm between system A and B changes.\n",
    "num_sites = 4\n",
    "exc_sites_a = [3]\n",
    "exc_sites_b = [4]\n",
    "dt = 10\n",
    "\n",
    "frobenius_norm = echo_state_property(signals, num_sites, 2, exc_sites_a, exc_sites_b, dt)\n",
    "plt.figure(figsize=(6, 3))\n",
    "plt.plot(frobenius_norm)\n",
    "plt.xlabel(\"Number of iterations\")\n",
    "plt.grid()\n",
    "plt.ylabel(\"Frobenius norm\")\n"
   ]
  },
  {
   "cell_type": "markdown",
   "metadata": {},
   "source": [
    "### Exercise 2 - Evaluate model\n",
    "\n",
    "You will train a quantum system to recall past inputs and evaluate the performance with the memory capacity.\n",
    "\n",
    "Our objective is to quantify how well the quantum system can recover past information. So, we will inject a sequence of random inputs ($s_k$) into the reservoir and the system will be trained to match a target function\n",
    "\n",
    "$$ \\hat{y}_k = s_{k-\\tau}$$\n",
    "\n",
    "where $\\tau$ is the delay between the input and target.\n",
    "\n",
    "<div class=\"alert alert-block alert-info\">\n",
    "    <b>Example:</b>    \n",
    "    \n",
    "Given an input sequence:\n",
    "$$ s = (0.2, 0.3, 0.4, 0.5) $$\n",
    "\n",
    "The target function after a delay, $\\tau=1$ is:\n",
    "\n",
    "$$ \\hat{y} = (0.1, 0.2, 0.3, 0.4) $$\n",
    "\n",
    "But the reservoir after the training procedure may output a different result:\n",
    "\n",
    "$$ y = (0.11, 0.19, 0.3, 0.398) $$\n",
    "</div>\n",
    "\n",
    "Let us introduce the metric to measure the system memory. The memory capacity is a standard measure of memory in recurrent neural network, defined as:\n",
    "\n",
    "$$ MC = \\frac{Cov^2(y,\\hat{y})}{\\sigma^2(y)\\sigma^2(\\hat{y})} $$\n",
    "\n",
    "where $\\sigma(y)$ and $\\sigma(\\hat{y})$ are the standard deviation of the reservoir and target outputs, respectively."
   ]
  },
  {
   "cell_type": "code",
   "execution_count": 15,
   "metadata": {},
   "outputs": [],
   "source": [
    "# Auxiliar functions: Don't forget to run this cell\n",
    "\n",
    "def get_targets(prev_signal, current_signal, delay):\n",
    "    if delay == 0:\n",
    "        target_signal = current_signal\n",
    "    elif delay > 0:\n",
    "        target_signal = np.concatenate((prev_signal[-delay:], current_signal[:-delay]))\n",
    "    \n",
    "    return target_signal"
   ]
  },
  {
   "cell_type": "code",
   "execution_count": 16,
   "metadata": {},
   "outputs": [],
   "source": [
    "# Prepare input data\n",
    "delay = 1\n",
    "wash_time, train_time, test_time = 10, 10, 10\n",
    "\n",
    "rng_signals = np.random.default_rng(seed=1)\n",
    "wash_inputs = rng_signals.uniform(low=0, high=1, size=wash_time)\n",
    "train_inputs = rng_signals.integers(low=0, high=1, size=train_time, endpoint=True)\n",
    "test_inputs = rng_signals.integers(low=0, high=1, size=test_time, endpoint=True)"
   ]
  },
  {
   "cell_type": "markdown",
   "metadata": {},
   "source": [
    "Now, your objective is to prepare the dataset. For that we will follow these steps:\n",
    "1. A wash-out reservoir.\n",
    "2. Generate a set of reservoir that contain the classical.\n",
    "3. Extract information by measuring a set of observables.  \n",
    "    3.1 Build a set of observables. You can use `qrc.measurements.observables(particle_type, num_sites, dim_site, observable_set)`\n",
    "    - In the case we are using particle_type=\"fermion\"\n",
    "    - Observable set is $a^\\dagger_i a_j +h.c.$, so observable_set=\"ij\".\n",
    "4. Collect all of this information in a dataset.\n",
    "    - If you have all reservoirs and all observables you can generate the dataset with `dataset, _ = qrc.measurements.get_features(reservoirs, all_obs)`\n",
    "\n",
    "The dataset is of the form: \n",
    "$$X=\\begin{bmatrix} {\\rm Tr}\\left[O_{1}\\rho\\left(u_1\\Delta t\\right)\\right]  & {\\rm Tr}\\left[O_{2}\\rho\\left(u_1\\Delta t\\right)\\right] & .. & {\\rm Tr}\\left[O_{M}\\rho\\left(u_1\\Delta t\\right)\\right] & 1 \\\\\n",
    "{\\rm Tr}\\left[O_{1}\\rho\\left(u_2\\Delta t\\right)\\right]  & .. & .. & {\\rm Tr}\\left[O_{M}\\rho\\left(u_2\\Delta t\\right)\\right] & 1\\\\ \n",
    ".. & .. & .. & .. & ..\\\\\n",
    "{\\rm Tr}\\left[O_{1}\\rho\\left(u_L\\Delta t\\right)\\right]  & .. & .. & {\\rm Tr}\\left[O_{M}\\rho\\left(u_L\\Delta t\\right)\\right] & 1\n",
    "\\end{bmatrix}$$\n",
    "\n",
    "and has shape $(L, M+1)$ where L are the number of inputs (or iterations) and M are the number of measurements."
   ]
  },
  {
   "cell_type": "code",
   "execution_count": 17,
   "metadata": {},
   "outputs": [],
   "source": [
    "def build_dataset(num_sites, dim_site, dt, signals):\n",
    "    wash_inputs, train_inputs, test_inputs = signals\n",
    "    ini_reservoir = initial_reservoir(num_sites, dim_site)\n",
    "    \n",
    "    hamiltonian = my_hamiltonian(num_sites, dim_site)\n",
    "    evo_op = evolution_op(hamiltonian, dt)\n",
    "    \n",
    "    # Put your code here: Wash-out reservoir\n",
    "    wash_reservoir = deque(cptp_map(wash_inputs, ini_reservoir, evo_op, dim_site=dim_site), maxlen=1).pop()\n",
    "    \n",
    "    inputs = np.concatenate((train_inputs, test_inputs))\n",
    "    # Put your code here: Generate a set of reservoir that contain the inputs.\n",
    "    reservoirs = cptp_map(inputs, wash_reservoir, evo_op, dim_site=dim_site)\n",
    "    \n",
    "    # Put your code here: Build a set of observables\n",
    "    obs = qrc.measurements.observables(\"fermion\", num_sites, dim_site, \"ij\")\n",
    "    \n",
    "    # Put your code here: Build dataset\n",
    "    dataset, _ = qrc.measurements.get_features(reservoirs, obs)\n",
    "    \n",
    "    train_data = dataset[:len(train_inputs), :]\n",
    "    test_data = dataset[len(train_inputs):, :]\n",
    "    \n",
    "    return train_data, test_data"
   ]
  },
  {
   "cell_type": "code",
   "execution_count": 18,
   "metadata": {},
   "outputs": [
    {
     "name": "stdout",
     "output_type": "stream",
     "text": [
      "Correct!\n"
     ]
    }
   ],
   "source": [
    "# Defualt parameters: You can change them, once you pass the test.\n",
    "num_sites = 4\n",
    "dim_site = 2\n",
    "dt = 10\n",
    "\n",
    "signals = (wash_inputs, train_inputs, test_inputs)\n",
    "train_data, test_data = build_dataset(num_sites, dim_site, dt, signals)\n",
    "exp_train_data = np.array([\n",
    "    [0.17, 0.34, 0.12, 0.24, 0.23, 0.04, 0.09, 0.17, 0.41, 0.32, 1.  ],\n",
    "    [0.1 , 0.25, 0.05, 0.11, 0.21, 0.01, 0.03, 0.16, 0.35, 0.24, 1.  ]]\n",
    ")\n",
    "check_solution(np.around(train_data[:2, :], 2), exp_train_data)\n",
    "\n"
   ]
  },
  {
   "cell_type": "markdown",
   "metadata": {},
   "source": [
    "Finally, to evaluate the performance of the model we need to train the system with the train_data ($X_train$) and train targets ($y_train$). Then, we can find the optimal weights\n",
    "\n",
    "$$arg\\min_{W}|\\hat{y}-XW|$$\n",
    "\n",
    "and evaluate the performance\n",
    "\n",
    "$$MC=\\frac{Cov^2(\\hat{y}, y)}{\\sigma^2(\\hat{y})\\sigma^2(y)}.$$\n",
    "\n",
    "You can also use the optimal weights to make predictions on unseen data.\n",
    "$$ y_{prediction}=X_{test}w_{opt}.$$\n"
   ]
  },
  {
   "cell_type": "code",
   "execution_count": 19,
   "metadata": {},
   "outputs": [],
   "source": [
    "# Auxiliar function: Don't forget to run this cell\n",
    "def memory_capacity(predictions, targets):\n",
    "    return (np.corrcoef(predictions, targets)[0, 1]) ** 2"
   ]
  },
  {
   "cell_type": "code",
   "execution_count": 20,
   "metadata": {},
   "outputs": [],
   "source": [
    "def evaluate_performance(num_sites, dim_site, delay, dt, wash_time, train_time, test_time, seed=1):\n",
    "    # Prepare input data\n",
    "    rng_signals = np.random.default_rng(seed=seed)\n",
    "    wash_inputs = rng_signals.uniform(low=0, high=1, size=wash_time)\n",
    "    train_inputs = rng_signals.integers(low=0, high=1, size=train_time, endpoint=True)\n",
    "    test_inputs = rng_signals.integers(low=0, high=1, size=test_time, endpoint=True)\n",
    "\n",
    "    # Targets to measure the ability to recall past inputs\n",
    "    train_targets = get_targets(wash_inputs, train_inputs, delay)\n",
    "    test_targets = get_targets(train_inputs, test_inputs, delay)\n",
    "    \n",
    "    # Generate dataset\n",
    "    signals = (wash_inputs, train_inputs, test_inputs)\n",
    "    # Put your code here: Build dataset \n",
    "    train_data, test_data = build_dataset(num_sites, dim_site, dt, signals)\n",
    "    \n",
    "    # Put your code here: Get optimal weights: Use lstsq from scipy (once you pass the test you can use sklearn and other optimizers)\n",
    "    opt_weights, _, _, _ = lstsq(train_data, train_targets)\n",
    "    \n",
    "    # Put your code here: Get predictions\n",
    "    train_predictions = np.matmul(train_data, opt_weights)\n",
    "    test_predictions = np.matmul(test_data, opt_weights)\n",
    "    \n",
    "    # Put your code here: Evaluate model memory capacity\n",
    "    train_mc = memory_capacity(train_predictions, train_targets)\n",
    "    test_mc = memory_capacity(test_predictions, test_targets)\n",
    "    \n",
    "    return train_mc, test_mc\n"
   ]
  },
  {
   "cell_type": "code",
   "execution_count": 21,
   "metadata": {},
   "outputs": [
    {
     "name": "stdout",
     "output_type": "stream",
     "text": [
      "Correct!\n"
     ]
    }
   ],
   "source": [
    "# Parameters\n",
    "num_sites = 5\n",
    "dt = 10\n",
    "wash_time, train_time, test_time = 10, 10, 10\n",
    "delay = 1\n",
    "\n",
    "train_mc, test_mc = evaluate_performance(num_sites, 2, delay, dt, wash_time, train_time, test_time, seed=2)\n",
    "exp_test_mc = 0.97094\n",
    "if np.around(test_mc, 5) == exp_test_mc:\n",
    "    print(\"Correct!\")\n",
    "else:\n",
    "    print(\"Try again\")"
   ]
  },
  {
   "cell_type": "code",
   "execution_count": 22,
   "metadata": {},
   "outputs": [],
   "source": [
    "# Parameters\n",
    "num_sites = 5\n",
    "dt = 10\n",
    "\n",
    "# Put your code here: Which wash_time, train_time and test_time seems reasonable to you\n",
    "wash_time, train_time, test_time = 1000, 1000, 1000\n",
    "\n",
    "# Put your code here: Make a plot with Performance vs delay\n",
    "delays = [0, 1, 2, 3, 4, 5, 6, 7, 8]\n",
    "train_mcs, test_mcs = list(), list()\n",
    "for delay in delays:\n",
    "    train_mc, test_mc = evaluate_performance(num_sites, 2, delay, dt, wash_time, train_time, test_time, seed=1)\n",
    "    train_mcs.append(train_mc)\n",
    "    test_mcs.append(test_mc)"
   ]
  },
  {
   "cell_type": "code",
   "execution_count": 23,
   "metadata": {},
   "outputs": [
    {
     "data": {
      "text/plain": [
       "<matplotlib.legend.Legend at 0x7f62c4e85340>"
      ]
     },
     "execution_count": 23,
     "metadata": {},
     "output_type": "execute_result"
    },
    {
     "data": {
      "image/png": "[encoded data removed]",
      "text/plain": [
       "<Figure size 500x400 with 1 Axes>"
      ]
     },
     "metadata": {},
     "output_type": "display_data"
    }
   ],
   "source": [
    "# Plot results\n",
    "\n",
    "plt.figure(figsize=(5, 4))\n",
    "plt.plot(delays, train_mcs, \"--o\", label=\"train\")\n",
    "plt.plot(delays, test_mcs, \"--o\", label=\"test\")\n",
    "plt.grid()\n",
    "plt.xlabel(\"Delays\")\n",
    "plt.ylabel(\"Performance\")\n",
    "plt.legend()\n"
   ]
  },
  {
   "cell_type": "markdown",
   "metadata": {},
   "source": [
    "### Exercise 3 - Define your own model\n",
    "\n",
    "Build your own reservoir and evaluate performance.\n",
    "\n",
    "Examples:\n",
    " - Ising model\n",
    " - Bose-Hubbard\n",
    " - Previous hamiltonian with qubits.\n",
    "\n",
    "Have fun and explore!\n",
    "\n",
    "_Recall: If you feel stuck, you can check: hamiltonian.py_"
   ]
  }
 ],
 "metadata": {
  "kernelspec": {
   "display_name": "openfermion",
   "language": "python",
   "name": "python3"
  },
  "language_info": {
   "codemirror_mode": {
    "name": "ipython",
    "version": 3
   },
   "file_extension": ".py",
   "mimetype": "text/x-python",
   "name": "python",
   "nbconvert_exporter": "python",
   "pygments_lexer": "ipython3",
   "version": "3.12.3"
  }
 },
 "nbformat": 4,
 "nbformat_minor": 2
}
