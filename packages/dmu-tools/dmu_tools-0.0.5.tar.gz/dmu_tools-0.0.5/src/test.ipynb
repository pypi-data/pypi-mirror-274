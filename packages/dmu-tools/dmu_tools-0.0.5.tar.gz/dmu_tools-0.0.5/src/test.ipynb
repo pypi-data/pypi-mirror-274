{
 "cells": [
  {
   "cell_type": "code",
   "execution_count": 1,
   "metadata": {},
   "outputs": [
    {
     "data": {
      "text/plain": [
       "<module 'dmu_tools' from '/Users/administrator/work-collection/dmu-tools/src/dmu_tools/__init__.py'>"
      ]
     },
     "execution_count": 1,
     "metadata": {},
     "output_type": "execute_result"
    }
   ],
   "source": [
    "import importlib\n",
    "import dmu_tools\n",
    "importlib.reload(dmu_tools)\n",
    "\n",
    "# dmu_tools.ANALYSE_TESTDAY(dir_sol=\"TSD_FCR_1_SOL\",dir_lst=\"TSD.lst\",dir_data=\"data.txt\",id_index=4,start_day=74,end_day=129)"
   ]
  }
 ],
 "metadata": {
  "kernelspec": {
   "display_name": "Python 3",
   "language": "python",
   "name": "python3"
  },
  "language_info": {
   "codemirror_mode": {
    "name": "ipython",
    "version": 3
   },
   "file_extension": ".py",
   "mimetype": "text/x-python",
   "name": "python",
   "nbconvert_exporter": "python",
   "pygments_lexer": "ipython3",
   "version": "3.9.13"
  }
 },
 "nbformat": 4,
 "nbformat_minor": 2
}
