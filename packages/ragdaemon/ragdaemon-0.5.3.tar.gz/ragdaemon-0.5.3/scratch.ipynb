{
 "cells": [
  {
   "cell_type": "code",
   "execution_count": 1,
   "metadata": {},
   "outputs": [
    {
     "name": "stdout",
     "output_type": "stream",
     "text": [
      "Initialized empty graph.\n",
      "Initializing annotators: ['hierarchy', 'chunker_llm', 'diff']...\n",
      "Saved updated graph to /Users/granthawkins/.mentat/ragdaemon/ragdaemon-ragdaemon.json\n"
     ]
    }
   ],
   "source": [
    "from pathlib import Path\n",
    "from ragdaemon.daemon import Daemon\n",
    "\n",
    "annotators = {\n",
    "    \"hierarchy\": {},\n",
    "    \"chunker_llm\": {},\n",
    "    # \"call_graph\": {},\n",
    "    # \"summarizer\": {},\n",
    "    \"diff\": {},\n",
    "}\n",
    "\n",
    "sample_dir = Path.cwd()\n",
    "daemon = Daemon(\n",
    "    sample_dir, \n",
    "    annotators=annotators, \n",
    "    verbose=True\n",
    ")\n",
    "await daemon.update()"
   ]
  },
  {
   "cell_type": "code",
   "execution_count": 6,
   "metadata": {},
   "outputs": [
    {
     "data": {
      "text/plain": [
       "['ragdaemon/prompts/chunker_llm.toml',\n",
       " 'ragdaemon/annotators/chunker.py',\n",
       " 'tests/data/chunker_graph.json',\n",
       " 'ragdaemon/annotators/chunker.py:Chunker.get_file_chunk_data',\n",
       " 'ragdaemon/prompts/summarizer/chunk.txt',\n",
       " 'tests/annotators/test_chunker.py:test_chunker_llm_annotate',\n",
       " 'ragdaemon/annotators/chunker_line.py',\n",
       " 'tests/annotators/test_chunker_llm.py:expected_chunks',\n",
       " 'tests/annotators/test_chunker.py',\n",
       " 'tests/annotators/test_chunker_llm.py']"
      ]
     },
     "execution_count": 6,
     "metadata": {},
     "output_type": "execute_result"
    }
   ],
   "source": [
    "res = daemon.search(\"chunk\")\n",
    "[r[\"id\"] for r in res[:10]]"
   ]
  },
  {
   "cell_type": "markdown",
   "metadata": {},
   "source": []
  },
  {
   "cell_type": "code",
   "execution_count": 30,
   "metadata": {},
   "outputs": [],
   "source": [
    "response = daemon.db._collection.query(\n",
    "    query_texts=\"fish\",\n",
    "    where={\"active\": True},\n",
    "    n_results=10000,\n",
    "    include=[\"distances\", \"metadatas\"],\n",
    ")"
   ]
  },
  {
   "cell_type": "code",
   "execution_count": 24,
   "metadata": {},
   "outputs": [
    {
     "data": {
      "text/plain": [
       "130"
      ]
     },
     "execution_count": 24,
     "metadata": {},
     "output_type": "execute_result"
    }
   ],
   "source": [
    "len(response[\"ids\"][0])"
   ]
  },
  {
   "cell_type": "code",
   "execution_count": 25,
   "metadata": {},
   "outputs": [],
   "source": [
    "ids = daemon.db._collection.get(include=[])"
   ]
  },
  {
   "cell_type": "code",
   "execution_count": 26,
   "metadata": {},
   "outputs": [
    {
     "data": {
      "text/plain": [
       "44278"
      ]
     },
     "execution_count": 26,
     "metadata": {},
     "output_type": "execute_result"
    }
   ],
   "source": [
    "len(ids[\"ids\"])"
   ]
  },
  {
   "cell_type": "code",
   "execution_count": 29,
   "metadata": {},
   "outputs": [],
   "source": [
    "active = daemon.db._collection.get(where={\"active\": True}, include=[])\n",
    "updates = {\n",
    "    \"ids\": active[\"ids\"],\n",
    "    \"metadatas\": [{\"active\": False} for _ in active[\"ids\"]]\n",
    "}\n",
    "daemon.db._collection.update(**updates)"
   ]
  },
  {
   "cell_type": "code",
   "execution_count": null,
   "metadata": {},
   "outputs": [],
   "source": []
  }
 ],
 "metadata": {
  "kernelspec": {
   "display_name": ".venv",
   "language": "python",
   "name": "python3"
  },
  "language_info": {
   "codemirror_mode": {
    "name": "ipython",
    "version": 3
   },
   "file_extension": ".py",
   "mimetype": "text/x-python",
   "name": "python",
   "nbconvert_exporter": "python",
   "pygments_lexer": "ipython3",
   "version": "3.11.7"
  }
 },
 "nbformat": 4,
 "nbformat_minor": 2
}
