{
 "cells": [
  {
   "cell_type": "code",
   "execution_count": 1,
   "metadata": {},
   "outputs": [
    {
     "name": "stdout",
     "output_type": "stream",
     "text": [
      "Initialized empty graph.\n",
      "Initializing annotators: ['hierarchy', 'chunker_llm', 'call_graph', 'summarizer', 'diff']...\n",
      "No parent node found for pyvista/plotting/charts.py:_Plot.brush\n",
      "No parent node found for pyvista/plotting/charts.py:_Plot.label\n",
      "No parent node found for pyvista/plotting/charts.py:_Plot.toggle\n",
      "No parent node found for pyvista/plotting/charts.py:_Plot.visible\n",
      "No parent node found for pyvista/plotting/charts.py:_Plot.line_width\n",
      "No parent node found for pyvista/plotting/charts.py:_Plot.line_style\n",
      "No parent node found for examples/99-advanced/magnetic-fields.py:pv.Disc\n",
      "No parent node found for examples/99-advanced/magnetic-fields.py:pv.MultiBlock\n",
      "No parent node found for examples/99-advanced/magnetic-fields.py:pv.add_volume\n",
      "Saved updated graph to /Users/granthawkins/.mentat/ragdaemon/ragdaemon-pyvista.json\n"
     ]
    }
   ],
   "source": [
    "from pathlib import Path\n",
    "from ragdaemon.daemon import Daemon\n",
    "\n",
    "annotators = {\n",
    "    \"hierarchy\": {},\n",
    "    \"chunker_llm\": {},\n",
    "    \"call_graph\": {},\n",
    "    \"summarizer\": {},\n",
    "    \"diff\": {},\n",
    "}\n",
    "\n",
    "sample_dir = Path.home() / \"butler\" / \"repos\" / \"pyvista\"\n",
    "daemon = Daemon(\n",
    "    sample_dir, \n",
    "    annotators=annotators, \n",
    "    verbose=True\n",
    ")\n",
    "await daemon.update()"
   ]
  },
  {
   "cell_type": "code",
   "execution_count": 3,
   "metadata": {},
   "outputs": [
    {
     "name": "stderr",
     "output_type": "stream",
     "text": [
      "/var/folders/4b/j8tyy6ss1l536rh9j37ph7440000gn/T/ipykernel_31291/3553014516.py:2: RuntimeWarning: coroutine 'Daemon.locate' was never awaited\n",
      "  files = await daemon.locate(question_text)\n",
      "RuntimeWarning: Enable tracemalloc to get the object allocation traceback\n"
     ]
    },
    {
     "data": {
      "text/plain": [
       "['tests/test_grid.py:test_create_rectilinear_after_init',\n",
       " 'tests/test_grid.py:test_create_rectilinear_grid_from_specs',\n",
       " 'pyvista/core/grid.py:RectilinearGrid.__init__']"
      ]
     },
     "execution_count": 3,
     "metadata": {},
     "output_type": "execute_result"
    }
   ],
   "source": [
    "question_text = \"Rectilinear grid does not allow Sequences as inputs\\n### Describe the bug, what's wrong, and what you expected.\\r\\n\\r\\nRectilinear grid gives an error when `Sequence`s are passed in, but `ndarray` are ok.\\r\\n\\r\\n### Steps to reproduce the bug.\\r\\n\\r\\nThis doesn't work\\r\\n```python\\r\\nimport pyvista as pv\\r\\npv.RectilinearGrid([0, 1], [0, 1], [0, 1])\\r\\n```\\r\\n\\r\\nThis works\\r\\n```py\\r\\nimport pyvista as pv\\r\\nimport numpy as np\\r\\npv.RectilinearGrid(np.ndarray([0, 1]), np.ndarray([0, 1]), np.ndarray([0, 1]))\\r\\n```\\r\\n### System Information\\r\\n\\r\\n```shell\\r\\n--------------------------------------------------------------------------------\\r\\n  Date: Wed Apr 19 20:15:10 2023 UTC\\r\\n\\r\\n                OS : Linux\\r\\n            CPU(s) : 2\\r\\n           Machine : x86_64\\r\\n      Architecture : 64bit\\r\\n       Environment : IPython\\r\\n        GPU Vendor : Mesa/X.org\\r\\n      GPU Renderer : llvmpipe (LLVM 11.0.1, 256 bits)\\r\\n       GPU Version : 4.5 (Core Profile) Mesa 20.3.5\\r\\n\\r\\n  Python 3.11.2 (main, Mar 23 2023, 17:12:29) [GCC 10.2.1 20210110]\\r\\n\\r\\n           pyvista : 0.38.5\\r\\n               vtk : 9.2.6\\r\\n             numpy : 1.24.2\\r\\n           imageio : 2.27.0\\r\\n            scooby : 0.7.1\\r\\n             pooch : v1.7.0\\r\\n        matplotlib : 3.7.1\\r\\n           IPython : 8.12.0\\r\\n--------------------------------------------------------------------------------\\r\\n```\\r\\n\\r\\n\\r\\n### Screenshots\\r\\n\\r\\n_No response_\\n\"\n",
    "files = await daemon.locate(question_text)\n",
    "files"
   ]
  },
  {
   "cell_type": "markdown",
   "metadata": {},
   "source": []
  },
  {
   "cell_type": "code",
   "execution_count": 5,
   "metadata": {},
   "outputs": [
    {
     "name": "stdout",
     "output_type": "stream",
     "text": [
      "Deleting 0 to 10000\n",
      "Deleting 10000 to 20000\n",
      "Deleting 20000 to 30000\n",
      "Deleting 30000 to 40000\n",
      "Deleting 40000 to 50000\n"
     ]
    }
   ],
   "source": [
    "# Batch in units of 10k, and delete\n",
    "ids = response[\"ids\"]\n",
    "for i in range(0, len(ids), 10000):\n",
    "    print(f\"Deleting {i} to {i+10000}\")\n",
    "    daemon.db.delete(ids[i:i+10000])"
   ]
  },
  {
   "cell_type": "code",
   "execution_count": 24,
   "metadata": {},
   "outputs": [
    {
     "data": {
      "text/plain": [
       "130"
      ]
     },
     "execution_count": 24,
     "metadata": {},
     "output_type": "execute_result"
    }
   ],
   "source": [
    "len(response[\"ids\"][0])"
   ]
  },
  {
   "cell_type": "code",
   "execution_count": 25,
   "metadata": {},
   "outputs": [],
   "source": [
    "ids = daemon.db._collection.get(include=[])"
   ]
  },
  {
   "cell_type": "code",
   "execution_count": 26,
   "metadata": {},
   "outputs": [
    {
     "data": {
      "text/plain": [
       "44278"
      ]
     },
     "execution_count": 26,
     "metadata": {},
     "output_type": "execute_result"
    }
   ],
   "source": [
    "len(ids[\"ids\"])"
   ]
  },
  {
   "cell_type": "code",
   "execution_count": 29,
   "metadata": {},
   "outputs": [],
   "source": [
    "active = daemon.db._collection.get(where={\"active\": True}, include=[])\n",
    "updates = {\n",
    "    \"ids\": active[\"ids\"],\n",
    "    \"metadatas\": [{\"active\": False} for _ in active[\"ids\"]]\n",
    "}\n",
    "daemon.db._collection.update(**updates)"
   ]
  },
  {
   "cell_type": "code",
   "execution_count": null,
   "metadata": {},
   "outputs": [],
   "source": [
    "Initialized empty graph.\n",
    "Initializing annotators: ['hierarchy', 'chunker_llm', 'call_graph', 'summarizer', 'diff']...\n",
    "Chunking files...:  85%|████████▍ | 300/354 [00:15<00:12,  4.47it/s]\n",
    "Chunker missed parent pyvista/plotting/render_window_interactor.py:RenderWindowInteracator in file pyvista/plotting/render_window_interactor.py, retrying.\n"
   ]
  }
 ],
 "metadata": {
  "kernelspec": {
   "display_name": ".venv",
   "language": "python",
   "name": "python3"
  },
  "language_info": {
   "codemirror_mode": {
    "name": "ipython",
    "version": 3
   },
   "file_extension": ".py",
   "mimetype": "text/x-python",
   "name": "python",
   "nbconvert_exporter": "python",
   "pygments_lexer": "ipython3",
   "version": "3.11.7"
  }
 },
 "nbformat": 4,
 "nbformat_minor": 2
}
