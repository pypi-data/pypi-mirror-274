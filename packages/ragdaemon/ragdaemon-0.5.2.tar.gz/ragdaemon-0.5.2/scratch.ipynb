{
 "cells": [
  {
   "cell_type": "code",
   "execution_count": 1,
   "metadata": {},
   "outputs": [
    {
     "name": "stdout",
     "output_type": "stream",
     "text": [
      "Initialized empty graph.\n",
      "Initializing annotators: ['hierarchy', 'chunker_llm', 'diff']...\n",
      "Saved updated graph to /Users/granthawkins/.mentat/ragdaemon/ragdaemon-marshmallow.json\n"
     ]
    }
   ],
   "source": [
    "from pathlib import Path\n",
    "from ragdaemon.daemon import Daemon\n",
    "\n",
    "annotators = {\n",
    "    \"hierarchy\": {},\n",
    "    \"chunker_llm\": {},\n",
    "    # \"call_graph\": {},\n",
    "    # \"summarizer\": {},\n",
    "    \"diff\": {},\n",
    "}\n",
    "\n",
    "sample_dir = Path.home() / \"butler\" / \"repos\" / \"marshmallow\"\n",
    "daemon = Daemon(\n",
    "    sample_dir, \n",
    "    annotators=annotators, \n",
    "    verbose=True\n",
    ")\n",
    "await daemon.update()"
   ]
  },
  {
   "cell_type": "code",
   "execution_count": 6,
   "metadata": {},
   "outputs": [
    {
     "data": {
      "text/plain": [
       "<coroutine object Daemon.locate at 0x10f54f810>"
      ]
     },
     "execution_count": 6,
     "metadata": {},
     "output_type": "execute_result"
    }
   ],
   "source": [
    "daemon.locate(\"LICENSE\")"
   ]
  },
  {
   "cell_type": "code",
   "execution_count": 21,
   "metadata": {},
   "outputs": [
    {
     "data": {
      "text/plain": [
       "(981, 128)"
      ]
     },
     "execution_count": 21,
     "metadata": {},
     "output_type": "execute_result"
    }
   ],
   "source": [
    "have = set()\n",
    "missing = set()\n",
    "for r in response:\n",
    "    if r[\"checksum\"] in checksum_index:\n",
    "        have.add(r[\"checksum\"])\n",
    "    else:\n",
    "        missing.add(r[\"checksum\"])\n",
    "len(have), len(missing)"
   ]
  },
  {
   "cell_type": "code",
   "execution_count": 30,
   "metadata": {},
   "outputs": [],
   "source": [
    "response = daemon.db._collection.query(\n",
    "    query_texts=\"fish\",\n",
    "    where={\"active\": True},\n",
    "    n_results=10000,\n",
    "    include=[\"distances\", \"metadatas\"],\n",
    ")"
   ]
  },
  {
   "cell_type": "code",
   "execution_count": 24,
   "metadata": {},
   "outputs": [
    {
     "data": {
      "text/plain": [
       "130"
      ]
     },
     "execution_count": 24,
     "metadata": {},
     "output_type": "execute_result"
    }
   ],
   "source": [
    "len(response[\"ids\"][0])"
   ]
  },
  {
   "cell_type": "code",
   "execution_count": 25,
   "metadata": {},
   "outputs": [],
   "source": [
    "ids = daemon.db._collection.get(include=[])"
   ]
  },
  {
   "cell_type": "code",
   "execution_count": 26,
   "metadata": {},
   "outputs": [
    {
     "data": {
      "text/plain": [
       "44278"
      ]
     },
     "execution_count": 26,
     "metadata": {},
     "output_type": "execute_result"
    }
   ],
   "source": [
    "len(ids[\"ids\"])"
   ]
  },
  {
   "cell_type": "code",
   "execution_count": 29,
   "metadata": {},
   "outputs": [],
   "source": [
    "active = daemon.db._collection.get(where={\"active\": True}, include=[])\n",
    "updates = {\n",
    "    \"ids\": active[\"ids\"],\n",
    "    \"metadatas\": [{\"active\": False} for _ in active[\"ids\"]]\n",
    "}\n",
    "daemon.db._collection.update(**updates)"
   ]
  },
  {
   "cell_type": "code",
   "execution_count": null,
   "metadata": {},
   "outputs": [],
   "source": []
  }
 ],
 "metadata": {
  "kernelspec": {
   "display_name": ".venv",
   "language": "python",
   "name": "python3"
  },
  "language_info": {
   "codemirror_mode": {
    "name": "ipython",
    "version": 3
   },
   "file_extension": ".py",
   "mimetype": "text/x-python",
   "name": "python",
   "nbconvert_exporter": "python",
   "pygments_lexer": "ipython3",
   "version": "3.11.7"
  }
 },
 "nbformat": 4,
 "nbformat_minor": 2
}
